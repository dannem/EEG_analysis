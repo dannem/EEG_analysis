{
 "cells": [
  {
   "cell_type": "code",
   "execution_count": 1,
   "metadata": {},
   "outputs": [],
   "source": [
    "\n",
    "import pandas as pd\n",
    "import mne\n",
    "from mne.stats import linear_regression, fdr_correction\n",
    "from mne.viz import plot_compare_evokeds\n",
    "from mne.datasets import kiloword"
   ]
  },
  {
   "cell_type": "code",
   "execution_count": 2,
   "metadata": {},
   "outputs": [
    {
     "name": "stdout",
     "output_type": "stream",
     "text": [
      "Reading F:\\Analysis\\S02_perc.fif ...\n"
     ]
    },
    {
     "name": "stderr",
     "output_type": "stream",
     "text": [
      "<ipython-input-2-f6f966bbf9bb>:1: RuntimeWarning: This filename (F:\\Analysis\\S02_perc.fif) does not conform to MNE naming conventions. All epochs files should end with -epo.fif, -epo.fif.gz, _epo.fif or _epo.fif.gz\n",
      "  epochs = mne.read_epochs('F:\\Analysis\\S02_perc.fif')\n"
     ]
    },
    {
     "name": "stdout",
     "output_type": "stream",
     "text": [
      "    Found the data of interest:\n",
      "        t =     -99.61 ...    1000.00 ms\n",
      "        0 CTF compensation matrices available\n",
      "4400 matching events found\n",
      "Applying baseline correction (mode: mean)\n",
      "Adding metadata with 4 columns\n",
      "0 projection items activated\n"
     ]
    }
   ],
   "source": [
    "epochs = mne.read_epochs('F:\\Analysis\\S02_perc.fif')"
   ]
  },
  {
   "cell_type": "code",
   "execution_count": 6,
   "metadata": {},
   "outputs": [
    {
     "name": "stdout",
     "output_type": "stream",
     "text": [
      "Converting \"time\" to \"<class 'numpy.int64'>\"...\n"
     ]
    }
   ],
   "source": [
    "%run EEG_auxiliary_module.ipynb\n",
    "df = convert_to_pandas(epochs, 4, 11, average = False, zscore = True, threshold = 3)"
   ]
  },
  {
   "cell_type": "code",
   "execution_count": 8,
   "metadata": {},
   "outputs": [
    {
     "data": {
      "text/html": [
       "<div>\n",
       "<style scoped>\n",
       "    .dataframe tbody tr th:only-of-type {\n",
       "        vertical-align: middle;\n",
       "    }\n",
       "\n",
       "    .dataframe tbody tr th {\n",
       "        vertical-align: top;\n",
       "    }\n",
       "\n",
       "    .dataframe thead tr th {\n",
       "        text-align: left;\n",
       "    }\n",
       "</style>\n",
       "<table border=\"1\" class=\"dataframe\">\n",
       "  <thead>\n",
       "    <tr>\n",
       "      <th>channel</th>\n",
       "      <th>condition</th>\n",
       "      <th>epoch</th>\n",
       "      <th colspan=\"8\" halign=\"left\">Fp1</th>\n",
       "      <th>...</th>\n",
       "      <th colspan=\"7\" halign=\"left\">O2</th>\n",
       "      <th>block</th>\n",
       "      <th>orientation</th>\n",
       "      <th>origin</th>\n",
       "    </tr>\n",
       "    <tr>\n",
       "      <th>time</th>\n",
       "      <th></th>\n",
       "      <th></th>\n",
       "      <th>-100</th>\n",
       "      <th>-98</th>\n",
       "      <th>-96</th>\n",
       "      <th>-94</th>\n",
       "      <th>-92</th>\n",
       "      <th>-90</th>\n",
       "      <th>-88</th>\n",
       "      <th>-86</th>\n",
       "      <th>...</th>\n",
       "      <th>988</th>\n",
       "      <th>990</th>\n",
       "      <th>992</th>\n",
       "      <th>994</th>\n",
       "      <th>996</th>\n",
       "      <th>998</th>\n",
       "      <th>1000</th>\n",
       "      <th></th>\n",
       "      <th></th>\n",
       "      <th></th>\n",
       "    </tr>\n",
       "  </thead>\n",
       "  <tbody>\n",
       "    <tr>\n",
       "      <th>0</th>\n",
       "      <td>101</td>\n",
       "      <td>228</td>\n",
       "      <td>0.298468</td>\n",
       "      <td>0.354326</td>\n",
       "      <td>0.431210</td>\n",
       "      <td>0.515954</td>\n",
       "      <td>0.592703</td>\n",
       "      <td>0.647821</td>\n",
       "      <td>0.673804</td>\n",
       "      <td>0.670770</td>\n",
       "      <td>...</td>\n",
       "      <td>0.030391</td>\n",
       "      <td>-0.027672</td>\n",
       "      <td>-0.095455</td>\n",
       "      <td>-0.178819</td>\n",
       "      <td>-0.280822</td>\n",
       "      <td>-0.400981</td>\n",
       "      <td>-0.535548</td>\n",
       "      <td>1</td>\n",
       "      <td>up</td>\n",
       "      <td>east</td>\n",
       "    </tr>\n",
       "    <tr>\n",
       "      <th>1</th>\n",
       "      <td>101</td>\n",
       "      <td>261</td>\n",
       "      <td>0.401414</td>\n",
       "      <td>0.414633</td>\n",
       "      <td>0.414405</td>\n",
       "      <td>0.378442</td>\n",
       "      <td>0.286066</td>\n",
       "      <td>0.124189</td>\n",
       "      <td>-0.108393</td>\n",
       "      <td>-0.398976</td>\n",
       "      <td>...</td>\n",
       "      <td>-0.062384</td>\n",
       "      <td>-0.035928</td>\n",
       "      <td>0.019381</td>\n",
       "      <td>0.090972</td>\n",
       "      <td>0.162058</td>\n",
       "      <td>0.215281</td>\n",
       "      <td>0.236432</td>\n",
       "      <td>1</td>\n",
       "      <td>up</td>\n",
       "      <td>east</td>\n",
       "    </tr>\n",
       "    <tr>\n",
       "      <th>2</th>\n",
       "      <td>101</td>\n",
       "      <td>310</td>\n",
       "      <td>0.244875</td>\n",
       "      <td>0.252418</td>\n",
       "      <td>0.198205</td>\n",
       "      <td>0.087020</td>\n",
       "      <td>-0.071974</td>\n",
       "      <td>-0.267581</td>\n",
       "      <td>-0.487047</td>\n",
       "      <td>-0.714884</td>\n",
       "      <td>...</td>\n",
       "      <td>0.179743</td>\n",
       "      <td>0.189153</td>\n",
       "      <td>0.177246</td>\n",
       "      <td>0.146790</td>\n",
       "      <td>0.102995</td>\n",
       "      <td>0.052641</td>\n",
       "      <td>0.002577</td>\n",
       "      <td>1</td>\n",
       "      <td>up</td>\n",
       "      <td>east</td>\n",
       "    </tr>\n",
       "    <tr>\n",
       "      <th>3</th>\n",
       "      <td>101</td>\n",
       "      <td>360</td>\n",
       "      <td>0.696429</td>\n",
       "      <td>0.645196</td>\n",
       "      <td>0.604464</td>\n",
       "      <td>0.549122</td>\n",
       "      <td>0.452496</td>\n",
       "      <td>0.294953</td>\n",
       "      <td>0.071208</td>\n",
       "      <td>-0.205403</td>\n",
       "      <td>...</td>\n",
       "      <td>-1.145459</td>\n",
       "      <td>-1.214412</td>\n",
       "      <td>-1.260131</td>\n",
       "      <td>-1.279471</td>\n",
       "      <td>-1.274386</td>\n",
       "      <td>-1.251252</td>\n",
       "      <td>-1.219242</td>\n",
       "      <td>1</td>\n",
       "      <td>up</td>\n",
       "      <td>east</td>\n",
       "    </tr>\n",
       "    <tr>\n",
       "      <th>4</th>\n",
       "      <td>101</td>\n",
       "      <td>607</td>\n",
       "      <td>-0.250263</td>\n",
       "      <td>-0.510022</td>\n",
       "      <td>-0.628879</td>\n",
       "      <td>-0.589514</td>\n",
       "      <td>-0.408110</td>\n",
       "      <td>-0.130695</td>\n",
       "      <td>0.178423</td>\n",
       "      <td>0.452908</td>\n",
       "      <td>...</td>\n",
       "      <td>-0.663848</td>\n",
       "      <td>-0.809275</td>\n",
       "      <td>-0.950565</td>\n",
       "      <td>-1.077763</td>\n",
       "      <td>-1.179477</td>\n",
       "      <td>-1.244768</td>\n",
       "      <td>-1.264911</td>\n",
       "      <td>2</td>\n",
       "      <td>up</td>\n",
       "      <td>east</td>\n",
       "    </tr>\n",
       "  </tbody>\n",
       "</table>\n",
       "<p>5 rows × 36101 columns</p>\n",
       "</div>"
      ],
      "text/plain": [
       "channel condition epoch       Fp1                                          \\\n",
       "time                         -100       -98       -96       -94       -92   \n",
       "0             101   228  0.298468  0.354326  0.431210  0.515954  0.592703   \n",
       "1             101   261  0.401414  0.414633  0.414405  0.378442  0.286066   \n",
       "2             101   310  0.244875  0.252418  0.198205  0.087020 -0.071974   \n",
       "3             101   360  0.696429  0.645196  0.604464  0.549122  0.452496   \n",
       "4             101   607 -0.250263 -0.510022 -0.628879 -0.589514 -0.408110   \n",
       "\n",
       "channel                                ...        O2                      \\\n",
       "time          -90       -88       -86  ...       988       990       992   \n",
       "0        0.647821  0.673804  0.670770  ...  0.030391 -0.027672 -0.095455   \n",
       "1        0.124189 -0.108393 -0.398976  ... -0.062384 -0.035928  0.019381   \n",
       "2       -0.267581 -0.487047 -0.714884  ...  0.179743  0.189153  0.177246   \n",
       "3        0.294953  0.071208 -0.205403  ... -1.145459 -1.214412 -1.260131   \n",
       "4       -0.130695  0.178423  0.452908  ... -0.663848 -0.809275 -0.950565   \n",
       "\n",
       "channel                                         block orientation origin  \n",
       "time          994       996       998      1000                           \n",
       "0       -0.178819 -0.280822 -0.400981 -0.535548     1          up   east  \n",
       "1        0.090972  0.162058  0.215281  0.236432     1          up   east  \n",
       "2        0.146790  0.102995  0.052641  0.002577     1          up   east  \n",
       "3       -1.279471 -1.274386 -1.251252 -1.219242     1          up   east  \n",
       "4       -1.077763 -1.179477 -1.244768 -1.264911     2          up   east  \n",
       "\n",
       "[5 rows x 36101 columns]"
      ]
     },
     "execution_count": 8,
     "metadata": {},
     "output_type": "execute_result"
    }
   ],
   "source": [
    "df.head()"
   ]
  },
  {
   "cell_type": "code",
   "execution_count": 17,
   "metadata": {},
   "outputs": [
    {
     "data": {
      "text/plain": [
       "(4400,)"
      ]
     },
     "execution_count": 17,
     "metadata": {},
     "output_type": "execute_result"
    }
   ],
   "source": [
    "X=df.iloc[:,2:]\n",
    "y=df.iloc[:,0]\n",
    "y.shape"
   ]
  },
  {
   "cell_type": "code",
   "execution_count": null,
   "metadata": {},
   "outputs": [],
   "source": [
    "from sklearn.ensemble import RandomForestClassifier\n",
    "from sklearn.model_selection import train_test_split\n",
    "from sklearn.tree import DecisionTreeClassifier\n",
    "from sklearn.metrics import accuracy_score\n",
    "\n",
    "# Perform a 75% training and 25% test data split\n",
    "X_train, X_test, y_train, y_test = train_test_split(X, y, test_size=0.25, random_state=0)\n",
    "\n",
    "\n",
    "\n",
    "# Instantiate a DecisionTreeClassifier 'dt' with a maximum depth of 6\n",
    "dt = DecisionTreeClassifier(max_depth=6, random_state=4)\n",
    "\n",
    "# Fit dt to the training set\n",
    "dt.fit(X_train, y_train)\n",
    "\n",
    "# Predict test set labels\n",
    "y_pred = dt.predict(X_test)\n",
    "y_scr = dt.score(X_test,y_test)\n",
    "acc = accuracy_score(y_pred, y_test)\n",
    "print(\"Test set accuracy: {:.2f}\".format(acc))\n",
    "print(y_pred[0:5])\n",
    "print(y_scr)"
   ]
  },
  {
   "cell_type": "code",
   "execution_count": null,
   "metadata": {},
   "outputs": [],
   "source": []
  }
 ],
 "metadata": {
  "kernelspec": {
   "display_name": "Python 3",
   "language": "python",
   "name": "python3"
  },
  "language_info": {
   "codemirror_mode": {
    "name": "ipython",
    "version": 3
   },
   "file_extension": ".py",
   "mimetype": "text/x-python",
   "name": "python",
   "nbconvert_exporter": "python",
   "pygments_lexer": "ipython3",
   "version": "3.7.3"
  }
 },
 "nbformat": 4,
 "nbformat_minor": 2
}
