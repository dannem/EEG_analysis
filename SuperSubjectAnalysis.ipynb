{
 "cells": [
  {
   "cell_type": "code",
   "execution_count": 8,
   "metadata": {},
   "outputs": [],
   "source": [
    "%run EEG_auxiliary_module.ipynb\n",
    "%run general_tools.ipynb\n",
    "\n",
    "folder = 'C:/Users/danne/Documents/UofT/FamousRecon'\n",
    "folder = 'D:/Ilya_study/Analysis'\n",
    "import numpy as np\n",
    "import pandas as pd\n",
    "perc_ind=['02','03','04','05','06','07','08','09','10','11','12']\n",
    "imag_ind=['02','03','04','05','06','07','08','09','10','11','12']\n",
    "perc_file=[folder+'/conf_mat_perc_'+ i +'.csv' for i in perc_ind]\n",
    "imag_file=[folder+'/conf_IR_'+ i +'_imag.csv' for i in perc_ind]\n",
    "data = load_multiple_conf_mats(folder, perc_file, imag_file)\n",
    "perc_list = data[0]\n",
    "imag_list = data[1]"
   ]
  },
  {
   "cell_type": "code",
   "execution_count": 9,
   "metadata": {},
   "outputs": [
    {
     "name": "stdout",
     "output_type": "stream",
     "text": [
      "(11, 100, 100)\n",
      "(100, 100)\n"
     ]
    }
   ],
   "source": [
    "new_perc = [df.values for df in perc_list]\n",
    "a = np.array(new_perc)\n",
    "print(a.shape)\n",
    "a = np.mean(a, axis=0)\n",
    "print(a.shape)\n",
    "a = pd.DataFrame(a)\n",
    "perc_list=[]\n",
    "perc_list.append(a)"
   ]
  },
  {
   "cell_type": "code",
   "execution_count": 10,
   "metadata": {},
   "outputs": [
    {
     "name": "stdout",
     "output_type": "stream",
     "text": [
      "(11, 5, 5)\n",
      "(5, 5)\n"
     ]
    }
   ],
   "source": [
    "new_imag = [df.values for df in imag_list]\n",
    "a = np.array(new_imag)\n",
    "print(a.shape)\n",
    "a = np.mean(a, axis=0)\n",
    "print(a.shape)\n",
    "a = pd.DataFrame(a,index=['mcy','sgo','sjo','est','tsw'],columns=['mcy','sgo','sjo','est','tsw'])\n",
    "imag_list=[]\n",
    "imag_list.append(a)"
   ]
  },
  {
   "cell_type": "code",
   "execution_count": 11,
   "metadata": {},
   "outputs": [
    {
     "data": {
      "text/html": [
       "<div>\n",
       "<style scoped>\n",
       "    .dataframe tbody tr th:only-of-type {\n",
       "        vertical-align: middle;\n",
       "    }\n",
       "\n",
       "    .dataframe tbody tr th {\n",
       "        vertical-align: top;\n",
       "    }\n",
       "\n",
       "    .dataframe thead th {\n",
       "        text-align: right;\n",
       "    }\n",
       "</style>\n",
       "<table border=\"1\" class=\"dataframe\">\n",
       "  <thead>\n",
       "    <tr style=\"text-align: right;\">\n",
       "      <th></th>\n",
       "      <th>mcy</th>\n",
       "      <th>sgo</th>\n",
       "      <th>sjo</th>\n",
       "      <th>est</th>\n",
       "      <th>tsw</th>\n",
       "    </tr>\n",
       "  </thead>\n",
       "  <tbody>\n",
       "    <tr>\n",
       "      <th>mcy</th>\n",
       "      <td>0.000000</td>\n",
       "      <td>0.573864</td>\n",
       "      <td>0.647727</td>\n",
       "      <td>0.587121</td>\n",
       "      <td>0.585227</td>\n",
       "    </tr>\n",
       "    <tr>\n",
       "      <th>sgo</th>\n",
       "      <td>0.573864</td>\n",
       "      <td>0.000000</td>\n",
       "      <td>0.560606</td>\n",
       "      <td>0.613636</td>\n",
       "      <td>0.632576</td>\n",
       "    </tr>\n",
       "    <tr>\n",
       "      <th>sjo</th>\n",
       "      <td>0.647727</td>\n",
       "      <td>0.560606</td>\n",
       "      <td>0.000000</td>\n",
       "      <td>0.621212</td>\n",
       "      <td>0.710227</td>\n",
       "    </tr>\n",
       "    <tr>\n",
       "      <th>est</th>\n",
       "      <td>0.587121</td>\n",
       "      <td>0.613636</td>\n",
       "      <td>0.621212</td>\n",
       "      <td>0.000000</td>\n",
       "      <td>0.659091</td>\n",
       "    </tr>\n",
       "    <tr>\n",
       "      <th>tsw</th>\n",
       "      <td>0.585227</td>\n",
       "      <td>0.632576</td>\n",
       "      <td>0.710227</td>\n",
       "      <td>0.659091</td>\n",
       "      <td>0.000000</td>\n",
       "    </tr>\n",
       "  </tbody>\n",
       "</table>\n",
       "</div>"
      ],
      "text/plain": [
       "          mcy       sgo       sjo       est       tsw\n",
       "mcy  0.000000  0.573864  0.647727  0.587121  0.585227\n",
       "sgo  0.573864  0.000000  0.560606  0.613636  0.632576\n",
       "sjo  0.647727  0.560606  0.000000  0.621212  0.710227\n",
       "est  0.587121  0.613636  0.621212  0.000000  0.659091\n",
       "tsw  0.585227  0.632576  0.710227  0.659091  0.000000"
      ]
     },
     "execution_count": 11,
     "metadata": {},
     "output_type": "execute_result"
    }
   ],
   "source": [
    "imag_list[0]"
   ]
  },
  {
   "cell_type": "code",
   "execution_count": 14,
   "metadata": {},
   "outputs": [
    {
     "name": "stdout",
     "output_type": "stream",
     "text": [
      "Correlation between upright percieved and imagary discrimination is 0.03\n",
      "Correlation between inverted percieved and imagary discriminations is 0.00\n",
      "Correlation between imagery and TO 0.11\n",
      "Correlation between upright percieved and TO discriminations is 0.23\n",
      "Correlation between inverted percieved and TO discriminations is 0.23\n",
      "Correlation between unfamiliar upright percieved and TO discriminations is 0.27\n",
      "Correlation between famous upright percieved and TO discriminations is 0.21\n",
      "Correlation between unfamiliar inverted percieved and TO discriminations is 0.19\n",
      "Correlation between famous inverted percieved and TO discriminations is 0.27\n"
     ]
    }
   ],
   "source": [
    "import pdb;\n",
    "import os\n",
    "os.chdir('C:\\\\Users\\\\danne\\\\Dropbox\\\\Programming\\\\Python\\\\Work\\\\EEG_analysis')\n",
    "mat = inter_sub_corr(perc_list[0], imag_list[0])"
   ]
  },
  {
   "cell_type": "code",
   "execution_count": null,
   "metadata": {},
   "outputs": [],
   "source": [
    "os.chdir('C:\\\\Users\\\\danne\\\\Dropbox\\\\Programming\\\\Python\\\\Work\\\\EEG_analysis')"
   ]
  },
  {
   "cell_type": "code",
   "execution_count": 13,
   "metadata": {},
   "outputs": [],
   "source": [
    "def inter_sub_corr(df_perc, df_imag):\n",
    "    from scipy.spatial.distance import pdist, squareform\n",
    "    %run general_tools.ipynb\n",
    "    \n",
    "    im_names = ['mcy','sgo','sjo','est','tsw']\n",
    "    corr_names = ['est','mcy','sjo','sgo','tsw']\n",
    "    pr_names = ['adi','ani','ama','ago','aza','ekl','evu','epo','eiv','ech','ian','jpi','kda',\n",
    "               'kgo','mbo','mbe','ofa','pan','pga','rga','siv','tar','tka','yst','ype','ase',\n",
    "               'aha','ake','cmo','eol','epa','ecl','ero','est','ewa','jla','jal','kpe','kkn',\n",
    "                'kst','mcy','ndo','npo','owi','pcr','rmc','rwi','sjo','sgo','tsw']\n",
    "    \n",
    "    # Theoretical observer:\n",
    "    folder1 = 'C:/Users/danne/Documents/UofT/FamousRecon/set3/east'\n",
    "    folder2 = 'C:/Users/danne/Documents/UofT/FamousRecon/set3/west'\n",
    "    df = pd.concat((image_to_df(folder1),image_to_df(folder2)))\n",
    "    df['origin'] = ['east']*25+['west']*25\n",
    "    conf = squareform(pdist(df.iloc[:,:16428],'euclidean'))\n",
    "    df_to = pd.DataFrame(conf, columns = pr_names, index = pr_names)\n",
    "    #pdb.set_trace()\n",
    "    df_perc.columns = [pr_names*2]\n",
    "    df_perc.index = [pr_names*2]\n",
    "    idx = pd.IndexSlice\n",
    "    df_perc_imag = df_perc.loc[idx[im_names], idx[im_names]]\n",
    "    df_imag = df_imag.reindex(corr_names)\n",
    "    df_imag = df_imag.transpose().reindex(corr_names).transpose()\n",
    "    df_to_imag = df_to.loc[idx[im_names], idx[im_names]]\n",
    "    df_to_imag = df_to_imag.reindex(corr_names)\n",
    "    df_to_imag = df_to_imag.transpose().reindex(corr_names).transpose()\n",
    "    #pdb.set_trace()\n",
    "    # compute correlations\n",
    "    up_corr = np.corrcoef(squareform(df_imag),squareform(df_perc_imag.iloc[:5,:5].values))\n",
    "    print(f'Correlation between upright percieved and imagary discrimination is {up_corr[1,0]:.2f}')\n",
    "    in_corr = np.corrcoef(squareform(df_imag),squareform(df_perc_imag.iloc[-5:,-5:].values))\n",
    "    print(f'Correlation between inverted percieved and imagary discriminations is {in_corr[1,0]:.2f}')\n",
    "\n",
    "    to_imag_corr = np.corrcoef(squareform(df_to_imag),squareform(df_imag.iloc[:5,:5].values))\n",
    "    print(f'Correlation between imagery and TO {to_imag_corr[1,0]:.2f}')\n",
    "\n",
    "\n",
    "    up_perc_to_corr = np.corrcoef(squareform(df_to.values),squareform(df_perc.iloc[:50,:50].values))\n",
    "    print(f'Correlation between upright percieved and TO discriminations is {up_perc_to_corr[1,0]:.2f}')\n",
    "    in_perc_to_corr = np.corrcoef(squareform(df_to.values),squareform(df_perc.iloc[50:100,50:100].values))\n",
    "    print(f'Correlation between inverted percieved and TO discriminations is {in_perc_to_corr[1,0]:.2f}')\n",
    "    up_perc_to_corr_unf = np.corrcoef(squareform(df_to.values[:25,:25]),squareform(df_perc.iloc[:25,:25].values))\n",
    "    print(f'Correlation between unfamiliar upright percieved and TO discriminations is {up_perc_to_corr_unf[1,0]:.2f}')\n",
    "    up_perc_to_corr_fam = np.corrcoef(squareform(df_to.values[25:50,25:50]),squareform(df_perc.iloc[25:50,25:50].values))\n",
    "    print(f'Correlation between famous upright percieved and TO discriminations is {up_perc_to_corr_fam[1,0]:.2f}')\n",
    "\n",
    "    in_perc_to_corr_unf = np.corrcoef(squareform(df_to.values[:25,:25]),squareform(df_perc.iloc[50:75,50:75].values))\n",
    "    print(f'Correlation between unfamiliar inverted percieved and TO discriminations is {in_perc_to_corr_unf[1,0]:.2f}')\n",
    "    in_perc_to_corr_fam = np.corrcoef(squareform(df_to.values[25:50,25:50]),squareform(df_perc.iloc[75:100,75:100].values))\n",
    "    print(f'Correlation between famous inverted percieved and TO discriminations is {in_perc_to_corr_fam[1,0]:.2f}')\n",
    "    return df_perc_imag\n",
    "\n",
    "def load_multiple_conf_mats(folder, perc_file, imag_file):\n",
    "    perc_list=[]\n",
    "    imag_list=[]\n",
    "    for i,j in zip(perc_file,imag_file):\n",
    "        perc_list.append(pd.read_csv(i,header=None))\n",
    "        imag_list.append(pd.read_csv(j, index_col = 0))\n",
    "    return(perc_list,imag_list)\n",
    "\n",
    "def image_to_df(folder, extension = 'tif'):\n",
    "    '''Loads all images in the folder, removes backgrounds and returns a \n",
    "         pandas data frame with column 'names' as file names\n",
    "    Args: \n",
    "    :param folder: the folder with images\n",
    "    :param extension: image extension. Default - tif\n",
    "    '''\n",
    "    \n",
    "    import os\n",
    "    import glob\n",
    "    from PIL import Image\n",
    "    import numpy as np\n",
    "    import pandas as pd\n",
    "\n",
    "    cwd = os.getcwd()\n",
    "    # definig the folder\n",
    "    os.chdir(folder)\n",
    "    # loading images\n",
    "    image_list = []\n",
    "    flList=list(glob.glob('*.'+extension))\n",
    "    flList.sort()\n",
    "    for filename in flList: \n",
    "        im = Image.open(filename)\n",
    "        image_list.append(np.array(im))\n",
    "    data=[]\n",
    "    [data.append(np.array(np.asarray(i)).ravel()) for i in image_list]\n",
    "    data=np.array(data)\n",
    "    mask=np.sum(data,0)==0\n",
    "    data=data[:,np.logical_not(mask)]\n",
    "    feature_num=data.shape[1]\n",
    "    df=pd.DataFrame(data)\n",
    "    df['names']=flList\n",
    "    df.names = df.names.str[:-6]\n",
    "    os.chdir(cwd)\n",
    "    return df"
   ]
  },
  {
   "cell_type": "code",
   "execution_count": null,
   "metadata": {},
   "outputs": [],
   "source": [
    "import numpy as np\n",
    "from PIL import Image\n",
    "im = Image.open('C:/Users/danne/Documents/UofT/FamousRecon/set3/east/agni diko 4.tif')\n",
    "a=np.array(im)\n",
    "type(a)"
   ]
  },
  {
   "cell_type": "code",
   "execution_count": null,
   "metadata": {},
   "outputs": [],
   "source": []
  }
 ],
 "metadata": {
  "kernelspec": {
   "display_name": "Python 3",
   "language": "python",
   "name": "python3"
  },
  "language_info": {
   "codemirror_mode": {
    "name": "ipython",
    "version": 3
   },
   "file_extension": ".py",
   "mimetype": "text/x-python",
   "name": "python",
   "nbconvert_exporter": "python",
   "pygments_lexer": "ipython3",
   "version": "3.7.5"
  }
 },
 "nbformat": 4,
 "nbformat_minor": 2
}
