{
 "cells": [
  {
   "cell_type": "markdown",
   "metadata": {},
   "source": [
    "# Time domain analysis"
   ]
  },
  {
   "cell_type": "code",
   "execution_count": 3,
   "metadata": {},
   "outputs": [
    {
     "data": {
      "text/plain": [
       "(16, 20, 100, 100, 564)"
      ]
     },
     "execution_count": 3,
     "metadata": {},
     "output_type": "execute_result"
    }
   ],
   "source": [
    "import numpy as np\n",
    "import pandas as pd\n",
    "loaded = np.load('C:\\\\Users\\\\danne\\\\Documents\\\\UofT\\\\Discrimination\\\\time_perc.npz')\n",
    "temp = loaded['results']\n",
    "temp = np.squeeze(np.nanmean(temp, axis=1))\n",
    "temp.shape"
   ]
  },
  {
   "cell_type": "code",
   "execution_count": 24,
   "metadata": {},
   "outputs": [
    {
     "name": "stderr",
     "output_type": "stream",
     "text": [
      "C:\\Users\\danne\\Anaconda3\\lib\\site-packages\\ipykernel_launcher.py:1: RuntimeWarning: Mean of empty slice\n",
      "  \"\"\"Entry point for launching an IPython kernel.\n",
      "C:\\Users\\danne\\Anaconda3\\lib\\site-packages\\ipykernel_launcher.py:2: RuntimeWarning: Mean of empty slice\n",
      "  \n"
     ]
    }
   ],
   "source": [
    "a = np.nanmean(temp,axis=0)[:25,:25,:]\n",
    "b = np.nanmean(temp,axis=0)[25:50,25:50,:]\n",
    "a = np.squeeze(np.nanmean(a,axis=(0,1)))\n",
    "b = np.squeeze(np.nanmean(b,axis=(0,1)))"
   ]
  },
  {
   "cell_type": "code",
   "execution_count": 26,
   "metadata": {},
   "outputs": [
    {
     "data": {
      "text/plain": [
       "<matplotlib.legend.Legend at 0x19697ab9fc8>"
      ]
     },
     "execution_count": 26,
     "metadata": {},
     "output_type": "execute_result"
    },
    {
     "data": {
      "image/png": "[encoded data removed]",
      "text/plain": [
       "<Figure size 432x288 with 1 Axes>"
      ]
     },
     "metadata": {
      "needs_background": "light"
     },
     "output_type": "display_data"
    }
   ],
   "source": [
    "import matplotlib.pyplot as plt\n",
    "%matplotlib inline\n",
    "plt.subplot(211)\n",
    "plt.plot(np.linspace(-100,1001,564), np.squeeze(a), label='unfamiliar')\n",
    "plt.plot(np.linspace(-100,1001,564), np.squeeze(b), label='famous')\n",
    "plt.xlim((-100, 1000))\n",
    "plt.ylabel('Euclidean distance', fontsize=12)\n",
    "plt.legend(loc = 'lower right')"
   ]
  },
  {
   "cell_type": "code",
   "execution_count": null,
   "metadata": {},
   "outputs": [],
   "source": []
  },
  {
   "cell_type": "code",
   "execution_count": null,
   "metadata": {},
   "outputs": [],
   "source": [
    "import discr_inverted as di\n",
    "%run general_tools.ipynb\n",
    "%run EEG_auxiliary_module.ipynb\n",
    "infolder, outfolder = find_folder()\n",
    "trigs=list(range(101, 151))+list(range(201, 251))\n",
    "#trigs=list(range(101, 151))\n",
    "event_ids={str(x):x for x in trigs}\n",
    "im_times=(-0.1,1)\n",
    "filt=(0.01,45)\n",
    "subs = [2]\n",
    "np.random.seed(10)\n",
    "n_perm = 20  # number of permutations\n",
    "n_pseudo = 11  # number of pseudo-trials\n",
    "results = di.compute_combined(infolder, subs, filt, im_times, event_ids, n_perm, n_pseudo)\n",
    "    \n",
    "    "
   ]
  },
  {
   "cell_type": "markdown",
   "metadata": {},
   "source": [
    "# Importing compressed files"
   ]
  },
  {
   "cell_type": "code",
   "execution_count": 8,
   "metadata": {},
   "outputs": [
    {
     "name": "stderr",
     "output_type": "stream",
     "text": [
      "C:\\Users\\danne\\Anaconda3\\envs\\eeg_analysis\\lib\\site-packages\\ipykernel_launcher.py:5: RuntimeWarning: Mean of empty slice\n",
      "  \"\"\"\n"
     ]
    },
    {
     "data": {
      "text/html": [
       "<div>\n",
       "<style scoped>\n",
       "    .dataframe tbody tr th:only-of-type {\n",
       "        vertical-align: middle;\n",
       "    }\n",
       "\n",
       "    .dataframe tbody tr th {\n",
       "        vertical-align: top;\n",
       "    }\n",
       "\n",
       "    .dataframe thead th {\n",
       "        text-align: right;\n",
       "    }\n",
       "</style>\n",
       "<table border=\"1\" class=\"dataframe\">\n",
       "  <thead>\n",
       "    <tr style=\"text-align: right;\">\n",
       "      <th></th>\n",
       "      <th>0</th>\n",
       "      <th>1</th>\n",
       "      <th>2</th>\n",
       "      <th>3</th>\n",
       "      <th>4</th>\n",
       "      <th>5</th>\n",
       "      <th>6</th>\n",
       "      <th>7</th>\n",
       "      <th>8</th>\n",
       "      <th>9</th>\n",
       "      <th>...</th>\n",
       "      <th>90</th>\n",
       "      <th>91</th>\n",
       "      <th>92</th>\n",
       "      <th>93</th>\n",
       "      <th>94</th>\n",
       "      <th>95</th>\n",
       "      <th>96</th>\n",
       "      <th>97</th>\n",
       "      <th>98</th>\n",
       "      <th>99</th>\n",
       "    </tr>\n",
       "  </thead>\n",
       "  <tbody>\n",
       "    <tr>\n",
       "      <th>0</th>\n",
       "      <td>NaN</td>\n",
       "      <td>0.369685</td>\n",
       "      <td>0.400576</td>\n",
       "      <td>0.455236</td>\n",
       "      <td>0.414388</td>\n",
       "      <td>0.456362</td>\n",
       "      <td>0.458469</td>\n",
       "      <td>0.474345</td>\n",
       "      <td>0.409874</td>\n",
       "      <td>0.437071</td>\n",
       "      <td>...</td>\n",
       "      <td>0.644610</td>\n",
       "      <td>0.619243</td>\n",
       "      <td>0.619380</td>\n",
       "      <td>0.611177</td>\n",
       "      <td>0.616011</td>\n",
       "      <td>0.638521</td>\n",
       "      <td>0.621384</td>\n",
       "      <td>0.648751</td>\n",
       "      <td>0.654416</td>\n",
       "      <td>0.645167</td>\n",
       "    </tr>\n",
       "    <tr>\n",
       "      <th>1</th>\n",
       "      <td>NaN</td>\n",
       "      <td>NaN</td>\n",
       "      <td>0.383191</td>\n",
       "      <td>0.396159</td>\n",
       "      <td>0.414168</td>\n",
       "      <td>0.436088</td>\n",
       "      <td>0.440137</td>\n",
       "      <td>0.450841</td>\n",
       "      <td>0.378934</td>\n",
       "      <td>0.391149</td>\n",
       "      <td>...</td>\n",
       "      <td>0.620916</td>\n",
       "      <td>0.592378</td>\n",
       "      <td>0.596091</td>\n",
       "      <td>0.587946</td>\n",
       "      <td>0.589196</td>\n",
       "      <td>0.611327</td>\n",
       "      <td>0.602493</td>\n",
       "      <td>0.620123</td>\n",
       "      <td>0.618518</td>\n",
       "      <td>0.629415</td>\n",
       "    </tr>\n",
       "    <tr>\n",
       "      <th>2</th>\n",
       "      <td>NaN</td>\n",
       "      <td>NaN</td>\n",
       "      <td>NaN</td>\n",
       "      <td>0.408048</td>\n",
       "      <td>0.422170</td>\n",
       "      <td>0.448836</td>\n",
       "      <td>0.432905</td>\n",
       "      <td>0.450176</td>\n",
       "      <td>0.400993</td>\n",
       "      <td>0.410474</td>\n",
       "      <td>...</td>\n",
       "      <td>0.638146</td>\n",
       "      <td>0.617627</td>\n",
       "      <td>0.619090</td>\n",
       "      <td>0.609959</td>\n",
       "      <td>0.600963</td>\n",
       "      <td>0.624342</td>\n",
       "      <td>0.623935</td>\n",
       "      <td>0.647649</td>\n",
       "      <td>0.641124</td>\n",
       "      <td>0.637426</td>\n",
       "    </tr>\n",
       "    <tr>\n",
       "      <th>3</th>\n",
       "      <td>NaN</td>\n",
       "      <td>NaN</td>\n",
       "      <td>NaN</td>\n",
       "      <td>NaN</td>\n",
       "      <td>0.438722</td>\n",
       "      <td>0.436563</td>\n",
       "      <td>0.446202</td>\n",
       "      <td>0.465324</td>\n",
       "      <td>0.400912</td>\n",
       "      <td>0.400037</td>\n",
       "      <td>...</td>\n",
       "      <td>0.621273</td>\n",
       "      <td>0.604500</td>\n",
       "      <td>0.612634</td>\n",
       "      <td>0.603743</td>\n",
       "      <td>0.593616</td>\n",
       "      <td>0.624306</td>\n",
       "      <td>0.622250</td>\n",
       "      <td>0.638010</td>\n",
       "      <td>0.626023</td>\n",
       "      <td>0.618914</td>\n",
       "    </tr>\n",
       "    <tr>\n",
       "      <th>4</th>\n",
       "      <td>NaN</td>\n",
       "      <td>NaN</td>\n",
       "      <td>NaN</td>\n",
       "      <td>NaN</td>\n",
       "      <td>NaN</td>\n",
       "      <td>0.365545</td>\n",
       "      <td>0.404565</td>\n",
       "      <td>0.411473</td>\n",
       "      <td>0.361072</td>\n",
       "      <td>0.402807</td>\n",
       "      <td>...</td>\n",
       "      <td>0.582509</td>\n",
       "      <td>0.547162</td>\n",
       "      <td>0.541418</td>\n",
       "      <td>0.554009</td>\n",
       "      <td>0.540979</td>\n",
       "      <td>0.555893</td>\n",
       "      <td>0.553383</td>\n",
       "      <td>0.554396</td>\n",
       "      <td>0.564226</td>\n",
       "      <td>0.571885</td>\n",
       "    </tr>\n",
       "    <tr>\n",
       "      <th>...</th>\n",
       "      <td>...</td>\n",
       "      <td>...</td>\n",
       "      <td>...</td>\n",
       "      <td>...</td>\n",
       "      <td>...</td>\n",
       "      <td>...</td>\n",
       "      <td>...</td>\n",
       "      <td>...</td>\n",
       "      <td>...</td>\n",
       "      <td>...</td>\n",
       "      <td>...</td>\n",
       "      <td>...</td>\n",
       "      <td>...</td>\n",
       "      <td>...</td>\n",
       "      <td>...</td>\n",
       "      <td>...</td>\n",
       "      <td>...</td>\n",
       "      <td>...</td>\n",
       "      <td>...</td>\n",
       "      <td>...</td>\n",
       "      <td>...</td>\n",
       "    </tr>\n",
       "    <tr>\n",
       "      <th>95</th>\n",
       "      <td>NaN</td>\n",
       "      <td>NaN</td>\n",
       "      <td>NaN</td>\n",
       "      <td>NaN</td>\n",
       "      <td>NaN</td>\n",
       "      <td>NaN</td>\n",
       "      <td>NaN</td>\n",
       "      <td>NaN</td>\n",
       "      <td>NaN</td>\n",
       "      <td>NaN</td>\n",
       "      <td>...</td>\n",
       "      <td>NaN</td>\n",
       "      <td>NaN</td>\n",
       "      <td>NaN</td>\n",
       "      <td>NaN</td>\n",
       "      <td>NaN</td>\n",
       "      <td>NaN</td>\n",
       "      <td>0.276154</td>\n",
       "      <td>0.265639</td>\n",
       "      <td>0.295465</td>\n",
       "      <td>0.292698</td>\n",
       "    </tr>\n",
       "    <tr>\n",
       "      <th>96</th>\n",
       "      <td>NaN</td>\n",
       "      <td>NaN</td>\n",
       "      <td>NaN</td>\n",
       "      <td>NaN</td>\n",
       "      <td>NaN</td>\n",
       "      <td>NaN</td>\n",
       "      <td>NaN</td>\n",
       "      <td>NaN</td>\n",
       "      <td>NaN</td>\n",
       "      <td>NaN</td>\n",
       "      <td>...</td>\n",
       "      <td>NaN</td>\n",
       "      <td>NaN</td>\n",
       "      <td>NaN</td>\n",
       "      <td>NaN</td>\n",
       "      <td>NaN</td>\n",
       "      <td>NaN</td>\n",
       "      <td>NaN</td>\n",
       "      <td>0.233880</td>\n",
       "      <td>0.260473</td>\n",
       "      <td>0.274870</td>\n",
       "    </tr>\n",
       "    <tr>\n",
       "      <th>97</th>\n",
       "      <td>NaN</td>\n",
       "      <td>NaN</td>\n",
       "      <td>NaN</td>\n",
       "      <td>NaN</td>\n",
       "      <td>NaN</td>\n",
       "      <td>NaN</td>\n",
       "      <td>NaN</td>\n",
       "      <td>NaN</td>\n",
       "      <td>NaN</td>\n",
       "      <td>NaN</td>\n",
       "      <td>...</td>\n",
       "      <td>NaN</td>\n",
       "      <td>NaN</td>\n",
       "      <td>NaN</td>\n",
       "      <td>NaN</td>\n",
       "      <td>NaN</td>\n",
       "      <td>NaN</td>\n",
       "      <td>NaN</td>\n",
       "      <td>NaN</td>\n",
       "      <td>0.220480</td>\n",
       "      <td>0.240336</td>\n",
       "    </tr>\n",
       "    <tr>\n",
       "      <th>98</th>\n",
       "      <td>NaN</td>\n",
       "      <td>NaN</td>\n",
       "      <td>NaN</td>\n",
       "      <td>NaN</td>\n",
       "      <td>NaN</td>\n",
       "      <td>NaN</td>\n",
       "      <td>NaN</td>\n",
       "      <td>NaN</td>\n",
       "      <td>NaN</td>\n",
       "      <td>NaN</td>\n",
       "      <td>...</td>\n",
       "      <td>NaN</td>\n",
       "      <td>NaN</td>\n",
       "      <td>NaN</td>\n",
       "      <td>NaN</td>\n",
       "      <td>NaN</td>\n",
       "      <td>NaN</td>\n",
       "      <td>NaN</td>\n",
       "      <td>NaN</td>\n",
       "      <td>NaN</td>\n",
       "      <td>0.242490</td>\n",
       "    </tr>\n",
       "    <tr>\n",
       "      <th>99</th>\n",
       "      <td>NaN</td>\n",
       "      <td>NaN</td>\n",
       "      <td>NaN</td>\n",
       "      <td>NaN</td>\n",
       "      <td>NaN</td>\n",
       "      <td>NaN</td>\n",
       "      <td>NaN</td>\n",
       "      <td>NaN</td>\n",
       "      <td>NaN</td>\n",
       "      <td>NaN</td>\n",
       "      <td>...</td>\n",
       "      <td>NaN</td>\n",
       "      <td>NaN</td>\n",
       "      <td>NaN</td>\n",
       "      <td>NaN</td>\n",
       "      <td>NaN</td>\n",
       "      <td>NaN</td>\n",
       "      <td>NaN</td>\n",
       "      <td>NaN</td>\n",
       "      <td>NaN</td>\n",
       "      <td>NaN</td>\n",
       "    </tr>\n",
       "  </tbody>\n",
       "</table>\n",
       "<p>100 rows × 100 columns</p>\n",
       "</div>"
      ],
      "text/plain": [
       "    0         1         2         3         4         5         6         7   \\\n",
       "0  NaN  0.369685  0.400576  0.455236  0.414388  0.456362  0.458469  0.474345   \n",
       "1  NaN       NaN  0.383191  0.396159  0.414168  0.436088  0.440137  0.450841   \n",
       "2  NaN       NaN       NaN  0.408048  0.422170  0.448836  0.432905  0.450176   \n",
       "3  NaN       NaN       NaN       NaN  0.438722  0.436563  0.446202  0.465324   \n",
       "4  NaN       NaN       NaN       NaN       NaN  0.365545  0.404565  0.411473   \n",
       "..  ..       ...       ...       ...       ...       ...       ...       ...   \n",
       "95 NaN       NaN       NaN       NaN       NaN       NaN       NaN       NaN   \n",
       "96 NaN       NaN       NaN       NaN       NaN       NaN       NaN       NaN   \n",
       "97 NaN       NaN       NaN       NaN       NaN       NaN       NaN       NaN   \n",
       "98 NaN       NaN       NaN       NaN       NaN       NaN       NaN       NaN   \n",
       "99 NaN       NaN       NaN       NaN       NaN       NaN       NaN       NaN   \n",
       "\n",
       "          8         9   ...        90        91        92        93        94  \\\n",
       "0   0.409874  0.437071  ...  0.644610  0.619243  0.619380  0.611177  0.616011   \n",
       "1   0.378934  0.391149  ...  0.620916  0.592378  0.596091  0.587946  0.589196   \n",
       "2   0.400993  0.410474  ...  0.638146  0.617627  0.619090  0.609959  0.600963   \n",
       "3   0.400912  0.400037  ...  0.621273  0.604500  0.612634  0.603743  0.593616   \n",
       "4   0.361072  0.402807  ...  0.582509  0.547162  0.541418  0.554009  0.540979   \n",
       "..       ...       ...  ...       ...       ...       ...       ...       ...   \n",
       "95       NaN       NaN  ...       NaN       NaN       NaN       NaN       NaN   \n",
       "96       NaN       NaN  ...       NaN       NaN       NaN       NaN       NaN   \n",
       "97       NaN       NaN  ...       NaN       NaN       NaN       NaN       NaN   \n",
       "98       NaN       NaN  ...       NaN       NaN       NaN       NaN       NaN   \n",
       "99       NaN       NaN  ...       NaN       NaN       NaN       NaN       NaN   \n",
       "\n",
       "          95        96        97        98        99  \n",
       "0   0.638521  0.621384  0.648751  0.654416  0.645167  \n",
       "1   0.611327  0.602493  0.620123  0.618518  0.629415  \n",
       "2   0.624342  0.623935  0.647649  0.641124  0.637426  \n",
       "3   0.624306  0.622250  0.638010  0.626023  0.618914  \n",
       "4   0.555893  0.553383  0.554396  0.564226  0.571885  \n",
       "..       ...       ...       ...       ...       ...  \n",
       "95       NaN  0.276154  0.265639  0.295465  0.292698  \n",
       "96       NaN       NaN  0.233880  0.260473  0.274870  \n",
       "97       NaN       NaN       NaN  0.220480  0.240336  \n",
       "98       NaN       NaN       NaN       NaN  0.242490  \n",
       "99       NaN       NaN       NaN       NaN       NaN  \n",
       "\n",
       "[100 rows x 100 columns]"
      ]
     },
     "execution_count": 8,
     "metadata": {},
     "output_type": "execute_result"
    }
   ],
   "source": [
    "import numpy as np\n",
    "import pandas as pd\n",
    "loaded = np.load('pearson_no_cv.npz')\n",
    "temp = loaded['result_ec']\n",
    "temp = np.nanmean(temp, axis=(0,1))\n",
    "a = pd.DataFrame(temp)\n",
    "a"
   ]
  },
  {
   "cell_type": "code",
   "execution_count": 2,
   "metadata": {},
   "outputs": [
    {
     "data": {
      "text/plain": [
       "(17, 20, 100, 100)"
      ]
     },
     "execution_count": 2,
     "metadata": {},
     "output_type": "execute_result"
    }
   ],
   "source": [
    "import numpy as np\n",
    "import pandas as pd\n",
    "loaded = np.load('pearson_no_cv.npz')\n",
    "temp = loaded['result_ec']\n",
    "temp.shape"
   ]
  },
  {
   "cell_type": "code",
   "execution_count": null,
   "metadata": {},
   "outputs": [],
   "source": [
    "import numpy as np\n",
    "loaded = np.load('temp.npz')\n",
    "temp = loaded['results']\n",
    "temp = np.nanmean(temp, axis=1)\n",
    "temp.shape\n",
    "for i in range(temp.shape[0]):\n",
    "    print(np.nanmean(temp[i,:25,:25]))\n",
    "    "
   ]
  },
  {
   "cell_type": "code",
   "execution_count": null,
   "metadata": {},
   "outputs": [],
   "source": [
    "import numpy as np\n",
    "loaded = np.load('temp.npz')\n",
    "temp1 = loaded['results']\n",
    "loaded = np.load('temp2.npz')\n",
    "temp3 = loaded['results']\n",
    "loaded = np.load('temp1.npz')\n",
    "temp2 = loaded['results']\n",
    "combine_data = np.concatenate((temp1, temp2, temp3), axis=0)\n",
    "combine_data.shape\n",
    "np.savez_compressed('combined',results=combine_data)"
   ]
  },
  {
   "cell_type": "code",
   "execution_count": null,
   "metadata": {},
   "outputs": [],
   "source": [
    "import numpy as np\n",
    "loaded = np.load('temp.npz')\n",
    "temp = loaded['results']\n",
    "temp.shape"
   ]
  },
  {
   "cell_type": "code",
   "execution_count": 165,
   "metadata": {},
   "outputs": [
    {
     "name": "stdout",
     "output_type": "stream",
     "text": [
      "Extracting EDF parameters from E:\\Ilya_study\\Data\\IR_02_S01.bdf...\n",
      "BDF file detected\n",
      "Setting channel info structure...\n",
      "Creating raw.info structure...\n",
      "Reading 0 ... 3385855  =      0.000 ...  6612.998 secs...\n",
      "Filtering raw data in 1 contiguous segment\n",
      "Setting up band-pass filter from 0.01 - 45 Hz\n",
      "\n",
      "IIR filter parameters\n",
      "---------------------\n",
      "Butterworth bandpass zero-phase (two-pass forward and reverse) non-causal filter:\n",
      "- Filter order 16 (effective, after forward-backward)\n",
      "- Cutoffs at 0.01, 45.00 Hz: -6.02, -6.02 dB\n",
      "\n",
      "2500 matching events found\n",
      "Applying baseline correction (mode: mean)\n",
      "Not setting metadata\n",
      "0 projection items activated\n",
      "Loading data for 2500 events and 564 original time points ...\n",
      "0 bad epochs dropped\n",
      "Extracting EDF parameters from E:\\Ilya_study\\Data\\IR_02_S02.bdf...\n",
      "BDF file detected\n",
      "Setting channel info structure...\n",
      "Creating raw.info structure...\n",
      "Reading 0 ... 2043391  =      0.000 ...  3990.998 secs...\n",
      "Filtering raw data in 1 contiguous segment\n",
      "Setting up band-pass filter from 0.01 - 45 Hz\n",
      "\n",
      "IIR filter parameters\n",
      "---------------------\n",
      "Butterworth bandpass zero-phase (two-pass forward and reverse) non-causal filter:\n",
      "- Filter order 16 (effective, after forward-backward)\n",
      "- Cutoffs at 0.01, 45.00 Hz: -6.02, -6.02 dB\n",
      "\n",
      "1519 matching events found\n",
      "Applying baseline correction (mode: mean)\n",
      "Not setting metadata\n",
      "0 projection items activated\n",
      "Loading data for 1519 events and 564 original time points ...\n",
      "0 bad epochs dropped\n",
      "3819 matching events found\n",
      "Applying baseline correction (mode: mean)\n",
      "Not setting metadata\n",
      "0 bad epochs dropped\n",
      "Dropped 219 epochs\n",
      "\tPermutation 1 / 20\n",
      "\tPermutation 2 / 20\n",
      "\tPermutation 3 / 20\n",
      "\tPermutation 4 / 20\n",
      "\tPermutation 5 / 20\n",
      "\tPermutation 6 / 20\n",
      "\tPermutation 7 / 20\n",
      "\tPermutation 8 / 20\n",
      "\tPermutation 9 / 20\n",
      "\tPermutation 10 / 20\n",
      "\tPermutation 11 / 20\n",
      "\tPermutation 12 / 20\n",
      "\tPermutation 13 / 20\n",
      "\tPermutation 14 / 20\n",
      "\tPermutation 15 / 20\n",
      "\tPermutation 16 / 20\n",
      "\tPermutation 17 / 20\n",
      "\tPermutation 18 / 20\n",
      "\tPermutation 19 / 20\n",
      "\tPermutation 20 / 20\n"
     ]
    },
    {
     "name": "stderr",
     "output_type": "stream",
     "text": [
      "C:\\Users\\danne\\Documents\\Codes\\EEG_analysis\\discr_inverted.py:792: RuntimeWarning: Mean of empty slice\n",
      "  a = np.nanmean(result,axis=0)[:50,:50,:]\n"
     ]
    },
    {
     "name": "stdout",
     "output_type": "stream",
     "text": [
      "0.037168837747865106\n"
     ]
    }
   ],
   "source": [
    "import discr_inverted as di\n",
    "import numpy as np\n",
    "infolder = 'E:\\Ilya_study\\Data'\n",
    "trigs=list(range(101, 151))+list(range(201, 251))\n",
    "event_ids={str(x):x for x in trigs}\n",
    "im_times=(-0.1,1)\n",
    "filt=(0.01,45)\n",
    "subs = [2,3,4,5,6,7,8,9,10,11,12,13,14,15,16,17,18]\n",
    "subs = [2]\n",
    "np.random.seed(10)\n",
    "n_perm = 20  # number of permutations\n",
    "n_pseudo = 11  # number of pseudo-trials\n",
    "results = di.compute_time(infolder, subs, filt, im_times, event_ids, n_perm, n_pseudo)"
   ]
  },
  {
   "cell_type": "code",
   "execution_count": null,
   "metadata": {},
   "outputs": [],
   "source": [
    "%run general_tools.ipynb\n",
    "import\n",
    "infolder, outfolder = find_folder()\n",
    "trigs=list(range(101, 151))+list(range(201, 251))\n",
    "#trigs=list(range(101, 151))\n",
    "event_ids={str(x):x for x in trigs}\n",
    "im_times=(-0.1,1)\n",
    "filt=(0.03,200)\n",
    "subs = [2,3,4,5,6,7,8,9,10,11,12,13,14,15,16,17,18]\n",
    "subs = [18]\n",
    "np.random.seed(10)\n",
    "n_perm = 20  # number of permutations\n",
    "n_pseudo = 11  # number of pseudo-trials\n",
    "results = compute_time(infolder, subs, filt, im_times, event_ids)"
   ]
  },
  {
   "cell_type": "code",
   "execution_count": 11,
   "metadata": {},
   "outputs": [
    {
     "name": "stdout",
     "output_type": "stream",
     "text": [
      "Progress: [--------------------] 0.0%\n",
      "Extracting EDF parameters from E:\\Ilya_study\\Data\\IR_02_S01.bdf...\n",
      "BDF file detected\n",
      "Setting channel info structure...\n",
      "Creating raw.info structure...\n",
      "Reading 0 ... 3385855  =      0.000 ...  6612.998 secs...\n",
      "Filtering raw data in 1 contiguous segment\n",
      "Setting up band-pass filter from 0.03 - 2e+02 Hz\n",
      "\n",
      "IIR filter parameters\n",
      "---------------------\n",
      "Butterworth bandpass zero-phase (two-pass forward and reverse) non-causal filter:\n",
      "- Filter order 16 (effective, after forward-backward)\n",
      "- Cutoffs at 0.03, 200.00 Hz: -6.02, -6.02 dB\n",
      "\n",
      "2500 matching events found\n",
      "Applying baseline correction (mode: mean)\n",
      "Not setting metadata\n",
      "0 projection items activated\n",
      "Loading data for 2500 events and 564 original time points ...\n",
      "0 bad epochs dropped\n",
      "Extracting EDF parameters from E:\\Ilya_study\\Data\\IR_02_S02.bdf...\n",
      "BDF file detected\n",
      "Setting channel info structure...\n",
      "Creating raw.info structure...\n",
      "Reading 0 ... 2043391  =      0.000 ...  3990.998 secs...\n",
      "Filtering raw data in 1 contiguous segment\n",
      "Setting up band-pass filter from 0.03 - 2e+02 Hz\n",
      "\n",
      "IIR filter parameters\n",
      "---------------------\n",
      "Butterworth bandpass zero-phase (two-pass forward and reverse) non-causal filter:\n",
      "- Filter order 16 (effective, after forward-backward)\n",
      "- Cutoffs at 0.03, 200.00 Hz: -6.02, -6.02 dB\n",
      "\n",
      "1519 matching events found\n",
      "Applying baseline correction (mode: mean)\n",
      "Not setting metadata\n",
      "0 projection items activated\n",
      "Loading data for 1519 events and 564 original time points ...\n",
      "0 bad epochs dropped\n",
      "3819 matching events found\n",
      "Applying baseline correction (mode: mean)\n",
      "Not setting metadata\n",
      "0 bad epochs dropped\n",
      "Dropped 219 epochs\n",
      "\tPermutation 1 / 20\n",
      "\tPermutation 2 / 20\n"
     ]
    },
    {
     "ename": "KeyboardInterrupt",
     "evalue": "",
     "output_type": "error",
     "traceback": [
      "\u001b[1;31m---------------------------------------------------------------------------\u001b[0m",
      "\u001b[1;31mKeyboardInterrupt\u001b[0m                         Traceback (most recent call last)",
      "\u001b[1;32m<ipython-input-11-431bff71a7f2>\u001b[0m in \u001b[0;36m<module>\u001b[1;34m\u001b[0m\n\u001b[0;32m     74\u001b[0m                             \u001b[0mdata_train\u001b[0m \u001b[1;33m=\u001b[0m \u001b[0mXpseudo_train\u001b[0m\u001b[1;33m[\u001b[0m\u001b[0mcv\u001b[0m\u001b[1;33m.\u001b[0m\u001b[0mind_pseudo_train\u001b[0m\u001b[1;33m[\u001b[0m\u001b[0mc1\u001b[0m\u001b[1;33m,\u001b[0m \u001b[0mc2\u001b[0m\u001b[1;33m]\u001b[0m\u001b[1;33m,\u001b[0m \u001b[1;33m:\u001b[0m\u001b[1;33m,\u001b[0m \u001b[1;33m:\u001b[0m\u001b[1;33m]\u001b[0m\u001b[1;33m\u001b[0m\u001b[1;33m\u001b[0m\u001b[0m\n\u001b[0;32m     75\u001b[0m                             \u001b[0mdata_train\u001b[0m \u001b[1;33m=\u001b[0m \u001b[0mnp\u001b[0m\u001b[1;33m.\u001b[0m\u001b[0mreshape\u001b[0m\u001b[1;33m(\u001b[0m\u001b[0mdata_train\u001b[0m\u001b[1;33m,\u001b[0m \u001b[1;33m(\u001b[0m\u001b[0mdata_train\u001b[0m\u001b[1;33m.\u001b[0m\u001b[0mshape\u001b[0m\u001b[1;33m[\u001b[0m\u001b[1;36m0\u001b[0m\u001b[1;33m]\u001b[0m\u001b[1;33m,\u001b[0m \u001b[0mdata_train\u001b[0m\u001b[1;33m.\u001b[0m\u001b[0mshape\u001b[0m\u001b[1;33m[\u001b[0m\u001b[1;36m1\u001b[0m\u001b[1;33m]\u001b[0m\u001b[1;33m*\u001b[0m\u001b[0mdata_train\u001b[0m\u001b[1;33m.\u001b[0m\u001b[0mshape\u001b[0m\u001b[1;33m[\u001b[0m\u001b[1;36m2\u001b[0m\u001b[1;33m]\u001b[0m\u001b[1;33m)\u001b[0m\u001b[1;33m,\u001b[0m \u001b[0morder\u001b[0m\u001b[1;33m=\u001b[0m\u001b[1;34m'F'\u001b[0m\u001b[1;33m)\u001b[0m\u001b[1;33m\u001b[0m\u001b[1;33m\u001b[0m\u001b[0m\n\u001b[1;32m---> 76\u001b[1;33m                             \u001b[0msvm\u001b[0m\u001b[1;33m.\u001b[0m\u001b[0mfit\u001b[0m\u001b[1;33m(\u001b[0m\u001b[0mdata_train\u001b[0m\u001b[1;33m,\u001b[0m \u001b[0mcv\u001b[0m\u001b[1;33m.\u001b[0m\u001b[0mlabels_pseudo_train\u001b[0m\u001b[1;33m[\u001b[0m\u001b[0mc1\u001b[0m\u001b[1;33m,\u001b[0m \u001b[0mc2\u001b[0m\u001b[1;33m]\u001b[0m\u001b[1;33m)\u001b[0m\u001b[1;33m\u001b[0m\u001b[1;33m\u001b[0m\u001b[0m\n\u001b[0m\u001b[0;32m     77\u001b[0m \u001b[1;33m\u001b[0m\u001b[0m\n\u001b[0;32m     78\u001b[0m                             \u001b[1;31m# 4. Compute and store classification accuracies\u001b[0m\u001b[1;33m\u001b[0m\u001b[1;33m\u001b[0m\u001b[1;33m\u001b[0m\u001b[0m\n",
      "\u001b[1;32m~\\Anaconda3\\envs\\eeg_analysis\\lib\\site-packages\\sklearn\\svm\\base.py\u001b[0m in \u001b[0;36mfit\u001b[1;34m(self, X, y, sample_weight)\u001b[0m\n\u001b[0;32m    207\u001b[0m \u001b[1;33m\u001b[0m\u001b[0m\n\u001b[0;32m    208\u001b[0m         \u001b[0mseed\u001b[0m \u001b[1;33m=\u001b[0m \u001b[0mrnd\u001b[0m\u001b[1;33m.\u001b[0m\u001b[0mrandint\u001b[0m\u001b[1;33m(\u001b[0m\u001b[0mnp\u001b[0m\u001b[1;33m.\u001b[0m\u001b[0miinfo\u001b[0m\u001b[1;33m(\u001b[0m\u001b[1;34m'i'\u001b[0m\u001b[1;33m)\u001b[0m\u001b[1;33m.\u001b[0m\u001b[0mmax\u001b[0m\u001b[1;33m)\u001b[0m\u001b[1;33m\u001b[0m\u001b[1;33m\u001b[0m\u001b[0m\n\u001b[1;32m--> 209\u001b[1;33m         \u001b[0mfit\u001b[0m\u001b[1;33m(\u001b[0m\u001b[0mX\u001b[0m\u001b[1;33m,\u001b[0m \u001b[0my\u001b[0m\u001b[1;33m,\u001b[0m \u001b[0msample_weight\u001b[0m\u001b[1;33m,\u001b[0m \u001b[0msolver_type\u001b[0m\u001b[1;33m,\u001b[0m \u001b[0mkernel\u001b[0m\u001b[1;33m,\u001b[0m \u001b[0mrandom_seed\u001b[0m\u001b[1;33m=\u001b[0m\u001b[0mseed\u001b[0m\u001b[1;33m)\u001b[0m\u001b[1;33m\u001b[0m\u001b[1;33m\u001b[0m\u001b[0m\n\u001b[0m\u001b[0;32m    210\u001b[0m         \u001b[1;31m# see comment on the other call to np.iinfo in this file\u001b[0m\u001b[1;33m\u001b[0m\u001b[1;33m\u001b[0m\u001b[1;33m\u001b[0m\u001b[0m\n\u001b[0;32m    211\u001b[0m \u001b[1;33m\u001b[0m\u001b[0m\n",
      "\u001b[1;32m~\\Anaconda3\\envs\\eeg_analysis\\lib\\site-packages\\sklearn\\svm\\base.py\u001b[0m in \u001b[0;36m_dense_fit\u001b[1;34m(self, X, y, sample_weight, solver_type, kernel, random_seed)\u001b[0m\n\u001b[0;32m    266\u001b[0m                 \u001b[0mcache_size\u001b[0m\u001b[1;33m=\u001b[0m\u001b[0mself\u001b[0m\u001b[1;33m.\u001b[0m\u001b[0mcache_size\u001b[0m\u001b[1;33m,\u001b[0m \u001b[0mcoef0\u001b[0m\u001b[1;33m=\u001b[0m\u001b[0mself\u001b[0m\u001b[1;33m.\u001b[0m\u001b[0mcoef0\u001b[0m\u001b[1;33m,\u001b[0m\u001b[1;33m\u001b[0m\u001b[1;33m\u001b[0m\u001b[0m\n\u001b[0;32m    267\u001b[0m                 \u001b[0mgamma\u001b[0m\u001b[1;33m=\u001b[0m\u001b[0mself\u001b[0m\u001b[1;33m.\u001b[0m\u001b[0m_gamma\u001b[0m\u001b[1;33m,\u001b[0m \u001b[0mepsilon\u001b[0m\u001b[1;33m=\u001b[0m\u001b[0mself\u001b[0m\u001b[1;33m.\u001b[0m\u001b[0mepsilon\u001b[0m\u001b[1;33m,\u001b[0m\u001b[1;33m\u001b[0m\u001b[1;33m\u001b[0m\u001b[0m\n\u001b[1;32m--> 268\u001b[1;33m                 max_iter=self.max_iter, random_seed=random_seed)\n\u001b[0m\u001b[0;32m    269\u001b[0m \u001b[1;33m\u001b[0m\u001b[0m\n\u001b[0;32m    270\u001b[0m         \u001b[0mself\u001b[0m\u001b[1;33m.\u001b[0m\u001b[0m_warn_from_fit_status\u001b[0m\u001b[1;33m(\u001b[0m\u001b[1;33m)\u001b[0m\u001b[1;33m\u001b[0m\u001b[1;33m\u001b[0m\u001b[0m\n",
      "\u001b[1;31mKeyboardInterrupt\u001b[0m: "
     ]
    }
   ],
   "source": [
    "%run general_tools.ipynb\n",
    "%run EEG_auxiliary_module.ipynb\n",
    "%run make_features.ipynb\n",
    "from pathlib import Path, PurePath\n",
    "import numpy as np\n",
    "import mne\n",
    "from mne.time_frequency import tfr_morlet, psd_multitaper, psd_welch\n",
    "import os\n",
    "import scipy\n",
    "from sklearn.discriminant_analysis import _cov\n",
    "from sklearn.svm import SVC\n",
    "from sklearn.naive_bayes import GaussianNB\n",
    "np.random.seed(10)\n",
    "\n",
    "pick_ch=['P9','P7','P5','P3','PO7','PO3','O1','P10','P8','P6','P4','PO8','PO4','O2','POz','Pz']\n",
    "#pick_ch=['PO8','PO7']\n",
    "\n",
    "infolder, outfolder = find_folder()\n",
    "trigs=list(range(101, 151))+list(range(201, 251))\n",
    "#trigs=list(range(101, 151))\n",
    "event_ids={str(x):x for x in trigs}\n",
    "im_times=(-0.1,1)\n",
    "filt=(0.03,200)\n",
    "subs = [3,4,5,6,7,8,9,10,11,12,13,14,15,16,17,18]\n",
    "subs = [2]\n",
    "\n",
    "n_perm = 20  # number of permutations\n",
    "n_pseudo = 11  # number of pseudo-trials\n",
    "\n",
    "svm = SVC(kernel='linear')\n",
    "CV = ShuffleBinLeaveOneOut\n",
    "\n",
    "out = list()\n",
    "for i,sub in enumerate(subs):\n",
    "    update_progress(i/len(subs))\n",
    "    fnames = [infolder+'\\\\IR_'+str(sub).zfill(2)+'_S01.bdf',infolder+'\\\\IR_'+str(sub).zfill(2)+'_S02.bdf']\n",
    "    epochs = load_to_epochs_perc(fnames, event_ids, im_times, filt)\n",
    "    epochs.drop_channels(['Status']).equalize_event_counts(event_ids=event_ids, method='mintime')\n",
    "    X = epochs.get_data()\n",
    "    y = epochs.events[:, 2]\n",
    "    y = [a-101 if a<200 else a-151 for a in y]\n",
    "    n_conditions = len(np.unique(y))\n",
    "    n_sensors = X.shape[1]\n",
    "    n_time = X.shape[2]\n",
    "    cv = CV(y, n_iter=n_perm, n_pseudo=n_pseudo)\n",
    "    result = np.full((n_perm, n_conditions, n_conditions), np.nan)\n",
    "    for f, (train_indices, test_indices) in enumerate(cv.split(X)):\n",
    "                print('\\tPermutation %g / %g' % (f + 1, n_perm))\n",
    "\n",
    "                # 1. Compute pseudo-trials for training and test\n",
    "                Xpseudo_train = np.full((len(train_indices), n_sensors, n_time), np.nan)\n",
    "                Xpseudo_test = np.full((len(test_indices), n_sensors, n_time), np.nan)\n",
    "                for i, ind in enumerate(train_indices):\n",
    "                    Xpseudo_train[i, :, :] = np.mean(X[ind, :, :], axis=0)\n",
    "                for i, ind in enumerate(test_indices):\n",
    "                    Xpseudo_test[i, :, :] = np.mean(X[ind, :, :], axis=0)\n",
    "\n",
    "\n",
    "                # 2. Whitening using the Epoch method\n",
    "                sigma_conditions = cv.labels_pseudo_train[0, :, n_pseudo-1:].flatten()\n",
    "                sigma_ = np.empty((n_conditions, n_sensors, n_sensors))\n",
    "                for k,c in enumerate(np.unique(y)):\n",
    "                    # compute sigma for each time point, then average across time\n",
    "                    sigma_[k] = np.mean([_cov(Xpseudo_train[sigma_conditions==c, :, t], shrinkage='auto')\n",
    "                                         for t in range(n_time)], axis=0)\n",
    "                sigma = sigma_.mean(axis=0)  # average across conditions\n",
    "                sigma_inv = scipy.linalg.fractional_matrix_power(sigma, -0.5)\n",
    "                Xpseudo_train = (Xpseudo_train.swapaxes(1, 2) @ sigma_inv).swapaxes(1, 2)\n",
    "                Xpseudo_test = (Xpseudo_test.swapaxes(1, 2) @ sigma_inv).swapaxes(1, 2)\n",
    "\n",
    "                for c1 in range(n_conditions-1):\n",
    "                    for c2 in range(min(c1 + 1, n_conditions-1), n_conditions):\n",
    "                            # 3. Fit the classifier using training data\n",
    "                            data_train = Xpseudo_train[cv.ind_pseudo_train[c1, c2], :, :]\n",
    "                            data_train = np.reshape(data_train, (data_train.shape[0], data_train.shape[1]*data_train.shape[2]), order='F')\n",
    "                            svm.fit(data_train, cv.labels_pseudo_train[c1, c2])                            \n",
    "\n",
    "                            # 4. Compute and store classification accuracies\n",
    "                            data_test = Xpseudo_test[cv.ind_pseudo_test[c1, c2], :, :]\n",
    "                            data_test = np.reshape(data_test, (data_test.shape[0], data_test.shape[1]*data_test.shape[2]), order='F')\n",
    "                            result[f, c1, c2] = np.mean(svm.predict(data_test) == cv.labels_pseudo_test[c1, c2]) - 0.5                            \n",
    "\n",
    "        # average across permutations\n",
    "    out.append(result)\n",
    "    from scipy.spatial.distance import squareform\n",
    "    a = np.nanmean(result,axis=0)[:50,:50]\n",
    "    np.nanmean(a)"
   ]
  },
  {
   "cell_type": "code",
   "execution_count": null,
   "metadata": {},
   "outputs": [],
   "source": []
  },
  {
   "cell_type": "markdown",
   "metadata": {},
   "source": [
    "# Distance analysis"
   ]
  },
  {
   "cell_type": "markdown",
   "metadata": {},
   "source": [
    "## No CV"
   ]
  },
  {
   "cell_type": "code",
   "execution_count": 10,
   "metadata": {},
   "outputs": [
    {
     "name": "stdout",
     "output_type": "stream",
     "text": [
      "Progress: [###################-] 94.1%\n",
      "Extracting EDF parameters from E:\\Ilya_study\\Data\\IR_18_S01.bdf...\n",
      "BDF file detected\n",
      "Setting channel info structure...\n",
      "Creating raw.info structure...\n",
      "Reading 0 ... 3393023  =      0.000 ...  6626.998 secs...\n",
      "Filtering raw data in 1 contiguous segment\n",
      "Setting up band-pass filter from 0.01 - 45 Hz\n",
      "\n",
      "IIR filter parameters\n",
      "---------------------\n",
      "Butterworth bandpass zero-phase (two-pass forward and reverse) non-causal filter:\n",
      "- Filter order 16 (effective, after forward-backward)\n",
      "- Cutoffs at 0.01, 45.00 Hz: -6.02, -6.02 dB\n",
      "\n",
      "2500 matching events found\n",
      "Applying baseline correction (mode: mean)\n",
      "Not setting metadata\n",
      "0 projection items activated\n",
      "Loading data for 2500 events and 564 original time points ...\n",
      "0 bad epochs dropped\n",
      "Extracting EDF parameters from E:\\Ilya_study\\Data\\IR_18_S02.bdf...\n",
      "BDF file detected\n",
      "Setting channel info structure...\n",
      "Creating raw.info structure...\n",
      "Reading 0 ... 3389951  =      0.000 ...  6620.998 secs...\n",
      "Filtering raw data in 1 contiguous segment\n",
      "Setting up band-pass filter from 0.01 - 45 Hz\n",
      "\n",
      "IIR filter parameters\n",
      "---------------------\n",
      "Butterworth bandpass zero-phase (two-pass forward and reverse) non-causal filter:\n",
      "- Filter order 16 (effective, after forward-backward)\n",
      "- Cutoffs at 0.01, 45.00 Hz: -6.02, -6.02 dB\n",
      "\n",
      "2500 matching events found\n",
      "Applying baseline correction (mode: mean)\n",
      "Not setting metadata\n",
      "0 projection items activated\n",
      "Loading data for 2500 events and 564 original time points ...\n",
      "0 bad epochs dropped\n",
      "4800 matching events found\n",
      "Applying baseline correction (mode: mean)\n",
      "Not setting metadata\n",
      "0 bad epochs dropped\n",
      "Dropped 0 epochs\n",
      "\tPermutation 1 / 20\n",
      "\tPermutation 2 / 20\n",
      "\tPermutation 3 / 20\n",
      "\tPermutation 4 / 20\n",
      "\tPermutation 5 / 20\n",
      "\tPermutation 6 / 20\n",
      "\tPermutation 7 / 20\n",
      "\tPermutation 8 / 20\n",
      "\tPermutation 9 / 20\n",
      "\tPermutation 10 / 20\n",
      "\tPermutation 11 / 20\n",
      "\tPermutation 12 / 20\n",
      "\tPermutation 13 / 20\n",
      "\tPermutation 14 / 20\n",
      "\tPermutation 15 / 20\n",
      "\tPermutation 16 / 20\n",
      "\tPermutation 17 / 20\n",
      "\tPermutation 18 / 20\n",
      "\tPermutation 19 / 20\n",
      "\tPermutation 20 / 20\n"
     ]
    }
   ],
   "source": [
    "%run general_tools.ipynb\n",
    "%run EEG_auxiliary_module.ipynb\n",
    "from pathlib import Path, PurePath\n",
    "import numpy as np\n",
    "import mne\n",
    "import scipy\n",
    "from sklearn.discriminant_analysis import _cov\n",
    "from sklearn.svm import SVC\n",
    "from dissimilarity import Euclidean2, CvEuclidean2, Pearson, CvPearson\n",
    "from cv import ShuffleBinLeaveOneOut, ShuffleBin\n",
    "np.random.seed(10)\n",
    "\n",
    "\n",
    "infolder, outfolder = find_folder()\n",
    "trigs=list(range(101, 151))+list(range(201, 251))\n",
    "#trigs=list(range(101, 151))\n",
    "event_ids={str(x):x for x in trigs}\n",
    "im_times=(-0.1,1)\n",
    "filt=(0.01,45)\n",
    "subs = [2,3,4,5,6,7,8,9,10,11,12,13,14,15,16,17,18]\n",
    "\n",
    "n_perm = 20  # number of permutations\n",
    "\n",
    "ec = Euclidean2()\n",
    "ec_cv = CvEuclidean2()\n",
    "ps = Pearson()\n",
    "ps_cv = CvPearson()\n",
    "\n",
    "svm = SVC(kernel='linear')\n",
    "\n",
    "out = list()\n",
    "for i,sub in enumerate(subs):\n",
    "    if i==0:\n",
    "        n_pseudo = 11\n",
    "    else: \n",
    "        n_pseudo = 12\n",
    "        \n",
    "    update_progress(i/len(subs))\n",
    "    fnames = [infolder+'\\\\IR_'+str(sub).zfill(2)+'_S01.bdf',infolder+'\\\\IR_'+str(sub).zfill(2)+'_S02.bdf']\n",
    "    epochs = load_to_epochs_perc(fnames, event_ids, im_times, filt)\n",
    "    epochs.drop_channels(['Status']).equalize_event_counts(event_ids=event_ids, method='mintime')\n",
    "    X = epochs.get_data()\n",
    "    y = epochs.events[:, 2]\n",
    "    y = [a-101 if a<200 else a-151 for a in y]\n",
    "    cv = ShuffleBin(y, n_iter=n_perm, n_pseudo=n_pseudo)\n",
    "    n_conditions = len(np.unique(y))\n",
    "    n_sensors = X.shape[1]\n",
    "    n_time = X.shape[2]\n",
    "    result = np.full((n_perm, n_conditions, n_conditions), np.nan)\n",
    "    for f, (train_indices, test_indices) in enumerate(cv.split(X)):\n",
    "        print('\\tPermutation %g / %g' % (f + 1, n_perm))\n",
    "\n",
    "        # 1. Compute pseudo-trials for training and test\n",
    "        Xpseudo = np.full((len(test_indices), n_sensors, n_time), np.nan)\n",
    "        for i, ind in enumerate(test_indices):\n",
    "            Xpseudo[i, :, :] = np.mean(X[ind, :, :], axis=0)\n",
    "                \n",
    "\n",
    "\n",
    "        # 2. Whitening using the Epoch method\n",
    "        sigma_conditions = cv.labels_pseudo_test[0, :, n_pseudo:].flatten()\n",
    "        sigma_ = np.empty((n_conditions, n_sensors, n_sensors))\n",
    "                \n",
    "        for c in range(n_conditions):\n",
    "        # compute sigma for each time point, then average across time\n",
    "            sigma_[c] = np.mean([_cov(Xpseudo[sigma_conditions==c, :, t], shrinkage='auto') for t in range(n_time)], axis=0)\n",
    "        sigma = sigma_.mean(axis=0)  # average across conditions\n",
    "        sigma_inv = scipy.linalg.fractional_matrix_power(sigma, -0.5)\n",
    "        Xpseudo = (Xpseudo.swapaxes(1, 2) @ sigma_inv).swapaxes(1, 2)\n",
    "\n",
    "        for c1 in range(n_conditions-1):\n",
    "            for c2 in range(min(c1 + 1, n_conditions-1), n_conditions):                            \n",
    "                    data = Xpseudo[cv.ind_pseudo_test[c1, c2], :, :]\n",
    "                    data = np.reshape(data, (data.shape[0], data.shape[1]*data.shape[2]), order='F')\n",
    "                    result[f, c1, c2] = ps.predict(data, y=cv.labels_pseudo_test[c1, c2])\n",
    "    out.append(result)\n",
    "np.savez_compressed('pearson_no_cv',results=out)"
   ]
  },
  {
   "cell_type": "markdown",
   "metadata": {},
   "source": [
    "## with CV"
   ]
  },
  {
   "cell_type": "code",
   "execution_count": null,
   "metadata": {},
   "outputs": [
    {
     "name": "stdout",
     "output_type": "stream",
     "text": [
      "Progress: [##################--] 88.2%\n",
      "Extracting EDF parameters from E:\\Ilya_study\\Data\\IR_17_S01.bdf...\n",
      "BDF file detected\n",
      "Setting channel info structure...\n",
      "Creating raw.info structure...\n",
      "Reading 0 ... 3389439  =      0.000 ...  6619.998 secs...\n"
     ]
    }
   ],
   "source": [
    "%run general_tools.ipynb\n",
    "%run EEG_auxiliary_module.ipynb\n",
    "from pathlib import Path, PurePath\n",
    "import numpy as np\n",
    "import mne\n",
    "import scipy\n",
    "from sklearn.discriminant_analysis import _cov\n",
    "from sklearn.svm import SVC\n",
    "from dissimilarity import Euclidean2, CvEuclidean2, Pearson, CvPearson\n",
    "from cv import ShuffleBinLeaveOneOut, ShuffleBin\n",
    "np.random.seed(10)\n",
    "\n",
    "\n",
    "infolder, outfolder = find_folder()\n",
    "trigs=list(range(101, 151))+list(range(201, 251))\n",
    "#trigs=list(range(101, 151))\n",
    "event_ids={str(x):x for x in trigs}\n",
    "im_times=(-0.1,1)\n",
    "filt=(0.01,45)\n",
    "subs = [2,3,4,5,6,7,8,9,10,11,12,13,14,15,16,17,18]\n",
    "\n",
    "n_perm = 20  # number of permutations\n",
    "\n",
    "ec = Euclidean2()\n",
    "ec_cv = CvEuclidean2()\n",
    "ps = Pearson()\n",
    "ps_cv = CvPearson()\n",
    "CV = ShuffleBinLeaveOneOut\n",
    "svm = SVC(kernel='linear')\n",
    "\n",
    "out_ec = list()\n",
    "out_pc = list()\n",
    "for i,sub in enumerate(subs):\n",
    "    if i==0:\n",
    "        n_pseudo = 11\n",
    "    else: \n",
    "        n_pseudo = 12\n",
    "        \n",
    "    update_progress(i/len(subs))\n",
    "    fnames = [infolder+'\\\\IR_'+str(sub).zfill(2)+'_S01.bdf',infolder+'\\\\IR_'+str(sub).zfill(2)+'_S02.bdf']\n",
    "    epochs = load_to_epochs_perc(fnames, event_ids, im_times, filt)\n",
    "    epochs.drop_channels(['Status']).equalize_event_counts(event_ids=event_ids, method='mintime')\n",
    "    X = epochs.get_data()\n",
    "    y = epochs.events[:, 2]\n",
    "    y = [a-101 if a<200 else a-151 for a in y]\n",
    "    cv = CV(y, n_iter=n_perm, n_pseudo=n_pseudo)\n",
    "    n_conditions = len(np.unique(y))\n",
    "    n_sensors = X.shape[1]\n",
    "    n_time = X.shape[2]\n",
    "    result_ec = np.full((n_perm, n_conditions, n_conditions), np.nan)\n",
    "    result_ps = np.full((n_perm, n_conditions, n_conditions), np.nan)\n",
    "    for f, (train_indices, test_indices) in enumerate(cv.split(X)):\n",
    "        print('\\tPermutation %g / %g' % (f + 1, n_perm))\n",
    "\n",
    "        # 1. Compute pseudo-trials for training and test\n",
    "        Xpseudo_train = np.full((len(train_indices), n_sensors, n_time), np.nan)\n",
    "        Xpseudo_test = np.full((len(test_indices), n_sensors, n_time), np.nan)\n",
    "        for i, ind in enumerate(train_indices):\n",
    "            Xpseudo_train[i, :, :] = np.mean(X[ind, :, :], axis=0)\n",
    "        for i, ind in enumerate(test_indices):\n",
    "            Xpseudo_test[i, :, :] = np.mean(X[ind, :, :], axis=0)\n",
    "\n",
    "\n",
    "        # 2. Whitening using the Epoch method\n",
    "        sigma_conditions = cv.labels_pseudo_train[0, :, n_pseudo-1:].flatten()\n",
    "        sigma_ = np.empty((n_conditions, n_sensors, n_sensors))\n",
    "        for k,c in enumerate(np.unique(y)):\n",
    "            # compute sigma for each time point, then average across time\n",
    "            sigma_[k] = np.mean([_cov(Xpseudo_train[sigma_conditions==c, :, t], shrinkage='auto')\n",
    "                                         for t in range(n_time)], axis=0)\n",
    "        sigma = sigma_.mean(axis=0)  # average across conditions\n",
    "        sigma_inv = scipy.linalg.fractional_matrix_power(sigma, -0.5)\n",
    "        Xpseudo_train = (Xpseudo_train.swapaxes(1, 2) @ sigma_inv).swapaxes(1, 2)\n",
    "        Xpseudo_test = (Xpseudo_test.swapaxes(1, 2) @ sigma_inv).swapaxes(1, 2)\n",
    "\n",
    "        for c1 in range(n_conditions-1):\n",
    "            for c2 in range(min(c1 + 1, n_conditions-1), n_conditions):                        \n",
    "                data_train = Xpseudo_train[cv.ind_pseudo_train[c1, c2], :, :]\n",
    "                data_train = np.reshape(data_train, (data_train.shape[0], data_train.shape[1]*data_train.shape[2]), order='F')\n",
    "                ec_cv.fit(data_train, cv.labels_pseudo_train[c1, c2])                            \n",
    "                ps_cv.fit(data_train, cv.labels_pseudo_train[c1, c2])\n",
    "                \n",
    "                data_test = Xpseudo_test[cv.ind_pseudo_test[c1, c2], :, :] \n",
    "                data_test = np.reshape(data_test, (data_test.shape[0], data_test.shape[1]*data_test.shape[2]), order='F')\n",
    "                \n",
    "                result_ec[f, c1, c2] = ec_cv.predict(data_test, y=cv.labels_pseudo_test[c1, c2])\n",
    "                result_ps[f, c1, c2] = ps_cv.predict(data_test, y=cv.labels_pseudo_test[c1, c2])\n",
    "    out_ec.append(result_ec)\n",
    "    out_pc.append(result_ps)\n",
    "np.savez_compressed('distance_with_cv',result_ec=out_ec, result_pc=out_pc)"
   ]
  },
  {
   "cell_type": "code",
   "execution_count": 14,
   "metadata": {},
   "outputs": [
    {
     "data": {
      "text/plain": [
       "(2, 36096)"
      ]
     },
     "execution_count": 14,
     "metadata": {},
     "output_type": "execute_result"
    }
   ],
   "source": [
    "data_train.shape"
   ]
  },
  {
   "cell_type": "code",
   "execution_count": 2,
   "metadata": {},
   "outputs": [],
   "source": [
    "from dissimilarity import Euclidean2, CvEuclidean2, Pearson, CvPearson"
   ]
  },
  {
   "cell_type": "code",
   "execution_count": null,
   "metadata": {},
   "outputs": [],
   "source": [
    "np.savez_compressed('acc_perc_all',results=out)"
   ]
  },
  {
   "cell_type": "code",
   "execution_count": null,
   "metadata": {},
   "outputs": [],
   "source": [
    "out = list()\n",
    "out.append(result)\n",
    "for i in results:\n",
    "    out.append(i)\n",
    "len(out)"
   ]
  },
  {
   "cell_type": "code",
   "execution_count": 2,
   "metadata": {},
   "outputs": [
    {
     "data": {
      "text/plain": [
       "(1, 20, 100, 100, 564)"
      ]
     },
     "execution_count": 2,
     "metadata": {},
     "output_type": "execute_result"
    }
   ],
   "source": [
    "import numpy as np\n",
    "loaded = np.load('temp_11.npz')\n",
    "results = loaded['results']\n",
    "results.shape"
   ]
  },
  {
   "cell_type": "code",
   "execution_count": null,
   "metadata": {},
   "outputs": [],
   "source": [
    "for i in out:\n",
    "    print(np.nanmean(i[:,:25,:25]))"
   ]
  },
  {
   "cell_type": "code",
   "execution_count": null,
   "metadata": {},
   "outputs": [],
   "source": [
    "%run general_tools.ipynb\n",
    "%run EEG_auxiliary_module.ipynb\n",
    "%run make_features.ipynb\n",
    "from pathlib import Path, PurePath\n",
    "import numpy as np\n",
    "import mne\n",
    "from mne.time_frequency import tfr_morlet, psd_multitaper, psd_welch\n",
    "np.random.seed(10)\n",
    "\n",
    "pick_ch=['P9','P7','P5','P3','PO7','PO3','O1','P10','P8','P6','P4','PO8','PO4','O2','POz','Pz']\n",
    "#pick_ch=['PO8','PO7']\n",
    "\n",
    "infolder, outfolder = find_folder()\n",
    "trigs=list(range(101, 151))+list(range(201, 251))\n",
    "#trigs=list(range(101, 151))\n",
    "event_ids={str(x):x for x in trigs}\n",
    "im_times=(-0.1,1)\n",
    "filt=(0.03,200)\n",
    "fnames = ['E:\\\\Ilya_study\\\\Data\\\\IR_06_S01.bdf','E:\\\\Ilya_study\\\\Data\\\\IR_06_S02.bdf']\n",
    "epochs = load_to_epochs_perc(fnames, event_ids, im_times, filt)\n",
    "epochs.drop_channels(['Status']).equalize_event_counts(event_ids=event_ids, method='mintime')\n",
    "#epochs = block_average(epochs,4,12, kind='perc',zscore = False)\n",
    "pick_ch = mne.pick_channels(epochs.ch_names, pick_ch)\n",
    "#data = epochs.get_data()[:, pick_ch, :]\n",
    "X = epochs.get_data()\n",
    "y = epochs.events[:, 2]\n",
    "y = [a-101 if a<200 else a-151 for a in y]"
   ]
  },
  {
   "cell_type": "code",
   "execution_count": null,
   "metadata": {},
   "outputs": [],
   "source": [
    "np.unique(y)"
   ]
  },
  {
   "cell_type": "code",
   "execution_count": null,
   "metadata": {},
   "outputs": [],
   "source": [
    "import os\n",
    "\n",
    "import numpy as np\n",
    "import scipy\n",
    "from sklearn.discriminant_analysis import _cov\n",
    "from sklearn.svm import SVC\n",
    "from sklearn.naive_bayes import GaussianNB\n",
    "\n",
    "# Parameters\n",
    "n_perm = 20  # number of permutations\n",
    "n_pseudo = 12  # number of pseudo-trials\n",
    "n_conditions = len(np.unique(y))\n",
    "n_sensors = X.shape[1]\n",
    "n_time = X.shape[2]"
   ]
  },
  {
   "cell_type": "code",
   "execution_count": null,
   "metadata": {},
   "outputs": [],
   "source": [
    "svm = SVC(kernel='linear')\n",
    "CV = ShuffleBinLeaveOneOut\n",
    "cv = CV(y, n_iter=n_perm, n_pseudo=n_pseudo)\n",
    "result = np.full((n_perm, n_conditions, n_conditions, n_time), np.nan)"
   ]
  },
  {
   "cell_type": "code",
   "execution_count": null,
   "metadata": {},
   "outputs": [],
   "source": [
    "for f, (train_indices, test_indices) in enumerate(cv.split(X)):\n",
    "            print('\\tPermutation %g / %g' % (f + 1, n_perm))\n",
    "\n",
    "            # 1. Compute pseudo-trials for training and test\n",
    "            Xpseudo_train = np.full((len(train_indices), n_sensors, n_time), np.nan)\n",
    "            Xpseudo_test = np.full((len(test_indices), n_sensors, n_time), np.nan)\n",
    "            for i, ind in enumerate(train_indices):\n",
    "                Xpseudo_train[i, :, :] = np.mean(X[ind, :, :], axis=0)\n",
    "            for i, ind in enumerate(test_indices):\n",
    "                Xpseudo_test[i, :, :] = np.mean(X[ind, :, :], axis=0)\n",
    "\n",
    "\n",
    "            # 2. Whitening using the Epoch method\n",
    "            sigma_conditions = cv.labels_pseudo_train[0, :, n_pseudo-1:].flatten()\n",
    "            sigma_ = np.empty((n_conditions, n_sensors, n_sensors))\n",
    "            for k,c in enumerate(np.unique(y)):\n",
    "                # compute sigma for each time point, then average across time\n",
    "                sigma_[k] = np.mean([_cov(Xpseudo_train[sigma_conditions==c, :, t], shrinkage='auto')\n",
    "                                     for t in range(n_time)], axis=0)\n",
    "            sigma = sigma_.mean(axis=0)  # average across conditions\n",
    "            sigma_inv = scipy.linalg.fractional_matrix_power(sigma, -0.5)\n",
    "            Xpseudo_train = (Xpseudo_train.swapaxes(1, 2) @ sigma_inv).swapaxes(1, 2)\n",
    "            Xpseudo_test = (Xpseudo_test.swapaxes(1, 2) @ sigma_inv).swapaxes(1, 2)\n",
    "\n",
    "            for t in range(n_time):\n",
    "                for c1 in range(n_conditions-1):\n",
    "                    for c2 in range(min(c1 + 1, n_conditions-1), n_conditions):\n",
    "                            # 3. Fit the classifier using training data\n",
    "                            data_train = Xpseudo_train[cv.ind_pseudo_train[c1, c2], :, t]\n",
    "                            svm.fit(data_train, cv.labels_pseudo_train[c1, c2])                            \n",
    "\n",
    "                            # 4. Compute and store classification accuracies\n",
    "                            data_test = Xpseudo_test[cv.ind_pseudo_test[c1, c2], :, t]\n",
    "                            result[f, c1, c2, t] = np.mean(svm.predict(data_test) == cv.labels_pseudo_test[c1, c2]) - 0.5                            \n",
    "                           \n",
    "    # average across permutations\n",
    "\n",
    "       "
   ]
  },
  {
   "cell_type": "code",
   "execution_count": null,
   "metadata": {},
   "outputs": [],
   "source": [
    "np.save( 'cum_accuracy_06.npy', result)"
   ]
  },
  {
   "cell_type": "code",
   "execution_count": null,
   "metadata": {},
   "outputs": [],
   "source": [
    "temp = np.load('C:\\\\Users\\\\danne\\\\Documents\\Codes\\\\EEG_analysis\\\\result_decoding_time.npy')\n",
    "temp.shape"
   ]
  },
  {
   "cell_type": "code",
   "execution_count": null,
   "metadata": {},
   "outputs": [],
   "source": [
    "temp = np.load('C:\\\\Users\\\\danne\\\\Documents\\Codes\\\\EEG_analysis\\\\result_decoding_time.npy')\n",
    "temp1 = np.nanmean(temp[:,:25,:25,:], axis=(0,1,2))\n",
    "temp2 = np.nanmean(temp[:,25:50,25:50,:], axis=(0,1,2))\n",
    "temp.shape\n",
    "import matplotlib.pyplot as plt\n",
    "%matplotlib inline\n",
    "plt.plot(np.linspace(-100,1000,564),temp1, label='unfamiliar')\n",
    "plt.plot(np.linspace(-100,1000,564),temp2, label='famous')\n",
    "plt.legend()\n",
    "plt.savefig('sub6.png')"
   ]
  },
  {
   "cell_type": "code",
   "execution_count": null,
   "metadata": {},
   "outputs": [],
   "source": [
    "result = np.full((n_perm, n_conditions, n_conditions), np.nan)\n",
    "for f, (train_indices, test_indices) in enumerate(cv.split(X)):\n",
    "            print('\\tPermutation %g / %g' % (f + 1, n_perm))\n",
    "\n",
    "            # 1. Compute pseudo-trials for training and test\n",
    "            Xpseudo_train = np.full((len(train_indices), n_sensors, n_time), np.nan)\n",
    "            Xpseudo_test = np.full((len(test_indices), n_sensors, n_time), np.nan)\n",
    "            for i, ind in enumerate(train_indices):\n",
    "                Xpseudo_train[i, :, :] = np.mean(X[ind, :, :], axis=0)\n",
    "            for i, ind in enumerate(test_indices):\n",
    "                Xpseudo_test[i, :, :] = np.mean(X[ind, :, :], axis=0)\n",
    "\n",
    "\n",
    "            # 2. Whitening using the Epoch method\n",
    "            sigma_conditions = cv.labels_pseudo_train[0, :, n_pseudo-1:].flatten()\n",
    "            sigma_ = np.empty((n_conditions, n_sensors, n_sensors))\n",
    "            for k,c in enumerate(np.unique(y)):\n",
    "                # compute sigma for each time point, then average across time\n",
    "                sigma_[k] = np.mean([_cov(Xpseudo_train[sigma_conditions==c, :, t], shrinkage='auto')\n",
    "                                     for t in range(n_time)], axis=0)\n",
    "            sigma = sigma_.mean(axis=0)  # average across conditions\n",
    "            sigma_inv = scipy.linalg.fractional_matrix_power(sigma, -0.5)\n",
    "            Xpseudo_train = (Xpseudo_train.swapaxes(1, 2) @ sigma_inv).swapaxes(1, 2)\n",
    "            Xpseudo_test = (Xpseudo_test.swapaxes(1, 2) @ sigma_inv).swapaxes(1, 2)\n",
    "\n",
    "            for c1 in range(n_conditions-1):\n",
    "                for c2 in range(min(c1 + 1, n_conditions-1), n_conditions):\n",
    "                        # 3. Fit the classifier using training data\n",
    "                        data_train = Xpseudo_train[cv.ind_pseudo_train[c1, c2], :, :]\n",
    "                        data_train = np.reshape(data_train, (data_train.shape[0], data_train.shape[1]*data_train.shape[2]), order='F')\n",
    "                        svm.fit(data_train, cv.labels_pseudo_train[c1, c2])                            \n",
    "\n",
    "                        # 4. Compute and store classification accuracies\n",
    "                        data_test = Xpseudo_test[cv.ind_pseudo_test[c1, c2], :, :]\n",
    "                        data_test = np.reshape(data_test, (data_test.shape[0], data_test.shape[1]*data_test.shape[2]), order='F')\n",
    "                        result[f, c1, c2] = np.mean(svm.predict(data_test) == cv.labels_pseudo_test[c1, c2]) - 0.5                            \n",
    "                           \n",
    "    # average across permutations\n",
    "from scipy.spatial.distance import squareform\n",
    "a = np.nanmean(result,axis=0)[:50,:50]\n",
    "np.nanmean(a)"
   ]
  },
  {
   "cell_type": "code",
   "execution_count": null,
   "metadata": {},
   "outputs": [],
   "source": []
  },
  {
   "cell_type": "code",
   "execution_count": null,
   "metadata": {},
   "outputs": [],
   "source": [
    "np.nanmean(result[7,:10,:10])"
   ]
  },
  {
   "cell_type": "markdown",
   "metadata": {},
   "source": [
    "We set a seed, in order to make analyses reproducible:"
   ]
  },
  {
   "cell_type": "markdown",
   "metadata": {},
   "source": [
    "Let's load some data:"
   ]
  },
  {
   "cell_type": "code",
   "execution_count": null,
   "metadata": {},
   "outputs": [],
   "source": [
    "root = '' # This is the /path/to the directory containing the data.\n",
    "          # We leave it empty here, because the data is located in the current directory.\n",
    "\n",
    "# Load data and trial labels for the two sessions of participant 01\n",
    "sessions = [\n",
    "    # Session 1\n",
    "    dict(\n",
    "        data=np.load(os.path.join(root, 'data01_sess1.npy')),\n",
    "        # data has shape n_trials x n_sensors x n_timepoints\n",
    "        labels=np.load(os.path.join(root, 'labels01_sess1.npy'))\n",
    "        # labels has shape 1 x n_trials (i.e., one condition label [object category] per trial)\n",
    "    ),\n",
    "    # Session 2\n",
    "    dict(\n",
    "        data=np.load(os.path.join(root, 'data01_sess2.npy')),\n",
    "        labels=np.load(os.path.join(root, 'labels01_sess2.npy'))\n",
    "    )\n",
    "]"
   ]
  },
  {
   "cell_type": "markdown",
   "metadata": {},
   "source": [
    "Now we set some parameters. Only the number of permutations and the number of pseudo-trials are free parameters. The number of conditions, sensors, time points and sessions are derived from the data (i.e., from the `sessions` variable above)."
   ]
  },
  {
   "cell_type": "code",
   "execution_count": null,
   "metadata": {},
   "outputs": [],
   "source": [
    "\n",
    "n_sessions = len(sessions)"
   ]
  },
  {
   "cell_type": "markdown",
   "metadata": {},
   "source": [
    "We define three classifiers that will be compared: Support Vector Machine, Gaussian Naive Bayes and the [Weighted Robust Distance](https://github.com/m-guggenmos/weird). We provide the code for Linear Discriminant Analysis only in comments, as it is quite slow in this scikit-learn Python implementation."
   ]
  },
  {
   "cell_type": "code",
   "execution_count": null,
   "metadata": {},
   "outputs": [],
   "source": [
    "\n",
    "gnb = GaussianNB()\n",
    "weird = WeiRD()\n",
    "# lda = LDA(sigma=np.eye(n_sensors))  # passing identitity covariance matrix to LDA, since data is pre-whitened"
   ]
  },
  {
   "cell_type": "markdown",
   "metadata": {},
   "source": [
    "We choose our partitioning scheme, here `ShuffleBinLeaveOneOut`. This class will provide the trial-to-pseudo-trial assignments for each permutation. We'll define the class object already at this point:"
   ]
  },
  {
   "cell_type": "code",
   "execution_count": null,
   "metadata": {},
   "outputs": [],
   "source": [
    "# Choose data partitioning scheme\n"
   ]
  },
  {
   "cell_type": "markdown",
   "metadata": {},
   "source": [
    "The analytic logic is contained in a nested for loop, with loops for the number of sessions, number of permutations, number of timepoints, number of conditions, and number of conditions again. Overall, the logic contains 4 crucial steps:\n",
    "1. Compute pseudo-trials for the training and test data\n",
    "2. Whiten the training data (here using the Epoch method, which is recommended in our manuscript)\n",
    "3. Fit the classifier to the training data\n",
    "4. Compute classification accuracy on test data"
   ]
  },
  {
   "cell_type": "code",
   "execution_count": null,
   "metadata": {},
   "outputs": [],
   "source": [
    "# pre-load mechanism, for convenience\n",
    "preload_result = True # for recomputing the decoding analyses, set to False\n",
    "if preload_result:\n",
    "    result = np.load(os.path.join(root, 'result_decoding.npy'))\n",
    "else:\n",
    "    result = np.full((n_sessions, n_perm, n_conditions, n_conditions, n_time), np.nan,\n",
    "                     dtype={'names': ['svm', 'gnb', 'weird', 'lda'], 'formats': 4*['f8']})\n",
    "\n",
    "    for s, session in enumerate(sessions):\n",
    "\n",
    "        print('Session %g / %g' % (s + 1, n_sessions))\n",
    "\n",
    "        X = session['data']\n",
    "        y = session['labels']\n",
    "\n",
    "        cv = CV(y, n_iter=n_perm, n_pseudo=n_pseudo)\n",
    "\n",
    "        for f, (train_indices, test_indices) in enumerate(cv.split(X)):\n",
    "            print('\\tPermutation %g / %g' % (f + 1, n_perm))\n",
    "\n",
    "            # 1. Compute pseudo-trials for training and test\n",
    "            Xpseudo_train = np.full((len(train_indices), n_sensors, n_time), np.nan)\n",
    "            Xpseudo_test = np.full((len(test_indices), n_sensors, n_time), np.nan)\n",
    "            for i, ind in enumerate(train_indices):\n",
    "                Xpseudo_train[i, :, :] = np.mean(X[ind, :, :], axis=0)\n",
    "            for i, ind in enumerate(test_indices):\n",
    "                Xpseudo_test[i, :, :] = np.mean(X[ind, :, :], axis=0)\n",
    "\n",
    "\n",
    "            # 2. Whitening using the Epoch method\n",
    "            sigma_conditions = cv.labels_pseudo_train[0, :, n_pseudo-1:].flatten()\n",
    "            sigma_ = np.empty((n_conditions, n_sensors, n_sensors))\n",
    "            for c in range(n_conditions):\n",
    "                # compute sigma for each time point, then average across time\n",
    "                sigma_[c] = np.mean([_cov(Xpseudo_train[sigma_conditions==c, :, t], shrinkage='auto')\n",
    "                                     for t in range(n_time)], axis=0)\n",
    "            sigma = sigma_.mean(axis=0)  # average across conditions\n",
    "            sigma_inv = scipy.linalg.fractional_matrix_power(sigma, -0.5)\n",
    "            Xpseudo_train = (Xpseudo_train.swapaxes(1, 2) @ sigma_inv).swapaxes(1, 2)\n",
    "            Xpseudo_test = (Xpseudo_test.swapaxes(1, 2) @ sigma_inv).swapaxes(1, 2)\n",
    "\n",
    "            for t in range(n_time):\n",
    "                for c1 in range(n_conditions-1):\n",
    "                    for c2 in range(min(c1 + 1, n_conditions-1), n_conditions):\n",
    "                            # 3. Fit the classifier using training data\n",
    "                            data_train = Xpseudo_train[cv.ind_pseudo_train[c1, c2], :, t]\n",
    "                            svm.fit(data_train, cv.labels_pseudo_train[c1, c2])                            \n",
    "                            gnb.fit(data_train, cv.labels_pseudo_train[c1, c2])\n",
    "                            weird.fit(data_train, cv.labels_pseudo_train[c1, c2])\n",
    "                            # lda.fit(data_train, cv.labels_pseudo_train[c1, c2])\n",
    "\n",
    "                            # 4. Compute and store classification accuracies\n",
    "                            data_test = Xpseudo_test[cv.ind_pseudo_test[c1, c2], :, t]\n",
    "                            result['svm'][s, f, c1, c2, t] = np.mean(svm.predict(data_test) == cv.labels_pseudo_test[c1, c2]) - 0.5                            \n",
    "                            result['gnb'][s, f, c1, c2, t] = np.mean(gnb.predict(data_test) == cv.labels_pseudo_test[c1, c2]) - 0.5\n",
    "                            result['weird'][s, f, c1, c2, t] = np.mean(weird.predict(data_test) == cv.labels_pseudo_test[c1, c2]) - 0.5\n",
    "                            # result['lda'][s, f, c1, c2, t] = np.mean(lda.predict(data_test) == cv.labels_pseudo_test[c1, c2]) - 0.5\n",
    "    # average across permutations\n",
    "    result_ = np.full((n_sessions, n_conditions, n_conditions, n_time), np.nan,\n",
    "                      dtype={'names': ['svm', 'gnb', 'weird', 'lda'], 'formats': 4*['f8']})    \n",
    "    result_['svm'] = np.nanmean(result['svm'], axis=1)\n",
    "    result_['gnb'] = np.nanmean(result['gnb'], axis=1)\n",
    "    result_['weird'] = np.nanmean(result['weird'], axis=1)\n",
    "    # result_['lda'] = np.nanmean(result['lda'], axis=1)\n",
    "    result = result_\n",
    "    np.save(os.path.join(root, 'result_decoding.npy'), result)"
   ]
  },
  {
   "cell_type": "code",
   "execution_count": null,
   "metadata": {},
   "outputs": [],
   "source": [
    "import matplotlib.pyplot as plt\n",
    "%matplotlib inline"
   ]
  },
  {
   "cell_type": "markdown",
   "metadata": {},
   "source": [
    "Now we plot the average classification accuracy time course by collapsing across sessions and conditions:"
   ]
  },
  {
   "cell_type": "code",
   "execution_count": null,
   "metadata": {},
   "outputs": [],
   "source": [
    "plt.plot(np.arange(-100, 1001, 10), 100*np.nanmean(result['svm'], axis=(0, 1, 2))+50, label='SVM')\n",
    "plt.plot(np.arange(-100, 1001, 10), 100*np.nanmean(result['gnb'], axis=(0, 1, 2))+50, label='GNB')\n",
    "plt.plot(np.arange(-100, 1001, 10), 100*np.nanmean(result['weird'], axis=(0, 1, 2))+50, label='WeiRD')\n",
    "if 'lda' in result.dtype.names:\n",
    "    plt.plot(np.arange(-100, 1001, 10), 100*np.nanmean(result['lda'], axis=(0, 1, 2))+50, label='LDA')\n",
    "plt.plot([-100, 1000], [50, 50], 'k-')\n",
    "plt.xlim((-100, 1000))\n",
    "plt.xlabel('Time [ms]', fontsize=15)\n",
    "plt.ylabel('Classification accuracy', fontsize=15)\n",
    "plt.legend()"
   ]
  },
  {
   "cell_type": "markdown",
   "metadata": {},
   "source": [
    "# Correlations"
   ]
  },
  {
   "cell_type": "markdown",
   "metadata": {},
   "source": [
    "## Corellation of new accuracies with old accuracies"
   ]
  },
  {
   "cell_type": "code",
   "execution_count": 20,
   "metadata": {},
   "outputs": [
    {
     "name": "stderr",
     "output_type": "stream",
     "text": [
      "C:\\Users\\danne\\Anaconda3\\envs\\eeg_analysis\\lib\\site-packages\\ipykernel_launcher.py:15: RuntimeWarning: Mean of empty slice\n",
      "  from ipykernel import kernelapp as app\n"
     ]
    },
    {
     "data": {
      "text/plain": [
       "(-0.05965992795586425, 0.036813566889765156)"
      ]
     },
     "execution_count": 20,
     "metadata": {},
     "output_type": "execute_result"
    }
   ],
   "source": [
    "import numpy as np\n",
    "import pandas as pd\n",
    "from scipy.spatial.distance import squareform, pdist\n",
    "from scipy.stats import pearsonr\n",
    "%run general_tools.ipynb\n",
    "%run EEG_auxiliary_module.ipynb\n",
    "\n",
    "infolder, outfolder = find_folder()\n",
    "data = load_pkl(outfolder, 'svm_prc_accuracy.pkl')\n",
    "data_old = np.squeeze(np.array(data))\n",
    "data_old = squareform(data_old[:50,:50])\n",
    "\n",
    "loaded = np.load('E:\\\\Ilya_study\\\\Confusion matrices\\\\combined.npz')\n",
    "temp = loaded['results']\n",
    "temp = np.nanmean(temp, axis=(0,1))\n",
    "data_new = np.squeeze(squareform(squareform(temp, checks=False)))\n",
    "data_new = squareform(data_new[:50,:50])\n",
    "\n",
    "out = pearsonr(data_old,data_new)\n",
    "out"
   ]
  },
  {
   "cell_type": "markdown",
   "metadata": {},
   "source": [
    "## Correlation of new accuracies with theoeretical observer"
   ]
  },
  {
   "cell_type": "code",
   "execution_count": 2,
   "metadata": {},
   "outputs": [
    {
     "name": "stderr",
     "output_type": "stream",
     "text": [
      "C:\\Users\\danne\\Anaconda3\\envs\\eeg_analysis\\lib\\site-packages\\ipykernel_launcher.py:15: RuntimeWarning: Mean of empty slice\n",
      "  from ipykernel import kernelapp as app\n"
     ]
    },
    {
     "ename": "ValueError",
     "evalue": "x and y must have the same length.",
     "output_type": "error",
     "traceback": [
      "\u001b[1;31m---------------------------------------------------------------------------\u001b[0m",
      "\u001b[1;31mValueError\u001b[0m                                Traceback (most recent call last)",
      "\u001b[1;32m<ipython-input-2-79657a2a5bd9>\u001b[0m in \u001b[0;36m<module>\u001b[1;34m\u001b[0m\n\u001b[0;32m     17\u001b[0m \u001b[0mdata_new\u001b[0m \u001b[1;33m=\u001b[0m \u001b[0msquareform\u001b[0m\u001b[1;33m(\u001b[0m\u001b[0mdata_new\u001b[0m\u001b[1;33m[\u001b[0m\u001b[1;33m:\u001b[0m\u001b[1;36m25\u001b[0m\u001b[1;33m,\u001b[0m\u001b[1;33m:\u001b[0m\u001b[1;36m25\u001b[0m\u001b[1;33m]\u001b[0m\u001b[1;33m)\u001b[0m\u001b[1;33m\u001b[0m\u001b[1;33m\u001b[0m\u001b[0m\n\u001b[0;32m     18\u001b[0m \u001b[1;33m\u001b[0m\u001b[0m\n\u001b[1;32m---> 19\u001b[1;33m \u001b[0mout\u001b[0m \u001b[1;33m=\u001b[0m \u001b[0mpearsonr\u001b[0m\u001b[1;33m(\u001b[0m\u001b[0mdist\u001b[0m\u001b[1;33m,\u001b[0m\u001b[0mdata_new\u001b[0m\u001b[1;33m)\u001b[0m\u001b[1;33m\u001b[0m\u001b[1;33m\u001b[0m\u001b[0m\n\u001b[0m\u001b[0;32m     20\u001b[0m \u001b[0mout\u001b[0m\u001b[1;33m\u001b[0m\u001b[1;33m\u001b[0m\u001b[0m\n",
      "\u001b[1;32m~\\Anaconda3\\envs\\eeg_analysis\\lib\\site-packages\\scipy\\stats\\stats.py\u001b[0m in \u001b[0;36mpearsonr\u001b[1;34m(x, y)\u001b[0m\n\u001b[0;32m   3387\u001b[0m     \u001b[0mn\u001b[0m \u001b[1;33m=\u001b[0m \u001b[0mlen\u001b[0m\u001b[1;33m(\u001b[0m\u001b[0mx\u001b[0m\u001b[1;33m)\u001b[0m\u001b[1;33m\u001b[0m\u001b[1;33m\u001b[0m\u001b[0m\n\u001b[0;32m   3388\u001b[0m     \u001b[1;32mif\u001b[0m \u001b[0mn\u001b[0m \u001b[1;33m!=\u001b[0m \u001b[0mlen\u001b[0m\u001b[1;33m(\u001b[0m\u001b[0my\u001b[0m\u001b[1;33m)\u001b[0m\u001b[1;33m:\u001b[0m\u001b[1;33m\u001b[0m\u001b[1;33m\u001b[0m\u001b[0m\n\u001b[1;32m-> 3389\u001b[1;33m         \u001b[1;32mraise\u001b[0m \u001b[0mValueError\u001b[0m\u001b[1;33m(\u001b[0m\u001b[1;34m'x and y must have the same length.'\u001b[0m\u001b[1;33m)\u001b[0m\u001b[1;33m\u001b[0m\u001b[1;33m\u001b[0m\u001b[0m\n\u001b[0m\u001b[0;32m   3390\u001b[0m \u001b[1;33m\u001b[0m\u001b[0m\n\u001b[0;32m   3391\u001b[0m     \u001b[1;32mif\u001b[0m \u001b[0mn\u001b[0m \u001b[1;33m<\u001b[0m \u001b[1;36m2\u001b[0m\u001b[1;33m:\u001b[0m\u001b[1;33m\u001b[0m\u001b[1;33m\u001b[0m\u001b[0m\n",
      "\u001b[1;31mValueError\u001b[0m: x and y must have the same length."
     ]
    }
   ],
   "source": [
    "import numpy as np\n",
    "import pandas as pd\n",
    "from scipy.spatial.distance import squareform, pdist\n",
    "from scipy.stats import pearsonr\n",
    "%run general_tools.ipynb\n",
    "%run EEG_auxiliary_module.ipynb\n",
    "\n",
    "\n",
    "stims = pd.read_csv('C:\\\\Users\\\\danne\\\\Dropbox\\\\Ilya_study\\\\Stimuli\\\\stims.csv')\n",
    "descr = pd.read_csv('C:\\\\Users\\\\danne\\\\Dropbox\\\\Ilya_study\\\\Analysis\\\\description.csv', index_col = 'Nums') # loading origin desription\n",
    "dist = pdist(stims.T)\n",
    "\n",
    "loaded = np.load('E:\\\\Ilya_study\\\\Confusion matrices\\\\combined.npz')\n",
    "temp = loaded['results']\n",
    "temp = np.nanmean(temp, axis=(0,1))\n",
    "data_new = np.squeeze(squareform(squareform(temp, checks=False)))\n",
    "data_new = squareform(data_new[:50,:50])\n",
    "\n",
    "out = pearsonr(dist,data_new)\n",
    "out\n"
   ]
  },
  {
   "cell_type": "markdown",
   "metadata": {},
   "source": [
    "## Correlation of old accuracies with TO"
   ]
  },
  {
   "cell_type": "code",
   "execution_count": 23,
   "metadata": {},
   "outputs": [
    {
     "data": {
      "text/plain": [
       "(-0.01450476444235551, 0.6120319194925341)"
      ]
     },
     "execution_count": 23,
     "metadata": {},
     "output_type": "execute_result"
    }
   ],
   "source": [
    "out = pearsonr(dist,data_old)\n",
    "out"
   ]
  },
  {
   "cell_type": "markdown",
   "metadata": {},
   "source": [
    "## Correlations between participants in new results"
   ]
  },
  {
   "cell_type": "code",
   "execution_count": 16,
   "metadata": {},
   "outputs": [
    {
     "data": {
      "text/plain": [
       "(50, 50)"
      ]
     },
     "execution_count": 16,
     "metadata": {},
     "output_type": "execute_result"
    }
   ],
   "source": [
    "dist.shape"
   ]
  },
  {
   "cell_type": "code",
   "execution_count": 5,
   "metadata": {},
   "outputs": [
    {
     "data": {
      "text/plain": [
       "'E:\\\\Ilya_study\\\\Analysis'"
      ]
     },
     "execution_count": 5,
     "metadata": {},
     "output_type": "execute_result"
    }
   ],
   "source": [
    "outfolder\n"
   ]
  },
  {
   "cell_type": "code",
   "execution_count": null,
   "metadata": {},
   "outputs": [],
   "source": [
    "# Imagery analysis"
   ]
  },
  {
   "cell_type": "markdown",
   "metadata": {},
   "source": [
    "# Familiarity analysis"
   ]
  },
  {
   "cell_type": "markdown",
   "metadata": {},
   "source": [
    "## Importing data"
   ]
  },
  {
   "cell_type": "code",
   "execution_count": 13,
   "metadata": {},
   "outputs": [
    {
     "name": "stderr",
     "output_type": "stream",
     "text": [
      "C:\\Users\\danne\\Anaconda3\\envs\\eeg_analysis\\lib\\site-packages\\ipykernel_launcher.py:8: RuntimeWarning: Mean of empty slice\n",
      "  \n",
      "C:\\Users\\danne\\Anaconda3\\envs\\eeg_analysis\\lib\\site-packages\\ipykernel_launcher.py:9: RuntimeWarning: Mean of empty slice\n",
      "  if __name__ == '__main__':\n",
      "C:\\Users\\danne\\Anaconda3\\envs\\eeg_analysis\\lib\\site-packages\\ipykernel_launcher.py:10: RuntimeWarning: Mean of empty slice\n",
      "  # Remove the CWD from sys.path while we load stuff.\n"
     ]
    }
   ],
   "source": [
    "from pathlib import Path\n",
    "import numpy as np\n",
    "folder = r'C:\\Users\\danne\\Documents\\UofT\\ImRecon'\n",
    "fileName = r'time_perc.npz'\n",
    "path = Path(folder)/fileName\n",
    "loaded = np.load(path)\n",
    "temp = loaded['results']\n",
    "temp = np.squeeze(np.nanmean(temp, axis=1))\n",
    "unf = np.nanmean(temp,axis=0)[:25,:25,:]\n",
    "fam = np.nanmean(temp,axis=0)[25:50,25:50,:]\n",
    "unf = np.squeeze(np.nanmean(unf,axis=(0,1)))\n",
    "fam = np.squeeze(np.nanmean(fam,axis=(0,1)))"
   ]
  },
  {
   "cell_type": "code",
   "execution_count": 18,
   "metadata": {},
   "outputs": [
    {
     "name": "stderr",
     "output_type": "stream",
     "text": [
      "C:\\Users\\danne\\Anaconda3\\envs\\eeg_analysis\\lib\\site-packages\\ipykernel_launcher.py:2: RuntimeWarning: Mean of empty slice\n",
      "  \n"
     ]
    },
    {
     "data": {
      "text/plain": [
       "(17, 564)"
      ]
     },
     "execution_count": 18,
     "metadata": {},
     "output_type": "execute_result"
    }
   ],
   "source": [
    "cross1 = np.nanmean(temp[:,:25,25:50,:],axis=(1,2))\n",
    "cross2 = np.nanmean(temp[:,25:50,:25,:],axis=(1,2))\n",
    "cross = np.nanmean( np.array([ cross1, cross2 ]), axis=0 )\n",
    "cross.shape"
   ]
  },
  {
   "cell_type": "markdown",
   "metadata": {},
   "source": [
    "## Inferential statisitcs"
   ]
  },
  {
   "cell_type": "code",
   "execution_count": 9,
   "metadata": {},
   "outputs": [],
   "source": [
    "import numpy as np\n",
    "loaded = np.load(path)\n",
    "temp = loaded['results']\n",
    "fams = np.nanmean(temp[:,:,25:50,25:50,:], axis=(1,2,3))\n",
    "unfr = np.nanmean(temp[:,:,:25,:25,:], axis=(1,2,3))\n"
   ]
  },
  {
   "cell_type": "code",
   "execution_count": 19,
   "metadata": {},
   "outputs": [
    {
     "name": "stdout",
     "output_type": "stream",
     "text": [
      "False\n"
     ]
    }
   ],
   "source": [
    "from scipy import stats\n",
    "from statsmodels.stats.multitest import fdrcorrection as fdr\n",
    "out_2 = stats.ttest_ind(fams,unfr,0)\n",
    "print(any(fdr(out_2[1], alpha = 0.05)[0]))\n",
    "out_fam = stats.ttest_1samp(fams,0,axis=0)\n",
    "out_fam = fdr(out_fam[1], alpha = 0.05)\n",
    "out_unf = stats.ttest_1samp(unfr,0,axis=0)\n",
    "out_unf = fdr(out_unf[1], alpha = 0.05)\n",
    "out_cross = stats.ttest_1samp(cross,0,axis=0)\n",
    "out_cross = fdr(out_cross[1], alpha = 0.05)"
   ]
  },
  {
   "cell_type": "code",
   "execution_count": 22,
   "metadata": {},
   "outputs": [
    {
     "data": {
      "text/plain": [
       "<matplotlib.legend.Legend at 0x26bbe905908>"
      ]
     },
     "execution_count": 22,
     "metadata": {},
     "output_type": "execute_result"
    },
    {
     "data": {
      "image/png": "[encoded data removed]",
      "text/plain": [
       "<Figure size 1440x720 with 1 Axes>"
      ]
     },
     "metadata": {
      "needs_background": "light"
     },
     "output_type": "display_data"
    }
   ],
   "source": [
    "import matplotlib.pyplot as plt\n",
    "%matplotlib inline\n",
    "\n",
    "plt.figure(figsize=(20,10))\n",
    "plt.subplot(211)\n",
    "plt.plot(np.linspace(-100,1001,564), np.squeeze(unf), 'b', label='unfamiliar')\n",
    "plt.plot(np.linspace(-100,1001,564), np.squeeze(fam), 'g', label='famous')\n",
    "plt.plot(np.linspace(-100,1001,564), np.squeeze(np.mean(cross,axis=0)), 'r', label='cross')\n",
    "plt.plot(np.linspace(-100,1001,564), out_fam[0]*1-0.82,'b.', markersize = 1, label='fam_sig')\n",
    "plt.plot(np.linspace(-100,1001,564), out_unf[0]*1-0.83, 'g.', markersize = 1, label='unf_sig')\n",
    "plt.plot(np.linspace(-100,1001,564), out_cross[0]*1-0.84, 'r.', markersize = 1, label='cross')\n",
    "plt.xlim((-100, 1000))\n",
    "plt.ylim((-0.02,0.2))\n",
    "plt.ylabel('Accuracy', fontsize=12)\n",
    "plt.legend(loc = 'lower right')"
   ]
  },
  {
   "cell_type": "code",
   "execution_count": 17,
   "metadata": {},
   "outputs": [
    {
     "data": {
      "text/plain": [
       "[<matplotlib.lines.Line2D at 0x26bbe615b48>]"
      ]
     },
     "execution_count": 17,
     "metadata": {},
     "output_type": "execute_result"
    },
    {
     "data": {
      "image/png": "[encoded data removed]",
      "text/plain": [
       "<Figure size 432x288 with 1 Axes>"
      ]
     },
     "metadata": {
      "needs_background": "light"
     },
     "output_type": "display_data"
    }
   ],
   "source": [
    "plt.plot(np.mean(cross,axis=0))"
   ]
  },
  {
   "cell_type": "markdown",
   "metadata": {},
   "source": [
    "# Familiarity discrimination\n",
    "Train 24 test on 25th"
   ]
  },
  {
   "cell_type": "code",
   "execution_count": null,
   "metadata": {},
   "outputs": [],
   "source": [
    "import discr_inverted as di\n",
    "import numpy as np\n",
    "import mne\n",
    "from sklearn.discriminant_analysis import _cov    \n",
    "import scipy\n",
    "from sklearn.svm import SVC\n",
    "\n",
    "infolder = 'E:\\Ilya_study\\Data'\n",
    "out = list()\n",
    "trigs=list(range(101, 151))\n",
    "event_ids={str(x):x for x in trigs}\n",
    "im_times=(-0.1,1)\n",
    "filt=(0.01,45)\n",
    "subs = [2,3,4,5,6,7,8,9,10,11,12,13,14,15,16,17,18]\n",
    "np.random.seed(10)\n",
    "n_perm = 20  # number of permutations\n",
    "n_pseudo = 12  # number of pseudo-trials\n",
    "baseline = (None, 0)\n",
    "stims = np.arange(len(trigs))\n",
    "n_stims = len(trigs)\n",
    "half = int(n_stims/2)\n",
    "y = [1]*half+[2]*half\n",
    "svm = SVC(kernel='linear')\n",
    "for i,sub in enumerate(subs):\n",
    "    fnames = [infolder+'/IR_'+str(sub).zfill(2)+'_S01.bdf',infolder+'/IR_'+str(sub).zfill(2)+'_S02.bdf']\n",
    "    epochs = []\n",
    "    for fname in fnames:\n",
    "        raw = mne.io.read_raw_bdf(fname, preload=True).filter(filt[0], filt[1], method='iir')\n",
    "        events = mne.find_events(raw, initial_event=True, \n",
    "                                consecutive=True, shortest_event=1, verbose=0)\n",
    "        temp = mne.Epochs(raw, events, event_ids, im_times[0], im_times[1],\n",
    "                         baseline=baseline, preload=True, detrend = 1)\n",
    "        epochs.append(temp)\n",
    "    epochs = mne.concatenate_epochs(epochs)\n",
    "    epochs.drop_channels(['Status']).equalize_event_counts(event_ids=event_ids, method='mintime')\n",
    "    X = [epochs[str(i)].average().data for i in np.unique(trigs)]\n",
    "    X = np.array(X)\n",
    "    pairs = list(zip(np.random.permutation(half),np.random.permutation(half)+half))\n",
    "    n_sensors = X.shape[1]\n",
    "    n_conditions = np.unique(y).shape[0]\n",
    "    n_time = X.shape[2]\n",
    "    result = np.full((len(pairs),n_time), np.nan)\n",
    "    for inx, tests in enumerate(pairs):\n",
    "        test_indices = np.where(np.logical_or(stims == pairs[inx][0], stims == pairs[inx][1]))[0]\n",
    "        train_indices = np.where(np.logical_not(np.logical_or(stims == pairs[inx][0], stims == pairs[inx][1])))[0]\n",
    "        temp = y.copy()\n",
    "        temp.pop(pairs[inx][0])\n",
    "        temp.pop(pairs[inx][1]-1)\n",
    "        Xpseudo_train = X[train_indices,:,:]\n",
    "        Xpseudo_test = X[test_indices,:,:]\n",
    "#         sigma_ = np.empty((n_conditions, n_sensors, n_sensors))\n",
    "#         for k,c in enumerate(np.unique(y)):\n",
    "#                 # compute sigma for each time point, then average across time\n",
    "#             sigma_[k] = np.mean([_cov(Xpseudo_train[temp==c, :, t], shrinkage='auto')\n",
    "#                                              for t in range(n_time)], axis=0)\n",
    "#         sigma = sigma_.mean(axis=0)  # average across conditions\n",
    "#         sigma_inv = scipy.linalg.fractional_matrix_power(sigma, -0.5)\n",
    "#         Xpseudo_train = (Xpseudo_train.swapaxes(1, 2) @ sigma_inv).swapaxes(1, 2)\n",
    "#         Xpseudo_test = (Xpseudo_test.swapaxes(1, 2) @ sigma_inv).swapaxes(1, 2)\n",
    "        for t in range(n_time):\n",
    "                            # 3. Fit the classifier using training data\n",
    "            data_train = Xpseudo_train[:, :, t]\n",
    "            svm.fit(data_train, temp)                            \n",
    "            data_test = Xpseudo_test[:, :, t]\n",
    "            result[inx, t] = np.mean(svm.predict(data_test) == [1,2]) - 0.5 \n",
    "    out.append(result)\n",
    "    np.savez_compressed('temp',results=out)\n",
    "np.savez_compressed('fam_time',results=out)\n",
    "\n",
    "        \n",
    "        \n",
    "       \n",
    "        \n",
    "        "
   ]
  },
  {
   "cell_type": "code",
   "execution_count": 14,
   "metadata": {},
   "outputs": [
    {
     "data": {
      "text/plain": [
       "<matplotlib.legend.Legend at 0x1d062605848>"
      ]
     },
     "execution_count": 14,
     "metadata": {},
     "output_type": "execute_result"
    },
    {
     "data": {
      "image/png": "[encoded data removed]",
      "text/plain": [
       "<Figure size 1440x720 with 1 Axes>"
      ]
     },
     "metadata": {
      "needs_background": "light"
     },
     "output_type": "display_data"
    }
   ],
   "source": [
    "import numpy as np\n",
    "loaded = np.load('C:\\\\Users\\\\danne\\\\Documents\\\\UofT\\\\ImRecon\\\\fam_time.npz')\n",
    "corr = loaded['results']\n",
    "loaded = np.load('C:\\\\Users\\\\danne\\\\Documents\\\\UofT\\\\ImRecon\\\\fam_time_no_correction.npz')\n",
    "nocor = loaded['results']\n",
    "\n",
    "\n",
    "import matplotlib.pyplot as plt\n",
    "%matplotlib inline\n",
    "\n",
    "plt.figure(figsize=(20,10))\n",
    "plt.subplot(211)\n",
    "plt.plot(np.linspace(-100,1001,564), np.mean(corr, axis=(0,1)), 'b', label='corrected')\n",
    "plt.plot(np.linspace(-100,1001,564), np.mean(nocor, axis=(0,1)), 'g', label='uncorrected')\n",
    "plt.xlim((-100, 1000))\n",
    "plt.ylim((-0.1,0.1))\n",
    "plt.ylabel('Accuracy', fontsize=12)\n",
    "plt.legend(loc = 'lower right')"
   ]
  },
  {
   "cell_type": "markdown",
   "metadata": {},
   "source": [
    "# Correlations between imagery and perception"
   ]
  },
  {
   "cell_type": "code",
   "execution_count": 9,
   "metadata": {},
   "outputs": [
    {
     "name": "stderr",
     "output_type": "stream",
     "text": [
      "C:\\Users\\danne\\Anaconda3\\envs\\eeg_analysis\\lib\\site-packages\\ipykernel_launcher.py:9: RuntimeWarning: Mean of empty slice\n",
      "  if __name__ == '__main__':\n"
     ]
    },
    {
     "name": "stdout",
     "output_type": "stream",
     "text": [
      "Accuracy for the 5-seconds inbterval is 0.101471\n"
     ]
    },
    {
     "name": "stderr",
     "output_type": "stream",
     "text": [
      "C:\\Users\\danne\\Anaconda3\\envs\\eeg_analysis\\lib\\site-packages\\ipykernel_launcher.py:12: RuntimeWarning: Mean of empty slice\n",
      "  if sys.path[0] == '':\n",
      "C:\\Users\\danne\\Anaconda3\\envs\\eeg_analysis\\lib\\site-packages\\ipykernel_launcher.py:13: RuntimeWarning: Mean of empty slice\n",
      "  del sys.path[0]\n",
      "C:\\Users\\danne\\Anaconda3\\envs\\eeg_analysis\\lib\\site-packages\\ipykernel_launcher.py:14: RuntimeWarning: Mean of empty slice\n",
      "  \n"
     ]
    }
   ],
   "source": [
    "%run EEG_auxiliary_module.ipynb\n",
    "import numpy as np\n",
    "from scipy.stats import pearsonr\n",
    "from scipy.spatial.distance import squareform\n",
    "loaded = np.load('C:\\\\Users\\\\danne\\\\Documents\\\\UofT\\\\ImRecon\\\\combined.npz')\n",
    "perc = loaded['results']\n",
    "loaded = np.load('C:\\\\Users\\\\danne\\\\Documents\\\\UofT\\\\ImRecon\\\\imagery_combined.npz')\n",
    "imag_5 = loaded['results']\n",
    "perc = np.nanmean(perc,axis=1)\n",
    "perc = [isolate_perc_5(perc[i,:50,:50]) for i in range(perc.shape[0])]\n",
    "perc = np.array(perc)\n",
    "imag_5 = np.nanmean(imag_5,axis=1)\n",
    "a = np.nanmean(perc,axis=(0))\n",
    "b = np.nanmean(imag_5,axis=(0))\n",
    "a = a[~np.isnan(a)]\n",
    "b = b[~np.isnan(b)]\n",
    "print(\"Accuracy for the 5-seconds inbterval is %f\" %(np.nanmean(imag_5)))"
   ]
  },
  {
   "cell_type": "markdown",
   "metadata": {},
   "source": [
    "## Interpersonal correaltion perception X imagery 5 seconds"
   ]
  },
  {
   "cell_type": "code",
   "execution_count": 34,
   "metadata": {},
   "outputs": [
    {
     "data": {
      "text/plain": [
       "(0.17474642729548248, 0.5023423564875313)"
      ]
     },
     "execution_count": 34,
     "metadata": {},
     "output_type": "execute_result"
    }
   ],
   "source": [
    "pearsonr(np.nanmean(perc,axis=(1,2)),np.nanmean(imag_5,axis=(1,2)))"
   ]
  },
  {
   "cell_type": "markdown",
   "metadata": {},
   "source": [
    "## Inter-item correlation perception X imagery 5 seconds"
   ]
  },
  {
   "cell_type": "code",
   "execution_count": 49,
   "metadata": {},
   "outputs": [
    {
     "data": {
      "text/plain": [
       "(0.6265022720830651, 0.05260170917739324)"
      ]
     },
     "execution_count": 49,
     "metadata": {},
     "output_type": "execute_result"
    }
   ],
   "source": [
    "pearsonr(a,b)"
   ]
  },
  {
   "cell_type": "code",
   "execution_count": 11,
   "metadata": {},
   "outputs": [
    {
     "name": "stderr",
     "output_type": "stream",
     "text": [
      "C:\\Users\\danne\\Anaconda3\\envs\\eeg_analysis\\lib\\site-packages\\ipykernel_launcher.py:9: RuntimeWarning: Mean of empty slice\n",
      "  if __name__ == '__main__':\n"
     ]
    },
    {
     "name": "stdout",
     "output_type": "stream",
     "text": [
      "Accuracy for the 2-seconds inbterval is 0.097500\n"
     ]
    },
    {
     "name": "stderr",
     "output_type": "stream",
     "text": [
      "C:\\Users\\danne\\Anaconda3\\envs\\eeg_analysis\\lib\\site-packages\\ipykernel_launcher.py:12: RuntimeWarning: Mean of empty slice\n",
      "  if sys.path[0] == '':\n",
      "C:\\Users\\danne\\Anaconda3\\envs\\eeg_analysis\\lib\\site-packages\\ipykernel_launcher.py:13: RuntimeWarning: Mean of empty slice\n",
      "  del sys.path[0]\n",
      "C:\\Users\\danne\\Anaconda3\\envs\\eeg_analysis\\lib\\site-packages\\ipykernel_launcher.py:14: RuntimeWarning: Mean of empty slice\n",
      "  \n"
     ]
    }
   ],
   "source": [
    "%run EEG_auxiliary_module.ipynb\n",
    "import numpy as np\n",
    "from scipy.stats import pearsonr\n",
    "from scipy.spatial.distance import squareform\n",
    "loaded = np.load('C:\\\\Users\\\\danne\\\\Documents\\\\UofT\\\\ImRecon\\\\combined.npz')\n",
    "perc = loaded['results']\n",
    "loaded = np.load('C:\\\\Users\\\\danne\\\\Documents\\\\UofT\\\\ImRecon\\\\imagery_combined_2sec.npz')\n",
    "imag_2 = loaded['results']\n",
    "perc = np.nanmean(perc,axis=1)\n",
    "perc = [isolate_perc_5(perc[i,:50,:50]) for i in range(perc.shape[0])]\n",
    "perc = np.array(perc)\n",
    "imag_2 = np.nanmean(imag_2,axis=1)\n",
    "a = np.nanmean(perc,axis=(0))\n",
    "b = np.nanmean(imag_2,axis=(0))\n",
    "a = a[~np.isnan(a)]\n",
    "b = b[~np.isnan(b)]\n",
    "print(\"Accuracy for the 2-seconds inbterval is %f\" %(np.nanmean(imag_2)))"
   ]
  },
  {
   "cell_type": "markdown",
   "metadata": {},
   "source": [
    "## Interpersonal correaltion perception X imagery 2 seconds"
   ]
  },
  {
   "cell_type": "code",
   "execution_count": 6,
   "metadata": {},
   "outputs": [
    {
     "data": {
      "text/plain": [
       "(0.16247904736409324, 0.5332496356620995)"
      ]
     },
     "execution_count": 6,
     "metadata": {},
     "output_type": "execute_result"
    }
   ],
   "source": [
    "pearsonr(np.nanmean(perc,axis=(1,2)),np.nanmean(imag_5,axis=(1,2)))"
   ]
  },
  {
   "cell_type": "markdown",
   "metadata": {},
   "source": [
    "## Inter-item correlation perception X imagery 2 seconds"
   ]
  },
  {
   "cell_type": "code",
   "execution_count": 8,
   "metadata": {},
   "outputs": [
    {
     "data": {
      "text/plain": [
       "(0.4623577661054852, 0.1784847338649811)"
      ]
     },
     "execution_count": 8,
     "metadata": {},
     "output_type": "execute_result"
    }
   ],
   "source": [
    "pearsonr(a,b)"
   ]
  },
  {
   "cell_type": "code",
   "execution_count": 12,
   "metadata": {},
   "outputs": [
    {
     "data": {
      "text/plain": [
       "0.11132352941176471"
      ]
     },
     "execution_count": 12,
     "metadata": {},
     "output_type": "execute_result"
    }
   ],
   "source": [
    "np.nanmean(perc)"
   ]
  },
  {
   "cell_type": "markdown",
   "metadata": {},
   "source": [
    "# Computing normalized cumulative familiarity"
   ]
  },
  {
   "cell_type": "code",
   "execution_count": 14,
   "metadata": {},
   "outputs": [
    {
     "name": "stdout",
     "output_type": "stream",
     "text": [
      "Extracting EDF parameters from E:\\Ilya_study\\Data\\IR_02_S01.bdf...\n",
      "BDF file detected\n",
      "Setting channel info structure...\n",
      "Creating raw.info structure...\n",
      "Reading 0 ... 3385855  =      0.000 ...  6612.998 secs...\n",
      "Filtering raw data in 1 contiguous segment\n",
      "Setting up band-pass filter from 0.01 - 45 Hz\n",
      "\n",
      "IIR filter parameters\n",
      "---------------------\n",
      "Butterworth bandpass zero-phase (two-pass forward and reverse) non-causal filter:\n",
      "- Filter order 16 (effective, after forward-backward)\n",
      "- Cutoffs at 0.01, 45.00 Hz: -6.02, -6.02 dB\n",
      "\n",
      "1250 matching events found\n",
      "Applying baseline correction (mode: mean)\n",
      "Not setting metadata\n",
      "0 projection items activated\n",
      "Loading data for 1250 events and 564 original time points ...\n",
      "0 bad epochs dropped\n",
      "Extracting EDF parameters from E:\\Ilya_study\\Data\\IR_02_S02.bdf...\n",
      "BDF file detected\n",
      "Setting channel info structure...\n",
      "Creating raw.info structure...\n",
      "Reading 0 ... 2043391  =      0.000 ...  3990.998 secs...\n",
      "Filtering raw data in 1 contiguous segment\n",
      "Setting up band-pass filter from 0.01 - 45 Hz\n",
      "\n",
      "IIR filter parameters\n",
      "---------------------\n",
      "Butterworth bandpass zero-phase (two-pass forward and reverse) non-causal filter:\n",
      "- Filter order 16 (effective, after forward-backward)\n",
      "- Cutoffs at 0.01, 45.00 Hz: -6.02, -6.02 dB\n",
      "\n",
      "850 matching events found\n",
      "Applying baseline correction (mode: mean)\n",
      "Not setting metadata\n",
      "0 projection items activated\n",
      "Loading data for 850 events and 564 original time points ...\n",
      "0 bad epochs dropped\n",
      "2100 matching events found\n",
      "Applying baseline correction (mode: mean)\n",
      "Not setting metadata\n",
      "0 bad epochs dropped\n",
      "Dropped 0 epochs\n",
      "Extracting EDF parameters from E:\\Ilya_study\\Data\\IR_03_S01.bdf...\n",
      "BDF file detected\n",
      "Setting channel info structure...\n",
      "Creating raw.info structure...\n",
      "Reading 0 ... 3384319  =      0.000 ...  6609.998 secs...\n",
      "Filtering raw data in 1 contiguous segment\n",
      "Setting up band-pass filter from 0.01 - 45 Hz\n",
      "\n",
      "IIR filter parameters\n",
      "---------------------\n",
      "Butterworth bandpass zero-phase (two-pass forward and reverse) non-causal filter:\n",
      "- Filter order 16 (effective, after forward-backward)\n",
      "- Cutoffs at 0.01, 45.00 Hz: -6.02, -6.02 dB\n",
      "\n",
      "1250 matching events found\n",
      "Applying baseline correction (mode: mean)\n",
      "Not setting metadata\n",
      "0 projection items activated\n",
      "Loading data for 1250 events and 564 original time points ...\n",
      "0 bad epochs dropped\n",
      "Extracting EDF parameters from E:\\Ilya_study\\Data\\IR_03_S02.bdf...\n",
      "BDF file detected\n",
      "Setting channel info structure...\n",
      "Creating raw.info structure...\n",
      "Reading 0 ... 3386367  =      0.000 ...  6613.998 secs...\n",
      "Filtering raw data in 1 contiguous segment\n",
      "Setting up band-pass filter from 0.01 - 45 Hz\n",
      "\n",
      "IIR filter parameters\n",
      "---------------------\n",
      "Butterworth bandpass zero-phase (two-pass forward and reverse) non-causal filter:\n",
      "- Filter order 16 (effective, after forward-backward)\n",
      "- Cutoffs at 0.01, 45.00 Hz: -6.02, -6.02 dB\n",
      "\n",
      "1250 matching events found\n",
      "Applying baseline correction (mode: mean)\n",
      "Not setting metadata\n",
      "0 projection items activated\n",
      "Loading data for 1250 events and 564 original time points ...\n",
      "0 bad epochs dropped\n",
      "2500 matching events found\n",
      "Applying baseline correction (mode: mean)\n",
      "Not setting metadata\n",
      "0 bad epochs dropped\n",
      "Dropped 0 epochs\n",
      "Extracting EDF parameters from E:\\Ilya_study\\Data\\IR_04_S01.bdf...\n",
      "BDF file detected\n",
      "Setting channel info structure...\n",
      "Creating raw.info structure...\n",
      "Reading 0 ... 3386367  =      0.000 ...  6613.998 secs...\n",
      "Filtering raw data in 1 contiguous segment\n",
      "Setting up band-pass filter from 0.01 - 45 Hz\n",
      "\n",
      "IIR filter parameters\n",
      "---------------------\n",
      "Butterworth bandpass zero-phase (two-pass forward and reverse) non-causal filter:\n",
      "- Filter order 16 (effective, after forward-backward)\n",
      "- Cutoffs at 0.01, 45.00 Hz: -6.02, -6.02 dB\n",
      "\n",
      "1250 matching events found\n",
      "Applying baseline correction (mode: mean)\n",
      "Not setting metadata\n",
      "0 projection items activated\n",
      "Loading data for 1250 events and 564 original time points ...\n",
      "0 bad epochs dropped\n",
      "Extracting EDF parameters from E:\\Ilya_study\\Data\\IR_04_S02.bdf...\n",
      "BDF file detected\n",
      "Setting channel info structure...\n",
      "Creating raw.info structure...\n",
      "Reading 0 ... 3382783  =      0.000 ...  6606.998 secs...\n",
      "Filtering raw data in 1 contiguous segment\n",
      "Setting up band-pass filter from 0.01 - 45 Hz\n",
      "\n",
      "IIR filter parameters\n",
      "---------------------\n",
      "Butterworth bandpass zero-phase (two-pass forward and reverse) non-causal filter:\n",
      "- Filter order 16 (effective, after forward-backward)\n",
      "- Cutoffs at 0.01, 45.00 Hz: -6.02, -6.02 dB\n",
      "\n",
      "1250 matching events found\n",
      "Applying baseline correction (mode: mean)\n",
      "Not setting metadata\n",
      "0 projection items activated\n",
      "Loading data for 1250 events and 564 original time points ...\n",
      "0 bad epochs dropped\n",
      "2500 matching events found\n",
      "Applying baseline correction (mode: mean)\n",
      "Not setting metadata\n",
      "0 bad epochs dropped\n",
      "Dropped 0 epochs\n",
      "Extracting EDF parameters from E:\\Ilya_study\\Data\\IR_05_S01.bdf...\n",
      "BDF file detected\n",
      "Setting channel info structure...\n",
      "Creating raw.info structure...\n",
      "Reading 0 ... 3388415  =      0.000 ...  6617.998 secs...\n",
      "Filtering raw data in 1 contiguous segment\n",
      "Setting up band-pass filter from 0.01 - 45 Hz\n",
      "\n",
      "IIR filter parameters\n",
      "---------------------\n",
      "Butterworth bandpass zero-phase (two-pass forward and reverse) non-causal filter:\n",
      "- Filter order 16 (effective, after forward-backward)\n",
      "- Cutoffs at 0.01, 45.00 Hz: -6.02, -6.02 dB\n",
      "\n",
      "1250 matching events found\n",
      "Applying baseline correction (mode: mean)\n",
      "Not setting metadata\n",
      "0 projection items activated\n",
      "Loading data for 1250 events and 564 original time points ...\n",
      "0 bad epochs dropped\n",
      "Extracting EDF parameters from E:\\Ilya_study\\Data\\IR_05_S02.bdf...\n",
      "BDF file detected\n",
      "Setting channel info structure...\n",
      "Creating raw.info structure...\n",
      "Reading 0 ... 3387903  =      0.000 ...  6616.998 secs...\n",
      "Filtering raw data in 1 contiguous segment\n",
      "Setting up band-pass filter from 0.01 - 45 Hz\n",
      "\n",
      "IIR filter parameters\n",
      "---------------------\n",
      "Butterworth bandpass zero-phase (two-pass forward and reverse) non-causal filter:\n",
      "- Filter order 16 (effective, after forward-backward)\n",
      "- Cutoffs at 0.01, 45.00 Hz: -6.02, -6.02 dB\n",
      "\n",
      "1250 matching events found\n",
      "Applying baseline correction (mode: mean)\n",
      "Not setting metadata\n",
      "0 projection items activated\n",
      "Loading data for 1250 events and 564 original time points ...\n",
      "0 bad epochs dropped\n",
      "2500 matching events found\n",
      "Applying baseline correction (mode: mean)\n",
      "Not setting metadata\n",
      "0 bad epochs dropped\n",
      "Dropped 0 epochs\n",
      "Extracting EDF parameters from E:\\Ilya_study\\Data\\IR_06_S01.bdf...\n",
      "BDF file detected\n",
      "Setting channel info structure...\n",
      "Creating raw.info structure...\n",
      "Reading 0 ... 3386879  =      0.000 ...  6614.998 secs...\n",
      "Filtering raw data in 1 contiguous segment\n",
      "Setting up band-pass filter from 0.01 - 45 Hz\n",
      "\n",
      "IIR filter parameters\n",
      "---------------------\n",
      "Butterworth bandpass zero-phase (two-pass forward and reverse) non-causal filter:\n",
      "- Filter order 16 (effective, after forward-backward)\n",
      "- Cutoffs at 0.01, 45.00 Hz: -6.02, -6.02 dB\n",
      "\n",
      "1250 matching events found\n",
      "Applying baseline correction (mode: mean)\n",
      "Not setting metadata\n",
      "0 projection items activated\n",
      "Loading data for 1250 events and 564 original time points ...\n",
      "0 bad epochs dropped\n",
      "Extracting EDF parameters from E:\\Ilya_study\\Data\\IR_06_S02.bdf...\n",
      "BDF file detected\n",
      "Setting channel info structure...\n",
      "Creating raw.info structure...\n",
      "Reading 0 ... 3386879  =      0.000 ...  6614.998 secs...\n",
      "Filtering raw data in 1 contiguous segment\n",
      "Setting up band-pass filter from 0.01 - 45 Hz\n",
      "\n",
      "IIR filter parameters\n",
      "---------------------\n",
      "Butterworth bandpass zero-phase (two-pass forward and reverse) non-causal filter:\n",
      "- Filter order 16 (effective, after forward-backward)\n",
      "- Cutoffs at 0.01, 45.00 Hz: -6.02, -6.02 dB\n",
      "\n",
      "1250 matching events found\n",
      "Applying baseline correction (mode: mean)\n",
      "Not setting metadata\n",
      "0 projection items activated\n",
      "Loading data for 1250 events and 564 original time points ...\n",
      "0 bad epochs dropped\n",
      "2500 matching events found\n",
      "Applying baseline correction (mode: mean)\n",
      "Not setting metadata\n",
      "0 bad epochs dropped\n",
      "Dropped 0 epochs\n",
      "Extracting EDF parameters from E:\\Ilya_study\\Data\\IR_07_S01.bdf...\n",
      "BDF file detected\n",
      "Setting channel info structure...\n",
      "Creating raw.info structure...\n",
      "Reading 0 ... 3389439  =      0.000 ...  6619.998 secs...\n",
      "Filtering raw data in 1 contiguous segment\n",
      "Setting up band-pass filter from 0.01 - 45 Hz\n",
      "\n",
      "IIR filter parameters\n",
      "---------------------\n",
      "Butterworth bandpass zero-phase (two-pass forward and reverse) non-causal filter:\n",
      "- Filter order 16 (effective, after forward-backward)\n",
      "- Cutoffs at 0.01, 45.00 Hz: -6.02, -6.02 dB\n",
      "\n",
      "1250 matching events found\n",
      "Applying baseline correction (mode: mean)\n",
      "Not setting metadata\n",
      "0 projection items activated\n",
      "Loading data for 1250 events and 564 original time points ...\n",
      "0 bad epochs dropped\n",
      "Extracting EDF parameters from E:\\Ilya_study\\Data\\IR_07_S02.bdf...\n",
      "BDF file detected\n",
      "Setting channel info structure...\n",
      "Creating raw.info structure...\n",
      "Reading 0 ... 3389951  =      0.000 ...  6620.998 secs...\n",
      "Filtering raw data in 1 contiguous segment\n",
      "Setting up band-pass filter from 0.01 - 45 Hz\n",
      "\n",
      "IIR filter parameters\n",
      "---------------------\n",
      "Butterworth bandpass zero-phase (two-pass forward and reverse) non-causal filter:\n",
      "- Filter order 16 (effective, after forward-backward)\n",
      "- Cutoffs at 0.01, 45.00 Hz: -6.02, -6.02 dB\n",
      "\n",
      "1251 matching events found\n",
      "Applying baseline correction (mode: mean)\n",
      "Not setting metadata\n",
      "0 projection items activated\n",
      "Loading data for 1251 events and 564 original time points ...\n",
      "0 bad epochs dropped\n",
      "2501 matching events found\n",
      "Applying baseline correction (mode: mean)\n",
      "Not setting metadata\n",
      "0 bad epochs dropped\n",
      "Dropped 1 epoch\n",
      "Extracting EDF parameters from E:\\Ilya_study\\Data\\IR_08_S01.bdf...\n",
      "BDF file detected\n",
      "Setting channel info structure...\n",
      "Creating raw.info structure...\n",
      "Reading 0 ... 3384831  =      0.000 ...  6610.998 secs...\n",
      "Filtering raw data in 1 contiguous segment\n",
      "Setting up band-pass filter from 0.01 - 45 Hz\n",
      "\n",
      "IIR filter parameters\n",
      "---------------------\n",
      "Butterworth bandpass zero-phase (two-pass forward and reverse) non-causal filter:\n",
      "- Filter order 16 (effective, after forward-backward)\n",
      "- Cutoffs at 0.01, 45.00 Hz: -6.02, -6.02 dB\n",
      "\n",
      "1250 matching events found\n",
      "Applying baseline correction (mode: mean)\n",
      "Not setting metadata\n",
      "0 projection items activated\n",
      "Loading data for 1250 events and 564 original time points ...\n",
      "0 bad epochs dropped\n",
      "Extracting EDF parameters from E:\\Ilya_study\\Data\\IR_08_S02.bdf...\n",
      "BDF file detected\n",
      "Setting channel info structure...\n",
      "Creating raw.info structure...\n",
      "Reading 0 ... 3388415  =      0.000 ...  6617.998 secs...\n",
      "Filtering raw data in 1 contiguous segment\n",
      "Setting up band-pass filter from 0.01 - 45 Hz\n",
      "\n",
      "IIR filter parameters\n",
      "---------------------\n",
      "Butterworth bandpass zero-phase (two-pass forward and reverse) non-causal filter:\n",
      "- Filter order 16 (effective, after forward-backward)\n",
      "- Cutoffs at 0.01, 45.00 Hz: -6.02, -6.02 dB\n",
      "\n",
      "1251 matching events found\n",
      "Applying baseline correction (mode: mean)\n",
      "Not setting metadata\n",
      "0 projection items activated\n",
      "Loading data for 1251 events and 564 original time points ...\n",
      "0 bad epochs dropped\n",
      "2501 matching events found\n",
      "Applying baseline correction (mode: mean)\n",
      "Not setting metadata\n",
      "0 bad epochs dropped\n",
      "Dropped 1 epoch\n",
      "Extracting EDF parameters from E:\\Ilya_study\\Data\\IR_09_S01.bdf...\n",
      "BDF file detected\n",
      "Setting channel info structure...\n",
      "Creating raw.info structure...\n",
      "Reading 0 ... 3396095  =      0.000 ...  6632.998 secs...\n",
      "Filtering raw data in 1 contiguous segment\n",
      "Setting up band-pass filter from 0.01 - 45 Hz\n",
      "\n",
      "IIR filter parameters\n",
      "---------------------\n",
      "Butterworth bandpass zero-phase (two-pass forward and reverse) non-causal filter:\n",
      "- Filter order 16 (effective, after forward-backward)\n",
      "- Cutoffs at 0.01, 45.00 Hz: -6.02, -6.02 dB\n",
      "\n",
      "1250 matching events found\n",
      "Applying baseline correction (mode: mean)\n",
      "Not setting metadata\n",
      "0 projection items activated\n",
      "Loading data for 1250 events and 564 original time points ...\n",
      "0 bad epochs dropped\n",
      "Extracting EDF parameters from E:\\Ilya_study\\Data\\IR_09_S02.bdf...\n",
      "BDF file detected\n",
      "Setting channel info structure...\n",
      "Creating raw.info structure...\n",
      "Reading 0 ... 3391999  =      0.000 ...  6624.998 secs...\n",
      "Filtering raw data in 1 contiguous segment\n",
      "Setting up band-pass filter from 0.01 - 45 Hz\n",
      "\n",
      "IIR filter parameters\n",
      "---------------------\n",
      "Butterworth bandpass zero-phase (two-pass forward and reverse) non-causal filter:\n",
      "- Filter order 16 (effective, after forward-backward)\n",
      "- Cutoffs at 0.01, 45.00 Hz: -6.02, -6.02 dB\n",
      "\n",
      "1250 matching events found\n",
      "Applying baseline correction (mode: mean)\n",
      "Not setting metadata\n",
      "0 projection items activated\n",
      "Loading data for 1250 events and 564 original time points ...\n",
      "0 bad epochs dropped\n",
      "2500 matching events found\n",
      "Applying baseline correction (mode: mean)\n",
      "Not setting metadata\n",
      "0 bad epochs dropped\n",
      "Dropped 0 epochs\n",
      "Extracting EDF parameters from E:\\Ilya_study\\Data\\IR_10_S01.bdf...\n",
      "BDF file detected\n",
      "Setting channel info structure...\n",
      "Creating raw.info structure...\n",
      "Reading 0 ... 3385343  =      0.000 ...  6611.998 secs...\n",
      "Filtering raw data in 1 contiguous segment\n",
      "Setting up band-pass filter from 0.01 - 45 Hz\n",
      "\n",
      "IIR filter parameters\n",
      "---------------------\n",
      "Butterworth bandpass zero-phase (two-pass forward and reverse) non-causal filter:\n",
      "- Filter order 16 (effective, after forward-backward)\n",
      "- Cutoffs at 0.01, 45.00 Hz: -6.02, -6.02 dB\n",
      "\n",
      "1250 matching events found\n",
      "Applying baseline correction (mode: mean)\n",
      "Not setting metadata\n",
      "0 projection items activated\n",
      "Loading data for 1250 events and 564 original time points ...\n",
      "0 bad epochs dropped\n",
      "Extracting EDF parameters from E:\\Ilya_study\\Data\\IR_10_S02.bdf...\n",
      "BDF file detected\n",
      "Setting channel info structure...\n",
      "Creating raw.info structure...\n",
      "Reading 0 ... 3387391  =      0.000 ...  6615.998 secs...\n",
      "Filtering raw data in 1 contiguous segment\n",
      "Setting up band-pass filter from 0.01 - 45 Hz\n",
      "\n",
      "IIR filter parameters\n",
      "---------------------\n",
      "Butterworth bandpass zero-phase (two-pass forward and reverse) non-causal filter:\n",
      "- Filter order 16 (effective, after forward-backward)\n",
      "- Cutoffs at 0.01, 45.00 Hz: -6.02, -6.02 dB\n",
      "\n",
      "1250 matching events found\n",
      "Applying baseline correction (mode: mean)\n",
      "Not setting metadata\n",
      "0 projection items activated\n",
      "Loading data for 1250 events and 564 original time points ...\n",
      "0 bad epochs dropped\n",
      "2500 matching events found\n",
      "Applying baseline correction (mode: mean)\n",
      "Not setting metadata\n",
      "0 bad epochs dropped\n",
      "Dropped 0 epochs\n",
      "Extracting EDF parameters from E:\\Ilya_study\\Data\\IR_11_S01.bdf...\n",
      "BDF file detected\n",
      "Setting channel info structure...\n",
      "Creating raw.info structure...\n",
      "Reading 0 ... 3381247  =      0.000 ...  6603.998 secs...\n",
      "Filtering raw data in 1 contiguous segment\n",
      "Setting up band-pass filter from 0.01 - 45 Hz\n",
      "\n",
      "IIR filter parameters\n",
      "---------------------\n",
      "Butterworth bandpass zero-phase (two-pass forward and reverse) non-causal filter:\n",
      "- Filter order 16 (effective, after forward-backward)\n",
      "- Cutoffs at 0.01, 45.00 Hz: -6.02, -6.02 dB\n",
      "\n",
      "1250 matching events found\n",
      "Applying baseline correction (mode: mean)\n",
      "Not setting metadata\n",
      "0 projection items activated\n",
      "Loading data for 1250 events and 564 original time points ...\n",
      "0 bad epochs dropped\n",
      "Extracting EDF parameters from E:\\Ilya_study\\Data\\IR_11_S02.bdf...\n",
      "BDF file detected\n",
      "Setting channel info structure...\n",
      "Creating raw.info structure...\n",
      "Reading 0 ... 3391999  =      0.000 ...  6624.998 secs...\n",
      "Filtering raw data in 1 contiguous segment\n",
      "Setting up band-pass filter from 0.01 - 45 Hz\n",
      "\n",
      "IIR filter parameters\n",
      "---------------------\n",
      "Butterworth bandpass zero-phase (two-pass forward and reverse) non-causal filter:\n",
      "- Filter order 16 (effective, after forward-backward)\n",
      "- Cutoffs at 0.01, 45.00 Hz: -6.02, -6.02 dB\n",
      "\n",
      "1250 matching events found\n",
      "Applying baseline correction (mode: mean)\n",
      "Not setting metadata\n",
      "0 projection items activated\n",
      "Loading data for 1250 events and 564 original time points ...\n",
      "0 bad epochs dropped\n",
      "2500 matching events found\n",
      "Applying baseline correction (mode: mean)\n",
      "Not setting metadata\n",
      "0 bad epochs dropped\n",
      "Dropped 0 epochs\n",
      "Extracting EDF parameters from E:\\Ilya_study\\Data\\IR_12_S01.bdf...\n",
      "BDF file detected\n",
      "Setting channel info structure...\n",
      "Creating raw.info structure...\n",
      "Reading 0 ... 3384319  =      0.000 ...  6609.998 secs...\n",
      "Filtering raw data in 1 contiguous segment\n",
      "Setting up band-pass filter from 0.01 - 45 Hz\n",
      "\n",
      "IIR filter parameters\n",
      "---------------------\n",
      "Butterworth bandpass zero-phase (two-pass forward and reverse) non-causal filter:\n",
      "- Filter order 16 (effective, after forward-backward)\n",
      "- Cutoffs at 0.01, 45.00 Hz: -6.02, -6.02 dB\n",
      "\n",
      "1250 matching events found\n",
      "Applying baseline correction (mode: mean)\n",
      "Not setting metadata\n",
      "0 projection items activated\n",
      "Loading data for 1250 events and 564 original time points ...\n",
      "0 bad epochs dropped\n",
      "Extracting EDF parameters from E:\\Ilya_study\\Data\\IR_12_S02.bdf...\n",
      "BDF file detected\n",
      "Setting channel info structure...\n",
      "Creating raw.info structure...\n",
      "Reading 0 ... 3390975  =      0.000 ...  6622.998 secs...\n",
      "Filtering raw data in 1 contiguous segment\n",
      "Setting up band-pass filter from 0.01 - 45 Hz\n",
      "\n",
      "IIR filter parameters\n",
      "---------------------\n",
      "Butterworth bandpass zero-phase (two-pass forward and reverse) non-causal filter:\n",
      "- Filter order 16 (effective, after forward-backward)\n",
      "- Cutoffs at 0.01, 45.00 Hz: -6.02, -6.02 dB\n",
      "\n",
      "1250 matching events found\n",
      "Applying baseline correction (mode: mean)\n",
      "Not setting metadata\n",
      "0 projection items activated\n",
      "Loading data for 1250 events and 564 original time points ...\n",
      "0 bad epochs dropped\n",
      "2500 matching events found\n",
      "Applying baseline correction (mode: mean)\n",
      "Not setting metadata\n",
      "0 bad epochs dropped\n",
      "Dropped 0 epochs\n",
      "Extracting EDF parameters from E:\\Ilya_study\\Data\\IR_13_S01.bdf...\n",
      "BDF file detected\n",
      "Setting channel info structure...\n",
      "Creating raw.info structure...\n",
      "Reading 0 ... 3387391  =      0.000 ...  6615.998 secs...\n",
      "Filtering raw data in 1 contiguous segment\n",
      "Setting up band-pass filter from 0.01 - 45 Hz\n",
      "\n",
      "IIR filter parameters\n",
      "---------------------\n",
      "Butterworth bandpass zero-phase (two-pass forward and reverse) non-causal filter:\n",
      "- Filter order 16 (effective, after forward-backward)\n",
      "- Cutoffs at 0.01, 45.00 Hz: -6.02, -6.02 dB\n",
      "\n",
      "1250 matching events found\n",
      "Applying baseline correction (mode: mean)\n",
      "Not setting metadata\n",
      "0 projection items activated\n",
      "Loading data for 1250 events and 564 original time points ...\n",
      "0 bad epochs dropped\n",
      "Extracting EDF parameters from E:\\Ilya_study\\Data\\IR_13_S02.bdf...\n",
      "BDF file detected\n",
      "Setting channel info structure...\n",
      "Creating raw.info structure...\n",
      "Reading 0 ... 3386367  =      0.000 ...  6613.998 secs...\n",
      "Filtering raw data in 1 contiguous segment\n",
      "Setting up band-pass filter from 0.01 - 45 Hz\n",
      "\n",
      "IIR filter parameters\n",
      "---------------------\n",
      "Butterworth bandpass zero-phase (two-pass forward and reverse) non-causal filter:\n",
      "- Filter order 16 (effective, after forward-backward)\n",
      "- Cutoffs at 0.01, 45.00 Hz: -6.02, -6.02 dB\n",
      "\n",
      "1250 matching events found\n",
      "Applying baseline correction (mode: mean)\n",
      "Not setting metadata\n",
      "0 projection items activated\n",
      "Loading data for 1250 events and 564 original time points ...\n",
      "0 bad epochs dropped\n",
      "2500 matching events found\n",
      "Applying baseline correction (mode: mean)\n",
      "Not setting metadata\n",
      "0 bad epochs dropped\n",
      "Dropped 0 epochs\n",
      "Extracting EDF parameters from E:\\Ilya_study\\Data\\IR_14_S01.bdf...\n",
      "BDF file detected\n",
      "Setting channel info structure...\n",
      "Creating raw.info structure...\n",
      "Reading 0 ... 3397631  =      0.000 ...  6635.998 secs...\n",
      "Filtering raw data in 1 contiguous segment\n",
      "Setting up band-pass filter from 0.01 - 45 Hz\n",
      "\n",
      "IIR filter parameters\n",
      "---------------------\n",
      "Butterworth bandpass zero-phase (two-pass forward and reverse) non-causal filter:\n",
      "- Filter order 16 (effective, after forward-backward)\n",
      "- Cutoffs at 0.01, 45.00 Hz: -6.02, -6.02 dB\n",
      "\n",
      "1250 matching events found\n",
      "Applying baseline correction (mode: mean)\n",
      "Not setting metadata\n",
      "0 projection items activated\n",
      "Loading data for 1250 events and 564 original time points ...\n",
      "0 bad epochs dropped\n",
      "Extracting EDF parameters from E:\\Ilya_study\\Data\\IR_14_S02.bdf...\n",
      "BDF file detected\n",
      "Setting channel info structure...\n",
      "Creating raw.info structure...\n",
      "Reading 0 ... 3388415  =      0.000 ...  6617.998 secs...\n",
      "Filtering raw data in 1 contiguous segment\n",
      "Setting up band-pass filter from 0.01 - 45 Hz\n",
      "\n",
      "IIR filter parameters\n",
      "---------------------\n",
      "Butterworth bandpass zero-phase (two-pass forward and reverse) non-causal filter:\n",
      "- Filter order 16 (effective, after forward-backward)\n",
      "- Cutoffs at 0.01, 45.00 Hz: -6.02, -6.02 dB\n",
      "\n",
      "1250 matching events found\n",
      "Applying baseline correction (mode: mean)\n",
      "Not setting metadata\n",
      "0 projection items activated\n",
      "Loading data for 1250 events and 564 original time points ...\n",
      "0 bad epochs dropped\n",
      "2500 matching events found\n",
      "Applying baseline correction (mode: mean)\n",
      "Not setting metadata\n",
      "0 bad epochs dropped\n",
      "Dropped 0 epochs\n",
      "Extracting EDF parameters from E:\\Ilya_study\\Data\\IR_15_S01.bdf...\n",
      "BDF file detected\n",
      "Setting channel info structure...\n",
      "Creating raw.info structure...\n",
      "Reading 0 ... 3387391  =      0.000 ...  6615.998 secs...\n",
      "Filtering raw data in 1 contiguous segment\n",
      "Setting up band-pass filter from 0.01 - 45 Hz\n",
      "\n",
      "IIR filter parameters\n",
      "---------------------\n",
      "Butterworth bandpass zero-phase (two-pass forward and reverse) non-causal filter:\n",
      "- Filter order 16 (effective, after forward-backward)\n",
      "- Cutoffs at 0.01, 45.00 Hz: -6.02, -6.02 dB\n",
      "\n",
      "1250 matching events found\n",
      "Applying baseline correction (mode: mean)\n",
      "Not setting metadata\n",
      "0 projection items activated\n",
      "Loading data for 1250 events and 564 original time points ...\n",
      "0 bad epochs dropped\n",
      "Extracting EDF parameters from E:\\Ilya_study\\Data\\IR_15_S02.bdf...\n",
      "BDF file detected\n",
      "Setting channel info structure...\n",
      "Creating raw.info structure...\n",
      "Reading 0 ... 3401215  =      0.000 ...  6642.998 secs...\n",
      "Filtering raw data in 1 contiguous segment\n",
      "Setting up band-pass filter from 0.01 - 45 Hz\n",
      "\n",
      "IIR filter parameters\n",
      "---------------------\n",
      "Butterworth bandpass zero-phase (two-pass forward and reverse) non-causal filter:\n",
      "- Filter order 16 (effective, after forward-backward)\n",
      "- Cutoffs at 0.01, 45.00 Hz: -6.02, -6.02 dB\n",
      "\n",
      "1250 matching events found\n",
      "Applying baseline correction (mode: mean)\n",
      "Not setting metadata\n",
      "0 projection items activated\n",
      "Loading data for 1250 events and 564 original time points ...\n",
      "0 bad epochs dropped\n",
      "2500 matching events found\n",
      "Applying baseline correction (mode: mean)\n",
      "Not setting metadata\n",
      "0 bad epochs dropped\n",
      "Dropped 0 epochs\n",
      "Extracting EDF parameters from E:\\Ilya_study\\Data\\IR_16_S01.bdf...\n",
      "BDF file detected\n",
      "Setting channel info structure...\n",
      "Creating raw.info structure...\n",
      "Reading 0 ... 3388415  =      0.000 ...  6617.998 secs...\n",
      "Filtering raw data in 1 contiguous segment\n",
      "Setting up band-pass filter from 0.01 - 45 Hz\n",
      "\n",
      "IIR filter parameters\n",
      "---------------------\n",
      "Butterworth bandpass zero-phase (two-pass forward and reverse) non-causal filter:\n",
      "- Filter order 16 (effective, after forward-backward)\n",
      "- Cutoffs at 0.01, 45.00 Hz: -6.02, -6.02 dB\n",
      "\n",
      "1250 matching events found\n",
      "Applying baseline correction (mode: mean)\n",
      "Not setting metadata\n",
      "0 projection items activated\n",
      "Loading data for 1250 events and 564 original time points ...\n",
      "0 bad epochs dropped\n",
      "Extracting EDF parameters from E:\\Ilya_study\\Data\\IR_16_S02.bdf...\n",
      "BDF file detected\n",
      "Setting channel info structure...\n",
      "Creating raw.info structure...\n",
      "Reading 0 ... 3390975  =      0.000 ...  6622.998 secs...\n",
      "Filtering raw data in 1 contiguous segment\n",
      "Setting up band-pass filter from 0.01 - 45 Hz\n",
      "\n",
      "IIR filter parameters\n",
      "---------------------\n",
      "Butterworth bandpass zero-phase (two-pass forward and reverse) non-causal filter:\n",
      "- Filter order 16 (effective, after forward-backward)\n",
      "- Cutoffs at 0.01, 45.00 Hz: -6.02, -6.02 dB\n",
      "\n",
      "1250 matching events found\n",
      "Applying baseline correction (mode: mean)\n",
      "Not setting metadata\n",
      "0 projection items activated\n",
      "Loading data for 1250 events and 564 original time points ...\n",
      "0 bad epochs dropped\n",
      "2500 matching events found\n",
      "Applying baseline correction (mode: mean)\n",
      "Not setting metadata\n",
      "0 bad epochs dropped\n",
      "Dropped 0 epochs\n",
      "Extracting EDF parameters from E:\\Ilya_study\\Data\\IR_17_S01.bdf...\n",
      "BDF file detected\n",
      "Setting channel info structure...\n",
      "Creating raw.info structure...\n",
      "Reading 0 ... 3389439  =      0.000 ...  6619.998 secs...\n",
      "Filtering raw data in 1 contiguous segment\n",
      "Setting up band-pass filter from 0.01 - 45 Hz\n",
      "\n",
      "IIR filter parameters\n",
      "---------------------\n",
      "Butterworth bandpass zero-phase (two-pass forward and reverse) non-causal filter:\n",
      "- Filter order 16 (effective, after forward-backward)\n",
      "- Cutoffs at 0.01, 45.00 Hz: -6.02, -6.02 dB\n",
      "\n",
      "1250 matching events found\n",
      "Applying baseline correction (mode: mean)\n",
      "Not setting metadata\n",
      "0 projection items activated\n",
      "Loading data for 1250 events and 564 original time points ...\n",
      "0 bad epochs dropped\n",
      "Extracting EDF parameters from E:\\Ilya_study\\Data\\IR_17_S02.bdf...\n",
      "BDF file detected\n",
      "Setting channel info structure...\n",
      "Creating raw.info structure...\n",
      "Reading 0 ... 3385855  =      0.000 ...  6612.998 secs...\n",
      "Filtering raw data in 1 contiguous segment\n",
      "Setting up band-pass filter from 0.01 - 45 Hz\n",
      "\n",
      "IIR filter parameters\n",
      "---------------------\n",
      "Butterworth bandpass zero-phase (two-pass forward and reverse) non-causal filter:\n",
      "- Filter order 16 (effective, after forward-backward)\n",
      "- Cutoffs at 0.01, 45.00 Hz: -6.02, -6.02 dB\n",
      "\n",
      "1251 matching events found\n",
      "Applying baseline correction (mode: mean)\n",
      "Not setting metadata\n",
      "0 projection items activated\n",
      "Loading data for 1251 events and 564 original time points ...\n",
      "0 bad epochs dropped\n",
      "2501 matching events found\n",
      "Applying baseline correction (mode: mean)\n",
      "Not setting metadata\n",
      "0 bad epochs dropped\n",
      "Dropped 1 epoch\n",
      "Extracting EDF parameters from E:\\Ilya_study\\Data\\IR_18_S01.bdf...\n",
      "BDF file detected\n",
      "Setting channel info structure...\n",
      "Creating raw.info structure...\n",
      "Reading 0 ... 3393023  =      0.000 ...  6626.998 secs...\n",
      "Filtering raw data in 1 contiguous segment\n",
      "Setting up band-pass filter from 0.01 - 45 Hz\n",
      "\n",
      "IIR filter parameters\n",
      "---------------------\n",
      "Butterworth bandpass zero-phase (two-pass forward and reverse) non-causal filter:\n",
      "- Filter order 16 (effective, after forward-backward)\n",
      "- Cutoffs at 0.01, 45.00 Hz: -6.02, -6.02 dB\n",
      "\n",
      "1250 matching events found\n",
      "Applying baseline correction (mode: mean)\n",
      "Not setting metadata\n",
      "0 projection items activated\n",
      "Loading data for 1250 events and 564 original time points ...\n",
      "0 bad epochs dropped\n",
      "Extracting EDF parameters from E:\\Ilya_study\\Data\\IR_18_S02.bdf...\n",
      "BDF file detected\n",
      "Setting channel info structure...\n",
      "Creating raw.info structure...\n",
      "Reading 0 ... 3389951  =      0.000 ...  6620.998 secs...\n",
      "Filtering raw data in 1 contiguous segment\n",
      "Setting up band-pass filter from 0.01 - 45 Hz\n",
      "\n",
      "IIR filter parameters\n",
      "---------------------\n",
      "Butterworth bandpass zero-phase (two-pass forward and reverse) non-causal filter:\n",
      "- Filter order 16 (effective, after forward-backward)\n",
      "- Cutoffs at 0.01, 45.00 Hz: -6.02, -6.02 dB\n",
      "\n",
      "1250 matching events found\n",
      "Applying baseline correction (mode: mean)\n",
      "Not setting metadata\n",
      "0 projection items activated\n",
      "Loading data for 1250 events and 564 original time points ...\n",
      "0 bad epochs dropped\n",
      "2500 matching events found\n",
      "Applying baseline correction (mode: mean)\n",
      "Not setting metadata\n",
      "0 bad epochs dropped\n",
      "Dropped 0 epochs\n"
     ]
    }
   ],
   "source": [
    "import discr_inverted as di\n",
    "import numpy as np\n",
    "import mne\n",
    "from sklearn.discriminant_analysis import _cov    \n",
    "import scipy\n",
    "from sklearn.svm import SVC\n",
    "\n",
    "infolder = 'E:\\Ilya_study\\Data'\n",
    "out = list()\n",
    "trigs=list(range(101, 151))\n",
    "event_ids={str(x):x for x in trigs}\n",
    "im_times=(-0.1,1)\n",
    "filt=(0.01,45)\n",
    "subs = [2,3,4,5,6,7,8,9,10,11,12,13,14,15,16,17,18]\n",
    "np.random.seed(10)\n",
    "n_perm = 20  # number of permutations\n",
    "n_pseudo = 12  # number of pseudo-trials\n",
    "baseline = (None, 0)\n",
    "stims = np.arange(len(trigs))\n",
    "n_stims = len(trigs)\n",
    "half = int(n_stims/2)\n",
    "y = [1]*half+[2]*half\n",
    "svm = SVC(kernel='linear')\n",
    "for i,sub in enumerate(subs):\n",
    "    fnames = [infolder+'/IR_'+str(sub).zfill(2)+'_S01.bdf',infolder+'/IR_'+str(sub).zfill(2)+'_S02.bdf']\n",
    "    epochs = []\n",
    "    for fname in fnames:\n",
    "        raw = mne.io.read_raw_bdf(fname, preload=True).filter(filt[0], filt[1], method='iir')\n",
    "        events = mne.find_events(raw, initial_event=True, \n",
    "                                consecutive=True, shortest_event=1, verbose=0)\n",
    "        temp = mne.Epochs(raw, events, event_ids, im_times[0], im_times[1],\n",
    "                         baseline=baseline, preload=True, detrend = 1)\n",
    "        epochs.append(temp)\n",
    "    epochs = mne.concatenate_epochs(epochs)\n",
    "    epochs.drop_channels(['Status']).equalize_event_counts(event_ids=event_ids, method='mintime')\n",
    "    X = [epochs[str(i)].average().data for i in np.unique(trigs)]\n",
    "    X = np.array(X)\n",
    "    X = X[:,:,75:384] # selecting 50 to 650 ms.\n",
    "    pairs = list(zip(np.random.permutation(half),np.random.permutation(half)+half))\n",
    "    n_sensors = X.shape[1]\n",
    "    n_conditions = np.unique(y).shape[0]\n",
    "    n_time = X.shape[2]\n",
    "    result = np.full((len(pairs)), np.nan)\n",
    "    for inx, tests in enumerate(pairs):\n",
    "        test_indices = np.where(np.logical_or(stims == pairs[inx][0], stims == pairs[inx][1]))[0]\n",
    "        train_indices = np.where(np.logical_not(np.logical_or(stims == pairs[inx][0], stims == pairs[inx][1])))[0]\n",
    "        temp = y.copy()\n",
    "        temp.pop(pairs[inx][0])\n",
    "        temp.pop(pairs[inx][1]-1)\n",
    "        Xpseudo_train = X[train_indices,:,:]\n",
    "        Xpseudo_test = X[test_indices,:,:]\n",
    "        sigma_ = np.empty((n_conditions, n_sensors, n_sensors))\n",
    "        for k,c in enumerate(np.unique(y)):\n",
    "                # compute sigma for each time point, then average across time\n",
    "            sigma_[k] = np.mean([_cov(Xpseudo_train[temp==c, :, t], shrinkage='auto')\n",
    "                                             for t in range(n_time)], axis=0)\n",
    "        sigma = sigma_.mean(axis=0)  # average across conditions\n",
    "        sigma_inv = scipy.linalg.fractional_matrix_power(sigma, -0.5)\n",
    "        Xpseudo_train = (Xpseudo_train.swapaxes(1, 2) @ sigma_inv).swapaxes(1, 2)\n",
    "        Xpseudo_test = (Xpseudo_test.swapaxes(1, 2) @ sigma_inv).swapaxes(1, 2)\n",
    "        Xpseudo_train = np.reshape(Xpseudo_train, (Xpseudo_train.shape[0], Xpseudo_train.shape[1]*Xpseudo_train.shape[2]), order='F')\n",
    "        svm.fit(Xpseudo_train, temp)                            \n",
    "        Xpseudo_test = np.reshape(Xpseudo_test, (Xpseudo_test.shape[0], Xpseudo_test.shape[1]*Xpseudo_test.shape[2]), order='F')\n",
    "        result[inx] = np.mean(svm.predict(Xpseudo_test) == [1,2]) - 0.5 \n",
    "    out.append(result)\n",
    "    np.savez_compressed('temp',results=out)\n",
    "out = np.array(out)\n",
    "np.savez_compressed('fam_cumul',results=out)\n"
   ]
  },
  {
   "cell_type": "code",
   "execution_count": 17,
   "metadata": {},
   "outputs": [
    {
     "data": {
      "text/plain": [
       "0.011764705882352941"
      ]
     },
     "execution_count": 17,
     "metadata": {},
     "output_type": "execute_result"
    }
   ],
   "source": [
    "np.nanmean(out)"
   ]
  },
  {
   "cell_type": "markdown",
   "metadata": {},
   "source": [
    "# T-test for inter-item correlations"
   ]
  },
  {
   "cell_type": "code",
   "execution_count": 23,
   "metadata": {},
   "outputs": [
    {
     "name": "stderr",
     "output_type": "stream",
     "text": [
      "C:\\Users\\danne\\Anaconda3\\envs\\eeg_analysis\\lib\\site-packages\\ipykernel_launcher.py:9: RuntimeWarning: Mean of empty slice\n",
      "  if __name__ == '__main__':\n",
      "C:\\Users\\danne\\Anaconda3\\envs\\eeg_analysis\\lib\\site-packages\\ipykernel_launcher.py:12: RuntimeWarning: Mean of empty slice\n",
      "  if sys.path[0] == '':\n"
     ]
    }
   ],
   "source": [
    "%run EEG_auxiliary_module.ipynb\n",
    "import numpy as np\n",
    "from scipy.stats import pearsonr\n",
    "from scipy.spatial.distance import squareform\n",
    "loaded = np.load('C:\\\\Users\\\\danne\\\\Documents\\\\UofT\\\\ImRecon\\\\combined.npz')\n",
    "perc = loaded['results']\n",
    "loaded = np.load('C:\\\\Users\\\\danne\\\\Documents\\\\UofT\\\\ImRecon\\\\imagery_combined.npz')\n",
    "imag_5 = loaded['results']\n",
    "perc = np.nanmean(perc,axis=1)\n",
    "perc = [isolate_perc_5(perc[i,:50,:50]) for i in range(perc.shape[0])]\n",
    "perc = np.array(perc)\n",
    "imag_5 = np.nanmean(imag_5, axis=1)\n",
    "corrs = list()\n",
    "for i in range(imag_5.shape[0]):\n",
    "    temp = imag_5[i,:,:]\n",
    "    corr_a = temp[~np.isnan(temp)]\n",
    "    temp = perc[i,:,:]\n",
    "    corr_b = temp[~np.isnan(temp)]\n",
    "    corrs.append(pearsonr(corr_a,corr_b)[0])"
   ]
  },
  {
   "cell_type": "code",
   "execution_count": 44,
   "metadata": {},
   "outputs": [
    {
     "name": "stdout",
     "output_type": "stream",
     "text": [
      "Ttest_1sampResult(statistic=1.4183042580929734, pvalue=0.17528566523364622)\n",
      "0.1383760061825413\n"
     ]
    }
   ],
   "source": [
    "from scipy import stats\n",
    "import numpy as np\n",
    "corrs_fisher = [np.arctanh(i) for i in corrs]\n",
    "print(stats.ttest_1samp(corrs_fisher,0,axis=0))\n",
    "print(np.mean(np.array(corrs_fisher)))\n"
   ]
  },
  {
   "cell_type": "markdown",
   "metadata": {},
   "source": [
    "## Correlation with TO"
   ]
  },
  {
   "cell_type": "code",
   "execution_count": 23,
   "metadata": {},
   "outputs": [
    {
     "name": "stderr",
     "output_type": "stream",
     "text": [
      "C:\\Users\\danne\\Anaconda3\\envs\\eeg_analysis\\lib\\site-packages\\ipykernel_launcher.py:15: RuntimeWarning: Mean of empty slice\n",
      "  from ipykernel import kernelapp as app\n"
     ]
    },
    {
     "data": {
      "text/plain": [
       "(0.02759494449790384, 0.3345343810704185)"
      ]
     },
     "execution_count": 23,
     "metadata": {},
     "output_type": "execute_result"
    }
   ],
   "source": [
    "import numpy as np\n",
    "import pandas as pd\n",
    "from scipy.spatial.distance import squareform, pdist\n",
    "from scipy.stats import pearsonr\n",
    "%run general_tools.ipynb\n",
    "%run EEG_auxiliary_module.ipynb\n",
    "\n",
    "\n",
    "stims = pd.read_csv('C:\\\\Users\\\\danne\\\\Dropbox\\\\Ilya_study\\\\Stimuli\\\\stims.csv')\n",
    "descr = pd.read_csv('C:\\\\Users\\\\danne\\\\Dropbox\\\\Ilya_study\\\\Analysis\\\\description.csv', index_col = 'Nums') # loading origin desription\n",
    "dist = pdist(stims.T)\n",
    "\n",
    "loaded = np.load('C:\\\\Users\\\\danne\\\\Documents\\\\UofT\\\\ImRecon\\\\combined.npz')\n",
    "temp = loaded['results']\n",
    "temp = np.nanmean(temp, axis=(0,1))\n",
    "data_new = np.squeeze(squareform(squareform(temp, checks=False)))\n",
    "data_new = squareform(data_new[:50,:50])\n",
    "\n",
    "out = pearsonr(dist,data_new)\n",
    "out"
   ]
  },
  {
   "cell_type": "code",
   "execution_count": 43,
   "metadata": {},
   "outputs": [
    {
     "name": "stdout",
     "output_type": "stream",
     "text": [
      "Correlation of famous faces is 0.000590\n",
      "Correlation of unfamiliar faces is -0.077134\n",
      "Correlation of 5 faces from perception and to is 0.079505\n",
      "Correlation of 5 faces from imagery and to is 0.217152\n"
     ]
    },
    {
     "name": "stderr",
     "output_type": "stream",
     "text": [
      "C:\\Users\\danne\\Anaconda3\\envs\\eeg_analysis\\lib\\site-packages\\ipykernel_launcher.py:7: RuntimeWarning: Mean of empty slice\n",
      "  import sys\n"
     ]
    }
   ],
   "source": [
    "to = squareform(dist)\n",
    "perc = squareform(data_new)\n",
    "perc_5 = isolate_perc_5(perc)\n",
    "to_5 = isolate_perc_5(to)\n",
    "loaded = np.load('C:\\\\Users\\\\danne\\\\Documents\\\\UofT\\\\ImRecon\\\\imagery_combined.npz')\n",
    "imag_5 = loaded['results']\n",
    "imag_5 = np.nanmean(imag_5, axis=(0,1))\n",
    "imag_5 = squareform(imag_5, checks=False)\n",
    "\n",
    "print('Correlation of famous faces is %f'%(pearsonr(squareform(to[25:50,25:50]),squareform(perc[25:50,25:50]))[0]))\n",
    "print('Correlation of unfamiliar faces is %f'%(pearsonr(squareform(to[:25,:25]),squareform(perc[:25,:25]))[0]))\n",
    "print('Correlation of 5 faces from perception and to is %f'\\\n",
    "      %(pearsonr(squareform(perc_5),squareform(to_5))[0]))\n",
    "print('Correlation of 5 faces from imagery and to is %f'\\\n",
    "      %(pearsonr(imag_5,squareform(to_5))[0]))"
   ]
  },
  {
   "cell_type": "code",
   "execution_count": 42,
   "metadata": {},
   "outputs": [
    {
     "data": {
      "text/plain": [
       "array([[0.        , 0.13676471, 0.14852941, 0.15294118, 0.18382353],\n",
       "       [0.13676471, 0.        , 0.11470588, 0.10147059, 0.15      ],\n",
       "       [0.14852941, 0.11470588, 0.        , 0.05147059, 0.05588235],\n",
       "       [0.15294118, 0.10147059, 0.05147059, 0.        , 0.01764706],\n",
       "       [0.18382353, 0.15      , 0.05588235, 0.01764706, 0.        ]])"
      ]
     },
     "execution_count": 42,
     "metadata": {},
     "output_type": "execute_result"
    }
   ],
   "source": [
    "perc_5"
   ]
  },
  {
   "cell_type": "code",
   "execution_count": null,
   "metadata": {},
   "outputs": [],
   "source": []
  }
 ],
 "metadata": {
  "kernelspec": {
   "display_name": "Python 3",
   "language": "python",
   "name": "python3"
  },
  "language_info": {
   "codemirror_mode": {
    "name": "ipython",
    "version": 3
   },
   "file_extension": ".py",
   "mimetype": "text/x-python",
   "name": "python",
   "nbconvert_exporter": "python",
   "pygments_lexer": "ipython3",
   "version": "3.7.5"
  }
 },
 "nbformat": 4,
 "nbformat_minor": 4
}
