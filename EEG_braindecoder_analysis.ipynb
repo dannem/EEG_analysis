{
 "cells": [
  {
   "cell_type": "code",
   "execution_count": 1,
   "metadata": {},
   "outputs": [],
   "source": [
    "%reset -f\n",
    "import mne\n",
    "from mne.io import concatenate_raws as conc\n",
    "#from braindecode.mne_ext.signalproc import concatenate_raws_with_events as conc\n",
    "from braindecode.mne_ext.signalproc import resample_cnt as resample\n",
    "import os\n",
    "\n",
    "%run EEG_auxiliary_module.ipynb\n",
    "%run general_tools.ipynb\n",
    "%run analysis_classes.ipynb\n",
    "infolder, outfolder = find_folder()\n",
    "\n",
    "# paramters\n",
    "num=17\n",
    "freq_rate = 200\n",
    "low_pass = 0.1\n",
    "high_pass = 50\n",
    "im_start, im_end = -0.1, 5\n",
    "pr_start, pr_end = -0.1, 1"
   ]
  },
  {
   "cell_type": "code",
   "execution_count": 2,
   "metadata": {},
   "outputs": [
    {
     "name": "stdout",
     "output_type": "stream",
     "text": [
      "Progress: [####################] 98.5%\n"
     ]
    },
    {
     "name": "stderr",
     "output_type": "stream",
     "text": [
      "/pkgs/anaconda3/lib/python3.7/site-packages/scipy/stats/stats.py:2315: RuntimeWarning: invalid value encountered in true_divide\n",
      "  return (a - mns) / sstd\n",
      "/pkgs/anaconda3/lib/python3.7/site-packages/ipykernel_launcher.py:42: RuntimeWarning: invalid value encountered in greater\n",
      "/pkgs/anaconda3/lib/python3.7/site-packages/ipykernel_launcher.py:43: RuntimeWarning: invalid value encountered in less\n"
     ]
    },
    {
     "name": "stdout",
     "output_type": "stream",
     "text": [
      "Creating RawArray with float64 data, n_channels=65, n_times=6775296\n",
      "    Range : 0 ... 6775295 =      0.000 ... 13232.998 secs\n",
      "Ready.\n",
      "EEG channel type selected for re-referencing\n",
      "Applying average reference.\n",
      "Applying a custom EEG reference.\n"
     ]
    },
    {
     "data": {
      "text/plain": [
       "<RawArray  |  None, n_channels x n_times : 65 x 6775296 (13233.0 sec), ~3.28 GB, data loaded>"
      ]
     },
     "execution_count": 2,
     "metadata": {},
     "output_type": "execute_result"
    }
   ],
   "source": [
    "%run analysis_classes.ipynb\n",
    "files = ['IR_'+str(num)+'_S01.bdf','IR_'+str(num)+'_S02.bdf']\n",
    "add_files = [os.path.join(infolder,a) for a in files]\n",
    "\n",
    "\n",
    "# Load each of the files\n",
    "parts = [mne.io.read_raw_bdf(path, preload=True,stim_channel='auto', verbose='WARNING')\n",
    "         for path in add_files]\n",
    "\n",
    "# Concatenate them\n",
    "raw = conc(parts)\n",
    "events = mne.find_events(raw, initial_event=True,consecutive=True, shortest_event=1)\n",
    "raw.filter(low_pass,high_pass,method='iir')\n",
    "raw = custom_tools(raw).running_zscore_threshold(window_size=500)\n",
    "#raw = custom_tools(raw).ems()\n",
    "raw.set_eeg_reference(ref_channels='average', projection=False, ch_type='auto', verbose=None)"
   ]
  },
  {
   "cell_type": "code",
   "execution_count": 3,
   "metadata": {},
   "outputs": [
    {
     "name": "stdout",
     "output_type": "stream",
     "text": [
      "484 matching events found\n",
      "Applying baseline correction (mode: mean)\n",
      "Not setting metadata\n",
      "0 projection items activated\n",
      "Loading data for 484 events and 2612 original time points ...\n",
      "0 bad epochs dropped\n",
      "Dropped 4 epochs\n",
      "Starting saving\n",
      "Overwriting existing file.\n",
      "5002 matching events found\n",
      "Applying baseline correction (mode: mean)\n",
      "Not setting metadata\n",
      "0 projection items activated\n",
      "Loading data for 5002 events and 564 original time points ...\n",
      "0 bad epochs dropped\n",
      "Dropped 2 epochs\n",
      "Starting saving\n",
      "Overwriting existing file.\n"
     ]
    }
   ],
   "source": [
    "events = events.astype('int')\n",
    "baseline = (None, 0)  # means from the first instant to t = 0     \n",
    "#raw.drop_channels(['Status'])\n",
    "\n",
    "# segmenting imagery\n",
    "trigs=list(range(31, 36))\n",
    "event_ids={str(x):x for x in trigs}\n",
    "\n",
    "ep_img = mne.Epochs(raw, events, event_ids, im_start, im_end,\n",
    "                baseline=baseline, preload=True)\n",
    "ep_img.equalize_event_counts(event_ids=event_ids, method='mintime') \n",
    "ep_img.resample(freq_rate)\n",
    "print('Starting saving')\n",
    "ep_img.save(os.path.join(outfolder,'nn_img_S'+str(num)+'-epo.fif'), overwrite=True)\n",
    "\n",
    "# segmenting perception\n",
    "trigs=list(range(101, 151))+list(range(201, 251))\n",
    "event_ids={str(x):x for x in trigs}\n",
    "\n",
    "ep_prc = mne.Epochs(raw, events, event_ids, pr_start, pr_end,\n",
    "                baseline=baseline, preload=True)\n",
    "ep_prc.equalize_event_counts(event_ids=event_ids, method='mintime') \n",
    "ep_prc.resample(freq_rate)\n",
    "\n",
    "print('Starting saving')\n",
    "ep_prc.save(os.path.join(outfolder,'nn_prc_S'+str(num)+'-epo.fif'), overwrite=True)"
   ]
  },
  {
   "cell_type": "code",
   "execution_count": 4,
   "metadata": {},
   "outputs": [
    {
     "name": "stdout",
     "output_type": "stream",
     "text": [
      "Progress: [####################] 100.0%\n",
      "The overall accuracy is 51.9 and the duration is 2.7 minutes\n"
     ]
    },
    {
     "data": {
      "text/plain": [
       "32512"
      ]
     },
     "execution_count": 4,
     "metadata": {},
     "output_type": "execute_result"
    }
   ],
   "source": [
    "import pandas as pd\n",
    "%run EEG_auxiliary_module.ipynb\n",
    "im_names = ['mcy','sgo','sjo','est','tsw']\n",
    "times=[(1,2)]\n",
    "times=[(0,5),(0,4),(0,3),(0,2),(0,1),(1,2),(1,3),(1,4),(1,5),(2,3),(2,4),(2,5),(3,4),(3,5),(4,5)]\n",
    "results=[]# Loading first S08 session\n",
    "durs=[];\n",
    "for i in times:\n",
    "    X, Y = convert_epochs_to_2D_array(ep_img, times=i)\n",
    "    confusion, duration = run_eeg_svm(X,Y,12)\n",
    "    results.append(confusion)\n",
    "    durs.append(duration)\n",
    "\n",
    "os.system('say \"your program has finished\"')"
   ]
  },
  {
   "cell_type": "code",
   "execution_count": 5,
   "metadata": {},
   "outputs": [
    {
     "name": "stdout",
     "output_type": "stream",
     "text": [
      "Accuracy of the entire set is 55.31%\n",
      "Accuracy of the entire set is 55.73%\n",
      "Accuracy of the entire set is 55.31%\n",
      "Accuracy of the entire set is 58.02%\n",
      "Accuracy of the entire set is 53.49%\n",
      "Accuracy of the entire set is 57.24%\n",
      "Accuracy of the entire set is 54.84%\n",
      "Accuracy of the entire set is 54.43%\n",
      "Accuracy of the entire set is 54.48%\n",
      "Accuracy of the entire set is 53.23%\n",
      "Accuracy of the entire set is 51.20%\n",
      "Accuracy of the entire set is 53.12%\n",
      "Accuracy of the entire set is 49.90%\n",
      "Accuracy of the entire set is 51.46%\n",
      "Accuracy of the entire set is 51.88%\n"
     ]
    },
    {
     "data": {
      "text/html": [
       "<div>\n",
       "<style scoped>\n",
       "    .dataframe tbody tr th:only-of-type {\n",
       "        vertical-align: middle;\n",
       "    }\n",
       "\n",
       "    .dataframe tbody tr th {\n",
       "        vertical-align: top;\n",
       "    }\n",
       "\n",
       "    .dataframe thead th {\n",
       "        text-align: right;\n",
       "    }\n",
       "</style>\n",
       "<table border=\"1\" class=\"dataframe\">\n",
       "  <thead>\n",
       "    <tr style=\"text-align: right;\">\n",
       "      <th></th>\n",
       "      <th>mcy</th>\n",
       "      <th>sgo</th>\n",
       "      <th>sjo</th>\n",
       "      <th>est</th>\n",
       "      <th>tsw</th>\n",
       "    </tr>\n",
       "  </thead>\n",
       "  <tbody>\n",
       "    <tr>\n",
       "      <th>mcy</th>\n",
       "      <td>0.000000</td>\n",
       "      <td>0.494792</td>\n",
       "      <td>0.635417</td>\n",
       "      <td>0.541667</td>\n",
       "      <td>0.536458</td>\n",
       "    </tr>\n",
       "    <tr>\n",
       "      <th>sgo</th>\n",
       "      <td>0.494792</td>\n",
       "      <td>0.000000</td>\n",
       "      <td>0.489583</td>\n",
       "      <td>0.552083</td>\n",
       "      <td>0.572917</td>\n",
       "    </tr>\n",
       "    <tr>\n",
       "      <th>sjo</th>\n",
       "      <td>0.635417</td>\n",
       "      <td>0.489583</td>\n",
       "      <td>0.000000</td>\n",
       "      <td>0.630208</td>\n",
       "      <td>0.630208</td>\n",
       "    </tr>\n",
       "    <tr>\n",
       "      <th>est</th>\n",
       "      <td>0.541667</td>\n",
       "      <td>0.552083</td>\n",
       "      <td>0.630208</td>\n",
       "      <td>0.000000</td>\n",
       "      <td>0.718750</td>\n",
       "    </tr>\n",
       "    <tr>\n",
       "      <th>tsw</th>\n",
       "      <td>0.536458</td>\n",
       "      <td>0.572917</td>\n",
       "      <td>0.630208</td>\n",
       "      <td>0.718750</td>\n",
       "      <td>0.000000</td>\n",
       "    </tr>\n",
       "  </tbody>\n",
       "</table>\n",
       "</div>"
      ],
      "text/plain": [
       "          mcy       sgo       sjo       est       tsw\n",
       "mcy  0.000000  0.494792  0.635417  0.541667  0.536458\n",
       "sgo  0.494792  0.000000  0.489583  0.552083  0.572917\n",
       "sjo  0.635417  0.489583  0.000000  0.630208  0.630208\n",
       "est  0.541667  0.552083  0.630208  0.000000  0.718750\n",
       "tsw  0.536458  0.572917  0.630208  0.718750  0.000000"
      ]
     },
     "execution_count": 5,
     "metadata": {},
     "output_type": "execute_result"
    }
   ],
   "source": [
    "import numpy as np\n",
    "from scipy.spatial.distance import pdist, squareform\n",
    "for i in results:\n",
    "    print(f'Accuracy of the entire set is {np.mean(squareform(i))*100:.2f}%')\n",
    "confusion_df = pd.DataFrame(results[3], columns = im_names, index = im_names)\n",
    "#fname = op.join(outfolder,'conf_IR_17_imag.csv')\n",
    "#confusion_df.to_csv(fname,index = True, header = True)\n",
    "confusion_df.head()"
   ]
  },
  {
   "cell_type": "code",
   "execution_count": 30,
   "metadata": {},
   "outputs": [
    {
     "name": "stdout",
     "output_type": "stream",
     "text": [
      "Progress: [####################] 100.0%\n",
      "The overall accuracy is 63.9 and the duration is 60.2 minutes\n",
      "(0.05, 0.65)\n"
     ]
    },
    {
     "data": {
      "text/plain": [
       "1"
      ]
     },
     "execution_count": 30,
     "metadata": {},
     "output_type": "execute_result"
    }
   ],
   "source": [
    "%run EEG_auxiliary_module.ipynb\n",
    "times=[(0.05,0.65)]\n",
    "results=[]# Loading first S08 session\n",
    "durs=[];\n",
    "for i in times:\n",
    "    X, Y = convert_epochs_to_2D_array(ep_prc, times=i)\n",
    "    #Y = np.array(convert_lbl(Y))\n",
    "    confusion, duration = run_eeg_svm(X, Y, 12)\n",
    "    results.append(confusion)\n",
    "    durs.append(duration)\n",
    "    print(i)\n",
    "    #np.save('/Users/dannem/Documents/Ilya_study/Analysis/conf_IR_02_S01_c.csv',confusion)\n",
    "os.system('say \"your program has finished\"')\n",
    "#results"
   ]
  },
  {
   "cell_type": "code",
   "execution_count": 31,
   "metadata": {},
   "outputs": [
    {
     "name": "stdout",
     "output_type": "stream",
     "text": [
      "Accuracy of the upright stimuli is 55.9711%\n",
      "Accuracy of the upright unfamiliary stimuli is 57.7948%\n",
      "Accuracy of the upright famous stimuli is 53.8731%\n",
      "Accuracy of the inverted stimuli is 57.8500%\n",
      "Accuracy of the inverted unfamiliar stimuli is 60.1944%\n",
      "Accuracy of the inverted famous stimuli is 55.4904%\n",
      "Accuracy of the entire set is 63.9209%\n",
      "Correlation between identity discrimination in upright and inverted famous faces is 0.397\n",
      "Correlation between identity discrimination in upright and inverted unfamiliar faces is 0.059\n"
     ]
    },
    {
     "ename": "NameError",
     "evalue": "name 'conf' is not defined",
     "output_type": "error",
     "traceback": [
      "\u001b[1;31m---------------------------------------------------------------------------\u001b[0m",
      "\u001b[1;31mNameError\u001b[0m                                 Traceback (most recent call last)",
      "\u001b[1;32m<ipython-input-31-8f85a65fe0dc>\u001b[0m in \u001b[0;36m<module>\u001b[1;34m\u001b[0m\n\u001b[0;32m     14\u001b[0m \u001b[0mcorr\u001b[0m\u001b[1;33m=\u001b[0m\u001b[0mnp\u001b[0m\u001b[1;33m.\u001b[0m\u001b[0mcorrcoef\u001b[0m\u001b[1;33m(\u001b[0m\u001b[0msquareform\u001b[0m\u001b[1;33m(\u001b[0m\u001b[0mconfusion\u001b[0m\u001b[1;33m[\u001b[0m\u001b[1;36m25\u001b[0m\u001b[1;33m:\u001b[0m\u001b[1;36m50\u001b[0m\u001b[1;33m,\u001b[0m\u001b[1;36m25\u001b[0m\u001b[1;33m:\u001b[0m\u001b[1;36m50\u001b[0m\u001b[1;33m]\u001b[0m\u001b[1;33m)\u001b[0m\u001b[1;33m,\u001b[0m\u001b[0msquareform\u001b[0m\u001b[1;33m(\u001b[0m\u001b[0mconfusion\u001b[0m\u001b[1;33m[\u001b[0m\u001b[1;36m75\u001b[0m\u001b[1;33m:\u001b[0m\u001b[1;36m100\u001b[0m\u001b[1;33m,\u001b[0m\u001b[1;36m75\u001b[0m\u001b[1;33m:\u001b[0m\u001b[1;36m100\u001b[0m\u001b[1;33m]\u001b[0m\u001b[1;33m)\u001b[0m\u001b[1;33m)\u001b[0m\u001b[1;33m\u001b[0m\u001b[1;33m\u001b[0m\u001b[0m\n\u001b[0;32m     15\u001b[0m \u001b[0mprint\u001b[0m\u001b[1;33m(\u001b[0m\u001b[1;34mf'Correlation between identity discrimination in upright and inverted unfamiliar faces is {corr[0,1]:.3f}'\u001b[0m\u001b[1;33m)\u001b[0m\u001b[1;33m\u001b[0m\u001b[1;33m\u001b[0m\u001b[0m\n\u001b[1;32m---> 16\u001b[1;33m \u001b[0mconf\u001b[0m\u001b[1;33m[\u001b[0m\u001b[1;34m'perc'\u001b[0m\u001b[1;33m]\u001b[0m \u001b[1;33m=\u001b[0m \u001b[0mresults\u001b[0m\u001b[1;33m[\u001b[0m\u001b[1;36m0\u001b[0m\u001b[1;33m]\u001b[0m\u001b[1;33m\u001b[0m\u001b[1;33m\u001b[0m\u001b[0m\n\u001b[0m",
      "\u001b[1;31mNameError\u001b[0m: name 'conf' is not defined"
     ]
    }
   ],
   "source": [
    "confusion=results[0]\n",
    "from scipy.spatial.distance import squareform\n",
    "print(f'Accuracy of the upright stimuli is {np.mean(squareform(confusion[0:50,0:50]))*100:.4f}%')\n",
    "print(f'Accuracy of the upright unfamiliary stimuli is {np.mean(squareform(confusion[0:25,0:25]))*100:.4f}%')\n",
    "print(f'Accuracy of the upright famous stimuli is {np.mean(squareform(confusion[25:50,25:50]))*100:.4f}%')\n",
    "print(f'Accuracy of the inverted stimuli is {np.mean(squareform(confusion[50:,50:]))*100:.4f}%')\n",
    "print(f'Accuracy of the inverted unfamiliar stimuli is {np.mean(squareform(confusion[50:75,50:75]))*100:.4f}%')\n",
    "print(f'Accuracy of the inverted famous stimuli is {np.mean(squareform(confusion[75:,75:]))*100:.4f}%')\n",
    "print(f'Accuracy of the entire set is {np.mean(squareform(confusion))*100:.4f}%')\n",
    "\n"
   ]
  },
  {
   "cell_type": "code",
   "execution_count": null,
   "metadata": {},
   "outputs": [],
   "source": [
    "import matplotlib.pyplot as plt\n",
    "import seaborn as sns\n",
    "%matplotlib notebook\n",
    "import matplotlib.pyplot as plt\n",
    "mne.viz.plot_raw(raw, n_channels=5, scalings=dict(eeg=20e-1))\n"
   ]
  }
 ],
 "metadata": {
  "kernelspec": {
   "display_name": "Python 3",
   "language": "python",
   "name": "python3"
  },
  "language_info": {
   "codemirror_mode": {
    "name": "ipython",
    "version": 3
   },
   "file_extension": ".py",
   "mimetype": "text/x-python",
   "name": "python",
   "nbconvert_exporter": "python",
   "pygments_lexer": "ipython3",
   "version": "3.7.5"
  }
 },
 "nbformat": 4,
 "nbformat_minor": 2
}
