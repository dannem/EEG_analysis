{
 "cells": [
  {
   "cell_type": "markdown",
   "metadata": {},
   "source": [
    "# Theoretical observer"
   ]
  },
  {
   "cell_type": "code",
   "execution_count": 1,
   "metadata": {},
   "outputs": [
    {
     "name": "stderr",
     "output_type": "stream",
     "text": [
      "C:\\Users\\danne\\Anaconda3\\envs\\eeg_analysis\\lib\\site-packages\\skimage\\color\\colorconv.py:1068: UserWarning: Color data out of range: Z < 0 in 3 pixels\n",
      "  return xyz2rgb(lab2xyz(lab, illuminant, observer))\n",
      "C:\\Users\\danne\\Anaconda3\\envs\\eeg_analysis\\lib\\site-packages\\skimage\\color\\colorconv.py:1068: UserWarning: Color data out of range: Z < 0 in 18 pixels\n",
      "  return xyz2rgb(lab2xyz(lab, illuminant, observer))\n",
      "C:\\Users\\danne\\Anaconda3\\envs\\eeg_analysis\\lib\\site-packages\\skimage\\color\\colorconv.py:1068: UserWarning: Color data out of range: Z < 0 in 1 pixels\n",
      "  return xyz2rgb(lab2xyz(lab, illuminant, observer))\n",
      "C:\\Users\\danne\\Anaconda3\\envs\\eeg_analysis\\lib\\site-packages\\skimage\\color\\colorconv.py:1068: UserWarning: Color data out of range: Z < 0 in 5 pixels\n",
      "  return xyz2rgb(lab2xyz(lab, illuminant, observer))\n"
     ]
    },
    {
     "name": "stdout",
     "output_type": "stream",
     "text": [
      "The overall accuracy is 96.86%\n"
     ]
    },
    {
     "data": {
      "text/plain": [
       "<Figure size 2000x1000 with 2 Axes>"
      ]
     },
     "metadata": {},
     "output_type": "display_data"
    },
    {
     "data": {
      "text/html": [
       "<div>\n",
       "<style scoped>\n",
       "    .dataframe tbody tr th:only-of-type {\n",
       "        vertical-align: middle;\n",
       "    }\n",
       "\n",
       "    .dataframe tbody tr th {\n",
       "        vertical-align: top;\n",
       "    }\n",
       "\n",
       "    .dataframe thead th {\n",
       "        text-align: right;\n",
       "    }\n",
       "</style>\n",
       "<table border=\"1\" class=\"dataframe\">\n",
       "  <thead>\n",
       "    <tr style=\"text-align: right;\">\n",
       "      <th></th>\n",
       "      <th>values</th>\n",
       "      <th>names</th>\n",
       "      <th>acc</th>\n",
       "      <th>origin</th>\n",
       "    </tr>\n",
       "  </thead>\n",
       "  <tbody>\n",
       "    <tr>\n",
       "      <th>0</th>\n",
       "      <td>0.897959</td>\n",
       "      <td>adi</td>\n",
       "      <td>5185.869282</td>\n",
       "      <td>east</td>\n",
       "    </tr>\n",
       "    <tr>\n",
       "      <th>1</th>\n",
       "      <td>0.979592</td>\n",
       "      <td>ago</td>\n",
       "      <td>5009.591525</td>\n",
       "      <td>east</td>\n",
       "    </tr>\n",
       "    <tr>\n",
       "      <th>2</th>\n",
       "      <td>0.959184</td>\n",
       "      <td>aha</td>\n",
       "      <td>5223.563763</td>\n",
       "      <td>west</td>\n",
       "    </tr>\n",
       "    <tr>\n",
       "      <th>3</th>\n",
       "      <td>0.979592</td>\n",
       "      <td>ake</td>\n",
       "      <td>4995.217117</td>\n",
       "      <td>west</td>\n",
       "    </tr>\n",
       "    <tr>\n",
       "      <th>4</th>\n",
       "      <td>1.000000</td>\n",
       "      <td>ama</td>\n",
       "      <td>4490.384285</td>\n",
       "      <td>east</td>\n",
       "    </tr>\n",
       "  </tbody>\n",
       "</table>\n",
       "</div>"
      ],
      "text/plain": [
       "     values names          acc origin\n",
       "0  0.897959   adi  5185.869282   east\n",
       "1  0.979592   ago  5009.591525   east\n",
       "2  0.959184   aha  5223.563763   west\n",
       "3  0.979592   ake  4995.217117   west\n",
       "4  1.000000   ama  4490.384285   east"
      ]
     },
     "execution_count": 1,
     "metadata": {},
     "output_type": "execute_result"
    }
   ],
   "source": [
    "import mne\n",
    "import numpy as np\n",
    "import pandas as pd\n",
    "from scipy.spatial import procrustes\n",
    "from IPython.core.debugger import set_trace\n",
    "import matplotlib.pyplot as plt\n",
    "from scipy.spatial.distance import pdist\n",
    "from scipy.spatial.distance import squareform\n",
    "%run Recon_class.ipynb\n",
    "%run general_tools.ipynb\n",
    "%run EEG_auxiliary_module.ipynb\n",
    "stims = pd.read_csv('C:\\\\Users\\\\danne\\\\Dropbox\\\\Ilya_study\\\\Stimuli\\\\stims.csv')\n",
    "descr = pd.read_csv('C:\\\\Users\\\\danne\\\\Dropbox\\\\Ilya_study\\\\Analysis\\\\description.csv', index_col = 'Nums') # loading origin desription\n",
    "dist = pd.DataFrame(squareform(pdist(stims.T)),columns=stims.columns,index=stims.columns)\n",
    "ims_names, prc_names, _ = import_names()\n",
    "infolder, outfolder = find_folder()\n",
    "recon_io = Reconstruction(rc_conf_df=dist, tr_conf_df=dist, ims_df=stims, dims_n=20, image_size=(98,75,3))\n",
    "recon_io.project_face_space(kind = 'custom').ims2lab().face_reconst(blow='both').lab2ims().distance_test(kind = 'other').add_column_to_summary(descr, 'names')\n",
    "recon_io.show_face_space(dims=(0,1))\n",
    "result_io = recon_io.present_summary()\n",
    "result_io.head()\n",
    "#result_io.sort_values(by = 'origin').to_clipboard()"
   ]
  },
  {
   "cell_type": "markdown",
   "metadata": {},
   "source": [
    "# Perception reconstruction"
   ]
  },
  {
   "cell_type": "code",
   "execution_count": 4,
   "metadata": {},
   "outputs": [
    {
     "name": "stdout",
     "output_type": "stream",
     "text": [
      "The overall accuracy is 58.04%\n"
     ]
    },
    {
     "data": {
      "image/png": "[encoded data removed]",
      "text/plain": [
       "<Figure size 1440x720 with 2 Axes>"
      ]
     },
     "metadata": {
      "needs_background": "light"
     },
     "output_type": "display_data"
    }
   ],
   "source": [
    "import mne\n",
    "import numpy as np\n",
    "import pandas as pd\n",
    "from scipy.spatial import procrustes\n",
    "from IPython.core.debugger import set_trace\n",
    "import matplotlib.pyplot as plt\n",
    "from scipy.spatial.distance import pdist\n",
    "from scipy.spatial.distance import squareform\n",
    "%run Recon_class.ipynb\n",
    "%run general_tools.ipynb\n",
    "%run EEG_auxiliary_module.ipynb\n",
    "stims = pd.read_csv('C:\\\\Users\\\\danne\\\\Dropbox\\\\Ilya_study\\\\Stimuli\\\\stims.csv')\n",
    "descr = pd.read_csv('C:\\\\Users\\\\danne\\\\Dropbox\\\\Ilya_study\\\\Analysis\\\\description.csv', index_col = 'Nums') # loading origin desription\n",
    "ims_names, prc_names, _ = import_names()\n",
    "infolder, outfolder = find_folder()\n",
    "data = load_pkl(outfolder, 'svm_prc_accuracy.pkl')\n",
    "data = np.array(data)\n",
    "conf_prc_df = pd.DataFrame(data[:,:50,:50].mean(axis=0), index=prc_names, columns=prc_names)\n",
    "\n",
    "\n",
    "\n",
    "recon_prc = Reconstruction(rc_conf_df=conf_prc_df, tr_conf_df=conf_prc_df, ims_df=stims, dims_n=20, image_size=(98,75,3))\n",
    "recon_prc.project_face_space(kind = 'custom').ims2lab().face_reconst(blow='both').lab2ims().distance_test()\n",
    "recon_prc.add_column_to_summary(descr, 'names')\n",
    "recon_prc.show_face_space(dims=(0,1))\n",
    "#result_prc.sort_values(by = 'origin').to_clipboard()"
   ]
  },
  {
   "cell_type": "markdown",
   "metadata": {},
   "source": [
    "# Imagery reconstruction"
   ]
  },
  {
   "cell_type": "code",
   "execution_count": 7,
   "metadata": {},
   "outputs": [
    {
     "name": "stdout",
     "output_type": "stream",
     "text": [
      "The overall accuracy is 39.18%\n"
     ]
    }
   ],
   "source": [
    "import mne\n",
    "import numpy as np\n",
    "import pandas as pd\n",
    "from scipy.spatial import procrustes\n",
    "from IPython.core.debugger import set_trace\n",
    "import matplotlib.pyplot as plt\n",
    "from scipy.spatial.distance import pdist\n",
    "from scipy.spatial.distance import squareform\n",
    "%run Recon_class.ipynb\n",
    "%run general_tools.ipynb\n",
    "%run EEG_auxiliary_module.ipynb\n",
    "stims = pd.read_csv('C:\\\\Users\\\\danne\\\\Dropbox\\\\Ilya_study\\\\Stimuli\\\\stims.csv')\n",
    "\n",
    "ims_names, prc_names, _ = import_names()\n",
    "infolder, outfolder = find_folder()\n",
    "data = load_pkl(outfolder, 'svm_img_accuracy.pkl')\n",
    "data = np.array(data)\n",
    "conf_img_df = pd.DataFrame(data[5,:,:,:].mean(axis=0), index=ims_names, columns=ims_names)\n",
    "data = load_pkl(outfolder, 'svm_prc_accuracy.pkl')\n",
    "data = np.array(data)\n",
    "conf_prc_df = pd.DataFrame(data[:,:50,:50].mean(axis=0), index=prc_names, columns=prc_names)\n",
    "\n",
    "\n",
    "recon_img = Reconstruction(rc_conf_df=conf_img_df, tr_conf_df=conf_prc_df, ims_df=stims, dims_n=3, image_size=(98,75,3))\n",
    "recon_img.project_face_space(kind = 'custom').ims2lab().face_reconst(blow='both').lab2ims().distance_test()\n",
    "result_img = recon_img.present_summary()\n",
    "result_img.to_clipboard()"
   ]
  },
  {
   "cell_type": "markdown",
   "metadata": {},
   "source": [
    "# Running by subject"
   ]
  },
  {
   "cell_type": "code",
   "execution_count": 24,
   "metadata": {},
   "outputs": [
    {
     "name": "stdout",
     "output_type": "stream",
     "text": [
      "The overall accuracy is 52.57%\n",
      "The overall accuracy is 54.49%\n",
      "The overall accuracy is 53.63%\n",
      "The overall accuracy is 51.18%\n",
      "The overall accuracy is 44.41%\n",
      "The overall accuracy is 52.53%\n",
      "The overall accuracy is 56.73%\n",
      "The overall accuracy is 55.92%\n",
      "The overall accuracy is 48.12%\n",
      "The overall accuracy is 50.73%\n",
      "The overall accuracy is 48.41%\n",
      "The overall accuracy is 46.86%\n",
      "The overall accuracy is 47.31%\n",
      "The overall accuracy is 57.71%\n",
      "The overall accuracy is 48.98%\n",
      "The overall accuracy is 63.71%\n",
      "The overall accuracy is 49.92%\n",
      "The overall accuracy is 42.86%\n",
      "The overall accuracy is 52.24%\n",
      "The overall accuracy is 28.16%\n",
      "The overall accuracy is 49.80%\n",
      "The overall accuracy is 59.59%\n",
      "The overall accuracy is 40.82%\n",
      "The overall accuracy is 37.96%\n",
      "The overall accuracy is 45.71%\n",
      "The overall accuracy is 58.37%\n",
      "The overall accuracy is 38.37%\n",
      "The overall accuracy is 46.94%\n",
      "The overall accuracy is 22.04%\n",
      "The overall accuracy is 37.14%\n",
      "The overall accuracy is 37.14%\n",
      "The overall accuracy is 45.31%\n",
      "The overall accuracy is 46.94%\n",
      "The overall accuracy is 40.82%\n",
      "The overall accuracy is 45.71%\n",
      "The overall accuracy is 27.76%\n",
      "The overall accuracy is 51.02%\n",
      "The overall accuracy is 53.88%\n",
      "The overall accuracy is 59.59%\n",
      "The overall accuracy is 56.33%\n",
      "The overall accuracy is 45.71%\n",
      "The overall accuracy is 33.88%\n",
      "The overall accuracy is 44.90%\n",
      "The overall accuracy is 52.65%\n",
      "The overall accuracy is 62.86%\n",
      "The overall accuracy is 47.35%\n",
      "The overall accuracy is 33.47%\n",
      "The overall accuracy is 33.88%\n",
      "The overall accuracy is 46.94%\n",
      "The overall accuracy is 54.29%\n",
      "The overall accuracy is 42.04%\n",
      "The overall accuracy is 45.71%\n",
      "The overall accuracy is 25.71%\n",
      "The overall accuracy is 40.82%\n",
      "The overall accuracy is 56.33%\n",
      "The overall accuracy is 48.57%\n",
      "The overall accuracy is 52.24%\n",
      "The overall accuracy is 42.86%\n",
      "The overall accuracy is 36.33%\n",
      "The overall accuracy is 48.16%\n",
      "The overall accuracy is 60.00%\n",
      "The overall accuracy is 53.88%\n",
      "The overall accuracy is 41.22%\n",
      "The overall accuracy is 46.12%\n",
      "The overall accuracy is 37.96%\n",
      "The overall accuracy is 52.24%\n",
      "The overall accuracy is 44.08%\n",
      "The overall accuracy is 37.96%\n",
      "The overall accuracy is 42.45%\n",
      "The overall accuracy is 48.98%\n",
      "The overall accuracy is 36.73%\n",
      "The overall accuracy is 53.06%\n",
      "The overall accuracy is 51.02%\n",
      "The overall accuracy is 55.51%\n",
      "The overall accuracy is 27.35%\n",
      "The overall accuracy is 37.14%\n",
      "The overall accuracy is 62.04%\n",
      "The overall accuracy is 51.43%\n",
      "The overall accuracy is 63.27%\n",
      "The overall accuracy is 42.45%\n",
      "The overall accuracy is 43.67%\n",
      "The overall accuracy is 38.37%\n",
      "The overall accuracy is 38.37%\n",
      "The overall accuracy is 48.16%\n",
      "The overall accuracy is 21.63%\n",
      "The overall accuracy is 38.78%\n",
      "The overall accuracy is 21.63%\n",
      "The overall accuracy is 28.57%\n",
      "The overall accuracy is 58.78%\n",
      "The overall accuracy is 42.86%\n",
      "The overall accuracy is 49.39%\n",
      "The overall accuracy is 33.88%\n",
      "The overall accuracy is 49.39%\n",
      "The overall accuracy is 56.73%\n",
      "The overall accuracy is 55.51%\n",
      "The overall accuracy is 48.16%\n",
      "The overall accuracy is 43.27%\n",
      "The overall accuracy is 52.24%\n",
      "The overall accuracy is 60.82%\n",
      "The overall accuracy is 50.20%\n",
      "The overall accuracy is 58.37%\n",
      "The overall accuracy is 43.67%\n",
      "The overall accuracy is 33.88%\n",
      "The overall accuracy is 42.04%\n",
      "The overall accuracy is 34.29%\n",
      "The overall accuracy is 58.78%\n",
      "The overall accuracy is 50.61%\n",
      "The overall accuracy is 51.84%\n",
      "The overall accuracy is 44.90%\n",
      "The overall accuracy is 53.06%\n",
      "The overall accuracy is 46.94%\n",
      "The overall accuracy is 45.31%\n",
      "The overall accuracy is 38.78%\n",
      "The overall accuracy is 31.84%\n",
      "The overall accuracy is 54.69%\n",
      "The overall accuracy is 38.78%\n",
      "The overall accuracy is 36.33%\n",
      "The overall accuracy is 47.76%\n",
      "The overall accuracy is 51.43%\n"
     ]
    }
   ],
   "source": [
    "import mne\n",
    "import numpy as np\n",
    "import pandas as pd\n",
    "from scipy.spatial import procrustes\n",
    "from IPython.core.debugger import set_trace\n",
    "import matplotlib.pyplot as plt\n",
    "from scipy.spatial.distance import pdist\n",
    "from scipy.spatial.distance import squareform\n",
    "%run Recon_class.ipynb\n",
    "%run general_tools.ipynb\n",
    "%run EEG_auxiliary_module.ipynb\n",
    "stims = pd.read_csv('C:\\\\Users\\\\danne\\\\Dropbox\\\\Ilya_study\\\\Stimuli\\\\stims.csv')\n",
    "descr = pd.read_csv('C:\\\\Users\\\\danne\\\\Dropbox\\\\Ilya_study\\\\Analysis\\\\description.csv', index_col = 'Nums') # loading origin desription\n",
    "ims_names, prc_names, _ = import_names()\n",
    "infolder, outfolder = find_folder()\n",
    "data = load_pkl(outfolder, 'svm_prc_accuracy.pkl')\n",
    "data = np.array(data)\n",
    "results = []\n",
    "for i in range(data.shape[0]):\n",
    "    conf_prc_df = pd.DataFrame(data[i,:50,:50], index=prc_names, columns=prc_names)\n",
    "    recon_prc = Reconstruction(rc_conf_df=conf_prc_df, tr_conf_df=conf_prc_df, ims_df=stims, dims_n=20, image_size=(98,75,3))\n",
    "    recon_prc.project_face_space(kind = 'custom').ims2lab().face_reconst(blow='both').lab2ims().distance_test().add_column_to_summary(descr, 'names')\n",
    "    result = recon_prc.present_summary()\n",
    "    result['subject'] = i+2\n",
    "    result['type'] = 'perception'\n",
    "    result['invterval'] = np.nan\n",
    "    result['dims'] = 20\n",
    "    results.append(result)\n",
    "data_img = load_pkl(outfolder, 'svm_img_accuracy.pkl')\n",
    "data_img = np.array(data_img)\n",
    "for j in range(data_img.shape[0]):\n",
    "    for i in range(data.shape[0]):\n",
    "        conf_prc_df = pd.DataFrame(data[i,:50,:50], index=prc_names, columns=prc_names)\n",
    "        conf_img_df = pd.DataFrame(data_img[j,i,:,:], index=ims_names, columns=ims_names)\n",
    "        recon = Reconstruction(rc_conf_df=conf_img_df, tr_conf_df=conf_prc_df, ims_df=stims, dims_n=3, image_size=(98,75,3))\n",
    "        recon.project_face_space(kind = 'custom').ims2lab().face_reconst(blow='both').lab2ims().distance_test().add_column_to_summary(descr, 'names')\n",
    "        result = recon.present_summary()\n",
    "        result['subject'] = i+2\n",
    "        result['type'] = 'imagery'\n",
    "        result['invterval'] = j+1\n",
    "        result['dims'] = 3\n",
    "        results.append(result)\n",
    "\n",
    "results = pd.concat(results)"
   ]
  },
  {
   "cell_type": "code",
   "execution_count": 25,
   "metadata": {},
   "outputs": [],
   "source": [
    "results.to_clipboard()"
   ]
  },
  {
   "cell_type": "code",
   "execution_count": 26,
   "metadata": {},
   "outputs": [
    {
     "data": {
      "text/html": [
       "<div>\n",
       "<style scoped>\n",
       "    .dataframe tbody tr th:only-of-type {\n",
       "        vertical-align: middle;\n",
       "    }\n",
       "\n",
       "    .dataframe tbody tr th {\n",
       "        vertical-align: top;\n",
       "    }\n",
       "\n",
       "    .dataframe thead th {\n",
       "        text-align: right;\n",
       "    }\n",
       "</style>\n",
       "<table border=\"1\" class=\"dataframe\">\n",
       "  <thead>\n",
       "    <tr style=\"text-align: right;\">\n",
       "      <th></th>\n",
       "      <th></th>\n",
       "      <th>values</th>\n",
       "      <th>acc</th>\n",
       "      <th>subject</th>\n",
       "      <th>invterval</th>\n",
       "      <th>dims</th>\n",
       "    </tr>\n",
       "    <tr>\n",
       "      <th>origin</th>\n",
       "      <th>type</th>\n",
       "      <th></th>\n",
       "      <th></th>\n",
       "      <th></th>\n",
       "      <th></th>\n",
       "      <th></th>\n",
       "    </tr>\n",
       "  </thead>\n",
       "  <tbody>\n",
       "    <tr>\n",
       "      <th rowspan=\"2\" valign=\"top\">east</th>\n",
       "      <th>imagery</th>\n",
       "      <td>NaN</td>\n",
       "      <td>NaN</td>\n",
       "      <td>10</td>\n",
       "      <td>3.5</td>\n",
       "      <td>3</td>\n",
       "    </tr>\n",
       "    <tr>\n",
       "      <th>perception</th>\n",
       "      <td>0.499736</td>\n",
       "      <td>0.562732</td>\n",
       "      <td>10</td>\n",
       "      <td>NaN</td>\n",
       "      <td>20</td>\n",
       "    </tr>\n",
       "    <tr>\n",
       "      <th rowspan=\"2\" valign=\"top\">west</th>\n",
       "      <th>imagery</th>\n",
       "      <td>0.451741</td>\n",
       "      <td>0.547835</td>\n",
       "      <td>10</td>\n",
       "      <td>3.5</td>\n",
       "      <td>3</td>\n",
       "    </tr>\n",
       "    <tr>\n",
       "      <th>perception</th>\n",
       "      <td>0.539352</td>\n",
       "      <td>0.551480</td>\n",
       "      <td>10</td>\n",
       "      <td>NaN</td>\n",
       "      <td>20</td>\n",
       "    </tr>\n",
       "  </tbody>\n",
       "</table>\n",
       "</div>"
      ],
      "text/plain": [
       "                     values       acc  subject  invterval  dims\n",
       "origin type                                                    \n",
       "east   imagery          NaN       NaN       10        3.5     3\n",
       "       perception  0.499736  0.562732       10        NaN    20\n",
       "west   imagery     0.451741  0.547835       10        3.5     3\n",
       "       perception  0.539352  0.551480       10        NaN    20"
      ]
     },
     "execution_count": 26,
     "metadata": {},
     "output_type": "execute_result"
    }
   ],
   "source": [
    "results.groupby(['origin','type']).mean()"
   ]
  },
  {
   "cell_type": "markdown",
   "metadata": {},
   "source": [
    "## Subject 02"
   ]
  },
  {
   "cell_type": "code",
   "execution_count": 9,
   "metadata": {},
   "outputs": [
    {
     "name": "stdout",
     "output_type": "stream",
     "text": [
      "The overall accuracy is 52.57%\n"
     ]
    }
   ],
   "source": [
    "stims = pd.read_csv('C:\\\\Users\\\\danne\\\\Dropbox\\\\Ilya_study\\\\Stimuli\\\\stims.csv')\n",
    "descr = pd.read_csv('C:\\\\Users\\\\danne\\\\Dropbox\\\\Ilya_study\\\\Analysis\\\\description.csv', index_col = 'Nums') # loading origin desription\n",
    "ims_names, prc_names, _ = import_names()\n",
    "infolder, outfolder = find_folder()\n",
    "data = load_pkl(outfolder, 'svm_prc_accuracy.pkl')\n",
    "data = np.array(data)\n",
    "conf_prc_df = pd.DataFrame(data[0,:50,:50], index=prc_names, columns=prc_names)\n",
    "\n",
    "\n",
    "\n",
    "recon_prc = Reconstruction(rc_conf_df=conf_prc_df, tr_conf_df=conf_prc_df, ims_df=stims, dims_n=20, image_size=(98,75,3))\n",
    "recon_prc.project_face_space(kind = 'custom').ims2lab().face_reconst(blow='both').lab2ims().distance_test()\n",
    "out = recon_prc.add_column_to_summary(descr, 'names')\n"
   ]
  },
  {
   "cell_type": "markdown",
   "metadata": {},
   "source": [
    "# Subject 03"
   ]
  },
  {
   "cell_type": "code",
   "execution_count": 10,
   "metadata": {},
   "outputs": [
    {
     "name": "stdout",
     "output_type": "stream",
     "text": [
      "The overall accuracy is 54.49%\n"
     ]
    }
   ],
   "source": [
    "stims = pd.read_csv('C:\\\\Users\\\\danne\\\\Dropbox\\\\Ilya_study\\\\Stimuli\\\\stims.csv')\n",
    "descr = pd.read_csv('C:\\\\Users\\\\danne\\\\Dropbox\\\\Ilya_study\\\\Analysis\\\\description.csv', index_col = 'Nums') # loading origin desription\n",
    "ims_names, prc_names, _ = import_names()\n",
    "infolder, outfolder = find_folder()\n",
    "data = load_pkl(outfolder, 'svm_prc_accuracy.pkl')\n",
    "data = np.array(data)\n",
    "conf_prc_df = pd.DataFrame(data[1,:50,:50], index=prc_names, columns=prc_names)\n",
    "\n",
    "\n",
    "\n",
    "recon_prc = Reconstruction(rc_conf_df=conf_prc_df, tr_conf_df=conf_prc_df, ims_df=stims, dims_n=20, image_size=(98,75,3))\n",
    "recon_prc.project_face_space(kind = 'custom').ims2lab().face_reconst(blow='both').lab2ims().distance_test()\n",
    "out = recon_prc.add_column_to_summary(descr, 'names')"
   ]
  },
  {
   "cell_type": "markdown",
   "metadata": {},
   "source": [
    "# Subject 04"
   ]
  },
  {
   "cell_type": "code",
   "execution_count": 11,
   "metadata": {},
   "outputs": [
    {
     "name": "stderr",
     "output_type": "stream",
     "text": [
      "C:\\Users\\danne\\Anaconda3\\envs\\eeg_analysis\\lib\\site-packages\\skimage\\color\\colorconv.py:1068: UserWarning: Color data out of range: Z < 0 in 16 pixels\n",
      "  return xyz2rgb(lab2xyz(lab, illuminant, observer))\n",
      "C:\\Users\\danne\\Anaconda3\\envs\\eeg_analysis\\lib\\site-packages\\skimage\\color\\colorconv.py:1068: UserWarning: Color data out of range: Z < 0 in 22 pixels\n",
      "  return xyz2rgb(lab2xyz(lab, illuminant, observer))\n",
      "C:\\Users\\danne\\Anaconda3\\envs\\eeg_analysis\\lib\\site-packages\\skimage\\color\\colorconv.py:1068: UserWarning: Color data out of range: Z < 0 in 14 pixels\n",
      "  return xyz2rgb(lab2xyz(lab, illuminant, observer))\n",
      "C:\\Users\\danne\\Anaconda3\\envs\\eeg_analysis\\lib\\site-packages\\skimage\\color\\colorconv.py:1068: UserWarning: Color data out of range: Z < 0 in 19 pixels\n",
      "  return xyz2rgb(lab2xyz(lab, illuminant, observer))\n",
      "C:\\Users\\danne\\Anaconda3\\envs\\eeg_analysis\\lib\\site-packages\\skimage\\color\\colorconv.py:1068: UserWarning: Color data out of range: Z < 0 in 10 pixels\n",
      "  return xyz2rgb(lab2xyz(lab, illuminant, observer))\n",
      "C:\\Users\\danne\\Anaconda3\\envs\\eeg_analysis\\lib\\site-packages\\skimage\\color\\colorconv.py:1068: UserWarning: Color data out of range: Z < 0 in 24 pixels\n",
      "  return xyz2rgb(lab2xyz(lab, illuminant, observer))\n"
     ]
    },
    {
     "name": "stdout",
     "output_type": "stream",
     "text": [
      "The overall accuracy is 53.63%\n"
     ]
    }
   ],
   "source": [
    "stims = pd.read_csv('C:\\\\Users\\\\danne\\\\Dropbox\\\\Ilya_study\\\\Stimuli\\\\stims.csv')\n",
    "descr = pd.read_csv('C:\\\\Users\\\\danne\\\\Dropbox\\\\Ilya_study\\\\Analysis\\\\description.csv', index_col = 'Nums') # loading origin desription\n",
    "ims_names, prc_names, _ = import_names()\n",
    "infolder, outfolder = find_folder()\n",
    "data = load_pkl(outfolder, 'svm_prc_accuracy.pkl')\n",
    "data = np.array(data)\n",
    "conf_prc_df = pd.DataFrame(data[2,:50,:50], index=prc_names, columns=prc_names)\n",
    "\n",
    "\n",
    "\n",
    "recon_prc = Reconstruction(rc_conf_df=conf_prc_df, tr_conf_df=conf_prc_df, ims_df=stims, dims_n=20, image_size=(98,75,3))\n",
    "recon_prc.project_face_space(kind = 'custom').ims2lab().face_reconst(blow='both').lab2ims().distance_test()\n",
    "out = recon_prc.add_column_to_summary(descr, 'names')"
   ]
  },
  {
   "cell_type": "markdown",
   "metadata": {},
   "source": [
    "# Subject 05"
   ]
  },
  {
   "cell_type": "code",
   "execution_count": 12,
   "metadata": {},
   "outputs": [
    {
     "name": "stdout",
     "output_type": "stream",
     "text": [
      "The overall accuracy is 51.18%\n"
     ]
    }
   ],
   "source": [
    "stims = pd.read_csv('C:\\\\Users\\\\danne\\\\Dropbox\\\\Ilya_study\\\\Stimuli\\\\stims.csv')\n",
    "descr = pd.read_csv('C:\\\\Users\\\\danne\\\\Dropbox\\\\Ilya_study\\\\Analysis\\\\description.csv', index_col = 'Nums') # loading origin desription\n",
    "ims_names, prc_names, _ = import_names()\n",
    "infolder, outfolder = find_folder()\n",
    "data = load_pkl(outfolder, 'svm_prc_accuracy.pkl')\n",
    "data = np.array(data)\n",
    "conf_prc_df = pd.DataFrame(data[3,:50,:50], index=prc_names, columns=prc_names)\n",
    "\n",
    "\n",
    "\n",
    "recon_prc = Reconstruction(rc_conf_df=conf_prc_df, tr_conf_df=conf_prc_df, ims_df=stims, dims_n=20, image_size=(98,75,3))\n",
    "recon_prc.project_face_space(kind = 'custom').ims2lab().face_reconst(blow='both').lab2ims().distance_test()\n",
    "out = recon_prc.add_column_to_summary(descr, 'names')"
   ]
  },
  {
   "cell_type": "markdown",
   "metadata": {},
   "source": [
    "# Subject 06"
   ]
  },
  {
   "cell_type": "code",
   "execution_count": 13,
   "metadata": {},
   "outputs": [
    {
     "name": "stdout",
     "output_type": "stream",
     "text": [
      "The overall accuracy is 44.41%\n"
     ]
    }
   ],
   "source": [
    "stims = pd.read_csv('C:\\\\Users\\\\danne\\\\Dropbox\\\\Ilya_study\\\\Stimuli\\\\stims.csv')\n",
    "descr = pd.read_csv('C:\\\\Users\\\\danne\\\\Dropbox\\\\Ilya_study\\\\Analysis\\\\description.csv', index_col = 'Nums') # loading origin desription\n",
    "ims_names, prc_names, _ = import_names()\n",
    "infolder, outfolder = find_folder()\n",
    "data = load_pkl(outfolder, 'svm_prc_accuracy.pkl')\n",
    "data = np.array(data)\n",
    "conf_prc_df = pd.DataFrame(data[4,:50,:50], index=prc_names, columns=prc_names)\n",
    "\n",
    "\n",
    "\n",
    "recon_prc = Reconstruction(rc_conf_df=conf_prc_df, tr_conf_df=conf_prc_df, ims_df=stims, dims_n=20, image_size=(98,75,3))\n",
    "recon_prc.project_face_space(kind = 'custom').ims2lab().face_reconst(blow='both').lab2ims().distance_test()\n",
    "out = recon_prc.add_column_to_summary(descr, 'names')"
   ]
  },
  {
   "cell_type": "markdown",
   "metadata": {},
   "source": [
    "# Subject 07"
   ]
  },
  {
   "cell_type": "code",
   "execution_count": 14,
   "metadata": {},
   "outputs": [
    {
     "name": "stderr",
     "output_type": "stream",
     "text": [
      "C:\\Users\\danne\\Anaconda3\\envs\\eeg_analysis\\lib\\site-packages\\skimage\\color\\colorconv.py:1068: UserWarning: Color data out of range: Z < 0 in 21 pixels\n",
      "  return xyz2rgb(lab2xyz(lab, illuminant, observer))\n"
     ]
    },
    {
     "name": "stdout",
     "output_type": "stream",
     "text": [
      "The overall accuracy is 52.53%\n"
     ]
    }
   ],
   "source": [
    "stims = pd.read_csv('C:\\\\Users\\\\danne\\\\Dropbox\\\\Ilya_study\\\\Stimuli\\\\stims.csv')\n",
    "descr = pd.read_csv('C:\\\\Users\\\\danne\\\\Dropbox\\\\Ilya_study\\\\Analysis\\\\description.csv', index_col = 'Nums') # loading origin desription\n",
    "ims_names, prc_names, _ = import_names()\n",
    "infolder, outfolder = find_folder()\n",
    "data = load_pkl(outfolder, 'svm_prc_accuracy.pkl')\n",
    "data = np.array(data)\n",
    "conf_prc_df = pd.DataFrame(data[5,:50,:50], index=prc_names, columns=prc_names)\n",
    "\n",
    "\n",
    "\n",
    "recon_prc = Reconstruction(rc_conf_df=conf_prc_df, tr_conf_df=conf_prc_df, ims_df=stims, dims_n=20, image_size=(98,75,3))\n",
    "recon_prc.project_face_space(kind = 'custom').ims2lab().face_reconst(blow='both').lab2ims().distance_test()\n",
    "out = recon_prc.add_column_to_summary(descr, 'names')"
   ]
  },
  {
   "cell_type": "markdown",
   "metadata": {},
   "source": [
    "# Subject 08"
   ]
  },
  {
   "cell_type": "code",
   "execution_count": 15,
   "metadata": {},
   "outputs": [
    {
     "name": "stdout",
     "output_type": "stream",
     "text": [
      "The overall accuracy is 56.73%\n"
     ]
    }
   ],
   "source": [
    "stims = pd.read_csv('C:\\\\Users\\\\danne\\\\Dropbox\\\\Ilya_study\\\\Stimuli\\\\stims.csv')\n",
    "descr = pd.read_csv('C:\\\\Users\\\\danne\\\\Dropbox\\\\Ilya_study\\\\Analysis\\\\description.csv', index_col = 'Nums') # loading origin desription\n",
    "ims_names, prc_names, _ = import_names()\n",
    "infolder, outfolder = find_folder()\n",
    "data = load_pkl(outfolder, 'svm_prc_accuracy.pkl')\n",
    "data = np.array(data)\n",
    "conf_prc_df = pd.DataFrame(data[6,:50,:50], index=prc_names, columns=prc_names)\n",
    "\n",
    "\n",
    "\n",
    "recon_prc = Reconstruction(rc_conf_df=conf_prc_df, tr_conf_df=conf_prc_df, ims_df=stims, dims_n=20, image_size=(98,75,3))\n",
    "recon_prc.project_face_space(kind = 'custom').ims2lab().face_reconst(blow='both').lab2ims().distance_test()\n",
    "out = recon_prc.add_column_to_summary(descr, 'names')"
   ]
  },
  {
   "cell_type": "markdown",
   "metadata": {},
   "source": [
    "# Subject 09"
   ]
  },
  {
   "cell_type": "code",
   "execution_count": 16,
   "metadata": {},
   "outputs": [
    {
     "name": "stderr",
     "output_type": "stream",
     "text": [
      "C:\\Users\\danne\\Anaconda3\\envs\\eeg_analysis\\lib\\site-packages\\skimage\\color\\colorconv.py:1068: UserWarning: Color data out of range: Z < 0 in 39 pixels\n",
      "  return xyz2rgb(lab2xyz(lab, illuminant, observer))\n"
     ]
    },
    {
     "name": "stdout",
     "output_type": "stream",
     "text": [
      "The overall accuracy is 55.92%\n"
     ]
    }
   ],
   "source": [
    "stims = pd.read_csv('C:\\\\Users\\\\danne\\\\Dropbox\\\\Ilya_study\\\\Stimuli\\\\stims.csv')\n",
    "descr = pd.read_csv('C:\\\\Users\\\\danne\\\\Dropbox\\\\Ilya_study\\\\Analysis\\\\description.csv', index_col = 'Nums') # loading origin desription\n",
    "ims_names, prc_names, _ = import_names()\n",
    "infolder, outfolder = find_folder()\n",
    "data = load_pkl(outfolder, 'svm_prc_accuracy.pkl')\n",
    "data = np.array(data)\n",
    "conf_prc_df = pd.DataFrame(data[7,:50,:50], index=prc_names, columns=prc_names)\n",
    "\n",
    "\n",
    "\n",
    "recon_prc = Reconstruction(rc_conf_df=conf_prc_df, tr_conf_df=conf_prc_df, ims_df=stims, dims_n=20, image_size=(98,75,3))\n",
    "recon_prc.project_face_space(kind = 'custom').ims2lab().face_reconst(blow='both').lab2ims().distance_test()\n",
    "out = recon_prc.add_column_to_summary(descr, 'names')"
   ]
  },
  {
   "cell_type": "markdown",
   "metadata": {},
   "source": [
    "# Subject 10"
   ]
  },
  {
   "cell_type": "code",
   "execution_count": 17,
   "metadata": {},
   "outputs": [
    {
     "name": "stdout",
     "output_type": "stream",
     "text": [
      "The overall accuracy is 48.12%\n"
     ]
    }
   ],
   "source": [
    "stims = pd.read_csv('C:\\\\Users\\\\danne\\\\Dropbox\\\\Ilya_study\\\\Stimuli\\\\stims.csv')\n",
    "descr = pd.read_csv('C:\\\\Users\\\\danne\\\\Dropbox\\\\Ilya_study\\\\Analysis\\\\description.csv', index_col = 'Nums') # loading origin desription\n",
    "ims_names, prc_names, _ = import_names()\n",
    "infolder, outfolder = find_folder()\n",
    "data = load_pkl(outfolder, 'svm_prc_accuracy.pkl')\n",
    "data = np.array(data)\n",
    "conf_prc_df = pd.DataFrame(data[8,:50,:50], index=prc_names, columns=prc_names)\n",
    "\n",
    "\n",
    "\n",
    "recon_prc = Reconstruction(rc_conf_df=conf_prc_df, tr_conf_df=conf_prc_df, ims_df=stims, dims_n=20, image_size=(98,75,3))\n",
    "recon_prc.project_face_space(kind = 'custom').ims2lab().face_reconst(blow='both').lab2ims().distance_test()\n",
    "out = recon_prc.add_column_to_summary(descr, 'names')"
   ]
  },
  {
   "cell_type": "markdown",
   "metadata": {},
   "source": [
    "# Subject 11"
   ]
  },
  {
   "cell_type": "code",
   "execution_count": 18,
   "metadata": {},
   "outputs": [
    {
     "name": "stderr",
     "output_type": "stream",
     "text": [
      "C:\\Users\\danne\\Anaconda3\\envs\\eeg_analysis\\lib\\site-packages\\skimage\\color\\colorconv.py:1068: UserWarning: Color data out of range: Z < 0 in 32 pixels\n",
      "  return xyz2rgb(lab2xyz(lab, illuminant, observer))\n"
     ]
    },
    {
     "name": "stdout",
     "output_type": "stream",
     "text": [
      "The overall accuracy is 50.73%\n"
     ]
    }
   ],
   "source": [
    "stims = pd.read_csv('C:\\\\Users\\\\danne\\\\Dropbox\\\\Ilya_study\\\\Stimuli\\\\stims.csv')\n",
    "descr = pd.read_csv('C:\\\\Users\\\\danne\\\\Dropbox\\\\Ilya_study\\\\Analysis\\\\description.csv', index_col = 'Nums') # loading origin desription\n",
    "ims_names, prc_names, _ = import_names()\n",
    "infolder, outfolder = find_folder()\n",
    "data = load_pkl(outfolder, 'svm_prc_accuracy.pkl')\n",
    "data = np.array(data)\n",
    "conf_prc_df = pd.DataFrame(data[9,:50,:50], index=prc_names, columns=prc_names)\n",
    "\n",
    "\n",
    "\n",
    "recon_prc = Reconstruction(rc_conf_df=conf_prc_df, tr_conf_df=conf_prc_df, ims_df=stims, dims_n=20, image_size=(98,75,3))\n",
    "recon_prc.project_face_space(kind = 'custom').ims2lab().face_reconst(blow='both').lab2ims().distance_test()\n",
    "out = recon_prc.add_column_to_summary(descr, 'names')"
   ]
  },
  {
   "cell_type": "markdown",
   "metadata": {},
   "source": [
    "# Subject 12"
   ]
  },
  {
   "cell_type": "code",
   "execution_count": 19,
   "metadata": {},
   "outputs": [
    {
     "name": "stdout",
     "output_type": "stream",
     "text": [
      "The overall accuracy is 48.41%\n"
     ]
    }
   ],
   "source": [
    "stims = pd.read_csv('C:\\\\Users\\\\danne\\\\Dropbox\\\\Ilya_study\\\\Stimuli\\\\stims.csv')\n",
    "descr = pd.read_csv('C:\\\\Users\\\\danne\\\\Dropbox\\\\Ilya_study\\\\Analysis\\\\description.csv', index_col = 'Nums') # loading origin desription\n",
    "ims_names, prc_names, _ = import_names()\n",
    "infolder, outfolder = find_folder()\n",
    "data = load_pkl(outfolder, 'svm_prc_accuracy.pkl')\n",
    "data = np.array(data)\n",
    "conf_prc_df = pd.DataFrame(data[10,:50,:50], index=prc_names, columns=prc_names)\n",
    "\n",
    "\n",
    "\n",
    "recon_prc = Reconstruction(rc_conf_df=conf_prc_df, tr_conf_df=conf_prc_df, ims_df=stims, dims_n=20, image_size=(98,75,3))\n",
    "recon_prc.project_face_space(kind = 'custom').ims2lab().face_reconst(blow='both').lab2ims().distance_test()\n",
    "out = recon_prc.add_column_to_summary(descr, 'names')"
   ]
  },
  {
   "cell_type": "markdown",
   "metadata": {},
   "source": [
    "# Subject 13"
   ]
  },
  {
   "cell_type": "code",
   "execution_count": 20,
   "metadata": {},
   "outputs": [
    {
     "name": "stdout",
     "output_type": "stream",
     "text": [
      "The overall accuracy is 46.86%\n"
     ]
    }
   ],
   "source": [
    "stims = pd.read_csv('C:\\\\Users\\\\danne\\\\Dropbox\\\\Ilya_study\\\\Stimuli\\\\stims.csv')\n",
    "descr = pd.read_csv('C:\\\\Users\\\\danne\\\\Dropbox\\\\Ilya_study\\\\Analysis\\\\description.csv', index_col = 'Nums') # loading origin desription\n",
    "ims_names, prc_names, _ = import_names()\n",
    "infolder, outfolder = find_folder()\n",
    "data = load_pkl(outfolder, 'svm_prc_accuracy.pkl')\n",
    "data = np.array(data)\n",
    "conf_prc_df = pd.DataFrame(data[11,:50,:50], index=prc_names, columns=prc_names)\n",
    "\n",
    "\n",
    "\n",
    "recon_prc = Reconstruction(rc_conf_df=conf_prc_df, tr_conf_df=conf_prc_df, ims_df=stims, dims_n=20, image_size=(98,75,3))\n",
    "recon_prc.project_face_space(kind = 'custom').ims2lab().face_reconst(blow='both').lab2ims().distance_test()\n",
    "out = recon_prc.add_column_to_summary(descr, 'names')"
   ]
  },
  {
   "cell_type": "markdown",
   "metadata": {},
   "source": [
    "# Subject 14"
   ]
  },
  {
   "cell_type": "code",
   "execution_count": 21,
   "metadata": {},
   "outputs": [
    {
     "name": "stderr",
     "output_type": "stream",
     "text": [
      "C:\\Users\\danne\\Anaconda3\\envs\\eeg_analysis\\lib\\site-packages\\skimage\\color\\colorconv.py:1068: UserWarning: Color data out of range: Z < 0 in 23 pixels\n",
      "  return xyz2rgb(lab2xyz(lab, illuminant, observer))\n",
      "C:\\Users\\danne\\Anaconda3\\envs\\eeg_analysis\\lib\\site-packages\\skimage\\color\\colorconv.py:1068: UserWarning: Color data out of range: Z < 0 in 20 pixels\n",
      "  return xyz2rgb(lab2xyz(lab, illuminant, observer))\n"
     ]
    },
    {
     "name": "stdout",
     "output_type": "stream",
     "text": [
      "The overall accuracy is 47.31%\n"
     ]
    }
   ],
   "source": [
    "stims = pd.read_csv('C:\\\\Users\\\\danne\\\\Dropbox\\\\Ilya_study\\\\Stimuli\\\\stims.csv')\n",
    "descr = pd.read_csv('C:\\\\Users\\\\danne\\\\Dropbox\\\\Ilya_study\\\\Analysis\\\\description.csv', index_col = 'Nums') # loading origin desription\n",
    "ims_names, prc_names, _ = import_names()\n",
    "infolder, outfolder = find_folder()\n",
    "data = load_pkl(outfolder, 'svm_prc_accuracy.pkl')\n",
    "data = np.array(data)\n",
    "conf_prc_df = pd.DataFrame(data[12,:50,:50], index=prc_names, columns=prc_names)\n",
    "\n",
    "\n",
    "\n",
    "recon_prc = Reconstruction(rc_conf_df=conf_prc_df, tr_conf_df=conf_prc_df, ims_df=stims, dims_n=20, image_size=(98,75,3))\n",
    "recon_prc.project_face_space(kind = 'custom').ims2lab().face_reconst(blow='both').lab2ims().distance_test()\n",
    "out = recon_prc.add_column_to_summary(descr, 'names')"
   ]
  },
  {
   "cell_type": "markdown",
   "metadata": {},
   "source": [
    "# Subject 15"
   ]
  },
  {
   "cell_type": "code",
   "execution_count": 22,
   "metadata": {},
   "outputs": [
    {
     "name": "stdout",
     "output_type": "stream",
     "text": [
      "The overall accuracy is 57.71%\n"
     ]
    }
   ],
   "source": [
    "stims = pd.read_csv('C:\\\\Users\\\\danne\\\\Dropbox\\\\Ilya_study\\\\Stimuli\\\\stims.csv')\n",
    "descr = pd.read_csv('C:\\\\Users\\\\danne\\\\Dropbox\\\\Ilya_study\\\\Analysis\\\\description.csv', index_col = 'Nums') # loading origin desription\n",
    "ims_names, prc_names, _ = import_names()\n",
    "infolder, outfolder = find_folder()\n",
    "data = load_pkl(outfolder, 'svm_prc_accuracy.pkl')\n",
    "data = np.array(data)\n",
    "conf_prc_df = pd.DataFrame(data[13,:50,:50], index=prc_names, columns=prc_names)\n",
    "\n",
    "\n",
    "\n",
    "recon_prc = Reconstruction(rc_conf_df=conf_prc_df, tr_conf_df=conf_prc_df, ims_df=stims, dims_n=20, image_size=(98,75,3))\n",
    "recon_prc.project_face_space(kind = 'custom').ims2lab().face_reconst(blow='both').lab2ims().distance_test()\n",
    "out = recon_prc.add_column_to_summary(descr, 'names')"
   ]
  },
  {
   "cell_type": "markdown",
   "metadata": {},
   "source": [
    "# Subject 16"
   ]
  },
  {
   "cell_type": "code",
   "execution_count": 23,
   "metadata": {},
   "outputs": [
    {
     "name": "stderr",
     "output_type": "stream",
     "text": [
      "C:\\Users\\danne\\Anaconda3\\envs\\eeg_analysis\\lib\\site-packages\\skimage\\color\\colorconv.py:1068: UserWarning: Color data out of range: Z < 0 in 15 pixels\n",
      "  return xyz2rgb(lab2xyz(lab, illuminant, observer))\n"
     ]
    },
    {
     "name": "stdout",
     "output_type": "stream",
     "text": [
      "The overall accuracy is 48.98%\n"
     ]
    }
   ],
   "source": [
    "stims = pd.read_csv('C:\\\\Users\\\\danne\\\\Dropbox\\\\Ilya_study\\\\Stimuli\\\\stims.csv')\n",
    "descr = pd.read_csv('C:\\\\Users\\\\danne\\\\Dropbox\\\\Ilya_study\\\\Analysis\\\\description.csv', index_col = 'Nums') # loading origin desription\n",
    "ims_names, prc_names, _ = import_names()\n",
    "infolder, outfolder = find_folder()\n",
    "data = load_pkl(outfolder, 'svm_prc_accuracy.pkl')\n",
    "data = np.array(data)\n",
    "conf_prc_df = pd.DataFrame(data[14,:50,:50], index=prc_names, columns=prc_names)\n",
    "\n",
    "\n",
    "\n",
    "recon_prc = Reconstruction(rc_conf_df=conf_prc_df, tr_conf_df=conf_prc_df, ims_df=stims, dims_n=20, image_size=(98,75,3))\n",
    "recon_prc.project_face_space(kind = 'custom').ims2lab().face_reconst(blow='both').lab2ims().distance_test()\n",
    "out = recon_prc.add_column_to_summary(descr, 'names')"
   ]
  },
  {
   "cell_type": "markdown",
   "metadata": {},
   "source": [
    "# Subject 17"
   ]
  },
  {
   "cell_type": "code",
   "execution_count": 24,
   "metadata": {},
   "outputs": [
    {
     "name": "stderr",
     "output_type": "stream",
     "text": [
      "C:\\Users\\danne\\Anaconda3\\envs\\eeg_analysis\\lib\\site-packages\\skimage\\color\\colorconv.py:1068: UserWarning: Color data out of range: Z < 0 in 34 pixels\n",
      "  return xyz2rgb(lab2xyz(lab, illuminant, observer))\n",
      "C:\\Users\\danne\\Anaconda3\\envs\\eeg_analysis\\lib\\site-packages\\skimage\\color\\colorconv.py:1068: UserWarning: Color data out of range: Z < 0 in 17 pixels\n",
      "  return xyz2rgb(lab2xyz(lab, illuminant, observer))\n"
     ]
    },
    {
     "name": "stdout",
     "output_type": "stream",
     "text": [
      "The overall accuracy is 63.71%\n"
     ]
    }
   ],
   "source": [
    "stims = pd.read_csv('C:\\\\Users\\\\danne\\\\Dropbox\\\\Ilya_study\\\\Stimuli\\\\stims.csv')\n",
    "descr = pd.read_csv('C:\\\\Users\\\\danne\\\\Dropbox\\\\Ilya_study\\\\Analysis\\\\description.csv', index_col = 'Nums') # loading origin desription\n",
    "ims_names, prc_names, _ = import_names()\n",
    "infolder, outfolder = find_folder()\n",
    "data = load_pkl(outfolder, 'svm_prc_accuracy.pkl')\n",
    "data = np.array(data)\n",
    "conf_prc_df = pd.DataFrame(data[15,:50,:50], index=prc_names, columns=prc_names)\n",
    "\n",
    "\n",
    "\n",
    "recon_prc = Reconstruction(rc_conf_df=conf_prc_df, tr_conf_df=conf_prc_df, ims_df=stims, dims_n=20, image_size=(98,75,3))\n",
    "recon_prc.project_face_space(kind = 'custom').ims2lab().face_reconst(blow='both').lab2ims().distance_test()\n",
    "out = recon_prc.add_column_to_summary(descr, 'names')"
   ]
  },
  {
   "cell_type": "markdown",
   "metadata": {},
   "source": [
    "# Subject 18"
   ]
  },
  {
   "cell_type": "code",
   "execution_count": 25,
   "metadata": {},
   "outputs": [
    {
     "name": "stdout",
     "output_type": "stream",
     "text": [
      "The overall accuracy is 49.92%\n"
     ]
    }
   ],
   "source": [
    "stims = pd.read_csv('C:\\\\Users\\\\danne\\\\Dropbox\\\\Ilya_study\\\\Stimuli\\\\stims.csv')\n",
    "descr = pd.read_csv('C:\\\\Users\\\\danne\\\\Dropbox\\\\Ilya_study\\\\Analysis\\\\description.csv', index_col = 'Nums') # loading origin desription\n",
    "ims_names, prc_names, _ = import_names()\n",
    "infolder, outfolder = find_folder()\n",
    "data = load_pkl(outfolder, 'svm_prc_accuracy.pkl')\n",
    "data = np.array(data)\n",
    "conf_prc_df = pd.DataFrame(data[16,:50,:50], index=prc_names, columns=prc_names)\n",
    "\n",
    "\n",
    "\n",
    "recon_prc = Reconstruction(rc_conf_df=conf_prc_df, tr_conf_df=conf_prc_df, ims_df=stims, dims_n=20, image_size=(98,75,3))\n",
    "recon_prc.project_face_space(kind = 'custom').ims2lab().face_reconst(blow='both').lab2ims().distance_test()\n",
    "out = recon_prc.add_column_to_summary(descr, 'names')"
   ]
  },
  {
   "cell_type": "code",
   "execution_count": null,
   "metadata": {},
   "outputs": [],
   "source": []
  }
 ],
 "metadata": {
  "kernelspec": {
   "display_name": "Python 3",
   "language": "python",
   "name": "python3"
  },
  "language_info": {
   "codemirror_mode": {
    "name": "ipython",
    "version": 3
   },
   "file_extension": ".py",
   "mimetype": "text/x-python",
   "name": "python",
   "nbconvert_exporter": "python",
   "pygments_lexer": "ipython3",
   "version": "3.7.5"
  }
 },
 "nbformat": 4,
 "nbformat_minor": 4
}
