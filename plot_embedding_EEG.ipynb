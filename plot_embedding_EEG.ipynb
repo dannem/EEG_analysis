{
 "cells": [
  {
   "cell_type": "code",
   "execution_count": null,
   "metadata": {
    "jupyter": {
     "outputs_hidden": false
    }
   },
   "outputs": [],
   "source": [
    "%matplotlib inline"
   ]
  },
  {
   "cell_type": "markdown",
   "metadata": {},
   "source": [
    "\n",
    "# Embedding ERP EEG data in 2D Euclidean space with Laplacian Eigenmaps\n",
    "\n",
    "\n",
    "Spectral embedding via Laplacian Eigenmaps of a set of ERP data.\n",
    "\n",
    "\n"
   ]
  },
  {
   "cell_type": "code",
   "execution_count": 1,
   "metadata": {
    "jupyter": {
     "outputs_hidden": false
    }
   },
   "outputs": [
    {
     "name": "stderr",
     "output_type": "stream",
     "text": [
      "C:\\Users\\nemrodov\\AppData\\Local\\Continuum\\anaconda3\\envs\\tensorenviron\\lib\\site-packages\\sklearn\\utils\\deprecation.py:144: FutureWarning: The sklearn.cluster.k_means_ module is  deprecated in version 0.22 and will be removed in version 0.24. The corresponding classes / functions should instead be imported from sklearn.cluster. Anything that cannot be imported from sklearn.cluster is now part of the private API.\n",
      "  warnings.warn(message, FutureWarning)\n",
      "C:\\Users\\nemrodov\\AppData\\Local\\Continuum\\anaconda3\\envs\\tensorenviron\\lib\\site-packages\\sklearn\\externals\\joblib\\__init__.py:15: FutureWarning: sklearn.externals.joblib is deprecated in 0.21 and will be removed in 0.23. Please import this functionality directly from joblib, which can be installed with: pip install joblib. If this warning is raised when loading pickled models, you may need to re-serialize those models with scikit-learn 0.21+.\n",
      "  warnings.warn(msg, category=FutureWarning)\n"
     ]
    },
    {
     "name": "stdout",
     "output_type": "stream",
     "text": [
      "Automatically created module for IPython interactive environment\n"
     ]
    }
   ],
   "source": [
    "# Authors: Pedro Rodrigues <pedro.rodrigues01@gmail.com>\n",
    "#\n",
    "# License: BSD (3-clause)\n",
    "\n",
    "import numpy as np\n",
    "\n",
    "from pyriemann.estimation import XdawnCovariances\n",
    "from pyriemann.embedding import Embedding\n",
    "\n",
    "import mne\n",
    "from mne import io\n",
    "from mne.datasets import sample\n",
    "\n",
    "from sklearn.model_selection import train_test_split\n",
    "\n",
    "from matplotlib import pyplot as plt\n",
    "import seaborn as sns\n",
    "\n",
    "print(__doc__)\n",
    "\n"
   ]
  },
  {
   "cell_type": "markdown",
   "metadata": {},
   "source": [
    "Set parameters and read data\n",
    "\n"
   ]
  },
  {
   "cell_type": "code",
   "execution_count": 39,
   "metadata": {
    "jupyter": {
     "outputs_hidden": false
    }
   },
   "outputs": [],
   "source": [
    "data_path = 'C:\\\\Users\\\\nemrodov\\\\mne_data\\\\MNE-sample-data'\n",
    "raw_fname = data_path + '/MEG/sample/sample_audvis_filt-0-40_raw.fif'\n",
    "event_fname = data_path + '/MEG/sample/sample_audvis_filt-0-40_raw-eve.fif'\n",
    "tmin, tmax = -0., 1\n",
    "event_id = dict(aud_l=1, aud_r=2, vis_l=3, vis_r=4)\n",
    "\n",
    "# Setup for reading the raw data\n",
    "raw = io.Raw(raw_fname, preload=True, verbose=False)\n",
    "raw.filter(2, None, method='iir')  # replace baselining with high-pass\n",
    "events = mne.read_events(event_fname)\n",
    "\n",
    "raw.info['bads'] = ['MEG 2443']  # set bad channels\n",
    "picks = mne.pick_types(raw.info, meg=True, eeg=False, stim=False, eog=False,\n",
    "                       exclude='bads')\n",
    "\n",
    "# Read epochs\n",
    "epochs = mne.Epochs(raw, events, event_id, tmin, tmax, proj=False,\n",
    "                    picks=picks, baseline=None, preload=True, verbose=False)\n",
    "\n",
    "X = epochs.get_data()\n",
    "y = epochs.events[:, -1]"
   ]
  },
  {
   "cell_type": "markdown",
   "metadata": {},
   "source": [
    "Embedding the Xdawn covariance matrices with Laplacian Eigenmaps\n",
    "\n"
   ]
  },
  {
   "cell_type": "code",
   "execution_count": 16,
   "metadata": {
    "jupyter": {
     "outputs_hidden": false
    }
   },
   "outputs": [],
   "source": [
    "nfilter = 4\n",
    "xdwn = XdawnCovariances(estimator='scm', nfilter=nfilter)\n",
    "split = train_test_split(X, y, train_size=0.25, random_state=42)\n",
    "Xtrain, Xtest, ytrain, ytest = split\n",
    "covs = xdwn.fit(Xtrain, ytrain).transform(Xtest)\n",
    "\n",
    "lapl = Embedding(metric='riemann', n_components=2)\n",
    "embd = lapl.fit_transform(covs)"
   ]
  },
  {
   "cell_type": "markdown",
   "metadata": {},
   "source": [
    "Plot the three first components of the embedded points\n",
    "\n"
   ]
  },
  {
   "cell_type": "code",
   "execution_count": 95,
   "metadata": {
    "jupyter": {
     "outputs_hidden": false
    }
   },
   "outputs": [
    {
     "data": {
      "image/png": "[encoded data removed]",
      "text/plain": [
       "<Figure size 504x576 with 1 Axes>"
      ]
     },
     "metadata": {},
     "output_type": "display_data"
    }
   ],
   "source": [
    "fig, ax = plt.subplots(figsize=(7, 8), facecolor='white')\n",
    "\n",
    "for cond, label in event_id.items():\n",
    "    idx = (ytest == label)\n",
    "    ax.scatter(embd[idx, 0], embd[idx, 1], s=36, label=cond)\n",
    "\n",
    "ax.set_xlabel(r'$\\varphi_1$', fontsize=16)\n",
    "ax.set_ylabel(r'$\\varphi_2$', fontsize=16)\n",
    "ax.set_title('Spectral embedding of ERP recordings', fontsize=16)\n",
    "ax.set_xticks([-1.0, -0.5, 0.0, +0.5, 1.0])\n",
    "ax.set_yticks([-1.0, -0.5, 0.0, +0.5, 1.0])\n",
    "ax.grid(False)\n",
    "ax.legend()\n",
    "plt.show()"
   ]
  },
  {
   "cell_type": "code",
   "execution_count": 97,
   "metadata": {},
   "outputs": [
    {
     "name": "stdout",
     "output_type": "stream",
     "text": [
      "Reading C:\\Users\\nemrodov\\Documents\\Ilya_study\\Analysis\\S05_perc_aver-epo.fif ...\n",
      "    Found the data of interest:\n",
      "        t =    -100.00 ...     995.00 ms\n",
      "        0 CTF compensation matrices available\n",
      "1200 matching events found\n",
      "Applying baseline correction (mode: mean)\n",
      "1200 matching events found\n",
      "Applying baseline correction (mode: mean)\n",
      "Not setting metadata\n",
      "0 projection items activated\n"
     ]
    }
   ],
   "source": [
    "path = 'C:\\\\Users\\\\nemrodov\\\\Documents\\\\Ilya_study\\\\Analysis\\\\S05_perc_aver-epo.fif'\n",
    "epochs = mne.read_epochs(path)"
   ]
  },
  {
   "cell_type": "code",
   "execution_count": 98,
   "metadata": {},
   "outputs": [],
   "source": [
    "X=epochs['101','102','103','104','105','106','107','108'].get_data()[:,:,:]\n",
    "y = epochs['101','102','103','104','105','106','107','108'].events[:, -1]"
   ]
  },
  {
   "cell_type": "code",
   "execution_count": 103,
   "metadata": {},
   "outputs": [],
   "source": [
    "nfilter = 4\n",
    "xdwn = XdawnCovariances(estimator='scm', nfilter=nfilter)\n",
    "split = train_test_split(X, y, train_size=0.50, random_state=2)\n",
    "Xtrain, Xtest, ytrain, ytest = split\n",
    "covs = xdwn.fit(Xtrain, ytrain).transform(Xtest)\n",
    "\n",
    "lapl = Embedding(metric='riemann', n_components=2)\n",
    "embd = lapl.fit_transform(covs)"
   ]
  },
  {
   "cell_type": "code",
   "execution_count": 104,
   "metadata": {},
   "outputs": [
    {
     "data": {
      "text/plain": [
       "(48, 2)"
      ]
     },
     "execution_count": 104,
     "metadata": {},
     "output_type": "execute_result"
    }
   ],
   "source": [
    "embd.shape"
   ]
  },
  {
   "cell_type": "code",
   "execution_count": 105,
   "metadata": {},
   "outputs": [
    {
     "data": {
      "text/plain": [
       "(96,)"
      ]
     },
     "execution_count": 105,
     "metadata": {},
     "output_type": "execute_result"
    }
   ],
   "source": [
    "y.shape"
   ]
  },
  {
   "cell_type": "code",
   "execution_count": 106,
   "metadata": {},
   "outputs": [
    {
     "data": {
      "image/png": "[encoded data removed]",
      "text/plain": [
       "<Figure size 504x576 with 1 Axes>"
      ]
     },
     "metadata": {},
     "output_type": "display_data"
    }
   ],
   "source": [
    "fig, ax = plt.subplots(figsize=(7, 8), facecolor='white')\n",
    "labels = [101,102,103,104,105,106,107,108]\n",
    "for i in labels:\n",
    "    idx = (ytest == i)\n",
    "    ax.scatter(embd[idx, 0], embd[idx, 1], s=36, label=i)\n",
    "\n",
    "ax.set_xlabel(r'$\\varphi_1$', fontsize=16)\n",
    "ax.set_ylabel(r'$\\varphi_2$', fontsize=16)\n",
    "ax.set_title('Spectral embedding of ERP recordings', fontsize=16)\n",
    "ax.set_xticks([-1.0, -0.5, 0.0, +0.5, 1.0])\n",
    "ax.set_yticks([-1.0, -0.5, 0.0, +0.5, 1.0])\n",
    "ax.grid(False)\n",
    "ax.legend()\n",
    "plt.show()"
   ]
  },
  {
   "cell_type": "code",
   "execution_count": 67,
   "metadata": {},
   "outputs": [
    {
     "data": {
      "text/plain": [
       "array([104, 101, 103, 104, 101, 102, 101, 104, 101, 102, 101, 104, 103,\n",
       "       104, 102, 102, 102, 102, 104, 102, 101, 102, 101, 103])"
      ]
     },
     "execution_count": 67,
     "metadata": {},
     "output_type": "execute_result"
    }
   ],
   "source": [
    "ytest"
   ]
  },
  {
   "cell_type": "code",
   "execution_count": null,
   "metadata": {},
   "outputs": [],
   "source": []
  }
 ],
 "metadata": {
  "kernelspec": {
   "display_name": "Python 3",
   "language": "python",
   "name": "python3"
  },
  "language_info": {
   "codemirror_mode": {
    "name": "ipython",
    "version": 3
   },
   "file_extension": ".py",
   "mimetype": "text/x-python",
   "name": "python",
   "nbconvert_exporter": "python",
   "pygments_lexer": "ipython3",
   "version": "3.7.5"
  }
 },
 "nbformat": 4,
 "nbformat_minor": 4
}
