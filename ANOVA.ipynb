{
 "cells": [
  {
   "cell_type": "markdown",
   "metadata": {},
   "source": [
    "# Functions"
   ]
  },
  {
   "cell_type": "code",
   "execution_count": 3,
   "metadata": {},
   "outputs": [
    {
     "data": {
      "text/html": [
       "<div>\n",
       "<style scoped>\n",
       "    .dataframe tbody tr th:only-of-type {\n",
       "        vertical-align: middle;\n",
       "    }\n",
       "\n",
       "    .dataframe tbody tr th {\n",
       "        vertical-align: top;\n",
       "    }\n",
       "\n",
       "    .dataframe thead th {\n",
       "        text-align: right;\n",
       "    }\n",
       "</style>\n",
       "<table border=\"1\" class=\"dataframe\">\n",
       "  <thead>\n",
       "    <tr style=\"text-align: right;\">\n",
       "      <th></th>\n",
       "      <th>Subs</th>\n",
       "      <th>Value</th>\n",
       "      <th>Orientation</th>\n",
       "      <th>Familiarity</th>\n",
       "      <th>Type</th>\n",
       "    </tr>\n",
       "  </thead>\n",
       "  <tbody>\n",
       "    <tr>\n",
       "      <th>0</th>\n",
       "      <td>Sub 2</td>\n",
       "      <td>0.54</td>\n",
       "      <td>upright</td>\n",
       "      <td>unfamiliar</td>\n",
       "      <td>discrimination</td>\n",
       "    </tr>\n",
       "    <tr>\n",
       "      <th>1</th>\n",
       "      <td>Sub 3</td>\n",
       "      <td>0.52</td>\n",
       "      <td>upright</td>\n",
       "      <td>unfamiliar</td>\n",
       "      <td>discrimination</td>\n",
       "    </tr>\n",
       "    <tr>\n",
       "      <th>2</th>\n",
       "      <td>Sub 4</td>\n",
       "      <td>0.53</td>\n",
       "      <td>upright</td>\n",
       "      <td>unfamiliar</td>\n",
       "      <td>discrimination</td>\n",
       "    </tr>\n",
       "    <tr>\n",
       "      <th>3</th>\n",
       "      <td>Sub 5</td>\n",
       "      <td>0.57</td>\n",
       "      <td>upright</td>\n",
       "      <td>unfamiliar</td>\n",
       "      <td>discrimination</td>\n",
       "    </tr>\n",
       "    <tr>\n",
       "      <th>4</th>\n",
       "      <td>Sub 6</td>\n",
       "      <td>0.53</td>\n",
       "      <td>upright</td>\n",
       "      <td>unfamiliar</td>\n",
       "      <td>discrimination</td>\n",
       "    </tr>\n",
       "  </tbody>\n",
       "</table>\n",
       "</div>"
      ],
      "text/plain": [
       "    Subs  Value Orientation Familiarity            Type\n",
       "0  Sub 2   0.54     upright  unfamiliar  discrimination\n",
       "1  Sub 3   0.52     upright  unfamiliar  discrimination\n",
       "2  Sub 4   0.53     upright  unfamiliar  discrimination\n",
       "3  Sub 5   0.57     upright  unfamiliar  discrimination\n",
       "4  Sub 6   0.53     upright  unfamiliar  discrimination"
      ]
     },
     "execution_count": 3,
     "metadata": {},
     "output_type": "execute_result"
    }
   ],
   "source": [
    "import pandas as pd\n",
    "import researchpy as rp\n",
    "import pingouin as pg\n",
    "import seaborn as sns\n",
    "import matplotlib.pyplot as plt\n",
    "\n",
    "data = pd.read_csv('Export.csv')\n",
    "data = data.rename(columns={\"Unnamed: 0\": \"Subs\"})\n",
    "data.head()"
   ]
  },
  {
   "cell_type": "markdown",
   "metadata": {},
   "source": [
    "# Discrimination"
   ]
  },
  {
   "cell_type": "code",
   "execution_count": 4,
   "metadata": {},
   "outputs": [
    {
     "name": "stdout",
     "output_type": "stream",
     "text": [
      "\n",
      "\n"
     ]
    },
    {
     "data": {
      "text/html": [
       "<div>\n",
       "<style scoped>\n",
       "    .dataframe tbody tr th:only-of-type {\n",
       "        vertical-align: middle;\n",
       "    }\n",
       "\n",
       "    .dataframe tbody tr th {\n",
       "        vertical-align: top;\n",
       "    }\n",
       "\n",
       "    .dataframe thead th {\n",
       "        text-align: right;\n",
       "    }\n",
       "</style>\n",
       "<table border=\"1\" class=\"dataframe\">\n",
       "  <thead>\n",
       "    <tr style=\"text-align: right;\">\n",
       "      <th></th>\n",
       "      <th></th>\n",
       "      <th>N</th>\n",
       "      <th>Mean</th>\n",
       "      <th>SD</th>\n",
       "      <th>SE</th>\n",
       "      <th>95% Conf.</th>\n",
       "      <th>Interval</th>\n",
       "    </tr>\n",
       "    <tr>\n",
       "      <th>Orientation</th>\n",
       "      <th>Familiarity</th>\n",
       "      <th></th>\n",
       "      <th></th>\n",
       "      <th></th>\n",
       "      <th></th>\n",
       "      <th></th>\n",
       "      <th></th>\n",
       "    </tr>\n",
       "  </thead>\n",
       "  <tbody>\n",
       "    <tr>\n",
       "      <th rowspan=\"2\" valign=\"top\">inverted</th>\n",
       "      <th>famous</th>\n",
       "      <td>10</td>\n",
       "      <td>0.555</td>\n",
       "      <td>0.037491</td>\n",
       "      <td>0.011856</td>\n",
       "      <td>0.531763</td>\n",
       "      <td>0.578237</td>\n",
       "    </tr>\n",
       "    <tr>\n",
       "      <th>unfamiliar</th>\n",
       "      <td>10</td>\n",
       "      <td>0.581</td>\n",
       "      <td>0.036347</td>\n",
       "      <td>0.011494</td>\n",
       "      <td>0.558472</td>\n",
       "      <td>0.603528</td>\n",
       "    </tr>\n",
       "    <tr>\n",
       "      <th rowspan=\"2\" valign=\"top\">upright</th>\n",
       "      <th>famous</th>\n",
       "      <td>10</td>\n",
       "      <td>0.541</td>\n",
       "      <td>0.032813</td>\n",
       "      <td>0.010376</td>\n",
       "      <td>0.520663</td>\n",
       "      <td>0.561337</td>\n",
       "    </tr>\n",
       "    <tr>\n",
       "      <th>unfamiliar</th>\n",
       "      <td>10</td>\n",
       "      <td>0.548</td>\n",
       "      <td>0.026583</td>\n",
       "      <td>0.008406</td>\n",
       "      <td>0.531524</td>\n",
       "      <td>0.564476</td>\n",
       "    </tr>\n",
       "  </tbody>\n",
       "</table>\n",
       "</div>"
      ],
      "text/plain": [
       "                          N   Mean        SD        SE  95% Conf.  Interval\n",
       "Orientation Familiarity                                                    \n",
       "inverted    famous       10  0.555  0.037491  0.011856   0.531763  0.578237\n",
       "            unfamiliar   10  0.581  0.036347  0.011494   0.558472  0.603528\n",
       "upright     famous       10  0.541  0.032813  0.010376   0.520663  0.561337\n",
       "            unfamiliar   10  0.548  0.026583  0.008406   0.531524  0.564476"
      ]
     },
     "execution_count": 4,
     "metadata": {},
     "output_type": "execute_result"
    }
   ],
   "source": [
    "sum_df = rp.summary_cont(data.loc[data['Type'] == 'discrimination'].groupby(['Orientation', 'Familiarity']))['Value']\n",
    "sum_df"
   ]
  },
  {
   "cell_type": "code",
   "execution_count": 5,
   "metadata": {},
   "outputs": [
    {
     "name": "stdout",
     "output_type": "stream",
     "text": [
      "df effect 2.43\n",
      "df error 92.26\n"
     ]
    },
    {
     "data": {
      "text/html": [
       "<style  type=\"text/css\" >\n",
       "    #T_d503b89a_0fe0_11ea_9396_f0d4e2f78724row0_col6 {\n",
       "            color:  red;\n",
       "        }    #T_d503b89a_0fe0_11ea_9396_f0d4e2f78724row0_col7 {\n",
       "            color:  red;\n",
       "        }    #T_d503b89a_0fe0_11ea_9396_f0d4e2f78724row1_col6 {\n",
       "            color:  red;\n",
       "        }    #T_d503b89a_0fe0_11ea_9396_f0d4e2f78724row1_col7 {\n",
       "            color:  red;\n",
       "        }    #T_d503b89a_0fe0_11ea_9396_f0d4e2f78724row2_col6 {\n",
       "            color:  black;\n",
       "        }    #T_d503b89a_0fe0_11ea_9396_f0d4e2f78724row2_col7 {\n",
       "            color:  black;\n",
       "        }</style><table id=\"T_d503b89a_0fe0_11ea_9396_f0d4e2f78724\" ><thead>    <tr>        <th class=\"blank level0\" ></th>        <th class=\"col_heading level0 col0\" >Source</th>        <th class=\"col_heading level0 col1\" >SS</th>        <th class=\"col_heading level0 col2\" >ddof1</th>        <th class=\"col_heading level0 col3\" >ddof2</th>        <th class=\"col_heading level0 col4\" >MS</th>        <th class=\"col_heading level0 col5\" >F</th>        <th class=\"col_heading level0 col6\" >p-unc</th>        <th class=\"col_heading level0 col7\" >p-GG-corr</th>        <th class=\"col_heading level0 col8\" >np2</th>        <th class=\"col_heading level0 col9\" >eps</th>    </tr></thead><tbody>\n",
       "                <tr>\n",
       "                        <th id=\"T_d503b89a_0fe0_11ea_9396_f0d4e2f78724level0_row0\" class=\"row_heading level0 row0\" >0</th>\n",
       "                        <td id=\"T_d503b89a_0fe0_11ea_9396_f0d4e2f78724row0_col0\" class=\"data row0 col0\" >Orientation</td>\n",
       "                        <td id=\"T_d503b89a_0fe0_11ea_9396_f0d4e2f78724row0_col1\" class=\"data row0 col1\" >0.006</td>\n",
       "                        <td id=\"T_d503b89a_0fe0_11ea_9396_f0d4e2f78724row0_col2\" class=\"data row0 col2\" >1</td>\n",
       "                        <td id=\"T_d503b89a_0fe0_11ea_9396_f0d4e2f78724row0_col3\" class=\"data row0 col3\" >9</td>\n",
       "                        <td id=\"T_d503b89a_0fe0_11ea_9396_f0d4e2f78724row0_col4\" class=\"data row0 col4\" >0.006</td>\n",
       "                        <td id=\"T_d503b89a_0fe0_11ea_9396_f0d4e2f78724row0_col5\" class=\"data row0 col5\" >11.827</td>\n",
       "                        <td id=\"T_d503b89a_0fe0_11ea_9396_f0d4e2f78724row0_col6\" class=\"data row0 col6\" >0.00740191</td>\n",
       "                        <td id=\"T_d503b89a_0fe0_11ea_9396_f0d4e2f78724row0_col7\" class=\"data row0 col7\" >0.00740191</td>\n",
       "                        <td id=\"T_d503b89a_0fe0_11ea_9396_f0d4e2f78724row0_col8\" class=\"data row0 col8\" >0.568</td>\n",
       "                        <td id=\"T_d503b89a_0fe0_11ea_9396_f0d4e2f78724row0_col9\" class=\"data row0 col9\" >1</td>\n",
       "            </tr>\n",
       "            <tr>\n",
       "                        <th id=\"T_d503b89a_0fe0_11ea_9396_f0d4e2f78724level0_row1\" class=\"row_heading level0 row1\" >1</th>\n",
       "                        <td id=\"T_d503b89a_0fe0_11ea_9396_f0d4e2f78724row1_col0\" class=\"data row1 col0\" >Familiarity</td>\n",
       "                        <td id=\"T_d503b89a_0fe0_11ea_9396_f0d4e2f78724row1_col1\" class=\"data row1 col1\" >0.003</td>\n",
       "                        <td id=\"T_d503b89a_0fe0_11ea_9396_f0d4e2f78724row1_col2\" class=\"data row1 col2\" >1</td>\n",
       "                        <td id=\"T_d503b89a_0fe0_11ea_9396_f0d4e2f78724row1_col3\" class=\"data row1 col3\" >9</td>\n",
       "                        <td id=\"T_d503b89a_0fe0_11ea_9396_f0d4e2f78724row1_col4\" class=\"data row1 col4\" >0.003</td>\n",
       "                        <td id=\"T_d503b89a_0fe0_11ea_9396_f0d4e2f78724row1_col5\" class=\"data row1 col5\" >5.211</td>\n",
       "                        <td id=\"T_d503b89a_0fe0_11ea_9396_f0d4e2f78724row1_col6\" class=\"data row1 col6\" >0.0483519</td>\n",
       "                        <td id=\"T_d503b89a_0fe0_11ea_9396_f0d4e2f78724row1_col7\" class=\"data row1 col7\" >0.0483519</td>\n",
       "                        <td id=\"T_d503b89a_0fe0_11ea_9396_f0d4e2f78724row1_col8\" class=\"data row1 col8\" >0.367</td>\n",
       "                        <td id=\"T_d503b89a_0fe0_11ea_9396_f0d4e2f78724row1_col9\" class=\"data row1 col9\" >1</td>\n",
       "            </tr>\n",
       "            <tr>\n",
       "                        <th id=\"T_d503b89a_0fe0_11ea_9396_f0d4e2f78724level0_row2\" class=\"row_heading level0 row2\" >2</th>\n",
       "                        <td id=\"T_d503b89a_0fe0_11ea_9396_f0d4e2f78724row2_col0\" class=\"data row2 col0\" >Orientation * Familiarity</td>\n",
       "                        <td id=\"T_d503b89a_0fe0_11ea_9396_f0d4e2f78724row2_col1\" class=\"data row2 col1\" >0.001</td>\n",
       "                        <td id=\"T_d503b89a_0fe0_11ea_9396_f0d4e2f78724row2_col2\" class=\"data row2 col2\" >1</td>\n",
       "                        <td id=\"T_d503b89a_0fe0_11ea_9396_f0d4e2f78724row2_col3\" class=\"data row2 col3\" >9</td>\n",
       "                        <td id=\"T_d503b89a_0fe0_11ea_9396_f0d4e2f78724row2_col4\" class=\"data row2 col4\" >0.001</td>\n",
       "                        <td id=\"T_d503b89a_0fe0_11ea_9396_f0d4e2f78724row2_col5\" class=\"data row2 col5\" >2.019</td>\n",
       "                        <td id=\"T_d503b89a_0fe0_11ea_9396_f0d4e2f78724row2_col6\" class=\"data row2 col6\" >0.189022</td>\n",
       "                        <td id=\"T_d503b89a_0fe0_11ea_9396_f0d4e2f78724row2_col7\" class=\"data row2 col7\" >0.189022</td>\n",
       "                        <td id=\"T_d503b89a_0fe0_11ea_9396_f0d4e2f78724row2_col8\" class=\"data row2 col8\" >0.183</td>\n",
       "                        <td id=\"T_d503b89a_0fe0_11ea_9396_f0d4e2f78724row2_col9\" class=\"data row2 col9\" >1</td>\n",
       "            </tr>\n",
       "    </tbody></table>"
      ],
      "text/plain": [
       "<pandas.io.formats.style.Styler at 0x1f88bf905c8>"
      ]
     },
     "execution_count": 5,
     "metadata": {},
     "output_type": "execute_result"
    }
   ],
   "source": [
    "data_discr = data.loc[data['Type']=='discrimination']\n",
    "aov_fr = pg.rm_anova(data=data_discr, dv='Value', within=['Orientation','Familiarity'], subject='Subs')\n",
    "print(f'df effect {4*0.607:.2f}')\n",
    "print(f'df error {152*0.607:.2f}')\n",
    "aov_fr.style.applymap(color_significant, subset=['p-GG-corr','p-unc'])\n"
   ]
  },
  {
   "cell_type": "markdown",
   "metadata": {},
   "source": [
    "# Reconstruction"
   ]
  },
  {
   "cell_type": "code",
   "execution_count": 6,
   "metadata": {},
   "outputs": [
    {
     "name": "stdout",
     "output_type": "stream",
     "text": [
      "\n",
      "\n"
     ]
    },
    {
     "data": {
      "text/html": [
       "<div>\n",
       "<style scoped>\n",
       "    .dataframe tbody tr th:only-of-type {\n",
       "        vertical-align: middle;\n",
       "    }\n",
       "\n",
       "    .dataframe tbody tr th {\n",
       "        vertical-align: top;\n",
       "    }\n",
       "\n",
       "    .dataframe thead th {\n",
       "        text-align: right;\n",
       "    }\n",
       "</style>\n",
       "<table border=\"1\" class=\"dataframe\">\n",
       "  <thead>\n",
       "    <tr style=\"text-align: right;\">\n",
       "      <th></th>\n",
       "      <th></th>\n",
       "      <th>N</th>\n",
       "      <th>Mean</th>\n",
       "      <th>SD</th>\n",
       "      <th>SE</th>\n",
       "      <th>95% Conf.</th>\n",
       "      <th>Interval</th>\n",
       "    </tr>\n",
       "    <tr>\n",
       "      <th>Orientation</th>\n",
       "      <th>Familiarity</th>\n",
       "      <th></th>\n",
       "      <th></th>\n",
       "      <th></th>\n",
       "      <th></th>\n",
       "      <th></th>\n",
       "      <th></th>\n",
       "    </tr>\n",
       "  </thead>\n",
       "  <tbody>\n",
       "    <tr>\n",
       "      <th rowspan=\"2\" valign=\"top\">inverted</th>\n",
       "      <th>famous</th>\n",
       "      <td>10</td>\n",
       "      <td>0.522</td>\n",
       "      <td>0.053292</td>\n",
       "      <td>0.016852</td>\n",
       "      <td>0.488969</td>\n",
       "      <td>0.555031</td>\n",
       "    </tr>\n",
       "    <tr>\n",
       "      <th>unfamiliar</th>\n",
       "      <td>10</td>\n",
       "      <td>0.533</td>\n",
       "      <td>0.029078</td>\n",
       "      <td>0.009195</td>\n",
       "      <td>0.514977</td>\n",
       "      <td>0.551023</td>\n",
       "    </tr>\n",
       "    <tr>\n",
       "      <th rowspan=\"2\" valign=\"top\">upright</th>\n",
       "      <th>famous</th>\n",
       "      <td>10</td>\n",
       "      <td>0.535</td>\n",
       "      <td>0.051045</td>\n",
       "      <td>0.016142</td>\n",
       "      <td>0.503362</td>\n",
       "      <td>0.566638</td>\n",
       "    </tr>\n",
       "    <tr>\n",
       "      <th>unfamiliar</th>\n",
       "      <td>10</td>\n",
       "      <td>0.521</td>\n",
       "      <td>0.050431</td>\n",
       "      <td>0.015948</td>\n",
       "      <td>0.489742</td>\n",
       "      <td>0.552258</td>\n",
       "    </tr>\n",
       "  </tbody>\n",
       "</table>\n",
       "</div>"
      ],
      "text/plain": [
       "                          N   Mean        SD        SE  95% Conf.  Interval\n",
       "Orientation Familiarity                                                    \n",
       "inverted    famous       10  0.522  0.053292  0.016852   0.488969  0.555031\n",
       "            unfamiliar   10  0.533  0.029078  0.009195   0.514977  0.551023\n",
       "upright     famous       10  0.535  0.051045  0.016142   0.503362  0.566638\n",
       "            unfamiliar   10  0.521  0.050431  0.015948   0.489742  0.552258"
      ]
     },
     "execution_count": 6,
     "metadata": {},
     "output_type": "execute_result"
    }
   ],
   "source": [
    "sum_df = rp.summary_cont(data.loc[data['Type'] == 'reconstruction'].groupby(['Orientation', 'Familiarity']))['Value']\n",
    "sum_df"
   ]
  },
  {
   "cell_type": "code",
   "execution_count": 7,
   "metadata": {},
   "outputs": [
    {
     "name": "stdout",
     "output_type": "stream",
     "text": [
      "df effect 2.43\n",
      "df error 92.26\n"
     ]
    },
    {
     "data": {
      "text/html": [
       "<style  type=\"text/css\" >\n",
       "    #T_d94b6bf6_0fe0_11ea_8166_f0d4e2f78724row0_col6 {\n",
       "            color:  black;\n",
       "        }    #T_d94b6bf6_0fe0_11ea_8166_f0d4e2f78724row0_col7 {\n",
       "            color:  black;\n",
       "        }    #T_d94b6bf6_0fe0_11ea_8166_f0d4e2f78724row1_col6 {\n",
       "            color:  black;\n",
       "        }    #T_d94b6bf6_0fe0_11ea_8166_f0d4e2f78724row1_col7 {\n",
       "            color:  black;\n",
       "        }    #T_d94b6bf6_0fe0_11ea_8166_f0d4e2f78724row2_col6 {\n",
       "            color:  black;\n",
       "        }    #T_d94b6bf6_0fe0_11ea_8166_f0d4e2f78724row2_col7 {\n",
       "            color:  black;\n",
       "        }</style><table id=\"T_d94b6bf6_0fe0_11ea_8166_f0d4e2f78724\" ><thead>    <tr>        <th class=\"blank level0\" ></th>        <th class=\"col_heading level0 col0\" >Source</th>        <th class=\"col_heading level0 col1\" >SS</th>        <th class=\"col_heading level0 col2\" >ddof1</th>        <th class=\"col_heading level0 col3\" >ddof2</th>        <th class=\"col_heading level0 col4\" >MS</th>        <th class=\"col_heading level0 col5\" >F</th>        <th class=\"col_heading level0 col6\" >p-unc</th>        <th class=\"col_heading level0 col7\" >p-GG-corr</th>        <th class=\"col_heading level0 col8\" >np2</th>        <th class=\"col_heading level0 col9\" >eps</th>    </tr></thead><tbody>\n",
       "                <tr>\n",
       "                        <th id=\"T_d94b6bf6_0fe0_11ea_8166_f0d4e2f78724level0_row0\" class=\"row_heading level0 row0\" >0</th>\n",
       "                        <td id=\"T_d94b6bf6_0fe0_11ea_8166_f0d4e2f78724row0_col0\" class=\"data row0 col0\" >Orientation</td>\n",
       "                        <td id=\"T_d94b6bf6_0fe0_11ea_8166_f0d4e2f78724row0_col1\" class=\"data row0 col1\" >0</td>\n",
       "                        <td id=\"T_d94b6bf6_0fe0_11ea_8166_f0d4e2f78724row0_col2\" class=\"data row0 col2\" >1</td>\n",
       "                        <td id=\"T_d94b6bf6_0fe0_11ea_8166_f0d4e2f78724row0_col3\" class=\"data row0 col3\" >9</td>\n",
       "                        <td id=\"T_d94b6bf6_0fe0_11ea_8166_f0d4e2f78724row0_col4\" class=\"data row0 col4\" >0</td>\n",
       "                        <td id=\"T_d94b6bf6_0fe0_11ea_8166_f0d4e2f78724row0_col5\" class=\"data row0 col5\" >0.001</td>\n",
       "                        <td id=\"T_d94b6bf6_0fe0_11ea_8166_f0d4e2f78724row0_col6\" class=\"data row0 col6\" >0.976592</td>\n",
       "                        <td id=\"T_d94b6bf6_0fe0_11ea_8166_f0d4e2f78724row0_col7\" class=\"data row0 col7\" >0.976592</td>\n",
       "                        <td id=\"T_d94b6bf6_0fe0_11ea_8166_f0d4e2f78724row0_col8\" class=\"data row0 col8\" >0</td>\n",
       "                        <td id=\"T_d94b6bf6_0fe0_11ea_8166_f0d4e2f78724row0_col9\" class=\"data row0 col9\" >1</td>\n",
       "            </tr>\n",
       "            <tr>\n",
       "                        <th id=\"T_d94b6bf6_0fe0_11ea_8166_f0d4e2f78724level0_row1\" class=\"row_heading level0 row1\" >1</th>\n",
       "                        <td id=\"T_d94b6bf6_0fe0_11ea_8166_f0d4e2f78724row1_col0\" class=\"data row1 col0\" >Familiarity</td>\n",
       "                        <td id=\"T_d94b6bf6_0fe0_11ea_8166_f0d4e2f78724row1_col1\" class=\"data row1 col1\" >0</td>\n",
       "                        <td id=\"T_d94b6bf6_0fe0_11ea_8166_f0d4e2f78724row1_col2\" class=\"data row1 col2\" >1</td>\n",
       "                        <td id=\"T_d94b6bf6_0fe0_11ea_8166_f0d4e2f78724row1_col3\" class=\"data row1 col3\" >9</td>\n",
       "                        <td id=\"T_d94b6bf6_0fe0_11ea_8166_f0d4e2f78724row1_col4\" class=\"data row1 col4\" >0</td>\n",
       "                        <td id=\"T_d94b6bf6_0fe0_11ea_8166_f0d4e2f78724row1_col5\" class=\"data row1 col5\" >0.016</td>\n",
       "                        <td id=\"T_d94b6bf6_0fe0_11ea_8166_f0d4e2f78724row1_col6\" class=\"data row1 col6\" >0.902681</td>\n",
       "                        <td id=\"T_d94b6bf6_0fe0_11ea_8166_f0d4e2f78724row1_col7\" class=\"data row1 col7\" >0.902681</td>\n",
       "                        <td id=\"T_d94b6bf6_0fe0_11ea_8166_f0d4e2f78724row1_col8\" class=\"data row1 col8\" >0.002</td>\n",
       "                        <td id=\"T_d94b6bf6_0fe0_11ea_8166_f0d4e2f78724row1_col9\" class=\"data row1 col9\" >1</td>\n",
       "            </tr>\n",
       "            <tr>\n",
       "                        <th id=\"T_d94b6bf6_0fe0_11ea_8166_f0d4e2f78724level0_row2\" class=\"row_heading level0 row2\" >2</th>\n",
       "                        <td id=\"T_d94b6bf6_0fe0_11ea_8166_f0d4e2f78724row2_col0\" class=\"data row2 col0\" >Orientation * Familiarity</td>\n",
       "                        <td id=\"T_d94b6bf6_0fe0_11ea_8166_f0d4e2f78724row2_col1\" class=\"data row2 col1\" >0.002</td>\n",
       "                        <td id=\"T_d94b6bf6_0fe0_11ea_8166_f0d4e2f78724row2_col2\" class=\"data row2 col2\" >1</td>\n",
       "                        <td id=\"T_d94b6bf6_0fe0_11ea_8166_f0d4e2f78724row2_col3\" class=\"data row2 col3\" >9</td>\n",
       "                        <td id=\"T_d94b6bf6_0fe0_11ea_8166_f0d4e2f78724row2_col4\" class=\"data row2 col4\" >0.002</td>\n",
       "                        <td id=\"T_d94b6bf6_0fe0_11ea_8166_f0d4e2f78724row2_col5\" class=\"data row2 col5\" >1.812</td>\n",
       "                        <td id=\"T_d94b6bf6_0fe0_11ea_8166_f0d4e2f78724row2_col6\" class=\"data row2 col6\" >0.211238</td>\n",
       "                        <td id=\"T_d94b6bf6_0fe0_11ea_8166_f0d4e2f78724row2_col7\" class=\"data row2 col7\" >0.211238</td>\n",
       "                        <td id=\"T_d94b6bf6_0fe0_11ea_8166_f0d4e2f78724row2_col8\" class=\"data row2 col8\" >0.168</td>\n",
       "                        <td id=\"T_d94b6bf6_0fe0_11ea_8166_f0d4e2f78724row2_col9\" class=\"data row2 col9\" >1</td>\n",
       "            </tr>\n",
       "    </tbody></table>"
      ],
      "text/plain": [
       "<pandas.io.formats.style.Styler at 0x1f88d18ec88>"
      ]
     },
     "execution_count": 7,
     "metadata": {},
     "output_type": "execute_result"
    }
   ],
   "source": [
    "data_recon = data.loc[data['Type']=='reconstruction']\n",
    "aov_recon = pg.rm_anova(data=data_recon, dv='Value', within=['Orientation','Familiarity'], subject='Subs')\n",
    "print(f'df effect {4*0.607:.2f}')\n",
    "print(f'df error {152*0.607:.2f}')\n",
    "aov_recon.style.applymap(color_significant, subset=['p-GG-corr','p-unc'])"
   ]
  },
  {
   "cell_type": "code",
   "execution_count": 10,
   "metadata": {},
   "outputs": [
    {
     "data": {
      "text/plain": [
       "\"\\na1 = plt.subplot(122) \\nsns.pointplot(y='value',x='bands',hue = 'category', data=data_fq, \\n            order = ['delta','theta','alpha','beta','gamma'],\\n            dodge=True, capsize=0.1, palette = palette)\\nsns.despine()\\na1.set(xlabel='Frequency band', ylabel='Ranks')\\n\""
      ]
     },
     "execution_count": 10,
     "metadata": {},
     "output_type": "execute_result"
    },
    {
     "data": {
      "image/png": "[encoded data removed]",
      "text/plain": [
       "<Figure size 1152x432 with 2 Axes>"
      ]
     },
     "metadata": {
      "needs_background": "light"
     },
     "output_type": "display_data"
    }
   ],
   "source": [
    "%matplotlib inline\n",
    "sns.set_context(\"paper\", font_scale=1.5, rc={\"font.size\":12,\"axes.labelsize\":14})\n",
    "plt.figure(figsize=(16, 6))\n",
    "plt.subplot(121) \n",
    "sns.pointplot(x=\"Orientation\", y=\"Value\",hue=\"Familiarity\", \n",
    "                data=data_discr, kind=\"point\",dodge=True)\n",
    "\n",
    "plt.subplot(122) \n",
    "sns.pointplot(x=\"Orientation\", y=\"Value\",hue=\"Familiarity\", \n",
    "                data=data_recon, kind=\"point\",dodge=True)\n",
    "\n",
    "'''\n",
    "a1 = plt.subplot(122) \n",
    "sns.pointplot(y='value',x='bands',hue = 'category', data=data_fq, \n",
    "            order = ['delta','theta','alpha','beta','gamma'],\n",
    "            dodge=True, capsize=0.1, palette = palette)\n",
    "sns.despine()\n",
    "a1.set(xlabel='Frequency band', ylabel='Ranks')\n",
    "'''\n",
    "\n",
    "\n"
   ]
  },
  {
   "cell_type": "code",
   "execution_count": 29,
   "metadata": {},
   "outputs": [
    {
     "data": {
      "text/html": [
       "<div>\n",
       "<style scoped>\n",
       "    .dataframe tbody tr th:only-of-type {\n",
       "        vertical-align: middle;\n",
       "    }\n",
       "\n",
       "    .dataframe tbody tr th {\n",
       "        vertical-align: top;\n",
       "    }\n",
       "\n",
       "    .dataframe thead tr th {\n",
       "        text-align: left;\n",
       "    }\n",
       "</style>\n",
       "<table border=\"1\" class=\"dataframe\">\n",
       "  <thead>\n",
       "    <tr>\n",
       "      <th></th>\n",
       "      <th colspan=\"8\" halign=\"left\">Value</th>\n",
       "    </tr>\n",
       "    <tr>\n",
       "      <th>Type</th>\n",
       "      <th colspan=\"4\" halign=\"left\">discrimination</th>\n",
       "      <th colspan=\"4\" halign=\"left\">reconstruction</th>\n",
       "    </tr>\n",
       "    <tr>\n",
       "      <th>Orientation</th>\n",
       "      <th colspan=\"2\" halign=\"left\">inverted</th>\n",
       "      <th colspan=\"2\" halign=\"left\">upright</th>\n",
       "      <th colspan=\"2\" halign=\"left\">inverted</th>\n",
       "      <th colspan=\"2\" halign=\"left\">upright</th>\n",
       "    </tr>\n",
       "    <tr>\n",
       "      <th>Familiarity</th>\n",
       "      <th>famous</th>\n",
       "      <th>unfamiliar</th>\n",
       "      <th>famous</th>\n",
       "      <th>unfamiliar</th>\n",
       "      <th>famous</th>\n",
       "      <th>unfamiliar</th>\n",
       "      <th>famous</th>\n",
       "      <th>unfamiliar</th>\n",
       "    </tr>\n",
       "  </thead>\n",
       "  <tbody>\n",
       "    <tr>\n",
       "      <th>0</th>\n",
       "      <td>4.639153</td>\n",
       "      <td>7.04718</td>\n",
       "      <td>3.951329</td>\n",
       "      <td>5.709971</td>\n",
       "      <td>1.30546</td>\n",
       "      <td>3.588747</td>\n",
       "      <td>2.168293</td>\n",
       "      <td>1.316793</td>\n",
       "    </tr>\n",
       "    <tr>\n",
       "      <th>1</th>\n",
       "      <td>0.001221</td>\n",
       "      <td>0.00006</td>\n",
       "      <td>0.003348</td>\n",
       "      <td>0.000291</td>\n",
       "      <td>0.22412</td>\n",
       "      <td>0.005850</td>\n",
       "      <td>0.058275</td>\n",
       "      <td>0.220450</td>\n",
       "    </tr>\n",
       "  </tbody>\n",
       "</table>\n",
       "</div>"
      ],
      "text/plain": [
       "                     Value                                                 \\\n",
       "Type        discrimination                                 reconstruction   \n",
       "Orientation       inverted              upright                  inverted   \n",
       "Familiarity         famous unfamiliar    famous unfamiliar         famous   \n",
       "0                 4.639153    7.04718  3.951329   5.709971        1.30546   \n",
       "1                 0.001221    0.00006  0.003348   0.000291        0.22412   \n",
       "\n",
       "                                             \n",
       "Type                                         \n",
       "Orientation              upright             \n",
       "Familiarity unfamiliar    famous unfamiliar  \n",
       "0             3.588747  2.168293   1.316793  \n",
       "1             0.005850  0.058275   0.220450  "
      ]
     },
     "execution_count": 29,
     "metadata": {},
     "output_type": "execute_result"
    }
   ],
   "source": [
    "from scipy.stats import ttest_1samp\n",
    "table = pd.pivot_table(data, values=['Value'], columns=['Type','Orientation','Familiarity'], index=['Subs'])\n",
    "table.apply(lambda x: ttest_1samp(x, 0.5),result_type='expand')"
   ]
  },
  {
   "cell_type": "markdown",
   "metadata": {},
   "source": [
    "# Functions"
   ]
  },
  {
   "cell_type": "code",
   "execution_count": 1,
   "metadata": {},
   "outputs": [],
   "source": [
    "def anova_table(aov):\n",
    "    aov['mean_sq'] = aov[:]['sum_sq']/aov[:]['df']\n",
    "    \n",
    "    aov['eta_sq'] = aov[:-1]['sum_sq']/sum(aov['sum_sq'])\n",
    "    \n",
    "    aov['omega_sq'] = (aov[:-1]['sum_sq']-(aov[:-1]['df']*aov['mean_sq'][-1]))/(sum(aov['sum_sq'])+aov['mean_sq'][-1])\n",
    "    \n",
    "    cols = ['sum_sq', 'mean_sq', 'df', 'F', 'PR(>F)', 'eta_sq', 'omega_sq']\n",
    "    aov = aov[cols]\n",
    "    return aov\n",
    "\n",
    "\n",
    "def color_significant(value):\n",
    "    import pandas as pd\n",
    "    import numpy as np\n",
    "    '''\n",
    "        Colors elements in a dateframe\n",
    "      green if positive and red if\n",
    "      negative. Does not color NaN\n",
    "      values.\n",
    "     '''\n",
    "    try:\n",
    "        float(value)\n",
    "        if float(value) < 0.001:\n",
    "            color = 'purple'\n",
    "        elif float(value) < 0.05:\n",
    "            color = 'red'\n",
    "        else:\n",
    "            color = 'black'\n",
    "    except: \n",
    "        color = 'black'\n",
    "    return 'color: %s' % color    "
   ]
  }
 ],
 "metadata": {
  "kernelspec": {
   "display_name": "Python 3",
   "language": "python",
   "name": "python3"
  },
  "language_info": {
   "codemirror_mode": {
    "name": "ipython",
    "version": 3
   },
   "file_extension": ".py",
   "mimetype": "text/x-python",
   "name": "python",
   "nbconvert_exporter": "python",
   "pygments_lexer": "ipython3",
   "version": "3.7.5"
  }
 },
 "nbformat": 4,
 "nbformat_minor": 4
}
