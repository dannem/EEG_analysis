{
 "cells": [
  {
   "cell_type": "code",
   "execution_count": 1,
   "metadata": {},
   "outputs": [],
   "source": [
    "%reset -f\n",
    "%matplotlib qt\n",
    "import sys\n",
    "import mne\n",
    "import matplotlib.pyplot as plt\n",
    "import numpy as np\n",
    "import os.path as op\n",
    "import os\n",
    "import warnings\n",
    "warnings.filterwarnings('ignore')\n",
    "import pandas as pd\n",
    "\n",
    "pick_ch=['P9','P7','P5','P3','PO7','PO3','O1','P10','P8','P6','P4','PO8','PO4','O2','POz','Pz']\n",
    "#%load_ext autoreload\n",
    "#%autoreload 2\n",
    "%run EEG_auxiliary_module.ipynb\n",
    "%run general_tools.ipynb\n",
    "mne.__version__\n",
    "mne.set_log_level(\"WARNING\")\n",
    "\n",
    "infolder, outfolder = find_folder()\n",
    "subs = [3,4,5,6,7,8,9,10,11,12,13,14,15,16,17,18]"
   ]
  },
  {
   "cell_type": "code",
   "execution_count": 12,
   "metadata": {},
   "outputs": [
    {
     "data": {
      "text/plain": [
       "<EpochsFIF  |   1100 events (all good), -0.0996094 - 1 sec, baseline off, ~303.1 MB, data loaded,\n",
       " '101': 44\n",
       " '102': 44\n",
       " '103': 44\n",
       " '104': 44\n",
       " '105': 44\n",
       " '106': 44\n",
       " '107': 44\n",
       " '108': 44\n",
       " '109': 44\n",
       " '110': 44\n",
       " '111': 44\n",
       " '112': 44\n",
       " '113': 44\n",
       " '114': 44\n",
       " '115': 44\n",
       " '116': 44\n",
       " '117': 44\n",
       " '118': 44\n",
       " '119': 44\n",
       " '120': 44\n",
       " '121': 44\n",
       " '122': 44\n",
       " '123': 44\n",
       " '124': 44\n",
       " '125': 44>"
      ]
     },
     "execution_count": 12,
     "metadata": {},
     "output_type": "execute_result"
    }
   ],
   "source": [
    "fname = op.join(outfolder,'S02_perc-epo.fif')\n",
    "epochs = mne.read_epochs(fname)\n",
    "a = epochs[[str(x) for x in np.arange(101,126)]]\n",
    "a"
   ]
  },
  {
   "cell_type": "code",
   "execution_count": 263,
   "metadata": {},
   "outputs": [
    {
     "name": "stdout",
     "output_type": "stream",
     "text": [
      "Progress: [####################] 100.0%\n",
      "The overall accuracy is 51.0 and the duration is 1.5 minutes\n"
     ]
    }
   ],
   "source": [
    "%run EEG_auxiliary_module.ipynb\n",
    "from scipy.spatial.distance import pdist, squareform\n",
    "data=list()\n",
    "labels = list()\n",
    "trials=4\n",
    "tbins = np.arange(-0.1,0.9,0.01)\n",
    "results_all=[]\n",
    "for j in subs:\n",
    "    fname = op.join(outfolder,f'S'+{j:.2f}+'_perc-epo.fif')\n",
    "    epochs = mne.read_epochs(fname)\n",
    "    #trials = len(epochs['101']) # average all trials.\n",
    "    blocks=int(len(epochs['101'])/trials)\n",
    "    print(blocks)\n",
    "    epochs = block_average(epochs, trials, blocks, kind='perc')\n",
    "    results_s=[]\n",
    "    for i in tbins:\n",
    "        times=(i,i+0.01)\n",
    "        X, Y = convert_epochs_to_2D_array(epochs, times=times)\n",
    "        confusion, duration = run_eeg_svm(X, Y, blocks)\n",
    "        results_s.append(squareform(confusion))\n",
    "    results_all.append(results_s)\n"
   ]
  },
  {
   "cell_type": "markdown",
   "metadata": {},
   "source": [
    "# Reconstruction by origin"
   ]
  },
  {
   "cell_type": "code",
   "execution_count": 22,
   "metadata": {},
   "outputs": [
    {
     "data": {
      "text/plain": [
       "'E:\\\\Ilya_study\\\\Analysis\\\\S03perc-epo.fif'"
      ]
     },
     "execution_count": 22,
     "metadata": {},
     "output_type": "execute_result"
    }
   ],
   "source": [
    "a = 1\n",
    "fname = op.join(outfolder, f'S{j:02}perc-epo.fif')\n",
    "fname"
   ]
  },
  {
   "cell_type": "code",
   "execution_count": null,
   "metadata": {},
   "outputs": [],
   "source": [
    "%run EEG_auxiliary_module.ipynb\n",
    "from scipy.spatial.distance import pdist, squareform\n",
    "subs = [3,4,5,6,7,8,9,10,11,12,13,14,15,16,17,18]\n",
    "data=list()\n",
    "labels = list()\n",
    "trials=4\n",
    "tbins = np.arange(-0.1,0.9,0.01)\n",
    "results_east=[]\n",
    "results_west=[]\n",
    "for j in subs:\n",
    "    print(j)\n",
    "    fname = op.join(outfolder,f'S{j:02}_perc-epo.fif')\n",
    "    epochs = mne.read_epochs(fname)\n",
    "    #trials = len(epochs['101']) # average all trials.\n",
    "    blocks=int(len(epochs['101'])/trials)\n",
    "    print(blocks)\n",
    "    epochs = block_average(epochs, trials, blocks, kind='perc')\n",
    "    eps = epochs[[str(x) for x in np.arange(101,126)]] \n",
    "    results_s=[]\n",
    "    for i in tbins:\n",
    "        times=(i,i+0.01)\n",
    "        X, Y = convert_epochs_to_2D_array(eps, times=times)\n",
    "        confusion, duration = run_eeg_svm(X, Y, blocks)\n",
    "        results_s.append(squareform(confusion))\n",
    "    results_east.append(results_s)\n",
    "    \n",
    "    eps = epochs[[str(x) for x in np.arange(126,151)]]\n",
    "    results_s=[]\n",
    "    for i in tbins:\n",
    "        times=(i,i+0.01)\n",
    "        X, Y = convert_epochs_to_2D_array(eps, times=times)\n",
    "        confusion, duration = run_eeg_svm(X, Y, blocks)\n",
    "        results_s.append(squareform(confusion))\n",
    "    results_west.append(results_s)"
   ]
  },
  {
   "cell_type": "code",
   "execution_count": 31,
   "metadata": {},
   "outputs": [],
   "source": [
    "results_east = np.array(results_east)\n",
    "results_west = np.array(results_west)"
   ]
  },
  {
   "cell_type": "code",
   "execution_count": 44,
   "metadata": {},
   "outputs": [],
   "source": [
    "fig = plt.figure()\n",
    "ax = plt.subplot(111)\n",
    "ax.plot(np.linspace(-100, 900, num=100),east, label='east')\n",
    "ax.plot(np.linspace(-100, 900, num=100),west, label='west')\n",
    "ax.legend()\n",
    "plt.title('Discrimination dynamics')\n",
    "plt.show()"
   ]
  },
  {
   "cell_type": "code",
   "execution_count": 34,
   "metadata": {},
   "outputs": [
    {
     "data": {
      "text/plain": [
       "(16, 100, 300)"
      ]
     },
     "execution_count": 34,
     "metadata": {},
     "output_type": "execute_result"
    }
   ],
   "source": [
    "results_east.shape"
   ]
  },
  {
   "cell_type": "code",
   "execution_count": 36,
   "metadata": {},
   "outputs": [
    {
     "data": {
      "text/plain": [
       "(100,)"
      ]
     },
     "execution_count": 36,
     "metadata": {},
     "output_type": "execute_result"
    }
   ],
   "source": [
    "east = np.mean(np.mean(results_east,axis=0),axis=1)\n",
    "east.shape\n",
    "west = np.mean(np.mean(results_west,axis=0),axis=1)\n",
    "west.shape"
   ]
  },
  {
   "cell_type": "code",
   "execution_count": 30,
   "metadata": {},
   "outputs": [],
   "source": [
    "a = np.array(results_east)\n",
    "np.save('sub_all_time_east.npy', a)\n",
    "a = np.array(results_west)\n",
    "np.save('sub_all_time_west.npy', a)\n"
   ]
  },
  {
   "cell_type": "code",
   "execution_count": 45,
   "metadata": {},
   "outputs": [],
   "source": [
    "output=results_all.copy()\n",
    "from scipy.spatial.distance import pdist, squareform\n",
    "for i in range(len(results_all)):\n",
    "    for b in range(len(results_all[i])):\n",
    "        output[i][b]=squareform(results_all[i][b])\n",
    "        \n",
    "output = np.array(output)\n",
    "np.save('first_2_subs_time.npy', output)"
   ]
  },
  {
   "cell_type": "code",
   "execution_count": 249,
   "metadata": {},
   "outputs": [
    {
     "name": "stdout",
     "output_type": "stream",
     "text": [
      "(100, 100)\n"
     ]
    }
   ],
   "source": [
    "datain.shape\n",
    "data=[]\n",
    "for i in range(len(datain)):\n",
    "    temp_time=[]\n",
    "    for j in range(100):\n",
    "        temp = squareform(datain[i,j,:])\n",
    "        temp_time.append(temp)\n",
    "    data.append(temp_time)\n",
    "print(data[0][0].shape)"
   ]
  },
  {
   "cell_type": "code",
   "execution_count": 257,
   "metadata": {},
   "outputs": [
    {
     "data": {
      "image/png": "[encoded data removed]",
      "text/plain": [
       "<Figure size 432x288 with 1 Axes>"
      ]
     },
     "metadata": {},
     "output_type": "display_data"
    }
   ],
   "source": [
    "output = copy.deepcopy(data)\n",
    "from scipy.spatial.distance import pdist, squareform\n",
    "for i,item in enumerate(data):\n",
    "    for j,item2 in enumerate(item):\n",
    "        temp = item2\n",
    "        output[i][j] = np.mean(squareform(temp))*100\n",
    "output = np.array(output)\n",
    "%matplotlib inline\n",
    "import matplotlib.pyplot as plt\n",
    "output = np.mean(output,axis=0)\n",
    "plt.plot(np.linspace(-100, 900, num=100),np.transpose(output))\n",
    "plt.title('Overall discrimination')\n",
    "plt.show()"
   ]
  },
  {
   "cell_type": "code",
   "execution_count": 258,
   "metadata": {},
   "outputs": [
    {
     "data": {
      "image/png": "[encoded data removed]",
      "text/plain": [
       "<Figure size 432x288 with 1 Axes>"
      ]
     },
     "metadata": {},
     "output_type": "display_data"
    }
   ],
   "source": [
    "output = copy.deepcopy(data)\n",
    "from scipy.spatial.distance import pdist, squareform\n",
    "for i,item in enumerate(data):\n",
    "    for j,item2 in enumerate(item):\n",
    "        temp = item2[25:50,25:50]\n",
    "        output[i][j] = np.mean(squareform(temp))*100\n",
    "output = np.array(output)\n",
    "%matplotlib inline\n",
    "import matplotlib.pyplot as plt\n",
    "output = np.mean(output,axis=0)\n",
    "plt.plot(np.linspace(-100, 900, num=100),np.transpose(output))\n",
    "plt.title('Upright famous')\n",
    "plt.show()"
   ]
  },
  {
   "cell_type": "code",
   "execution_count": 259,
   "metadata": {},
   "outputs": [
    {
     "data": {
      "image/png": "[encoded data removed]",
      "text/plain": [
       "<Figure size 432x288 with 1 Axes>"
      ]
     },
     "metadata": {},
     "output_type": "display_data"
    }
   ],
   "source": [
    "output = copy.deepcopy(data)\n",
    "from scipy.spatial.distance import pdist, squareform\n",
    "for i,item in enumerate(data):\n",
    "    for j,item2 in enumerate(item):\n",
    "        temp = item2[0:25,0:25]\n",
    "        output[i][j] = np.mean(squareform(temp))*100\n",
    "output = np.array(output)\n",
    "%matplotlib inline\n",
    "import matplotlib.pyplot as plt\n",
    "output = np.mean(output,axis=0)\n",
    "plt.plot(np.linspace(-100, 900, num=100),np.transpose(output))\n",
    "plt.title('Upright unfamiliar')\n",
    "plt.show()"
   ]
  },
  {
   "cell_type": "code",
   "execution_count": 260,
   "metadata": {},
   "outputs": [
    {
     "data": {
      "image/png": "[encoded data removed]",
      "text/plain": [
       "<Figure size 432x288 with 1 Axes>"
      ]
     },
     "metadata": {},
     "output_type": "display_data"
    }
   ],
   "source": [
    "output = copy.deepcopy(data)\n",
    "from scipy.spatial.distance import pdist, squareform\n",
    "for i,item in enumerate(output):\n",
    "    for j,item2 in enumerate(item):\n",
    "        temp = item2[0:50,0:50]\n",
    "        output[i][j] = np.mean(squareform(temp))*100\n",
    "output = np.array(output)\n",
    "%matplotlib inline\n",
    "import matplotlib.pyplot as plt\n",
    "output = np.mean(output,axis=0)\n",
    "plt.plot(np.linspace(-100, 900, num=100),np.transpose(output))\n",
    "plt.title('Upright')\n",
    "plt.show()"
   ]
  },
  {
   "cell_type": "code",
   "execution_count": 261,
   "metadata": {},
   "outputs": [
    {
     "data": {
      "image/png": "[encoded data removed]",
      "text/plain": [
       "<Figure size 432x288 with 1 Axes>"
      ]
     },
     "metadata": {},
     "output_type": "display_data"
    }
   ],
   "source": [
    "output = copy.deepcopy(data)\n",
    "from scipy.spatial.distance import pdist, squareform\n",
    "for i,item in enumerate(output):\n",
    "    for j,item2 in enumerate(item):\n",
    "        temp = item2[50:100,50:100]\n",
    "        output[i][j] = np.mean(squareform(temp))*100\n",
    "output = np.array(output)\n",
    "%matplotlib inline\n",
    "import matplotlib.pyplot as plt\n",
    "output = np.mean(output,axis=0)\n",
    "plt.plot(np.linspace(-100, 900, num=100),np.transpose(output))\n",
    "plt.title('Inverted')\n",
    "plt.show()"
   ]
  },
  {
   "cell_type": "code",
   "execution_count": 168,
   "metadata": {},
   "outputs": [
    {
     "data": {
      "text/plain": [
       "51.9925788497217"
      ]
     },
     "execution_count": 168,
     "metadata": {},
     "output_type": "execute_result"
    }
   ],
   "source": [
    "data[0][0]"
   ]
  },
  {
   "cell_type": "code",
   "execution_count": null,
   "metadata": {},
   "outputs": [],
   "source": [
    "{'up unf' : [np.mean(squareform(i[0:25,0:25]))*100 for i in results],\n",
    "           'up fam' : [np.mean(squareform(i[25:50,25:50]))*100 for i in results],\n",
    "           'inv_unf' : [np.mean(squareform(i[50:75,50:75]))*100 for i in results],\n",
    "           'inv fam' : [np.mean(squareform(i[75:100,75:100]))*100 for i in results],\n",
    "           'up' : [np.mean(squareform(i[0:50,0:50]))*100 for i in results],\n",
    "           'inv' : [np.mean(squareform(i[50:100,50:100]))*100 for i in results],\n",
    "           'all' : [np.mean(squareform(i))*100 for i in results]}"
   ]
  },
  {
   "cell_type": "code",
   "execution_count": 82,
   "metadata": {},
   "outputs": [
    {
     "data": {
      "text/plain": [
       "()"
      ]
     },
     "execution_count": 82,
     "metadata": {},
     "output_type": "execute_result"
    }
   ],
   "source": [
    "data[0][0].shape"
   ]
  },
  {
   "cell_type": "code",
   "execution_count": null,
   "metadata": {},
   "outputs": [
    {
     "name": "stdout",
     "output_type": "stream",
     "text": [
      "Progress: [#-------------------] 3.5%\n",
      "(129, 150)\n"
     ]
    }
   ],
   "source": [
    "import itertools\n",
    "import numpy as np\n",
    "from sklearn.preprocessing import scale\n",
    "from sklearn.svm import LinearSVC\n",
    "from sklearn.model_selection import cross_val_score\n",
    "\n",
    "combs = list(itertools.combinations(np.unique(labels[0]), 2))\n",
    "svm = LinearSVC(C=1)\n",
    "score = list()\n",
    "for i,j in enumerate(subs):\n",
    "    print(j)\n",
    "    this_X = data[i]\n",
    "    this_Y = labels[i]\n",
    "    data_temp = data.copy()\n",
    "    data_temp.pop(i)\n",
    "    other_X = np.concatenate(data_temp)\n",
    "    labels_temp = labels.copy()\n",
    "    labels_temp.pop(i)\n",
    "    other_Y = np.concatenate(labels_temp)\n",
    "    this_X_shape = this_X.shape\n",
    "    X_temp = np.vstack((this_X,other_X))\n",
    "    X_temp = scale(X_temp)\n",
    "    this_X = X_temp[:this_X_shape[0],:]\n",
    "    other_X = X_temp[this_X_shape[0]:,:]\n",
    "    comb_score = list()\n",
    "    for idx,comb in enumerate(combs):\n",
    "        print(comb)\n",
    "        this_X_temp_a = this_X[this_Y==comb[0],:]\n",
    "        this_X_temp_b = this_X[this_Y==comb[1],:]\n",
    "        this_Y_temp_a = this_Y[this_Y==comb[0]]\n",
    "        this_Y_temp_b = this_Y[this_Y==comb[1]]\n",
    "        other_X_temp = other_X[np.logical_or(other_Y==comb[0], other_Y==comb[1]),:]\n",
    "        other_Y_temp = other_Y[np.logical_or(other_Y==comb[0], other_Y==comb[1])]\n",
    "        cv_score=list()\n",
    "        for m in range(this_X_temp_a.shape[0]):\n",
    "            data_train_a = this_X_temp_a\n",
    "            data_train_a = np.delete(data_train_a, m, axis=0)\n",
    "            data_train_b = this_X_temp_b\n",
    "            data_train_b = np.delete(data_train_b, m, axis=0)\n",
    "            data_train = np.vstack((data_train_a,data_train_b,other_X_temp))\n",
    "            targets_train_a = this_Y_temp_a\n",
    "            targets_train_a = np.delete(targets_train_a, m)\n",
    "            targets_train_b = this_Y_temp_b\n",
    "            targets_train_b = np.delete(targets_train_b, m)\n",
    "            targets_train = np.concatenate([targets_train_a,targets_train_b,other_Y_temp])\n",
    "            data_test_a = this_X_temp_a[m,:]\n",
    "            data_test_b = this_X_temp_b[m,:]\n",
    "            data_test = np.vstack((data_test_a,data_test_b))\n",
    "            targets_test=comb\n",
    "            svm.fit(data_train, targets_train)\n",
    "            cv_score.append(svm.score(data_test, targets_test))\n",
    "            update_progress((i*idx+m) / (len(combs)*blocks*len(subs)))\n",
    "        comb_score.append(cv_score)\n",
    "    score.append(comb_score)"
   ]
  },
  {
   "cell_type": "code",
   "execution_count": 138,
   "metadata": {},
   "outputs": [],
   "source": [
    "data1 = np.load('first_2_subs_time.npy')\n",
    "data2 = np.load('first_8_subs_time.npy')"
   ]
  },
  {
   "cell_type": "code",
   "execution_count": 140,
   "metadata": {},
   "outputs": [
    {
     "data": {
      "text/plain": [
       "(2, 100, 4950)"
      ]
     },
     "execution_count": 140,
     "metadata": {},
     "output_type": "execute_result"
    }
   ],
   "source": [
    "data1.shape"
   ]
  },
  {
   "cell_type": "code",
   "execution_count": 141,
   "metadata": {},
   "outputs": [
    {
     "data": {
      "text/plain": [
       "(8, 100, 4950)"
      ]
     },
     "execution_count": 141,
     "metadata": {},
     "output_type": "execute_result"
    }
   ],
   "source": [
    "data2.shape"
   ]
  },
  {
   "cell_type": "code",
   "execution_count": 142,
   "metadata": {},
   "outputs": [],
   "source": [
    "data = np.concatenate((data1, data2), axis=0)"
   ]
  },
  {
   "cell_type": "code",
   "execution_count": 144,
   "metadata": {},
   "outputs": [],
   "source": [
    "datain = data.copy()"
   ]
  },
  {
   "cell_type": "code",
   "execution_count": 145,
   "metadata": {},
   "outputs": [
    {
     "data": {
      "text/plain": [
       "(10, 100, 4950)"
      ]
     },
     "execution_count": 145,
     "metadata": {},
     "output_type": "execute_result"
    }
   ],
   "source": [
    "datain.shape"
   ]
  },
  {
   "cell_type": "code",
   "execution_count": 29,
   "metadata": {},
   "outputs": [
    {
     "data": {
      "text/plain": [
       "(100,)"
      ]
     },
     "execution_count": 29,
     "metadata": {},
     "output_type": "execute_result"
    }
   ],
   "source": [
    "tbins.shape"
   ]
  },
  {
   "cell_type": "code",
   "execution_count": 160,
   "metadata": {},
   "outputs": [
    {
     "data": {
      "text/plain": [
       "51.9925788497217"
      ]
     },
     "execution_count": 160,
     "metadata": {},
     "output_type": "execute_result"
    }
   ],
   "source": [
    "data[0][0]"
   ]
  },
  {
   "cell_type": "code",
   "execution_count": 217,
   "metadata": {},
   "outputs": [
    {
     "name": "stdout",
     "output_type": "stream",
     "text": [
      "(100, 100)\n"
     ]
    }
   ],
   "source": [
    "datain.shape\n",
    "data=[]\n",
    "for i in range(len(datain)):\n",
    "    temp_time=[]\n",
    "    for j in range(100):\n",
    "        temp = squareform(datain[i,j,:])\n",
    "        temp_time.append(temp)\n",
    "    data.append(temp_time)\n",
    "print(data[0][0].shape)"
   ]
  },
  {
   "cell_type": "code",
   "execution_count": 218,
   "metadata": {},
   "outputs": [
    {
     "name": "stdout",
     "output_type": "stream",
     "text": [
      "(100, 100)\n",
      "(100, 100)\n",
      "35060445000\n",
      "35044011208\n",
      "False\n",
      "[[0.         0.5        0.63636364 ... 0.63636364 0.54545455 0.59090909]\n",
      " [0.5        0.         0.5        ... 0.68181818 0.59090909 0.68181818]\n",
      " [0.63636364 0.5        0.         ... 0.36363636 0.54545455 0.5       ]\n",
      " ...\n",
      " [0.63636364 0.68181818 0.36363636 ... 0.         0.40909091 0.40909091]\n",
      " [0.54545455 0.59090909 0.54545455 ... 0.40909091 0.         0.5       ]\n",
      " [0.59090909 0.68181818 0.5        ... 0.40909091 0.5        0.        ]]\n",
      "(100, 100)\n"
     ]
    }
   ],
   "source": [
    "import copy\n",
    "output = copy.deepcopy(data)\n",
    "output2 = data.copy()\n",
    "#print(output == data)\n",
    "print(data[0][0].shape)\n",
    "print(output[0][0].shape)\n",
    "print(id(output))\n",
    "print(id(data))\n",
    "print(output is data)\n",
    "\n",
    "\n",
    "from scipy.spatial.distance import pdist, squareform\n",
    "for i,item in enumerate(output):\n",
    "    for j,item2 in enumerate(item):\n",
    "        temp = item2[0:50,0:50]\n",
    "        output[i][j] = np.mean(squareform(temp))*100\n",
    "#output = np.array(output)\n",
    "%matplotlib inline\n",
    "print(data[0][0])\n",
    "print(output2[0][0].shape)"
   ]
  },
  {
   "cell_type": "code",
   "execution_count": 39,
   "metadata": {},
   "outputs": [
    {
     "name": "stdout",
     "output_type": "stream",
     "text": [
      "(100, 100)\n"
     ]
    }
   ],
   "source": [
    "import numpy as np\n",
    "from scipy.spatial.distance import squareform\n",
    "data1 = np.load('first_2_subs_time.npy')\n",
    "data2 = np.load('first_8_subs_time.npy')\n",
    "data3 = np.load('sub_12_time.npy')\n",
    "datain = np.concatenate((data1, data2,data3), axis=0)\n",
    "datain.shape\n",
    "data=[]\n",
    "for i in range(len(datain)):\n",
    "    temp_time=[]\n",
    "    for j in range(100):\n",
    "        temp = squareform(datain[i,j,:])\n",
    "        temp_time.append(temp)\n",
    "    data.append(temp_time)\n",
    "print(data[0][0].shape)"
   ]
  },
  {
   "cell_type": "code",
   "execution_count": 90,
   "metadata": {},
   "outputs": [],
   "source": [
    "up_fam = '25:50, 25:50'\n",
    "up_unf = '0:25, 0:25'\n",
    "upright = '0:50, 0:50'\n",
    "inv_fam = '75:100, 75:100'\n",
    "inv_unf = '50:75, 50:75'\n",
    "inverted = '50:100, 50:100'\n",
    "\n",
    "output_up_fam = select_cases(up_fam, data)\n",
    "output_up_unf = select_cases(up_unf, data)\n",
    "output_upright = select_cases(upright, data)\n",
    "output_inv_fam = select_cases(inv_fam, data)\n",
    "output_inv_unf = select_cases(inv_unf, data)\n",
    "output_inverted = select_cases(inverted, data)\n"
   ]
  },
  {
   "cell_type": "code",
   "execution_count": 89,
   "metadata": {},
   "outputs": [],
   "source": [
    "def select_cases(string, data):\n",
    "    import copy\n",
    "    from scipy.spatial.distance import squareform\n",
    "    datain = copy.deepcopy(data)\n",
    "    for i,item in enumerate(datain):\n",
    "        for j,item2 in enumerate(item):\n",
    "            a='item2['+string+']'\n",
    "            temp = eval(a)\n",
    "            datain[i][j] = np.mean(squareform(temp))*100\n",
    "    datain = np.array(datain)\n",
    "    datain = pd.DataFrame({'Accuracy (%)':datain.ravel(),'time':np.tile(np.linspace(-100, 900, num=100),datain.shape[0])})\n",
    "    return datain"
   ]
  },
  {
   "cell_type": "code",
   "execution_count": 92,
   "metadata": {},
   "outputs": [],
   "source": [
    "# Figure\n",
    "import matplotlib.pyplot as plt\n",
    "import seaborn as sns\n",
    "\n",
    "plt.figure(figsize=(20,10))\n",
    "ax = plt.axes()\n",
    "sns.relplot(x='time', y=\"Accuracy (%)\", kind = 'line', data=output_up_fam, ax=ax, color = 'r')\n",
    "sns.relplot(x='time', y=\"Accuracy (%)\", kind = 'line', data=output_up_unf, ax=ax, color = 'g')\n",
    "plt.setp(ax.lines[0], label = 'upright famous')\n",
    "plt.setp(ax.lines[1], label = 'upright unfamiliar')\n",
    "ax.set_xlim(-100, 900)\n",
    "handles, labels = ax.get_legend_handles_labels()\n",
    "ax.legend(handles, labels,fontsize=20)\n",
    "plt.ylabel('Accuracy (%)')\n",
    "plt.show()"
   ]
  },
  {
   "cell_type": "code",
   "execution_count": 93,
   "metadata": {},
   "outputs": [],
   "source": [
    "import matplotlib.pyplot as plt\n",
    "import seaborn as sns\n",
    "\n",
    "plt.figure(figsize=(20,10))\n",
    "ax = plt.axes()\n",
    "sns.relplot(x='time', y=\"Accuracy (%)\", kind = 'line', data=output_inv_fam, ax=ax, color = 'r')\n",
    "sns.relplot(x='time', y=\"Accuracy (%)\", kind = 'line', data=output_inv_unf, ax=ax, color = 'g')\n",
    "plt.setp(ax.lines[0], label = 'inverted famous')\n",
    "plt.setp(ax.lines[1], label = 'inverted unfamiliar')\n",
    "ax.set_xlim(-100, 900)\n",
    "handles, labels = ax.get_legend_handles_labels()\n",
    "ax.legend(handles, labels,fontsize=20)\n",
    "plt.ylabel('Accuracy (%)')\n",
    "plt.show()"
   ]
  },
  {
   "cell_type": "code",
   "execution_count": 96,
   "metadata": {},
   "outputs": [],
   "source": [
    "import matplotlib.pyplot as plt\n",
    "import seaborn as sns\n",
    "\n",
    "plt.figure(figsize=(20,10))\n",
    "ax = plt.axes()\n",
    "sns.relplot(x='time', y=\"Accuracy (%)\", kind = 'line', data=output_upright, ax=ax, color = 'g')\n",
    "sns.relplot(x='time', y=\"Accuracy (%)\", kind = 'line', data=output_inverted, ax=ax, color = 'purple')\n",
    "plt.setp(ax.lines[0], label = 'upright')\n",
    "plt.setp(ax.lines[1], label = 'inverted')\n",
    "ax.set_xlim(-100, 900)\n",
    "handles, labels = ax.get_legend_handles_labels()\n",
    "ax.legend(handles, labels,fontsize=20)\n",
    "plt.ylabel('Accuracy (%)')\n",
    "plt.show()"
   ]
  },
  {
   "cell_type": "code",
   "execution_count": null,
   "metadata": {},
   "outputs": [],
   "source": []
  }
 ],
 "metadata": {
  "kernelspec": {
   "display_name": "Python 3",
   "language": "python",
   "name": "python3"
  },
  "language_info": {
   "codemirror_mode": {
    "name": "ipython",
    "version": 3
   },
   "file_extension": ".py",
   "mimetype": "text/x-python",
   "name": "python",
   "nbconvert_exporter": "python",
   "pygments_lexer": "ipython3",
   "version": "3.7.5"
  }
 },
 "nbformat": 4,
 "nbformat_minor": 4
}
