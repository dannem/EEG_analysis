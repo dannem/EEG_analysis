{
 "cells": [
  {
   "cell_type": "markdown",
   "metadata": {},
   "source": [
    "# Time domain analysis"
   ]
  },
  {
   "cell_type": "code",
   "execution_count": 3,
   "metadata": {},
   "outputs": [
    {
     "data": {
      "text/plain": [
       "(16, 20, 100, 100, 564)"
      ]
     },
     "execution_count": 3,
     "metadata": {},
     "output_type": "execute_result"
    }
   ],
   "source": [
    "import numpy as np\n",
    "import pandas as pd\n",
    "loaded = np.load('C:\\\\Users\\\\danne\\\\Documents\\\\UofT\\\\Discrimination\\\\time_perc.npz')\n",
    "temp = loaded['results']\n",
    "temp = np.squeeze(np.nanmean(temp, axis=1))\n",
    "temp.shape"
   ]
  },
  {
   "cell_type": "code",
   "execution_count": 24,
   "metadata": {},
   "outputs": [
    {
     "name": "stderr",
     "output_type": "stream",
     "text": [
      "C:\\Users\\danne\\Anaconda3\\lib\\site-packages\\ipykernel_launcher.py:1: RuntimeWarning: Mean of empty slice\n",
      "  \"\"\"Entry point for launching an IPython kernel.\n",
      "C:\\Users\\danne\\Anaconda3\\lib\\site-packages\\ipykernel_launcher.py:2: RuntimeWarning: Mean of empty slice\n",
      "  \n"
     ]
    }
   ],
   "source": [
    "a = np.nanmean(temp,axis=0)[:25,:25,:]\n",
    "b = np.nanmean(temp,axis=0)[25:50,25:50,:]\n",
    "a = np.squeeze(np.nanmean(a,axis=(0,1)))\n",
    "b = np.squeeze(np.nanmean(b,axis=(0,1)))"
   ]
  },
  {
   "cell_type": "code",
   "execution_count": 26,
   "metadata": {},
   "outputs": [
    {
     "data": {
      "text/plain": [
       "<matplotlib.legend.Legend at 0x19697ab9fc8>"
      ]
     },
     "execution_count": 26,
     "metadata": {},
     "output_type": "execute_result"
    },
    {
     "data": {
      "image/png": "[encoded data removed]",
      "text/plain": [
       "<Figure size 432x288 with 1 Axes>"
      ]
     },
     "metadata": {
      "needs_background": "light"
     },
     "output_type": "display_data"
    }
   ],
   "source": [
    "import matplotlib.pyplot as plt\n",
    "%matplotlib inline\n",
    "plt.subplot(211)\n",
    "plt.plot(np.linspace(-100,1001,564), np.squeeze(a), label='unfamiliar')\n",
    "plt.plot(np.linspace(-100,1001,564), np.squeeze(b), label='famous')\n",
    "plt.xlim((-100, 1000))\n",
    "plt.ylabel('Euclidean distance', fontsize=12)\n",
    "plt.legend(loc = 'lower right')"
   ]
  },
  {
   "cell_type": "code",
   "execution_count": null,
   "metadata": {},
   "outputs": [],
   "source": []
  },
  {
   "cell_type": "code",
   "execution_count": null,
   "metadata": {},
   "outputs": [],
   "source": [
    "import discr_inverted as di\n",
    "%run general_tools.ipynb\n",
    "%run EEG_auxiliary_module.ipynb\n",
    "infolder, outfolder = find_folder()\n",
    "trigs=list(range(101, 151))+list(range(201, 251))\n",
    "#trigs=list(range(101, 151))\n",
    "event_ids={str(x):x for x in trigs}\n",
    "im_times=(-0.1,1)\n",
    "filt=(0.01,45)\n",
    "subs = [2]\n",
    "np.random.seed(10)\n",
    "n_perm = 20  # number of permutations\n",
    "n_pseudo = 11  # number of pseudo-trials\n",
    "results = di.compute_combined(infolder, subs, filt, im_times, event_ids, n_perm, n_pseudo)\n",
    "    \n",
    "    "
   ]
  },
  {
   "cell_type": "markdown",
   "metadata": {},
   "source": [
    "# Importing compressed files"
   ]
  },
  {
   "cell_type": "code",
   "execution_count": 8,
   "metadata": {},
   "outputs": [
    {
     "name": "stderr",
     "output_type": "stream",
     "text": [
      "C:\\Users\\danne\\Anaconda3\\envs\\eeg_analysis\\lib\\site-packages\\ipykernel_launcher.py:5: RuntimeWarning: Mean of empty slice\n",
      "  \"\"\"\n"
     ]
    },
    {
     "data": {
      "text/html": [
       "<div>\n",
       "<style scoped>\n",
       "    .dataframe tbody tr th:only-of-type {\n",
       "        vertical-align: middle;\n",
       "    }\n",
       "\n",
       "    .dataframe tbody tr th {\n",
       "        vertical-align: top;\n",
       "    }\n",
       "\n",
       "    .dataframe thead th {\n",
       "        text-align: right;\n",
       "    }\n",
       "</style>\n",
       "<table border=\"1\" class=\"dataframe\">\n",
       "  <thead>\n",
       "    <tr style=\"text-align: right;\">\n",
       "      <th></th>\n",
       "      <th>0</th>\n",
       "      <th>1</th>\n",
       "      <th>2</th>\n",
       "      <th>3</th>\n",
       "      <th>4</th>\n",
       "      <th>5</th>\n",
       "      <th>6</th>\n",
       "      <th>7</th>\n",
       "      <th>8</th>\n",
       "      <th>9</th>\n",
       "      <th>...</th>\n",
       "      <th>90</th>\n",
       "      <th>91</th>\n",
       "      <th>92</th>\n",
       "      <th>93</th>\n",
       "      <th>94</th>\n",
       "      <th>95</th>\n",
       "      <th>96</th>\n",
       "      <th>97</th>\n",
       "      <th>98</th>\n",
       "      <th>99</th>\n",
       "    </tr>\n",
       "  </thead>\n",
       "  <tbody>\n",
       "    <tr>\n",
       "      <th>0</th>\n",
       "      <td>NaN</td>\n",
       "      <td>0.369685</td>\n",
       "      <td>0.400576</td>\n",
       "      <td>0.455236</td>\n",
       "      <td>0.414388</td>\n",
       "      <td>0.456362</td>\n",
       "      <td>0.458469</td>\n",
       "      <td>0.474345</td>\n",
       "      <td>0.409874</td>\n",
       "      <td>0.437071</td>\n",
       "      <td>...</td>\n",
       "      <td>0.644610</td>\n",
       "      <td>0.619243</td>\n",
       "      <td>0.619380</td>\n",
       "      <td>0.611177</td>\n",
       "      <td>0.616011</td>\n",
       "      <td>0.638521</td>\n",
       "      <td>0.621384</td>\n",
       "      <td>0.648751</td>\n",
       "      <td>0.654416</td>\n",
       "      <td>0.645167</td>\n",
       "    </tr>\n",
       "    <tr>\n",
       "      <th>1</th>\n",
       "      <td>NaN</td>\n",
       "      <td>NaN</td>\n",
       "      <td>0.383191</td>\n",
       "      <td>0.396159</td>\n",
       "      <td>0.414168</td>\n",
       "      <td>0.436088</td>\n",
       "      <td>0.440137</td>\n",
       "      <td>0.450841</td>\n",
       "      <td>0.378934</td>\n",
       "      <td>0.391149</td>\n",
       "      <td>...</td>\n",
       "      <td>0.620916</td>\n",
       "      <td>0.592378</td>\n",
       "      <td>0.596091</td>\n",
       "      <td>0.587946</td>\n",
       "      <td>0.589196</td>\n",
       "      <td>0.611327</td>\n",
       "      <td>0.602493</td>\n",
       "      <td>0.620123</td>\n",
       "      <td>0.618518</td>\n",
       "      <td>0.629415</td>\n",
       "    </tr>\n",
       "    <tr>\n",
       "      <th>2</th>\n",
       "      <td>NaN</td>\n",
       "      <td>NaN</td>\n",
       "      <td>NaN</td>\n",
       "      <td>0.408048</td>\n",
       "      <td>0.422170</td>\n",
       "      <td>0.448836</td>\n",
       "      <td>0.432905</td>\n",
       "      <td>0.450176</td>\n",
       "      <td>0.400993</td>\n",
       "      <td>0.410474</td>\n",
       "      <td>...</td>\n",
       "      <td>0.638146</td>\n",
       "      <td>0.617627</td>\n",
       "      <td>0.619090</td>\n",
       "      <td>0.609959</td>\n",
       "      <td>0.600963</td>\n",
       "      <td>0.624342</td>\n",
       "      <td>0.623935</td>\n",
       "      <td>0.647649</td>\n",
       "      <td>0.641124</td>\n",
       "      <td>0.637426</td>\n",
       "    </tr>\n",
       "    <tr>\n",
       "      <th>3</th>\n",
       "      <td>NaN</td>\n",
       "      <td>NaN</td>\n",
       "      <td>NaN</td>\n",
       "      <td>NaN</td>\n",
       "      <td>0.438722</td>\n",
       "      <td>0.436563</td>\n",
       "      <td>0.446202</td>\n",
       "      <td>0.465324</td>\n",
       "      <td>0.400912</td>\n",
       "      <td>0.400037</td>\n",
       "      <td>...</td>\n",
       "      <td>0.621273</td>\n",
       "      <td>0.604500</td>\n",
       "      <td>0.612634</td>\n",
       "      <td>0.603743</td>\n",
       "      <td>0.593616</td>\n",
       "      <td>0.624306</td>\n",
       "      <td>0.622250</td>\n",
       "      <td>0.638010</td>\n",
       "      <td>0.626023</td>\n",
       "      <td>0.618914</td>\n",
       "    </tr>\n",
       "    <tr>\n",
       "      <th>4</th>\n",
       "      <td>NaN</td>\n",
       "      <td>NaN</td>\n",
       "      <td>NaN</td>\n",
       "      <td>NaN</td>\n",
       "      <td>NaN</td>\n",
       "      <td>0.365545</td>\n",
       "      <td>0.404565</td>\n",
       "      <td>0.411473</td>\n",
       "      <td>0.361072</td>\n",
       "      <td>0.402807</td>\n",
       "      <td>...</td>\n",
       "      <td>0.582509</td>\n",
       "      <td>0.547162</td>\n",
       "      <td>0.541418</td>\n",
       "      <td>0.554009</td>\n",
       "      <td>0.540979</td>\n",
       "      <td>0.555893</td>\n",
       "      <td>0.553383</td>\n",
       "      <td>0.554396</td>\n",
       "      <td>0.564226</td>\n",
       "      <td>0.571885</td>\n",
       "    </tr>\n",
       "    <tr>\n",
       "      <th>...</th>\n",
       "      <td>...</td>\n",
       "      <td>...</td>\n",
       "      <td>...</td>\n",
       "      <td>...</td>\n",
       "      <td>...</td>\n",
       "      <td>...</td>\n",
       "      <td>...</td>\n",
       "      <td>...</td>\n",
       "      <td>...</td>\n",
       "      <td>...</td>\n",
       "      <td>...</td>\n",
       "      <td>...</td>\n",
       "      <td>...</td>\n",
       "      <td>...</td>\n",
       "      <td>...</td>\n",
       "      <td>...</td>\n",
       "      <td>...</td>\n",
       "      <td>...</td>\n",
       "      <td>...</td>\n",
       "      <td>...</td>\n",
       "      <td>...</td>\n",
       "    </tr>\n",
       "    <tr>\n",
       "      <th>95</th>\n",
       "      <td>NaN</td>\n",
       "      <td>NaN</td>\n",
       "      <td>NaN</td>\n",
       "      <td>NaN</td>\n",
       "      <td>NaN</td>\n",
       "      <td>NaN</td>\n",
       "      <td>NaN</td>\n",
       "      <td>NaN</td>\n",
       "      <td>NaN</td>\n",
       "      <td>NaN</td>\n",
       "      <td>...</td>\n",
       "      <td>NaN</td>\n",
       "      <td>NaN</td>\n",
       "      <td>NaN</td>\n",
       "      <td>NaN</td>\n",
       "      <td>NaN</td>\n",
       "      <td>NaN</td>\n",
       "      <td>0.276154</td>\n",
       "      <td>0.265639</td>\n",
       "      <td>0.295465</td>\n",
       "      <td>0.292698</td>\n",
       "    </tr>\n",
       "    <tr>\n",
       "      <th>96</th>\n",
       "      <td>NaN</td>\n",
       "      <td>NaN</td>\n",
       "      <td>NaN</td>\n",
       "      <td>NaN</td>\n",
       "      <td>NaN</td>\n",
       "      <td>NaN</td>\n",
       "      <td>NaN</td>\n",
       "      <td>NaN</td>\n",
       "      <td>NaN</td>\n",
       "      <td>NaN</td>\n",
       "      <td>...</td>\n",
       "      <td>NaN</td>\n",
       "      <td>NaN</td>\n",
       "      <td>NaN</td>\n",
       "      <td>NaN</td>\n",
       "      <td>NaN</td>\n",
       "      <td>NaN</td>\n",
       "      <td>NaN</td>\n",
       "      <td>0.233880</td>\n",
       "      <td>0.260473</td>\n",
       "      <td>0.274870</td>\n",
       "    </tr>\n",
       "    <tr>\n",
       "      <th>97</th>\n",
       "      <td>NaN</td>\n",
       "      <td>NaN</td>\n",
       "      <td>NaN</td>\n",
       "      <td>NaN</td>\n",
       "      <td>NaN</td>\n",
       "      <td>NaN</td>\n",
       "      <td>NaN</td>\n",
       "      <td>NaN</td>\n",
       "      <td>NaN</td>\n",
       "      <td>NaN</td>\n",
       "      <td>...</td>\n",
       "      <td>NaN</td>\n",
       "      <td>NaN</td>\n",
       "      <td>NaN</td>\n",
       "      <td>NaN</td>\n",
       "      <td>NaN</td>\n",
       "      <td>NaN</td>\n",
       "      <td>NaN</td>\n",
       "      <td>NaN</td>\n",
       "      <td>0.220480</td>\n",
       "      <td>0.240336</td>\n",
       "    </tr>\n",
       "    <tr>\n",
       "      <th>98</th>\n",
       "      <td>NaN</td>\n",
       "      <td>NaN</td>\n",
       "      <td>NaN</td>\n",
       "      <td>NaN</td>\n",
       "      <td>NaN</td>\n",
       "      <td>NaN</td>\n",
       "      <td>NaN</td>\n",
       "      <td>NaN</td>\n",
       "      <td>NaN</td>\n",
       "      <td>NaN</td>\n",
       "      <td>...</td>\n",
       "      <td>NaN</td>\n",
       "      <td>NaN</td>\n",
       "      <td>NaN</td>\n",
       "      <td>NaN</td>\n",
       "      <td>NaN</td>\n",
       "      <td>NaN</td>\n",
       "      <td>NaN</td>\n",
       "      <td>NaN</td>\n",
       "      <td>NaN</td>\n",
       "      <td>0.242490</td>\n",
       "    </tr>\n",
       "    <tr>\n",
       "      <th>99</th>\n",
       "      <td>NaN</td>\n",
       "      <td>NaN</td>\n",
       "      <td>NaN</td>\n",
       "      <td>NaN</td>\n",
       "      <td>NaN</td>\n",
       "      <td>NaN</td>\n",
       "      <td>NaN</td>\n",
       "      <td>NaN</td>\n",
       "      <td>NaN</td>\n",
       "      <td>NaN</td>\n",
       "      <td>...</td>\n",
       "      <td>NaN</td>\n",
       "      <td>NaN</td>\n",
       "      <td>NaN</td>\n",
       "      <td>NaN</td>\n",
       "      <td>NaN</td>\n",
       "      <td>NaN</td>\n",
       "      <td>NaN</td>\n",
       "      <td>NaN</td>\n",
       "      <td>NaN</td>\n",
       "      <td>NaN</td>\n",
       "    </tr>\n",
       "  </tbody>\n",
       "</table>\n",
       "<p>100 rows × 100 columns</p>\n",
       "</div>"
      ],
      "text/plain": [
       "    0         1         2         3         4         5         6         7   \\\n",
       "0  NaN  0.369685  0.400576  0.455236  0.414388  0.456362  0.458469  0.474345   \n",
       "1  NaN       NaN  0.383191  0.396159  0.414168  0.436088  0.440137  0.450841   \n",
       "2  NaN       NaN       NaN  0.408048  0.422170  0.448836  0.432905  0.450176   \n",
       "3  NaN       NaN       NaN       NaN  0.438722  0.436563  0.446202  0.465324   \n",
       "4  NaN       NaN       NaN       NaN       NaN  0.365545  0.404565  0.411473   \n",
       "..  ..       ...       ...       ...       ...       ...       ...       ...   \n",
       "95 NaN       NaN       NaN       NaN       NaN       NaN       NaN       NaN   \n",
       "96 NaN       NaN       NaN       NaN       NaN       NaN       NaN       NaN   \n",
       "97 NaN       NaN       NaN       NaN       NaN       NaN       NaN       NaN   \n",
       "98 NaN       NaN       NaN       NaN       NaN       NaN       NaN       NaN   \n",
       "99 NaN       NaN       NaN       NaN       NaN       NaN       NaN       NaN   \n",
       "\n",
       "          8         9   ...        90        91        92        93        94  \\\n",
       "0   0.409874  0.437071  ...  0.644610  0.619243  0.619380  0.611177  0.616011   \n",
       "1   0.378934  0.391149  ...  0.620916  0.592378  0.596091  0.587946  0.589196   \n",
       "2   0.400993  0.410474  ...  0.638146  0.617627  0.619090  0.609959  0.600963   \n",
       "3   0.400912  0.400037  ...  0.621273  0.604500  0.612634  0.603743  0.593616   \n",
       "4   0.361072  0.402807  ...  0.582509  0.547162  0.541418  0.554009  0.540979   \n",
       "..       ...       ...  ...       ...       ...       ...       ...       ...   \n",
       "95       NaN       NaN  ...       NaN       NaN       NaN       NaN       NaN   \n",
       "96       NaN       NaN  ...       NaN       NaN       NaN       NaN       NaN   \n",
       "97       NaN       NaN  ...       NaN       NaN       NaN       NaN       NaN   \n",
       "98       NaN       NaN  ...       NaN       NaN       NaN       NaN       NaN   \n",
       "99       NaN       NaN  ...       NaN       NaN       NaN       NaN       NaN   \n",
       "\n",
       "          95        96        97        98        99  \n",
       "0   0.638521  0.621384  0.648751  0.654416  0.645167  \n",
       "1   0.611327  0.602493  0.620123  0.618518  0.629415  \n",
       "2   0.624342  0.623935  0.647649  0.641124  0.637426  \n",
       "3   0.624306  0.622250  0.638010  0.626023  0.618914  \n",
       "4   0.555893  0.553383  0.554396  0.564226  0.571885  \n",
       "..       ...       ...       ...       ...       ...  \n",
       "95       NaN  0.276154  0.265639  0.295465  0.292698  \n",
       "96       NaN       NaN  0.233880  0.260473  0.274870  \n",
       "97       NaN       NaN       NaN  0.220480  0.240336  \n",
       "98       NaN       NaN       NaN       NaN  0.242490  \n",
       "99       NaN       NaN       NaN       NaN       NaN  \n",
       "\n",
       "[100 rows x 100 columns]"
      ]
     },
     "execution_count": 8,
     "metadata": {},
     "output_type": "execute_result"
    }
   ],
   "source": [
    "import numpy as np\n",
    "import pandas as pd\n",
    "loaded = np.load('pearson_no_cv.npz')\n",
    "temp = loaded['result_ec']\n",
    "temp = np.nanmean(temp, axis=(0,1))\n",
    "a = pd.DataFrame(temp)\n",
    "a"
   ]
  },
  {
   "cell_type": "code",
   "execution_count": 2,
   "metadata": {},
   "outputs": [
    {
     "data": {
      "text/plain": [
       "(17, 20, 100, 100)"
      ]
     },
     "execution_count": 2,
     "metadata": {},
     "output_type": "execute_result"
    }
   ],
   "source": [
    "import numpy as np\n",
    "import pandas as pd\n",
    "loaded = np.load('pearson_no_cv.npz')\n",
    "temp = loaded['result_ec']\n",
    "temp.shape"
   ]
  },
  {
   "cell_type": "code",
   "execution_count": null,
   "metadata": {},
   "outputs": [],
   "source": [
    "import numpy as np\n",
    "loaded = np.load('temp.npz')\n",
    "temp = loaded['results']\n",
    "temp = np.nanmean(temp, axis=1)\n",
    "temp.shape\n",
    "for i in range(temp.shape[0]):\n",
    "    print(np.nanmean(temp[i,:25,:25]))\n",
    "    "
   ]
  },
  {
   "cell_type": "code",
   "execution_count": null,
   "metadata": {},
   "outputs": [],
   "source": [
    "import numpy as np\n",
    "loaded = np.load('temp.npz')\n",
    "temp1 = loaded['results']\n",
    "loaded = np.load('temp2.npz')\n",
    "temp3 = loaded['results']\n",
    "loaded = np.load('temp1.npz')\n",
    "temp2 = loaded['results']\n",
    "combine_data = np.concatenate((temp1, temp2, temp3), axis=0)\n",
    "combine_data.shape\n",
    "np.savez_compressed('combined',results=combine_data)"
   ]
  },
  {
   "cell_type": "code",
   "execution_count": null,
   "metadata": {},
   "outputs": [],
   "source": [
    "import numpy as np\n",
    "loaded = np.load('temp.npz')\n",
    "temp = loaded['results']\n",
    "temp.shape"
   ]
  },
  {
   "cell_type": "code",
   "execution_count": null,
   "metadata": {},
   "outputs": [],
   "source": [
    "import discr_inverted as di\n",
    "import numpy as np\n",
    "infolder = '/psyhome6/nemrodov/ilya_study/Data'\n",
    "trigs=list(range(101, 151))+list(range(201, 251))\n",
    "event_ids={str(x):x for x in trigs}\n",
    "im_times=(-0.1,1)\n",
    "filt=(0.03,40)\n",
    "subs = [3,4,5,6,7,8,9,10,11,12,13,14,15,16,17,18]\n",
    "np.random.seed(10)\n",
    "n_perm = 20  # number of permutations\n",
    "n_pseudo = 12  # number of pseudo-trials\n",
    "results = di.compute_time(infolder, subs, filt, im_times, event_ids, n_perm, n_pseudo)"
   ]
  },
  {
   "cell_type": "code",
   "execution_count": null,
   "metadata": {},
   "outputs": [],
   "source": [
    "%run general_tools.ipynb\n",
    "import\n",
    "infolder, outfolder = find_folder()\n",
    "trigs=list(range(101, 151))+list(range(201, 251))\n",
    "#trigs=list(range(101, 151))\n",
    "event_ids={str(x):x for x in trigs}\n",
    "im_times=(-0.1,1)\n",
    "filt=(0.03,200)\n",
    "subs = [2,3,4,5,6,7,8,9,10,11,12,13,14,15,16,17,18]\n",
    "subs = [18]\n",
    "np.random.seed(10)\n",
    "n_perm = 20  # number of permutations\n",
    "n_pseudo = 11  # number of pseudo-trials\n",
    "results = compute_time(infolder, subs, filt, im_times, event_ids)"
   ]
  },
  {
   "cell_type": "code",
   "execution_count": 11,
   "metadata": {},
   "outputs": [
    {
     "name": "stdout",
     "output_type": "stream",
     "text": [
      "Progress: [--------------------] 0.0%\n",
      "Extracting EDF parameters from E:\\Ilya_study\\Data\\IR_02_S01.bdf...\n",
      "BDF file detected\n",
      "Setting channel info structure...\n",
      "Creating raw.info structure...\n",
      "Reading 0 ... 3385855  =      0.000 ...  6612.998 secs...\n",
      "Filtering raw data in 1 contiguous segment\n",
      "Setting up band-pass filter from 0.03 - 2e+02 Hz\n",
      "\n",
      "IIR filter parameters\n",
      "---------------------\n",
      "Butterworth bandpass zero-phase (two-pass forward and reverse) non-causal filter:\n",
      "- Filter order 16 (effective, after forward-backward)\n",
      "- Cutoffs at 0.03, 200.00 Hz: -6.02, -6.02 dB\n",
      "\n",
      "2500 matching events found\n",
      "Applying baseline correction (mode: mean)\n",
      "Not setting metadata\n",
      "0 projection items activated\n",
      "Loading data for 2500 events and 564 original time points ...\n",
      "0 bad epochs dropped\n",
      "Extracting EDF parameters from E:\\Ilya_study\\Data\\IR_02_S02.bdf...\n",
      "BDF file detected\n",
      "Setting channel info structure...\n",
      "Creating raw.info structure...\n",
      "Reading 0 ... 2043391  =      0.000 ...  3990.998 secs...\n",
      "Filtering raw data in 1 contiguous segment\n",
      "Setting up band-pass filter from 0.03 - 2e+02 Hz\n",
      "\n",
      "IIR filter parameters\n",
      "---------------------\n",
      "Butterworth bandpass zero-phase (two-pass forward and reverse) non-causal filter:\n",
      "- Filter order 16 (effective, after forward-backward)\n",
      "- Cutoffs at 0.03, 200.00 Hz: -6.02, -6.02 dB\n",
      "\n",
      "1519 matching events found\n",
      "Applying baseline correction (mode: mean)\n",
      "Not setting metadata\n",
      "0 projection items activated\n",
      "Loading data for 1519 events and 564 original time points ...\n",
      "0 bad epochs dropped\n",
      "3819 matching events found\n",
      "Applying baseline correction (mode: mean)\n",
      "Not setting metadata\n",
      "0 bad epochs dropped\n",
      "Dropped 219 epochs\n",
      "\tPermutation 1 / 20\n",
      "\tPermutation 2 / 20\n"
     ]
    },
    {
     "ename": "KeyboardInterrupt",
     "evalue": "",
     "output_type": "error",
     "traceback": [
      "\u001b[1;31m---------------------------------------------------------------------------\u001b[0m",
      "\u001b[1;31mKeyboardInterrupt\u001b[0m                         Traceback (most recent call last)",
      "\u001b[1;32m<ipython-input-11-431bff71a7f2>\u001b[0m in \u001b[0;36m<module>\u001b[1;34m\u001b[0m\n\u001b[0;32m     74\u001b[0m                             \u001b[0mdata_train\u001b[0m \u001b[1;33m=\u001b[0m \u001b[0mXpseudo_train\u001b[0m\u001b[1;33m[\u001b[0m\u001b[0mcv\u001b[0m\u001b[1;33m.\u001b[0m\u001b[0mind_pseudo_train\u001b[0m\u001b[1;33m[\u001b[0m\u001b[0mc1\u001b[0m\u001b[1;33m,\u001b[0m \u001b[0mc2\u001b[0m\u001b[1;33m]\u001b[0m\u001b[1;33m,\u001b[0m \u001b[1;33m:\u001b[0m\u001b[1;33m,\u001b[0m \u001b[1;33m:\u001b[0m\u001b[1;33m]\u001b[0m\u001b[1;33m\u001b[0m\u001b[1;33m\u001b[0m\u001b[0m\n\u001b[0;32m     75\u001b[0m                             \u001b[0mdata_train\u001b[0m \u001b[1;33m=\u001b[0m \u001b[0mnp\u001b[0m\u001b[1;33m.\u001b[0m\u001b[0mreshape\u001b[0m\u001b[1;33m(\u001b[0m\u001b[0mdata_train\u001b[0m\u001b[1;33m,\u001b[0m \u001b[1;33m(\u001b[0m\u001b[0mdata_train\u001b[0m\u001b[1;33m.\u001b[0m\u001b[0mshape\u001b[0m\u001b[1;33m[\u001b[0m\u001b[1;36m0\u001b[0m\u001b[1;33m]\u001b[0m\u001b[1;33m,\u001b[0m \u001b[0mdata_train\u001b[0m\u001b[1;33m.\u001b[0m\u001b[0mshape\u001b[0m\u001b[1;33m[\u001b[0m\u001b[1;36m1\u001b[0m\u001b[1;33m]\u001b[0m\u001b[1;33m*\u001b[0m\u001b[0mdata_train\u001b[0m\u001b[1;33m.\u001b[0m\u001b[0mshape\u001b[0m\u001b[1;33m[\u001b[0m\u001b[1;36m2\u001b[0m\u001b[1;33m]\u001b[0m\u001b[1;33m)\u001b[0m\u001b[1;33m,\u001b[0m \u001b[0morder\u001b[0m\u001b[1;33m=\u001b[0m\u001b[1;34m'F'\u001b[0m\u001b[1;33m)\u001b[0m\u001b[1;33m\u001b[0m\u001b[1;33m\u001b[0m\u001b[0m\n\u001b[1;32m---> 76\u001b[1;33m                             \u001b[0msvm\u001b[0m\u001b[1;33m.\u001b[0m\u001b[0mfit\u001b[0m\u001b[1;33m(\u001b[0m\u001b[0mdata_train\u001b[0m\u001b[1;33m,\u001b[0m \u001b[0mcv\u001b[0m\u001b[1;33m.\u001b[0m\u001b[0mlabels_pseudo_train\u001b[0m\u001b[1;33m[\u001b[0m\u001b[0mc1\u001b[0m\u001b[1;33m,\u001b[0m \u001b[0mc2\u001b[0m\u001b[1;33m]\u001b[0m\u001b[1;33m)\u001b[0m\u001b[1;33m\u001b[0m\u001b[1;33m\u001b[0m\u001b[0m\n\u001b[0m\u001b[0;32m     77\u001b[0m \u001b[1;33m\u001b[0m\u001b[0m\n\u001b[0;32m     78\u001b[0m                             \u001b[1;31m# 4. Compute and store classification accuracies\u001b[0m\u001b[1;33m\u001b[0m\u001b[1;33m\u001b[0m\u001b[1;33m\u001b[0m\u001b[0m\n",
      "\u001b[1;32m~\\Anaconda3\\envs\\eeg_analysis\\lib\\site-packages\\sklearn\\svm\\base.py\u001b[0m in \u001b[0;36mfit\u001b[1;34m(self, X, y, sample_weight)\u001b[0m\n\u001b[0;32m    207\u001b[0m \u001b[1;33m\u001b[0m\u001b[0m\n\u001b[0;32m    208\u001b[0m         \u001b[0mseed\u001b[0m \u001b[1;33m=\u001b[0m \u001b[0mrnd\u001b[0m\u001b[1;33m.\u001b[0m\u001b[0mrandint\u001b[0m\u001b[1;33m(\u001b[0m\u001b[0mnp\u001b[0m\u001b[1;33m.\u001b[0m\u001b[0miinfo\u001b[0m\u001b[1;33m(\u001b[0m\u001b[1;34m'i'\u001b[0m\u001b[1;33m)\u001b[0m\u001b[1;33m.\u001b[0m\u001b[0mmax\u001b[0m\u001b[1;33m)\u001b[0m\u001b[1;33m\u001b[0m\u001b[1;33m\u001b[0m\u001b[0m\n\u001b[1;32m--> 209\u001b[1;33m         \u001b[0mfit\u001b[0m\u001b[1;33m(\u001b[0m\u001b[0mX\u001b[0m\u001b[1;33m,\u001b[0m \u001b[0my\u001b[0m\u001b[1;33m,\u001b[0m \u001b[0msample_weight\u001b[0m\u001b[1;33m,\u001b[0m \u001b[0msolver_type\u001b[0m\u001b[1;33m,\u001b[0m \u001b[0mkernel\u001b[0m\u001b[1;33m,\u001b[0m \u001b[0mrandom_seed\u001b[0m\u001b[1;33m=\u001b[0m\u001b[0mseed\u001b[0m\u001b[1;33m)\u001b[0m\u001b[1;33m\u001b[0m\u001b[1;33m\u001b[0m\u001b[0m\n\u001b[0m\u001b[0;32m    210\u001b[0m         \u001b[1;31m# see comment on the other call to np.iinfo in this file\u001b[0m\u001b[1;33m\u001b[0m\u001b[1;33m\u001b[0m\u001b[1;33m\u001b[0m\u001b[0m\n\u001b[0;32m    211\u001b[0m \u001b[1;33m\u001b[0m\u001b[0m\n",
      "\u001b[1;32m~\\Anaconda3\\envs\\eeg_analysis\\lib\\site-packages\\sklearn\\svm\\base.py\u001b[0m in \u001b[0;36m_dense_fit\u001b[1;34m(self, X, y, sample_weight, solver_type, kernel, random_seed)\u001b[0m\n\u001b[0;32m    266\u001b[0m                 \u001b[0mcache_size\u001b[0m\u001b[1;33m=\u001b[0m\u001b[0mself\u001b[0m\u001b[1;33m.\u001b[0m\u001b[0mcache_size\u001b[0m\u001b[1;33m,\u001b[0m \u001b[0mcoef0\u001b[0m\u001b[1;33m=\u001b[0m\u001b[0mself\u001b[0m\u001b[1;33m.\u001b[0m\u001b[0mcoef0\u001b[0m\u001b[1;33m,\u001b[0m\u001b[1;33m\u001b[0m\u001b[1;33m\u001b[0m\u001b[0m\n\u001b[0;32m    267\u001b[0m                 \u001b[0mgamma\u001b[0m\u001b[1;33m=\u001b[0m\u001b[0mself\u001b[0m\u001b[1;33m.\u001b[0m\u001b[0m_gamma\u001b[0m\u001b[1;33m,\u001b[0m \u001b[0mepsilon\u001b[0m\u001b[1;33m=\u001b[0m\u001b[0mself\u001b[0m\u001b[1;33m.\u001b[0m\u001b[0mepsilon\u001b[0m\u001b[1;33m,\u001b[0m\u001b[1;33m\u001b[0m\u001b[1;33m\u001b[0m\u001b[0m\n\u001b[1;32m--> 268\u001b[1;33m                 max_iter=self.max_iter, random_seed=random_seed)\n\u001b[0m\u001b[0;32m    269\u001b[0m \u001b[1;33m\u001b[0m\u001b[0m\n\u001b[0;32m    270\u001b[0m         \u001b[0mself\u001b[0m\u001b[1;33m.\u001b[0m\u001b[0m_warn_from_fit_status\u001b[0m\u001b[1;33m(\u001b[0m\u001b[1;33m)\u001b[0m\u001b[1;33m\u001b[0m\u001b[1;33m\u001b[0m\u001b[0m\n",
      "\u001b[1;31mKeyboardInterrupt\u001b[0m: "
     ]
    }
   ],
   "source": [
    "%run general_tools.ipynb\n",
    "%run EEG_auxiliary_module.ipynb\n",
    "%run make_features.ipynb\n",
    "from pathlib import Path, PurePath\n",
    "import numpy as np\n",
    "import mne\n",
    "from mne.time_frequency import tfr_morlet, psd_multitaper, psd_welch\n",
    "import os\n",
    "import scipy\n",
    "from sklearn.discriminant_analysis import _cov\n",
    "from sklearn.svm import SVC\n",
    "from sklearn.naive_bayes import GaussianNB\n",
    "np.random.seed(10)\n",
    "\n",
    "pick_ch=['P9','P7','P5','P3','PO7','PO3','O1','P10','P8','P6','P4','PO8','PO4','O2','POz','Pz']\n",
    "#pick_ch=['PO8','PO7']\n",
    "\n",
    "infolder, outfolder = find_folder()\n",
    "trigs=list(range(101, 151))+list(range(201, 251))\n",
    "#trigs=list(range(101, 151))\n",
    "event_ids={str(x):x for x in trigs}\n",
    "im_times=(-0.1,1)\n",
    "filt=(0.03,200)\n",
    "subs = [3,4,5,6,7,8,9,10,11,12,13,14,15,16,17,18]\n",
    "subs = [2]\n",
    "\n",
    "n_perm = 20  # number of permutations\n",
    "n_pseudo = 11  # number of pseudo-trials\n",
    "\n",
    "svm = SVC(kernel='linear')\n",
    "CV = ShuffleBinLeaveOneOut\n",
    "\n",
    "out = list()\n",
    "for i,sub in enumerate(subs):\n",
    "    update_progress(i/len(subs))\n",
    "    fnames = [infolder+'\\\\IR_'+str(sub).zfill(2)+'_S01.bdf',infolder+'\\\\IR_'+str(sub).zfill(2)+'_S02.bdf']\n",
    "    epochs = load_to_epochs_perc(fnames, event_ids, im_times, filt)\n",
    "    epochs.drop_channels(['Status']).equalize_event_counts(event_ids=event_ids, method='mintime')\n",
    "    X = epochs.get_data()\n",
    "    y = epochs.events[:, 2]\n",
    "    y = [a-101 if a<200 else a-151 for a in y]\n",
    "    n_conditions = len(np.unique(y))\n",
    "    n_sensors = X.shape[1]\n",
    "    n_time = X.shape[2]\n",
    "    cv = CV(y, n_iter=n_perm, n_pseudo=n_pseudo)\n",
    "    result = np.full((n_perm, n_conditions, n_conditions), np.nan)\n",
    "    for f, (train_indices, test_indices) in enumerate(cv.split(X)):\n",
    "                print('\\tPermutation %g / %g' % (f + 1, n_perm))\n",
    "\n",
    "                # 1. Compute pseudo-trials for training and test\n",
    "                Xpseudo_train = np.full((len(train_indices), n_sensors, n_time), np.nan)\n",
    "                Xpseudo_test = np.full((len(test_indices), n_sensors, n_time), np.nan)\n",
    "                for i, ind in enumerate(train_indices):\n",
    "                    Xpseudo_train[i, :, :] = np.mean(X[ind, :, :], axis=0)\n",
    "                for i, ind in enumerate(test_indices):\n",
    "                    Xpseudo_test[i, :, :] = np.mean(X[ind, :, :], axis=0)\n",
    "\n",
    "\n",
    "                # 2. Whitening using the Epoch method\n",
    "                sigma_conditions = cv.labels_pseudo_train[0, :, n_pseudo-1:].flatten()\n",
    "                sigma_ = np.empty((n_conditions, n_sensors, n_sensors))\n",
    "                for k,c in enumerate(np.unique(y)):\n",
    "                    # compute sigma for each time point, then average across time\n",
    "                    sigma_[k] = np.mean([_cov(Xpseudo_train[sigma_conditions==c, :, t], shrinkage='auto')\n",
    "                                         for t in range(n_time)], axis=0)\n",
    "                sigma = sigma_.mean(axis=0)  # average across conditions\n",
    "                sigma_inv = scipy.linalg.fractional_matrix_power(sigma, -0.5)\n",
    "                Xpseudo_train = (Xpseudo_train.swapaxes(1, 2) @ sigma_inv).swapaxes(1, 2)\n",
    "                Xpseudo_test = (Xpseudo_test.swapaxes(1, 2) @ sigma_inv).swapaxes(1, 2)\n",
    "\n",
    "                for c1 in range(n_conditions-1):\n",
    "                    for c2 in range(min(c1 + 1, n_conditions-1), n_conditions):\n",
    "                            # 3. Fit the classifier using training data\n",
    "                            data_train = Xpseudo_train[cv.ind_pseudo_train[c1, c2], :, :]\n",
    "                            data_train = np.reshape(data_train, (data_train.shape[0], data_train.shape[1]*data_train.shape[2]), order='F')\n",
    "                            svm.fit(data_train, cv.labels_pseudo_train[c1, c2])                            \n",
    "\n",
    "                            # 4. Compute and store classification accuracies\n",
    "                            data_test = Xpseudo_test[cv.ind_pseudo_test[c1, c2], :, :]\n",
    "                            data_test = np.reshape(data_test, (data_test.shape[0], data_test.shape[1]*data_test.shape[2]), order='F')\n",
    "                            result[f, c1, c2] = np.mean(svm.predict(data_test) == cv.labels_pseudo_test[c1, c2]) - 0.5                            \n",
    "\n",
    "        # average across permutations\n",
    "    out.append(result)\n",
    "    from scipy.spatial.distance import squareform\n",
    "    a = np.nanmean(result,axis=0)[:50,:50]\n",
    "    np.nanmean(a)"
   ]
  },
  {
   "cell_type": "code",
   "execution_count": null,
   "metadata": {},
   "outputs": [],
   "source": []
  },
  {
   "cell_type": "markdown",
   "metadata": {},
   "source": [
    "# Distance analysis"
   ]
  },
  {
   "cell_type": "markdown",
   "metadata": {},
   "source": [
    "## No CV"
   ]
  },
  {
   "cell_type": "code",
   "execution_count": 10,
   "metadata": {},
   "outputs": [
    {
     "name": "stdout",
     "output_type": "stream",
     "text": [
      "Progress: [###################-] 94.1%\n",
      "Extracting EDF parameters from E:\\Ilya_study\\Data\\IR_18_S01.bdf...\n",
      "BDF file detected\n",
      "Setting channel info structure...\n",
      "Creating raw.info structure...\n",
      "Reading 0 ... 3393023  =      0.000 ...  6626.998 secs...\n",
      "Filtering raw data in 1 contiguous segment\n",
      "Setting up band-pass filter from 0.01 - 45 Hz\n",
      "\n",
      "IIR filter parameters\n",
      "---------------------\n",
      "Butterworth bandpass zero-phase (two-pass forward and reverse) non-causal filter:\n",
      "- Filter order 16 (effective, after forward-backward)\n",
      "- Cutoffs at 0.01, 45.00 Hz: -6.02, -6.02 dB\n",
      "\n",
      "2500 matching events found\n",
      "Applying baseline correction (mode: mean)\n",
      "Not setting metadata\n",
      "0 projection items activated\n",
      "Loading data for 2500 events and 564 original time points ...\n",
      "0 bad epochs dropped\n",
      "Extracting EDF parameters from E:\\Ilya_study\\Data\\IR_18_S02.bdf...\n",
      "BDF file detected\n",
      "Setting channel info structure...\n",
      "Creating raw.info structure...\n",
      "Reading 0 ... 3389951  =      0.000 ...  6620.998 secs...\n",
      "Filtering raw data in 1 contiguous segment\n",
      "Setting up band-pass filter from 0.01 - 45 Hz\n",
      "\n",
      "IIR filter parameters\n",
      "---------------------\n",
      "Butterworth bandpass zero-phase (two-pass forward and reverse) non-causal filter:\n",
      "- Filter order 16 (effective, after forward-backward)\n",
      "- Cutoffs at 0.01, 45.00 Hz: -6.02, -6.02 dB\n",
      "\n",
      "2500 matching events found\n",
      "Applying baseline correction (mode: mean)\n",
      "Not setting metadata\n",
      "0 projection items activated\n",
      "Loading data for 2500 events and 564 original time points ...\n",
      "0 bad epochs dropped\n",
      "4800 matching events found\n",
      "Applying baseline correction (mode: mean)\n",
      "Not setting metadata\n",
      "0 bad epochs dropped\n",
      "Dropped 0 epochs\n",
      "\tPermutation 1 / 20\n",
      "\tPermutation 2 / 20\n",
      "\tPermutation 3 / 20\n",
      "\tPermutation 4 / 20\n",
      "\tPermutation 5 / 20\n",
      "\tPermutation 6 / 20\n",
      "\tPermutation 7 / 20\n",
      "\tPermutation 8 / 20\n",
      "\tPermutation 9 / 20\n",
      "\tPermutation 10 / 20\n",
      "\tPermutation 11 / 20\n",
      "\tPermutation 12 / 20\n",
      "\tPermutation 13 / 20\n",
      "\tPermutation 14 / 20\n",
      "\tPermutation 15 / 20\n",
      "\tPermutation 16 / 20\n",
      "\tPermutation 17 / 20\n",
      "\tPermutation 18 / 20\n",
      "\tPermutation 19 / 20\n",
      "\tPermutation 20 / 20\n"
     ]
    }
   ],
   "source": [
    "%run general_tools.ipynb\n",
    "%run EEG_auxiliary_module.ipynb\n",
    "from pathlib import Path, PurePath\n",
    "import numpy as np\n",
    "import mne\n",
    "import scipy\n",
    "from sklearn.discriminant_analysis import _cov\n",
    "from sklearn.svm import SVC\n",
    "from dissimilarity import Euclidean2, CvEuclidean2, Pearson, CvPearson\n",
    "from cv import ShuffleBinLeaveOneOut, ShuffleBin\n",
    "np.random.seed(10)\n",
    "\n",
    "\n",
    "infolder, outfolder = find_folder()\n",
    "trigs=list(range(101, 151))+list(range(201, 251))\n",
    "#trigs=list(range(101, 151))\n",
    "event_ids={str(x):x for x in trigs}\n",
    "im_times=(-0.1,1)\n",
    "filt=(0.01,45)\n",
    "subs = [2,3,4,5,6,7,8,9,10,11,12,13,14,15,16,17,18]\n",
    "\n",
    "n_perm = 20  # number of permutations\n",
    "\n",
    "ec = Euclidean2()\n",
    "ec_cv = CvEuclidean2()\n",
    "ps = Pearson()\n",
    "ps_cv = CvPearson()\n",
    "\n",
    "svm = SVC(kernel='linear')\n",
    "\n",
    "out = list()\n",
    "for i,sub in enumerate(subs):\n",
    "    if i==0:\n",
    "        n_pseudo = 11\n",
    "    else: \n",
    "        n_pseudo = 12\n",
    "        \n",
    "    update_progress(i/len(subs))\n",
    "    fnames = [infolder+'\\\\IR_'+str(sub).zfill(2)+'_S01.bdf',infolder+'\\\\IR_'+str(sub).zfill(2)+'_S02.bdf']\n",
    "    epochs = load_to_epochs_perc(fnames, event_ids, im_times, filt)\n",
    "    epochs.drop_channels(['Status']).equalize_event_counts(event_ids=event_ids, method='mintime')\n",
    "    X = epochs.get_data()\n",
    "    y = epochs.events[:, 2]\n",
    "    y = [a-101 if a<200 else a-151 for a in y]\n",
    "    cv = ShuffleBin(y, n_iter=n_perm, n_pseudo=n_pseudo)\n",
    "    n_conditions = len(np.unique(y))\n",
    "    n_sensors = X.shape[1]\n",
    "    n_time = X.shape[2]\n",
    "    result = np.full((n_perm, n_conditions, n_conditions), np.nan)\n",
    "    for f, (train_indices, test_indices) in enumerate(cv.split(X)):\n",
    "        print('\\tPermutation %g / %g' % (f + 1, n_perm))\n",
    "\n",
    "        # 1. Compute pseudo-trials for training and test\n",
    "        Xpseudo = np.full((len(test_indices), n_sensors, n_time), np.nan)\n",
    "        for i, ind in enumerate(test_indices):\n",
    "            Xpseudo[i, :, :] = np.mean(X[ind, :, :], axis=0)\n",
    "                \n",
    "\n",
    "\n",
    "        # 2. Whitening using the Epoch method\n",
    "        sigma_conditions = cv.labels_pseudo_test[0, :, n_pseudo:].flatten()\n",
    "        sigma_ = np.empty((n_conditions, n_sensors, n_sensors))\n",
    "                \n",
    "        for c in range(n_conditions):\n",
    "        # compute sigma for each time point, then average across time\n",
    "            sigma_[c] = np.mean([_cov(Xpseudo[sigma_conditions==c, :, t], shrinkage='auto') for t in range(n_time)], axis=0)\n",
    "        sigma = sigma_.mean(axis=0)  # average across conditions\n",
    "        sigma_inv = scipy.linalg.fractional_matrix_power(sigma, -0.5)\n",
    "        Xpseudo = (Xpseudo.swapaxes(1, 2) @ sigma_inv).swapaxes(1, 2)\n",
    "\n",
    "        for c1 in range(n_conditions-1):\n",
    "            for c2 in range(min(c1 + 1, n_conditions-1), n_conditions):                            \n",
    "                    data = Xpseudo[cv.ind_pseudo_test[c1, c2], :, :]\n",
    "                    data = np.reshape(data, (data.shape[0], data.shape[1]*data.shape[2]), order='F')\n",
    "                    result[f, c1, c2] = ps.predict(data, y=cv.labels_pseudo_test[c1, c2])\n",
    "    out.append(result)\n",
    "np.savez_compressed('pearson_no_cv',results=out)"
   ]
  },
  {
   "cell_type": "markdown",
   "metadata": {},
   "source": [
    "## with CV"
   ]
  },
  {
   "cell_type": "code",
   "execution_count": null,
   "metadata": {},
   "outputs": [
    {
     "name": "stdout",
     "output_type": "stream",
     "text": [
      "Progress: [##################--] 88.2%\n",
      "Extracting EDF parameters from E:\\Ilya_study\\Data\\IR_17_S01.bdf...\n",
      "BDF file detected\n",
      "Setting channel info structure...\n",
      "Creating raw.info structure...\n",
      "Reading 0 ... 3389439  =      0.000 ...  6619.998 secs...\n"
     ]
    }
   ],
   "source": [
    "%run general_tools.ipynb\n",
    "%run EEG_auxiliary_module.ipynb\n",
    "from pathlib import Path, PurePath\n",
    "import numpy as np\n",
    "import mne\n",
    "import scipy\n",
    "from sklearn.discriminant_analysis import _cov\n",
    "from sklearn.svm import SVC\n",
    "from dissimilarity import Euclidean2, CvEuclidean2, Pearson, CvPearson\n",
    "from cv import ShuffleBinLeaveOneOut, ShuffleBin\n",
    "np.random.seed(10)\n",
    "\n",
    "\n",
    "infolder, outfolder = find_folder()\n",
    "trigs=list(range(101, 151))+list(range(201, 251))\n",
    "#trigs=list(range(101, 151))\n",
    "event_ids={str(x):x for x in trigs}\n",
    "im_times=(-0.1,1)\n",
    "filt=(0.01,45)\n",
    "subs = [2,3,4,5,6,7,8,9,10,11,12,13,14,15,16,17,18]\n",
    "\n",
    "n_perm = 20  # number of permutations\n",
    "\n",
    "ec = Euclidean2()\n",
    "ec_cv = CvEuclidean2()\n",
    "ps = Pearson()\n",
    "ps_cv = CvPearson()\n",
    "CV = ShuffleBinLeaveOneOut\n",
    "svm = SVC(kernel='linear')\n",
    "\n",
    "out_ec = list()\n",
    "out_pc = list()\n",
    "for i,sub in enumerate(subs):\n",
    "    if i==0:\n",
    "        n_pseudo = 11\n",
    "    else: \n",
    "        n_pseudo = 12\n",
    "        \n",
    "    update_progress(i/len(subs))\n",
    "    fnames = [infolder+'\\\\IR_'+str(sub).zfill(2)+'_S01.bdf',infolder+'\\\\IR_'+str(sub).zfill(2)+'_S02.bdf']\n",
    "    epochs = load_to_epochs_perc(fnames, event_ids, im_times, filt)\n",
    "    epochs.drop_channels(['Status']).equalize_event_counts(event_ids=event_ids, method='mintime')\n",
    "    X = epochs.get_data()\n",
    "    y = epochs.events[:, 2]\n",
    "    y = [a-101 if a<200 else a-151 for a in y]\n",
    "    cv = CV(y, n_iter=n_perm, n_pseudo=n_pseudo)\n",
    "    n_conditions = len(np.unique(y))\n",
    "    n_sensors = X.shape[1]\n",
    "    n_time = X.shape[2]\n",
    "    result_ec = np.full((n_perm, n_conditions, n_conditions), np.nan)\n",
    "    result_ps = np.full((n_perm, n_conditions, n_conditions), np.nan)\n",
    "    for f, (train_indices, test_indices) in enumerate(cv.split(X)):\n",
    "        print('\\tPermutation %g / %g' % (f + 1, n_perm))\n",
    "\n",
    "        # 1. Compute pseudo-trials for training and test\n",
    "        Xpseudo_train = np.full((len(train_indices), n_sensors, n_time), np.nan)\n",
    "        Xpseudo_test = np.full((len(test_indices), n_sensors, n_time), np.nan)\n",
    "        for i, ind in enumerate(train_indices):\n",
    "            Xpseudo_train[i, :, :] = np.mean(X[ind, :, :], axis=0)\n",
    "        for i, ind in enumerate(test_indices):\n",
    "            Xpseudo_test[i, :, :] = np.mean(X[ind, :, :], axis=0)\n",
    "\n",
    "\n",
    "        # 2. Whitening using the Epoch method\n",
    "        sigma_conditions = cv.labels_pseudo_train[0, :, n_pseudo-1:].flatten()\n",
    "        sigma_ = np.empty((n_conditions, n_sensors, n_sensors))\n",
    "        for k,c in enumerate(np.unique(y)):\n",
    "            # compute sigma for each time point, then average across time\n",
    "            sigma_[k] = np.mean([_cov(Xpseudo_train[sigma_conditions==c, :, t], shrinkage='auto')\n",
    "                                         for t in range(n_time)], axis=0)\n",
    "        sigma = sigma_.mean(axis=0)  # average across conditions\n",
    "        sigma_inv = scipy.linalg.fractional_matrix_power(sigma, -0.5)\n",
    "        Xpseudo_train = (Xpseudo_train.swapaxes(1, 2) @ sigma_inv).swapaxes(1, 2)\n",
    "        Xpseudo_test = (Xpseudo_test.swapaxes(1, 2) @ sigma_inv).swapaxes(1, 2)\n",
    "\n",
    "        for c1 in range(n_conditions-1):\n",
    "            for c2 in range(min(c1 + 1, n_conditions-1), n_conditions):                        \n",
    "                data_train = Xpseudo_train[cv.ind_pseudo_train[c1, c2], :, :]\n",
    "                data_train = np.reshape(data_train, (data_train.shape[0], data_train.shape[1]*data_train.shape[2]), order='F')\n",
    "                ec_cv.fit(data_train, cv.labels_pseudo_train[c1, c2])                            \n",
    "                ps_cv.fit(data_train, cv.labels_pseudo_train[c1, c2])\n",
    "                \n",
    "                data_test = Xpseudo_test[cv.ind_pseudo_test[c1, c2], :, :] \n",
    "                data_test = np.reshape(data_test, (data_test.shape[0], data_test.shape[1]*data_test.shape[2]), order='F')\n",
    "                \n",
    "                result_ec[f, c1, c2] = ec_cv.predict(data_test, y=cv.labels_pseudo_test[c1, c2])\n",
    "                result_ps[f, c1, c2] = ps_cv.predict(data_test, y=cv.labels_pseudo_test[c1, c2])\n",
    "    out_ec.append(result_ec)\n",
    "    out_pc.append(result_ps)\n",
    "np.savez_compressed('distance_with_cv',result_ec=out_ec, result_pc=out_pc)"
   ]
  },
  {
   "cell_type": "code",
   "execution_count": 14,
   "metadata": {},
   "outputs": [
    {
     "data": {
      "text/plain": [
       "(2, 36096)"
      ]
     },
     "execution_count": 14,
     "metadata": {},
     "output_type": "execute_result"
    }
   ],
   "source": [
    "data_train.shape"
   ]
  },
  {
   "cell_type": "code",
   "execution_count": 2,
   "metadata": {},
   "outputs": [],
   "source": [
    "from dissimilarity import Euclidean2, CvEuclidean2, Pearson, CvPearson"
   ]
  },
  {
   "cell_type": "code",
   "execution_count": null,
   "metadata": {},
   "outputs": [],
   "source": [
    "np.savez_compressed('acc_perc_all',results=out)"
   ]
  },
  {
   "cell_type": "code",
   "execution_count": null,
   "metadata": {},
   "outputs": [],
   "source": [
    "out = list()\n",
    "out.append(result)\n",
    "for i in results:\n",
    "    out.append(i)\n",
    "len(out)"
   ]
  },
  {
   "cell_type": "code",
   "execution_count": 2,
   "metadata": {},
   "outputs": [
    {
     "data": {
      "text/plain": [
       "(1, 20, 100, 100, 564)"
      ]
     },
     "execution_count": 2,
     "metadata": {},
     "output_type": "execute_result"
    }
   ],
   "source": [
    "import numpy as np\n",
    "loaded = np.load('temp_11.npz')\n",
    "results = loaded['results']\n",
    "results.shape"
   ]
  },
  {
   "cell_type": "code",
   "execution_count": null,
   "metadata": {},
   "outputs": [],
   "source": [
    "for i in out:\n",
    "    print(np.nanmean(i[:,:25,:25]))"
   ]
  },
  {
   "cell_type": "code",
   "execution_count": null,
   "metadata": {},
   "outputs": [],
   "source": [
    "%run general_tools.ipynb\n",
    "%run EEG_auxiliary_module.ipynb\n",
    "%run make_features.ipynb\n",
    "from pathlib import Path, PurePath\n",
    "import numpy as np\n",
    "import mne\n",
    "from mne.time_frequency import tfr_morlet, psd_multitaper, psd_welch\n",
    "np.random.seed(10)\n",
    "\n",
    "pick_ch=['P9','P7','P5','P3','PO7','PO3','O1','P10','P8','P6','P4','PO8','PO4','O2','POz','Pz']\n",
    "#pick_ch=['PO8','PO7']\n",
    "\n",
    "infolder, outfolder = find_folder()\n",
    "trigs=list(range(101, 151))+list(range(201, 251))\n",
    "#trigs=list(range(101, 151))\n",
    "event_ids={str(x):x for x in trigs}\n",
    "im_times=(-0.1,1)\n",
    "filt=(0.03,200)\n",
    "fnames = ['E:\\\\Ilya_study\\\\Data\\\\IR_06_S01.bdf','E:\\\\Ilya_study\\\\Data\\\\IR_06_S02.bdf']\n",
    "epochs = load_to_epochs_perc(fnames, event_ids, im_times, filt)\n",
    "epochs.drop_channels(['Status']).equalize_event_counts(event_ids=event_ids, method='mintime')\n",
    "#epochs = block_average(epochs,4,12, kind='perc',zscore = False)\n",
    "pick_ch = mne.pick_channels(epochs.ch_names, pick_ch)\n",
    "#data = epochs.get_data()[:, pick_ch, :]\n",
    "X = epochs.get_data()\n",
    "y = epochs.events[:, 2]\n",
    "y = [a-101 if a<200 else a-151 for a in y]"
   ]
  },
  {
   "cell_type": "code",
   "execution_count": null,
   "metadata": {},
   "outputs": [],
   "source": [
    "np.unique(y)"
   ]
  },
  {
   "cell_type": "code",
   "execution_count": null,
   "metadata": {},
   "outputs": [],
   "source": [
    "import os\n",
    "\n",
    "import numpy as np\n",
    "import scipy\n",
    "from sklearn.discriminant_analysis import _cov\n",
    "from sklearn.svm import SVC\n",
    "from sklearn.naive_bayes import GaussianNB\n",
    "\n",
    "# Parameters\n",
    "n_perm = 20  # number of permutations\n",
    "n_pseudo = 12  # number of pseudo-trials\n",
    "n_conditions = len(np.unique(y))\n",
    "n_sensors = X.shape[1]\n",
    "n_time = X.shape[2]"
   ]
  },
  {
   "cell_type": "code",
   "execution_count": null,
   "metadata": {},
   "outputs": [],
   "source": [
    "svm = SVC(kernel='linear')\n",
    "CV = ShuffleBinLeaveOneOut\n",
    "cv = CV(y, n_iter=n_perm, n_pseudo=n_pseudo)\n",
    "result = np.full((n_perm, n_conditions, n_conditions, n_time), np.nan)"
   ]
  },
  {
   "cell_type": "code",
   "execution_count": null,
   "metadata": {},
   "outputs": [],
   "source": [
    "for f, (train_indices, test_indices) in enumerate(cv.split(X)):\n",
    "            print('\\tPermutation %g / %g' % (f + 1, n_perm))\n",
    "\n",
    "            # 1. Compute pseudo-trials for training and test\n",
    "            Xpseudo_train = np.full((len(train_indices), n_sensors, n_time), np.nan)\n",
    "            Xpseudo_test = np.full((len(test_indices), n_sensors, n_time), np.nan)\n",
    "            for i, ind in enumerate(train_indices):\n",
    "                Xpseudo_train[i, :, :] = np.mean(X[ind, :, :], axis=0)\n",
    "            for i, ind in enumerate(test_indices):\n",
    "                Xpseudo_test[i, :, :] = np.mean(X[ind, :, :], axis=0)\n",
    "\n",
    "\n",
    "            # 2. Whitening using the Epoch method\n",
    "            sigma_conditions = cv.labels_pseudo_train[0, :, n_pseudo-1:].flatten()\n",
    "            sigma_ = np.empty((n_conditions, n_sensors, n_sensors))\n",
    "            for k,c in enumerate(np.unique(y)):\n",
    "                # compute sigma for each time point, then average across time\n",
    "                sigma_[k] = np.mean([_cov(Xpseudo_train[sigma_conditions==c, :, t], shrinkage='auto')\n",
    "                                     for t in range(n_time)], axis=0)\n",
    "            sigma = sigma_.mean(axis=0)  # average across conditions\n",
    "            sigma_inv = scipy.linalg.fractional_matrix_power(sigma, -0.5)\n",
    "            Xpseudo_train = (Xpseudo_train.swapaxes(1, 2) @ sigma_inv).swapaxes(1, 2)\n",
    "            Xpseudo_test = (Xpseudo_test.swapaxes(1, 2) @ sigma_inv).swapaxes(1, 2)\n",
    "\n",
    "            for t in range(n_time):\n",
    "                for c1 in range(n_conditions-1):\n",
    "                    for c2 in range(min(c1 + 1, n_conditions-1), n_conditions):\n",
    "                            # 3. Fit the classifier using training data\n",
    "                            data_train = Xpseudo_train[cv.ind_pseudo_train[c1, c2], :, t]\n",
    "                            svm.fit(data_train, cv.labels_pseudo_train[c1, c2])                            \n",
    "\n",
    "                            # 4. Compute and store classification accuracies\n",
    "                            data_test = Xpseudo_test[cv.ind_pseudo_test[c1, c2], :, t]\n",
    "                            result[f, c1, c2, t] = np.mean(svm.predict(data_test) == cv.labels_pseudo_test[c1, c2]) - 0.5                            \n",
    "                           \n",
    "    # average across permutations\n",
    "\n",
    "       "
   ]
  },
  {
   "cell_type": "code",
   "execution_count": null,
   "metadata": {},
   "outputs": [],
   "source": [
    "np.save( 'cum_accuracy_06.npy', result)"
   ]
  },
  {
   "cell_type": "code",
   "execution_count": null,
   "metadata": {},
   "outputs": [],
   "source": [
    "temp = np.load('C:\\\\Users\\\\danne\\\\Documents\\Codes\\\\EEG_analysis\\\\result_decoding_time.npy')\n",
    "temp.shape"
   ]
  },
  {
   "cell_type": "code",
   "execution_count": null,
   "metadata": {},
   "outputs": [],
   "source": [
    "temp = np.load('C:\\\\Users\\\\danne\\\\Documents\\Codes\\\\EEG_analysis\\\\result_decoding_time.npy')\n",
    "temp1 = np.nanmean(temp[:,:25,:25,:], axis=(0,1,2))\n",
    "temp2 = np.nanmean(temp[:,25:50,25:50,:], axis=(0,1,2))\n",
    "temp.shape\n",
    "import matplotlib.pyplot as plt\n",
    "%matplotlib inline\n",
    "plt.plot(np.linspace(-100,1000,564),temp1, label='unfamiliar')\n",
    "plt.plot(np.linspace(-100,1000,564),temp2, label='famous')\n",
    "plt.legend()\n",
    "plt.savefig('sub6.png')"
   ]
  },
  {
   "cell_type": "code",
   "execution_count": null,
   "metadata": {},
   "outputs": [],
   "source": [
    "result = np.full((n_perm, n_conditions, n_conditions), np.nan)\n",
    "for f, (train_indices, test_indices) in enumerate(cv.split(X)):\n",
    "            print('\\tPermutation %g / %g' % (f + 1, n_perm))\n",
    "\n",
    "            # 1. Compute pseudo-trials for training and test\n",
    "            Xpseudo_train = np.full((len(train_indices), n_sensors, n_time), np.nan)\n",
    "            Xpseudo_test = np.full((len(test_indices), n_sensors, n_time), np.nan)\n",
    "            for i, ind in enumerate(train_indices):\n",
    "                Xpseudo_train[i, :, :] = np.mean(X[ind, :, :], axis=0)\n",
    "            for i, ind in enumerate(test_indices):\n",
    "                Xpseudo_test[i, :, :] = np.mean(X[ind, :, :], axis=0)\n",
    "\n",
    "\n",
    "            # 2. Whitening using the Epoch method\n",
    "            sigma_conditions = cv.labels_pseudo_train[0, :, n_pseudo-1:].flatten()\n",
    "            sigma_ = np.empty((n_conditions, n_sensors, n_sensors))\n",
    "            for k,c in enumerate(np.unique(y)):\n",
    "                # compute sigma for each time point, then average across time\n",
    "                sigma_[k] = np.mean([_cov(Xpseudo_train[sigma_conditions==c, :, t], shrinkage='auto')\n",
    "                                     for t in range(n_time)], axis=0)\n",
    "            sigma = sigma_.mean(axis=0)  # average across conditions\n",
    "            sigma_inv = scipy.linalg.fractional_matrix_power(sigma, -0.5)\n",
    "            Xpseudo_train = (Xpseudo_train.swapaxes(1, 2) @ sigma_inv).swapaxes(1, 2)\n",
    "            Xpseudo_test = (Xpseudo_test.swapaxes(1, 2) @ sigma_inv).swapaxes(1, 2)\n",
    "\n",
    "            for c1 in range(n_conditions-1):\n",
    "                for c2 in range(min(c1 + 1, n_conditions-1), n_conditions):\n",
    "                        # 3. Fit the classifier using training data\n",
    "                        data_train = Xpseudo_train[cv.ind_pseudo_train[c1, c2], :, :]\n",
    "                        data_train = np.reshape(data_train, (data_train.shape[0], data_train.shape[1]*data_train.shape[2]), order='F')\n",
    "                        svm.fit(data_train, cv.labels_pseudo_train[c1, c2])                            \n",
    "\n",
    "                        # 4. Compute and store classification accuracies\n",
    "                        data_test = Xpseudo_test[cv.ind_pseudo_test[c1, c2], :, :]\n",
    "                        data_test = np.reshape(data_test, (data_test.shape[0], data_test.shape[1]*data_test.shape[2]), order='F')\n",
    "                        result[f, c1, c2] = np.mean(svm.predict(data_test) == cv.labels_pseudo_test[c1, c2]) - 0.5                            \n",
    "                           \n",
    "    # average across permutations\n",
    "from scipy.spatial.distance import squareform\n",
    "a = np.nanmean(result,axis=0)[:50,:50]\n",
    "np.nanmean(a)"
   ]
  },
  {
   "cell_type": "code",
   "execution_count": null,
   "metadata": {},
   "outputs": [],
   "source": []
  },
  {
   "cell_type": "code",
   "execution_count": null,
   "metadata": {},
   "outputs": [],
   "source": [
    "np.nanmean(result[7,:10,:10])"
   ]
  },
  {
   "cell_type": "markdown",
   "metadata": {},
   "source": [
    "We set a seed, in order to make analyses reproducible:"
   ]
  },
  {
   "cell_type": "markdown",
   "metadata": {},
   "source": [
    "Let's load some data:"
   ]
  },
  {
   "cell_type": "code",
   "execution_count": null,
   "metadata": {},
   "outputs": [],
   "source": [
    "root = '' # This is the /path/to the directory containing the data.\n",
    "          # We leave it empty here, because the data is located in the current directory.\n",
    "\n",
    "# Load data and trial labels for the two sessions of participant 01\n",
    "sessions = [\n",
    "    # Session 1\n",
    "    dict(\n",
    "        data=np.load(os.path.join(root, 'data01_sess1.npy')),\n",
    "        # data has shape n_trials x n_sensors x n_timepoints\n",
    "        labels=np.load(os.path.join(root, 'labels01_sess1.npy'))\n",
    "        # labels has shape 1 x n_trials (i.e., one condition label [object category] per trial)\n",
    "    ),\n",
    "    # Session 2\n",
    "    dict(\n",
    "        data=np.load(os.path.join(root, 'data01_sess2.npy')),\n",
    "        labels=np.load(os.path.join(root, 'labels01_sess2.npy'))\n",
    "    )\n",
    "]"
   ]
  },
  {
   "cell_type": "markdown",
   "metadata": {},
   "source": [
    "Now we set some parameters. Only the number of permutations and the number of pseudo-trials are free parameters. The number of conditions, sensors, time points and sessions are derived from the data (i.e., from the `sessions` variable above)."
   ]
  },
  {
   "cell_type": "code",
   "execution_count": null,
   "metadata": {},
   "outputs": [],
   "source": [
    "\n",
    "n_sessions = len(sessions)"
   ]
  },
  {
   "cell_type": "markdown",
   "metadata": {},
   "source": [
    "We define three classifiers that will be compared: Support Vector Machine, Gaussian Naive Bayes and the [Weighted Robust Distance](https://github.com/m-guggenmos/weird). We provide the code for Linear Discriminant Analysis only in comments, as it is quite slow in this scikit-learn Python implementation."
   ]
  },
  {
   "cell_type": "code",
   "execution_count": null,
   "metadata": {},
   "outputs": [],
   "source": [
    "\n",
    "gnb = GaussianNB()\n",
    "weird = WeiRD()\n",
    "# lda = LDA(sigma=np.eye(n_sensors))  # passing identitity covariance matrix to LDA, since data is pre-whitened"
   ]
  },
  {
   "cell_type": "markdown",
   "metadata": {},
   "source": [
    "We choose our partitioning scheme, here `ShuffleBinLeaveOneOut`. This class will provide the trial-to-pseudo-trial assignments for each permutation. We'll define the class object already at this point:"
   ]
  },
  {
   "cell_type": "code",
   "execution_count": null,
   "metadata": {},
   "outputs": [],
   "source": [
    "# Choose data partitioning scheme\n"
   ]
  },
  {
   "cell_type": "markdown",
   "metadata": {},
   "source": [
    "The analytic logic is contained in a nested for loop, with loops for the number of sessions, number of permutations, number of timepoints, number of conditions, and number of conditions again. Overall, the logic contains 4 crucial steps:\n",
    "1. Compute pseudo-trials for the training and test data\n",
    "2. Whiten the training data (here using the Epoch method, which is recommended in our manuscript)\n",
    "3. Fit the classifier to the training data\n",
    "4. Compute classification accuracy on test data"
   ]
  },
  {
   "cell_type": "code",
   "execution_count": null,
   "metadata": {},
   "outputs": [],
   "source": [
    "# pre-load mechanism, for convenience\n",
    "preload_result = True # for recomputing the decoding analyses, set to False\n",
    "if preload_result:\n",
    "    result = np.load(os.path.join(root, 'result_decoding.npy'))\n",
    "else:\n",
    "    result = np.full((n_sessions, n_perm, n_conditions, n_conditions, n_time), np.nan,\n",
    "                     dtype={'names': ['svm', 'gnb', 'weird', 'lda'], 'formats': 4*['f8']})\n",
    "\n",
    "    for s, session in enumerate(sessions):\n",
    "\n",
    "        print('Session %g / %g' % (s + 1, n_sessions))\n",
    "\n",
    "        X = session['data']\n",
    "        y = session['labels']\n",
    "\n",
    "        cv = CV(y, n_iter=n_perm, n_pseudo=n_pseudo)\n",
    "\n",
    "        for f, (train_indices, test_indices) in enumerate(cv.split(X)):\n",
    "            print('\\tPermutation %g / %g' % (f + 1, n_perm))\n",
    "\n",
    "            # 1. Compute pseudo-trials for training and test\n",
    "            Xpseudo_train = np.full((len(train_indices), n_sensors, n_time), np.nan)\n",
    "            Xpseudo_test = np.full((len(test_indices), n_sensors, n_time), np.nan)\n",
    "            for i, ind in enumerate(train_indices):\n",
    "                Xpseudo_train[i, :, :] = np.mean(X[ind, :, :], axis=0)\n",
    "            for i, ind in enumerate(test_indices):\n",
    "                Xpseudo_test[i, :, :] = np.mean(X[ind, :, :], axis=0)\n",
    "\n",
    "\n",
    "            # 2. Whitening using the Epoch method\n",
    "            sigma_conditions = cv.labels_pseudo_train[0, :, n_pseudo-1:].flatten()\n",
    "            sigma_ = np.empty((n_conditions, n_sensors, n_sensors))\n",
    "            for c in range(n_conditions):\n",
    "                # compute sigma for each time point, then average across time\n",
    "                sigma_[c] = np.mean([_cov(Xpseudo_train[sigma_conditions==c, :, t], shrinkage='auto')\n",
    "                                     for t in range(n_time)], axis=0)\n",
    "            sigma = sigma_.mean(axis=0)  # average across conditions\n",
    "            sigma_inv = scipy.linalg.fractional_matrix_power(sigma, -0.5)\n",
    "            Xpseudo_train = (Xpseudo_train.swapaxes(1, 2) @ sigma_inv).swapaxes(1, 2)\n",
    "            Xpseudo_test = (Xpseudo_test.swapaxes(1, 2) @ sigma_inv).swapaxes(1, 2)\n",
    "\n",
    "            for t in range(n_time):\n",
    "                for c1 in range(n_conditions-1):\n",
    "                    for c2 in range(min(c1 + 1, n_conditions-1), n_conditions):\n",
    "                            # 3. Fit the classifier using training data\n",
    "                            data_train = Xpseudo_train[cv.ind_pseudo_train[c1, c2], :, t]\n",
    "                            svm.fit(data_train, cv.labels_pseudo_train[c1, c2])                            \n",
    "                            gnb.fit(data_train, cv.labels_pseudo_train[c1, c2])\n",
    "                            weird.fit(data_train, cv.labels_pseudo_train[c1, c2])\n",
    "                            # lda.fit(data_train, cv.labels_pseudo_train[c1, c2])\n",
    "\n",
    "                            # 4. Compute and store classification accuracies\n",
    "                            data_test = Xpseudo_test[cv.ind_pseudo_test[c1, c2], :, t]\n",
    "                            result['svm'][s, f, c1, c2, t] = np.mean(svm.predict(data_test) == cv.labels_pseudo_test[c1, c2]) - 0.5                            \n",
    "                            result['gnb'][s, f, c1, c2, t] = np.mean(gnb.predict(data_test) == cv.labels_pseudo_test[c1, c2]) - 0.5\n",
    "                            result['weird'][s, f, c1, c2, t] = np.mean(weird.predict(data_test) == cv.labels_pseudo_test[c1, c2]) - 0.5\n",
    "                            # result['lda'][s, f, c1, c2, t] = np.mean(lda.predict(data_test) == cv.labels_pseudo_test[c1, c2]) - 0.5\n",
    "    # average across permutations\n",
    "    result_ = np.full((n_sessions, n_conditions, n_conditions, n_time), np.nan,\n",
    "                      dtype={'names': ['svm', 'gnb', 'weird', 'lda'], 'formats': 4*['f8']})    \n",
    "    result_['svm'] = np.nanmean(result['svm'], axis=1)\n",
    "    result_['gnb'] = np.nanmean(result['gnb'], axis=1)\n",
    "    result_['weird'] = np.nanmean(result['weird'], axis=1)\n",
    "    # result_['lda'] = np.nanmean(result['lda'], axis=1)\n",
    "    result = result_\n",
    "    np.save(os.path.join(root, 'result_decoding.npy'), result)"
   ]
  },
  {
   "cell_type": "code",
   "execution_count": null,
   "metadata": {},
   "outputs": [],
   "source": [
    "import matplotlib.pyplot as plt\n",
    "%matplotlib inline"
   ]
  },
  {
   "cell_type": "markdown",
   "metadata": {},
   "source": [
    "Now we plot the average classification accuracy time course by collapsing across sessions and conditions:"
   ]
  },
  {
   "cell_type": "code",
   "execution_count": null,
   "metadata": {},
   "outputs": [],
   "source": [
    "plt.plot(np.arange(-100, 1001, 10), 100*np.nanmean(result['svm'], axis=(0, 1, 2))+50, label='SVM')\n",
    "plt.plot(np.arange(-100, 1001, 10), 100*np.nanmean(result['gnb'], axis=(0, 1, 2))+50, label='GNB')\n",
    "plt.plot(np.arange(-100, 1001, 10), 100*np.nanmean(result['weird'], axis=(0, 1, 2))+50, label='WeiRD')\n",
    "if 'lda' in result.dtype.names:\n",
    "    plt.plot(np.arange(-100, 1001, 10), 100*np.nanmean(result['lda'], axis=(0, 1, 2))+50, label='LDA')\n",
    "plt.plot([-100, 1000], [50, 50], 'k-')\n",
    "plt.xlim((-100, 1000))\n",
    "plt.xlabel('Time [ms]', fontsize=15)\n",
    "plt.ylabel('Classification accuracy', fontsize=15)\n",
    "plt.legend()"
   ]
  },
  {
   "cell_type": "markdown",
   "metadata": {},
   "source": [
    "# Correlations"
   ]
  },
  {
   "cell_type": "markdown",
   "metadata": {},
   "source": [
    "## Corellation of new accuracies with old accuracies"
   ]
  },
  {
   "cell_type": "code",
   "execution_count": 20,
   "metadata": {},
   "outputs": [
    {
     "name": "stderr",
     "output_type": "stream",
     "text": [
      "C:\\Users\\danne\\Anaconda3\\envs\\eeg_analysis\\lib\\site-packages\\ipykernel_launcher.py:15: RuntimeWarning: Mean of empty slice\n",
      "  from ipykernel import kernelapp as app\n"
     ]
    },
    {
     "data": {
      "text/plain": [
       "(-0.05965992795586425, 0.036813566889765156)"
      ]
     },
     "execution_count": 20,
     "metadata": {},
     "output_type": "execute_result"
    }
   ],
   "source": [
    "import numpy as np\n",
    "import pandas as pd\n",
    "from scipy.spatial.distance import squareform, pdist\n",
    "from scipy.stats import pearsonr\n",
    "%run general_tools.ipynb\n",
    "%run EEG_auxiliary_module.ipynb\n",
    "\n",
    "infolder, outfolder = find_folder()\n",
    "data = load_pkl(outfolder, 'svm_prc_accuracy.pkl')\n",
    "data_old = np.squeeze(np.array(data))\n",
    "data_old = squareform(data_old[:50,:50])\n",
    "\n",
    "loaded = np.load('E:\\\\Ilya_study\\\\Confusion matrices\\\\combined.npz')\n",
    "temp = loaded['results']\n",
    "temp = np.nanmean(temp, axis=(0,1))\n",
    "data_new = np.squeeze(squareform(squareform(temp, checks=False)))\n",
    "data_new = squareform(data_new[:50,:50])\n",
    "\n",
    "out = pearsonr(data_old,data_new)\n",
    "out"
   ]
  },
  {
   "cell_type": "markdown",
   "metadata": {},
   "source": [
    "## Correlation of new accuracies with theoeretical observer"
   ]
  },
  {
   "cell_type": "code",
   "execution_count": 22,
   "metadata": {},
   "outputs": [
    {
     "name": "stderr",
     "output_type": "stream",
     "text": [
      "C:\\Users\\danne\\Anaconda3\\envs\\eeg_analysis\\lib\\site-packages\\ipykernel_launcher.py:15: RuntimeWarning: Mean of empty slice\n",
      "  from ipykernel import kernelapp as app\n"
     ]
    },
    {
     "data": {
      "text/plain": [
       "(0.02759494449790384, 0.3345343810704185)"
      ]
     },
     "execution_count": 22,
     "metadata": {},
     "output_type": "execute_result"
    }
   ],
   "source": [
    "import numpy as np\n",
    "import pandas as pd\n",
    "from scipy.spatial.distance import squareform, pdist\n",
    "from scipy.stats import pearsonr\n",
    "%run general_tools.ipynb\n",
    "%run EEG_auxiliary_module.ipynb\n",
    "\n",
    "\n",
    "stims = pd.read_csv('C:\\\\Users\\\\danne\\\\Dropbox\\\\Ilya_study\\\\Stimuli\\\\stims.csv')\n",
    "descr = pd.read_csv('C:\\\\Users\\\\danne\\\\Dropbox\\\\Ilya_study\\\\Analysis\\\\description.csv', index_col = 'Nums') # loading origin desription\n",
    "dist = pdist(stims.T)\n",
    "\n",
    "loaded = np.load('E:\\\\Ilya_study\\\\Confusion matrices\\\\combined.npz')\n",
    "temp = loaded['results']\n",
    "temp = np.nanmean(temp, axis=(0,1))\n",
    "data_new = np.squeeze(squareform(squareform(temp, checks=False)))\n",
    "data_new = squareform(data_new[:50,:50])\n",
    "\n",
    "out = pearsonr(dist,data_new)\n",
    "out\n"
   ]
  },
  {
   "cell_type": "markdown",
   "metadata": {},
   "source": [
    "## Correlation of old accuracies with TO"
   ]
  },
  {
   "cell_type": "code",
   "execution_count": 23,
   "metadata": {},
   "outputs": [
    {
     "data": {
      "text/plain": [
       "(-0.01450476444235551, 0.6120319194925341)"
      ]
     },
     "execution_count": 23,
     "metadata": {},
     "output_type": "execute_result"
    }
   ],
   "source": [
    "out = pearsonr(dist,data_old)\n",
    "out"
   ]
  },
  {
   "cell_type": "markdown",
   "metadata": {},
   "source": [
    "## Correlations between participants in new results"
   ]
  },
  {
   "cell_type": "code",
   "execution_count": 16,
   "metadata": {},
   "outputs": [
    {
     "data": {
      "text/plain": [
       "(50, 50)"
      ]
     },
     "execution_count": 16,
     "metadata": {},
     "output_type": "execute_result"
    }
   ],
   "source": [
    "dist.shape"
   ]
  },
  {
   "cell_type": "code",
   "execution_count": 5,
   "metadata": {},
   "outputs": [
    {
     "data": {
      "text/plain": [
       "'E:\\\\Ilya_study\\\\Analysis'"
      ]
     },
     "execution_count": 5,
     "metadata": {},
     "output_type": "execute_result"
    }
   ],
   "source": [
    "outfolder\n"
   ]
  },
  {
   "cell_type": "code",
   "execution_count": null,
   "metadata": {},
   "outputs": [],
   "source": [
    "# Imagery analysis"
   ]
  },
  {
   "cell_type": "code",
   "execution_count": null,
   "metadata": {},
   "outputs": [],
   "source": []
  }
 ],
 "metadata": {
  "kernelspec": {
   "display_name": "Python 3",
   "language": "python",
   "name": "python3"
  },
  "language_info": {
   "codemirror_mode": {
    "name": "ipython",
    "version": 3
   },
   "file_extension": ".py",
   "mimetype": "text/x-python",
   "name": "python",
   "nbconvert_exporter": "python",
   "pygments_lexer": "ipython3",
   "version": "3.7.5"
  }
 },
 "nbformat": 4,
 "nbformat_minor": 4
}
