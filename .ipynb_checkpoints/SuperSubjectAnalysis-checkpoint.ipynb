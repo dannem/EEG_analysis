{
 "cells": [
  {
   "cell_type": "code",
   "execution_count": 18,
   "metadata": {},
   "outputs": [],
   "source": [
    "#%run EEG_auxiliary_module.ipynb\n",
    "#%run general_tools.ipynb\n",
    "\n",
    "folder = 'C:/Users/danne/Documents/UofT/FamousRecon'\n",
    "import numpy as np\n",
    "import pandas as pd\n",
    "perc_ind=['02','03','04','05','06','07','08','09','10','11']\n",
    "imag_ind=['02','03','04','05','06','07','08','09','10','11']\n",
    "perc_file=[folder+'/conf_mat_perc_'+ i +'.csv' for i in perc_ind]\n",
    "imag_file=[folder+'/conf_IR_'+ i +'_imag.csv' for i in perc_ind]\n",
    "data = load_multiple_conf_mats(folder, perc_file, imag_file)\n",
    "perc_list = data[0]\n",
    "imag_list = data[1]"
   ]
  },
  {
   "cell_type": "code",
   "execution_count": 19,
   "metadata": {},
   "outputs": [
    {
     "name": "stdout",
     "output_type": "stream",
     "text": [
      "(10, 100, 100)\n",
      "(100, 100)\n"
     ]
    }
   ],
   "source": [
    "new_perc = [df.values for df in perc_list]\n",
    "a = np.array(new_perc)\n",
    "print(a.shape)\n",
    "a = np.mean(a, axis=0)\n",
    "print(a.shape)\n",
    "a = pd.DataFrame(a)\n",
    "perc_list=[]\n",
    "perc_list.append(a)"
   ]
  },
  {
   "cell_type": "code",
   "execution_count": 20,
   "metadata": {},
   "outputs": [
    {
     "name": "stdout",
     "output_type": "stream",
     "text": [
      "(10, 5, 5)\n",
      "(5, 5)\n"
     ]
    }
   ],
   "source": [
    "new_imag = [df.values for df in imag_list]\n",
    "a = np.array(new_imag)\n",
    "print(a.shape)\n",
    "a = np.mean(a, axis=0)\n",
    "print(a.shape)\n",
    "a = pd.DataFrame(a)\n",
    "imag_list=[]\n",
    "imag_list.append(a)"
   ]
  },
  {
   "cell_type": "code",
   "execution_count": 23,
   "metadata": {},
   "outputs": [
    {
     "name": "stdout",
     "output_type": "stream",
     "text": [
      "> <ipython-input-17-5eddb1f10dd5>(25)image_to_df()\n",
      "-> image_list.append(np.asarray(im))\n",
      "(Pdb) type(im)\n",
      "<class 'PIL.TiffImagePlugin.TiffImageFile'>\n",
      "(Pdb) a = np.array(im)\n",
      "folder = 'C:/Users/danne/Documents/UofT/FamousRecon/set3/east'\n",
      "extension = 'tif'\n",
      "(Pdb) a.shape\n",
      "folder = 'C:/Users/danne/Documents/UofT/FamousRecon/set3/east'\n",
      "extension = 'tif'\n",
      "(Pdb) uu = np.array(im)\n",
      "(Pdb) uu\n",
      "array([[[0, 0, 0],\n",
      "        [0, 0, 0],\n",
      "        [0, 0, 0],\n",
      "        ...,\n",
      "        [0, 0, 0],\n",
      "        [0, 0, 0],\n",
      "        [0, 0, 0]],\n",
      "\n",
      "       [[0, 0, 0],\n",
      "        [0, 0, 0],\n",
      "        [0, 0, 0],\n",
      "        ...,\n",
      "        [0, 0, 0],\n",
      "        [0, 0, 0],\n",
      "        [0, 0, 0]],\n",
      "\n",
      "       [[0, 0, 0],\n",
      "        [0, 0, 0],\n",
      "        [0, 0, 0],\n",
      "        ...,\n",
      "        [0, 0, 0],\n",
      "        [0, 0, 0],\n",
      "        [0, 0, 0]],\n",
      "\n",
      "       ...,\n",
      "\n",
      "       [[0, 0, 0],\n",
      "        [0, 0, 0],\n",
      "        [0, 0, 0],\n",
      "        ...,\n",
      "        [0, 0, 0],\n",
      "        [0, 0, 0],\n",
      "        [0, 0, 0]],\n",
      "\n",
      "       [[0, 0, 0],\n",
      "        [0, 0, 0],\n",
      "        [0, 0, 0],\n",
      "        ...,\n",
      "        [0, 0, 0],\n",
      "        [0, 0, 0],\n",
      "        [0, 0, 0]],\n",
      "\n",
      "       [[0, 0, 0],\n",
      "        [0, 0, 0],\n",
      "        [0, 0, 0],\n",
      "        ...,\n",
      "        [0, 0, 0],\n",
      "        [0, 0, 0],\n",
      "        [0, 0, 0]]], dtype=uint8)\n",
      "(Pdb) uu.shape\n",
      "(98, 75, 3)\n",
      "(Pdb) uu = np.asarray(im)\n",
      "(Pdb) uu.shape\n",
      "(98, 75, 3)\n",
      "(Pdb) continue\n",
      "> <ipython-input-17-5eddb1f10dd5>(24)image_to_df()\n",
      "-> pdb.set_trace()\n",
      "(Pdb) quit\n"
     ]
    },
    {
     "ename": "BdbQuit",
     "evalue": "",
     "output_type": "error",
     "traceback": [
      "\u001b[1;31m---------------------------------------------------------------------------\u001b[0m",
      "\u001b[1;31mBdbQuit\u001b[0m                                   Traceback (most recent call last)",
      "\u001b[1;32m<ipython-input-23-b3e801eb329f>\u001b[0m in \u001b[0;36m<module>\u001b[1;34m\u001b[0m\n\u001b[0;32m      2\u001b[0m \u001b[1;32mimport\u001b[0m \u001b[0mos\u001b[0m\u001b[1;33m\u001b[0m\u001b[1;33m\u001b[0m\u001b[0m\n\u001b[0;32m      3\u001b[0m \u001b[0mos\u001b[0m\u001b[1;33m.\u001b[0m\u001b[0mchdir\u001b[0m\u001b[1;33m(\u001b[0m\u001b[1;34m'C:\\\\Users\\\\danne\\\\Dropbox\\\\Programming\\\\Python\\\\Work\\\\EEG_analysis'\u001b[0m\u001b[1;33m)\u001b[0m\u001b[1;33m\u001b[0m\u001b[1;33m\u001b[0m\u001b[0m\n\u001b[1;32m----> 4\u001b[1;33m \u001b[0mmat\u001b[0m \u001b[1;33m=\u001b[0m \u001b[0minter_sub_corr\u001b[0m\u001b[1;33m(\u001b[0m\u001b[0mperc_list\u001b[0m\u001b[1;33m[\u001b[0m\u001b[1;36m0\u001b[0m\u001b[1;33m]\u001b[0m\u001b[1;33m,\u001b[0m \u001b[0mimag_list\u001b[0m\u001b[1;33m[\u001b[0m\u001b[1;36m0\u001b[0m\u001b[1;33m]\u001b[0m\u001b[1;33m)\u001b[0m\u001b[1;33m\u001b[0m\u001b[1;33m\u001b[0m\u001b[0m\n\u001b[0m",
      "\u001b[1;32m<ipython-input-17-5eddb1f10dd5>\u001b[0m in \u001b[0;36minter_sub_corr\u001b[1;34m(df_perc, df_imag)\u001b[0m\n\u001b[0;32m     51\u001b[0m     \u001b[0mfolder1\u001b[0m \u001b[1;33m=\u001b[0m \u001b[1;34m'C:/Users/danne/Documents/UofT/FamousRecon/set3/east'\u001b[0m\u001b[1;33m\u001b[0m\u001b[1;33m\u001b[0m\u001b[0m\n\u001b[0;32m     52\u001b[0m     \u001b[0mfolder2\u001b[0m \u001b[1;33m=\u001b[0m \u001b[1;34m'C:/Users/danne/Documents/UofT/FamousRecon/set3/west'\u001b[0m\u001b[1;33m\u001b[0m\u001b[1;33m\u001b[0m\u001b[0m\n\u001b[1;32m---> 53\u001b[1;33m     \u001b[0mdf\u001b[0m \u001b[1;33m=\u001b[0m \u001b[0mpd\u001b[0m\u001b[1;33m.\u001b[0m\u001b[0mconcat\u001b[0m\u001b[1;33m(\u001b[0m\u001b[1;33m(\u001b[0m\u001b[0mimage_to_df\u001b[0m\u001b[1;33m(\u001b[0m\u001b[0mfolder1\u001b[0m\u001b[1;33m)\u001b[0m\u001b[1;33m,\u001b[0m\u001b[0mimage_to_df\u001b[0m\u001b[1;33m(\u001b[0m\u001b[0mfolder2\u001b[0m\u001b[1;33m)\u001b[0m\u001b[1;33m)\u001b[0m\u001b[1;33m)\u001b[0m\u001b[1;33m\u001b[0m\u001b[1;33m\u001b[0m\u001b[0m\n\u001b[0m\u001b[0;32m     54\u001b[0m     \u001b[0mdf\u001b[0m\u001b[1;33m[\u001b[0m\u001b[1;34m'origin'\u001b[0m\u001b[1;33m]\u001b[0m \u001b[1;33m=\u001b[0m \u001b[1;33m[\u001b[0m\u001b[1;34m'east'\u001b[0m\u001b[1;33m]\u001b[0m\u001b[1;33m*\u001b[0m\u001b[1;36m25\u001b[0m\u001b[1;33m+\u001b[0m\u001b[1;33m[\u001b[0m\u001b[1;34m'west'\u001b[0m\u001b[1;33m]\u001b[0m\u001b[1;33m*\u001b[0m\u001b[1;36m25\u001b[0m\u001b[1;33m\u001b[0m\u001b[1;33m\u001b[0m\u001b[0m\n\u001b[0;32m     55\u001b[0m     \u001b[0mconf\u001b[0m \u001b[1;33m=\u001b[0m \u001b[0msquareform\u001b[0m\u001b[1;33m(\u001b[0m\u001b[0mpdist\u001b[0m\u001b[1;33m(\u001b[0m\u001b[0mdf\u001b[0m\u001b[1;33m.\u001b[0m\u001b[0miloc\u001b[0m\u001b[1;33m[\u001b[0m\u001b[1;33m:\u001b[0m\u001b[1;33m,\u001b[0m\u001b[1;33m:\u001b[0m\u001b[1;36m16428\u001b[0m\u001b[1;33m]\u001b[0m\u001b[1;33m,\u001b[0m\u001b[1;34m'euclidean'\u001b[0m\u001b[1;33m)\u001b[0m\u001b[1;33m)\u001b[0m\u001b[1;33m\u001b[0m\u001b[1;33m\u001b[0m\u001b[0m\n",
      "\u001b[1;32m<ipython-input-17-5eddb1f10dd5>\u001b[0m in \u001b[0;36mimage_to_df\u001b[1;34m(folder, extension)\u001b[0m\n\u001b[0;32m     22\u001b[0m     \u001b[1;32mfor\u001b[0m \u001b[0mfilename\u001b[0m \u001b[1;32min\u001b[0m \u001b[0mflList\u001b[0m\u001b[1;33m:\u001b[0m\u001b[1;33m\u001b[0m\u001b[1;33m\u001b[0m\u001b[0m\n\u001b[0;32m     23\u001b[0m         \u001b[0mim\u001b[0m \u001b[1;33m=\u001b[0m \u001b[0mImage\u001b[0m\u001b[1;33m.\u001b[0m\u001b[0mopen\u001b[0m\u001b[1;33m(\u001b[0m\u001b[0mfilename\u001b[0m\u001b[1;33m)\u001b[0m\u001b[1;33m\u001b[0m\u001b[1;33m\u001b[0m\u001b[0m\n\u001b[1;32m---> 24\u001b[1;33m         \u001b[0mpdb\u001b[0m\u001b[1;33m.\u001b[0m\u001b[0mset_trace\u001b[0m\u001b[1;33m(\u001b[0m\u001b[1;33m)\u001b[0m\u001b[1;33m\u001b[0m\u001b[1;33m\u001b[0m\u001b[0m\n\u001b[0m\u001b[0;32m     25\u001b[0m         \u001b[0mimage_list\u001b[0m\u001b[1;33m.\u001b[0m\u001b[0mappend\u001b[0m\u001b[1;33m(\u001b[0m\u001b[0mnp\u001b[0m\u001b[1;33m.\u001b[0m\u001b[0masarray\u001b[0m\u001b[1;33m(\u001b[0m\u001b[0mim\u001b[0m\u001b[1;33m)\u001b[0m\u001b[1;33m)\u001b[0m\u001b[1;33m\u001b[0m\u001b[1;33m\u001b[0m\u001b[0m\n\u001b[0;32m     26\u001b[0m     \u001b[0mdata\u001b[0m\u001b[1;33m=\u001b[0m\u001b[1;33m[\u001b[0m\u001b[1;33m]\u001b[0m\u001b[1;33m\u001b[0m\u001b[1;33m\u001b[0m\u001b[0m\n",
      "\u001b[1;32m<ipython-input-17-5eddb1f10dd5>\u001b[0m in \u001b[0;36mimage_to_df\u001b[1;34m(folder, extension)\u001b[0m\n\u001b[0;32m     22\u001b[0m     \u001b[1;32mfor\u001b[0m \u001b[0mfilename\u001b[0m \u001b[1;32min\u001b[0m \u001b[0mflList\u001b[0m\u001b[1;33m:\u001b[0m\u001b[1;33m\u001b[0m\u001b[1;33m\u001b[0m\u001b[0m\n\u001b[0;32m     23\u001b[0m         \u001b[0mim\u001b[0m \u001b[1;33m=\u001b[0m \u001b[0mImage\u001b[0m\u001b[1;33m.\u001b[0m\u001b[0mopen\u001b[0m\u001b[1;33m(\u001b[0m\u001b[0mfilename\u001b[0m\u001b[1;33m)\u001b[0m\u001b[1;33m\u001b[0m\u001b[1;33m\u001b[0m\u001b[0m\n\u001b[1;32m---> 24\u001b[1;33m         \u001b[0mpdb\u001b[0m\u001b[1;33m.\u001b[0m\u001b[0mset_trace\u001b[0m\u001b[1;33m(\u001b[0m\u001b[1;33m)\u001b[0m\u001b[1;33m\u001b[0m\u001b[1;33m\u001b[0m\u001b[0m\n\u001b[0m\u001b[0;32m     25\u001b[0m         \u001b[0mimage_list\u001b[0m\u001b[1;33m.\u001b[0m\u001b[0mappend\u001b[0m\u001b[1;33m(\u001b[0m\u001b[0mnp\u001b[0m\u001b[1;33m.\u001b[0m\u001b[0masarray\u001b[0m\u001b[1;33m(\u001b[0m\u001b[0mim\u001b[0m\u001b[1;33m)\u001b[0m\u001b[1;33m)\u001b[0m\u001b[1;33m\u001b[0m\u001b[1;33m\u001b[0m\u001b[0m\n\u001b[0;32m     26\u001b[0m     \u001b[0mdata\u001b[0m\u001b[1;33m=\u001b[0m\u001b[1;33m[\u001b[0m\u001b[1;33m]\u001b[0m\u001b[1;33m\u001b[0m\u001b[1;33m\u001b[0m\u001b[0m\n",
      "\u001b[1;32m~\\Anaconda3\\envs\\eeg_analysis\\lib\\bdb.py\u001b[0m in \u001b[0;36mtrace_dispatch\u001b[1;34m(self, frame, event, arg)\u001b[0m\n\u001b[0;32m     86\u001b[0m             \u001b[1;32mreturn\u001b[0m \u001b[1;31m# None\u001b[0m\u001b[1;33m\u001b[0m\u001b[1;33m\u001b[0m\u001b[0m\n\u001b[0;32m     87\u001b[0m         \u001b[1;32mif\u001b[0m \u001b[0mevent\u001b[0m \u001b[1;33m==\u001b[0m \u001b[1;34m'line'\u001b[0m\u001b[1;33m:\u001b[0m\u001b[1;33m\u001b[0m\u001b[1;33m\u001b[0m\u001b[0m\n\u001b[1;32m---> 88\u001b[1;33m             \u001b[1;32mreturn\u001b[0m \u001b[0mself\u001b[0m\u001b[1;33m.\u001b[0m\u001b[0mdispatch_line\u001b[0m\u001b[1;33m(\u001b[0m\u001b[0mframe\u001b[0m\u001b[1;33m)\u001b[0m\u001b[1;33m\u001b[0m\u001b[1;33m\u001b[0m\u001b[0m\n\u001b[0m\u001b[0;32m     89\u001b[0m         \u001b[1;32mif\u001b[0m \u001b[0mevent\u001b[0m \u001b[1;33m==\u001b[0m \u001b[1;34m'call'\u001b[0m\u001b[1;33m:\u001b[0m\u001b[1;33m\u001b[0m\u001b[1;33m\u001b[0m\u001b[0m\n\u001b[0;32m     90\u001b[0m             \u001b[1;32mreturn\u001b[0m \u001b[0mself\u001b[0m\u001b[1;33m.\u001b[0m\u001b[0mdispatch_call\u001b[0m\u001b[1;33m(\u001b[0m\u001b[0mframe\u001b[0m\u001b[1;33m,\u001b[0m \u001b[0marg\u001b[0m\u001b[1;33m)\u001b[0m\u001b[1;33m\u001b[0m\u001b[1;33m\u001b[0m\u001b[0m\n",
      "\u001b[1;32m~\\Anaconda3\\envs\\eeg_analysis\\lib\\bdb.py\u001b[0m in \u001b[0;36mdispatch_line\u001b[1;34m(self, frame)\u001b[0m\n\u001b[0;32m    111\u001b[0m         \u001b[1;32mif\u001b[0m \u001b[0mself\u001b[0m\u001b[1;33m.\u001b[0m\u001b[0mstop_here\u001b[0m\u001b[1;33m(\u001b[0m\u001b[0mframe\u001b[0m\u001b[1;33m)\u001b[0m \u001b[1;32mor\u001b[0m \u001b[0mself\u001b[0m\u001b[1;33m.\u001b[0m\u001b[0mbreak_here\u001b[0m\u001b[1;33m(\u001b[0m\u001b[0mframe\u001b[0m\u001b[1;33m)\u001b[0m\u001b[1;33m:\u001b[0m\u001b[1;33m\u001b[0m\u001b[1;33m\u001b[0m\u001b[0m\n\u001b[0;32m    112\u001b[0m             \u001b[0mself\u001b[0m\u001b[1;33m.\u001b[0m\u001b[0muser_line\u001b[0m\u001b[1;33m(\u001b[0m\u001b[0mframe\u001b[0m\u001b[1;33m)\u001b[0m\u001b[1;33m\u001b[0m\u001b[1;33m\u001b[0m\u001b[0m\n\u001b[1;32m--> 113\u001b[1;33m             \u001b[1;32mif\u001b[0m \u001b[0mself\u001b[0m\u001b[1;33m.\u001b[0m\u001b[0mquitting\u001b[0m\u001b[1;33m:\u001b[0m \u001b[1;32mraise\u001b[0m \u001b[0mBdbQuit\u001b[0m\u001b[1;33m\u001b[0m\u001b[1;33m\u001b[0m\u001b[0m\n\u001b[0m\u001b[0;32m    114\u001b[0m         \u001b[1;32mreturn\u001b[0m \u001b[0mself\u001b[0m\u001b[1;33m.\u001b[0m\u001b[0mtrace_dispatch\u001b[0m\u001b[1;33m\u001b[0m\u001b[1;33m\u001b[0m\u001b[0m\n\u001b[0;32m    115\u001b[0m \u001b[1;33m\u001b[0m\u001b[0m\n",
      "\u001b[1;31mBdbQuit\u001b[0m: "
     ]
    }
   ],
   "source": [
    "import pdb;\n",
    "import os\n",
    "os.chdir('C:\\\\Users\\\\danne\\\\Dropbox\\\\Programming\\\\Python\\\\Work\\\\EEG_analysis')\n",
    "mat = inter_sub_corr(perc_list[0], imag_list[0])"
   ]
  },
  {
   "cell_type": "code",
   "execution_count": null,
   "metadata": {},
   "outputs": [],
   "source": [
    "os.chdir('C:\\\\Users\\\\danne\\\\Dropbox\\\\Programming\\\\Python\\\\Work\\\\EEG_analysis')"
   ]
  },
  {
   "cell_type": "code",
   "execution_count": 17,
   "metadata": {},
   "outputs": [],
   "source": [
    "    '''Loads all images in the folder, removes backgrounds and returns a \n",
    "         pandas data frame with column 'names' as file names\n",
    "    Args: \n",
    "    :param folder: the folder with images\n",
    "    :param extension: image extension. Default - tif\n",
    "    '''\n",
    "    \n",
    "    import os\n",
    "    import glob\n",
    "    from PIL import Image\n",
    "    import numpy as np\n",
    "    import pandas as pd\n",
    "\n",
    "    cwd = os.getcwd()\n",
    "    # definig the folder\n",
    "    os.chdir(folder)\n",
    "    # loading images\n",
    "    image_list = []\n",
    "    flList=list(glob.glob('*.'+extension))\n",
    "    flList.sort()\n",
    "    for filename in flList: \n",
    "        im = Image.open(filename)\n",
    "        #pdb.set_trace()\n",
    "        image_list.append(np.asarray(im))\n",
    "    data=[]\n",
    "    pdb.set_trace()\n",
    "    [data.append(np.array(i).ravel()) for i in image_list]\n",
    "    data=np.array(data)\n",
    "    mask=np.sum(data,0)==0\n",
    "    data=data[:,np.logical_not(mask)]\n",
    "    feature_num=data.shape[1]\n",
    "    df=pd.DataFrame(data)\n",
    "    df['names']=flList\n",
    "    df.names = df.names.str[:-6]\n",
    "    os.chdir(cwd)\n",
    "    return df\n",
    "\n",
    "def inter_sub_corr(df_perc, df_imag):\n",
    "    from scipy.spatial.distance import pdist, squareform\n",
    "    %run general_tools.ipynb\n",
    "    \n",
    "    im_names = ['mcy','sgo','sjo','est','tsw']\n",
    "    corr_names = ['est','mcy','sjo','sgo','tsw']\n",
    "    pr_names = ['adi','ani','ama','ago','aza','ekl','evu','epo','eiv','ech','ian','jpi','kda',\n",
    "               'kgo','mbo','mbe','ofa','pan','pga','rga','siv','tar','tka','yst','ype','ase',\n",
    "               'aha','ake','cmo','eol','epa','ecl','ero','est','ewa','jla','jal','kpe','kkn',\n",
    "                'kst','mcy','ndo','npo','owi','pcr','rmc','rwi','sjo','sgo','tsw']\n",
    "    \n",
    "    # Theoretical observer:\n",
    "    folder1 = 'C:/Users/danne/Documents/UofT/FamousRecon/set3/east'\n",
    "    folder2 = 'C:/Users/danne/Documents/UofT/FamousRecon/set3/west'\n",
    "    df = pd.concat((image_to_df(folder1),image_to_df(folder2)))\n",
    "    df['origin'] = ['east']*25+['west']*25\n",
    "    conf = squareform(pdist(df.iloc[:,:16428],'euclidean'))\n",
    "    df_to = pd.DataFrame(conf, columns = pr_names, index = pr_names)\n",
    "    \n",
    "    df_perc.columns = [pr_names*2]\n",
    "    df_perc.index = [pr_names*2]\n",
    "    idx = pd.IndexSlice\n",
    "    df_perc_imag = df_perc.loc[idx[im_names], idx[im_names]]\n",
    "    df_imag = df_imag.reindex(corr_names)\n",
    "    df_imag = df_imag.transpose().reindex(corr_names).transpose()\n",
    "    df_to_imag = df_to.loc[idx[im_names], idx[im_names]]\n",
    "    df_to_imag = df_to_imag.reindex(corr_names)\n",
    "    df_to_imag = df_to_imag.transpose().reindex(corr_names).transpose()\n",
    "  \n",
    "    # compute correlations\n",
    "    up_corr = np.corrcoef(squareform(df_imag),squareform(df_perc_imag.iloc[:5,:5].values))\n",
    "    print(f'Correlation between upright percieved and imagary discrimination is {up_corr[1,0]:.2f}')\n",
    "    in_corr = np.corrcoef(squareform(df_imag),squareform(df_perc_imag.iloc[-5:,-5:].values))\n",
    "    print(f'Correlation between inverted percieved and imagary discriminations is {in_corr[1,0]:.2f}')\n",
    "\n",
    "    to_imag_corr = np.corrcoef(squareform(df_to_imag),squareform(df_imag.iloc[:5,:5].values))\n",
    "    print(f'Correlation between imagery and TO {to_imag_corr[1,0]:.2f}')\n",
    "\n",
    "\n",
    "    up_perc_to_corr = np.corrcoef(squareform(df_to.values),squareform(df_perc.iloc[:50,:50].values))\n",
    "    print(f'Correlation between upright percieved and TO discriminations is {up_perc_to_corr[1,0]:.2f}')\n",
    "    in_perc_to_corr = np.corrcoef(squareform(df_to.values),squareform(df_perc.iloc[50:100,50:100].values))\n",
    "    print(f'Correlation between inverted percieved and TO discriminations is {in_perc_to_corr[1,0]:.2f}')\n",
    "    up_perc_to_corr_unf = np.corrcoef(squareform(df_to.values[:25,:25]),squareform(df_perc.iloc[:25,:25].values))\n",
    "    print(f'Correlation between unfamiliar upright percieved and TO discriminations is {up_perc_to_corr_unf[1,0]:.2f}')\n",
    "    up_perc_to_corr_fam = np.corrcoef(squareform(df_to.values[25:50,25:50]),squareform(df_perc.iloc[25:50,25:50].values))\n",
    "    print(f'Correlation between famous upright percieved and TO discriminations is {up_perc_to_corr_fam[1,0]:.2f}')\n",
    "\n",
    "    in_perc_to_corr_unf = np.corrcoef(squareform(df_to.values[:25,:25]),squareform(df_perc.iloc[50:75,50:75].values))\n",
    "    print(f'Correlation between unfamiliar inverted percieved and TO discriminations is {in_perc_to_corr_unf[1,0]:.2f}')\n",
    "    in_perc_to_corr_fam = np.corrcoef(squareform(df_to.values[25:50,25:50]),squareform(df_perc.iloc[75:100,75:100].values))\n",
    "    print(f'Correlation between famous inverted percieved and TO discriminations is {in_perc_to_corr_fam[1,0]:.2f}')\n",
    "    return df_perc_imag\n",
    "def load_multiple_conf_mats(folder, perc_file, imag_file):\n",
    "    perc_list=[]\n",
    "    imag_list=[]\n",
    "    for i,j in zip(perc_file,imag_file):\n",
    "        perc_list.append(pd.read_csv(i,header=None))\n",
    "        imag_list.append(pd.read_csv(j, index_col = 0))\n",
    "    return(perc_list,imag_list)"
   ]
  },
  {
   "cell_type": "code",
   "execution_count": 1,
   "metadata": {},
   "outputs": [
    {
     "ename": "ModuleNotFoundError",
     "evalue": "No module named 'pillow'",
     "output_type": "error",
     "traceback": [
      "\u001b[1;31m---------------------------------------------------------------------------\u001b[0m",
      "\u001b[1;31mModuleNotFoundError\u001b[0m                       Traceback (most recent call last)",
      "\u001b[1;32m<ipython-input-1-e32915389b2c>\u001b[0m in \u001b[0;36m<module>\u001b[1;34m\u001b[0m\n\u001b[1;32m----> 1\u001b[1;33m \u001b[1;32mimport\u001b[0m \u001b[0mpillow\u001b[0m\u001b[1;33m\u001b[0m\u001b[1;33m\u001b[0m\u001b[0m\n\u001b[0m",
      "\u001b[1;31mModuleNotFoundError\u001b[0m: No module named 'pillow'"
     ]
    }
   ],
   "source": [
    "import pillow"
   ]
  },
  {
   "cell_type": "code",
   "execution_count": 6,
   "metadata": {},
   "outputs": [
    {
     "ename": "ModuleNotFoundError",
     "evalue": "No module named 'pillow'",
     "output_type": "error",
     "traceback": [
      "\u001b[1;31m---------------------------------------------------------------------------\u001b[0m",
      "\u001b[1;31mModuleNotFoundError\u001b[0m                       Traceback (most recent call last)",
      "\u001b[1;32m<ipython-input-6-e32915389b2c>\u001b[0m in \u001b[0;36m<module>\u001b[1;34m\u001b[0m\n\u001b[1;32m----> 1\u001b[1;33m \u001b[1;32mimport\u001b[0m \u001b[0mpillow\u001b[0m\u001b[1;33m\u001b[0m\u001b[1;33m\u001b[0m\u001b[0m\n\u001b[0m",
      "\u001b[1;31mModuleNotFoundError\u001b[0m: No module named 'pillow'"
     ]
    }
   ],
   "source": [
    "import pillow"
   ]
  },
  {
   "cell_type": "code",
   "execution_count": 22,
   "metadata": {},
   "outputs": [
    {
     "data": {
      "text/plain": [
       "numpy.ndarray"
      ]
     },
     "execution_count": 22,
     "metadata": {},
     "output_type": "execute_result"
    }
   ],
   "source": [
    "import numpy as np\n",
    "from PIL import Image\n",
    "im = Image.open('C:/Users/danne/Documents/UofT/FamousRecon/set3/east/agni diko 4.tif')\n",
    "a=np.array(im)\n",
    "type(a)"
   ]
  },
  {
   "cell_type": "code",
   "execution_count": null,
   "metadata": {},
   "outputs": [],
   "source": []
  }
 ],
 "metadata": {
  "kernelspec": {
   "display_name": "Python 3",
   "language": "python",
   "name": "python3"
  },
  "language_info": {
   "codemirror_mode": {
    "name": "ipython",
    "version": 3
   },
   "file_extension": ".py",
   "mimetype": "text/x-python",
   "name": "python",
   "nbconvert_exporter": "python",
   "pygments_lexer": "ipython3",
   "version": "3.7.5"
  }
 },
 "nbformat": 4,
 "nbformat_minor": 2
}
