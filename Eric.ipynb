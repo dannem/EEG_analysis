{
 "cells": [
  {
   "cell_type": "code",
   "execution_count": 33,
   "metadata": {},
   "outputs": [],
   "source": [
    "import numpy as np\n",
    "from scipy.io import loadmat\n",
    "import os\n",
    "import scipy\n",
    "from sklearn.discriminant_analysis import _cov\n",
    "from sklearn.svm import SVC\n",
    "from sklearn.naive_bayes import GaussianNB\n",
    "import discr_inverted as di"
   ]
  },
  {
   "cell_type": "code",
   "execution_count": 34,
   "metadata": {},
   "outputs": [],
   "source": [
    "\n",
    "file = 'C:\\\\Users\\\\danne\\\\Documents\\\\UofT\\\\Eric\\\\s01_cr.mat'\n",
    "annots = loadmat(file)\n",
    "data_cr = annots['mat_cr']\n",
    "lbls_cr = annots['lbls_cr']\n",
    "file = 'C:\\\\Users\\\\danne\\\\Documents\\\\UofT\\\\Eric\\\\s01_hit.mat'\n",
    "annots = loadmat(file)\n",
    "data_hit = annots['mat_hit']\n",
    "lbls_hit = annots['lbls_hit']"
   ]
  },
  {
   "cell_type": "code",
   "execution_count": 8,
   "metadata": {},
   "outputs": [
    {
     "data": {
      "text/plain": [
       "dtype('<f8')"
      ]
     },
     "execution_count": 8,
     "metadata": {},
     "output_type": "execute_result"
    }
   ],
   "source": [
    "data_cr[:,:,1].dtype"
   ]
  },
  {
   "cell_type": "code",
   "execution_count": 11,
   "metadata": {},
   "outputs": [
    {
     "data": {
      "text/plain": [
       "array([[ 2.36459216,  2.05525583,  1.98892347,  3.3126951 ,  2.06129508,\n",
       "         4.18472622,  5.4665759 ,  4.08502673,  2.60481374,  1.78339754],\n",
       "       [-0.58605786, -6.40673121,  0.96764969,  1.32164307, -0.38687716,\n",
       "         1.63959729,  1.64271531, -0.13023909,  0.15840538,  0.37057366],\n",
       "       [-3.85238956, -9.18742719, -1.23501245, -5.07052672, -2.37274125,\n",
       "        -0.95538032, -1.79766196,  1.43017471, -0.15996197, -0.81145067],\n",
       "       [-0.72055083,  0.13436532, -0.65881815, -0.3172713 , -1.32634309,\n",
       "        -1.54644487, -1.07712082, -0.26233789, -0.7091426 , -1.34215494],\n",
       "       [-2.14299647, -2.13109849, -2.28747191, -1.44246804, -2.76526569,\n",
       "        -4.29254368, -4.60984803, -4.85816482, -3.40633849, -2.18747075],\n",
       "       [ 1.32161092, -1.54403533,  1.63702524,  2.42975724,  0.73551974,\n",
       "         1.72117956,  1.25620364,  2.504259  ,  1.06587824,  0.80311262],\n",
       "       [ 0.20965545,  0.31109262,  3.06678657, -1.74791409, -0.48839341,\n",
       "        -0.692412  ,  0.04452148, -0.24298623, -0.4471604 , -0.60209205],\n",
       "       [ 0.91859455, -4.86650016,  4.09908699,  2.54350182,  1.3141678 ,\n",
       "         2.19146529,  1.53282913,  1.32760645,  1.46900025,  1.77394956],\n",
       "       [ 3.0392222 ,  3.011995  ,  1.31528111,  5.95471175,  1.89442432,\n",
       "        -0.55953552, -1.5564615 , -3.42921586, -1.16585267,  0.69040316],\n",
       "       [-2.5980172 , -3.77822782, -2.61085444, -2.04577047, -1.1916089 ,\n",
       "        -1.6193684 , -2.45961956,  1.58627015,  0.60795876, -0.27378135]])"
      ]
     },
     "execution_count": 11,
     "metadata": {},
     "output_type": "execute_result"
    }
   ],
   "source": [
    "data_cr[:10,:10,0]"
   ]
  },
  {
   "cell_type": "code",
   "execution_count": 14,
   "metadata": {},
   "outputs": [
    {
     "data": {
      "text/plain": [
       "dtype('float64')"
      ]
     },
     "execution_count": 14,
     "metadata": {},
     "output_type": "execute_result"
    }
   ],
   "source": [
    "temp = _cov(data_cr[:,:,0], shrinkage='auto')\n",
    "temp = scipy.linalg.fractional_matrix_power(temp, -0.5)\n",
    "temp.dtype"
   ]
  },
  {
   "cell_type": "code",
   "execution_count": 39,
   "metadata": {},
   "outputs": [
    {
     "name": "stdout",
     "output_type": "stream",
     "text": [
      "0\n",
      "1\n",
      "2\n",
      "3\n",
      "4\n",
      "5\n",
      "6\n",
      "7\n",
      "8\n",
      "9\n",
      "10\n",
      "11\n",
      "12\n",
      "13\n",
      "14\n",
      "15\n",
      "16\n",
      "17\n",
      "18\n",
      "19\n",
      "20\n",
      "21\n",
      "22\n",
      "23\n",
      "24\n",
      "25\n",
      "26\n",
      "27\n",
      "28\n",
      "29\n",
      "30\n",
      "31\n",
      "32\n",
      "33\n",
      "34\n",
      "35\n",
      "36\n",
      "37\n",
      "38\n",
      "39\n"
     ]
    }
   ],
   "source": [
    "svm = SVC(kernel='linear')\n",
    "CV = di.ShuffleBinLeaveOneOut\n",
    "out = list()\n",
    "\n",
    "X = data_cr.copy()\n",
    "y = lbls_cr.copy()-1\n",
    "\n",
    "n_conditions = len(np.unique(y))\n",
    "n_sensors = X.shape[1]\n",
    "n_time = X.shape[2]\n",
    "n_perm = 40\n",
    "n_pseudo = 10\n",
    "cv = CV(y, n_iter=n_perm, n_pseudo=n_pseudo)\n",
    "result = np.full((n_perm, n_conditions, n_conditions), np.nan)\n",
    "for f, (train_indices, test_indices) in enumerate(cv.split(X)):\n",
    "    print(f)\n",
    "    Xpseudo_train = np.full((len(train_indices), n_sensors, n_time), np.nan)\n",
    "    Xpseudo_test = np.full((len(test_indices), n_sensors, n_time), np.nan)\n",
    "    for i, ind in enumerate(train_indices):\n",
    "        Xpseudo_train[i, :, :] = np.mean(X[ind, :, :], axis=0)\n",
    "    for i, ind in enumerate(test_indices):\n",
    "        Xpseudo_test[i, :, :] = np.mean(X[ind, :, :], axis=0)\n",
    "\n",
    "\n",
    "\n",
    "    sigma_conditions = cv.labels_pseudo_train[0, :, n_pseudo-1:].flatten()\n",
    "    sigma_ = np.empty((n_conditions, n_sensors, n_sensors))\n",
    "    for k,c in enumerate(np.unique(y)):\n",
    "                # compute sigma for each time point, then average across time\n",
    "        a = [_cov(Xpseudo_train[sigma_conditions==c, :, t], shrinkage='auto') for t in range(n_time)]\n",
    "        sigma_[k] = np.mean(a, axis=0)\n",
    "    sigma = sigma_.mean(axis=0)  # average across conditions\n",
    "    sigma_inv = scipy.linalg.fractional_matrix_power(sigma, -0.5)\n",
    "    Xpseudo_train = (Xpseudo_train.swapaxes(1, 2) @ sigma_inv).swapaxes(1, 2)\n",
    "    Xpseudo_test = (Xpseudo_test.swapaxes(1, 2) @ sigma_inv).swapaxes(1, 2)\n",
    "\n",
    "    for c1 in range(n_conditions-1):\n",
    "        for c2 in range(min(c1 + 1, n_conditions-1), n_conditions):\n",
    "                        # 3. Fit the classifier using training data\n",
    "            data_train = Xpseudo_train[cv.ind_pseudo_train[c1, c2], :, :]\n",
    "            data_train = np.reshape(data_train, (data_train.shape[0], data_train.shape[1]*data_train.shape[2]), order='F')\n",
    "            svm.fit(data_train, cv.labels_pseudo_train[c1, c2])                            \n",
    "\n",
    "                        # 4. Compute and store classification accuracies\n",
    "            data_test = Xpseudo_test[cv.ind_pseudo_test[c1, c2], :, :]\n",
    "            data_test = np.reshape(data_test, (data_test.shape[0], data_test.shape[1]*data_test.shape[2]), order='F')\n",
    "            result[f, c1, c2] = np.mean(svm.predict(data_test) == cv.labels_pseudo_test[c1, c2]) - 0.5                            \n"
   ]
  },
  {
   "cell_type": "code",
   "execution_count": 25,
   "metadata": {},
   "outputs": [],
   "source": [
    "a = np.array(a)"
   ]
  },
  {
   "cell_type": "code",
   "execution_count": 30,
   "metadata": {},
   "outputs": [],
   "source": [
    "b = np.mean(a, axis=0)"
   ]
  },
  {
   "cell_type": "code",
   "execution_count": 31,
   "metadata": {},
   "outputs": [
    {
     "data": {
      "text/plain": [
       "dtype('float64')"
      ]
     },
     "execution_count": 31,
     "metadata": {},
     "output_type": "execute_result"
    }
   ],
   "source": [
    "b.dtype"
   ]
  },
  {
   "cell_type": "code",
   "execution_count": 40,
   "metadata": {},
   "outputs": [
    {
     "data": {
      "text/plain": [
       "(40, 3, 3)"
      ]
     },
     "execution_count": 40,
     "metadata": {},
     "output_type": "execute_result"
    }
   ],
   "source": [
    "result.shape"
   ]
  },
  {
   "cell_type": "code",
   "execution_count": 41,
   "metadata": {},
   "outputs": [
    {
     "name": "stderr",
     "output_type": "stream",
     "text": [
      "C:\\Users\\danne\\Anaconda3\\envs\\eeg_analysis\\lib\\site-packages\\ipykernel_launcher.py:1: RuntimeWarning: Mean of empty slice\n",
      "  \"\"\"Entry point for launching an IPython kernel.\n"
     ]
    }
   ],
   "source": [
    "a = np.nanmean(result,axis=0)"
   ]
  },
  {
   "cell_type": "code",
   "execution_count": 42,
   "metadata": {},
   "outputs": [
    {
     "data": {
      "text/plain": [
       "array([[  nan, 0.025, 0.1  ],\n",
       "       [  nan,   nan, 0.175],\n",
       "       [  nan,   nan,   nan]])"
      ]
     },
     "execution_count": 42,
     "metadata": {},
     "output_type": "execute_result"
    }
   ],
   "source": [
    "a"
   ]
  },
  {
   "cell_type": "code",
   "execution_count": null,
   "metadata": {},
   "outputs": [],
   "source": []
  }
 ],
 "metadata": {
  "kernelspec": {
   "display_name": "Python 3",
   "language": "python",
   "name": "python3"
  },
  "language_info": {
   "codemirror_mode": {
    "name": "ipython",
    "version": 3
   },
   "file_extension": ".py",
   "mimetype": "text/x-python",
   "name": "python",
   "nbconvert_exporter": "python",
   "pygments_lexer": "ipython3",
   "version": "3.7.5"
  }
 },
 "nbformat": 4,
 "nbformat_minor": 4
}
