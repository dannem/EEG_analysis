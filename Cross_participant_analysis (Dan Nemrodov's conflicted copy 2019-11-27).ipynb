{
 "cells": [
  {
   "cell_type": "code",
   "execution_count": 1,
   "metadata": {},
   "outputs": [],
   "source": [
    "%reset -f\n",
    "%matplotlib qt\n",
    "import sys\n",
    "import mne\n",
    "import matplotlib.pyplot as plt\n",
    "import numpy as np\n",
    "import os.path as op\n",
    "import os\n",
    "import warnings\n",
    "warnings.filterwarnings('ignore')\n",
    "import pandas as pd\n",
    "\n",
    "pick_ch=['P9','P7','P5','P3','PO7','PO3','O1','P10','P8','P6','P4','PO8','PO4','O2']\n",
    "#%load_ext autoreload\n",
    "#%autoreload 2\n",
    "%run EEG_auxiliary_module.ipynb\n",
    "%run general_tools.ipynb\n",
    "mne.__version__\n",
    "mne.set_log_level(\"WARNING\")\n",
    "\n",
    "infolder, outfolder = find_folder()\n",
    "subs=['02','03','04','05','06','07','08','09']"
   ]
  },
  {
   "cell_type": "code",
   "execution_count": 2,
   "metadata": {},
   "outputs": [
    {
     "name": "stdout",
     "output_type": "stream",
     "text": [
      "Starting averaging\n",
      "No zscoring performed\n",
      "Starting averaging\n",
      "No zscoring performed\n",
      "Starting averaging\n",
      "No zscoring performed\n",
      "Starting averaging\n",
      "No zscoring performed\n",
      "Starting averaging\n",
      "No zscoring performed\n",
      "Starting averaging\n",
      "No zscoring performed\n",
      "Starting averaging\n",
      "No zscoring performed\n"
     ]
    }
   ],
   "source": [
    "%run EEG_auxiliary_module.ipynb\n",
    "data=list()\n",
    "labels = list()\n",
    "trials=4\n",
    "for j in subs:\n",
    "    fname = op.join(outfolder,'S'+j+'_perc-epo.fif')\n",
    "    epochs = mne.read_epochs(fname)\n",
    "    #trials = len(epochs['101']) # average all trials.\n",
    "    blocks=len(epochs['101'])/trials\n",
    "    epochs = block_average(epochs, trials, blocks, kind='perc')\n",
    "    X, Y = convert_epochs_to_2D_array(epochs)\n",
    "    data.append(X)\n",
    "    labels.append(Y)"
   ]
  },
  {
   "cell_type": "code",
   "execution_count": null,
   "metadata": {},
   "outputs": [
    {
     "name": "stdout",
     "output_type": "stream",
     "text": [
      "Progress: [#-------------------] 3.5%\n",
      "(129, 150)\n"
     ]
    }
   ],
   "source": [
    "import itertools\n",
    "import numpy as np\n",
    "from sklearn.preprocessing import scale\n",
    "from sklearn.svm import LinearSVC\n",
    "from sklearn.model_selection import cross_val_score\n",
    "\n",
    "combs = list(itertools.combinations(np.unique(labels[0]), 2))\n",
    "svm = LinearSVC(C=1)\n",
    "score = list()\n",
    "for i,j in enumerate(subs):\n",
    "    print(j)\n",
    "    this_X = data[i]\n",
    "    this_Y = labels[i]\n",
    "    data_temp = data.copy()\n",
    "    data_temp.pop(i)\n",
    "    other_X = np.concatenate(data_temp)\n",
    "    labels_temp = labels.copy()\n",
    "    labels_temp.pop(i)\n",
    "    other_Y = np.concatenate(labels_temp)\n",
    "    this_X_shape = this_X.shape\n",
    "    X_temp = np.vstack((this_X,other_X))\n",
    "    X_temp = scale(X_temp)\n",
    "    this_X = X_temp[:this_X_shape[0],:]\n",
    "    other_X = X_temp[this_X_shape[0]:,:]\n",
    "    comb_score = list()\n",
    "    for idx,comb in enumerate(combs):\n",
    "        print(comb)\n",
    "        this_X_temp_a = this_X[this_Y==comb[0],:]\n",
    "        this_X_temp_b = this_X[this_Y==comb[1],:]\n",
    "        this_Y_temp_a = this_Y[this_Y==comb[0]]\n",
    "        this_Y_temp_b = this_Y[this_Y==comb[1]]\n",
    "        other_X_temp = other_X[np.logical_or(other_Y==comb[0], other_Y==comb[1]),:]\n",
    "        other_Y_temp = other_Y[np.logical_or(other_Y==comb[0], other_Y==comb[1])]\n",
    "        cv_score=list()\n",
    "        for m in range(this_X_temp_a.shape[0]):\n",
    "            data_train_a = this_X_temp_a\n",
    "            data_train_a = np.delete(data_train_a, m, axis=0)\n",
    "            data_train_b = this_X_temp_b\n",
    "            data_train_b = np.delete(data_train_b, m, axis=0)\n",
    "            data_train = np.vstack((data_train_a,data_train_b,other_X_temp))\n",
    "            targets_train_a = this_Y_temp_a\n",
    "            targets_train_a = np.delete(targets_train_a, m)\n",
    "            targets_train_b = this_Y_temp_b\n",
    "            targets_train_b = np.delete(targets_train_b, m)\n",
    "            targets_train = np.concatenate([targets_train_a,targets_train_b,other_Y_temp])\n",
    "            data_test_a = this_X_temp_a[m,:]\n",
    "            data_test_b = this_X_temp_b[m,:]\n",
    "            data_test = np.vstack((data_test_a,data_test_b))\n",
    "            targets_test=comb\n",
    "            svm.fit(data_train, targets_train)\n",
    "            cv_score.append(svm.score(data_test, targets_test))\n",
    "            update_progress((i*idx+m) / (len(combs)*blocks*len(subs)))\n",
    "        comb_score.append(cv_score)\n",
    "    score.append(comb_score)"
   ]
  },
  {
   "cell_type": "code",
   "execution_count": null,
   "metadata": {},
   "outputs": [],
   "source": []
  },
  {
   "cell_type": "code",
   "execution_count": null,
   "metadata": {},
   "outputs": [],
   "source": []
  }
 ],
 "metadata": {
  "kernelspec": {
   "display_name": "Python 3",
   "language": "python",
   "name": "python3"
  },
  "language_info": {
   "codemirror_mode": {
    "name": "ipython",
    "version": 3
   },
   "file_extension": ".py",
   "mimetype": "text/x-python",
   "name": "python",
   "nbconvert_exporter": "python",
   "pygments_lexer": "ipython3",
   "version": "3.7.5"
  }
 },
 "nbformat": 4,
 "nbformat_minor": 2
}
