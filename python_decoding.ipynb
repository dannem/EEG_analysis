{
 "cells": [
  {
   "cell_type": "code",
   "execution_count": null,
   "metadata": {},
   "outputs": [],
   "source": [
    "infolder, outfolder = find_folder()\n",
    "trigs=list(range(101, 151))+list(range(201, 251))\n",
    "#trigs=list(range(101, 151))\n",
    "event_ids={str(x):x for x in trigs}\n",
    "im_times=(-0.1,1)\n",
    "filt=(0.03,200)\n",
    "subs = [2,3,4,5,6,7,8,9,10,11,12,13,14,15,16,17,18]\n",
    "np.random.seed(10)\n",
    "n_perm = 20  # number of permutations\n",
    "n_pseudo = 11  # number of pseudo-trials\n",
    "results = compute_combined(folder, subs, filt, im_times, event_ids)\n",
    "    \n",
    "    "
   ]
  },
  {
   "cell_type": "code",
   "execution_count": null,
   "metadata": {},
   "outputs": [],
   "source": [
    "%run general_tools.ipynb\n",
    "import\n",
    "infolder, outfolder = find_folder()\n",
    "trigs=list(range(101, 151))+list(range(201, 251))\n",
    "#trigs=list(range(101, 151))\n",
    "event_ids={str(x):x for x in trigs}\n",
    "im_times=(-0.1,1)\n",
    "filt=(0.03,200)\n",
    "subs = [2,3,4,5,6,7,8,9,10,11,12,13,14,15,16,17,18]\n",
    "subs = [18]\n",
    "np.random.seed(10)\n",
    "n_perm = 20  # number of permutations\n",
    "n_pseudo = 11  # number of pseudo-trials\n",
    "results = compute_time(infolder, subs, filt, im_times, event_ids)"
   ]
  },
  {
   "cell_type": "code",
   "execution_count": 14,
   "metadata": {},
   "outputs": [
    {
     "name": "stdout",
     "output_type": "stream",
     "text": [
      "Progress: [--------------------] 0.0%\n",
      "Extracting EDF parameters from E:\\Ilya_study\\Data\\IR_02_S01.bdf...\n",
      "BDF file detected\n",
      "Setting channel info structure...\n",
      "Creating raw.info structure...\n",
      "Reading 0 ... 3385855  =      0.000 ...  6612.998 secs...\n",
      "Filtering raw data in 1 contiguous segment\n",
      "Setting up band-pass filter from 0.03 - 2e+02 Hz\n",
      "\n",
      "IIR filter parameters\n",
      "---------------------\n",
      "Butterworth bandpass zero-phase (two-pass forward and reverse) non-causal filter:\n",
      "- Filter order 16 (effective, after forward-backward)\n",
      "- Cutoffs at 0.03, 200.00 Hz: -6.02, -6.02 dB\n",
      "\n",
      "2500 matching events found\n",
      "Applying baseline correction (mode: mean)\n",
      "Not setting metadata\n",
      "0 projection items activated\n",
      "Loading data for 2500 events and 564 original time points ...\n",
      "0 bad epochs dropped\n",
      "Extracting EDF parameters from E:\\Ilya_study\\Data\\IR_02_S02.bdf...\n",
      "BDF file detected\n",
      "Setting channel info structure...\n",
      "Creating raw.info structure...\n",
      "Reading 0 ... 2043391  =      0.000 ...  3990.998 secs...\n",
      "Filtering raw data in 1 contiguous segment\n",
      "Setting up band-pass filter from 0.03 - 2e+02 Hz\n",
      "\n",
      "IIR filter parameters\n",
      "---------------------\n",
      "Butterworth bandpass zero-phase (two-pass forward and reverse) non-causal filter:\n",
      "- Filter order 16 (effective, after forward-backward)\n",
      "- Cutoffs at 0.03, 200.00 Hz: -6.02, -6.02 dB\n",
      "\n",
      "1519 matching events found\n",
      "Applying baseline correction (mode: mean)\n",
      "Not setting metadata\n",
      "0 projection items activated\n",
      "Loading data for 1519 events and 564 original time points ...\n",
      "0 bad epochs dropped\n",
      "3819 matching events found\n",
      "Applying baseline correction (mode: mean)\n",
      "Not setting metadata\n",
      "0 bad epochs dropped\n",
      "Dropped 219 epochs\n",
      "\tPermutation 1 / 20\n",
      "\tPermutation 2 / 20\n",
      "\tPermutation 3 / 20\n",
      "\tPermutation 4 / 20\n",
      "\tPermutation 5 / 20\n",
      "\tPermutation 6 / 20\n",
      "\tPermutation 7 / 20\n",
      "\tPermutation 8 / 20\n",
      "\tPermutation 9 / 20\n",
      "\tPermutation 10 / 20\n",
      "\tPermutation 11 / 20\n",
      "\tPermutation 12 / 20\n",
      "\tPermutation 13 / 20\n",
      "\tPermutation 14 / 20\n",
      "\tPermutation 15 / 20\n",
      "\tPermutation 16 / 20\n",
      "\tPermutation 17 / 20\n",
      "\tPermutation 18 / 20\n",
      "\tPermutation 19 / 20\n",
      "\tPermutation 20 / 20\n"
     ]
    },
    {
     "name": "stderr",
     "output_type": "stream",
     "text": [
      "C:\\Users\\danne\\Anaconda3\\lib\\site-packages\\ipykernel_launcher.py:86: RuntimeWarning: Mean of empty slice\n"
     ]
    }
   ],
   "source": [
    "%run general_tools.ipynb\n",
    "%run EEG_auxiliary_module.ipynb\n",
    "%run make_features.ipynb\n",
    "from pathlib import Path, PurePath\n",
    "import numpy as np\n",
    "import mne\n",
    "from mne.time_frequency import tfr_morlet, psd_multitaper, psd_welch\n",
    "import os\n",
    "import scipy\n",
    "from sklearn.discriminant_analysis import _cov\n",
    "from sklearn.svm import SVC\n",
    "from sklearn.naive_bayes import GaussianNB\n",
    "np.random.seed(10)\n",
    "\n",
    "pick_ch=['P9','P7','P5','P3','PO7','PO3','O1','P10','P8','P6','P4','PO8','PO4','O2','POz','Pz']\n",
    "#pick_ch=['PO8','PO7']\n",
    "\n",
    "infolder, outfolder = find_folder()\n",
    "trigs=list(range(101, 151))+list(range(201, 251))\n",
    "#trigs=list(range(101, 151))\n",
    "event_ids={str(x):x for x in trigs}\n",
    "im_times=(-0.1,1)\n",
    "filt=(0.03,200)\n",
    "subs = [3,4,5,6,7,8,9,10,11,12,13,14,15,16,17,18]\n",
    "subs = [2]\n",
    "\n",
    "n_perm = 20  # number of permutations\n",
    "n_pseudo = 11  # number of pseudo-trials\n",
    "\n",
    "svm = SVC(kernel='linear')\n",
    "CV = ShuffleBinLeaveOneOut\n",
    "\n",
    "out = list()\n",
    "for i,sub in enumerate(subs):\n",
    "    update_progress(i/len(subs))\n",
    "    fnames = [infolder+'\\\\IR_'+str(sub).zfill(2)+'_S01.bdf',infolder+'\\\\IR_'+str(sub).zfill(2)+'_S02.bdf']\n",
    "    epochs = load_to_epochs_perc(fnames, event_ids, im_times, filt)\n",
    "    epochs.drop_channels(['Status']).equalize_event_counts(event_ids=event_ids, method='mintime')\n",
    "    X = epochs.get_data()\n",
    "    y = epochs.events[:, 2]\n",
    "    y = [a-101 if a<200 else a-151 for a in y]\n",
    "    n_conditions = len(np.unique(y))\n",
    "    n_sensors = X.shape[1]\n",
    "    n_time = X.shape[2]\n",
    "    cv = CV(y, n_iter=n_perm, n_pseudo=n_pseudo)\n",
    "    result = np.full((n_perm, n_conditions, n_conditions), np.nan)\n",
    "    for f, (train_indices, test_indices) in enumerate(cv.split(X)):\n",
    "                print('\\tPermutation %g / %g' % (f + 1, n_perm))\n",
    "\n",
    "                # 1. Compute pseudo-trials for training and test\n",
    "                Xpseudo_train = np.full((len(train_indices), n_sensors, n_time), np.nan)\n",
    "                Xpseudo_test = np.full((len(test_indices), n_sensors, n_time), np.nan)\n",
    "                for i, ind in enumerate(train_indices):\n",
    "                    Xpseudo_train[i, :, :] = np.mean(X[ind, :, :], axis=0)\n",
    "                for i, ind in enumerate(test_indices):\n",
    "                    Xpseudo_test[i, :, :] = np.mean(X[ind, :, :], axis=0)\n",
    "\n",
    "\n",
    "                # 2. Whitening using the Epoch method\n",
    "                sigma_conditions = cv.labels_pseudo_train[0, :, n_pseudo-1:].flatten()\n",
    "                sigma_ = np.empty((n_conditions, n_sensors, n_sensors))\n",
    "                for k,c in enumerate(np.unique(y)):\n",
    "                    # compute sigma for each time point, then average across time\n",
    "                    sigma_[k] = np.mean([_cov(Xpseudo_train[sigma_conditions==c, :, t], shrinkage='auto')\n",
    "                                         for t in range(n_time)], axis=0)\n",
    "                sigma = sigma_.mean(axis=0)  # average across conditions\n",
    "                sigma_inv = scipy.linalg.fractional_matrix_power(sigma, -0.5)\n",
    "                Xpseudo_train = (Xpseudo_train.swapaxes(1, 2) @ sigma_inv).swapaxes(1, 2)\n",
    "                Xpseudo_test = (Xpseudo_test.swapaxes(1, 2) @ sigma_inv).swapaxes(1, 2)\n",
    "\n",
    "                for c1 in range(n_conditions-1):\n",
    "                    for c2 in range(min(c1 + 1, n_conditions-1), n_conditions):\n",
    "                            # 3. Fit the classifier using training data\n",
    "                            data_train = Xpseudo_train[cv.ind_pseudo_train[c1, c2], :, :]\n",
    "                            data_train = np.reshape(data_train, (data_train.shape[0], data_train.shape[1]*data_train.shape[2]), order='F')\n",
    "                            svm.fit(data_train, cv.labels_pseudo_train[c1, c2])                            \n",
    "\n",
    "                            # 4. Compute and store classification accuracies\n",
    "                            data_test = Xpseudo_test[cv.ind_pseudo_test[c1, c2], :, :]\n",
    "                            data_test = np.reshape(data_test, (data_test.shape[0], data_test.shape[1]*data_test.shape[2]), order='F')\n",
    "                            result[f, c1, c2] = np.mean(svm.predict(data_test) == cv.labels_pseudo_test[c1, c2]) - 0.5                            \n",
    "\n",
    "        # average across permutations\n",
    "    out.append(result)\n",
    "    from scipy.spatial.distance import squareform\n",
    "    a = np.nanmean(result,axis=0)[:50,:50]\n",
    "    np.nanmean(a)"
   ]
  },
  {
   "cell_type": "code",
   "execution_count": null,
   "metadata": {},
   "outputs": [],
   "source": []
  },
  {
   "cell_type": "code",
   "execution_count": 27,
   "metadata": {},
   "outputs": [],
   "source": [
    "np.savez_compressed('acc_perc_all',results=out)"
   ]
  },
  {
   "cell_type": "code",
   "execution_count": 25,
   "metadata": {},
   "outputs": [
    {
     "data": {
      "text/plain": [
       "17"
      ]
     },
     "execution_count": 25,
     "metadata": {},
     "output_type": "execute_result"
    }
   ],
   "source": [
    "out = list()\n",
    "out.append(result)\n",
    "for i in results:\n",
    "    out.append(i)\n",
    "len(out)"
   ]
  },
  {
   "cell_type": "code",
   "execution_count": 16,
   "metadata": {},
   "outputs": [],
   "source": [
    "import numpy as np\n",
    "loaded = np.load('perc_all_discr.npz')\n",
    "results = loaded['out']"
   ]
  },
  {
   "cell_type": "code",
   "execution_count": 33,
   "metadata": {},
   "outputs": [
    {
     "name": "stdout",
     "output_type": "stream",
     "text": [
      "0.10266666666666667\n",
      "0.030333333333333334\n",
      "0.0915\n",
      "0.23883333333333334\n",
      "0.13691666666666666\n",
      "0.2703333333333333\n",
      "0.22833333333333333\n",
      "0.103\n",
      "0.05433333333333333\n",
      "0.34758333333333336\n",
      "0.21691666666666667\n",
      "0.19275\n",
      "0.24458333333333335\n",
      "0.37983333333333336\n",
      "0.2743333333333333\n",
      "0.33316666666666667\n",
      "0.21558333333333332\n"
     ]
    }
   ],
   "source": [
    "for i in out:\n",
    "    print(np.nanmean(i[:,:25,:25]))"
   ]
  },
  {
   "cell_type": "code",
   "execution_count": 66,
   "metadata": {},
   "outputs": [
    {
     "name": "stdout",
     "output_type": "stream",
     "text": [
      "TRAIN: [ 5  7  9 11] TEST: [0 2]\n",
      "y_TRAIN: ['r2_A2' 'r2_B2' 'r3_A2' 'r3_B2'] y_TEST: ['r1_A1' 'r1_B1']\n",
      "TRAIN: [ 1  3  9 11] TEST: [4 6]\n",
      "y_TRAIN: ['r1_A2' 'r1_B2' 'r3_A2' 'r3_B2'] y_TEST: ['r2_A1' 'r2_B1']\n",
      "TRAIN: [1 3 5 7] TEST: [ 8 10]\n",
      "y_TRAIN: ['r1_A2' 'r1_B2' 'r2_A2' 'r2_B2'] y_TEST: ['r3_A1' 'r3_B1']\n",
      "TRAIN: [ 4  6  8 10] TEST: [1 3]\n",
      "y_TRAIN: ['r2_A1' 'r2_B1' 'r3_A1' 'r3_B1'] y_TEST: ['r1_A2' 'r1_B2']\n",
      "TRAIN: [ 0  2  8 10] TEST: [5 7]\n",
      "y_TRAIN: ['r1_A1' 'r1_B1' 'r3_A1' 'r3_B1'] y_TEST: ['r2_A2' 'r2_B2']\n",
      "TRAIN: [0 2 4 6] TEST: [ 9 11]\n",
      "y_TRAIN: ['r1_A1' 'r1_B1' 'r2_A1' 'r2_B1'] y_TEST: ['r3_A2' 'r3_B2']\n",
      "TRAIN: [ 5  6  9 10] TEST: [0 3]\n",
      "y_TRAIN: ['r2_A2' 'r2_B1' 'r3_A2' 'r3_B1'] y_TEST: ['r1_A1' 'r1_B2']\n",
      "TRAIN: [ 1  2  9 10] TEST: [4 7]\n",
      "y_TRAIN: ['r1_A2' 'r1_B1' 'r3_A2' 'r3_B1'] y_TEST: ['r2_A1' 'r2_B2']\n",
      "TRAIN: [1 2 5 6] TEST: [ 8 11]\n",
      "y_TRAIN: ['r1_A2' 'r1_B1' 'r2_A2' 'r2_B1'] y_TEST: ['r3_A1' 'r3_B2']\n",
      "TRAIN: [ 4  7  8 11] TEST: [1 2]\n",
      "y_TRAIN: ['r2_A1' 'r2_B2' 'r3_A1' 'r3_B2'] y_TEST: ['r1_A2' 'r1_B1']\n",
      "TRAIN: [ 0  3  8 11] TEST: [5 6]\n",
      "y_TRAIN: ['r1_A1' 'r1_B2' 'r3_A1' 'r3_B2'] y_TEST: ['r2_A2' 'r2_B1']\n",
      "TRAIN: [0 3 4 7] TEST: [ 9 10]\n",
      "y_TRAIN: ['r1_A1' 'r1_B2' 'r2_A1' 'r2_B2'] y_TEST: ['r3_A2' 'r3_B1']\n",
      "Extracting EDF parameters from E:\\Ilya_study\\Data\\IR_06_S01.bdf...\n",
      "BDF file detected\n",
      "Setting channel info structure...\n",
      "Creating raw.info structure...\n",
      "Reading 0 ... 3386879  =      0.000 ...  6614.998 secs...\n",
      "Filtering raw data in 1 contiguous segment\n",
      "Setting up band-pass filter from 0.03 - 2e+02 Hz\n",
      "\n",
      "IIR filter parameters\n",
      "---------------------\n",
      "Butterworth bandpass zero-phase (two-pass forward and reverse) non-causal filter:\n",
      "- Filter order 16 (effective, after forward-backward)\n",
      "- Cutoffs at 0.03, 200.00 Hz: -6.02, -6.02 dB\n",
      "\n",
      "2500 matching events found\n",
      "Applying baseline correction (mode: mean)\n",
      "Not setting metadata\n",
      "0 projection items activated\n",
      "Loading data for 2500 events and 564 original time points ...\n",
      "0 bad epochs dropped\n",
      "Extracting EDF parameters from E:\\Ilya_study\\Data\\IR_06_S02.bdf...\n",
      "BDF file detected\n",
      "Setting channel info structure...\n",
      "Creating raw.info structure...\n",
      "Reading 0 ... 3386879  =      0.000 ...  6614.998 secs...\n",
      "Filtering raw data in 1 contiguous segment\n",
      "Setting up band-pass filter from 0.03 - 2e+02 Hz\n",
      "\n",
      "IIR filter parameters\n",
      "---------------------\n",
      "Butterworth bandpass zero-phase (two-pass forward and reverse) non-causal filter:\n",
      "- Filter order 16 (effective, after forward-backward)\n",
      "- Cutoffs at 0.03, 200.00 Hz: -6.02, -6.02 dB\n",
      "\n",
      "2500 matching events found\n",
      "Applying baseline correction (mode: mean)\n",
      "Not setting metadata\n",
      "0 projection items activated\n",
      "Loading data for 2500 events and 564 original time points ...\n",
      "0 bad epochs dropped\n",
      "4800 matching events found\n",
      "Applying baseline correction (mode: mean)\n",
      "Not setting metadata\n",
      "0 bad epochs dropped\n",
      "Dropped 0 epochs\n"
     ]
    }
   ],
   "source": [
    "%run general_tools.ipynb\n",
    "%run EEG_auxiliary_module.ipynb\n",
    "%run make_features.ipynb\n",
    "from pathlib import Path, PurePath\n",
    "import numpy as np\n",
    "import mne\n",
    "from mne.time_frequency import tfr_morlet, psd_multitaper, psd_welch\n",
    "np.random.seed(10)\n",
    "\n",
    "pick_ch=['P9','P7','P5','P3','PO7','PO3','O1','P10','P8','P6','P4','PO8','PO4','O2','POz','Pz']\n",
    "#pick_ch=['PO8','PO7']\n",
    "\n",
    "infolder, outfolder = find_folder()\n",
    "trigs=list(range(101, 151))+list(range(201, 251))\n",
    "#trigs=list(range(101, 151))\n",
    "event_ids={str(x):x for x in trigs}\n",
    "im_times=(-0.1,1)\n",
    "filt=(0.03,200)\n",
    "fnames = ['E:\\\\Ilya_study\\\\Data\\\\IR_06_S01.bdf','E:\\\\Ilya_study\\\\Data\\\\IR_06_S02.bdf']\n",
    "epochs = load_to_epochs_perc(fnames, event_ids, im_times, filt)\n",
    "epochs.drop_channels(['Status']).equalize_event_counts(event_ids=event_ids, method='mintime')\n",
    "#epochs = block_average(epochs,4,12, kind='perc',zscore = False)\n",
    "pick_ch = mne.pick_channels(epochs.ch_names, pick_ch)\n",
    "#data = epochs.get_data()[:, pick_ch, :]\n",
    "X = epochs.get_data()\n",
    "y = epochs.events[:, 2]\n",
    "y = [a-101 if a<200 else a-151 for a in y]"
   ]
  },
  {
   "cell_type": "code",
   "execution_count": 61,
   "metadata": {},
   "outputs": [
    {
     "data": {
      "text/plain": [
       "array([ 0,  1,  2,  3,  4,  5,  6,  7,  8,  9, 10, 11, 12, 13, 14, 15, 16,\n",
       "       17, 18, 19, 20, 21, 22, 23, 24, 25, 26, 27, 28, 29, 30, 31, 32, 33,\n",
       "       34, 35, 36, 37, 38, 39, 40, 41, 42, 43, 44, 45, 46, 47, 48, 49, 50,\n",
       "       51, 52, 53, 54, 55, 56, 57, 58, 59, 60, 61, 62, 63, 64, 65, 66, 67,\n",
       "       68, 69, 70, 71, 72, 73, 74, 75, 76, 77, 78, 79, 80, 81, 82, 83, 84,\n",
       "       85, 86, 87, 88, 89, 90, 91, 92, 93, 94, 95, 96, 97, 98, 99])"
      ]
     },
     "execution_count": 61,
     "metadata": {},
     "output_type": "execute_result"
    }
   ],
   "source": [
    "np.unique(y)"
   ]
  },
  {
   "cell_type": "code",
   "execution_count": 67,
   "metadata": {},
   "outputs": [],
   "source": [
    "import os\n",
    "\n",
    "import numpy as np\n",
    "import scipy\n",
    "from sklearn.discriminant_analysis import _cov\n",
    "from sklearn.svm import SVC\n",
    "from sklearn.naive_bayes import GaussianNB\n",
    "\n",
    "# Parameters\n",
    "n_perm = 20  # number of permutations\n",
    "n_pseudo = 12  # number of pseudo-trials\n",
    "n_conditions = len(np.unique(y))\n",
    "n_sensors = X.shape[1]\n",
    "n_time = X.shape[2]"
   ]
  },
  {
   "cell_type": "code",
   "execution_count": 68,
   "metadata": {},
   "outputs": [],
   "source": [
    "svm = SVC(kernel='linear')\n",
    "CV = ShuffleBinLeaveOneOut\n",
    "cv = CV(y, n_iter=n_perm, n_pseudo=n_pseudo)\n",
    "result = np.full((n_perm, n_conditions, n_conditions, n_time), np.nan)"
   ]
  },
  {
   "cell_type": "code",
   "execution_count": null,
   "metadata": {},
   "outputs": [],
   "source": [
    "for f, (train_indices, test_indices) in enumerate(cv.split(X)):\n",
    "            print('\\tPermutation %g / %g' % (f + 1, n_perm))\n",
    "\n",
    "            # 1. Compute pseudo-trials for training and test\n",
    "            Xpseudo_train = np.full((len(train_indices), n_sensors, n_time), np.nan)\n",
    "            Xpseudo_test = np.full((len(test_indices), n_sensors, n_time), np.nan)\n",
    "            for i, ind in enumerate(train_indices):\n",
    "                Xpseudo_train[i, :, :] = np.mean(X[ind, :, :], axis=0)\n",
    "            for i, ind in enumerate(test_indices):\n",
    "                Xpseudo_test[i, :, :] = np.mean(X[ind, :, :], axis=0)\n",
    "\n",
    "\n",
    "            # 2. Whitening using the Epoch method\n",
    "            sigma_conditions = cv.labels_pseudo_train[0, :, n_pseudo-1:].flatten()\n",
    "            sigma_ = np.empty((n_conditions, n_sensors, n_sensors))\n",
    "            for k,c in enumerate(np.unique(y)):\n",
    "                # compute sigma for each time point, then average across time\n",
    "                sigma_[k] = np.mean([_cov(Xpseudo_train[sigma_conditions==c, :, t], shrinkage='auto')\n",
    "                                     for t in range(n_time)], axis=0)\n",
    "            sigma = sigma_.mean(axis=0)  # average across conditions\n",
    "            sigma_inv = scipy.linalg.fractional_matrix_power(sigma, -0.5)\n",
    "            Xpseudo_train = (Xpseudo_train.swapaxes(1, 2) @ sigma_inv).swapaxes(1, 2)\n",
    "            Xpseudo_test = (Xpseudo_test.swapaxes(1, 2) @ sigma_inv).swapaxes(1, 2)\n",
    "\n",
    "            for t in range(n_time):\n",
    "                for c1 in range(n_conditions-1):\n",
    "                    for c2 in range(min(c1 + 1, n_conditions-1), n_conditions):\n",
    "                            # 3. Fit the classifier using training data\n",
    "                            data_train = Xpseudo_train[cv.ind_pseudo_train[c1, c2], :, t]\n",
    "                            svm.fit(data_train, cv.labels_pseudo_train[c1, c2])                            \n",
    "\n",
    "                            # 4. Compute and store classification accuracies\n",
    "                            data_test = Xpseudo_test[cv.ind_pseudo_test[c1, c2], :, t]\n",
    "                            result[f, c1, c2, t] = np.mean(svm.predict(data_test) == cv.labels_pseudo_test[c1, c2]) - 0.5                            \n",
    "                           \n",
    "    # average across permutations\n",
    "\n",
    "       "
   ]
  },
  {
   "cell_type": "code",
   "execution_count": 70,
   "metadata": {},
   "outputs": [],
   "source": [
    "np.save( 'cum_accuracy_06.npy', result)"
   ]
  },
  {
   "cell_type": "code",
   "execution_count": 80,
   "metadata": {},
   "outputs": [
    {
     "data": {
      "text/plain": [
       "(20, 100, 100, 564)"
      ]
     },
     "execution_count": 80,
     "metadata": {},
     "output_type": "execute_result"
    }
   ],
   "source": [
    "temp = np.load('C:\\\\Users\\\\danne\\\\Documents\\Codes\\\\EEG_analysis\\\\result_decoding_time.npy')\n",
    "temp.shape"
   ]
  },
  {
   "cell_type": "code",
   "execution_count": 87,
   "metadata": {},
   "outputs": [
    {
     "data": {
      "image/png": "[encoded data removed]",
      "text/plain": [
       "<Figure size 432x288 with 1 Axes>"
      ]
     },
     "metadata": {
      "needs_background": "light"
     },
     "output_type": "display_data"
    }
   ],
   "source": [
    "temp = np.load('C:\\\\Users\\\\danne\\\\Documents\\Codes\\\\EEG_analysis\\\\result_decoding_time.npy')\n",
    "temp1 = np.nanmean(temp[:,:25,:25,:], axis=(0,1,2))\n",
    "temp2 = np.nanmean(temp[:,25:50,25:50,:], axis=(0,1,2))\n",
    "temp.shape\n",
    "import matplotlib.pyplot as plt\n",
    "%matplotlib inline\n",
    "plt.plot(np.linspace(-100,1000,564),temp1, label='unfamiliar')\n",
    "plt.plot(np.linspace(-100,1000,564),temp2, label='famous')\n",
    "plt.legend()\n",
    "plt.savefig('sub6.png')"
   ]
  },
  {
   "cell_type": "code",
   "execution_count": 69,
   "metadata": {},
   "outputs": [
    {
     "name": "stdout",
     "output_type": "stream",
     "text": [
      "\tPermutation 1 / 20\n",
      "\tPermutation 2 / 20\n",
      "\tPermutation 3 / 20\n",
      "\tPermutation 4 / 20\n",
      "\tPermutation 5 / 20\n",
      "\tPermutation 6 / 20\n",
      "\tPermutation 7 / 20\n",
      "\tPermutation 8 / 20\n",
      "\tPermutation 9 / 20\n",
      "\tPermutation 10 / 20\n",
      "\tPermutation 11 / 20\n",
      "\tPermutation 12 / 20\n",
      "\tPermutation 13 / 20\n",
      "\tPermutation 14 / 20\n",
      "\tPermutation 15 / 20\n",
      "\tPermutation 16 / 20\n",
      "\tPermutation 17 / 20\n",
      "\tPermutation 18 / 20\n",
      "\tPermutation 19 / 20\n",
      "\tPermutation 20 / 20\n"
     ]
    },
    {
     "name": "stderr",
     "output_type": "stream",
     "text": [
      "C:\\Users\\danne\\Anaconda3\\envs\\eeg_analysis\\lib\\site-packages\\ipykernel_launcher.py:40: RuntimeWarning: Mean of empty slice\n"
     ]
    },
    {
     "data": {
      "text/plain": [
       "0.17004081632653056"
      ]
     },
     "execution_count": 69,
     "metadata": {},
     "output_type": "execute_result"
    }
   ],
   "source": [
    "result = np.full((n_perm, n_conditions, n_conditions), np.nan)\n",
    "for f, (train_indices, test_indices) in enumerate(cv.split(X)):\n",
    "            print('\\tPermutation %g / %g' % (f + 1, n_perm))\n",
    "\n",
    "            # 1. Compute pseudo-trials for training and test\n",
    "            Xpseudo_train = np.full((len(train_indices), n_sensors, n_time), np.nan)\n",
    "            Xpseudo_test = np.full((len(test_indices), n_sensors, n_time), np.nan)\n",
    "            for i, ind in enumerate(train_indices):\n",
    "                Xpseudo_train[i, :, :] = np.mean(X[ind, :, :], axis=0)\n",
    "            for i, ind in enumerate(test_indices):\n",
    "                Xpseudo_test[i, :, :] = np.mean(X[ind, :, :], axis=0)\n",
    "\n",
    "\n",
    "            # 2. Whitening using the Epoch method\n",
    "            sigma_conditions = cv.labels_pseudo_train[0, :, n_pseudo-1:].flatten()\n",
    "            sigma_ = np.empty((n_conditions, n_sensors, n_sensors))\n",
    "            for k,c in enumerate(np.unique(y)):\n",
    "                # compute sigma for each time point, then average across time\n",
    "                sigma_[k] = np.mean([_cov(Xpseudo_train[sigma_conditions==c, :, t], shrinkage='auto')\n",
    "                                     for t in range(n_time)], axis=0)\n",
    "            sigma = sigma_.mean(axis=0)  # average across conditions\n",
    "            sigma_inv = scipy.linalg.fractional_matrix_power(sigma, -0.5)\n",
    "            Xpseudo_train = (Xpseudo_train.swapaxes(1, 2) @ sigma_inv).swapaxes(1, 2)\n",
    "            Xpseudo_test = (Xpseudo_test.swapaxes(1, 2) @ sigma_inv).swapaxes(1, 2)\n",
    "\n",
    "            for c1 in range(n_conditions-1):\n",
    "                for c2 in range(min(c1 + 1, n_conditions-1), n_conditions):\n",
    "                        # 3. Fit the classifier using training data\n",
    "                        data_train = Xpseudo_train[cv.ind_pseudo_train[c1, c2], :, :]\n",
    "                        data_train = np.reshape(data_train, (data_train.shape[0], data_train.shape[1]*data_train.shape[2]), order='F')\n",
    "                        svm.fit(data_train, cv.labels_pseudo_train[c1, c2])                            \n",
    "\n",
    "                        # 4. Compute and store classification accuracies\n",
    "                        data_test = Xpseudo_test[cv.ind_pseudo_test[c1, c2], :, :]\n",
    "                        data_test = np.reshape(data_test, (data_test.shape[0], data_test.shape[1]*data_test.shape[2]), order='F')\n",
    "                        result[f, c1, c2] = np.mean(svm.predict(data_test) == cv.labels_pseudo_test[c1, c2]) - 0.5                            \n",
    "                           \n",
    "    # average across permutations\n",
    "from scipy.spatial.distance import squareform\n",
    "a = np.nanmean(result,axis=0)[:50,:50]\n",
    "np.nanmean(a)"
   ]
  },
  {
   "cell_type": "code",
   "execution_count": 47,
   "metadata": {},
   "outputs": [
    {
     "name": "stderr",
     "output_type": "stream",
     "text": [
      "C:\\Users\\danne\\Anaconda3\\envs\\eeg_analysis\\lib\\site-packages\\ipykernel_launcher.py:3: RuntimeWarning: Mean of empty slice\n",
      "  This is separate from the ipykernel package so we can avoid doing imports until\n"
     ]
    },
    {
     "data": {
      "text/plain": [
       "0.27620408163265303"
      ]
     },
     "execution_count": 47,
     "metadata": {},
     "output_type": "execute_result"
    }
   ],
   "source": []
  },
  {
   "cell_type": "code",
   "execution_count": 58,
   "metadata": {},
   "outputs": [
    {
     "data": {
      "text/plain": [
       "0.1"
      ]
     },
     "execution_count": 58,
     "metadata": {},
     "output_type": "execute_result"
    }
   ],
   "source": [
    "np.nanmean(result[7,:10,:10])"
   ]
  },
  {
   "cell_type": "markdown",
   "metadata": {},
   "source": [
    "We set a seed, in order to make analyses reproducible:"
   ]
  },
  {
   "cell_type": "markdown",
   "metadata": {},
   "source": [
    "Let's load some data:"
   ]
  },
  {
   "cell_type": "code",
   "execution_count": null,
   "metadata": {},
   "outputs": [],
   "source": [
    "root = '' # This is the /path/to the directory containing the data.\n",
    "          # We leave it empty here, because the data is located in the current directory.\n",
    "\n",
    "# Load data and trial labels for the two sessions of participant 01\n",
    "sessions = [\n",
    "    # Session 1\n",
    "    dict(\n",
    "        data=np.load(os.path.join(root, 'data01_sess1.npy')),\n",
    "        # data has shape n_trials x n_sensors x n_timepoints\n",
    "        labels=np.load(os.path.join(root, 'labels01_sess1.npy'))\n",
    "        # labels has shape 1 x n_trials (i.e., one condition label [object category] per trial)\n",
    "    ),\n",
    "    # Session 2\n",
    "    dict(\n",
    "        data=np.load(os.path.join(root, 'data01_sess2.npy')),\n",
    "        labels=np.load(os.path.join(root, 'labels01_sess2.npy'))\n",
    "    )\n",
    "]"
   ]
  },
  {
   "cell_type": "markdown",
   "metadata": {},
   "source": [
    "Now we set some parameters. Only the number of permutations and the number of pseudo-trials are free parameters. The number of conditions, sensors, time points and sessions are derived from the data (i.e., from the `sessions` variable above)."
   ]
  },
  {
   "cell_type": "code",
   "execution_count": null,
   "metadata": {},
   "outputs": [],
   "source": [
    "\n",
    "n_sessions = len(sessions)"
   ]
  },
  {
   "cell_type": "markdown",
   "metadata": {},
   "source": [
    "We define three classifiers that will be compared: Support Vector Machine, Gaussian Naive Bayes and the [Weighted Robust Distance](https://github.com/m-guggenmos/weird). We provide the code for Linear Discriminant Analysis only in comments, as it is quite slow in this scikit-learn Python implementation."
   ]
  },
  {
   "cell_type": "code",
   "execution_count": null,
   "metadata": {},
   "outputs": [],
   "source": [
    "\n",
    "gnb = GaussianNB()\n",
    "weird = WeiRD()\n",
    "# lda = LDA(sigma=np.eye(n_sensors))  # passing identitity covariance matrix to LDA, since data is pre-whitened"
   ]
  },
  {
   "cell_type": "markdown",
   "metadata": {},
   "source": [
    "We choose our partitioning scheme, here `ShuffleBinLeaveOneOut`. This class will provide the trial-to-pseudo-trial assignments for each permutation. We'll define the class object already at this point:"
   ]
  },
  {
   "cell_type": "code",
   "execution_count": null,
   "metadata": {},
   "outputs": [],
   "source": [
    "# Choose data partitioning scheme\n"
   ]
  },
  {
   "cell_type": "markdown",
   "metadata": {},
   "source": [
    "The analytic logic is contained in a nested for loop, with loops for the number of sessions, number of permutations, number of timepoints, number of conditions, and number of conditions again. Overall, the logic contains 4 crucial steps:\n",
    "1. Compute pseudo-trials for the training and test data\n",
    "2. Whiten the training data (here using the Epoch method, which is recommended in our manuscript)\n",
    "3. Fit the classifier to the training data\n",
    "4. Compute classification accuracy on test data"
   ]
  },
  {
   "cell_type": "code",
   "execution_count": null,
   "metadata": {},
   "outputs": [],
   "source": [
    "# pre-load mechanism, for convenience\n",
    "preload_result = True # for recomputing the decoding analyses, set to False\n",
    "if preload_result:\n",
    "    result = np.load(os.path.join(root, 'result_decoding.npy'))\n",
    "else:\n",
    "    result = np.full((n_sessions, n_perm, n_conditions, n_conditions, n_time), np.nan,\n",
    "                     dtype={'names': ['svm', 'gnb', 'weird', 'lda'], 'formats': 4*['f8']})\n",
    "\n",
    "    for s, session in enumerate(sessions):\n",
    "\n",
    "        print('Session %g / %g' % (s + 1, n_sessions))\n",
    "\n",
    "        X = session['data']\n",
    "        y = session['labels']\n",
    "\n",
    "        cv = CV(y, n_iter=n_perm, n_pseudo=n_pseudo)\n",
    "\n",
    "        for f, (train_indices, test_indices) in enumerate(cv.split(X)):\n",
    "            print('\\tPermutation %g / %g' % (f + 1, n_perm))\n",
    "\n",
    "            # 1. Compute pseudo-trials for training and test\n",
    "            Xpseudo_train = np.full((len(train_indices), n_sensors, n_time), np.nan)\n",
    "            Xpseudo_test = np.full((len(test_indices), n_sensors, n_time), np.nan)\n",
    "            for i, ind in enumerate(train_indices):\n",
    "                Xpseudo_train[i, :, :] = np.mean(X[ind, :, :], axis=0)\n",
    "            for i, ind in enumerate(test_indices):\n",
    "                Xpseudo_test[i, :, :] = np.mean(X[ind, :, :], axis=0)\n",
    "\n",
    "\n",
    "            # 2. Whitening using the Epoch method\n",
    "            sigma_conditions = cv.labels_pseudo_train[0, :, n_pseudo-1:].flatten()\n",
    "            sigma_ = np.empty((n_conditions, n_sensors, n_sensors))\n",
    "            for c in range(n_conditions):\n",
    "                # compute sigma for each time point, then average across time\n",
    "                sigma_[c] = np.mean([_cov(Xpseudo_train[sigma_conditions==c, :, t], shrinkage='auto')\n",
    "                                     for t in range(n_time)], axis=0)\n",
    "            sigma = sigma_.mean(axis=0)  # average across conditions\n",
    "            sigma_inv = scipy.linalg.fractional_matrix_power(sigma, -0.5)\n",
    "            Xpseudo_train = (Xpseudo_train.swapaxes(1, 2) @ sigma_inv).swapaxes(1, 2)\n",
    "            Xpseudo_test = (Xpseudo_test.swapaxes(1, 2) @ sigma_inv).swapaxes(1, 2)\n",
    "\n",
    "            for t in range(n_time):\n",
    "                for c1 in range(n_conditions-1):\n",
    "                    for c2 in range(min(c1 + 1, n_conditions-1), n_conditions):\n",
    "                            # 3. Fit the classifier using training data\n",
    "                            data_train = Xpseudo_train[cv.ind_pseudo_train[c1, c2], :, t]\n",
    "                            svm.fit(data_train, cv.labels_pseudo_train[c1, c2])                            \n",
    "                            gnb.fit(data_train, cv.labels_pseudo_train[c1, c2])\n",
    "                            weird.fit(data_train, cv.labels_pseudo_train[c1, c2])\n",
    "                            # lda.fit(data_train, cv.labels_pseudo_train[c1, c2])\n",
    "\n",
    "                            # 4. Compute and store classification accuracies\n",
    "                            data_test = Xpseudo_test[cv.ind_pseudo_test[c1, c2], :, t]\n",
    "                            result['svm'][s, f, c1, c2, t] = np.mean(svm.predict(data_test) == cv.labels_pseudo_test[c1, c2]) - 0.5                            \n",
    "                            result['gnb'][s, f, c1, c2, t] = np.mean(gnb.predict(data_test) == cv.labels_pseudo_test[c1, c2]) - 0.5\n",
    "                            result['weird'][s, f, c1, c2, t] = np.mean(weird.predict(data_test) == cv.labels_pseudo_test[c1, c2]) - 0.5\n",
    "                            # result['lda'][s, f, c1, c2, t] = np.mean(lda.predict(data_test) == cv.labels_pseudo_test[c1, c2]) - 0.5\n",
    "    # average across permutations\n",
    "    result_ = np.full((n_sessions, n_conditions, n_conditions, n_time), np.nan,\n",
    "                      dtype={'names': ['svm', 'gnb', 'weird', 'lda'], 'formats': 4*['f8']})    \n",
    "    result_['svm'] = np.nanmean(result['svm'], axis=1)\n",
    "    result_['gnb'] = np.nanmean(result['gnb'], axis=1)\n",
    "    result_['weird'] = np.nanmean(result['weird'], axis=1)\n",
    "    # result_['lda'] = np.nanmean(result['lda'], axis=1)\n",
    "    result = result_\n",
    "    np.save(os.path.join(root, 'result_decoding.npy'), result)"
   ]
  },
  {
   "cell_type": "code",
   "execution_count": null,
   "metadata": {},
   "outputs": [],
   "source": [
    "import matplotlib.pyplot as plt\n",
    "%matplotlib inline"
   ]
  },
  {
   "cell_type": "markdown",
   "metadata": {},
   "source": [
    "Now we plot the average classification accuracy time course by collapsing across sessions and conditions:"
   ]
  },
  {
   "cell_type": "code",
   "execution_count": null,
   "metadata": {},
   "outputs": [],
   "source": [
    "plt.plot(np.arange(-100, 1001, 10), 100*np.nanmean(result['svm'], axis=(0, 1, 2))+50, label='SVM')\n",
    "plt.plot(np.arange(-100, 1001, 10), 100*np.nanmean(result['gnb'], axis=(0, 1, 2))+50, label='GNB')\n",
    "plt.plot(np.arange(-100, 1001, 10), 100*np.nanmean(result['weird'], axis=(0, 1, 2))+50, label='WeiRD')\n",
    "if 'lda' in result.dtype.names:\n",
    "    plt.plot(np.arange(-100, 1001, 10), 100*np.nanmean(result['lda'], axis=(0, 1, 2))+50, label='LDA')\n",
    "plt.plot([-100, 1000], [50, 50], 'k-')\n",
    "plt.xlim((-100, 1000))\n",
    "plt.xlabel('Time [ms]', fontsize=15)\n",
    "plt.ylabel('Classification accuracy', fontsize=15)\n",
    "plt.legend()"
   ]
  },
  {
   "cell_type": "markdown",
   "metadata": {},
   "source": [
    "Already for one participant and a reduced data set (9 instead of 92 conditions), these results look like canonical decoding time courses. Note that the period -100ms to 0ms is the baseline phase and stimulus onset is at 0ms. In this example, Support Vector Machine, WeiRD and LDA outperform Gaussian Naive Bayes."
   ]
  }
 ],
 "metadata": {
  "kernelspec": {
   "display_name": "Python 3",
   "language": "python",
   "name": "python3"
  },
  "language_info": {
   "codemirror_mode": {
    "name": "ipython",
    "version": 3
   },
   "file_extension": ".py",
   "mimetype": "text/x-python",
   "name": "python",
   "nbconvert_exporter": "python",
   "pygments_lexer": "ipython3",
   "version": "3.7.5"
  }
 },
 "nbformat": 4,
 "nbformat_minor": 4
}
