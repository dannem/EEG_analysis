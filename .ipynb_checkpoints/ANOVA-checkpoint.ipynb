{
 "cells": [
  {
   "cell_type": "markdown",
   "metadata": {},
   "source": [
    "# Functions"
   ]
  },
  {
   "cell_type": "code",
   "execution_count": 2,
   "metadata": {},
   "outputs": [],
   "source": [
    "def turn_array_to_df(array):\n",
    "    s,a,b = array.shape\n",
    "    array = pd.DataFrame(np.mean(np.reshape(np.squeeze(array[:,1,:]),(s,64,40), order = 'F'),axis=1))\n",
    "    array['subs'] = np.arange(1,s+1)\n",
    "    array = pd.melt(array, id_vars=['subs'], value_vars=np.arange(40))\n",
    "    array.columns = ['subs','freqs','value']\n",
    "    array.freqs = array.freqs+1\n",
    "    bands = {'delta':np.arange(1,5),\n",
    "         'theta': np.arange(5,8),\n",
    "         'alpha': np.arange(8,16),\n",
    "         'beta': np.arange(16,32),\n",
    "         'gamma': np.arange(32,41)}\n",
    "    array['bands'] = array.freqs\n",
    "    array['bands'].replace(bands['delta'],'delta', inplace=True)\n",
    "    array['bands'].replace(bands['alpha'],'alpha', inplace=True)\n",
    "    array['bands'].replace(bands['beta'],'beta', inplace=True)\n",
    "    array['bands'].replace(bands['theta'],'theta',  inplace=True)\n",
    "    array['bands'].replace(bands['gamma'],'gamma', inplace=True)\n",
    "    return array\n",
    "\n",
    "def turn_array_to_df_time(array):\n",
    "    s,a,b = array.shape\n",
    "    array = np.reshape(np.squeeze(array[:,1,:]),(s,64,int(b/64)),order = 'F')\n",
    "    array = pd.DataFrame(np.mean(array[:,:,:306],axis=1))\n",
    "    array['subs'] = np.arange(1,s+1)\n",
    "    array = pd.melt(array, id_vars=['subs'], value_vars=np.arange(306))\n",
    "    array.columns = ['subs','temps','value']\n",
    "    times = {'50 - 150':np.arange(0,51),\n",
    "         '150 - 250': np.arange(51,102),\n",
    "         '250 - 350': np.arange(102,153),\n",
    "         '350 - 450': np.arange(153,204),\n",
    "         '450 - 550': np.arange(204,255),\n",
    "         '550 - 650': np.arange(255,306)}\n",
    "    array['intervals'] = array.temps\n",
    "    array['intervals'].replace(times['50 - 150'],'50 - 150', inplace=True)\n",
    "    array['intervals'].replace(times['150 - 250'],'150 - 250', inplace=True)\n",
    "    array['intervals'].replace(times['250 - 350'],'250 - 350', inplace=True)\n",
    "    array['intervals'].replace(times['350 - 450'],'350 - 450', inplace=True)\n",
    "    array['intervals'].replace(times['450 - 550'],'450 - 550', inplace=True)\n",
    "    array['intervals'].replace(times['550 - 650'],'550 - 650', inplace=True)\n",
    "    return array\n",
    "\n",
    "\n",
    "def anova_table(aov):\n",
    "    aov['mean_sq'] = aov[:]['sum_sq']/aov[:]['df']\n",
    "    \n",
    "    aov['eta_sq'] = aov[:-1]['sum_sq']/sum(aov['sum_sq'])\n",
    "    \n",
    "    aov['omega_sq'] = (aov[:-1]['sum_sq']-(aov[:-1]['df']*aov['mean_sq'][-1]))/(sum(aov['sum_sq'])+aov['mean_sq'][-1])\n",
    "    \n",
    "    cols = ['sum_sq', 'mean_sq', 'df', 'F', 'PR(>F)', 'eta_sq', 'omega_sq']\n",
    "    aov = aov[cols]\n",
    "    return aov\n",
    "\n",
    "def determine_os():\n",
    "    import platform\n",
    "    if platform.system() == 'Darwin':\n",
    "        mat_name = '/Users/dannem/Dropbox/RFE/results_for_talk.mat'\n",
    "    else:\n",
    "        mat_name = 'C:\\\\Users\\\\Dan\\\\Dropbox\\\\RFE\\\\results_for_talk.mat'\n",
    "    return mat_name\n",
    "\n",
    "def color_significant(value):\n",
    "    import pandas as pd\n",
    "    import numpy as np\n",
    "    '''\n",
    "        Colors elements in a dateframe\n",
    "      green if positive and red if\n",
    "      negative. Does not color NaN\n",
    "      values.\n",
    "     '''\n",
    "    try:\n",
    "        float(value)\n",
    "        if float(value) < 0.001:\n",
    "            color = 'purple'\n",
    "        elif float(value) < 0.05:\n",
    "            color = 'red'\n",
    "        else:\n",
    "            color = 'black'\n",
    "    except: \n",
    "        color = 'black'\n",
    "    return 'color: %s' % color\n",
    "\n",
    "\n",
    "        "
   ]
  },
  {
   "cell_type": "markdown",
   "metadata": {},
   "source": [
    "# Frequency analysis"
   ]
  },
  {
   "cell_type": "code",
   "execution_count": 3,
   "metadata": {
    "slideshow": {
     "slide_type": "-"
    }
   },
   "outputs": [],
   "source": [
    "import numpy as np\n",
    "import h5py\n",
    "import warnings\n",
    "import pandas as pd\n",
    "warnings.filterwarnings('ignore')\n",
    "mat_name = determine_os()\n",
    "with h5py.File(mat_name) as f:\n",
    "    #print(list(f.keys()))\n",
    "    ens = f['results_ens_fft']['ranking'].value\n",
    "    words = f['results_words_fft']['ranking'].value\n",
    "    faces = f['results_faces_fft']['ranking'].value\n",
    "ens = turn_array_to_df(ens)\n",
    "ens = ens.groupby(['bands','subs']).mean().reset_index()\n",
    "ens['category'] = 'ensemble'\n",
    "words = turn_array_to_df(words)\n",
    "words = words.groupby(['bands','subs']).mean().reset_index()\n",
    "words['category'] = 'words'\n",
    "words['subs'] = words['subs']+14\n",
    "faces = turn_array_to_df(faces)\n",
    "faces = faces.groupby(['bands','subs']).mean().reset_index()\n",
    "faces['category'] = 'faces'\n",
    "faces['subs'] = faces['subs']+28\n",
    "data = pd.concat([ens,words,faces])\n",
    "data['combined'] = data.category.str.cat(data.bands, sep='_')\n",
    "data_fq = data"
   ]
  },
  {
   "cell_type": "markdown",
   "metadata": {},
   "source": [
    "## Analysis"
   ]
  },
  {
   "cell_type": "markdown",
   "metadata": {},
   "source": [
    "### Descriptive statistics"
   ]
  },
  {
   "cell_type": "code",
   "execution_count": 32,
   "metadata": {},
   "outputs": [
    {
     "name": "stdout",
     "output_type": "stream",
     "text": [
      "\n",
      "\n"
     ]
    },
    {
     "data": {
      "text/html": [
       "<div>\n",
       "<style scoped>\n",
       "    .dataframe tbody tr th:only-of-type {\n",
       "        vertical-align: middle;\n",
       "    }\n",
       "\n",
       "    .dataframe tbody tr th {\n",
       "        vertical-align: top;\n",
       "    }\n",
       "\n",
       "    .dataframe thead th {\n",
       "        text-align: right;\n",
       "    }\n",
       "</style>\n",
       "<table border=\"1\" class=\"dataframe\">\n",
       "  <thead>\n",
       "    <tr style=\"text-align: right;\">\n",
       "      <th></th>\n",
       "      <th></th>\n",
       "      <th>N</th>\n",
       "      <th>Mean</th>\n",
       "      <th>SD</th>\n",
       "      <th>SE</th>\n",
       "      <th>95% Conf.</th>\n",
       "      <th>Interval</th>\n",
       "    </tr>\n",
       "    <tr>\n",
       "      <th>bands</th>\n",
       "      <th>category</th>\n",
       "      <th></th>\n",
       "      <th></th>\n",
       "      <th></th>\n",
       "      <th></th>\n",
       "      <th></th>\n",
       "      <th></th>\n",
       "    </tr>\n",
       "  </thead>\n",
       "  <tbody>\n",
       "    <tr>\n",
       "      <th rowspan=\"3\" valign=\"top\">alpha</th>\n",
       "      <th>ensemble</th>\n",
       "      <td>14</td>\n",
       "      <td>37.639927</td>\n",
       "      <td>2.759297</td>\n",
       "      <td>0.737453</td>\n",
       "      <td>36.194519</td>\n",
       "      <td>39.085336</td>\n",
       "    </tr>\n",
       "    <tr>\n",
       "      <th>faces</th>\n",
       "      <td>13</td>\n",
       "      <td>29.779147</td>\n",
       "      <td>2.566099</td>\n",
       "      <td>0.711708</td>\n",
       "      <td>28.384199</td>\n",
       "      <td>31.174094</td>\n",
       "    </tr>\n",
       "    <tr>\n",
       "      <th>words</th>\n",
       "      <td>14</td>\n",
       "      <td>39.559849</td>\n",
       "      <td>4.821208</td>\n",
       "      <td>1.288522</td>\n",
       "      <td>37.034346</td>\n",
       "      <td>42.085352</td>\n",
       "    </tr>\n",
       "    <tr>\n",
       "      <th rowspan=\"3\" valign=\"top\">beta</th>\n",
       "      <th>ensemble</th>\n",
       "      <td>14</td>\n",
       "      <td>31.617536</td>\n",
       "      <td>1.585849</td>\n",
       "      <td>0.423836</td>\n",
       "      <td>30.786818</td>\n",
       "      <td>32.448255</td>\n",
       "    </tr>\n",
       "    <tr>\n",
       "      <th>faces</th>\n",
       "      <td>13</td>\n",
       "      <td>33.005183</td>\n",
       "      <td>0.701965</td>\n",
       "      <td>0.194690</td>\n",
       "      <td>32.623591</td>\n",
       "      <td>33.386776</td>\n",
       "    </tr>\n",
       "    <tr>\n",
       "      <th>words</th>\n",
       "      <td>14</td>\n",
       "      <td>32.498535</td>\n",
       "      <td>2.843435</td>\n",
       "      <td>0.759940</td>\n",
       "      <td>31.009053</td>\n",
       "      <td>33.988017</td>\n",
       "    </tr>\n",
       "    <tr>\n",
       "      <th rowspan=\"3\" valign=\"top\">delta</th>\n",
       "      <th>ensemble</th>\n",
       "      <td>14</td>\n",
       "      <td>36.306920</td>\n",
       "      <td>5.247311</td>\n",
       "      <td>1.402403</td>\n",
       "      <td>33.558210</td>\n",
       "      <td>39.055629</td>\n",
       "    </tr>\n",
       "    <tr>\n",
       "      <th>faces</th>\n",
       "      <td>13</td>\n",
       "      <td>39.561599</td>\n",
       "      <td>4.676799</td>\n",
       "      <td>1.297111</td>\n",
       "      <td>37.019262</td>\n",
       "      <td>42.103935</td>\n",
       "    </tr>\n",
       "    <tr>\n",
       "      <th>words</th>\n",
       "      <td>14</td>\n",
       "      <td>30.526786</td>\n",
       "      <td>7.264362</td>\n",
       "      <td>1.941483</td>\n",
       "      <td>26.721480</td>\n",
       "      <td>34.332091</td>\n",
       "    </tr>\n",
       "    <tr>\n",
       "      <th rowspan=\"3\" valign=\"top\">gamma</th>\n",
       "      <th>ensemble</th>\n",
       "      <td>14</td>\n",
       "      <td>25.834449</td>\n",
       "      <td>1.486240</td>\n",
       "      <td>0.397214</td>\n",
       "      <td>25.055909</td>\n",
       "      <td>26.612989</td>\n",
       "    </tr>\n",
       "    <tr>\n",
       "      <th>faces</th>\n",
       "      <td>13</td>\n",
       "      <td>30.023905</td>\n",
       "      <td>3.892853</td>\n",
       "      <td>1.079683</td>\n",
       "      <td>27.907726</td>\n",
       "      <td>32.140084</td>\n",
       "    </tr>\n",
       "    <tr>\n",
       "      <th>words</th>\n",
       "      <td>14</td>\n",
       "      <td>24.160590</td>\n",
       "      <td>3.632415</td>\n",
       "      <td>0.970804</td>\n",
       "      <td>22.257815</td>\n",
       "      <td>26.063366</td>\n",
       "    </tr>\n",
       "    <tr>\n",
       "      <th rowspan=\"3\" valign=\"top\">theta</th>\n",
       "      <th>ensemble</th>\n",
       "      <td>14</td>\n",
       "      <td>38.420759</td>\n",
       "      <td>4.065140</td>\n",
       "      <td>1.086454</td>\n",
       "      <td>36.291308</td>\n",
       "      <td>40.550210</td>\n",
       "    </tr>\n",
       "    <tr>\n",
       "      <th>faces</th>\n",
       "      <td>13</td>\n",
       "      <td>35.074119</td>\n",
       "      <td>3.479757</td>\n",
       "      <td>0.965111</td>\n",
       "      <td>33.182501</td>\n",
       "      <td>36.965736</td>\n",
       "    </tr>\n",
       "    <tr>\n",
       "      <th>words</th>\n",
       "      <td>14</td>\n",
       "      <td>41.330729</td>\n",
       "      <td>5.310442</td>\n",
       "      <td>1.419275</td>\n",
       "      <td>38.548950</td>\n",
       "      <td>44.112509</td>\n",
       "    </tr>\n",
       "  </tbody>\n",
       "</table>\n",
       "</div>"
      ],
      "text/plain": [
       "                 N       Mean        SD        SE  95% Conf.   Interval\n",
       "bands category                                                         \n",
       "alpha ensemble  14  37.639927  2.759297  0.737453  36.194519  39.085336\n",
       "      faces     13  29.779147  2.566099  0.711708  28.384199  31.174094\n",
       "      words     14  39.559849  4.821208  1.288522  37.034346  42.085352\n",
       "beta  ensemble  14  31.617536  1.585849  0.423836  30.786818  32.448255\n",
       "      faces     13  33.005183  0.701965  0.194690  32.623591  33.386776\n",
       "      words     14  32.498535  2.843435  0.759940  31.009053  33.988017\n",
       "delta ensemble  14  36.306920  5.247311  1.402403  33.558210  39.055629\n",
       "      faces     13  39.561599  4.676799  1.297111  37.019262  42.103935\n",
       "      words     14  30.526786  7.264362  1.941483  26.721480  34.332091\n",
       "gamma ensemble  14  25.834449  1.486240  0.397214  25.055909  26.612989\n",
       "      faces     13  30.023905  3.892853  1.079683  27.907726  32.140084\n",
       "      words     14  24.160590  3.632415  0.970804  22.257815  26.063366\n",
       "theta ensemble  14  38.420759  4.065140  1.086454  36.291308  40.550210\n",
       "      faces     13  35.074119  3.479757  0.965111  33.182501  36.965736\n",
       "      words     14  41.330729  5.310442  1.419275  38.548950  44.112509"
      ]
     },
     "execution_count": 32,
     "metadata": {},
     "output_type": "execute_result"
    }
   ],
   "source": [
    "import researchpy as rp\n",
    "sum_df = rp.summary_cont(data.groupby(['bands', 'category']))['value']\n",
    "sum_df"
   ]
  },
  {
   "cell_type": "markdown",
   "metadata": {},
   "source": [
    "### ANOVA"
   ]
  },
  {
   "cell_type": "code",
   "execution_count": 33,
   "metadata": {},
   "outputs": [
    {
     "name": "stdout",
     "output_type": "stream",
     "text": [
      "df effect 2.43\n",
      "df error 92.26\n"
     ]
    },
    {
     "data": {
      "text/html": [
       "<style  type=\"text/css\" >\n",
       "    #T_0e7d114a_a975_11e9_b743_685b359177derow0_col6 {\n",
       "            color:  black;\n",
       "        }    #T_0e7d114a_a975_11e9_b743_685b359177derow0_col7 {\n",
       "            color:  black;\n",
       "        }    #T_0e7d114a_a975_11e9_b743_685b359177derow1_col6 {\n",
       "            color:  purple;\n",
       "        }    #T_0e7d114a_a975_11e9_b743_685b359177derow1_col7 {\n",
       "            color:  purple;\n",
       "        }    #T_0e7d114a_a975_11e9_b743_685b359177derow2_col6 {\n",
       "            color:  purple;\n",
       "        }    #T_0e7d114a_a975_11e9_b743_685b359177derow2_col7 {\n",
       "            color:  black;\n",
       "        }</style><table id=\"T_0e7d114a_a975_11e9_b743_685b359177de\" ><thead>    <tr>        <th class=\"blank level0\" ></th>        <th class=\"col_heading level0 col0\" >Source</th>        <th class=\"col_heading level0 col1\" >SS</th>        <th class=\"col_heading level0 col2\" >DF1</th>        <th class=\"col_heading level0 col3\" >DF2</th>        <th class=\"col_heading level0 col4\" >MS</th>        <th class=\"col_heading level0 col5\" >F</th>        <th class=\"col_heading level0 col6\" >p-unc</th>        <th class=\"col_heading level0 col7\" >p-GG-corr</th>        <th class=\"col_heading level0 col8\" >np2</th>        <th class=\"col_heading level0 col9\" >eps</th>        <th class=\"col_heading level0 col10\" >sphericity</th>        <th class=\"col_heading level0 col11\" >W-spher</th>        <th class=\"col_heading level0 col12\" >p-spher</th>    </tr></thead><tbody>\n",
       "                <tr>\n",
       "                        <th id=\"T_0e7d114a_a975_11e9_b743_685b359177delevel0_row0\" class=\"row_heading level0 row0\" >0</th>\n",
       "                        <td id=\"T_0e7d114a_a975_11e9_b743_685b359177derow0_col0\" class=\"data row0 col0\" >category</td>\n",
       "                        <td id=\"T_0e7d114a_a975_11e9_b743_685b359177derow0_col1\" class=\"data row0 col1\" >8.271</td>\n",
       "                        <td id=\"T_0e7d114a_a975_11e9_b743_685b359177derow0_col2\" class=\"data row0 col2\" >2</td>\n",
       "                        <td id=\"T_0e7d114a_a975_11e9_b743_685b359177derow0_col3\" class=\"data row0 col3\" >38</td>\n",
       "                        <td id=\"T_0e7d114a_a975_11e9_b743_685b359177derow0_col4\" class=\"data row0 col4\" >4.135</td>\n",
       "                        <td id=\"T_0e7d114a_a975_11e9_b743_685b359177derow0_col5\" class=\"data row0 col5\" >0.425</td>\n",
       "                        <td id=\"T_0e7d114a_a975_11e9_b743_685b359177derow0_col6\" class=\"data row0 col6\" >0.657038</td>\n",
       "                        <td id=\"T_0e7d114a_a975_11e9_b743_685b359177derow0_col7\" class=\"data row0 col7\" >-</td>\n",
       "                        <td id=\"T_0e7d114a_a975_11e9_b743_685b359177derow0_col8\" class=\"data row0 col8\" >0.022</td>\n",
       "                        <td id=\"T_0e7d114a_a975_11e9_b743_685b359177derow0_col9\" class=\"data row0 col9\" >-</td>\n",
       "                        <td id=\"T_0e7d114a_a975_11e9_b743_685b359177derow0_col10\" class=\"data row0 col10\" >-</td>\n",
       "                        <td id=\"T_0e7d114a_a975_11e9_b743_685b359177derow0_col11\" class=\"data row0 col11\" >-</td>\n",
       "                        <td id=\"T_0e7d114a_a975_11e9_b743_685b359177derow0_col12\" class=\"data row0 col12\" >-</td>\n",
       "            </tr>\n",
       "            <tr>\n",
       "                        <th id=\"T_0e7d114a_a975_11e9_b743_685b359177delevel0_row1\" class=\"row_heading level0 row1\" >1</th>\n",
       "                        <td id=\"T_0e7d114a_a975_11e9_b743_685b359177derow1_col0\" class=\"data row1 col0\" >bands</td>\n",
       "                        <td id=\"T_0e7d114a_a975_11e9_b743_685b359177derow1_col1\" class=\"data row1 col1\" >3328.5</td>\n",
       "                        <td id=\"T_0e7d114a_a975_11e9_b743_685b359177derow1_col2\" class=\"data row1 col2\" >4</td>\n",
       "                        <td id=\"T_0e7d114a_a975_11e9_b743_685b359177derow1_col3\" class=\"data row1 col3\" >152</td>\n",
       "                        <td id=\"T_0e7d114a_a975_11e9_b743_685b359177derow1_col4\" class=\"data row1 col4\" >832.125</td>\n",
       "                        <td id=\"T_0e7d114a_a975_11e9_b743_685b359177derow1_col5\" class=\"data row1 col5\" >47.387</td>\n",
       "                        <td id=\"T_0e7d114a_a975_11e9_b743_685b359177derow1_col6\" class=\"data row1 col6\" >8.18826e-26</td>\n",
       "                        <td id=\"T_0e7d114a_a975_11e9_b743_685b359177derow1_col7\" class=\"data row1 col7\" >3.8388e-12</td>\n",
       "                        <td id=\"T_0e7d114a_a975_11e9_b743_685b359177derow1_col8\" class=\"data row1 col8\" >0.555</td>\n",
       "                        <td id=\"T_0e7d114a_a975_11e9_b743_685b359177derow1_col9\" class=\"data row1 col9\" >0.607</td>\n",
       "                        <td id=\"T_0e7d114a_a975_11e9_b743_685b359177derow1_col10\" class=\"data row1 col10\" >False</td>\n",
       "                        <td id=\"T_0e7d114a_a975_11e9_b743_685b359177derow1_col11\" class=\"data row1 col11\" >0.132</td>\n",
       "                        <td id=\"T_0e7d114a_a975_11e9_b743_685b359177derow1_col12\" class=\"data row1 col12\" >4.73897e-13</td>\n",
       "            </tr>\n",
       "            <tr>\n",
       "                        <th id=\"T_0e7d114a_a975_11e9_b743_685b359177delevel0_row2\" class=\"row_heading level0 row2\" >2</th>\n",
       "                        <td id=\"T_0e7d114a_a975_11e9_b743_685b359177derow2_col0\" class=\"data row2 col0\" >Interaction</td>\n",
       "                        <td id=\"T_0e7d114a_a975_11e9_b743_685b359177derow2_col1\" class=\"data row2 col1\" >1798.65</td>\n",
       "                        <td id=\"T_0e7d114a_a975_11e9_b743_685b359177derow2_col2\" class=\"data row2 col2\" >8</td>\n",
       "                        <td id=\"T_0e7d114a_a975_11e9_b743_685b359177derow2_col3\" class=\"data row2 col3\" >152</td>\n",
       "                        <td id=\"T_0e7d114a_a975_11e9_b743_685b359177derow2_col4\" class=\"data row2 col4\" >224.832</td>\n",
       "                        <td id=\"T_0e7d114a_a975_11e9_b743_685b359177derow2_col5\" class=\"data row2 col5\" >12.803</td>\n",
       "                        <td id=\"T_0e7d114a_a975_11e9_b743_685b359177derow2_col6\" class=\"data row2 col6\" >5.43577e-14</td>\n",
       "                        <td id=\"T_0e7d114a_a975_11e9_b743_685b359177derow2_col7\" class=\"data row2 col7\" >-</td>\n",
       "                        <td id=\"T_0e7d114a_a975_11e9_b743_685b359177derow2_col8\" class=\"data row2 col8\" >0.403</td>\n",
       "                        <td id=\"T_0e7d114a_a975_11e9_b743_685b359177derow2_col9\" class=\"data row2 col9\" >-</td>\n",
       "                        <td id=\"T_0e7d114a_a975_11e9_b743_685b359177derow2_col10\" class=\"data row2 col10\" >-</td>\n",
       "                        <td id=\"T_0e7d114a_a975_11e9_b743_685b359177derow2_col11\" class=\"data row2 col11\" >-</td>\n",
       "                        <td id=\"T_0e7d114a_a975_11e9_b743_685b359177derow2_col12\" class=\"data row2 col12\" >-</td>\n",
       "            </tr>\n",
       "    </tbody></table>"
      ],
      "text/plain": [
       "<pandas.io.formats.style.Styler at 0x12be3c3c8>"
      ]
     },
     "execution_count": 33,
     "metadata": {},
     "output_type": "execute_result"
    }
   ],
   "source": [
    "import pingouin as pg\n",
    "aov_fr = pg.mixed_anova(data=data, dv='value', between='category', within='bands',\n",
    "                     subject='subs')\n",
    "print(f'df effect {4*0.607:.2f}')\n",
    "print(f'df error {152*0.607:.2f}')\n",
    "aov_fr.style.applymap(color_significant, subset=['p-GG-corr','p-unc'])"
   ]
  },
  {
   "cell_type": "code",
   "execution_count": 34,
   "metadata": {},
   "outputs": [
    {
     "name": "stdout",
     "output_type": "stream",
     "text": [
      "1.89\n",
      "24.6\n"
     ]
    },
    {
     "data": {
      "text/html": [
       "<style  type=\"text/css\" >\n",
       "    #T_0edd2846_a975_11e9_b128_685b359177derow0_col4 {\n",
       "            color:  purple;\n",
       "        }    #T_0edd2846_a975_11e9_b128_685b359177derow0_col5 {\n",
       "            color:  purple;\n",
       "        }</style><table id=\"T_0edd2846_a975_11e9_b128_685b359177de\" ><thead>    <tr>        <th class=\"blank level0\" ></th>        <th class=\"col_heading level0 col0\" >Source</th>        <th class=\"col_heading level0 col1\" >ddof1</th>        <th class=\"col_heading level0 col2\" >ddof2</th>        <th class=\"col_heading level0 col3\" >F</th>        <th class=\"col_heading level0 col4\" >p-unc</th>        <th class=\"col_heading level0 col5\" >p-GG-corr</th>        <th class=\"col_heading level0 col6\" >np2</th>        <th class=\"col_heading level0 col7\" >eps</th>        <th class=\"col_heading level0 col8\" >sphericity</th>        <th class=\"col_heading level0 col9\" >W-spher</th>        <th class=\"col_heading level0 col10\" >p-spher</th>    </tr></thead><tbody>\n",
       "                <tr>\n",
       "                        <th id=\"T_0edd2846_a975_11e9_b128_685b359177delevel0_row0\" class=\"row_heading level0 row0\" >0</th>\n",
       "                        <td id=\"T_0edd2846_a975_11e9_b128_685b359177derow0_col0\" class=\"data row0 col0\" >bands</td>\n",
       "                        <td id=\"T_0edd2846_a975_11e9_b128_685b359177derow0_col1\" class=\"data row0 col1\" >4</td>\n",
       "                        <td id=\"T_0edd2846_a975_11e9_b128_685b359177derow0_col2\" class=\"data row0 col2\" >52</td>\n",
       "                        <td id=\"T_0edd2846_a975_11e9_b128_685b359177derow0_col3\" class=\"data row0 col3\" >31.777</td>\n",
       "                        <td id=\"T_0edd2846_a975_11e9_b128_685b359177derow0_col4\" class=\"data row0 col4\" >2.10832e-13</td>\n",
       "                        <td id=\"T_0edd2846_a975_11e9_b128_685b359177derow0_col5\" class=\"data row0 col5\" >2.12779e-07</td>\n",
       "                        <td id=\"T_0edd2846_a975_11e9_b128_685b359177derow0_col6\" class=\"data row0 col6\" >0.71</td>\n",
       "                        <td id=\"T_0edd2846_a975_11e9_b128_685b359177derow0_col7\" class=\"data row0 col7\" >0.473</td>\n",
       "                        <td id=\"T_0edd2846_a975_11e9_b128_685b359177derow0_col8\" class=\"data row0 col8\" >False</td>\n",
       "                        <td id=\"T_0edd2846_a975_11e9_b128_685b359177derow0_col9\" class=\"data row0 col9\" >0.077</td>\n",
       "                        <td id=\"T_0edd2846_a975_11e9_b128_685b359177derow0_col10\" class=\"data row0 col10\" >0.000650004</td>\n",
       "            </tr>\n",
       "    </tbody></table>"
      ],
      "text/plain": [
       "<pandas.io.formats.style.Styler at 0x12be2ae80>"
      ]
     },
     "execution_count": 34,
     "metadata": {},
     "output_type": "execute_result"
    }
   ],
   "source": [
    "# ensemble frequency\n",
    "import pingouin as pg\n",
    "aov_fr_ens = pg.rm_anova(data=data[data.category=='ensemble'], dv='value', within='bands',\n",
    "                     subject='subs')\n",
    "print(round(4*0.473,2))\n",
    "print(round(52*0.473,2))\n",
    "aov_fr_ens.style.applymap(color_significant, subset=['p-GG-corr','p-unc'])"
   ]
  },
  {
   "cell_type": "code",
   "execution_count": 35,
   "metadata": {},
   "outputs": [
    {
     "name": "stdout",
     "output_type": "stream",
     "text": [
      "2.2\n",
      "28.6\n"
     ]
    },
    {
     "data": {
      "text/html": [
       "<style  type=\"text/css\" >\n",
       "    #T_0f365678_a975_11e9_9d9b_685b359177derow0_col4 {\n",
       "            color:  purple;\n",
       "        }    #T_0f365678_a975_11e9_9d9b_685b359177derow0_col5 {\n",
       "            color:  purple;\n",
       "        }</style><table id=\"T_0f365678_a975_11e9_9d9b_685b359177de\" ><thead>    <tr>        <th class=\"blank level0\" ></th>        <th class=\"col_heading level0 col0\" >Source</th>        <th class=\"col_heading level0 col1\" >ddof1</th>        <th class=\"col_heading level0 col2\" >ddof2</th>        <th class=\"col_heading level0 col3\" >F</th>        <th class=\"col_heading level0 col4\" >p-unc</th>        <th class=\"col_heading level0 col5\" >p-GG-corr</th>        <th class=\"col_heading level0 col6\" >np2</th>        <th class=\"col_heading level0 col7\" >eps</th>        <th class=\"col_heading level0 col8\" >sphericity</th>        <th class=\"col_heading level0 col9\" >W-spher</th>        <th class=\"col_heading level0 col10\" >p-spher</th>    </tr></thead><tbody>\n",
       "                <tr>\n",
       "                        <th id=\"T_0f365678_a975_11e9_9d9b_685b359177delevel0_row0\" class=\"row_heading level0 row0\" >0</th>\n",
       "                        <td id=\"T_0f365678_a975_11e9_9d9b_685b359177derow0_col0\" class=\"data row0 col0\" >bands</td>\n",
       "                        <td id=\"T_0f365678_a975_11e9_9d9b_685b359177derow0_col1\" class=\"data row0 col1\" >4</td>\n",
       "                        <td id=\"T_0f365678_a975_11e9_9d9b_685b359177derow0_col2\" class=\"data row0 col2\" >52</td>\n",
       "                        <td id=\"T_0f365678_a975_11e9_9d9b_685b359177derow0_col3\" class=\"data row0 col3\" >24.958</td>\n",
       "                        <td id=\"T_0f365678_a975_11e9_9d9b_685b359177derow0_col4\" class=\"data row0 col4\" >1.43966e-11</td>\n",
       "                        <td id=\"T_0f365678_a975_11e9_9d9b_685b359177derow0_col5\" class=\"data row0 col5\" >2.94094e-07</td>\n",
       "                        <td id=\"T_0f365678_a975_11e9_9d9b_685b359177derow0_col6\" class=\"data row0 col6\" >0.658</td>\n",
       "                        <td id=\"T_0f365678_a975_11e9_9d9b_685b359177derow0_col7\" class=\"data row0 col7\" >0.55</td>\n",
       "                        <td id=\"T_0f365678_a975_11e9_9d9b_685b359177derow0_col8\" class=\"data row0 col8\" >False</td>\n",
       "                        <td id=\"T_0f365678_a975_11e9_9d9b_685b359177derow0_col9\" class=\"data row0 col9\" >0.149</td>\n",
       "                        <td id=\"T_0f365678_a975_11e9_9d9b_685b359177derow0_col10\" class=\"data row0 col10\" >0.0104746</td>\n",
       "            </tr>\n",
       "    </tbody></table>"
      ],
      "text/plain": [
       "<pandas.io.formats.style.Styler at 0x12be3c898>"
      ]
     },
     "execution_count": 35,
     "metadata": {},
     "output_type": "execute_result"
    }
   ],
   "source": [
    "# words frequency\n",
    "import pingouin as pg\n",
    "aov_fr_wrd = pg.rm_anova(data=data[data.category=='words'], dv='value', within='bands',\n",
    "                     subject='subs')\n",
    "print(round(4*0.55,2))\n",
    "print(round(52*0.55,2))\n",
    "aov_fr_wrd.style.applymap(color_significant, subset=['p-GG-corr','p-unc'])"
   ]
  },
  {
   "cell_type": "code",
   "execution_count": 36,
   "metadata": {},
   "outputs": [
    {
     "name": "stdout",
     "output_type": "stream",
     "text": [
      "1.62\n",
      "19.39\n"
     ]
    },
    {
     "data": {
      "text/html": [
       "<style  type=\"text/css\" >\n",
       "    #T_0fa21668_a975_11e9_926a_685b359177derow0_col4 {\n",
       "            color:  purple;\n",
       "        }    #T_0fa21668_a975_11e9_926a_685b359177derow0_col5 {\n",
       "            color:  purple;\n",
       "        }</style><table id=\"T_0fa21668_a975_11e9_926a_685b359177de\" ><thead>    <tr>        <th class=\"blank level0\" ></th>        <th class=\"col_heading level0 col0\" >Source</th>        <th class=\"col_heading level0 col1\" >ddof1</th>        <th class=\"col_heading level0 col2\" >ddof2</th>        <th class=\"col_heading level0 col3\" >F</th>        <th class=\"col_heading level0 col4\" >p-unc</th>        <th class=\"col_heading level0 col5\" >p-GG-corr</th>        <th class=\"col_heading level0 col6\" >np2</th>        <th class=\"col_heading level0 col7\" >eps</th>        <th class=\"col_heading level0 col8\" >sphericity</th>        <th class=\"col_heading level0 col9\" >W-spher</th>        <th class=\"col_heading level0 col10\" >p-spher</th>    </tr></thead><tbody>\n",
       "                <tr>\n",
       "                        <th id=\"T_0fa21668_a975_11e9_926a_685b359177delevel0_row0\" class=\"row_heading level0 row0\" >0</th>\n",
       "                        <td id=\"T_0fa21668_a975_11e9_926a_685b359177derow0_col0\" class=\"data row0 col0\" >bands</td>\n",
       "                        <td id=\"T_0fa21668_a975_11e9_926a_685b359177derow0_col1\" class=\"data row0 col1\" >4</td>\n",
       "                        <td id=\"T_0fa21668_a975_11e9_926a_685b359177derow0_col2\" class=\"data row0 col2\" >48</td>\n",
       "                        <td id=\"T_0fa21668_a975_11e9_926a_685b359177derow0_col3\" class=\"data row0 col3\" >16.609</td>\n",
       "                        <td id=\"T_0fa21668_a975_11e9_926a_685b359177derow0_col4\" class=\"data row0 col4\" >1.31393e-08</td>\n",
       "                        <td id=\"T_0fa21668_a975_11e9_926a_685b359177derow0_col5\" class=\"data row0 col5\" >0.000132898</td>\n",
       "                        <td id=\"T_0fa21668_a975_11e9_926a_685b359177derow0_col6\" class=\"data row0 col6\" >0.581</td>\n",
       "                        <td id=\"T_0fa21668_a975_11e9_926a_685b359177derow0_col7\" class=\"data row0 col7\" >0.404</td>\n",
       "                        <td id=\"T_0fa21668_a975_11e9_926a_685b359177derow0_col8\" class=\"data row0 col8\" >False</td>\n",
       "                        <td id=\"T_0fa21668_a975_11e9_926a_685b359177derow0_col9\" class=\"data row0 col9\" >0.026</td>\n",
       "                        <td id=\"T_0fa21668_a975_11e9_926a_685b359177derow0_col10\" class=\"data row0 col10\" >2.30625e-05</td>\n",
       "            </tr>\n",
       "    </tbody></table>"
      ],
      "text/plain": [
       "<pandas.io.formats.style.Styler at 0x12b78c780>"
      ]
     },
     "execution_count": 36,
     "metadata": {},
     "output_type": "execute_result"
    }
   ],
   "source": [
    "# faces frequency\n",
    "import pingouin as pg\n",
    "aov_fr_fac = pg.rm_anova(data=data[data.category=='faces'], dv='value', within='bands',\n",
    "                     subject='subs')\n",
    "print(round(4*0.404,2))\n",
    "print(round(48*0.404,2))\n",
    "aov_fr_fac.style.applymap(color_significant, subset=['p-GG-corr','p-unc'])"
   ]
  },
  {
   "cell_type": "markdown",
   "metadata": {},
   "source": [
    "### Posthocs"
   ]
  },
  {
   "cell_type": "code",
   "execution_count": 37,
   "metadata": {},
   "outputs": [
    {
     "data": {
      "text/html": [
       "<style  type=\"text/css\" >\n",
       "    #T_135d1b06_a975_11e9_9f31_685b359177derow0_col9 {\n",
       "            color:  red;\n",
       "        }    #T_135d1b06_a975_11e9_9f31_685b359177derow1_col9 {\n",
       "            color:  black;\n",
       "        }    #T_135d1b06_a975_11e9_9f31_685b359177derow2_col9 {\n",
       "            color:  purple;\n",
       "        }    #T_135d1b06_a975_11e9_9f31_685b359177derow3_col9 {\n",
       "            color:  red;\n",
       "        }    #T_135d1b06_a975_11e9_9f31_685b359177derow4_col9 {\n",
       "            color:  black;\n",
       "        }    #T_135d1b06_a975_11e9_9f31_685b359177derow5_col9 {\n",
       "            color:  purple;\n",
       "        }    #T_135d1b06_a975_11e9_9f31_685b359177derow6_col9 {\n",
       "            color:  purple;\n",
       "        }    #T_135d1b06_a975_11e9_9f31_685b359177derow7_col9 {\n",
       "            color:  purple;\n",
       "        }    #T_135d1b06_a975_11e9_9f31_685b359177derow8_col9 {\n",
       "            color:  black;\n",
       "        }    #T_135d1b06_a975_11e9_9f31_685b359177derow9_col9 {\n",
       "            color:  purple;\n",
       "        }</style><table id=\"T_135d1b06_a975_11e9_9f31_685b359177de\" ><thead>    <tr>        <th class=\"blank level0\" ></th>        <th class=\"col_heading level0 col0\" >Contrast</th>        <th class=\"col_heading level0 col1\" >A</th>        <th class=\"col_heading level0 col2\" >B</th>        <th class=\"col_heading level0 col3\" >Paired</th>        <th class=\"col_heading level0 col4\" >Parametric</th>        <th class=\"col_heading level0 col5\" >T</th>        <th class=\"col_heading level0 col6\" >dof</th>        <th class=\"col_heading level0 col7\" >tail</th>        <th class=\"col_heading level0 col8\" >p-unc</th>        <th class=\"col_heading level0 col9\" >p-corr</th>        <th class=\"col_heading level0 col10\" >p-adjust</th>        <th class=\"col_heading level0 col11\" >BF10</th>        <th class=\"col_heading level0 col12\" >CLES</th>        <th class=\"col_heading level0 col13\" >hedges</th>    </tr></thead><tbody>\n",
       "                <tr>\n",
       "                        <th id=\"T_135d1b06_a975_11e9_9f31_685b359177delevel0_row0\" class=\"row_heading level0 row0\" >0</th>\n",
       "                        <td id=\"T_135d1b06_a975_11e9_9f31_685b359177derow0_col0\" class=\"data row0 col0\" >bands</td>\n",
       "                        <td id=\"T_135d1b06_a975_11e9_9f31_685b359177derow0_col1\" class=\"data row0 col1\" >alpha</td>\n",
       "                        <td id=\"T_135d1b06_a975_11e9_9f31_685b359177derow0_col2\" class=\"data row0 col2\" >beta</td>\n",
       "                        <td id=\"T_135d1b06_a975_11e9_9f31_685b359177derow0_col3\" class=\"data row0 col3\" >True</td>\n",
       "                        <td id=\"T_135d1b06_a975_11e9_9f31_685b359177derow0_col4\" class=\"data row0 col4\" >True</td>\n",
       "                        <td id=\"T_135d1b06_a975_11e9_9f31_685b359177derow0_col5\" class=\"data row0 col5\" >3.311</td>\n",
       "                        <td id=\"T_135d1b06_a975_11e9_9f31_685b359177derow0_col6\" class=\"data row0 col6\" >40</td>\n",
       "                        <td id=\"T_135d1b06_a975_11e9_9f31_685b359177derow0_col7\" class=\"data row0 col7\" >two-sided</td>\n",
       "                        <td id=\"T_135d1b06_a975_11e9_9f31_685b359177derow0_col8\" class=\"data row0 col8\" >0.00197433</td>\n",
       "                        <td id=\"T_135d1b06_a975_11e9_9f31_685b359177derow0_col9\" class=\"data row0 col9\" >0.0197433</td>\n",
       "                        <td id=\"T_135d1b06_a975_11e9_9f31_685b359177derow0_col10\" class=\"data row0 col10\" >bonferroni</td>\n",
       "                        <td id=\"T_135d1b06_a975_11e9_9f31_685b359177derow0_col11\" class=\"data row0 col11\" >16.577</td>\n",
       "                        <td id=\"T_135d1b06_a975_11e9_9f31_685b359177derow0_col12\" class=\"data row0 col12\" >0.689</td>\n",
       "                        <td id=\"T_135d1b06_a975_11e9_9f31_685b359177derow0_col13\" class=\"data row0 col13\" >0.916</td>\n",
       "            </tr>\n",
       "            <tr>\n",
       "                        <th id=\"T_135d1b06_a975_11e9_9f31_685b359177delevel0_row1\" class=\"row_heading level0 row1\" >1</th>\n",
       "                        <td id=\"T_135d1b06_a975_11e9_9f31_685b359177derow1_col0\" class=\"data row1 col0\" >bands</td>\n",
       "                        <td id=\"T_135d1b06_a975_11e9_9f31_685b359177derow1_col1\" class=\"data row1 col1\" >alpha</td>\n",
       "                        <td id=\"T_135d1b06_a975_11e9_9f31_685b359177derow1_col2\" class=\"data row1 col2\" >delta</td>\n",
       "                        <td id=\"T_135d1b06_a975_11e9_9f31_685b359177derow1_col3\" class=\"data row1 col3\" >True</td>\n",
       "                        <td id=\"T_135d1b06_a975_11e9_9f31_685b359177derow1_col4\" class=\"data row1 col4\" >True</td>\n",
       "                        <td id=\"T_135d1b06_a975_11e9_9f31_685b359177derow1_col5\" class=\"data row1 col5\" >0.279</td>\n",
       "                        <td id=\"T_135d1b06_a975_11e9_9f31_685b359177derow1_col6\" class=\"data row1 col6\" >40</td>\n",
       "                        <td id=\"T_135d1b06_a975_11e9_9f31_685b359177derow1_col7\" class=\"data row1 col7\" >two-sided</td>\n",
       "                        <td id=\"T_135d1b06_a975_11e9_9f31_685b359177derow1_col8\" class=\"data row1 col8\" >0.781328</td>\n",
       "                        <td id=\"T_135d1b06_a975_11e9_9f31_685b359177derow1_col9\" class=\"data row1 col9\" >1</td>\n",
       "                        <td id=\"T_135d1b06_a975_11e9_9f31_685b359177derow1_col10\" class=\"data row1 col10\" >bonferroni</td>\n",
       "                        <td id=\"T_135d1b06_a975_11e9_9f31_685b359177derow1_col11\" class=\"data row1 col11\" >0.175</td>\n",
       "                        <td id=\"T_135d1b06_a975_11e9_9f31_685b359177derow1_col12\" class=\"data row1 col12\" >0.501</td>\n",
       "                        <td id=\"T_135d1b06_a975_11e9_9f31_685b359177derow1_col13\" class=\"data row1 col13\" >0.07</td>\n",
       "            </tr>\n",
       "            <tr>\n",
       "                        <th id=\"T_135d1b06_a975_11e9_9f31_685b359177delevel0_row2\" class=\"row_heading level0 row2\" >2</th>\n",
       "                        <td id=\"T_135d1b06_a975_11e9_9f31_685b359177derow2_col0\" class=\"data row2 col0\" >bands</td>\n",
       "                        <td id=\"T_135d1b06_a975_11e9_9f31_685b359177derow2_col1\" class=\"data row2 col1\" >alpha</td>\n",
       "                        <td id=\"T_135d1b06_a975_11e9_9f31_685b359177derow2_col2\" class=\"data row2 col2\" >gamma</td>\n",
       "                        <td id=\"T_135d1b06_a975_11e9_9f31_685b359177derow2_col3\" class=\"data row2 col3\" >True</td>\n",
       "                        <td id=\"T_135d1b06_a975_11e9_9f31_685b359177derow2_col4\" class=\"data row2 col4\" >True</td>\n",
       "                        <td id=\"T_135d1b06_a975_11e9_9f31_685b359177derow2_col5\" class=\"data row2 col5\" >6.61</td>\n",
       "                        <td id=\"T_135d1b06_a975_11e9_9f31_685b359177derow2_col6\" class=\"data row2 col6\" >40</td>\n",
       "                        <td id=\"T_135d1b06_a975_11e9_9f31_685b359177derow2_col7\" class=\"data row2 col7\" >two-sided</td>\n",
       "                        <td id=\"T_135d1b06_a975_11e9_9f31_685b359177derow2_col8\" class=\"data row2 col8\" >6.58378e-08</td>\n",
       "                        <td id=\"T_135d1b06_a975_11e9_9f31_685b359177derow2_col9\" class=\"data row2 col9\" >6.58378e-07</td>\n",
       "                        <td id=\"T_135d1b06_a975_11e9_9f31_685b359177derow2_col10\" class=\"data row2 col10\" >bonferroni</td>\n",
       "                        <td id=\"T_135d1b06_a975_11e9_9f31_685b359177derow2_col11\" class=\"data row2 col11\" >2.17e+05</td>\n",
       "                        <td id=\"T_135d1b06_a975_11e9_9f31_685b359177derow2_col12\" class=\"data row2 col12\" >0.902</td>\n",
       "                        <td id=\"T_135d1b06_a975_11e9_9f31_685b359177derow2_col13\" class=\"data row2 col13\" >1.936</td>\n",
       "            </tr>\n",
       "            <tr>\n",
       "                        <th id=\"T_135d1b06_a975_11e9_9f31_685b359177delevel0_row3\" class=\"row_heading level0 row3\" >3</th>\n",
       "                        <td id=\"T_135d1b06_a975_11e9_9f31_685b359177derow3_col0\" class=\"data row3 col0\" >bands</td>\n",
       "                        <td id=\"T_135d1b06_a975_11e9_9f31_685b359177derow3_col1\" class=\"data row3 col1\" >alpha</td>\n",
       "                        <td id=\"T_135d1b06_a975_11e9_9f31_685b359177derow3_col2\" class=\"data row3 col2\" >theta</td>\n",
       "                        <td id=\"T_135d1b06_a975_11e9_9f31_685b359177derow3_col3\" class=\"data row3 col3\" >True</td>\n",
       "                        <td id=\"T_135d1b06_a975_11e9_9f31_685b359177derow3_col4\" class=\"data row3 col4\" >True</td>\n",
       "                        <td id=\"T_135d1b06_a975_11e9_9f31_685b359177derow3_col5\" class=\"data row3 col5\" >-3.324</td>\n",
       "                        <td id=\"T_135d1b06_a975_11e9_9f31_685b359177derow3_col6\" class=\"data row3 col6\" >40</td>\n",
       "                        <td id=\"T_135d1b06_a975_11e9_9f31_685b359177derow3_col7\" class=\"data row3 col7\" >two-sided</td>\n",
       "                        <td id=\"T_135d1b06_a975_11e9_9f31_685b359177derow3_col8\" class=\"data row3 col8\" >0.00190645</td>\n",
       "                        <td id=\"T_135d1b06_a975_11e9_9f31_685b359177derow3_col9\" class=\"data row3 col9\" >0.0190645</td>\n",
       "                        <td id=\"T_135d1b06_a975_11e9_9f31_685b359177derow3_col10\" class=\"data row3 col10\" >bonferroni</td>\n",
       "                        <td id=\"T_135d1b06_a975_11e9_9f31_685b359177derow3_col11\" class=\"data row3 col11\" >17.097</td>\n",
       "                        <td id=\"T_135d1b06_a975_11e9_9f31_685b359177derow3_col12\" class=\"data row3 col12\" >0.64</td>\n",
       "                        <td id=\"T_135d1b06_a975_11e9_9f31_685b359177derow3_col13\" class=\"data row3 col13\" >-0.484</td>\n",
       "            </tr>\n",
       "            <tr>\n",
       "                        <th id=\"T_135d1b06_a975_11e9_9f31_685b359177delevel0_row4\" class=\"row_heading level0 row4\" >4</th>\n",
       "                        <td id=\"T_135d1b06_a975_11e9_9f31_685b359177derow4_col0\" class=\"data row4 col0\" >bands</td>\n",
       "                        <td id=\"T_135d1b06_a975_11e9_9f31_685b359177derow4_col1\" class=\"data row4 col1\" >beta</td>\n",
       "                        <td id=\"T_135d1b06_a975_11e9_9f31_685b359177derow4_col2\" class=\"data row4 col2\" >delta</td>\n",
       "                        <td id=\"T_135d1b06_a975_11e9_9f31_685b359177derow4_col3\" class=\"data row4 col3\" >True</td>\n",
       "                        <td id=\"T_135d1b06_a975_11e9_9f31_685b359177derow4_col4\" class=\"data row4 col4\" >True</td>\n",
       "                        <td id=\"T_135d1b06_a975_11e9_9f31_685b359177derow4_col5\" class=\"data row4 col5\" >-2.422</td>\n",
       "                        <td id=\"T_135d1b06_a975_11e9_9f31_685b359177derow4_col6\" class=\"data row4 col6\" >40</td>\n",
       "                        <td id=\"T_135d1b06_a975_11e9_9f31_685b359177derow4_col7\" class=\"data row4 col7\" >two-sided</td>\n",
       "                        <td id=\"T_135d1b06_a975_11e9_9f31_685b359177derow4_col8\" class=\"data row4 col8\" >0.0200385</td>\n",
       "                        <td id=\"T_135d1b06_a975_11e9_9f31_685b359177derow4_col9\" class=\"data row4 col9\" >0.200385</td>\n",
       "                        <td id=\"T_135d1b06_a975_11e9_9f31_685b359177derow4_col10\" class=\"data row4 col10\" >bonferroni</td>\n",
       "                        <td id=\"T_135d1b06_a975_11e9_9f31_685b359177derow4_col11\" class=\"data row4 col11\" >2.244</td>\n",
       "                        <td id=\"T_135d1b06_a975_11e9_9f31_685b359177derow4_col12\" class=\"data row4 col12\" >0.717</td>\n",
       "                        <td id=\"T_135d1b06_a975_11e9_9f31_685b359177derow4_col13\" class=\"data row4 col13\" >-0.675</td>\n",
       "            </tr>\n",
       "            <tr>\n",
       "                        <th id=\"T_135d1b06_a975_11e9_9f31_685b359177delevel0_row5\" class=\"row_heading level0 row5\" >5</th>\n",
       "                        <td id=\"T_135d1b06_a975_11e9_9f31_685b359177derow5_col0\" class=\"data row5 col0\" >bands</td>\n",
       "                        <td id=\"T_135d1b06_a975_11e9_9f31_685b359177derow5_col1\" class=\"data row5 col1\" >beta</td>\n",
       "                        <td id=\"T_135d1b06_a975_11e9_9f31_685b359177derow5_col2\" class=\"data row5 col2\" >gamma</td>\n",
       "                        <td id=\"T_135d1b06_a975_11e9_9f31_685b359177derow5_col3\" class=\"data row5 col3\" >True</td>\n",
       "                        <td id=\"T_135d1b06_a975_11e9_9f31_685b359177derow5_col4\" class=\"data row5 col4\" >True</td>\n",
       "                        <td id=\"T_135d1b06_a975_11e9_9f31_685b359177derow5_col5\" class=\"data row5 col5\" >9.752</td>\n",
       "                        <td id=\"T_135d1b06_a975_11e9_9f31_685b359177derow5_col6\" class=\"data row5 col6\" >40</td>\n",
       "                        <td id=\"T_135d1b06_a975_11e9_9f31_685b359177derow5_col7\" class=\"data row5 col7\" >two-sided</td>\n",
       "                        <td id=\"T_135d1b06_a975_11e9_9f31_685b359177derow5_col8\" class=\"data row5 col8\" >3.96845e-12</td>\n",
       "                        <td id=\"T_135d1b06_a975_11e9_9f31_685b359177derow5_col9\" class=\"data row5 col9\" >3.96845e-11</td>\n",
       "                        <td id=\"T_135d1b06_a975_11e9_9f31_685b359177derow5_col10\" class=\"data row5 col10\" >bonferroni</td>\n",
       "                        <td id=\"T_135d1b06_a975_11e9_9f31_685b359177derow5_col11\" class=\"data row5 col11\" >2.214e+09</td>\n",
       "                        <td id=\"T_135d1b06_a975_11e9_9f31_685b359177derow5_col12\" class=\"data row5 col12\" >0.867</td>\n",
       "                        <td id=\"T_135d1b06_a975_11e9_9f31_685b359177derow5_col13\" class=\"data row5 col13\" >1.924</td>\n",
       "            </tr>\n",
       "            <tr>\n",
       "                        <th id=\"T_135d1b06_a975_11e9_9f31_685b359177delevel0_row6\" class=\"row_heading level0 row6\" >6</th>\n",
       "                        <td id=\"T_135d1b06_a975_11e9_9f31_685b359177derow6_col0\" class=\"data row6 col0\" >bands</td>\n",
       "                        <td id=\"T_135d1b06_a975_11e9_9f31_685b359177derow6_col1\" class=\"data row6 col1\" >beta</td>\n",
       "                        <td id=\"T_135d1b06_a975_11e9_9f31_685b359177derow6_col2\" class=\"data row6 col2\" >theta</td>\n",
       "                        <td id=\"T_135d1b06_a975_11e9_9f31_685b359177derow6_col3\" class=\"data row6 col3\" >True</td>\n",
       "                        <td id=\"T_135d1b06_a975_11e9_9f31_685b359177derow6_col4\" class=\"data row6 col4\" >True</td>\n",
       "                        <td id=\"T_135d1b06_a975_11e9_9f31_685b359177derow6_col5\" class=\"data row6 col5\" >-5.938</td>\n",
       "                        <td id=\"T_135d1b06_a975_11e9_9f31_685b359177derow6_col6\" class=\"data row6 col6\" >40</td>\n",
       "                        <td id=\"T_135d1b06_a975_11e9_9f31_685b359177derow6_col7\" class=\"data row6 col7\" >two-sided</td>\n",
       "                        <td id=\"T_135d1b06_a975_11e9_9f31_685b359177derow6_col8\" class=\"data row6 col8\" >5.77301e-07</td>\n",
       "                        <td id=\"T_135d1b06_a975_11e9_9f31_685b359177derow6_col9\" class=\"data row6 col9\" >5.77301e-06</td>\n",
       "                        <td id=\"T_135d1b06_a975_11e9_9f31_685b359177derow6_col10\" class=\"data row6 col10\" >bonferroni</td>\n",
       "                        <td id=\"T_135d1b06_a975_11e9_9f31_685b359177derow6_col11\" class=\"data row6 col11\" >2.832e+04</td>\n",
       "                        <td id=\"T_135d1b06_a975_11e9_9f31_685b359177derow6_col12\" class=\"data row6 col12\" >0.849</td>\n",
       "                        <td id=\"T_135d1b06_a975_11e9_9f31_685b359177derow6_col13\" class=\"data row6 col13\" >-1.707</td>\n",
       "            </tr>\n",
       "            <tr>\n",
       "                        <th id=\"T_135d1b06_a975_11e9_9f31_685b359177delevel0_row7\" class=\"row_heading level0 row7\" >7</th>\n",
       "                        <td id=\"T_135d1b06_a975_11e9_9f31_685b359177derow7_col0\" class=\"data row7 col0\" >bands</td>\n",
       "                        <td id=\"T_135d1b06_a975_11e9_9f31_685b359177derow7_col1\" class=\"data row7 col1\" >delta</td>\n",
       "                        <td id=\"T_135d1b06_a975_11e9_9f31_685b359177derow7_col2\" class=\"data row7 col2\" >gamma</td>\n",
       "                        <td id=\"T_135d1b06_a975_11e9_9f31_685b359177derow7_col3\" class=\"data row7 col3\" >True</td>\n",
       "                        <td id=\"T_135d1b06_a975_11e9_9f31_685b359177derow7_col4\" class=\"data row7 col4\" >True</td>\n",
       "                        <td id=\"T_135d1b06_a975_11e9_9f31_685b359177derow7_col5\" class=\"data row7 col5\" >6.928</td>\n",
       "                        <td id=\"T_135d1b06_a975_11e9_9f31_685b359177derow7_col6\" class=\"data row7 col6\" >40</td>\n",
       "                        <td id=\"T_135d1b06_a975_11e9_9f31_685b359177derow7_col7\" class=\"data row7 col7\" >two-sided</td>\n",
       "                        <td id=\"T_135d1b06_a975_11e9_9f31_685b359177derow7_col8\" class=\"data row7 col8\" >2.3658e-08</td>\n",
       "                        <td id=\"T_135d1b06_a975_11e9_9f31_685b359177derow7_col9\" class=\"data row7 col9\" >2.3658e-07</td>\n",
       "                        <td id=\"T_135d1b06_a975_11e9_9f31_685b359177derow7_col10\" class=\"data row7 col10\" >bonferroni</td>\n",
       "                        <td id=\"T_135d1b06_a975_11e9_9f31_685b359177derow7_col11\" class=\"data row7 col11\" >5.69e+05</td>\n",
       "                        <td id=\"T_135d1b06_a975_11e9_9f31_685b359177derow7_col12\" class=\"data row7 col12\" >0.871</td>\n",
       "                        <td id=\"T_135d1b06_a975_11e9_9f31_685b359177derow7_col13\" class=\"data row7 col13\" >1.609</td>\n",
       "            </tr>\n",
       "            <tr>\n",
       "                        <th id=\"T_135d1b06_a975_11e9_9f31_685b359177delevel0_row8\" class=\"row_heading level0 row8\" >8</th>\n",
       "                        <td id=\"T_135d1b06_a975_11e9_9f31_685b359177derow8_col0\" class=\"data row8 col0\" >bands</td>\n",
       "                        <td id=\"T_135d1b06_a975_11e9_9f31_685b359177derow8_col1\" class=\"data row8 col1\" >delta</td>\n",
       "                        <td id=\"T_135d1b06_a975_11e9_9f31_685b359177derow8_col2\" class=\"data row8 col2\" >theta</td>\n",
       "                        <td id=\"T_135d1b06_a975_11e9_9f31_685b359177derow8_col3\" class=\"data row8 col3\" >True</td>\n",
       "                        <td id=\"T_135d1b06_a975_11e9_9f31_685b359177derow8_col4\" class=\"data row8 col4\" >True</td>\n",
       "                        <td id=\"T_135d1b06_a975_11e9_9f31_685b359177derow8_col5\" class=\"data row8 col5\" >-2.523</td>\n",
       "                        <td id=\"T_135d1b06_a975_11e9_9f31_685b359177derow8_col6\" class=\"data row8 col6\" >40</td>\n",
       "                        <td id=\"T_135d1b06_a975_11e9_9f31_685b359177derow8_col7\" class=\"data row8 col7\" >two-sided</td>\n",
       "                        <td id=\"T_135d1b06_a975_11e9_9f31_685b359177derow8_col8\" class=\"data row8 col8\" >0.0157302</td>\n",
       "                        <td id=\"T_135d1b06_a975_11e9_9f31_685b359177derow8_col9\" class=\"data row8 col9\" >0.157302</td>\n",
       "                        <td id=\"T_135d1b06_a975_11e9_9f31_685b359177derow8_col10\" class=\"data row8 col10\" >bonferroni</td>\n",
       "                        <td id=\"T_135d1b06_a975_11e9_9f31_685b359177derow8_col11\" class=\"data row8 col11\" >2.75</td>\n",
       "                        <td id=\"T_135d1b06_a975_11e9_9f31_685b359177derow8_col12\" class=\"data row8 col12\" >0.631</td>\n",
       "                        <td id=\"T_135d1b06_a975_11e9_9f31_685b359177derow8_col13\" class=\"data row8 col13\" >-0.501</td>\n",
       "            </tr>\n",
       "            <tr>\n",
       "                        <th id=\"T_135d1b06_a975_11e9_9f31_685b359177delevel0_row9\" class=\"row_heading level0 row9\" >9</th>\n",
       "                        <td id=\"T_135d1b06_a975_11e9_9f31_685b359177derow9_col0\" class=\"data row9 col0\" >bands</td>\n",
       "                        <td id=\"T_135d1b06_a975_11e9_9f31_685b359177derow9_col1\" class=\"data row9 col1\" >gamma</td>\n",
       "                        <td id=\"T_135d1b06_a975_11e9_9f31_685b359177derow9_col2\" class=\"data row9 col2\" >theta</td>\n",
       "                        <td id=\"T_135d1b06_a975_11e9_9f31_685b359177derow9_col3\" class=\"data row9 col3\" >True</td>\n",
       "                        <td id=\"T_135d1b06_a975_11e9_9f31_685b359177derow9_col4\" class=\"data row9 col4\" >True</td>\n",
       "                        <td id=\"T_135d1b06_a975_11e9_9f31_685b359177derow9_col5\" class=\"data row9 col5\" >-9.195</td>\n",
       "                        <td id=\"T_135d1b06_a975_11e9_9f31_685b359177derow9_col6\" class=\"data row9 col6\" >40</td>\n",
       "                        <td id=\"T_135d1b06_a975_11e9_9f31_685b359177derow9_col7\" class=\"data row9 col7\" >two-sided</td>\n",
       "                        <td id=\"T_135d1b06_a975_11e9_9f31_685b359177derow9_col8\" class=\"data row9 col8\" >2.05338e-11</td>\n",
       "                        <td id=\"T_135d1b06_a975_11e9_9f31_685b359177derow9_col9\" class=\"data row9 col9\" >2.05338e-10</td>\n",
       "                        <td id=\"T_135d1b06_a975_11e9_9f31_685b359177derow9_col10\" class=\"data row9 col10\" >bonferroni</td>\n",
       "                        <td id=\"T_135d1b06_a975_11e9_9f31_685b359177derow9_col11\" class=\"data row9 col11\" >4.6e+08</td>\n",
       "                        <td id=\"T_135d1b06_a975_11e9_9f31_685b359177derow9_col12\" class=\"data row9 col12\" >0.96</td>\n",
       "                        <td id=\"T_135d1b06_a975_11e9_9f31_685b359177derow9_col13\" class=\"data row9 col13\" >-2.609</td>\n",
       "            </tr>\n",
       "    </tbody></table>"
      ],
      "text/plain": [
       "<pandas.io.formats.style.Styler at 0x12be35048>"
      ]
     },
     "execution_count": 37,
     "metadata": {},
     "output_type": "execute_result"
    }
   ],
   "source": [
    "posthoc = pg.pairwise_ttests(data=data, dv='value', within='bands', subject='subs',\n",
    "                             parametric=True, padjust='bonferroni')\n",
    "posthoc.style.applymap(color_significant, subset=['p-corr'])"
   ]
  },
  {
   "cell_type": "code",
   "execution_count": 38,
   "metadata": {},
   "outputs": [
    {
     "data": {
      "text/html": [
       "<style  type=\"text/css\" >\n",
       "    #T_13a6e41e_a975_11e9_8ddf_685b359177derow0_col9 {\n",
       "            color:  black;\n",
       "        }    #T_13a6e41e_a975_11e9_8ddf_685b359177derow1_col9 {\n",
       "            color:  black;\n",
       "        }    #T_13a6e41e_a975_11e9_8ddf_685b359177derow2_col9 {\n",
       "            color:  red;\n",
       "        }</style><table id=\"T_13a6e41e_a975_11e9_8ddf_685b359177de\" ><thead>    <tr>        <th class=\"blank level0\" ></th>        <th class=\"col_heading level0 col0\" >Contrast</th>        <th class=\"col_heading level0 col1\" >A</th>        <th class=\"col_heading level0 col2\" >B</th>        <th class=\"col_heading level0 col3\" >Paired</th>        <th class=\"col_heading level0 col4\" >Parametric</th>        <th class=\"col_heading level0 col5\" >T</th>        <th class=\"col_heading level0 col6\" >dof</th>        <th class=\"col_heading level0 col7\" >tail</th>        <th class=\"col_heading level0 col8\" >p-unc</th>        <th class=\"col_heading level0 col9\" >p-corr</th>        <th class=\"col_heading level0 col10\" >p-adjust</th>        <th class=\"col_heading level0 col11\" >BF10</th>        <th class=\"col_heading level0 col12\" >CLES</th>        <th class=\"col_heading level0 col13\" >hedges</th>    </tr></thead><tbody>\n",
       "                <tr>\n",
       "                        <th id=\"T_13a6e41e_a975_11e9_8ddf_685b359177delevel0_row0\" class=\"row_heading level0 row0\" >0</th>\n",
       "                        <td id=\"T_13a6e41e_a975_11e9_8ddf_685b359177derow0_col0\" class=\"data row0 col0\" >category</td>\n",
       "                        <td id=\"T_13a6e41e_a975_11e9_8ddf_685b359177derow0_col1\" class=\"data row0 col1\" >ensemble</td>\n",
       "                        <td id=\"T_13a6e41e_a975_11e9_8ddf_685b359177derow0_col2\" class=\"data row0 col2\" >words</td>\n",
       "                        <td id=\"T_13a6e41e_a975_11e9_8ddf_685b359177derow0_col3\" class=\"data row0 col3\" >False</td>\n",
       "                        <td id=\"T_13a6e41e_a975_11e9_8ddf_685b359177derow0_col4\" class=\"data row0 col4\" >True</td>\n",
       "                        <td id=\"T_13a6e41e_a975_11e9_8ddf_685b359177derow0_col5\" class=\"data row0 col5\" >2.413</td>\n",
       "                        <td id=\"T_13a6e41e_a975_11e9_8ddf_685b359177derow0_col6\" class=\"data row0 col6\" >26</td>\n",
       "                        <td id=\"T_13a6e41e_a975_11e9_8ddf_685b359177derow0_col7\" class=\"data row0 col7\" >two-sided</td>\n",
       "                        <td id=\"T_13a6e41e_a975_11e9_8ddf_685b359177derow0_col8\" class=\"data row0 col8\" >0.0231492</td>\n",
       "                        <td id=\"T_13a6e41e_a975_11e9_8ddf_685b359177derow0_col9\" class=\"data row0 col9\" >0.0694477</td>\n",
       "                        <td id=\"T_13a6e41e_a975_11e9_8ddf_685b359177derow0_col10\" class=\"data row0 col10\" >bonferroni</td>\n",
       "                        <td id=\"T_13a6e41e_a975_11e9_8ddf_685b359177derow0_col11\" class=\"data row0 col11\" >2.763</td>\n",
       "                        <td id=\"T_13a6e41e_a975_11e9_8ddf_685b359177derow0_col12\" class=\"data row0 col12\" >0.74</td>\n",
       "                        <td id=\"T_13a6e41e_a975_11e9_8ddf_685b359177derow0_col13\" class=\"data row0 col13\" >0.886</td>\n",
       "            </tr>\n",
       "            <tr>\n",
       "                        <th id=\"T_13a6e41e_a975_11e9_8ddf_685b359177delevel0_row1\" class=\"row_heading level0 row1\" >1</th>\n",
       "                        <td id=\"T_13a6e41e_a975_11e9_8ddf_685b359177derow1_col0\" class=\"data row1 col0\" >category</td>\n",
       "                        <td id=\"T_13a6e41e_a975_11e9_8ddf_685b359177derow1_col1\" class=\"data row1 col1\" >ensemble</td>\n",
       "                        <td id=\"T_13a6e41e_a975_11e9_8ddf_685b359177derow1_col2\" class=\"data row1 col2\" >faces</td>\n",
       "                        <td id=\"T_13a6e41e_a975_11e9_8ddf_685b359177derow1_col3\" class=\"data row1 col3\" >False</td>\n",
       "                        <td id=\"T_13a6e41e_a975_11e9_8ddf_685b359177derow1_col4\" class=\"data row1 col4\" >True</td>\n",
       "                        <td id=\"T_13a6e41e_a975_11e9_8ddf_685b359177derow1_col5\" class=\"data row1 col5\" >-1.704</td>\n",
       "                        <td id=\"T_13a6e41e_a975_11e9_8ddf_685b359177derow1_col6\" class=\"data row1 col6\" >24.96</td>\n",
       "                        <td id=\"T_13a6e41e_a975_11e9_8ddf_685b359177derow1_col7\" class=\"data row1 col7\" >two-sided</td>\n",
       "                        <td id=\"T_13a6e41e_a975_11e9_8ddf_685b359177derow1_col8\" class=\"data row1 col8\" >0.100845</td>\n",
       "                        <td id=\"T_13a6e41e_a975_11e9_8ddf_685b359177derow1_col9\" class=\"data row1 col9\" >0.302536</td>\n",
       "                        <td id=\"T_13a6e41e_a975_11e9_8ddf_685b359177derow1_col10\" class=\"data row1 col10\" >bonferroni</td>\n",
       "                        <td id=\"T_13a6e41e_a975_11e9_8ddf_685b359177derow1_col11\" class=\"data row1 col11\" >1.024</td>\n",
       "                        <td id=\"T_13a6e41e_a975_11e9_8ddf_685b359177derow1_col12\" class=\"data row1 col12\" >0.67</td>\n",
       "                        <td id=\"T_13a6e41e_a975_11e9_8ddf_685b359177derow1_col13\" class=\"data row1 col13\" >-0.634</td>\n",
       "            </tr>\n",
       "            <tr>\n",
       "                        <th id=\"T_13a6e41e_a975_11e9_8ddf_685b359177delevel0_row2\" class=\"row_heading level0 row2\" >2</th>\n",
       "                        <td id=\"T_13a6e41e_a975_11e9_8ddf_685b359177derow2_col0\" class=\"data row2 col0\" >category</td>\n",
       "                        <td id=\"T_13a6e41e_a975_11e9_8ddf_685b359177derow2_col1\" class=\"data row2 col1\" >words</td>\n",
       "                        <td id=\"T_13a6e41e_a975_11e9_8ddf_685b359177derow2_col2\" class=\"data row2 col2\" >faces</td>\n",
       "                        <td id=\"T_13a6e41e_a975_11e9_8ddf_685b359177derow2_col3\" class=\"data row2 col3\" >False</td>\n",
       "                        <td id=\"T_13a6e41e_a975_11e9_8ddf_685b359177derow2_col4\" class=\"data row2 col4\" >True</td>\n",
       "                        <td id=\"T_13a6e41e_a975_11e9_8ddf_685b359177derow2_col5\" class=\"data row2 col5\" >-3.869</td>\n",
       "                        <td id=\"T_13a6e41e_a975_11e9_8ddf_685b359177derow2_col6\" class=\"data row2 col6\" >22.37</td>\n",
       "                        <td id=\"T_13a6e41e_a975_11e9_8ddf_685b359177derow2_col7\" class=\"data row2 col7\" >two-sided</td>\n",
       "                        <td id=\"T_13a6e41e_a975_11e9_8ddf_685b359177derow2_col8\" class=\"data row2 col8\" >0.000809217</td>\n",
       "                        <td id=\"T_13a6e41e_a975_11e9_8ddf_685b359177derow2_col9\" class=\"data row2 col9\" >0.00242765</td>\n",
       "                        <td id=\"T_13a6e41e_a975_11e9_8ddf_685b359177derow2_col10\" class=\"data row2 col10\" >bonferroni</td>\n",
       "                        <td id=\"T_13a6e41e_a975_11e9_8ddf_685b359177derow2_col11\" class=\"data row2 col11\" >41.361</td>\n",
       "                        <td id=\"T_13a6e41e_a975_11e9_8ddf_685b359177derow2_col12\" class=\"data row2 col12\" >0.874</td>\n",
       "                        <td id=\"T_13a6e41e_a975_11e9_8ddf_685b359177derow2_col13\" class=\"data row2 col13\" >-1.422</td>\n",
       "            </tr>\n",
       "    </tbody></table>"
      ],
      "text/plain": [
       "<pandas.io.formats.style.Styler at 0x12bdae710>"
      ]
     },
     "execution_count": 38,
     "metadata": {},
     "output_type": "execute_result"
    }
   ],
   "source": [
    "posthoc = pg.pairwise_ttests(data=data[data.bands=='delta'], dv='value', between='category', subject='subs',\n",
    "                             parametric=True, padjust='bonferroni')\n",
    "posthoc.style.applymap(color_significant, subset=['p-corr'])"
   ]
  },
  {
   "cell_type": "code",
   "execution_count": 7,
   "metadata": {},
   "outputs": [
    {
     "data": {
      "text/html": [
       "<style  type=\"text/css\" >\n",
       "    #T_31910f4a_a8c0_11e9_b45f_34de1a2c1766row0_col9 {\n",
       "            color:  black;\n",
       "        }    #T_31910f4a_a8c0_11e9_b45f_34de1a2c1766row1_col9 {\n",
       "            color:  black;\n",
       "        }    #T_31910f4a_a8c0_11e9_b45f_34de1a2c1766row2_col9 {\n",
       "            color:  red;\n",
       "        }</style><table id=\"T_31910f4a_a8c0_11e9_b45f_34de1a2c1766\" ><thead>    <tr>        <th class=\"blank level0\" ></th>        <th class=\"col_heading level0 col0\" >Contrast</th>        <th class=\"col_heading level0 col1\" >A</th>        <th class=\"col_heading level0 col2\" >B</th>        <th class=\"col_heading level0 col3\" >Paired</th>        <th class=\"col_heading level0 col4\" >Parametric</th>        <th class=\"col_heading level0 col5\" >T</th>        <th class=\"col_heading level0 col6\" >dof</th>        <th class=\"col_heading level0 col7\" >tail</th>        <th class=\"col_heading level0 col8\" >p-unc</th>        <th class=\"col_heading level0 col9\" >p-corr</th>        <th class=\"col_heading level0 col10\" >p-adjust</th>        <th class=\"col_heading level0 col11\" >BF10</th>        <th class=\"col_heading level0 col12\" >CLES</th>        <th class=\"col_heading level0 col13\" >hedges</th>    </tr></thead><tbody>\n",
       "                <tr>\n",
       "                        <th id=\"T_31910f4a_a8c0_11e9_b45f_34de1a2c1766level0_row0\" class=\"row_heading level0 row0\" >0</th>\n",
       "                        <td id=\"T_31910f4a_a8c0_11e9_b45f_34de1a2c1766row0_col0\" class=\"data row0 col0\" >category</td>\n",
       "                        <td id=\"T_31910f4a_a8c0_11e9_b45f_34de1a2c1766row0_col1\" class=\"data row0 col1\" >ensemble</td>\n",
       "                        <td id=\"T_31910f4a_a8c0_11e9_b45f_34de1a2c1766row0_col2\" class=\"data row0 col2\" >words</td>\n",
       "                        <td id=\"T_31910f4a_a8c0_11e9_b45f_34de1a2c1766row0_col3\" class=\"data row0 col3\" >False</td>\n",
       "                        <td id=\"T_31910f4a_a8c0_11e9_b45f_34de1a2c1766row0_col4\" class=\"data row0 col4\" >True</td>\n",
       "                        <td id=\"T_31910f4a_a8c0_11e9_b45f_34de1a2c1766row0_col5\" class=\"data row0 col5\" >-1.628</td>\n",
       "                        <td id=\"T_31910f4a_a8c0_11e9_b45f_34de1a2c1766row0_col6\" class=\"data row0 col6\" >26</td>\n",
       "                        <td id=\"T_31910f4a_a8c0_11e9_b45f_34de1a2c1766row0_col7\" class=\"data row0 col7\" >two-sided</td>\n",
       "                        <td id=\"T_31910f4a_a8c0_11e9_b45f_34de1a2c1766row0_col8\" class=\"data row0 col8\" >0.11557</td>\n",
       "                        <td id=\"T_31910f4a_a8c0_11e9_b45f_34de1a2c1766row0_col9\" class=\"data row0 col9\" >0.346711</td>\n",
       "                        <td id=\"T_31910f4a_a8c0_11e9_b45f_34de1a2c1766row0_col10\" class=\"data row0 col10\" >bonferroni</td>\n",
       "                        <td id=\"T_31910f4a_a8c0_11e9_b45f_34de1a2c1766row0_col11\" class=\"data row0 col11\" >0.932</td>\n",
       "                        <td id=\"T_31910f4a_a8c0_11e9_b45f_34de1a2c1766row0_col12\" class=\"data row0 col12\" >0.745</td>\n",
       "                        <td id=\"T_31910f4a_a8c0_11e9_b45f_34de1a2c1766row0_col13\" class=\"data row0 col13\" >-0.597</td>\n",
       "            </tr>\n",
       "            <tr>\n",
       "                        <th id=\"T_31910f4a_a8c0_11e9_b45f_34de1a2c1766level0_row1\" class=\"row_heading level0 row1\" >1</th>\n",
       "                        <td id=\"T_31910f4a_a8c0_11e9_b45f_34de1a2c1766row1_col0\" class=\"data row1 col0\" >category</td>\n",
       "                        <td id=\"T_31910f4a_a8c0_11e9_b45f_34de1a2c1766row1_col1\" class=\"data row1 col1\" >ensemble</td>\n",
       "                        <td id=\"T_31910f4a_a8c0_11e9_b45f_34de1a2c1766row1_col2\" class=\"data row1 col2\" >faces</td>\n",
       "                        <td id=\"T_31910f4a_a8c0_11e9_b45f_34de1a2c1766row1_col3\" class=\"data row1 col3\" >False</td>\n",
       "                        <td id=\"T_31910f4a_a8c0_11e9_b45f_34de1a2c1766row1_col4\" class=\"data row1 col4\" >True</td>\n",
       "                        <td id=\"T_31910f4a_a8c0_11e9_b45f_34de1a2c1766row1_col5\" class=\"data row1 col5\" >2.303</td>\n",
       "                        <td id=\"T_31910f4a_a8c0_11e9_b45f_34de1a2c1766row1_col6\" class=\"data row1 col6\" >24.85</td>\n",
       "                        <td id=\"T_31910f4a_a8c0_11e9_b45f_34de1a2c1766row1_col7\" class=\"data row1 col7\" >two-sided</td>\n",
       "                        <td id=\"T_31910f4a_a8c0_11e9_b45f_34de1a2c1766row1_col8\" class=\"data row1 col8\" >0.0299379</td>\n",
       "                        <td id=\"T_31910f4a_a8c0_11e9_b45f_34de1a2c1766row1_col9\" class=\"data row1 col9\" >0.0898138</td>\n",
       "                        <td id=\"T_31910f4a_a8c0_11e9_b45f_34de1a2c1766row1_col10\" class=\"data row1 col10\" >bonferroni</td>\n",
       "                        <td id=\"T_31910f4a_a8c0_11e9_b45f_34de1a2c1766row1_col11\" class=\"data row1 col11\" >2.316</td>\n",
       "                        <td id=\"T_31910f4a_a8c0_11e9_b45f_34de1a2c1766row1_col12\" class=\"data row1 col12\" >0.791</td>\n",
       "                        <td id=\"T_31910f4a_a8c0_11e9_b45f_34de1a2c1766row1_col13\" class=\"data row1 col13\" >0.855</td>\n",
       "            </tr>\n",
       "            <tr>\n",
       "                        <th id=\"T_31910f4a_a8c0_11e9_b45f_34de1a2c1766level0_row2\" class=\"row_heading level0 row2\" >2</th>\n",
       "                        <td id=\"T_31910f4a_a8c0_11e9_b45f_34de1a2c1766row2_col0\" class=\"data row2 col0\" >category</td>\n",
       "                        <td id=\"T_31910f4a_a8c0_11e9_b45f_34de1a2c1766row2_col1\" class=\"data row2 col1\" >words</td>\n",
       "                        <td id=\"T_31910f4a_a8c0_11e9_b45f_34de1a2c1766row2_col2\" class=\"data row2 col2\" >faces</td>\n",
       "                        <td id=\"T_31910f4a_a8c0_11e9_b45f_34de1a2c1766row2_col3\" class=\"data row2 col3\" >False</td>\n",
       "                        <td id=\"T_31910f4a_a8c0_11e9_b45f_34de1a2c1766row2_col4\" class=\"data row2 col4\" >True</td>\n",
       "                        <td id=\"T_31910f4a_a8c0_11e9_b45f_34de1a2c1766row2_col5\" class=\"data row2 col5\" >3.645</td>\n",
       "                        <td id=\"T_31910f4a_a8c0_11e9_b45f_34de1a2c1766row2_col6\" class=\"data row2 col6\" >22.57</td>\n",
       "                        <td id=\"T_31910f4a_a8c0_11e9_b45f_34de1a2c1766row2_col7\" class=\"data row2 col7\" >two-sided</td>\n",
       "                        <td id=\"T_31910f4a_a8c0_11e9_b45f_34de1a2c1766row2_col8\" class=\"data row2 col8\" >0.00138221</td>\n",
       "                        <td id=\"T_31910f4a_a8c0_11e9_b45f_34de1a2c1766row2_col9\" class=\"data row2 col9\" >0.00414662</td>\n",
       "                        <td id=\"T_31910f4a_a8c0_11e9_b45f_34de1a2c1766row2_col10\" class=\"data row2 col10\" >bonferroni</td>\n",
       "                        <td id=\"T_31910f4a_a8c0_11e9_b45f_34de1a2c1766row2_col11\" class=\"data row2 col11\" >26.095</td>\n",
       "                        <td id=\"T_31910f4a_a8c0_11e9_b45f_34de1a2c1766row2_col12\" class=\"data row2 col12\" >0.852</td>\n",
       "                        <td id=\"T_31910f4a_a8c0_11e9_b45f_34de1a2c1766row2_col13\" class=\"data row2 col13\" >1.341</td>\n",
       "            </tr>\n",
       "    </tbody></table>"
      ],
      "text/plain": [
       "<pandas.io.formats.style.Styler at 0x1cbf366f8d0>"
      ]
     },
     "execution_count": 7,
     "metadata": {},
     "output_type": "execute_result"
    }
   ],
   "source": [
    "posthoc = pg.pairwise_ttests(data=data[data.bands=='theta'], dv='value', between='category', subject='subs',\n",
    "                             parametric=True, padjust='bonferroni')\n",
    "posthoc.style.applymap(color_significant, subset=['p-corr'])"
   ]
  },
  {
   "cell_type": "code",
   "execution_count": 8,
   "metadata": {},
   "outputs": [
    {
     "data": {
      "text/html": [
       "<style  type=\"text/css\" >\n",
       "    #T_31b0f394_a8c0_11e9_b9d3_34de1a2c1766row0_col9 {\n",
       "            color:  black;\n",
       "        }    #T_31b0f394_a8c0_11e9_b9d3_34de1a2c1766row1_col9 {\n",
       "            color:  purple;\n",
       "        }    #T_31b0f394_a8c0_11e9_b9d3_34de1a2c1766row2_col9 {\n",
       "            color:  purple;\n",
       "        }</style><table id=\"T_31b0f394_a8c0_11e9_b9d3_34de1a2c1766\" ><thead>    <tr>        <th class=\"blank level0\" ></th>        <th class=\"col_heading level0 col0\" >Contrast</th>        <th class=\"col_heading level0 col1\" >A</th>        <th class=\"col_heading level0 col2\" >B</th>        <th class=\"col_heading level0 col3\" >Paired</th>        <th class=\"col_heading level0 col4\" >Parametric</th>        <th class=\"col_heading level0 col5\" >T</th>        <th class=\"col_heading level0 col6\" >dof</th>        <th class=\"col_heading level0 col7\" >tail</th>        <th class=\"col_heading level0 col8\" >p-unc</th>        <th class=\"col_heading level0 col9\" >p-corr</th>        <th class=\"col_heading level0 col10\" >p-adjust</th>        <th class=\"col_heading level0 col11\" >BF10</th>        <th class=\"col_heading level0 col12\" >CLES</th>        <th class=\"col_heading level0 col13\" >hedges</th>    </tr></thead><tbody>\n",
       "                <tr>\n",
       "                        <th id=\"T_31b0f394_a8c0_11e9_b9d3_34de1a2c1766level0_row0\" class=\"row_heading level0 row0\" >0</th>\n",
       "                        <td id=\"T_31b0f394_a8c0_11e9_b9d3_34de1a2c1766row0_col0\" class=\"data row0 col0\" >category</td>\n",
       "                        <td id=\"T_31b0f394_a8c0_11e9_b9d3_34de1a2c1766row0_col1\" class=\"data row0 col1\" >ensemble</td>\n",
       "                        <td id=\"T_31b0f394_a8c0_11e9_b9d3_34de1a2c1766row0_col2\" class=\"data row0 col2\" >words</td>\n",
       "                        <td id=\"T_31b0f394_a8c0_11e9_b9d3_34de1a2c1766row0_col3\" class=\"data row0 col3\" >False</td>\n",
       "                        <td id=\"T_31b0f394_a8c0_11e9_b9d3_34de1a2c1766row0_col4\" class=\"data row0 col4\" >True</td>\n",
       "                        <td id=\"T_31b0f394_a8c0_11e9_b9d3_34de1a2c1766row0_col5\" class=\"data row0 col5\" >-1.293</td>\n",
       "                        <td id=\"T_31b0f394_a8c0_11e9_b9d3_34de1a2c1766row0_col6\" class=\"data row0 col6\" >26</td>\n",
       "                        <td id=\"T_31b0f394_a8c0_11e9_b9d3_34de1a2c1766row0_col7\" class=\"data row0 col7\" >two-sided</td>\n",
       "                        <td id=\"T_31b0f394_a8c0_11e9_b9d3_34de1a2c1766row0_col8\" class=\"data row0 col8\" >0.207315</td>\n",
       "                        <td id=\"T_31b0f394_a8c0_11e9_b9d3_34de1a2c1766row0_col9\" class=\"data row0 col9\" >0.621945</td>\n",
       "                        <td id=\"T_31b0f394_a8c0_11e9_b9d3_34de1a2c1766row0_col10\" class=\"data row0 col10\" >bonferroni</td>\n",
       "                        <td id=\"T_31b0f394_a8c0_11e9_b9d3_34de1a2c1766row0_col11\" class=\"data row0 col11\" >0.656</td>\n",
       "                        <td id=\"T_31b0f394_a8c0_11e9_b9d3_34de1a2c1766row0_col12\" class=\"data row0 col12\" >0.663</td>\n",
       "                        <td id=\"T_31b0f394_a8c0_11e9_b9d3_34de1a2c1766row0_col13\" class=\"data row0 col13\" >-0.475</td>\n",
       "            </tr>\n",
       "            <tr>\n",
       "                        <th id=\"T_31b0f394_a8c0_11e9_b9d3_34de1a2c1766level0_row1\" class=\"row_heading level0 row1\" >1</th>\n",
       "                        <td id=\"T_31b0f394_a8c0_11e9_b9d3_34de1a2c1766row1_col0\" class=\"data row1 col0\" >category</td>\n",
       "                        <td id=\"T_31b0f394_a8c0_11e9_b9d3_34de1a2c1766row1_col1\" class=\"data row1 col1\" >ensemble</td>\n",
       "                        <td id=\"T_31b0f394_a8c0_11e9_b9d3_34de1a2c1766row1_col2\" class=\"data row1 col2\" >faces</td>\n",
       "                        <td id=\"T_31b0f394_a8c0_11e9_b9d3_34de1a2c1766row1_col3\" class=\"data row1 col3\" >False</td>\n",
       "                        <td id=\"T_31b0f394_a8c0_11e9_b9d3_34de1a2c1766row1_col4\" class=\"data row1 col4\" >True</td>\n",
       "                        <td id=\"T_31b0f394_a8c0_11e9_b9d3_34de1a2c1766row1_col5\" class=\"data row1 col5\" >7.67</td>\n",
       "                        <td id=\"T_31b0f394_a8c0_11e9_b9d3_34de1a2c1766row1_col6\" class=\"data row1 col6\" >25</td>\n",
       "                        <td id=\"T_31b0f394_a8c0_11e9_b9d3_34de1a2c1766row1_col7\" class=\"data row1 col7\" >two-sided</td>\n",
       "                        <td id=\"T_31b0f394_a8c0_11e9_b9d3_34de1a2c1766row1_col8\" class=\"data row1 col8\" >5.02123e-08</td>\n",
       "                        <td id=\"T_31b0f394_a8c0_11e9_b9d3_34de1a2c1766row1_col9\" class=\"data row1 col9\" >1.50637e-07</td>\n",
       "                        <td id=\"T_31b0f394_a8c0_11e9_b9d3_34de1a2c1766row1_col10\" class=\"data row1 col10\" >bonferroni</td>\n",
       "                        <td id=\"T_31b0f394_a8c0_11e9_b9d3_34de1a2c1766row1_col11\" class=\"data row1 col11\" >1.738e+05</td>\n",
       "                        <td id=\"T_31b0f394_a8c0_11e9_b9d3_34de1a2c1766row1_col12\" class=\"data row1 col12\" >0.984</td>\n",
       "                        <td id=\"T_31b0f394_a8c0_11e9_b9d3_34de1a2c1766row1_col13\" class=\"data row1 col13\" >2.857</td>\n",
       "            </tr>\n",
       "            <tr>\n",
       "                        <th id=\"T_31b0f394_a8c0_11e9_b9d3_34de1a2c1766level0_row2\" class=\"row_heading level0 row2\" >2</th>\n",
       "                        <td id=\"T_31b0f394_a8c0_11e9_b9d3_34de1a2c1766row2_col0\" class=\"data row2 col0\" >category</td>\n",
       "                        <td id=\"T_31b0f394_a8c0_11e9_b9d3_34de1a2c1766row2_col1\" class=\"data row2 col1\" >words</td>\n",
       "                        <td id=\"T_31b0f394_a8c0_11e9_b9d3_34de1a2c1766row2_col2\" class=\"data row2 col2\" >faces</td>\n",
       "                        <td id=\"T_31b0f394_a8c0_11e9_b9d3_34de1a2c1766row2_col3\" class=\"data row2 col3\" >False</td>\n",
       "                        <td id=\"T_31b0f394_a8c0_11e9_b9d3_34de1a2c1766row2_col4\" class=\"data row2 col4\" >True</td>\n",
       "                        <td id=\"T_31b0f394_a8c0_11e9_b9d3_34de1a2c1766row2_col5\" class=\"data row2 col5\" >6.644</td>\n",
       "                        <td id=\"T_31b0f394_a8c0_11e9_b9d3_34de1a2c1766row2_col6\" class=\"data row2 col6\" >20.11</td>\n",
       "                        <td id=\"T_31b0f394_a8c0_11e9_b9d3_34de1a2c1766row2_col7\" class=\"data row2 col7\" >two-sided</td>\n",
       "                        <td id=\"T_31b0f394_a8c0_11e9_b9d3_34de1a2c1766row2_col8\" class=\"data row2 col8\" >1.75545e-06</td>\n",
       "                        <td id=\"T_31b0f394_a8c0_11e9_b9d3_34de1a2c1766row2_col9\" class=\"data row2 col9\" >5.26635e-06</td>\n",
       "                        <td id=\"T_31b0f394_a8c0_11e9_b9d3_34de1a2c1766row2_col10\" class=\"data row2 col10\" >bonferroni</td>\n",
       "                        <td id=\"T_31b0f394_a8c0_11e9_b9d3_34de1a2c1766row2_col11\" class=\"data row2 col11\" >1.886e+04</td>\n",
       "                        <td id=\"T_31b0f394_a8c0_11e9_b9d3_34de1a2c1766row2_col12\" class=\"data row2 col12\" >0.962</td>\n",
       "                        <td id=\"T_31b0f394_a8c0_11e9_b9d3_34de1a2c1766row2_col13\" class=\"data row2 col13\" >2.429</td>\n",
       "            </tr>\n",
       "    </tbody></table>"
      ],
      "text/plain": [
       "<pandas.io.formats.style.Styler at 0x1cbf366ff28>"
      ]
     },
     "execution_count": 8,
     "metadata": {},
     "output_type": "execute_result"
    }
   ],
   "source": [
    "posthoc = pg.pairwise_ttests(data=data[data.bands=='alpha'], dv='value', between='category', subject='subs',\n",
    "                             parametric=True, padjust='bonferroni')\n",
    "posthoc.style.applymap(color_significant, subset=['p-corr'])"
   ]
  },
  {
   "cell_type": "code",
   "execution_count": 9,
   "metadata": {},
   "outputs": [
    {
     "data": {
      "text/html": [
       "<style  type=\"text/css\" >\n",
       "    #T_31de5f26_a8c0_11e9_9b0d_34de1a2c1766row0_col9 {\n",
       "            color:  black;\n",
       "        }    #T_31de5f26_a8c0_11e9_9b0d_34de1a2c1766row1_col9 {\n",
       "            color:  red;\n",
       "        }    #T_31de5f26_a8c0_11e9_9b0d_34de1a2c1766row2_col9 {\n",
       "            color:  black;\n",
       "        }</style><table id=\"T_31de5f26_a8c0_11e9_9b0d_34de1a2c1766\" ><thead>    <tr>        <th class=\"blank level0\" ></th>        <th class=\"col_heading level0 col0\" >Contrast</th>        <th class=\"col_heading level0 col1\" >A</th>        <th class=\"col_heading level0 col2\" >B</th>        <th class=\"col_heading level0 col3\" >Paired</th>        <th class=\"col_heading level0 col4\" >Parametric</th>        <th class=\"col_heading level0 col5\" >T</th>        <th class=\"col_heading level0 col6\" >dof</th>        <th class=\"col_heading level0 col7\" >tail</th>        <th class=\"col_heading level0 col8\" >p-unc</th>        <th class=\"col_heading level0 col9\" >p-corr</th>        <th class=\"col_heading level0 col10\" >p-adjust</th>        <th class=\"col_heading level0 col11\" >BF10</th>        <th class=\"col_heading level0 col12\" >CLES</th>        <th class=\"col_heading level0 col13\" >hedges</th>    </tr></thead><tbody>\n",
       "                <tr>\n",
       "                        <th id=\"T_31de5f26_a8c0_11e9_9b0d_34de1a2c1766level0_row0\" class=\"row_heading level0 row0\" >0</th>\n",
       "                        <td id=\"T_31de5f26_a8c0_11e9_9b0d_34de1a2c1766row0_col0\" class=\"data row0 col0\" >category</td>\n",
       "                        <td id=\"T_31de5f26_a8c0_11e9_9b0d_34de1a2c1766row0_col1\" class=\"data row0 col1\" >ensemble</td>\n",
       "                        <td id=\"T_31de5f26_a8c0_11e9_9b0d_34de1a2c1766row0_col2\" class=\"data row0 col2\" >words</td>\n",
       "                        <td id=\"T_31de5f26_a8c0_11e9_9b0d_34de1a2c1766row0_col3\" class=\"data row0 col3\" >False</td>\n",
       "                        <td id=\"T_31de5f26_a8c0_11e9_9b0d_34de1a2c1766row0_col4\" class=\"data row0 col4\" >True</td>\n",
       "                        <td id=\"T_31de5f26_a8c0_11e9_9b0d_34de1a2c1766row0_col5\" class=\"data row0 col5\" >-1.012</td>\n",
       "                        <td id=\"T_31de5f26_a8c0_11e9_9b0d_34de1a2c1766row0_col6\" class=\"data row0 col6\" >26</td>\n",
       "                        <td id=\"T_31de5f26_a8c0_11e9_9b0d_34de1a2c1766row0_col7\" class=\"data row0 col7\" >two-sided</td>\n",
       "                        <td id=\"T_31de5f26_a8c0_11e9_9b0d_34de1a2c1766row0_col8\" class=\"data row0 col8\" >0.32064</td>\n",
       "                        <td id=\"T_31de5f26_a8c0_11e9_9b0d_34de1a2c1766row0_col9\" class=\"data row0 col9\" >0.961919</td>\n",
       "                        <td id=\"T_31de5f26_a8c0_11e9_9b0d_34de1a2c1766row0_col10\" class=\"data row0 col10\" >bonferroni</td>\n",
       "                        <td id=\"T_31de5f26_a8c0_11e9_9b0d_34de1a2c1766row0_col11\" class=\"data row0 col11\" >0.518</td>\n",
       "                        <td id=\"T_31de5f26_a8c0_11e9_9b0d_34de1a2c1766row0_col12\" class=\"data row0 col12\" >0.571</td>\n",
       "                        <td id=\"T_31de5f26_a8c0_11e9_9b0d_34de1a2c1766row0_col13\" class=\"data row0 col13\" >-0.372</td>\n",
       "            </tr>\n",
       "            <tr>\n",
       "                        <th id=\"T_31de5f26_a8c0_11e9_9b0d_34de1a2c1766level0_row1\" class=\"row_heading level0 row1\" >1</th>\n",
       "                        <td id=\"T_31de5f26_a8c0_11e9_9b0d_34de1a2c1766row1_col0\" class=\"data row1 col0\" >category</td>\n",
       "                        <td id=\"T_31de5f26_a8c0_11e9_9b0d_34de1a2c1766row1_col1\" class=\"data row1 col1\" >ensemble</td>\n",
       "                        <td id=\"T_31de5f26_a8c0_11e9_9b0d_34de1a2c1766row1_col2\" class=\"data row1 col2\" >faces</td>\n",
       "                        <td id=\"T_31de5f26_a8c0_11e9_9b0d_34de1a2c1766row1_col3\" class=\"data row1 col3\" >False</td>\n",
       "                        <td id=\"T_31de5f26_a8c0_11e9_9b0d_34de1a2c1766row1_col4\" class=\"data row1 col4\" >True</td>\n",
       "                        <td id=\"T_31de5f26_a8c0_11e9_9b0d_34de1a2c1766row1_col5\" class=\"data row1 col5\" >-2.975</td>\n",
       "                        <td id=\"T_31de5f26_a8c0_11e9_9b0d_34de1a2c1766row1_col6\" class=\"data row1 col6\" >18.19</td>\n",
       "                        <td id=\"T_31de5f26_a8c0_11e9_9b0d_34de1a2c1766row1_col7\" class=\"data row1 col7\" >two-sided</td>\n",
       "                        <td id=\"T_31de5f26_a8c0_11e9_9b0d_34de1a2c1766row1_col8\" class=\"data row1 col8\" >0.00804586</td>\n",
       "                        <td id=\"T_31de5f26_a8c0_11e9_9b0d_34de1a2c1766row1_col9\" class=\"data row1 col9\" >0.0241376</td>\n",
       "                        <td id=\"T_31de5f26_a8c0_11e9_9b0d_34de1a2c1766row1_col10\" class=\"data row1 col10\" >bonferroni</td>\n",
       "                        <td id=\"T_31de5f26_a8c0_11e9_9b0d_34de1a2c1766row1_col11\" class=\"data row1 col11\" >7.155</td>\n",
       "                        <td id=\"T_31de5f26_a8c0_11e9_9b0d_34de1a2c1766row1_col12\" class=\"data row1 col12\" >0.775</td>\n",
       "                        <td id=\"T_31de5f26_a8c0_11e9_9b0d_34de1a2c1766row1_col13\" class=\"data row1 col13\" >-1.083</td>\n",
       "            </tr>\n",
       "            <tr>\n",
       "                        <th id=\"T_31de5f26_a8c0_11e9_9b0d_34de1a2c1766level0_row2\" class=\"row_heading level0 row2\" >2</th>\n",
       "                        <td id=\"T_31de5f26_a8c0_11e9_9b0d_34de1a2c1766row2_col0\" class=\"data row2 col0\" >category</td>\n",
       "                        <td id=\"T_31de5f26_a8c0_11e9_9b0d_34de1a2c1766row2_col1\" class=\"data row2 col1\" >words</td>\n",
       "                        <td id=\"T_31de5f26_a8c0_11e9_9b0d_34de1a2c1766row2_col2\" class=\"data row2 col2\" >faces</td>\n",
       "                        <td id=\"T_31de5f26_a8c0_11e9_9b0d_34de1a2c1766row2_col3\" class=\"data row2 col3\" >False</td>\n",
       "                        <td id=\"T_31de5f26_a8c0_11e9_9b0d_34de1a2c1766row2_col4\" class=\"data row2 col4\" >True</td>\n",
       "                        <td id=\"T_31de5f26_a8c0_11e9_9b0d_34de1a2c1766row2_col5\" class=\"data row2 col5\" >-0.646</td>\n",
       "                        <td id=\"T_31de5f26_a8c0_11e9_9b0d_34de1a2c1766row2_col6\" class=\"data row2 col6\" >14.69</td>\n",
       "                        <td id=\"T_31de5f26_a8c0_11e9_9b0d_34de1a2c1766row2_col7\" class=\"data row2 col7\" >two-sided</td>\n",
       "                        <td id=\"T_31de5f26_a8c0_11e9_9b0d_34de1a2c1766row2_col8\" class=\"data row2 col8\" >0.528342</td>\n",
       "                        <td id=\"T_31de5f26_a8c0_11e9_9b0d_34de1a2c1766row2_col9\" class=\"data row2 col9\" >1</td>\n",
       "                        <td id=\"T_31de5f26_a8c0_11e9_9b0d_34de1a2c1766row2_col10\" class=\"data row2 col10\" >bonferroni</td>\n",
       "                        <td id=\"T_31de5f26_a8c0_11e9_9b0d_34de1a2c1766row2_col11\" class=\"data row2 col11\" >0.418</td>\n",
       "                        <td id=\"T_31de5f26_a8c0_11e9_9b0d_34de1a2c1766row2_col12\" class=\"data row2 col12\" >0.604</td>\n",
       "                        <td id=\"T_31de5f26_a8c0_11e9_9b0d_34de1a2c1766row2_col13\" class=\"data row2 col13\" >-0.233</td>\n",
       "            </tr>\n",
       "    </tbody></table>"
      ],
      "text/plain": [
       "<pandas.io.formats.style.Styler at 0x1cbf366fcc0>"
      ]
     },
     "execution_count": 9,
     "metadata": {},
     "output_type": "execute_result"
    }
   ],
   "source": [
    "posthoc = pg.pairwise_ttests(data=data[data.bands=='beta'], dv='value', between='category', subject='subs',\n",
    "                             parametric=True, padjust='bonferroni')\n",
    "posthoc.style.applymap(color_significant, subset=['p-corr'])"
   ]
  },
  {
   "cell_type": "code",
   "execution_count": 10,
   "metadata": {},
   "outputs": [
    {
     "data": {
      "text/html": [
       "<style  type=\"text/css\" >\n",
       "    #T_3200689a_a8c0_11e9_842d_34de1a2c1766row0_col9 {\n",
       "            color:  black;\n",
       "        }    #T_3200689a_a8c0_11e9_842d_34de1a2c1766row1_col9 {\n",
       "            color:  red;\n",
       "        }    #T_3200689a_a8c0_11e9_842d_34de1a2c1766row2_col9 {\n",
       "            color:  red;\n",
       "        }</style><table id=\"T_3200689a_a8c0_11e9_842d_34de1a2c1766\" ><thead>    <tr>        <th class=\"blank level0\" ></th>        <th class=\"col_heading level0 col0\" >Contrast</th>        <th class=\"col_heading level0 col1\" >A</th>        <th class=\"col_heading level0 col2\" >B</th>        <th class=\"col_heading level0 col3\" >Paired</th>        <th class=\"col_heading level0 col4\" >Parametric</th>        <th class=\"col_heading level0 col5\" >T</th>        <th class=\"col_heading level0 col6\" >dof</th>        <th class=\"col_heading level0 col7\" >tail</th>        <th class=\"col_heading level0 col8\" >p-unc</th>        <th class=\"col_heading level0 col9\" >p-corr</th>        <th class=\"col_heading level0 col10\" >p-adjust</th>        <th class=\"col_heading level0 col11\" >BF10</th>        <th class=\"col_heading level0 col12\" >CLES</th>        <th class=\"col_heading level0 col13\" >hedges</th>    </tr></thead><tbody>\n",
       "                <tr>\n",
       "                        <th id=\"T_3200689a_a8c0_11e9_842d_34de1a2c1766level0_row0\" class=\"row_heading level0 row0\" >0</th>\n",
       "                        <td id=\"T_3200689a_a8c0_11e9_842d_34de1a2c1766row0_col0\" class=\"data row0 col0\" >category</td>\n",
       "                        <td id=\"T_3200689a_a8c0_11e9_842d_34de1a2c1766row0_col1\" class=\"data row0 col1\" >ensemble</td>\n",
       "                        <td id=\"T_3200689a_a8c0_11e9_842d_34de1a2c1766row0_col2\" class=\"data row0 col2\" >words</td>\n",
       "                        <td id=\"T_3200689a_a8c0_11e9_842d_34de1a2c1766row0_col3\" class=\"data row0 col3\" >False</td>\n",
       "                        <td id=\"T_3200689a_a8c0_11e9_842d_34de1a2c1766row0_col4\" class=\"data row0 col4\" >True</td>\n",
       "                        <td id=\"T_3200689a_a8c0_11e9_842d_34de1a2c1766row0_col5\" class=\"data row0 col5\" >1.596</td>\n",
       "                        <td id=\"T_3200689a_a8c0_11e9_842d_34de1a2c1766row0_col6\" class=\"data row0 col6\" >26</td>\n",
       "                        <td id=\"T_3200689a_a8c0_11e9_842d_34de1a2c1766row0_col7\" class=\"data row0 col7\" >two-sided</td>\n",
       "                        <td id=\"T_3200689a_a8c0_11e9_842d_34de1a2c1766row0_col8\" class=\"data row0 col8\" >0.122621</td>\n",
       "                        <td id=\"T_3200689a_a8c0_11e9_842d_34de1a2c1766row0_col9\" class=\"data row0 col9\" >0.367863</td>\n",
       "                        <td id=\"T_3200689a_a8c0_11e9_842d_34de1a2c1766row0_col10\" class=\"data row0 col10\" >bonferroni</td>\n",
       "                        <td id=\"T_3200689a_a8c0_11e9_842d_34de1a2c1766row0_col11\" class=\"data row0 col11\" >0.898</td>\n",
       "                        <td id=\"T_3200689a_a8c0_11e9_842d_34de1a2c1766row0_col12\" class=\"data row0 col12\" >0.694</td>\n",
       "                        <td id=\"T_3200689a_a8c0_11e9_842d_34de1a2c1766row0_col13\" class=\"data row0 col13\" >0.586</td>\n",
       "            </tr>\n",
       "            <tr>\n",
       "                        <th id=\"T_3200689a_a8c0_11e9_842d_34de1a2c1766level0_row1\" class=\"row_heading level0 row1\" >1</th>\n",
       "                        <td id=\"T_3200689a_a8c0_11e9_842d_34de1a2c1766row1_col0\" class=\"data row1 col0\" >category</td>\n",
       "                        <td id=\"T_3200689a_a8c0_11e9_842d_34de1a2c1766row1_col1\" class=\"data row1 col1\" >ensemble</td>\n",
       "                        <td id=\"T_3200689a_a8c0_11e9_842d_34de1a2c1766row1_col2\" class=\"data row1 col2\" >faces</td>\n",
       "                        <td id=\"T_3200689a_a8c0_11e9_842d_34de1a2c1766row1_col3\" class=\"data row1 col3\" >False</td>\n",
       "                        <td id=\"T_3200689a_a8c0_11e9_842d_34de1a2c1766row1_col4\" class=\"data row1 col4\" >True</td>\n",
       "                        <td id=\"T_3200689a_a8c0_11e9_842d_34de1a2c1766row1_col5\" class=\"data row1 col5\" >-3.642</td>\n",
       "                        <td id=\"T_3200689a_a8c0_11e9_842d_34de1a2c1766row1_col6\" class=\"data row1 col6\" >15.21</td>\n",
       "                        <td id=\"T_3200689a_a8c0_11e9_842d_34de1a2c1766row1_col7\" class=\"data row1 col7\" >two-sided</td>\n",
       "                        <td id=\"T_3200689a_a8c0_11e9_842d_34de1a2c1766row1_col8\" class=\"data row1 col8\" >0.00236244</td>\n",
       "                        <td id=\"T_3200689a_a8c0_11e9_842d_34de1a2c1766row1_col9\" class=\"data row1 col9\" >0.00708733</td>\n",
       "                        <td id=\"T_3200689a_a8c0_11e9_842d_34de1a2c1766row1_col10\" class=\"data row1 col10\" >bonferroni</td>\n",
       "                        <td id=\"T_3200689a_a8c0_11e9_842d_34de1a2c1766row1_col11\" class=\"data row1 col11\" >25.899</td>\n",
       "                        <td id=\"T_3200689a_a8c0_11e9_842d_34de1a2c1766row1_col12\" class=\"data row1 col12\" >0.797</td>\n",
       "                        <td id=\"T_3200689a_a8c0_11e9_842d_34de1a2c1766row1_col13\" class=\"data row1 col13\" >-1.4</td>\n",
       "            </tr>\n",
       "            <tr>\n",
       "                        <th id=\"T_3200689a_a8c0_11e9_842d_34de1a2c1766level0_row2\" class=\"row_heading level0 row2\" >2</th>\n",
       "                        <td id=\"T_3200689a_a8c0_11e9_842d_34de1a2c1766row2_col0\" class=\"data row2 col0\" >category</td>\n",
       "                        <td id=\"T_3200689a_a8c0_11e9_842d_34de1a2c1766row2_col1\" class=\"data row2 col1\" >words</td>\n",
       "                        <td id=\"T_3200689a_a8c0_11e9_842d_34de1a2c1766row2_col2\" class=\"data row2 col2\" >faces</td>\n",
       "                        <td id=\"T_3200689a_a8c0_11e9_842d_34de1a2c1766row2_col3\" class=\"data row2 col3\" >False</td>\n",
       "                        <td id=\"T_3200689a_a8c0_11e9_842d_34de1a2c1766row2_col4\" class=\"data row2 col4\" >True</td>\n",
       "                        <td id=\"T_3200689a_a8c0_11e9_842d_34de1a2c1766row2_col5\" class=\"data row2 col5\" >-4.038</td>\n",
       "                        <td id=\"T_3200689a_a8c0_11e9_842d_34de1a2c1766row2_col6\" class=\"data row2 col6\" >24.48</td>\n",
       "                        <td id=\"T_3200689a_a8c0_11e9_842d_34de1a2c1766row2_col7\" class=\"data row2 col7\" >two-sided</td>\n",
       "                        <td id=\"T_3200689a_a8c0_11e9_842d_34de1a2c1766row2_col8\" class=\"data row2 col8\" >0.000463932</td>\n",
       "                        <td id=\"T_3200689a_a8c0_11e9_842d_34de1a2c1766row2_col9\" class=\"data row2 col9\" >0.0013918</td>\n",
       "                        <td id=\"T_3200689a_a8c0_11e9_842d_34de1a2c1766row2_col10\" class=\"data row2 col10\" >bonferroni</td>\n",
       "                        <td id=\"T_3200689a_a8c0_11e9_842d_34de1a2c1766row2_col11\" class=\"data row2 col11\" >58.937</td>\n",
       "                        <td id=\"T_3200689a_a8c0_11e9_842d_34de1a2c1766row2_col12\" class=\"data row2 col12\" >0.846</td>\n",
       "                        <td id=\"T_3200689a_a8c0_11e9_842d_34de1a2c1766row2_col13\" class=\"data row2 col13\" >-1.512</td>\n",
       "            </tr>\n",
       "    </tbody></table>"
      ],
      "text/plain": [
       "<pandas.io.formats.style.Styler at 0x1cbf366fe80>"
      ]
     },
     "execution_count": 10,
     "metadata": {},
     "output_type": "execute_result"
    }
   ],
   "source": [
    "posthoc = pg.pairwise_ttests(data=data[data.bands=='gamma'], dv='value', between='category', subject='subs',\n",
    "                             parametric=True, padjust='bonferroni')\n",
    "posthoc.style.applymap(color_significant, subset=['p-corr'])"
   ]
  },
  {
   "cell_type": "code",
   "execution_count": 11,
   "metadata": {},
   "outputs": [
    {
     "data": {
      "text/html": [
       "<style  type=\"text/css\" >\n",
       "    #T_323ae492_a8c0_11e9_ab76_34de1a2c1766row0_col9 {\n",
       "            color:  red;\n",
       "        }    #T_323ae492_a8c0_11e9_ab76_34de1a2c1766row1_col9 {\n",
       "            color:  red;\n",
       "        }    #T_323ae492_a8c0_11e9_ab76_34de1a2c1766row2_col9 {\n",
       "            color:  purple;\n",
       "        }    #T_323ae492_a8c0_11e9_ab76_34de1a2c1766row3_col9 {\n",
       "            color:  black;\n",
       "        }    #T_323ae492_a8c0_11e9_ab76_34de1a2c1766row4_col9 {\n",
       "            color:  black;\n",
       "        }    #T_323ae492_a8c0_11e9_ab76_34de1a2c1766row5_col9 {\n",
       "            color:  purple;\n",
       "        }    #T_323ae492_a8c0_11e9_ab76_34de1a2c1766row6_col9 {\n",
       "            color:  red;\n",
       "        }    #T_323ae492_a8c0_11e9_ab76_34de1a2c1766row7_col9 {\n",
       "            color:  black;\n",
       "        }    #T_323ae492_a8c0_11e9_ab76_34de1a2c1766row8_col9 {\n",
       "            color:  purple;\n",
       "        }    #T_323ae492_a8c0_11e9_ab76_34de1a2c1766row9_col9 {\n",
       "            color:  purple;\n",
       "        }</style><table id=\"T_323ae492_a8c0_11e9_ab76_34de1a2c1766\" ><thead>    <tr>        <th class=\"blank level0\" ></th>        <th class=\"col_heading level0 col0\" >Contrast</th>        <th class=\"col_heading level0 col1\" >A</th>        <th class=\"col_heading level0 col2\" >B</th>        <th class=\"col_heading level0 col3\" >Paired</th>        <th class=\"col_heading level0 col4\" >Parametric</th>        <th class=\"col_heading level0 col5\" >T</th>        <th class=\"col_heading level0 col6\" >dof</th>        <th class=\"col_heading level0 col7\" >tail</th>        <th class=\"col_heading level0 col8\" >p-unc</th>        <th class=\"col_heading level0 col9\" >p-corr</th>        <th class=\"col_heading level0 col10\" >p-adjust</th>        <th class=\"col_heading level0 col11\" >BF10</th>        <th class=\"col_heading level0 col12\" >CLES</th>        <th class=\"col_heading level0 col13\" >hedges</th>    </tr></thead><tbody>\n",
       "                <tr>\n",
       "                        <th id=\"T_323ae492_a8c0_11e9_ab76_34de1a2c1766level0_row0\" class=\"row_heading level0 row0\" >0</th>\n",
       "                        <td id=\"T_323ae492_a8c0_11e9_ab76_34de1a2c1766row0_col0\" class=\"data row0 col0\" >bands</td>\n",
       "                        <td id=\"T_323ae492_a8c0_11e9_ab76_34de1a2c1766row0_col1\" class=\"data row0 col1\" >alpha</td>\n",
       "                        <td id=\"T_323ae492_a8c0_11e9_ab76_34de1a2c1766row0_col2\" class=\"data row0 col2\" >beta</td>\n",
       "                        <td id=\"T_323ae492_a8c0_11e9_ab76_34de1a2c1766row0_col3\" class=\"data row0 col3\" >True</td>\n",
       "                        <td id=\"T_323ae492_a8c0_11e9_ab76_34de1a2c1766row0_col4\" class=\"data row0 col4\" >True</td>\n",
       "                        <td id=\"T_323ae492_a8c0_11e9_ab76_34de1a2c1766row0_col5\" class=\"data row0 col5\" >3.731</td>\n",
       "                        <td id=\"T_323ae492_a8c0_11e9_ab76_34de1a2c1766row0_col6\" class=\"data row0 col6\" >13</td>\n",
       "                        <td id=\"T_323ae492_a8c0_11e9_ab76_34de1a2c1766row0_col7\" class=\"data row0 col7\" >two-sided</td>\n",
       "                        <td id=\"T_323ae492_a8c0_11e9_ab76_34de1a2c1766row0_col8\" class=\"data row0 col8\" >0.00251784</td>\n",
       "                        <td id=\"T_323ae492_a8c0_11e9_ab76_34de1a2c1766row0_col9\" class=\"data row0 col9\" >0.0251784</td>\n",
       "                        <td id=\"T_323ae492_a8c0_11e9_ab76_34de1a2c1766row0_col10\" class=\"data row0 col10\" >bonferroni</td>\n",
       "                        <td id=\"T_323ae492_a8c0_11e9_ab76_34de1a2c1766row0_col11\" class=\"data row0 col11\" >17.88</td>\n",
       "                        <td id=\"T_323ae492_a8c0_11e9_ab76_34de1a2c1766row0_col12\" class=\"data row0 col12\" >0.888</td>\n",
       "                        <td id=\"T_323ae492_a8c0_11e9_ab76_34de1a2c1766row0_col13\" class=\"data row0 col13\" >1.789</td>\n",
       "            </tr>\n",
       "            <tr>\n",
       "                        <th id=\"T_323ae492_a8c0_11e9_ab76_34de1a2c1766level0_row1\" class=\"row_heading level0 row1\" >1</th>\n",
       "                        <td id=\"T_323ae492_a8c0_11e9_ab76_34de1a2c1766row1_col0\" class=\"data row1 col0\" >bands</td>\n",
       "                        <td id=\"T_323ae492_a8c0_11e9_ab76_34de1a2c1766row1_col1\" class=\"data row1 col1\" >alpha</td>\n",
       "                        <td id=\"T_323ae492_a8c0_11e9_ab76_34de1a2c1766row1_col2\" class=\"data row1 col2\" >delta</td>\n",
       "                        <td id=\"T_323ae492_a8c0_11e9_ab76_34de1a2c1766row1_col3\" class=\"data row1 col3\" >True</td>\n",
       "                        <td id=\"T_323ae492_a8c0_11e9_ab76_34de1a2c1766row1_col4\" class=\"data row1 col4\" >True</td>\n",
       "                        <td id=\"T_323ae492_a8c0_11e9_ab76_34de1a2c1766row1_col5\" class=\"data row1 col5\" >4.154</td>\n",
       "                        <td id=\"T_323ae492_a8c0_11e9_ab76_34de1a2c1766row1_col6\" class=\"data row1 col6\" >13</td>\n",
       "                        <td id=\"T_323ae492_a8c0_11e9_ab76_34de1a2c1766row1_col7\" class=\"data row1 col7\" >two-sided</td>\n",
       "                        <td id=\"T_323ae492_a8c0_11e9_ab76_34de1a2c1766row1_col8\" class=\"data row1 col8\" >0.0011321</td>\n",
       "                        <td id=\"T_323ae492_a8c0_11e9_ab76_34de1a2c1766row1_col9\" class=\"data row1 col9\" >0.011321</td>\n",
       "                        <td id=\"T_323ae492_a8c0_11e9_ab76_34de1a2c1766row1_col10\" class=\"data row1 col10\" >bonferroni</td>\n",
       "                        <td id=\"T_323ae492_a8c0_11e9_ab76_34de1a2c1766row1_col11\" class=\"data row1 col11\" >35.225</td>\n",
       "                        <td id=\"T_323ae492_a8c0_11e9_ab76_34de1a2c1766row1_col12\" class=\"data row1 col12\" >0.878</td>\n",
       "                        <td id=\"T_323ae492_a8c0_11e9_ab76_34de1a2c1766row1_col13\" class=\"data row1 col13\" >1.451</td>\n",
       "            </tr>\n",
       "            <tr>\n",
       "                        <th id=\"T_323ae492_a8c0_11e9_ab76_34de1a2c1766level0_row2\" class=\"row_heading level0 row2\" >2</th>\n",
       "                        <td id=\"T_323ae492_a8c0_11e9_ab76_34de1a2c1766row2_col0\" class=\"data row2 col0\" >bands</td>\n",
       "                        <td id=\"T_323ae492_a8c0_11e9_ab76_34de1a2c1766row2_col1\" class=\"data row2 col1\" >alpha</td>\n",
       "                        <td id=\"T_323ae492_a8c0_11e9_ab76_34de1a2c1766row2_col2\" class=\"data row2 col2\" >gamma</td>\n",
       "                        <td id=\"T_323ae492_a8c0_11e9_ab76_34de1a2c1766row2_col3\" class=\"data row2 col3\" >True</td>\n",
       "                        <td id=\"T_323ae492_a8c0_11e9_ab76_34de1a2c1766row2_col4\" class=\"data row2 col4\" >True</td>\n",
       "                        <td id=\"T_323ae492_a8c0_11e9_ab76_34de1a2c1766row2_col5\" class=\"data row2 col5\" >7.564</td>\n",
       "                        <td id=\"T_323ae492_a8c0_11e9_ab76_34de1a2c1766row2_col6\" class=\"data row2 col6\" >13</td>\n",
       "                        <td id=\"T_323ae492_a8c0_11e9_ab76_34de1a2c1766row2_col7\" class=\"data row2 col7\" >two-sided</td>\n",
       "                        <td id=\"T_323ae492_a8c0_11e9_ab76_34de1a2c1766row2_col8\" class=\"data row2 col8\" >4.10719e-06</td>\n",
       "                        <td id=\"T_323ae492_a8c0_11e9_ab76_34de1a2c1766row2_col9\" class=\"data row2 col9\" >4.10719e-05</td>\n",
       "                        <td id=\"T_323ae492_a8c0_11e9_ab76_34de1a2c1766row2_col10\" class=\"data row2 col10\" >bonferroni</td>\n",
       "                        <td id=\"T_323ae492_a8c0_11e9_ab76_34de1a2c1766row2_col11\" class=\"data row2 col11\" >4862.295</td>\n",
       "                        <td id=\"T_323ae492_a8c0_11e9_ab76_34de1a2c1766row2_col12\" class=\"data row2 col12\" >0.99</td>\n",
       "                        <td id=\"T_323ae492_a8c0_11e9_ab76_34de1a2c1766row2_col13\" class=\"data row2 col13\" >3.537</td>\n",
       "            </tr>\n",
       "            <tr>\n",
       "                        <th id=\"T_323ae492_a8c0_11e9_ab76_34de1a2c1766level0_row3\" class=\"row_heading level0 row3\" >3</th>\n",
       "                        <td id=\"T_323ae492_a8c0_11e9_ab76_34de1a2c1766row3_col0\" class=\"data row3 col0\" >bands</td>\n",
       "                        <td id=\"T_323ae492_a8c0_11e9_ab76_34de1a2c1766row3_col1\" class=\"data row3 col1\" >alpha</td>\n",
       "                        <td id=\"T_323ae492_a8c0_11e9_ab76_34de1a2c1766row3_col2\" class=\"data row3 col2\" >theta</td>\n",
       "                        <td id=\"T_323ae492_a8c0_11e9_ab76_34de1a2c1766row3_col3\" class=\"data row3 col3\" >True</td>\n",
       "                        <td id=\"T_323ae492_a8c0_11e9_ab76_34de1a2c1766row3_col4\" class=\"data row3 col4\" >True</td>\n",
       "                        <td id=\"T_323ae492_a8c0_11e9_ab76_34de1a2c1766row3_col5\" class=\"data row3 col5\" >-1.371</td>\n",
       "                        <td id=\"T_323ae492_a8c0_11e9_ab76_34de1a2c1766row3_col6\" class=\"data row3 col6\" >13</td>\n",
       "                        <td id=\"T_323ae492_a8c0_11e9_ab76_34de1a2c1766row3_col7\" class=\"data row3 col7\" >two-sided</td>\n",
       "                        <td id=\"T_323ae492_a8c0_11e9_ab76_34de1a2c1766row3_col8\" class=\"data row3 col8\" >0.19358</td>\n",
       "                        <td id=\"T_323ae492_a8c0_11e9_ab76_34de1a2c1766row3_col9\" class=\"data row3 col9\" >1</td>\n",
       "                        <td id=\"T_323ae492_a8c0_11e9_ab76_34de1a2c1766row3_col10\" class=\"data row3 col10\" >bonferroni</td>\n",
       "                        <td id=\"T_323ae492_a8c0_11e9_ab76_34de1a2c1766row3_col11\" class=\"data row3 col11\" >0.586</td>\n",
       "                        <td id=\"T_323ae492_a8c0_11e9_ab76_34de1a2c1766row3_col12\" class=\"data row3 col12\" >0.638</td>\n",
       "                        <td id=\"T_323ae492_a8c0_11e9_ab76_34de1a2c1766row3_col13\" class=\"data row3 col13\" >-0.339</td>\n",
       "            </tr>\n",
       "            <tr>\n",
       "                        <th id=\"T_323ae492_a8c0_11e9_ab76_34de1a2c1766level0_row4\" class=\"row_heading level0 row4\" >4</th>\n",
       "                        <td id=\"T_323ae492_a8c0_11e9_ab76_34de1a2c1766row4_col0\" class=\"data row4 col0\" >bands</td>\n",
       "                        <td id=\"T_323ae492_a8c0_11e9_ab76_34de1a2c1766row4_col1\" class=\"data row4 col1\" >beta</td>\n",
       "                        <td id=\"T_323ae492_a8c0_11e9_ab76_34de1a2c1766row4_col2\" class=\"data row4 col2\" >delta</td>\n",
       "                        <td id=\"T_323ae492_a8c0_11e9_ab76_34de1a2c1766row4_col3\" class=\"data row4 col3\" >True</td>\n",
       "                        <td id=\"T_323ae492_a8c0_11e9_ab76_34de1a2c1766row4_col4\" class=\"data row4 col4\" >True</td>\n",
       "                        <td id=\"T_323ae492_a8c0_11e9_ab76_34de1a2c1766row4_col5\" class=\"data row4 col5\" >0.797</td>\n",
       "                        <td id=\"T_323ae492_a8c0_11e9_ab76_34de1a2c1766row4_col6\" class=\"data row4 col6\" >13</td>\n",
       "                        <td id=\"T_323ae492_a8c0_11e9_ab76_34de1a2c1766row4_col7\" class=\"data row4 col7\" >two-sided</td>\n",
       "                        <td id=\"T_323ae492_a8c0_11e9_ab76_34de1a2c1766row4_col8\" class=\"data row4 col8\" >0.439709</td>\n",
       "                        <td id=\"T_323ae492_a8c0_11e9_ab76_34de1a2c1766row4_col9\" class=\"data row4 col9\" >1</td>\n",
       "                        <td id=\"T_323ae492_a8c0_11e9_ab76_34de1a2c1766row4_col10\" class=\"data row4 col10\" >bonferroni</td>\n",
       "                        <td id=\"T_323ae492_a8c0_11e9_ab76_34de1a2c1766row4_col11\" class=\"data row4 col11\" >0.355</td>\n",
       "                        <td id=\"T_323ae492_a8c0_11e9_ab76_34de1a2c1766row4_col12\" class=\"data row4 col12\" >0.571</td>\n",
       "                        <td id=\"T_323ae492_a8c0_11e9_ab76_34de1a2c1766row4_col13\" class=\"data row4 col13\" >0.379</td>\n",
       "            </tr>\n",
       "            <tr>\n",
       "                        <th id=\"T_323ae492_a8c0_11e9_ab76_34de1a2c1766level0_row5\" class=\"row_heading level0 row5\" >5</th>\n",
       "                        <td id=\"T_323ae492_a8c0_11e9_ab76_34de1a2c1766row5_col0\" class=\"data row5 col0\" >bands</td>\n",
       "                        <td id=\"T_323ae492_a8c0_11e9_ab76_34de1a2c1766row5_col1\" class=\"data row5 col1\" >beta</td>\n",
       "                        <td id=\"T_323ae492_a8c0_11e9_ab76_34de1a2c1766row5_col2\" class=\"data row5 col2\" >gamma</td>\n",
       "                        <td id=\"T_323ae492_a8c0_11e9_ab76_34de1a2c1766row5_col3\" class=\"data row5 col3\" >True</td>\n",
       "                        <td id=\"T_323ae492_a8c0_11e9_ab76_34de1a2c1766row5_col4\" class=\"data row5 col4\" >True</td>\n",
       "                        <td id=\"T_323ae492_a8c0_11e9_ab76_34de1a2c1766row5_col5\" class=\"data row5 col5\" >8.32</td>\n",
       "                        <td id=\"T_323ae492_a8c0_11e9_ab76_34de1a2c1766row5_col6\" class=\"data row5 col6\" >13</td>\n",
       "                        <td id=\"T_323ae492_a8c0_11e9_ab76_34de1a2c1766row5_col7\" class=\"data row5 col7\" >two-sided</td>\n",
       "                        <td id=\"T_323ae492_a8c0_11e9_ab76_34de1a2c1766row5_col8\" class=\"data row5 col8\" >1.45231e-06</td>\n",
       "                        <td id=\"T_323ae492_a8c0_11e9_ab76_34de1a2c1766row5_col9\" class=\"data row5 col9\" >1.45231e-05</td>\n",
       "                        <td id=\"T_323ae492_a8c0_11e9_ab76_34de1a2c1766row5_col10\" class=\"data row5 col10\" >bonferroni</td>\n",
       "                        <td id=\"T_323ae492_a8c0_11e9_ab76_34de1a2c1766row5_col11\" class=\"data row5 col11\" >1.235e+04</td>\n",
       "                        <td id=\"T_323ae492_a8c0_11e9_ab76_34de1a2c1766row5_col12\" class=\"data row5 col12\" >0.954</td>\n",
       "                        <td id=\"T_323ae492_a8c0_11e9_ab76_34de1a2c1766row5_col13\" class=\"data row5 col13\" >2.5</td>\n",
       "            </tr>\n",
       "            <tr>\n",
       "                        <th id=\"T_323ae492_a8c0_11e9_ab76_34de1a2c1766level0_row6\" class=\"row_heading level0 row6\" >6</th>\n",
       "                        <td id=\"T_323ae492_a8c0_11e9_ab76_34de1a2c1766row6_col0\" class=\"data row6 col0\" >bands</td>\n",
       "                        <td id=\"T_323ae492_a8c0_11e9_ab76_34de1a2c1766row6_col1\" class=\"data row6 col1\" >beta</td>\n",
       "                        <td id=\"T_323ae492_a8c0_11e9_ab76_34de1a2c1766row6_col2\" class=\"data row6 col2\" >theta</td>\n",
       "                        <td id=\"T_323ae492_a8c0_11e9_ab76_34de1a2c1766row6_col3\" class=\"data row6 col3\" >True</td>\n",
       "                        <td id=\"T_323ae492_a8c0_11e9_ab76_34de1a2c1766row6_col4\" class=\"data row6 col4\" >True</td>\n",
       "                        <td id=\"T_323ae492_a8c0_11e9_ab76_34de1a2c1766row6_col5\" class=\"data row6 col5\" >-4.235</td>\n",
       "                        <td id=\"T_323ae492_a8c0_11e9_ab76_34de1a2c1766row6_col6\" class=\"data row6 col6\" >13</td>\n",
       "                        <td id=\"T_323ae492_a8c0_11e9_ab76_34de1a2c1766row6_col7\" class=\"data row6 col7\" >two-sided</td>\n",
       "                        <td id=\"T_323ae492_a8c0_11e9_ab76_34de1a2c1766row6_col8\" class=\"data row6 col8\" >0.000974885</td>\n",
       "                        <td id=\"T_323ae492_a8c0_11e9_ab76_34de1a2c1766row6_col9\" class=\"data row6 col9\" >0.00974885</td>\n",
       "                        <td id=\"T_323ae492_a8c0_11e9_ab76_34de1a2c1766row6_col10\" class=\"data row6 col10\" >bonferroni</td>\n",
       "                        <td id=\"T_323ae492_a8c0_11e9_ab76_34de1a2c1766row6_col11\" class=\"data row6 col11\" >40.023</td>\n",
       "                        <td id=\"T_323ae492_a8c0_11e9_ab76_34de1a2c1766row6_col12\" class=\"data row6 col12\" >0.893</td>\n",
       "                        <td id=\"T_323ae492_a8c0_11e9_ab76_34de1a2c1766row6_col13\" class=\"data row6 col13\" >-2.103</td>\n",
       "            </tr>\n",
       "            <tr>\n",
       "                        <th id=\"T_323ae492_a8c0_11e9_ab76_34de1a2c1766level0_row7\" class=\"row_heading level0 row7\" >7</th>\n",
       "                        <td id=\"T_323ae492_a8c0_11e9_ab76_34de1a2c1766row7_col0\" class=\"data row7 col0\" >bands</td>\n",
       "                        <td id=\"T_323ae492_a8c0_11e9_ab76_34de1a2c1766row7_col1\" class=\"data row7 col1\" >delta</td>\n",
       "                        <td id=\"T_323ae492_a8c0_11e9_ab76_34de1a2c1766row7_col2\" class=\"data row7 col2\" >gamma</td>\n",
       "                        <td id=\"T_323ae492_a8c0_11e9_ab76_34de1a2c1766row7_col3\" class=\"data row7 col3\" >True</td>\n",
       "                        <td id=\"T_323ae492_a8c0_11e9_ab76_34de1a2c1766row7_col4\" class=\"data row7 col4\" >True</td>\n",
       "                        <td id=\"T_323ae492_a8c0_11e9_ab76_34de1a2c1766row7_col5\" class=\"data row7 col5\" >2.453</td>\n",
       "                        <td id=\"T_323ae492_a8c0_11e9_ab76_34de1a2c1766row7_col6\" class=\"data row7 col6\" >13</td>\n",
       "                        <td id=\"T_323ae492_a8c0_11e9_ab76_34de1a2c1766row7_col7\" class=\"data row7 col7\" >two-sided</td>\n",
       "                        <td id=\"T_323ae492_a8c0_11e9_ab76_34de1a2c1766row7_col8\" class=\"data row7 col8\" >0.0290304</td>\n",
       "                        <td id=\"T_323ae492_a8c0_11e9_ab76_34de1a2c1766row7_col9\" class=\"data row7 col9\" >0.290304</td>\n",
       "                        <td id=\"T_323ae492_a8c0_11e9_ab76_34de1a2c1766row7_col10\" class=\"data row7 col10\" >bonferroni</td>\n",
       "                        <td id=\"T_323ae492_a8c0_11e9_ab76_34de1a2c1766row7_col11\" class=\"data row7 col11\" >2.406</td>\n",
       "                        <td id=\"T_323ae492_a8c0_11e9_ab76_34de1a2c1766row7_col12\" class=\"data row7 col12\" >0.801</td>\n",
       "                        <td id=\"T_323ae492_a8c0_11e9_ab76_34de1a2c1766row7_col13\" class=\"data row7 col13\" >1.134</td>\n",
       "            </tr>\n",
       "            <tr>\n",
       "                        <th id=\"T_323ae492_a8c0_11e9_ab76_34de1a2c1766level0_row8\" class=\"row_heading level0 row8\" >8</th>\n",
       "                        <td id=\"T_323ae492_a8c0_11e9_ab76_34de1a2c1766row8_col0\" class=\"data row8 col0\" >bands</td>\n",
       "                        <td id=\"T_323ae492_a8c0_11e9_ab76_34de1a2c1766row8_col1\" class=\"data row8 col1\" >delta</td>\n",
       "                        <td id=\"T_323ae492_a8c0_11e9_ab76_34de1a2c1766row8_col2\" class=\"data row8 col2\" >theta</td>\n",
       "                        <td id=\"T_323ae492_a8c0_11e9_ab76_34de1a2c1766row8_col3\" class=\"data row8 col3\" >True</td>\n",
       "                        <td id=\"T_323ae492_a8c0_11e9_ab76_34de1a2c1766row8_col4\" class=\"data row8 col4\" >True</td>\n",
       "                        <td id=\"T_323ae492_a8c0_11e9_ab76_34de1a2c1766row8_col5\" class=\"data row8 col5\" >-7.301</td>\n",
       "                        <td id=\"T_323ae492_a8c0_11e9_ab76_34de1a2c1766row8_col6\" class=\"data row8 col6\" >13</td>\n",
       "                        <td id=\"T_323ae492_a8c0_11e9_ab76_34de1a2c1766row8_col7\" class=\"data row8 col7\" >two-sided</td>\n",
       "                        <td id=\"T_323ae492_a8c0_11e9_ab76_34de1a2c1766row8_col8\" class=\"data row8 col8\" >5.99685e-06</td>\n",
       "                        <td id=\"T_323ae492_a8c0_11e9_ab76_34de1a2c1766row8_col9\" class=\"data row8 col9\" >5.99685e-05</td>\n",
       "                        <td id=\"T_323ae492_a8c0_11e9_ab76_34de1a2c1766row8_col10\" class=\"data row8 col10\" >bonferroni</td>\n",
       "                        <td id=\"T_323ae492_a8c0_11e9_ab76_34de1a2c1766row8_col11\" class=\"data row8 col11\" >3467.456</td>\n",
       "                        <td id=\"T_323ae492_a8c0_11e9_ab76_34de1a2c1766row8_col12\" class=\"data row8 col12\" >0.908</td>\n",
       "                        <td id=\"T_323ae492_a8c0_11e9_ab76_34de1a2c1766row8_col13\" class=\"data row8 col13\" >-1.668</td>\n",
       "            </tr>\n",
       "            <tr>\n",
       "                        <th id=\"T_323ae492_a8c0_11e9_ab76_34de1a2c1766level0_row9\" class=\"row_heading level0 row9\" >9</th>\n",
       "                        <td id=\"T_323ae492_a8c0_11e9_ab76_34de1a2c1766row9_col0\" class=\"data row9 col0\" >bands</td>\n",
       "                        <td id=\"T_323ae492_a8c0_11e9_ab76_34de1a2c1766row9_col1\" class=\"data row9 col1\" >gamma</td>\n",
       "                        <td id=\"T_323ae492_a8c0_11e9_ab76_34de1a2c1766row9_col2\" class=\"data row9 col2\" >theta</td>\n",
       "                        <td id=\"T_323ae492_a8c0_11e9_ab76_34de1a2c1766row9_col3\" class=\"data row9 col3\" >True</td>\n",
       "                        <td id=\"T_323ae492_a8c0_11e9_ab76_34de1a2c1766row9_col4\" class=\"data row9 col4\" >True</td>\n",
       "                        <td id=\"T_323ae492_a8c0_11e9_ab76_34de1a2c1766row9_col5\" class=\"data row9 col5\" >-8.046</td>\n",
       "                        <td id=\"T_323ae492_a8c0_11e9_ab76_34de1a2c1766row9_col6\" class=\"data row9 col6\" >13</td>\n",
       "                        <td id=\"T_323ae492_a8c0_11e9_ab76_34de1a2c1766row9_col7\" class=\"data row9 col7\" >two-sided</td>\n",
       "                        <td id=\"T_323ae492_a8c0_11e9_ab76_34de1a2c1766row9_col8\" class=\"data row9 col8\" >2.09982e-06</td>\n",
       "                        <td id=\"T_323ae492_a8c0_11e9_ab76_34de1a2c1766row9_col9\" class=\"data row9 col9\" >2.09982e-05</td>\n",
       "                        <td id=\"T_323ae492_a8c0_11e9_ab76_34de1a2c1766row9_col10\" class=\"data row9 col10\" >bonferroni</td>\n",
       "                        <td id=\"T_323ae492_a8c0_11e9_ab76_34de1a2c1766row9_col11\" class=\"data row9 col11\" >8866.85</td>\n",
       "                        <td id=\"T_323ae492_a8c0_11e9_ab76_34de1a2c1766row9_col12\" class=\"data row9 col12\" >0.99</td>\n",
       "                        <td id=\"T_323ae492_a8c0_11e9_ab76_34de1a2c1766row9_col13\" class=\"data row9 col13\" >-3.728</td>\n",
       "            </tr>\n",
       "    </tbody></table>"
      ],
      "text/plain": [
       "<pandas.io.formats.style.Styler at 0x1cbf5a58710>"
      ]
     },
     "execution_count": 11,
     "metadata": {},
     "output_type": "execute_result"
    }
   ],
   "source": [
    "posthoc = pg.pairwise_ttests(data=data.loc[data['category'] == 'words'], dv='value', within='bands', subject='subs',\n",
    "                             parametric=True, padjust='bonferroni')\n",
    "posthoc.style.applymap(color_significant, subset=['p-corr'])"
   ]
  },
  {
   "cell_type": "code",
   "execution_count": 12,
   "metadata": {},
   "outputs": [
    {
     "data": {
      "text/html": [
       "<style  type=\"text/css\" >\n",
       "    #T_3261c87e_a8c0_11e9_9d47_34de1a2c1766row0_col9 {\n",
       "            color:  red;\n",
       "        }    #T_3261c87e_a8c0_11e9_9d47_34de1a2c1766row1_col9 {\n",
       "            color:  purple;\n",
       "        }    #T_3261c87e_a8c0_11e9_9d47_34de1a2c1766row2_col9 {\n",
       "            color:  black;\n",
       "        }    #T_3261c87e_a8c0_11e9_9d47_34de1a2c1766row3_col9 {\n",
       "            color:  red;\n",
       "        }    #T_3261c87e_a8c0_11e9_9d47_34de1a2c1766row4_col9 {\n",
       "            color:  red;\n",
       "        }    #T_3261c87e_a8c0_11e9_9d47_34de1a2c1766row5_col9 {\n",
       "            color:  black;\n",
       "        }    #T_3261c87e_a8c0_11e9_9d47_34de1a2c1766row6_col9 {\n",
       "            color:  black;\n",
       "        }    #T_3261c87e_a8c0_11e9_9d47_34de1a2c1766row7_col9 {\n",
       "            color:  red;\n",
       "        }    #T_3261c87e_a8c0_11e9_9d47_34de1a2c1766row8_col9 {\n",
       "            color:  red;\n",
       "        }    #T_3261c87e_a8c0_11e9_9d47_34de1a2c1766row9_col9 {\n",
       "            color:  black;\n",
       "        }</style><table id=\"T_3261c87e_a8c0_11e9_9d47_34de1a2c1766\" ><thead>    <tr>        <th class=\"blank level0\" ></th>        <th class=\"col_heading level0 col0\" >Contrast</th>        <th class=\"col_heading level0 col1\" >A</th>        <th class=\"col_heading level0 col2\" >B</th>        <th class=\"col_heading level0 col3\" >Paired</th>        <th class=\"col_heading level0 col4\" >Parametric</th>        <th class=\"col_heading level0 col5\" >T</th>        <th class=\"col_heading level0 col6\" >dof</th>        <th class=\"col_heading level0 col7\" >tail</th>        <th class=\"col_heading level0 col8\" >p-unc</th>        <th class=\"col_heading level0 col9\" >p-corr</th>        <th class=\"col_heading level0 col10\" >p-adjust</th>        <th class=\"col_heading level0 col11\" >BF10</th>        <th class=\"col_heading level0 col12\" >CLES</th>        <th class=\"col_heading level0 col13\" >hedges</th>    </tr></thead><tbody>\n",
       "                <tr>\n",
       "                        <th id=\"T_3261c87e_a8c0_11e9_9d47_34de1a2c1766level0_row0\" class=\"row_heading level0 row0\" >0</th>\n",
       "                        <td id=\"T_3261c87e_a8c0_11e9_9d47_34de1a2c1766row0_col0\" class=\"data row0 col0\" >bands</td>\n",
       "                        <td id=\"T_3261c87e_a8c0_11e9_9d47_34de1a2c1766row0_col1\" class=\"data row0 col1\" >alpha</td>\n",
       "                        <td id=\"T_3261c87e_a8c0_11e9_9d47_34de1a2c1766row0_col2\" class=\"data row0 col2\" >beta</td>\n",
       "                        <td id=\"T_3261c87e_a8c0_11e9_9d47_34de1a2c1766row0_col3\" class=\"data row0 col3\" >True</td>\n",
       "                        <td id=\"T_3261c87e_a8c0_11e9_9d47_34de1a2c1766row0_col4\" class=\"data row0 col4\" >True</td>\n",
       "                        <td id=\"T_3261c87e_a8c0_11e9_9d47_34de1a2c1766row0_col5\" class=\"data row0 col5\" >-4.028</td>\n",
       "                        <td id=\"T_3261c87e_a8c0_11e9_9d47_34de1a2c1766row0_col6\" class=\"data row0 col6\" >12</td>\n",
       "                        <td id=\"T_3261c87e_a8c0_11e9_9d47_34de1a2c1766row0_col7\" class=\"data row0 col7\" >two-sided</td>\n",
       "                        <td id=\"T_3261c87e_a8c0_11e9_9d47_34de1a2c1766row0_col8\" class=\"data row0 col8\" >0.00167634</td>\n",
       "                        <td id=\"T_3261c87e_a8c0_11e9_9d47_34de1a2c1766row0_col9\" class=\"data row0 col9\" >0.0167634</td>\n",
       "                        <td id=\"T_3261c87e_a8c0_11e9_9d47_34de1a2c1766row0_col10\" class=\"data row0 col10\" >bonferroni</td>\n",
       "                        <td id=\"T_3261c87e_a8c0_11e9_9d47_34de1a2c1766row0_col11\" class=\"data row0 col11\" >25.567</td>\n",
       "                        <td id=\"T_3261c87e_a8c0_11e9_9d47_34de1a2c1766row0_col12\" class=\"data row0 col12\" >0.888</td>\n",
       "                        <td id=\"T_3261c87e_a8c0_11e9_9d47_34de1a2c1766row0_col13\" class=\"data row0 col13\" >-1.912</td>\n",
       "            </tr>\n",
       "            <tr>\n",
       "                        <th id=\"T_3261c87e_a8c0_11e9_9d47_34de1a2c1766level0_row1\" class=\"row_heading level0 row1\" >1</th>\n",
       "                        <td id=\"T_3261c87e_a8c0_11e9_9d47_34de1a2c1766row1_col0\" class=\"data row1 col0\" >bands</td>\n",
       "                        <td id=\"T_3261c87e_a8c0_11e9_9d47_34de1a2c1766row1_col1\" class=\"data row1 col1\" >alpha</td>\n",
       "                        <td id=\"T_3261c87e_a8c0_11e9_9d47_34de1a2c1766row1_col2\" class=\"data row1 col2\" >delta</td>\n",
       "                        <td id=\"T_3261c87e_a8c0_11e9_9d47_34de1a2c1766row1_col3\" class=\"data row1 col3\" >True</td>\n",
       "                        <td id=\"T_3261c87e_a8c0_11e9_9d47_34de1a2c1766row1_col4\" class=\"data row1 col4\" >True</td>\n",
       "                        <td id=\"T_3261c87e_a8c0_11e9_9d47_34de1a2c1766row1_col5\" class=\"data row1 col5\" >-8.919</td>\n",
       "                        <td id=\"T_3261c87e_a8c0_11e9_9d47_34de1a2c1766row1_col6\" class=\"data row1 col6\" >12</td>\n",
       "                        <td id=\"T_3261c87e_a8c0_11e9_9d47_34de1a2c1766row1_col7\" class=\"data row1 col7\" >two-sided</td>\n",
       "                        <td id=\"T_3261c87e_a8c0_11e9_9d47_34de1a2c1766row1_col8\" class=\"data row1 col8\" >1.21483e-06</td>\n",
       "                        <td id=\"T_3261c87e_a8c0_11e9_9d47_34de1a2c1766row1_col9\" class=\"data row1 col9\" >1.21483e-05</td>\n",
       "                        <td id=\"T_3261c87e_a8c0_11e9_9d47_34de1a2c1766row1_col10\" class=\"data row1 col10\" >bonferroni</td>\n",
       "                        <td id=\"T_3261c87e_a8c0_11e9_9d47_34de1a2c1766row1_col11\" class=\"data row1 col11\" >1.426e+04</td>\n",
       "                        <td id=\"T_3261c87e_a8c0_11e9_9d47_34de1a2c1766row1_col12\" class=\"data row1 col12\" >0.964</td>\n",
       "                        <td id=\"T_3261c87e_a8c0_11e9_9d47_34de1a2c1766row1_col13\" class=\"data row1 col13\" >-2.616</td>\n",
       "            </tr>\n",
       "            <tr>\n",
       "                        <th id=\"T_3261c87e_a8c0_11e9_9d47_34de1a2c1766level0_row2\" class=\"row_heading level0 row2\" >2</th>\n",
       "                        <td id=\"T_3261c87e_a8c0_11e9_9d47_34de1a2c1766row2_col0\" class=\"data row2 col0\" >bands</td>\n",
       "                        <td id=\"T_3261c87e_a8c0_11e9_9d47_34de1a2c1766row2_col1\" class=\"data row2 col1\" >alpha</td>\n",
       "                        <td id=\"T_3261c87e_a8c0_11e9_9d47_34de1a2c1766row2_col2\" class=\"data row2 col2\" >gamma</td>\n",
       "                        <td id=\"T_3261c87e_a8c0_11e9_9d47_34de1a2c1766row2_col3\" class=\"data row2 col3\" >True</td>\n",
       "                        <td id=\"T_3261c87e_a8c0_11e9_9d47_34de1a2c1766row2_col4\" class=\"data row2 col4\" >True</td>\n",
       "                        <td id=\"T_3261c87e_a8c0_11e9_9d47_34de1a2c1766row2_col5\" class=\"data row2 col5\" >-0.142</td>\n",
       "                        <td id=\"T_3261c87e_a8c0_11e9_9d47_34de1a2c1766row2_col6\" class=\"data row2 col6\" >12</td>\n",
       "                        <td id=\"T_3261c87e_a8c0_11e9_9d47_34de1a2c1766row2_col7\" class=\"data row2 col7\" >two-sided</td>\n",
       "                        <td id=\"T_3261c87e_a8c0_11e9_9d47_34de1a2c1766row2_col8\" class=\"data row2 col8\" >0.889336</td>\n",
       "                        <td id=\"T_3261c87e_a8c0_11e9_9d47_34de1a2c1766row2_col9\" class=\"data row2 col9\" >1</td>\n",
       "                        <td id=\"T_3261c87e_a8c0_11e9_9d47_34de1a2c1766row2_col10\" class=\"data row2 col10\" >bonferroni</td>\n",
       "                        <td id=\"T_3261c87e_a8c0_11e9_9d47_34de1a2c1766row2_col11\" class=\"data row2 col11\" >0.281</td>\n",
       "                        <td id=\"T_3261c87e_a8c0_11e9_9d47_34de1a2c1766row2_col12\" class=\"data row2 col12\" >0.592</td>\n",
       "                        <td id=\"T_3261c87e_a8c0_11e9_9d47_34de1a2c1766row2_col13\" class=\"data row2 col13\" >-0.073</td>\n",
       "            </tr>\n",
       "            <tr>\n",
       "                        <th id=\"T_3261c87e_a8c0_11e9_9d47_34de1a2c1766level0_row3\" class=\"row_heading level0 row3\" >3</th>\n",
       "                        <td id=\"T_3261c87e_a8c0_11e9_9d47_34de1a2c1766row3_col0\" class=\"data row3 col0\" >bands</td>\n",
       "                        <td id=\"T_3261c87e_a8c0_11e9_9d47_34de1a2c1766row3_col1\" class=\"data row3 col1\" >alpha</td>\n",
       "                        <td id=\"T_3261c87e_a8c0_11e9_9d47_34de1a2c1766row3_col2\" class=\"data row3 col2\" >theta</td>\n",
       "                        <td id=\"T_3261c87e_a8c0_11e9_9d47_34de1a2c1766row3_col3\" class=\"data row3 col3\" >True</td>\n",
       "                        <td id=\"T_3261c87e_a8c0_11e9_9d47_34de1a2c1766row3_col4\" class=\"data row3 col4\" >True</td>\n",
       "                        <td id=\"T_3261c87e_a8c0_11e9_9d47_34de1a2c1766row3_col5\" class=\"data row3 col5\" >-5.152</td>\n",
       "                        <td id=\"T_3261c87e_a8c0_11e9_9d47_34de1a2c1766row3_col6\" class=\"data row3 col6\" >12</td>\n",
       "                        <td id=\"T_3261c87e_a8c0_11e9_9d47_34de1a2c1766row3_col7\" class=\"data row3 col7\" >two-sided</td>\n",
       "                        <td id=\"T_3261c87e_a8c0_11e9_9d47_34de1a2c1766row3_col8\" class=\"data row3 col8\" >0.000240051</td>\n",
       "                        <td id=\"T_3261c87e_a8c0_11e9_9d47_34de1a2c1766row3_col9\" class=\"data row3 col9\" >0.00240051</td>\n",
       "                        <td id=\"T_3261c87e_a8c0_11e9_9d47_34de1a2c1766row3_col10\" class=\"data row3 col10\" >bonferroni</td>\n",
       "                        <td id=\"T_3261c87e_a8c0_11e9_9d47_34de1a2c1766row3_col11\" class=\"data row3 col11\" >134.791</td>\n",
       "                        <td id=\"T_3261c87e_a8c0_11e9_9d47_34de1a2c1766row3_col12\" class=\"data row3 col12\" >0.899</td>\n",
       "                        <td id=\"T_3261c87e_a8c0_11e9_9d47_34de1a2c1766row3_col13\" class=\"data row3 col13\" >-1.696</td>\n",
       "            </tr>\n",
       "            <tr>\n",
       "                        <th id=\"T_3261c87e_a8c0_11e9_9d47_34de1a2c1766level0_row4\" class=\"row_heading level0 row4\" >4</th>\n",
       "                        <td id=\"T_3261c87e_a8c0_11e9_9d47_34de1a2c1766row4_col0\" class=\"data row4 col0\" >bands</td>\n",
       "                        <td id=\"T_3261c87e_a8c0_11e9_9d47_34de1a2c1766row4_col1\" class=\"data row4 col1\" >beta</td>\n",
       "                        <td id=\"T_3261c87e_a8c0_11e9_9d47_34de1a2c1766row4_col2\" class=\"data row4 col2\" >delta</td>\n",
       "                        <td id=\"T_3261c87e_a8c0_11e9_9d47_34de1a2c1766row4_col3\" class=\"data row4 col3\" >True</td>\n",
       "                        <td id=\"T_3261c87e_a8c0_11e9_9d47_34de1a2c1766row4_col4\" class=\"data row4 col4\" >True</td>\n",
       "                        <td id=\"T_3261c87e_a8c0_11e9_9d47_34de1a2c1766row4_col5\" class=\"data row4 col5\" >-4.601</td>\n",
       "                        <td id=\"T_3261c87e_a8c0_11e9_9d47_34de1a2c1766row4_col6\" class=\"data row4 col6\" >12</td>\n",
       "                        <td id=\"T_3261c87e_a8c0_11e9_9d47_34de1a2c1766row4_col7\" class=\"data row4 col7\" >two-sided</td>\n",
       "                        <td id=\"T_3261c87e_a8c0_11e9_9d47_34de1a2c1766row4_col8\" class=\"data row4 col8\" >0.000610072</td>\n",
       "                        <td id=\"T_3261c87e_a8c0_11e9_9d47_34de1a2c1766row4_col9\" class=\"data row4 col9\" >0.00610072</td>\n",
       "                        <td id=\"T_3261c87e_a8c0_11e9_9d47_34de1a2c1766row4_col10\" class=\"data row4 col10\" >bonferroni</td>\n",
       "                        <td id=\"T_3261c87e_a8c0_11e9_9d47_34de1a2c1766row4_col11\" class=\"data row4 col11\" >60.404</td>\n",
       "                        <td id=\"T_3261c87e_a8c0_11e9_9d47_34de1a2c1766row4_col12\" class=\"data row4 col12\" >0.87</td>\n",
       "                        <td id=\"T_3261c87e_a8c0_11e9_9d47_34de1a2c1766row4_col13\" class=\"data row4 col13\" >-2.361</td>\n",
       "            </tr>\n",
       "            <tr>\n",
       "                        <th id=\"T_3261c87e_a8c0_11e9_9d47_34de1a2c1766level0_row5\" class=\"row_heading level0 row5\" >5</th>\n",
       "                        <td id=\"T_3261c87e_a8c0_11e9_9d47_34de1a2c1766row5_col0\" class=\"data row5 col0\" >bands</td>\n",
       "                        <td id=\"T_3261c87e_a8c0_11e9_9d47_34de1a2c1766row5_col1\" class=\"data row5 col1\" >beta</td>\n",
       "                        <td id=\"T_3261c87e_a8c0_11e9_9d47_34de1a2c1766row5_col2\" class=\"data row5 col2\" >gamma</td>\n",
       "                        <td id=\"T_3261c87e_a8c0_11e9_9d47_34de1a2c1766row5_col3\" class=\"data row5 col3\" >True</td>\n",
       "                        <td id=\"T_3261c87e_a8c0_11e9_9d47_34de1a2c1766row5_col4\" class=\"data row5 col4\" >True</td>\n",
       "                        <td id=\"T_3261c87e_a8c0_11e9_9d47_34de1a2c1766row5_col5\" class=\"data row5 col5\" >2.931</td>\n",
       "                        <td id=\"T_3261c87e_a8c0_11e9_9d47_34de1a2c1766row5_col6\" class=\"data row5 col6\" >12</td>\n",
       "                        <td id=\"T_3261c87e_a8c0_11e9_9d47_34de1a2c1766row5_col7\" class=\"data row5 col7\" >two-sided</td>\n",
       "                        <td id=\"T_3261c87e_a8c0_11e9_9d47_34de1a2c1766row5_col8\" class=\"data row5 col8\" >0.0125916</td>\n",
       "                        <td id=\"T_3261c87e_a8c0_11e9_9d47_34de1a2c1766row5_col9\" class=\"data row5 col9\" >0.125916</td>\n",
       "                        <td id=\"T_3261c87e_a8c0_11e9_9d47_34de1a2c1766row5_col10\" class=\"data row5 col10\" >bonferroni</td>\n",
       "                        <td id=\"T_3261c87e_a8c0_11e9_9d47_34de1a2c1766row5_col11\" class=\"data row5 col11\" >4.803</td>\n",
       "                        <td id=\"T_3261c87e_a8c0_11e9_9d47_34de1a2c1766row5_col12\" class=\"data row5 col12\" >0.746</td>\n",
       "                        <td id=\"T_3261c87e_a8c0_11e9_9d47_34de1a2c1766row5_col13\" class=\"data row5 col13\" >1.257</td>\n",
       "            </tr>\n",
       "            <tr>\n",
       "                        <th id=\"T_3261c87e_a8c0_11e9_9d47_34de1a2c1766level0_row6\" class=\"row_heading level0 row6\" >6</th>\n",
       "                        <td id=\"T_3261c87e_a8c0_11e9_9d47_34de1a2c1766row6_col0\" class=\"data row6 col0\" >bands</td>\n",
       "                        <td id=\"T_3261c87e_a8c0_11e9_9d47_34de1a2c1766row6_col1\" class=\"data row6 col1\" >beta</td>\n",
       "                        <td id=\"T_3261c87e_a8c0_11e9_9d47_34de1a2c1766row6_col2\" class=\"data row6 col2\" >theta</td>\n",
       "                        <td id=\"T_3261c87e_a8c0_11e9_9d47_34de1a2c1766row6_col3\" class=\"data row6 col3\" >True</td>\n",
       "                        <td id=\"T_3261c87e_a8c0_11e9_9d47_34de1a2c1766row6_col4\" class=\"data row6 col4\" >True</td>\n",
       "                        <td id=\"T_3261c87e_a8c0_11e9_9d47_34de1a2c1766row6_col5\" class=\"data row6 col5\" >-1.883</td>\n",
       "                        <td id=\"T_3261c87e_a8c0_11e9_9d47_34de1a2c1766row6_col6\" class=\"data row6 col6\" >12</td>\n",
       "                        <td id=\"T_3261c87e_a8c0_11e9_9d47_34de1a2c1766row6_col7\" class=\"data row6 col7\" >two-sided</td>\n",
       "                        <td id=\"T_3261c87e_a8c0_11e9_9d47_34de1a2c1766row6_col8\" class=\"data row6 col8\" >0.084116</td>\n",
       "                        <td id=\"T_3261c87e_a8c0_11e9_9d47_34de1a2c1766row6_col9\" class=\"data row6 col9\" >0.84116</td>\n",
       "                        <td id=\"T_3261c87e_a8c0_11e9_9d47_34de1a2c1766row6_col10\" class=\"data row6 col10\" >bonferroni</td>\n",
       "                        <td id=\"T_3261c87e_a8c0_11e9_9d47_34de1a2c1766row6_col11\" class=\"data row6 col11\" >1.09</td>\n",
       "                        <td id=\"T_3261c87e_a8c0_11e9_9d47_34de1a2c1766row6_col12\" class=\"data row6 col12\" >0.657</td>\n",
       "                        <td id=\"T_3261c87e_a8c0_11e9_9d47_34de1a2c1766row6_col13\" class=\"data row6 col13\" >-0.958</td>\n",
       "            </tr>\n",
       "            <tr>\n",
       "                        <th id=\"T_3261c87e_a8c0_11e9_9d47_34de1a2c1766level0_row7\" class=\"row_heading level0 row7\" >7</th>\n",
       "                        <td id=\"T_3261c87e_a8c0_11e9_9d47_34de1a2c1766row7_col0\" class=\"data row7 col0\" >bands</td>\n",
       "                        <td id=\"T_3261c87e_a8c0_11e9_9d47_34de1a2c1766row7_col1\" class=\"data row7 col1\" >delta</td>\n",
       "                        <td id=\"T_3261c87e_a8c0_11e9_9d47_34de1a2c1766row7_col2\" class=\"data row7 col2\" >gamma</td>\n",
       "                        <td id=\"T_3261c87e_a8c0_11e9_9d47_34de1a2c1766row7_col3\" class=\"data row7 col3\" >True</td>\n",
       "                        <td id=\"T_3261c87e_a8c0_11e9_9d47_34de1a2c1766row7_col4\" class=\"data row7 col4\" >True</td>\n",
       "                        <td id=\"T_3261c87e_a8c0_11e9_9d47_34de1a2c1766row7_col5\" class=\"data row7 col5\" >4.173</td>\n",
       "                        <td id=\"T_3261c87e_a8c0_11e9_9d47_34de1a2c1766row7_col6\" class=\"data row7 col6\" >12</td>\n",
       "                        <td id=\"T_3261c87e_a8c0_11e9_9d47_34de1a2c1766row7_col7\" class=\"data row7 col7\" >two-sided</td>\n",
       "                        <td id=\"T_3261c87e_a8c0_11e9_9d47_34de1a2c1766row7_col8\" class=\"data row7 col8\" >0.00129213</td>\n",
       "                        <td id=\"T_3261c87e_a8c0_11e9_9d47_34de1a2c1766row7_col9\" class=\"data row7 col9\" >0.0129213</td>\n",
       "                        <td id=\"T_3261c87e_a8c0_11e9_9d47_34de1a2c1766row7_col10\" class=\"data row7 col10\" >bonferroni</td>\n",
       "                        <td id=\"T_3261c87e_a8c0_11e9_9d47_34de1a2c1766row7_col11\" class=\"data row7 col11\" >31.868</td>\n",
       "                        <td id=\"T_3261c87e_a8c0_11e9_9d47_34de1a2c1766row7_col12\" class=\"data row7 col12\" >0.941</td>\n",
       "                        <td id=\"T_3261c87e_a8c0_11e9_9d47_34de1a2c1766row7_col13\" class=\"data row7 col13\" >2.156</td>\n",
       "            </tr>\n",
       "            <tr>\n",
       "                        <th id=\"T_3261c87e_a8c0_11e9_9d47_34de1a2c1766level0_row8\" class=\"row_heading level0 row8\" >8</th>\n",
       "                        <td id=\"T_3261c87e_a8c0_11e9_9d47_34de1a2c1766row8_col0\" class=\"data row8 col0\" >bands</td>\n",
       "                        <td id=\"T_3261c87e_a8c0_11e9_9d47_34de1a2c1766row8_col1\" class=\"data row8 col1\" >delta</td>\n",
       "                        <td id=\"T_3261c87e_a8c0_11e9_9d47_34de1a2c1766row8_col2\" class=\"data row8 col2\" >theta</td>\n",
       "                        <td id=\"T_3261c87e_a8c0_11e9_9d47_34de1a2c1766row8_col3\" class=\"data row8 col3\" >True</td>\n",
       "                        <td id=\"T_3261c87e_a8c0_11e9_9d47_34de1a2c1766row8_col4\" class=\"data row8 col4\" >True</td>\n",
       "                        <td id=\"T_3261c87e_a8c0_11e9_9d47_34de1a2c1766row8_col5\" class=\"data row8 col5\" >4.607</td>\n",
       "                        <td id=\"T_3261c87e_a8c0_11e9_9d47_34de1a2c1766row8_col6\" class=\"data row8 col6\" >12</td>\n",
       "                        <td id=\"T_3261c87e_a8c0_11e9_9d47_34de1a2c1766row8_col7\" class=\"data row8 col7\" >two-sided</td>\n",
       "                        <td id=\"T_3261c87e_a8c0_11e9_9d47_34de1a2c1766row8_col8\" class=\"data row8 col8\" >0.000603783</td>\n",
       "                        <td id=\"T_3261c87e_a8c0_11e9_9d47_34de1a2c1766row8_col9\" class=\"data row8 col9\" >0.00603783</td>\n",
       "                        <td id=\"T_3261c87e_a8c0_11e9_9d47_34de1a2c1766row8_col10\" class=\"data row8 col10\" >bonferroni</td>\n",
       "                        <td id=\"T_3261c87e_a8c0_11e9_9d47_34de1a2c1766row8_col11\" class=\"data row8 col11\" >60.942</td>\n",
       "                        <td id=\"T_3261c87e_a8c0_11e9_9d47_34de1a2c1766row8_col12\" class=\"data row8 col12\" >0.781</td>\n",
       "                        <td id=\"T_3261c87e_a8c0_11e9_9d47_34de1a2c1766row8_col13\" class=\"data row8 col13\" >1.066</td>\n",
       "            </tr>\n",
       "            <tr>\n",
       "                        <th id=\"T_3261c87e_a8c0_11e9_9d47_34de1a2c1766level0_row9\" class=\"row_heading level0 row9\" >9</th>\n",
       "                        <td id=\"T_3261c87e_a8c0_11e9_9d47_34de1a2c1766row9_col0\" class=\"data row9 col0\" >bands</td>\n",
       "                        <td id=\"T_3261c87e_a8c0_11e9_9d47_34de1a2c1766row9_col1\" class=\"data row9 col1\" >gamma</td>\n",
       "                        <td id=\"T_3261c87e_a8c0_11e9_9d47_34de1a2c1766row9_col2\" class=\"data row9 col2\" >theta</td>\n",
       "                        <td id=\"T_3261c87e_a8c0_11e9_9d47_34de1a2c1766row9_col3\" class=\"data row9 col3\" >True</td>\n",
       "                        <td id=\"T_3261c87e_a8c0_11e9_9d47_34de1a2c1766row9_col4\" class=\"data row9 col4\" >True</td>\n",
       "                        <td id=\"T_3261c87e_a8c0_11e9_9d47_34de1a2c1766row9_col5\" class=\"data row9 col5\" >-2.749</td>\n",
       "                        <td id=\"T_3261c87e_a8c0_11e9_9d47_34de1a2c1766row9_col6\" class=\"data row9 col6\" >12</td>\n",
       "                        <td id=\"T_3261c87e_a8c0_11e9_9d47_34de1a2c1766row9_col7\" class=\"data row9 col7\" >two-sided</td>\n",
       "                        <td id=\"T_3261c87e_a8c0_11e9_9d47_34de1a2c1766row9_col8\" class=\"data row9 col8\" >0.0176397</td>\n",
       "                        <td id=\"T_3261c87e_a8c0_11e9_9d47_34de1a2c1766row9_col9\" class=\"data row9 col9\" >0.176397</td>\n",
       "                        <td id=\"T_3261c87e_a8c0_11e9_9d47_34de1a2c1766row9_col10\" class=\"data row9 col10\" >bonferroni</td>\n",
       "                        <td id=\"T_3261c87e_a8c0_11e9_9d47_34de1a2c1766row9_col11\" class=\"data row9 col11\" >3.66</td>\n",
       "                        <td id=\"T_3261c87e_a8c0_11e9_9d47_34de1a2c1766row9_col12\" class=\"data row9 col12\" >0.817</td>\n",
       "                        <td id=\"T_3261c87e_a8c0_11e9_9d47_34de1a2c1766row9_col13\" class=\"data row9 col13\" >-1.327</td>\n",
       "            </tr>\n",
       "    </tbody></table>"
      ],
      "text/plain": [
       "<pandas.io.formats.style.Styler at 0x1cbf5a80dd8>"
      ]
     },
     "execution_count": 12,
     "metadata": {},
     "output_type": "execute_result"
    }
   ],
   "source": [
    "posthoc = pg.pairwise_ttests(data=data.loc[data['category'] == 'faces'], dv='value', within='bands', subject='subs',\n",
    "                             parametric=True, padjust='bonferroni')\n",
    "posthoc.style.applymap(color_significant, subset=['p-corr'])"
   ]
  },
  {
   "cell_type": "code",
   "execution_count": 13,
   "metadata": {},
   "outputs": [
    {
     "data": {
      "text/html": [
       "<style  type=\"text/css\" >\n",
       "    #T_328772a4_a8c0_11e9_91b9_34de1a2c1766row0_col9 {\n",
       "            color:  purple;\n",
       "        }    #T_328772a4_a8c0_11e9_91b9_34de1a2c1766row1_col9 {\n",
       "            color:  black;\n",
       "        }    #T_328772a4_a8c0_11e9_91b9_34de1a2c1766row2_col9 {\n",
       "            color:  purple;\n",
       "        }    #T_328772a4_a8c0_11e9_91b9_34de1a2c1766row3_col9 {\n",
       "            color:  black;\n",
       "        }    #T_328772a4_a8c0_11e9_91b9_34de1a2c1766row4_col9 {\n",
       "            color:  black;\n",
       "        }    #T_328772a4_a8c0_11e9_91b9_34de1a2c1766row5_col9 {\n",
       "            color:  purple;\n",
       "        }    #T_328772a4_a8c0_11e9_91b9_34de1a2c1766row6_col9 {\n",
       "            color:  red;\n",
       "        }    #T_328772a4_a8c0_11e9_91b9_34de1a2c1766row7_col9 {\n",
       "            color:  purple;\n",
       "        }    #T_328772a4_a8c0_11e9_91b9_34de1a2c1766row8_col9 {\n",
       "            color:  black;\n",
       "        }    #T_328772a4_a8c0_11e9_91b9_34de1a2c1766row9_col9 {\n",
       "            color:  purple;\n",
       "        }</style><table id=\"T_328772a4_a8c0_11e9_91b9_34de1a2c1766\" ><thead>    <tr>        <th class=\"blank level0\" ></th>        <th class=\"col_heading level0 col0\" >Contrast</th>        <th class=\"col_heading level0 col1\" >A</th>        <th class=\"col_heading level0 col2\" >B</th>        <th class=\"col_heading level0 col3\" >Paired</th>        <th class=\"col_heading level0 col4\" >Parametric</th>        <th class=\"col_heading level0 col5\" >T</th>        <th class=\"col_heading level0 col6\" >dof</th>        <th class=\"col_heading level0 col7\" >tail</th>        <th class=\"col_heading level0 col8\" >p-unc</th>        <th class=\"col_heading level0 col9\" >p-corr</th>        <th class=\"col_heading level0 col10\" >p-adjust</th>        <th class=\"col_heading level0 col11\" >BF10</th>        <th class=\"col_heading level0 col12\" >CLES</th>        <th class=\"col_heading level0 col13\" >hedges</th>    </tr></thead><tbody>\n",
       "                <tr>\n",
       "                        <th id=\"T_328772a4_a8c0_11e9_91b9_34de1a2c1766level0_row0\" class=\"row_heading level0 row0\" >0</th>\n",
       "                        <td id=\"T_328772a4_a8c0_11e9_91b9_34de1a2c1766row0_col0\" class=\"data row0 col0\" >bands</td>\n",
       "                        <td id=\"T_328772a4_a8c0_11e9_91b9_34de1a2c1766row0_col1\" class=\"data row0 col1\" >alpha</td>\n",
       "                        <td id=\"T_328772a4_a8c0_11e9_91b9_34de1a2c1766row0_col2\" class=\"data row0 col2\" >beta</td>\n",
       "                        <td id=\"T_328772a4_a8c0_11e9_91b9_34de1a2c1766row0_col3\" class=\"data row0 col3\" >True</td>\n",
       "                        <td id=\"T_328772a4_a8c0_11e9_91b9_34de1a2c1766row0_col4\" class=\"data row0 col4\" >True</td>\n",
       "                        <td id=\"T_328772a4_a8c0_11e9_91b9_34de1a2c1766row0_col5\" class=\"data row0 col5\" >6.27</td>\n",
       "                        <td id=\"T_328772a4_a8c0_11e9_91b9_34de1a2c1766row0_col6\" class=\"data row0 col6\" >13</td>\n",
       "                        <td id=\"T_328772a4_a8c0_11e9_91b9_34de1a2c1766row0_col7\" class=\"data row0 col7\" >two-sided</td>\n",
       "                        <td id=\"T_328772a4_a8c0_11e9_91b9_34de1a2c1766row0_col8\" class=\"data row0 col8\" >2.87883e-05</td>\n",
       "                        <td id=\"T_328772a4_a8c0_11e9_91b9_34de1a2c1766row0_col9\" class=\"data row0 col9\" >0.000287883</td>\n",
       "                        <td id=\"T_328772a4_a8c0_11e9_91b9_34de1a2c1766row0_col10\" class=\"data row0 col10\" >bonferroni</td>\n",
       "                        <td id=\"T_328772a4_a8c0_11e9_91b9_34de1a2c1766row0_col11\" class=\"data row0 col11\" >860.537</td>\n",
       "                        <td id=\"T_328772a4_a8c0_11e9_91b9_34de1a2c1766row0_col12\" class=\"data row0 col12\" >0.964</td>\n",
       "                        <td id=\"T_328772a4_a8c0_11e9_91b9_34de1a2c1766row0_col13\" class=\"data row0 col13\" >2.691</td>\n",
       "            </tr>\n",
       "            <tr>\n",
       "                        <th id=\"T_328772a4_a8c0_11e9_91b9_34de1a2c1766level0_row1\" class=\"row_heading level0 row1\" >1</th>\n",
       "                        <td id=\"T_328772a4_a8c0_11e9_91b9_34de1a2c1766row1_col0\" class=\"data row1 col0\" >bands</td>\n",
       "                        <td id=\"T_328772a4_a8c0_11e9_91b9_34de1a2c1766row1_col1\" class=\"data row1 col1\" >alpha</td>\n",
       "                        <td id=\"T_328772a4_a8c0_11e9_91b9_34de1a2c1766row1_col2\" class=\"data row1 col2\" >delta</td>\n",
       "                        <td id=\"T_328772a4_a8c0_11e9_91b9_34de1a2c1766row1_col3\" class=\"data row1 col3\" >True</td>\n",
       "                        <td id=\"T_328772a4_a8c0_11e9_91b9_34de1a2c1766row1_col4\" class=\"data row1 col4\" >True</td>\n",
       "                        <td id=\"T_328772a4_a8c0_11e9_91b9_34de1a2c1766row1_col5\" class=\"data row1 col5\" >0.75</td>\n",
       "                        <td id=\"T_328772a4_a8c0_11e9_91b9_34de1a2c1766row1_col6\" class=\"data row1 col6\" >13</td>\n",
       "                        <td id=\"T_328772a4_a8c0_11e9_91b9_34de1a2c1766row1_col7\" class=\"data row1 col7\" >two-sided</td>\n",
       "                        <td id=\"T_328772a4_a8c0_11e9_91b9_34de1a2c1766row1_col8\" class=\"data row1 col8\" >0.466521</td>\n",
       "                        <td id=\"T_328772a4_a8c0_11e9_91b9_34de1a2c1766row1_col9\" class=\"data row1 col9\" >1</td>\n",
       "                        <td id=\"T_328772a4_a8c0_11e9_91b9_34de1a2c1766row1_col10\" class=\"data row1 col10\" >bonferroni</td>\n",
       "                        <td id=\"T_328772a4_a8c0_11e9_91b9_34de1a2c1766row1_col11\" class=\"data row1 col11\" >0.344</td>\n",
       "                        <td id=\"T_328772a4_a8c0_11e9_91b9_34de1a2c1766row1_col12\" class=\"data row1 col12\" >0.541</td>\n",
       "                        <td id=\"T_328772a4_a8c0_11e9_91b9_34de1a2c1766row1_col13\" class=\"data row1 col13\" >0.323</td>\n",
       "            </tr>\n",
       "            <tr>\n",
       "                        <th id=\"T_328772a4_a8c0_11e9_91b9_34de1a2c1766level0_row2\" class=\"row_heading level0 row2\" >2</th>\n",
       "                        <td id=\"T_328772a4_a8c0_11e9_91b9_34de1a2c1766row2_col0\" class=\"data row2 col0\" >bands</td>\n",
       "                        <td id=\"T_328772a4_a8c0_11e9_91b9_34de1a2c1766row2_col1\" class=\"data row2 col1\" >alpha</td>\n",
       "                        <td id=\"T_328772a4_a8c0_11e9_91b9_34de1a2c1766row2_col2\" class=\"data row2 col2\" >gamma</td>\n",
       "                        <td id=\"T_328772a4_a8c0_11e9_91b9_34de1a2c1766row2_col3\" class=\"data row2 col3\" >True</td>\n",
       "                        <td id=\"T_328772a4_a8c0_11e9_91b9_34de1a2c1766row2_col4\" class=\"data row2 col4\" >True</td>\n",
       "                        <td id=\"T_328772a4_a8c0_11e9_91b9_34de1a2c1766row2_col5\" class=\"data row2 col5\" >12.007</td>\n",
       "                        <td id=\"T_328772a4_a8c0_11e9_91b9_34de1a2c1766row2_col6\" class=\"data row2 col6\" >13</td>\n",
       "                        <td id=\"T_328772a4_a8c0_11e9_91b9_34de1a2c1766row2_col7\" class=\"data row2 col7\" >two-sided</td>\n",
       "                        <td id=\"T_328772a4_a8c0_11e9_91b9_34de1a2c1766row2_col8\" class=\"data row2 col8\" >2.07524e-08</td>\n",
       "                        <td id=\"T_328772a4_a8c0_11e9_91b9_34de1a2c1766row2_col9\" class=\"data row2 col9\" >2.07524e-07</td>\n",
       "                        <td id=\"T_328772a4_a8c0_11e9_91b9_34de1a2c1766row2_col10\" class=\"data row2 col10\" >bonferroni</td>\n",
       "                        <td id=\"T_328772a4_a8c0_11e9_91b9_34de1a2c1766row2_col11\" class=\"data row2 col11\" >5.769e+05</td>\n",
       "                        <td id=\"T_328772a4_a8c0_11e9_91b9_34de1a2c1766row2_col12\" class=\"data row2 col12\" >1</td>\n",
       "                        <td id=\"T_328772a4_a8c0_11e9_91b9_34de1a2c1766row2_col13\" class=\"data row2 col13\" >5.399</td>\n",
       "            </tr>\n",
       "            <tr>\n",
       "                        <th id=\"T_328772a4_a8c0_11e9_91b9_34de1a2c1766level0_row3\" class=\"row_heading level0 row3\" >3</th>\n",
       "                        <td id=\"T_328772a4_a8c0_11e9_91b9_34de1a2c1766row3_col0\" class=\"data row3 col0\" >bands</td>\n",
       "                        <td id=\"T_328772a4_a8c0_11e9_91b9_34de1a2c1766row3_col1\" class=\"data row3 col1\" >alpha</td>\n",
       "                        <td id=\"T_328772a4_a8c0_11e9_91b9_34de1a2c1766row3_col2\" class=\"data row3 col2\" >theta</td>\n",
       "                        <td id=\"T_328772a4_a8c0_11e9_91b9_34de1a2c1766row3_col3\" class=\"data row3 col3\" >True</td>\n",
       "                        <td id=\"T_328772a4_a8c0_11e9_91b9_34de1a2c1766row3_col4\" class=\"data row3 col4\" >True</td>\n",
       "                        <td id=\"T_328772a4_a8c0_11e9_91b9_34de1a2c1766row3_col5\" class=\"data row3 col5\" >-0.566</td>\n",
       "                        <td id=\"T_328772a4_a8c0_11e9_91b9_34de1a2c1766row3_col6\" class=\"data row3 col6\" >13</td>\n",
       "                        <td id=\"T_328772a4_a8c0_11e9_91b9_34de1a2c1766row3_col7\" class=\"data row3 col7\" >two-sided</td>\n",
       "                        <td id=\"T_328772a4_a8c0_11e9_91b9_34de1a2c1766row3_col8\" class=\"data row3 col8\" >0.581179</td>\n",
       "                        <td id=\"T_328772a4_a8c0_11e9_91b9_34de1a2c1766row3_col9\" class=\"data row3 col9\" >1</td>\n",
       "                        <td id=\"T_328772a4_a8c0_11e9_91b9_34de1a2c1766row3_col10\" class=\"data row3 col10\" >bonferroni</td>\n",
       "                        <td id=\"T_328772a4_a8c0_11e9_91b9_34de1a2c1766row3_col11\" class=\"data row3 col11\" >0.31</td>\n",
       "                        <td id=\"T_328772a4_a8c0_11e9_91b9_34de1a2c1766row3_col12\" class=\"data row3 col12\" >0.638</td>\n",
       "                        <td id=\"T_328772a4_a8c0_11e9_91b9_34de1a2c1766row3_col13\" class=\"data row3 col13\" >-0.222</td>\n",
       "            </tr>\n",
       "            <tr>\n",
       "                        <th id=\"T_328772a4_a8c0_11e9_91b9_34de1a2c1766level0_row4\" class=\"row_heading level0 row4\" >4</th>\n",
       "                        <td id=\"T_328772a4_a8c0_11e9_91b9_34de1a2c1766row4_col0\" class=\"data row4 col0\" >bands</td>\n",
       "                        <td id=\"T_328772a4_a8c0_11e9_91b9_34de1a2c1766row4_col1\" class=\"data row4 col1\" >beta</td>\n",
       "                        <td id=\"T_328772a4_a8c0_11e9_91b9_34de1a2c1766row4_col2\" class=\"data row4 col2\" >delta</td>\n",
       "                        <td id=\"T_328772a4_a8c0_11e9_91b9_34de1a2c1766row4_col3\" class=\"data row4 col3\" >True</td>\n",
       "                        <td id=\"T_328772a4_a8c0_11e9_91b9_34de1a2c1766row4_col4\" class=\"data row4 col4\" >True</td>\n",
       "                        <td id=\"T_328772a4_a8c0_11e9_91b9_34de1a2c1766row4_col5\" class=\"data row4 col5\" >-2.708</td>\n",
       "                        <td id=\"T_328772a4_a8c0_11e9_91b9_34de1a2c1766row4_col6\" class=\"data row4 col6\" >13</td>\n",
       "                        <td id=\"T_328772a4_a8c0_11e9_91b9_34de1a2c1766row4_col7\" class=\"data row4 col7\" >two-sided</td>\n",
       "                        <td id=\"T_328772a4_a8c0_11e9_91b9_34de1a2c1766row4_col8\" class=\"data row4 col8\" >0.0179219</td>\n",
       "                        <td id=\"T_328772a4_a8c0_11e9_91b9_34de1a2c1766row4_col9\" class=\"data row4 col9\" >0.179219</td>\n",
       "                        <td id=\"T_328772a4_a8c0_11e9_91b9_34de1a2c1766row4_col10\" class=\"data row4 col10\" >bonferroni</td>\n",
       "                        <td id=\"T_328772a4_a8c0_11e9_91b9_34de1a2c1766row4_col11\" class=\"data row4 col11\" >3.535</td>\n",
       "                        <td id=\"T_328772a4_a8c0_11e9_91b9_34de1a2c1766row4_col12\" class=\"data row4 col12\" >0.852</td>\n",
       "                        <td id=\"T_328772a4_a8c0_11e9_91b9_34de1a2c1766row4_col13\" class=\"data row4 col13\" >-1.333</td>\n",
       "            </tr>\n",
       "            <tr>\n",
       "                        <th id=\"T_328772a4_a8c0_11e9_91b9_34de1a2c1766level0_row5\" class=\"row_heading level0 row5\" >5</th>\n",
       "                        <td id=\"T_328772a4_a8c0_11e9_91b9_34de1a2c1766row5_col0\" class=\"data row5 col0\" >bands</td>\n",
       "                        <td id=\"T_328772a4_a8c0_11e9_91b9_34de1a2c1766row5_col1\" class=\"data row5 col1\" >beta</td>\n",
       "                        <td id=\"T_328772a4_a8c0_11e9_91b9_34de1a2c1766row5_col2\" class=\"data row5 col2\" >gamma</td>\n",
       "                        <td id=\"T_328772a4_a8c0_11e9_91b9_34de1a2c1766row5_col3\" class=\"data row5 col3\" >True</td>\n",
       "                        <td id=\"T_328772a4_a8c0_11e9_91b9_34de1a2c1766row5_col4\" class=\"data row5 col4\" >True</td>\n",
       "                        <td id=\"T_328772a4_a8c0_11e9_91b9_34de1a2c1766row5_col5\" class=\"data row5 col5\" >13.018</td>\n",
       "                        <td id=\"T_328772a4_a8c0_11e9_91b9_34de1a2c1766row5_col6\" class=\"data row5 col6\" >13</td>\n",
       "                        <td id=\"T_328772a4_a8c0_11e9_91b9_34de1a2c1766row5_col7\" class=\"data row5 col7\" >two-sided</td>\n",
       "                        <td id=\"T_328772a4_a8c0_11e9_91b9_34de1a2c1766row5_col8\" class=\"data row5 col8\" >7.82628e-09</td>\n",
       "                        <td id=\"T_328772a4_a8c0_11e9_91b9_34de1a2c1766row5_col9\" class=\"data row5 col9\" >7.82628e-08</td>\n",
       "                        <td id=\"T_328772a4_a8c0_11e9_91b9_34de1a2c1766row5_col10\" class=\"data row5 col10\" >bonferroni</td>\n",
       "                        <td id=\"T_328772a4_a8c0_11e9_91b9_34de1a2c1766row5_col11\" class=\"data row5 col11\" >1.403e+06</td>\n",
       "                        <td id=\"T_328772a4_a8c0_11e9_91b9_34de1a2c1766row5_col12\" class=\"data row5 col12\" >1</td>\n",
       "                        <td id=\"T_328772a4_a8c0_11e9_91b9_34de1a2c1766row5_col13\" class=\"data row5 col13\" >3.655</td>\n",
       "            </tr>\n",
       "            <tr>\n",
       "                        <th id=\"T_328772a4_a8c0_11e9_91b9_34de1a2c1766level0_row6\" class=\"row_heading level0 row6\" >6</th>\n",
       "                        <td id=\"T_328772a4_a8c0_11e9_91b9_34de1a2c1766row6_col0\" class=\"data row6 col0\" >bands</td>\n",
       "                        <td id=\"T_328772a4_a8c0_11e9_91b9_34de1a2c1766row6_col1\" class=\"data row6 col1\" >beta</td>\n",
       "                        <td id=\"T_328772a4_a8c0_11e9_91b9_34de1a2c1766row6_col2\" class=\"data row6 col2\" >theta</td>\n",
       "                        <td id=\"T_328772a4_a8c0_11e9_91b9_34de1a2c1766row6_col3\" class=\"data row6 col3\" >True</td>\n",
       "                        <td id=\"T_328772a4_a8c0_11e9_91b9_34de1a2c1766row6_col4\" class=\"data row6 col4\" >True</td>\n",
       "                        <td id=\"T_328772a4_a8c0_11e9_91b9_34de1a2c1766row6_col5\" class=\"data row6 col5\" >-4.777</td>\n",
       "                        <td id=\"T_328772a4_a8c0_11e9_91b9_34de1a2c1766row6_col6\" class=\"data row6 col6\" >13</td>\n",
       "                        <td id=\"T_328772a4_a8c0_11e9_91b9_34de1a2c1766row6_col7\" class=\"data row6 col7\" >two-sided</td>\n",
       "                        <td id=\"T_328772a4_a8c0_11e9_91b9_34de1a2c1766row6_col8\" class=\"data row6 col8\" >0.000361723</td>\n",
       "                        <td id=\"T_328772a4_a8c0_11e9_91b9_34de1a2c1766row6_col9\" class=\"data row6 col9\" >0.00361723</td>\n",
       "                        <td id=\"T_328772a4_a8c0_11e9_91b9_34de1a2c1766row6_col10\" class=\"data row6 col10\" >bonferroni</td>\n",
       "                        <td id=\"T_328772a4_a8c0_11e9_91b9_34de1a2c1766row6_col11\" class=\"data row6 col11\" >93.91</td>\n",
       "                        <td id=\"T_328772a4_a8c0_11e9_91b9_34de1a2c1766row6_col12\" class=\"data row6 col12\" >0.923</td>\n",
       "                        <td id=\"T_328772a4_a8c0_11e9_91b9_34de1a2c1766row6_col13\" class=\"data row6 col13\" >-2.338</td>\n",
       "            </tr>\n",
       "            <tr>\n",
       "                        <th id=\"T_328772a4_a8c0_11e9_91b9_34de1a2c1766level0_row7\" class=\"row_heading level0 row7\" >7</th>\n",
       "                        <td id=\"T_328772a4_a8c0_11e9_91b9_34de1a2c1766row7_col0\" class=\"data row7 col0\" >bands</td>\n",
       "                        <td id=\"T_328772a4_a8c0_11e9_91b9_34de1a2c1766row7_col1\" class=\"data row7 col1\" >delta</td>\n",
       "                        <td id=\"T_328772a4_a8c0_11e9_91b9_34de1a2c1766row7_col2\" class=\"data row7 col2\" >gamma</td>\n",
       "                        <td id=\"T_328772a4_a8c0_11e9_91b9_34de1a2c1766row7_col3\" class=\"data row7 col3\" >True</td>\n",
       "                        <td id=\"T_328772a4_a8c0_11e9_91b9_34de1a2c1766row7_col4\" class=\"data row7 col4\" >True</td>\n",
       "                        <td id=\"T_328772a4_a8c0_11e9_91b9_34de1a2c1766row7_col5\" class=\"data row7 col5\" >6.579</td>\n",
       "                        <td id=\"T_328772a4_a8c0_11e9_91b9_34de1a2c1766row7_col6\" class=\"data row7 col6\" >13</td>\n",
       "                        <td id=\"T_328772a4_a8c0_11e9_91b9_34de1a2c1766row7_col7\" class=\"data row7 col7\" >two-sided</td>\n",
       "                        <td id=\"T_328772a4_a8c0_11e9_91b9_34de1a2c1766row7_col8\" class=\"data row7 col8\" >1.77258e-05</td>\n",
       "                        <td id=\"T_328772a4_a8c0_11e9_91b9_34de1a2c1766row7_col9\" class=\"data row7 col9\" >0.000177258</td>\n",
       "                        <td id=\"T_328772a4_a8c0_11e9_91b9_34de1a2c1766row7_col10\" class=\"data row7 col10\" >bonferroni</td>\n",
       "                        <td id=\"T_328772a4_a8c0_11e9_91b9_34de1a2c1766row7_col11\" class=\"data row7 col11\" >1322.067</td>\n",
       "                        <td id=\"T_328772a4_a8c0_11e9_91b9_34de1a2c1766row7_col12\" class=\"data row7 col12\" >0.923</td>\n",
       "                        <td id=\"T_328772a4_a8c0_11e9_91b9_34de1a2c1766row7_col13\" class=\"data row7 col13\" >3.02</td>\n",
       "            </tr>\n",
       "            <tr>\n",
       "                        <th id=\"T_328772a4_a8c0_11e9_91b9_34de1a2c1766level0_row8\" class=\"row_heading level0 row8\" >8</th>\n",
       "                        <td id=\"T_328772a4_a8c0_11e9_91b9_34de1a2c1766row8_col0\" class=\"data row8 col0\" >bands</td>\n",
       "                        <td id=\"T_328772a4_a8c0_11e9_91b9_34de1a2c1766row8_col1\" class=\"data row8 col1\" >delta</td>\n",
       "                        <td id=\"T_328772a4_a8c0_11e9_91b9_34de1a2c1766row8_col2\" class=\"data row8 col2\" >theta</td>\n",
       "                        <td id=\"T_328772a4_a8c0_11e9_91b9_34de1a2c1766row8_col3\" class=\"data row8 col3\" >True</td>\n",
       "                        <td id=\"T_328772a4_a8c0_11e9_91b9_34de1a2c1766row8_col4\" class=\"data row8 col4\" >True</td>\n",
       "                        <td id=\"T_328772a4_a8c0_11e9_91b9_34de1a2c1766row8_col5\" class=\"data row8 col5\" >-2.24</td>\n",
       "                        <td id=\"T_328772a4_a8c0_11e9_91b9_34de1a2c1766row8_col6\" class=\"data row8 col6\" >13</td>\n",
       "                        <td id=\"T_328772a4_a8c0_11e9_91b9_34de1a2c1766row8_col7\" class=\"data row8 col7\" >two-sided</td>\n",
       "                        <td id=\"T_328772a4_a8c0_11e9_91b9_34de1a2c1766row8_col8\" class=\"data row8 col8\" >0.0432293</td>\n",
       "                        <td id=\"T_328772a4_a8c0_11e9_91b9_34de1a2c1766row8_col9\" class=\"data row8 col9\" >0.432293</td>\n",
       "                        <td id=\"T_328772a4_a8c0_11e9_91b9_34de1a2c1766row8_col10\" class=\"data row8 col10\" >bonferroni</td>\n",
       "                        <td id=\"T_328772a4_a8c0_11e9_91b9_34de1a2c1766row8_col11\" class=\"data row8 col11\" >1.761</td>\n",
       "                        <td id=\"T_328772a4_a8c0_11e9_91b9_34de1a2c1766row8_col12\" class=\"data row8 col12\" >0.658</td>\n",
       "                        <td id=\"T_328772a4_a8c0_11e9_91b9_34de1a2c1766row8_col13\" class=\"data row8 col13\" >-0.441</td>\n",
       "            </tr>\n",
       "            <tr>\n",
       "                        <th id=\"T_328772a4_a8c0_11e9_91b9_34de1a2c1766level0_row9\" class=\"row_heading level0 row9\" >9</th>\n",
       "                        <td id=\"T_328772a4_a8c0_11e9_91b9_34de1a2c1766row9_col0\" class=\"data row9 col0\" >bands</td>\n",
       "                        <td id=\"T_328772a4_a8c0_11e9_91b9_34de1a2c1766row9_col1\" class=\"data row9 col1\" >gamma</td>\n",
       "                        <td id=\"T_328772a4_a8c0_11e9_91b9_34de1a2c1766row9_col2\" class=\"data row9 col2\" >theta</td>\n",
       "                        <td id=\"T_328772a4_a8c0_11e9_91b9_34de1a2c1766row9_col3\" class=\"data row9 col3\" >True</td>\n",
       "                        <td id=\"T_328772a4_a8c0_11e9_91b9_34de1a2c1766row9_col4\" class=\"data row9 col4\" >True</td>\n",
       "                        <td id=\"T_328772a4_a8c0_11e9_91b9_34de1a2c1766row9_col5\" class=\"data row9 col5\" >-9.437</td>\n",
       "                        <td id=\"T_328772a4_a8c0_11e9_91b9_34de1a2c1766row9_col6\" class=\"data row9 col6\" >13</td>\n",
       "                        <td id=\"T_328772a4_a8c0_11e9_91b9_34de1a2c1766row9_col7\" class=\"data row9 col7\" >two-sided</td>\n",
       "                        <td id=\"T_328772a4_a8c0_11e9_91b9_34de1a2c1766row9_col8\" class=\"data row9 col8\" >3.51042e-07</td>\n",
       "                        <td id=\"T_328772a4_a8c0_11e9_91b9_34de1a2c1766row9_col9\" class=\"data row9 col9\" >3.51042e-06</td>\n",
       "                        <td id=\"T_328772a4_a8c0_11e9_91b9_34de1a2c1766row9_col10\" class=\"data row9 col10\" >bonferroni</td>\n",
       "                        <td id=\"T_328772a4_a8c0_11e9_91b9_34de1a2c1766row9_col11\" class=\"data row9 col11\" >4.437e+04</td>\n",
       "                        <td id=\"T_328772a4_a8c0_11e9_91b9_34de1a2c1766row9_col12\" class=\"data row9 col12\" >0.974</td>\n",
       "                        <td id=\"T_328772a4_a8c0_11e9_91b9_34de1a2c1766row9_col13\" class=\"data row9 col13\" >-4.402</td>\n",
       "            </tr>\n",
       "    </tbody></table>"
      ],
      "text/plain": [
       "<pandas.io.formats.style.Styler at 0x1cbf5a90668>"
      ]
     },
     "execution_count": 13,
     "metadata": {},
     "output_type": "execute_result"
    }
   ],
   "source": [
    "posthoc = pg.pairwise_ttests(data=data.loc[data['category'] == 'ensemble'], dv='value', within='bands', subject='subs',\n",
    "                             parametric=True, padjust='bonferroni')\n",
    "posthoc.style.applymap(color_significant, subset=['p-corr'])"
   ]
  },
  {
   "cell_type": "markdown",
   "metadata": {},
   "source": [
    "### Figure "
   ]
  },
  {
   "cell_type": "code",
   "execution_count": 14,
   "metadata": {},
   "outputs": [
    {
     "data": {
      "text/plain": [
       "Text(0.5, 1.0, 'Frequency')"
      ]
     },
     "execution_count": 14,
     "metadata": {},
     "output_type": "execute_result"
    },
    {
     "data": {
      "image/png": "[encoded data removed]",
      "text/plain": [
       "<Figure size 432x288 with 1 Axes>"
      ]
     },
     "metadata": {
      "needs_background": "light"
     },
     "output_type": "display_data"
    }
   ],
   "source": [
    "import matplotlib.pyplot as plt\n",
    "import seaborn as sns\n",
    "df = sum_df.reset_index()\n",
    "fig, (ax1) = plt.subplots(1)\n",
    "fig.figsize = (3,6)\n",
    "sns.pointplot(y='value',x='bands',hue = 'category', data=data, \n",
    "            order = ['delta','theta','alpha','beta','gamma'],kind='point', ax=ax1)\n",
    "plt.title('Frequency')\n"
   ]
  },
  {
   "cell_type": "markdown",
   "metadata": {},
   "source": [
    "# Time Analysis"
   ]
  },
  {
   "cell_type": "code",
   "execution_count": 4,
   "metadata": {},
   "outputs": [],
   "source": [
    "import numpy as np\n",
    "import h5py\n",
    "import warnings\n",
    "import pandas as pd\n",
    "warnings.filterwarnings('ignore')\n",
    "mat_name = determine_os()\n",
    "# mat_name = 'C:\\\\Users\\\\Dan\\\\Dropbox\\\\RFE\\\\results_for_talk.mat'\n",
    "with h5py.File(mat_name) as f:\n",
    "    #print(list(f.keys()))\n",
    "    ens = f['results_ens_time']['ranking'].value\n",
    "    words = f['results_words_time']['ranking'].value\n",
    "    faces = f['results_faces_time']['ranking'].value\n",
    "ens = turn_array_to_df_time(ens)\n",
    "ens = ens.groupby(['intervals','subs']).mean().reset_index()\n",
    "ens['category'] = 'ensemble'\n",
    "words = turn_array_to_df_time(words)\n",
    "words = words.groupby(['intervals','subs']).mean().reset_index()\n",
    "words['category'] = 'words'\n",
    "words['subs'] = words['subs']+14\n",
    "faces = turn_array_to_df_time(faces)\n",
    "faces = faces.groupby(['intervals','subs']).mean().reset_index()\n",
    "faces['category'] = 'faces'\n",
    "faces['subs'] = faces['subs']+28\n",
    "data = pd.concat([ens,words,faces])\n",
    "data['combined'] = data.category.str.cat(data.intervals, sep='_')\n",
    "data_tm = data"
   ]
  },
  {
   "cell_type": "markdown",
   "metadata": {},
   "source": [
    "## Analysis"
   ]
  },
  {
   "cell_type": "code",
   "execution_count": 18,
   "metadata": {},
   "outputs": [
    {
     "name": "stdout",
     "output_type": "stream",
     "text": [
      "\n",
      "\n"
     ]
    },
    {
     "data": {
      "text/html": [
       "<div>\n",
       "<style scoped>\n",
       "    .dataframe tbody tr th:only-of-type {\n",
       "        vertical-align: middle;\n",
       "    }\n",
       "\n",
       "    .dataframe tbody tr th {\n",
       "        vertical-align: top;\n",
       "    }\n",
       "\n",
       "    .dataframe thead th {\n",
       "        text-align: right;\n",
       "    }\n",
       "</style>\n",
       "<table border=\"1\" class=\"dataframe\">\n",
       "  <thead>\n",
       "    <tr style=\"text-align: right;\">\n",
       "      <th></th>\n",
       "      <th></th>\n",
       "      <th>N</th>\n",
       "      <th>Mean</th>\n",
       "      <th>SD</th>\n",
       "      <th>SE</th>\n",
       "      <th>95% Conf.</th>\n",
       "      <th>Interval</th>\n",
       "    </tr>\n",
       "    <tr>\n",
       "      <th>intervals</th>\n",
       "      <th>category</th>\n",
       "      <th></th>\n",
       "      <th></th>\n",
       "      <th></th>\n",
       "      <th></th>\n",
       "      <th></th>\n",
       "      <th></th>\n",
       "    </tr>\n",
       "  </thead>\n",
       "  <tbody>\n",
       "    <tr>\n",
       "      <th rowspan=\"3\" valign=\"top\">150 - 250</th>\n",
       "      <th>ensemble</th>\n",
       "      <td>14</td>\n",
       "      <td>30.570597</td>\n",
       "      <td>3.366722</td>\n",
       "      <td>0.899794</td>\n",
       "      <td>28.807000</td>\n",
       "      <td>32.334194</td>\n",
       "    </tr>\n",
       "    <tr>\n",
       "      <th>faces</th>\n",
       "      <td>13</td>\n",
       "      <td>33.200226</td>\n",
       "      <td>1.337181</td>\n",
       "      <td>0.370867</td>\n",
       "      <td>32.473327</td>\n",
       "      <td>33.927126</td>\n",
       "    </tr>\n",
       "    <tr>\n",
       "      <th>words</th>\n",
       "      <td>14</td>\n",
       "      <td>34.979648</td>\n",
       "      <td>1.995071</td>\n",
       "      <td>0.533205</td>\n",
       "      <td>33.934566</td>\n",
       "      <td>36.024730</td>\n",
       "    </tr>\n",
       "    <tr>\n",
       "      <th rowspan=\"3\" valign=\"top\">250 - 350</th>\n",
       "      <th>ensemble</th>\n",
       "      <td>14</td>\n",
       "      <td>30.123446</td>\n",
       "      <td>2.714205</td>\n",
       "      <td>0.725402</td>\n",
       "      <td>28.701659</td>\n",
       "      <td>31.545234</td>\n",
       "    </tr>\n",
       "    <tr>\n",
       "      <th>faces</th>\n",
       "      <td>13</td>\n",
       "      <td>33.123845</td>\n",
       "      <td>2.034763</td>\n",
       "      <td>0.564342</td>\n",
       "      <td>32.017735</td>\n",
       "      <td>34.229955</td>\n",
       "    </tr>\n",
       "    <tr>\n",
       "      <th>words</th>\n",
       "      <td>14</td>\n",
       "      <td>32.639947</td>\n",
       "      <td>1.606390</td>\n",
       "      <td>0.429326</td>\n",
       "      <td>31.798468</td>\n",
       "      <td>33.481425</td>\n",
       "    </tr>\n",
       "    <tr>\n",
       "      <th rowspan=\"3\" valign=\"top\">350 - 450</th>\n",
       "      <th>ensemble</th>\n",
       "      <td>14</td>\n",
       "      <td>34.110557</td>\n",
       "      <td>3.168060</td>\n",
       "      <td>0.846700</td>\n",
       "      <td>32.451025</td>\n",
       "      <td>35.770088</td>\n",
       "    </tr>\n",
       "    <tr>\n",
       "      <th>faces</th>\n",
       "      <td>13</td>\n",
       "      <td>33.547417</td>\n",
       "      <td>1.008547</td>\n",
       "      <td>0.279720</td>\n",
       "      <td>32.999165</td>\n",
       "      <td>34.095669</td>\n",
       "    </tr>\n",
       "    <tr>\n",
       "      <th>words</th>\n",
       "      <td>14</td>\n",
       "      <td>32.549764</td>\n",
       "      <td>1.636602</td>\n",
       "      <td>0.437400</td>\n",
       "      <td>31.692459</td>\n",
       "      <td>33.407068</td>\n",
       "    </tr>\n",
       "    <tr>\n",
       "      <th rowspan=\"3\" valign=\"top\">450 - 550</th>\n",
       "      <th>ensemble</th>\n",
       "      <td>14</td>\n",
       "      <td>32.369835</td>\n",
       "      <td>2.293748</td>\n",
       "      <td>0.613030</td>\n",
       "      <td>31.168297</td>\n",
       "      <td>33.571374</td>\n",
       "    </tr>\n",
       "    <tr>\n",
       "      <th>faces</th>\n",
       "      <td>13</td>\n",
       "      <td>32.024203</td>\n",
       "      <td>1.678114</td>\n",
       "      <td>0.465425</td>\n",
       "      <td>31.111970</td>\n",
       "      <td>32.936436</td>\n",
       "    </tr>\n",
       "    <tr>\n",
       "      <th>words</th>\n",
       "      <td>14</td>\n",
       "      <td>31.583421</td>\n",
       "      <td>1.580632</td>\n",
       "      <td>0.422442</td>\n",
       "      <td>30.755435</td>\n",
       "      <td>32.411406</td>\n",
       "    </tr>\n",
       "    <tr>\n",
       "      <th rowspan=\"3\" valign=\"top\">50 - 150</th>\n",
       "      <th>ensemble</th>\n",
       "      <td>14</td>\n",
       "      <td>33.716277</td>\n",
       "      <td>3.033093</td>\n",
       "      <td>0.810628</td>\n",
       "      <td>32.127446</td>\n",
       "      <td>35.305108</td>\n",
       "    </tr>\n",
       "    <tr>\n",
       "      <th>faces</th>\n",
       "      <td>13</td>\n",
       "      <td>30.861944</td>\n",
       "      <td>1.512843</td>\n",
       "      <td>0.419587</td>\n",
       "      <td>30.039553</td>\n",
       "      <td>31.684334</td>\n",
       "    </tr>\n",
       "    <tr>\n",
       "      <th>words</th>\n",
       "      <td>14</td>\n",
       "      <td>31.542673</td>\n",
       "      <td>3.008529</td>\n",
       "      <td>0.804063</td>\n",
       "      <td>29.966709</td>\n",
       "      <td>33.118637</td>\n",
       "    </tr>\n",
       "    <tr>\n",
       "      <th rowspan=\"3\" valign=\"top\">550 - 650</th>\n",
       "      <th>ensemble</th>\n",
       "      <td>14</td>\n",
       "      <td>33.977591</td>\n",
       "      <td>2.730318</td>\n",
       "      <td>0.729708</td>\n",
       "      <td>32.547363</td>\n",
       "      <td>35.407819</td>\n",
       "    </tr>\n",
       "    <tr>\n",
       "      <th>faces</th>\n",
       "      <td>13</td>\n",
       "      <td>32.005326</td>\n",
       "      <td>1.582337</td>\n",
       "      <td>0.438861</td>\n",
       "      <td>31.145158</td>\n",
       "      <td>32.865495</td>\n",
       "    </tr>\n",
       "    <tr>\n",
       "      <th>words</th>\n",
       "      <td>14</td>\n",
       "      <td>31.327228</td>\n",
       "      <td>2.429056</td>\n",
       "      <td>0.649193</td>\n",
       "      <td>30.054810</td>\n",
       "      <td>32.599645</td>\n",
       "    </tr>\n",
       "  </tbody>\n",
       "</table>\n",
       "</div>"
      ],
      "text/plain": [
       "                     N       Mean        SD        SE  95% Conf.   Interval\n",
       "intervals category                                                         \n",
       "150 - 250 ensemble  14  30.570597  3.366722  0.899794  28.807000  32.334194\n",
       "          faces     13  33.200226  1.337181  0.370867  32.473327  33.927126\n",
       "          words     14  34.979648  1.995071  0.533205  33.934566  36.024730\n",
       "250 - 350 ensemble  14  30.123446  2.714205  0.725402  28.701659  31.545234\n",
       "          faces     13  33.123845  2.034763  0.564342  32.017735  34.229955\n",
       "          words     14  32.639947  1.606390  0.429326  31.798468  33.481425\n",
       "350 - 450 ensemble  14  34.110557  3.168060  0.846700  32.451025  35.770088\n",
       "          faces     13  33.547417  1.008547  0.279720  32.999165  34.095669\n",
       "          words     14  32.549764  1.636602  0.437400  31.692459  33.407068\n",
       "450 - 550 ensemble  14  32.369835  2.293748  0.613030  31.168297  33.571374\n",
       "          faces     13  32.024203  1.678114  0.465425  31.111970  32.936436\n",
       "          words     14  31.583421  1.580632  0.422442  30.755435  32.411406\n",
       "50 - 150  ensemble  14  33.716277  3.033093  0.810628  32.127446  35.305108\n",
       "          faces     13  30.861944  1.512843  0.419587  30.039553  31.684334\n",
       "          words     14  31.542673  3.008529  0.804063  29.966709  33.118637\n",
       "550 - 650 ensemble  14  33.977591  2.730318  0.729708  32.547363  35.407819\n",
       "          faces     13  32.005326  1.582337  0.438861  31.145158  32.865495\n",
       "          words     14  31.327228  2.429056  0.649193  30.054810  32.599645"
      ]
     },
     "execution_count": 18,
     "metadata": {},
     "output_type": "execute_result"
    }
   ],
   "source": [
    "import researchpy as rp\n",
    "sum_df = rp.summary_cont(data.groupby(['intervals', 'category']))['value']\n",
    "sum_df"
   ]
  },
  {
   "cell_type": "markdown",
   "metadata": {},
   "source": [
    "### ANOVA"
   ]
  },
  {
   "cell_type": "code",
   "execution_count": 19,
   "metadata": {},
   "outputs": [
    {
     "name": "stdout",
     "output_type": "stream",
     "text": [
      "df effect 3.37\n",
      "df error 128.06\n"
     ]
    },
    {
     "data": {
      "text/html": [
       "<style  type=\"text/css\" >\n",
       "    #T_c48814be_a973_11e9_b66e_685b359177derow0_col6 {\n",
       "            color:  red;\n",
       "        }    #T_c48814be_a973_11e9_b66e_685b359177derow0_col7 {\n",
       "            color:  black;\n",
       "        }    #T_c48814be_a973_11e9_b66e_685b359177derow1_col6 {\n",
       "            color:  red;\n",
       "        }    #T_c48814be_a973_11e9_b66e_685b359177derow1_col7 {\n",
       "            color:  black;\n",
       "        }    #T_c48814be_a973_11e9_b66e_685b359177derow2_col6 {\n",
       "            color:  purple;\n",
       "        }    #T_c48814be_a973_11e9_b66e_685b359177derow2_col7 {\n",
       "            color:  black;\n",
       "        }</style><table id=\"T_c48814be_a973_11e9_b66e_685b359177de\" ><thead>    <tr>        <th class=\"blank level0\" ></th>        <th class=\"col_heading level0 col0\" >Source</th>        <th class=\"col_heading level0 col1\" >SS</th>        <th class=\"col_heading level0 col2\" >DF1</th>        <th class=\"col_heading level0 col3\" >DF2</th>        <th class=\"col_heading level0 col4\" >MS</th>        <th class=\"col_heading level0 col5\" >F</th>        <th class=\"col_heading level0 col6\" >p-unc</th>        <th class=\"col_heading level0 col7\" >p-GG-corr</th>        <th class=\"col_heading level0 col8\" >np2</th>        <th class=\"col_heading level0 col9\" >eps</th>        <th class=\"col_heading level0 col10\" >sphericity</th>        <th class=\"col_heading level0 col11\" >W-spher</th>        <th class=\"col_heading level0 col12\" >p-spher</th>    </tr></thead><tbody>\n",
       "                <tr>\n",
       "                        <th id=\"T_c48814be_a973_11e9_b66e_685b359177delevel0_row0\" class=\"row_heading level0 row0\" >0</th>\n",
       "                        <td id=\"T_c48814be_a973_11e9_b66e_685b359177derow0_col0\" class=\"data row0 col0\" >category</td>\n",
       "                        <td id=\"T_c48814be_a973_11e9_b66e_685b359177derow0_col1\" class=\"data row0 col1\" >0.071</td>\n",
       "                        <td id=\"T_c48814be_a973_11e9_b66e_685b359177derow0_col2\" class=\"data row0 col2\" >2</td>\n",
       "                        <td id=\"T_c48814be_a973_11e9_b66e_685b359177derow0_col3\" class=\"data row0 col3\" >38</td>\n",
       "                        <td id=\"T_c48814be_a973_11e9_b66e_685b359177derow0_col4\" class=\"data row0 col4\" >0.035</td>\n",
       "                        <td id=\"T_c48814be_a973_11e9_b66e_685b359177derow0_col5\" class=\"data row0 col5\" >4.991</td>\n",
       "                        <td id=\"T_c48814be_a973_11e9_b66e_685b359177derow0_col6\" class=\"data row0 col6\" >0.0118928</td>\n",
       "                        <td id=\"T_c48814be_a973_11e9_b66e_685b359177derow0_col7\" class=\"data row0 col7\" >-</td>\n",
       "                        <td id=\"T_c48814be_a973_11e9_b66e_685b359177derow0_col8\" class=\"data row0 col8\" >0.208</td>\n",
       "                        <td id=\"T_c48814be_a973_11e9_b66e_685b359177derow0_col9\" class=\"data row0 col9\" >-</td>\n",
       "                        <td id=\"T_c48814be_a973_11e9_b66e_685b359177derow0_col10\" class=\"data row0 col10\" >-</td>\n",
       "                        <td id=\"T_c48814be_a973_11e9_b66e_685b359177derow0_col11\" class=\"data row0 col11\" >-</td>\n",
       "                        <td id=\"T_c48814be_a973_11e9_b66e_685b359177derow0_col12\" class=\"data row0 col12\" >-</td>\n",
       "            </tr>\n",
       "            <tr>\n",
       "                        <th id=\"T_c48814be_a973_11e9_b66e_685b359177delevel0_row1\" class=\"row_heading level0 row1\" >1</th>\n",
       "                        <td id=\"T_c48814be_a973_11e9_b66e_685b359177derow1_col0\" class=\"data row1 col0\" >intervals</td>\n",
       "                        <td id=\"T_c48814be_a973_11e9_b66e_685b359177derow1_col1\" class=\"data row1 col1\" >71.057</td>\n",
       "                        <td id=\"T_c48814be_a973_11e9_b66e_685b359177derow1_col2\" class=\"data row1 col2\" >5</td>\n",
       "                        <td id=\"T_c48814be_a973_11e9_b66e_685b359177derow1_col3\" class=\"data row1 col3\" >190</td>\n",
       "                        <td id=\"T_c48814be_a973_11e9_b66e_685b359177derow1_col4\" class=\"data row1 col4\" >14.211</td>\n",
       "                        <td id=\"T_c48814be_a973_11e9_b66e_685b359177derow1_col5\" class=\"data row1 col5\" >2.289</td>\n",
       "                        <td id=\"T_c48814be_a973_11e9_b66e_685b359177derow1_col6\" class=\"data row1 col6\" >0.0475872</td>\n",
       "                        <td id=\"T_c48814be_a973_11e9_b66e_685b359177derow1_col7\" class=\"data row1 col7\" >0.131437</td>\n",
       "                        <td id=\"T_c48814be_a973_11e9_b66e_685b359177derow1_col8\" class=\"data row1 col8\" >0.057</td>\n",
       "                        <td id=\"T_c48814be_a973_11e9_b66e_685b359177derow1_col9\" class=\"data row1 col9\" >0.674</td>\n",
       "                        <td id=\"T_c48814be_a973_11e9_b66e_685b359177derow1_col10\" class=\"data row1 col10\" >False</td>\n",
       "                        <td id=\"T_c48814be_a973_11e9_b66e_685b359177derow1_col11\" class=\"data row1 col11\" >0.226</td>\n",
       "                        <td id=\"T_c48814be_a973_11e9_b66e_685b359177derow1_col12\" class=\"data row1 col12\" >4.72677e-07</td>\n",
       "            </tr>\n",
       "            <tr>\n",
       "                        <th id=\"T_c48814be_a973_11e9_b66e_685b359177delevel0_row2\" class=\"row_heading level0 row2\" >2</th>\n",
       "                        <td id=\"T_c48814be_a973_11e9_b66e_685b359177derow2_col0\" class=\"data row2 col0\" >Interaction</td>\n",
       "                        <td id=\"T_c48814be_a973_11e9_b66e_685b359177derow2_col1\" class=\"data row2 col1\" >344.405</td>\n",
       "                        <td id=\"T_c48814be_a973_11e9_b66e_685b359177derow2_col2\" class=\"data row2 col2\" >10</td>\n",
       "                        <td id=\"T_c48814be_a973_11e9_b66e_685b359177derow2_col3\" class=\"data row2 col3\" >190</td>\n",
       "                        <td id=\"T_c48814be_a973_11e9_b66e_685b359177derow2_col4\" class=\"data row2 col4\" >34.44</td>\n",
       "                        <td id=\"T_c48814be_a973_11e9_b66e_685b359177derow2_col5\" class=\"data row2 col5\" >5.546</td>\n",
       "                        <td id=\"T_c48814be_a973_11e9_b66e_685b359177derow2_col6\" class=\"data row2 col6\" >3.08204e-07</td>\n",
       "                        <td id=\"T_c48814be_a973_11e9_b66e_685b359177derow2_col7\" class=\"data row2 col7\" >-</td>\n",
       "                        <td id=\"T_c48814be_a973_11e9_b66e_685b359177derow2_col8\" class=\"data row2 col8\" >0.226</td>\n",
       "                        <td id=\"T_c48814be_a973_11e9_b66e_685b359177derow2_col9\" class=\"data row2 col9\" >-</td>\n",
       "                        <td id=\"T_c48814be_a973_11e9_b66e_685b359177derow2_col10\" class=\"data row2 col10\" >-</td>\n",
       "                        <td id=\"T_c48814be_a973_11e9_b66e_685b359177derow2_col11\" class=\"data row2 col11\" >-</td>\n",
       "                        <td id=\"T_c48814be_a973_11e9_b66e_685b359177derow2_col12\" class=\"data row2 col12\" >-</td>\n",
       "            </tr>\n",
       "    </tbody></table>"
      ],
      "text/plain": [
       "<pandas.io.formats.style.Styler at 0x12b7ac278>"
      ]
     },
     "execution_count": 19,
     "metadata": {},
     "output_type": "execute_result"
    }
   ],
   "source": [
    "import numpy as np\n",
    "import pingouin as pg\n",
    "aov_tm = pg.mixed_anova(data=data, dv='value', between='category', within='intervals',\n",
    "                     subject='subs')\n",
    "print(f'df effect {5*0.674:.2f}')\n",
    "print(f'df error {190*0.674:.2f}')\n",
    "aov_tm.style.applymap(color_significant, subset=['p-GG-corr','p-unc'])"
   ]
  },
  {
   "cell_type": "code",
   "execution_count": 26,
   "metadata": {},
   "outputs": [
    {
     "data": {
      "text/html": [
       "<style  type=\"text/css\" >\n",
       "    #T_66c2cba2_a974_11e9_86cb_685b359177derow0_col4 {\n",
       "            color:  red;\n",
       "        }</style><table id=\"T_66c2cba2_a974_11e9_86cb_685b359177de\" ><thead>    <tr>        <th class=\"blank level0\" ></th>        <th class=\"col_heading level0 col0\" >Source</th>        <th class=\"col_heading level0 col1\" >ddof1</th>        <th class=\"col_heading level0 col2\" >ddof2</th>        <th class=\"col_heading level0 col3\" >F</th>        <th class=\"col_heading level0 col4\" >p-unc</th>        <th class=\"col_heading level0 col5\" >np2</th>        <th class=\"col_heading level0 col6\" >eps</th>    </tr></thead><tbody>\n",
       "                <tr>\n",
       "                        <th id=\"T_66c2cba2_a974_11e9_86cb_685b359177delevel0_row0\" class=\"row_heading level0 row0\" >0</th>\n",
       "                        <td id=\"T_66c2cba2_a974_11e9_86cb_685b359177derow0_col0\" class=\"data row0 col0\" >intervals</td>\n",
       "                        <td id=\"T_66c2cba2_a974_11e9_86cb_685b359177derow0_col1\" class=\"data row0 col1\" >5</td>\n",
       "                        <td id=\"T_66c2cba2_a974_11e9_86cb_685b359177derow0_col2\" class=\"data row0 col2\" >65</td>\n",
       "                        <td id=\"T_66c2cba2_a974_11e9_86cb_685b359177derow0_col3\" class=\"data row0 col3\" >4.324</td>\n",
       "                        <td id=\"T_66c2cba2_a974_11e9_86cb_685b359177derow0_col4\" class=\"data row0 col4\" >0.00185678</td>\n",
       "                        <td id=\"T_66c2cba2_a974_11e9_86cb_685b359177derow0_col5\" class=\"data row0 col5\" >0.25</td>\n",
       "                        <td id=\"T_66c2cba2_a974_11e9_86cb_685b359177derow0_col6\" class=\"data row0 col6\" >0.615</td>\n",
       "            </tr>\n",
       "    </tbody></table>"
      ],
      "text/plain": [
       "<pandas.io.formats.style.Styler at 0x12b827908>"
      ]
     },
     "execution_count": 26,
     "metadata": {},
     "output_type": "execute_result"
    }
   ],
   "source": [
    "# ensemble time\n",
    "import pingouin as pg\n",
    "aov_tm_ens = pg.rm_anova(data=data[data.category=='ensemble'], dv='value', within='intervals',\n",
    "                     subject='subs')\n",
    "aov_tm_ens.style.applymap(color_significant, subset=['p-GG-corr','p-unc'])"
   ]
  },
  {
   "cell_type": "code",
   "execution_count": 25,
   "metadata": {},
   "outputs": [
    {
     "data": {
      "text/html": [
       "<style  type=\"text/css\" >\n",
       "    #T_61a58b28_a974_11e9_85f1_685b359177derow0_col4 {\n",
       "            color:  red;\n",
       "        }</style><table id=\"T_61a58b28_a974_11e9_85f1_685b359177de\" ><thead>    <tr>        <th class=\"blank level0\" ></th>        <th class=\"col_heading level0 col0\" >Source</th>        <th class=\"col_heading level0 col1\" >ddof1</th>        <th class=\"col_heading level0 col2\" >ddof2</th>        <th class=\"col_heading level0 col3\" >F</th>        <th class=\"col_heading level0 col4\" >p-unc</th>        <th class=\"col_heading level0 col5\" >np2</th>        <th class=\"col_heading level0 col6\" >eps</th>    </tr></thead><tbody>\n",
       "                <tr>\n",
       "                        <th id=\"T_61a58b28_a974_11e9_85f1_685b359177delevel0_row0\" class=\"row_heading level0 row0\" >0</th>\n",
       "                        <td id=\"T_61a58b28_a974_11e9_85f1_685b359177derow0_col0\" class=\"data row0 col0\" >intervals</td>\n",
       "                        <td id=\"T_61a58b28_a974_11e9_85f1_685b359177derow0_col1\" class=\"data row0 col1\" >5</td>\n",
       "                        <td id=\"T_61a58b28_a974_11e9_85f1_685b359177derow0_col2\" class=\"data row0 col2\" >60</td>\n",
       "                        <td id=\"T_61a58b28_a974_11e9_85f1_685b359177derow0_col3\" class=\"data row0 col3\" >4.576</td>\n",
       "                        <td id=\"T_61a58b28_a974_11e9_85f1_685b359177derow0_col4\" class=\"data row0 col4\" >0.0013331</td>\n",
       "                        <td id=\"T_61a58b28_a974_11e9_85f1_685b359177derow0_col5\" class=\"data row0 col5\" >0.276</td>\n",
       "                        <td id=\"T_61a58b28_a974_11e9_85f1_685b359177derow0_col6\" class=\"data row0 col6\" >0.568</td>\n",
       "            </tr>\n",
       "    </tbody></table>"
      ],
      "text/plain": [
       "<pandas.io.formats.style.Styler at 0x12b7ffb00>"
      ]
     },
     "execution_count": 25,
     "metadata": {},
     "output_type": "execute_result"
    }
   ],
   "source": [
    "# faces time\n",
    "import pingouin as pg\n",
    "aov_tm_fac = pg.rm_anova(data=data[data.category=='faces'], dv='value', within='intervals',\n",
    "                     subject='subs')\n",
    "aov_tm_fac.style.applymap(color_significant, subset=['p-GG-corr','p-unc'])"
   ]
  },
  {
   "cell_type": "code",
   "execution_count": 24,
   "metadata": {},
   "outputs": [
    {
     "name": "stdout",
     "output_type": "stream",
     "text": [
      "2.44\n",
      "31.65\n"
     ]
    },
    {
     "data": {
      "text/html": [
       "<style  type=\"text/css\" >\n",
       "    #T_1e27d7e8_a974_11e9_ad36_685b359177derow0_col4 {\n",
       "            color:  purple;\n",
       "        }    #T_1e27d7e8_a974_11e9_ad36_685b359177derow0_col5 {\n",
       "            color:  red;\n",
       "        }</style><table id=\"T_1e27d7e8_a974_11e9_ad36_685b359177de\" ><thead>    <tr>        <th class=\"blank level0\" ></th>        <th class=\"col_heading level0 col0\" >Source</th>        <th class=\"col_heading level0 col1\" >ddof1</th>        <th class=\"col_heading level0 col2\" >ddof2</th>        <th class=\"col_heading level0 col3\" >F</th>        <th class=\"col_heading level0 col4\" >p-unc</th>        <th class=\"col_heading level0 col5\" >p-GG-corr</th>        <th class=\"col_heading level0 col6\" >np2</th>        <th class=\"col_heading level0 col7\" >eps</th>        <th class=\"col_heading level0 col8\" >sphericity</th>        <th class=\"col_heading level0 col9\" >W-spher</th>        <th class=\"col_heading level0 col10\" >p-spher</th>    </tr></thead><tbody>\n",
       "                <tr>\n",
       "                        <th id=\"T_1e27d7e8_a974_11e9_ad36_685b359177delevel0_row0\" class=\"row_heading level0 row0\" >0</th>\n",
       "                        <td id=\"T_1e27d7e8_a974_11e9_ad36_685b359177derow0_col0\" class=\"data row0 col0\" >intervals</td>\n",
       "                        <td id=\"T_1e27d7e8_a974_11e9_ad36_685b359177derow0_col1\" class=\"data row0 col1\" >5</td>\n",
       "                        <td id=\"T_1e27d7e8_a974_11e9_ad36_685b359177derow0_col2\" class=\"data row0 col2\" >65</td>\n",
       "                        <td id=\"T_1e27d7e8_a974_11e9_ad36_685b359177derow0_col3\" class=\"data row0 col3\" >4.868</td>\n",
       "                        <td id=\"T_1e27d7e8_a974_11e9_ad36_685b359177derow0_col4\" class=\"data row0 col4\" >0.000763684</td>\n",
       "                        <td id=\"T_1e27d7e8_a974_11e9_ad36_685b359177derow0_col5\" class=\"data row0 col5\" >0.0102003</td>\n",
       "                        <td id=\"T_1e27d7e8_a974_11e9_ad36_685b359177derow0_col6\" class=\"data row0 col6\" >0.272</td>\n",
       "                        <td id=\"T_1e27d7e8_a974_11e9_ad36_685b359177derow0_col7\" class=\"data row0 col7\" >0.487</td>\n",
       "                        <td id=\"T_1e27d7e8_a974_11e9_ad36_685b359177derow0_col8\" class=\"data row0 col8\" >False</td>\n",
       "                        <td id=\"T_1e27d7e8_a974_11e9_ad36_685b359177derow0_col9\" class=\"data row0 col9\" >0.067</td>\n",
       "                        <td id=\"T_1e27d7e8_a974_11e9_ad36_685b359177derow0_col10\" class=\"data row0 col10\" >0.00875424</td>\n",
       "            </tr>\n",
       "    </tbody></table>"
      ],
      "text/plain": [
       "<pandas.io.formats.style.Styler at 0x12bd97dd8>"
      ]
     },
     "execution_count": 24,
     "metadata": {},
     "output_type": "execute_result"
    }
   ],
   "source": [
    "# words time\n",
    "import pingouin as pg\n",
    "aov_tm_wrd = pg.rm_anova(data=data[data.category=='words'], dv='value', within='intervals',\n",
    "                     subject='subs')\n",
    "print(round(5*0.487,2))\n",
    "print(round(65*0.487,2))\n",
    "aov_tm_wrd.style.applymap(color_significant, subset=['p-GG-corr','p-unc'])"
   ]
  },
  {
   "cell_type": "code",
   "execution_count": 18,
   "metadata": {},
   "outputs": [
    {
     "data": {
      "text/html": [
       "<style  type=\"text/css\" >\n",
       "    #T_3d5ca11e_a8c0_11e9_9781_34de1a2c1766row0_col9 {\n",
       "            color:  black;\n",
       "        }    #T_3d5ca11e_a8c0_11e9_9781_34de1a2c1766row1_col9 {\n",
       "            color:  black;\n",
       "        }    #T_3d5ca11e_a8c0_11e9_9781_34de1a2c1766row2_col9 {\n",
       "            color:  black;\n",
       "        }    #T_3d5ca11e_a8c0_11e9_9781_34de1a2c1766row3_col9 {\n",
       "            color:  black;\n",
       "        }    #T_3d5ca11e_a8c0_11e9_9781_34de1a2c1766row4_col9 {\n",
       "            color:  black;\n",
       "        }    #T_3d5ca11e_a8c0_11e9_9781_34de1a2c1766row5_col9 {\n",
       "            color:  black;\n",
       "        }    #T_3d5ca11e_a8c0_11e9_9781_34de1a2c1766row6_col9 {\n",
       "            color:  black;\n",
       "        }    #T_3d5ca11e_a8c0_11e9_9781_34de1a2c1766row7_col9 {\n",
       "            color:  black;\n",
       "        }    #T_3d5ca11e_a8c0_11e9_9781_34de1a2c1766row8_col9 {\n",
       "            color:  black;\n",
       "        }    #T_3d5ca11e_a8c0_11e9_9781_34de1a2c1766row9_col9 {\n",
       "            color:  red;\n",
       "        }    #T_3d5ca11e_a8c0_11e9_9781_34de1a2c1766row10_col9 {\n",
       "            color:  black;\n",
       "        }    #T_3d5ca11e_a8c0_11e9_9781_34de1a2c1766row11_col9 {\n",
       "            color:  black;\n",
       "        }    #T_3d5ca11e_a8c0_11e9_9781_34de1a2c1766row12_col9 {\n",
       "            color:  black;\n",
       "        }    #T_3d5ca11e_a8c0_11e9_9781_34de1a2c1766row13_col9 {\n",
       "            color:  black;\n",
       "        }    #T_3d5ca11e_a8c0_11e9_9781_34de1a2c1766row14_col9 {\n",
       "            color:  black;\n",
       "        }</style><table id=\"T_3d5ca11e_a8c0_11e9_9781_34de1a2c1766\" ><thead>    <tr>        <th class=\"blank level0\" ></th>        <th class=\"col_heading level0 col0\" >Contrast</th>        <th class=\"col_heading level0 col1\" >A</th>        <th class=\"col_heading level0 col2\" >B</th>        <th class=\"col_heading level0 col3\" >Paired</th>        <th class=\"col_heading level0 col4\" >Parametric</th>        <th class=\"col_heading level0 col5\" >T</th>        <th class=\"col_heading level0 col6\" >dof</th>        <th class=\"col_heading level0 col7\" >tail</th>        <th class=\"col_heading level0 col8\" >p-unc</th>        <th class=\"col_heading level0 col9\" >p-corr</th>        <th class=\"col_heading level0 col10\" >p-adjust</th>        <th class=\"col_heading level0 col11\" >BF10</th>        <th class=\"col_heading level0 col12\" >CLES</th>        <th class=\"col_heading level0 col13\" >hedges</th>    </tr></thead><tbody>\n",
       "                <tr>\n",
       "                        <th id=\"T_3d5ca11e_a8c0_11e9_9781_34de1a2c1766level0_row0\" class=\"row_heading level0 row0\" >0</th>\n",
       "                        <td id=\"T_3d5ca11e_a8c0_11e9_9781_34de1a2c1766row0_col0\" class=\"data row0 col0\" >intervals</td>\n",
       "                        <td id=\"T_3d5ca11e_a8c0_11e9_9781_34de1a2c1766row0_col1\" class=\"data row0 col1\" >150 - 250</td>\n",
       "                        <td id=\"T_3d5ca11e_a8c0_11e9_9781_34de1a2c1766row0_col2\" class=\"data row0 col2\" >250 - 350</td>\n",
       "                        <td id=\"T_3d5ca11e_a8c0_11e9_9781_34de1a2c1766row0_col3\" class=\"data row0 col3\" >True</td>\n",
       "                        <td id=\"T_3d5ca11e_a8c0_11e9_9781_34de1a2c1766row0_col4\" class=\"data row0 col4\" >True</td>\n",
       "                        <td id=\"T_3d5ca11e_a8c0_11e9_9781_34de1a2c1766row0_col5\" class=\"data row0 col5\" >1.794</td>\n",
       "                        <td id=\"T_3d5ca11e_a8c0_11e9_9781_34de1a2c1766row0_col6\" class=\"data row0 col6\" >40</td>\n",
       "                        <td id=\"T_3d5ca11e_a8c0_11e9_9781_34de1a2c1766row0_col7\" class=\"data row0 col7\" >two-sided</td>\n",
       "                        <td id=\"T_3d5ca11e_a8c0_11e9_9781_34de1a2c1766row0_col8\" class=\"data row0 col8\" >0.0804343</td>\n",
       "                        <td id=\"T_3d5ca11e_a8c0_11e9_9781_34de1a2c1766row0_col9\" class=\"data row0 col9\" >1</td>\n",
       "                        <td id=\"T_3d5ca11e_a8c0_11e9_9781_34de1a2c1766row0_col10\" class=\"data row0 col10\" >bonferroni</td>\n",
       "                        <td id=\"T_3d5ca11e_a8c0_11e9_9781_34de1a2c1766row0_col11\" class=\"data row0 col11\" >0.727</td>\n",
       "                        <td id=\"T_3d5ca11e_a8c0_11e9_9781_34de1a2c1766row0_col12\" class=\"data row0 col12\" >0.588</td>\n",
       "                        <td id=\"T_3d5ca11e_a8c0_11e9_9781_34de1a2c1766row0_col13\" class=\"data row0 col13\" >0.352</td>\n",
       "            </tr>\n",
       "            <tr>\n",
       "                        <th id=\"T_3d5ca11e_a8c0_11e9_9781_34de1a2c1766level0_row1\" class=\"row_heading level0 row1\" >1</th>\n",
       "                        <td id=\"T_3d5ca11e_a8c0_11e9_9781_34de1a2c1766row1_col0\" class=\"data row1 col0\" >intervals</td>\n",
       "                        <td id=\"T_3d5ca11e_a8c0_11e9_9781_34de1a2c1766row1_col1\" class=\"data row1 col1\" >150 - 250</td>\n",
       "                        <td id=\"T_3d5ca11e_a8c0_11e9_9781_34de1a2c1766row1_col2\" class=\"data row1 col2\" >350 - 450</td>\n",
       "                        <td id=\"T_3d5ca11e_a8c0_11e9_9781_34de1a2c1766row1_col3\" class=\"data row1 col3\" >True</td>\n",
       "                        <td id=\"T_3d5ca11e_a8c0_11e9_9781_34de1a2c1766row1_col4\" class=\"data row1 col4\" >True</td>\n",
       "                        <td id=\"T_3d5ca11e_a8c0_11e9_9781_34de1a2c1766row1_col5\" class=\"data row1 col5\" >-0.659</td>\n",
       "                        <td id=\"T_3d5ca11e_a8c0_11e9_9781_34de1a2c1766row1_col6\" class=\"data row1 col6\" >40</td>\n",
       "                        <td id=\"T_3d5ca11e_a8c0_11e9_9781_34de1a2c1766row1_col7\" class=\"data row1 col7\" >two-sided</td>\n",
       "                        <td id=\"T_3d5ca11e_a8c0_11e9_9781_34de1a2c1766row1_col8\" class=\"data row1 col8\" >0.513628</td>\n",
       "                        <td id=\"T_3d5ca11e_a8c0_11e9_9781_34de1a2c1766row1_col9\" class=\"data row1 col9\" >1</td>\n",
       "                        <td id=\"T_3d5ca11e_a8c0_11e9_9781_34de1a2c1766row1_col10\" class=\"data row1 col10\" >bonferroni</td>\n",
       "                        <td id=\"T_3d5ca11e_a8c0_11e9_9781_34de1a2c1766row1_col11\" class=\"data row1 col11\" >0.207</td>\n",
       "                        <td id=\"T_3d5ca11e_a8c0_11e9_9781_34de1a2c1766row1_col12\" class=\"data row1 col12\" >0.552</td>\n",
       "                        <td id=\"T_3d5ca11e_a8c0_11e9_9781_34de1a2c1766row1_col13\" class=\"data row1 col13\" >-0.186</td>\n",
       "            </tr>\n",
       "            <tr>\n",
       "                        <th id=\"T_3d5ca11e_a8c0_11e9_9781_34de1a2c1766level0_row2\" class=\"row_heading level0 row2\" >2</th>\n",
       "                        <td id=\"T_3d5ca11e_a8c0_11e9_9781_34de1a2c1766row2_col0\" class=\"data row2 col0\" >intervals</td>\n",
       "                        <td id=\"T_3d5ca11e_a8c0_11e9_9781_34de1a2c1766row2_col1\" class=\"data row2 col1\" >150 - 250</td>\n",
       "                        <td id=\"T_3d5ca11e_a8c0_11e9_9781_34de1a2c1766row2_col2\" class=\"data row2 col2\" >450 - 550</td>\n",
       "                        <td id=\"T_3d5ca11e_a8c0_11e9_9781_34de1a2c1766row2_col3\" class=\"data row2 col3\" >True</td>\n",
       "                        <td id=\"T_3d5ca11e_a8c0_11e9_9781_34de1a2c1766row2_col4\" class=\"data row2 col4\" >True</td>\n",
       "                        <td id=\"T_3d5ca11e_a8c0_11e9_9781_34de1a2c1766row2_col5\" class=\"data row2 col5\" >1.362</td>\n",
       "                        <td id=\"T_3d5ca11e_a8c0_11e9_9781_34de1a2c1766row2_col6\" class=\"data row2 col6\" >40</td>\n",
       "                        <td id=\"T_3d5ca11e_a8c0_11e9_9781_34de1a2c1766row2_col7\" class=\"data row2 col7\" >two-sided</td>\n",
       "                        <td id=\"T_3d5ca11e_a8c0_11e9_9781_34de1a2c1766row2_col8\" class=\"data row2 col8\" >0.180741</td>\n",
       "                        <td id=\"T_3d5ca11e_a8c0_11e9_9781_34de1a2c1766row2_col9\" class=\"data row2 col9\" >1</td>\n",
       "                        <td id=\"T_3d5ca11e_a8c0_11e9_9781_34de1a2c1766row2_col10\" class=\"data row2 col10\" >bonferroni</td>\n",
       "                        <td id=\"T_3d5ca11e_a8c0_11e9_9781_34de1a2c1766row2_col11\" class=\"data row2 col11\" >0.397</td>\n",
       "                        <td id=\"T_3d5ca11e_a8c0_11e9_9781_34de1a2c1766row2_col12\" class=\"data row2 col12\" >0.619</td>\n",
       "                        <td id=\"T_3d5ca11e_a8c0_11e9_9781_34de1a2c1766row2_col13\" class=\"data row2 col13\" >0.375</td>\n",
       "            </tr>\n",
       "            <tr>\n",
       "                        <th id=\"T_3d5ca11e_a8c0_11e9_9781_34de1a2c1766level0_row3\" class=\"row_heading level0 row3\" >3</th>\n",
       "                        <td id=\"T_3d5ca11e_a8c0_11e9_9781_34de1a2c1766row3_col0\" class=\"data row3 col0\" >intervals</td>\n",
       "                        <td id=\"T_3d5ca11e_a8c0_11e9_9781_34de1a2c1766row3_col1\" class=\"data row3 col1\" >150 - 250</td>\n",
       "                        <td id=\"T_3d5ca11e_a8c0_11e9_9781_34de1a2c1766row3_col2\" class=\"data row3 col2\" >50 - 150</td>\n",
       "                        <td id=\"T_3d5ca11e_a8c0_11e9_9781_34de1a2c1766row3_col3\" class=\"data row3 col3\" >True</td>\n",
       "                        <td id=\"T_3d5ca11e_a8c0_11e9_9781_34de1a2c1766row3_col4\" class=\"data row3 col4\" >True</td>\n",
       "                        <td id=\"T_3d5ca11e_a8c0_11e9_9781_34de1a2c1766row3_col5\" class=\"data row3 col5\" >1.358</td>\n",
       "                        <td id=\"T_3d5ca11e_a8c0_11e9_9781_34de1a2c1766row3_col6\" class=\"data row3 col6\" >40</td>\n",
       "                        <td id=\"T_3d5ca11e_a8c0_11e9_9781_34de1a2c1766row3_col7\" class=\"data row3 col7\" >two-sided</td>\n",
       "                        <td id=\"T_3d5ca11e_a8c0_11e9_9781_34de1a2c1766row3_col8\" class=\"data row3 col8\" >0.181946</td>\n",
       "                        <td id=\"T_3d5ca11e_a8c0_11e9_9781_34de1a2c1766row3_col9\" class=\"data row3 col9\" >1</td>\n",
       "                        <td id=\"T_3d5ca11e_a8c0_11e9_9781_34de1a2c1766row3_col10\" class=\"data row3 col10\" >bonferroni</td>\n",
       "                        <td id=\"T_3d5ca11e_a8c0_11e9_9781_34de1a2c1766row3_col11\" class=\"data row3 col11\" >0.395</td>\n",
       "                        <td id=\"T_3d5ca11e_a8c0_11e9_9781_34de1a2c1766row3_col12\" class=\"data row3 col12\" >0.634</td>\n",
       "                        <td id=\"T_3d5ca11e_a8c0_11e9_9781_34de1a2c1766row3_col13\" class=\"data row3 col13\" >0.285</td>\n",
       "            </tr>\n",
       "            <tr>\n",
       "                        <th id=\"T_3d5ca11e_a8c0_11e9_9781_34de1a2c1766level0_row4\" class=\"row_heading level0 row4\" >4</th>\n",
       "                        <td id=\"T_3d5ca11e_a8c0_11e9_9781_34de1a2c1766row4_col0\" class=\"data row4 col0\" >intervals</td>\n",
       "                        <td id=\"T_3d5ca11e_a8c0_11e9_9781_34de1a2c1766row4_col1\" class=\"data row4 col1\" >150 - 250</td>\n",
       "                        <td id=\"T_3d5ca11e_a8c0_11e9_9781_34de1a2c1766row4_col2\" class=\"data row4 col2\" >550 - 650</td>\n",
       "                        <td id=\"T_3d5ca11e_a8c0_11e9_9781_34de1a2c1766row4_col3\" class=\"data row4 col3\" >True</td>\n",
       "                        <td id=\"T_3d5ca11e_a8c0_11e9_9781_34de1a2c1766row4_col4\" class=\"data row4 col4\" >True</td>\n",
       "                        <td id=\"T_3d5ca11e_a8c0_11e9_9781_34de1a2c1766row4_col5\" class=\"data row4 col5\" >0.615</td>\n",
       "                        <td id=\"T_3d5ca11e_a8c0_11e9_9781_34de1a2c1766row4_col6\" class=\"data row4 col6\" >40</td>\n",
       "                        <td id=\"T_3d5ca11e_a8c0_11e9_9781_34de1a2c1766row4_col7\" class=\"data row4 col7\" >two-sided</td>\n",
       "                        <td id=\"T_3d5ca11e_a8c0_11e9_9781_34de1a2c1766row4_col8\" class=\"data row4 col8\" >0.541879</td>\n",
       "                        <td id=\"T_3d5ca11e_a8c0_11e9_9781_34de1a2c1766row4_col9\" class=\"data row4 col9\" >1</td>\n",
       "                        <td id=\"T_3d5ca11e_a8c0_11e9_9781_34de1a2c1766row4_col10\" class=\"data row4 col10\" >bonferroni</td>\n",
       "                        <td id=\"T_3d5ca11e_a8c0_11e9_9781_34de1a2c1766row4_col11\" class=\"data row4 col11\" >0.201</td>\n",
       "                        <td id=\"T_3d5ca11e_a8c0_11e9_9781_34de1a2c1766row4_col12\" class=\"data row4 col12\" >0.564</td>\n",
       "                        <td id=\"T_3d5ca11e_a8c0_11e9_9781_34de1a2c1766row4_col13\" class=\"data row4 col13\" >0.166</td>\n",
       "            </tr>\n",
       "            <tr>\n",
       "                        <th id=\"T_3d5ca11e_a8c0_11e9_9781_34de1a2c1766level0_row5\" class=\"row_heading level0 row5\" >5</th>\n",
       "                        <td id=\"T_3d5ca11e_a8c0_11e9_9781_34de1a2c1766row5_col0\" class=\"data row5 col0\" >intervals</td>\n",
       "                        <td id=\"T_3d5ca11e_a8c0_11e9_9781_34de1a2c1766row5_col1\" class=\"data row5 col1\" >250 - 350</td>\n",
       "                        <td id=\"T_3d5ca11e_a8c0_11e9_9781_34de1a2c1766row5_col2\" class=\"data row5 col2\" >350 - 450</td>\n",
       "                        <td id=\"T_3d5ca11e_a8c0_11e9_9781_34de1a2c1766row5_col3\" class=\"data row5 col3\" >True</td>\n",
       "                        <td id=\"T_3d5ca11e_a8c0_11e9_9781_34de1a2c1766row5_col4\" class=\"data row5 col4\" >True</td>\n",
       "                        <td id=\"T_3d5ca11e_a8c0_11e9_9781_34de1a2c1766row5_col5\" class=\"data row5 col5\" >-2.904</td>\n",
       "                        <td id=\"T_3d5ca11e_a8c0_11e9_9781_34de1a2c1766row5_col6\" class=\"data row5 col6\" >40</td>\n",
       "                        <td id=\"T_3d5ca11e_a8c0_11e9_9781_34de1a2c1766row5_col7\" class=\"data row5 col7\" >two-sided</td>\n",
       "                        <td id=\"T_3d5ca11e_a8c0_11e9_9781_34de1a2c1766row5_col8\" class=\"data row5 col8\" >0.00597056</td>\n",
       "                        <td id=\"T_3d5ca11e_a8c0_11e9_9781_34de1a2c1766row5_col9\" class=\"data row5 col9\" >0.0895584</td>\n",
       "                        <td id=\"T_3d5ca11e_a8c0_11e9_9781_34de1a2c1766row5_col10\" class=\"data row5 col10\" >bonferroni</td>\n",
       "                        <td id=\"T_3d5ca11e_a8c0_11e9_9781_34de1a2c1766row5_col11\" class=\"data row5 col11\" >6.298</td>\n",
       "                        <td id=\"T_3d5ca11e_a8c0_11e9_9781_34de1a2c1766row5_col12\" class=\"data row5 col12\" >0.654</td>\n",
       "                        <td id=\"T_3d5ca11e_a8c0_11e9_9781_34de1a2c1766row5_col13\" class=\"data row5 col13\" >-0.616</td>\n",
       "            </tr>\n",
       "            <tr>\n",
       "                        <th id=\"T_3d5ca11e_a8c0_11e9_9781_34de1a2c1766level0_row6\" class=\"row_heading level0 row6\" >6</th>\n",
       "                        <td id=\"T_3d5ca11e_a8c0_11e9_9781_34de1a2c1766row6_col0\" class=\"data row6 col0\" >intervals</td>\n",
       "                        <td id=\"T_3d5ca11e_a8c0_11e9_9781_34de1a2c1766row6_col1\" class=\"data row6 col1\" >250 - 350</td>\n",
       "                        <td id=\"T_3d5ca11e_a8c0_11e9_9781_34de1a2c1766row6_col2\" class=\"data row6 col2\" >450 - 550</td>\n",
       "                        <td id=\"T_3d5ca11e_a8c0_11e9_9781_34de1a2c1766row6_col3\" class=\"data row6 col3\" >True</td>\n",
       "                        <td id=\"T_3d5ca11e_a8c0_11e9_9781_34de1a2c1766row6_col4\" class=\"data row6 col4\" >True</td>\n",
       "                        <td id=\"T_3d5ca11e_a8c0_11e9_9781_34de1a2c1766row6_col5\" class=\"data row6 col5\" >-0.105</td>\n",
       "                        <td id=\"T_3d5ca11e_a8c0_11e9_9781_34de1a2c1766row6_col6\" class=\"data row6 col6\" >40</td>\n",
       "                        <td id=\"T_3d5ca11e_a8c0_11e9_9781_34de1a2c1766row6_col7\" class=\"data row6 col7\" >two-sided</td>\n",
       "                        <td id=\"T_3d5ca11e_a8c0_11e9_9781_34de1a2c1766row6_col8\" class=\"data row6 col8\" >0.9166</td>\n",
       "                        <td id=\"T_3d5ca11e_a8c0_11e9_9781_34de1a2c1766row6_col9\" class=\"data row6 col9\" >1</td>\n",
       "                        <td id=\"T_3d5ca11e_a8c0_11e9_9781_34de1a2c1766row6_col10\" class=\"data row6 col10\" >bonferroni</td>\n",
       "                        <td id=\"T_3d5ca11e_a8c0_11e9_9781_34de1a2c1766row6_col11\" class=\"data row6 col11\" >0.17</td>\n",
       "                        <td id=\"T_3d5ca11e_a8c0_11e9_9781_34de1a2c1766row6_col12\" class=\"data row6 col12\" >0.52</td>\n",
       "                        <td id=\"T_3d5ca11e_a8c0_11e9_9781_34de1a2c1766row6_col13\" class=\"data row6 col13\" >-0.026</td>\n",
       "            </tr>\n",
       "            <tr>\n",
       "                        <th id=\"T_3d5ca11e_a8c0_11e9_9781_34de1a2c1766level0_row7\" class=\"row_heading level0 row7\" >7</th>\n",
       "                        <td id=\"T_3d5ca11e_a8c0_11e9_9781_34de1a2c1766row7_col0\" class=\"data row7 col0\" >intervals</td>\n",
       "                        <td id=\"T_3d5ca11e_a8c0_11e9_9781_34de1a2c1766row7_col1\" class=\"data row7 col1\" >250 - 350</td>\n",
       "                        <td id=\"T_3d5ca11e_a8c0_11e9_9781_34de1a2c1766row7_col2\" class=\"data row7 col2\" >50 - 150</td>\n",
       "                        <td id=\"T_3d5ca11e_a8c0_11e9_9781_34de1a2c1766row7_col3\" class=\"data row7 col3\" >True</td>\n",
       "                        <td id=\"T_3d5ca11e_a8c0_11e9_9781_34de1a2c1766row7_col4\" class=\"data row7 col4\" >True</td>\n",
       "                        <td id=\"T_3d5ca11e_a8c0_11e9_9781_34de1a2c1766row7_col5\" class=\"data row7 col5\" >-0.184</td>\n",
       "                        <td id=\"T_3d5ca11e_a8c0_11e9_9781_34de1a2c1766row7_col6\" class=\"data row7 col6\" >40</td>\n",
       "                        <td id=\"T_3d5ca11e_a8c0_11e9_9781_34de1a2c1766row7_col7\" class=\"data row7 col7\" >two-sided</td>\n",
       "                        <td id=\"T_3d5ca11e_a8c0_11e9_9781_34de1a2c1766row7_col8\" class=\"data row7 col8\" >0.854911</td>\n",
       "                        <td id=\"T_3d5ca11e_a8c0_11e9_9781_34de1a2c1766row7_col9\" class=\"data row7 col9\" >1</td>\n",
       "                        <td id=\"T_3d5ca11e_a8c0_11e9_9781_34de1a2c1766row7_col10\" class=\"data row7 col10\" >bonferroni</td>\n",
       "                        <td id=\"T_3d5ca11e_a8c0_11e9_9781_34de1a2c1766row7_col11\" class=\"data row7 col11\" >0.171</td>\n",
       "                        <td id=\"T_3d5ca11e_a8c0_11e9_9781_34de1a2c1766row7_col12\" class=\"data row7 col12\" >0.547</td>\n",
       "                        <td id=\"T_3d5ca11e_a8c0_11e9_9781_34de1a2c1766row7_col13\" class=\"data row7 col13\" >-0.05</td>\n",
       "            </tr>\n",
       "            <tr>\n",
       "                        <th id=\"T_3d5ca11e_a8c0_11e9_9781_34de1a2c1766level0_row8\" class=\"row_heading level0 row8\" >8</th>\n",
       "                        <td id=\"T_3d5ca11e_a8c0_11e9_9781_34de1a2c1766row8_col0\" class=\"data row8 col0\" >intervals</td>\n",
       "                        <td id=\"T_3d5ca11e_a8c0_11e9_9781_34de1a2c1766row8_col1\" class=\"data row8 col1\" >250 - 350</td>\n",
       "                        <td id=\"T_3d5ca11e_a8c0_11e9_9781_34de1a2c1766row8_col2\" class=\"data row8 col2\" >550 - 650</td>\n",
       "                        <td id=\"T_3d5ca11e_a8c0_11e9_9781_34de1a2c1766row8_col3\" class=\"data row8 col3\" >True</td>\n",
       "                        <td id=\"T_3d5ca11e_a8c0_11e9_9781_34de1a2c1766row8_col4\" class=\"data row8 col4\" >True</td>\n",
       "                        <td id=\"T_3d5ca11e_a8c0_11e9_9781_34de1a2c1766row8_col5\" class=\"data row8 col5\" >-0.753</td>\n",
       "                        <td id=\"T_3d5ca11e_a8c0_11e9_9781_34de1a2c1766row8_col6\" class=\"data row8 col6\" >40</td>\n",
       "                        <td id=\"T_3d5ca11e_a8c0_11e9_9781_34de1a2c1766row8_col7\" class=\"data row8 col7\" >two-sided</td>\n",
       "                        <td id=\"T_3d5ca11e_a8c0_11e9_9781_34de1a2c1766row8_col8\" class=\"data row8 col8\" >0.455596</td>\n",
       "                        <td id=\"T_3d5ca11e_a8c0_11e9_9781_34de1a2c1766row8_col9\" class=\"data row8 col9\" >1</td>\n",
       "                        <td id=\"T_3d5ca11e_a8c0_11e9_9781_34de1a2c1766row8_col10\" class=\"data row8 col10\" >bonferroni</td>\n",
       "                        <td id=\"T_3d5ca11e_a8c0_11e9_9781_34de1a2c1766row8_col11\" class=\"data row8 col11\" >0.22</td>\n",
       "                        <td id=\"T_3d5ca11e_a8c0_11e9_9781_34de1a2c1766row8_col12\" class=\"data row8 col12\" >0.529</td>\n",
       "                        <td id=\"T_3d5ca11e_a8c0_11e9_9781_34de1a2c1766row8_col13\" class=\"data row8 col13\" >-0.202</td>\n",
       "            </tr>\n",
       "            <tr>\n",
       "                        <th id=\"T_3d5ca11e_a8c0_11e9_9781_34de1a2c1766level0_row9\" class=\"row_heading level0 row9\" >9</th>\n",
       "                        <td id=\"T_3d5ca11e_a8c0_11e9_9781_34de1a2c1766row9_col0\" class=\"data row9 col0\" >intervals</td>\n",
       "                        <td id=\"T_3d5ca11e_a8c0_11e9_9781_34de1a2c1766row9_col1\" class=\"data row9 col1\" >350 - 450</td>\n",
       "                        <td id=\"T_3d5ca11e_a8c0_11e9_9781_34de1a2c1766row9_col2\" class=\"data row9 col2\" >450 - 550</td>\n",
       "                        <td id=\"T_3d5ca11e_a8c0_11e9_9781_34de1a2c1766row9_col3\" class=\"data row9 col3\" >True</td>\n",
       "                        <td id=\"T_3d5ca11e_a8c0_11e9_9781_34de1a2c1766row9_col4\" class=\"data row9 col4\" >True</td>\n",
       "                        <td id=\"T_3d5ca11e_a8c0_11e9_9781_34de1a2c1766row9_col5\" class=\"data row9 col5\" >3.367</td>\n",
       "                        <td id=\"T_3d5ca11e_a8c0_11e9_9781_34de1a2c1766row9_col6\" class=\"data row9 col6\" >40</td>\n",
       "                        <td id=\"T_3d5ca11e_a8c0_11e9_9781_34de1a2c1766row9_col7\" class=\"data row9 col7\" >two-sided</td>\n",
       "                        <td id=\"T_3d5ca11e_a8c0_11e9_9781_34de1a2c1766row9_col8\" class=\"data row9 col8\" >0.00168955</td>\n",
       "                        <td id=\"T_3d5ca11e_a8c0_11e9_9781_34de1a2c1766row9_col9\" class=\"data row9 col9\" >0.0253432</td>\n",
       "                        <td id=\"T_3d5ca11e_a8c0_11e9_9781_34de1a2c1766row9_col10\" class=\"data row9 col10\" >bonferroni</td>\n",
       "                        <td id=\"T_3d5ca11e_a8c0_11e9_9781_34de1a2c1766row9_col11\" class=\"data row9 col11\" >19.024</td>\n",
       "                        <td id=\"T_3d5ca11e_a8c0_11e9_9781_34de1a2c1766row9_col12\" class=\"data row9 col12\" >0.695</td>\n",
       "                        <td id=\"T_3d5ca11e_a8c0_11e9_9781_34de1a2c1766row9_col13\" class=\"data row9 col13\" >0.685</td>\n",
       "            </tr>\n",
       "            <tr>\n",
       "                        <th id=\"T_3d5ca11e_a8c0_11e9_9781_34de1a2c1766level0_row10\" class=\"row_heading level0 row10\" >10</th>\n",
       "                        <td id=\"T_3d5ca11e_a8c0_11e9_9781_34de1a2c1766row10_col0\" class=\"data row10 col0\" >intervals</td>\n",
       "                        <td id=\"T_3d5ca11e_a8c0_11e9_9781_34de1a2c1766row10_col1\" class=\"data row10 col1\" >350 - 450</td>\n",
       "                        <td id=\"T_3d5ca11e_a8c0_11e9_9781_34de1a2c1766row10_col2\" class=\"data row10 col2\" >50 - 150</td>\n",
       "                        <td id=\"T_3d5ca11e_a8c0_11e9_9781_34de1a2c1766row10_col3\" class=\"data row10 col3\" >True</td>\n",
       "                        <td id=\"T_3d5ca11e_a8c0_11e9_9781_34de1a2c1766row10_col4\" class=\"data row10 col4\" >True</td>\n",
       "                        <td id=\"T_3d5ca11e_a8c0_11e9_9781_34de1a2c1766row10_col5\" class=\"data row10 col5\" >2.098</td>\n",
       "                        <td id=\"T_3d5ca11e_a8c0_11e9_9781_34de1a2c1766row10_col6\" class=\"data row10 col6\" >40</td>\n",
       "                        <td id=\"T_3d5ca11e_a8c0_11e9_9781_34de1a2c1766row10_col7\" class=\"data row10 col7\" >two-sided</td>\n",
       "                        <td id=\"T_3d5ca11e_a8c0_11e9_9781_34de1a2c1766row10_col8\" class=\"data row10 col8\" >0.0422387</td>\n",
       "                        <td id=\"T_3d5ca11e_a8c0_11e9_9781_34de1a2c1766row10_col9\" class=\"data row10 col9\" >0.63358</td>\n",
       "                        <td id=\"T_3d5ca11e_a8c0_11e9_9781_34de1a2c1766row10_col10\" class=\"data row10 col10\" >bonferroni</td>\n",
       "                        <td id=\"T_3d5ca11e_a8c0_11e9_9781_34de1a2c1766row10_col11\" class=\"data row10 col11\" >1.213</td>\n",
       "                        <td id=\"T_3d5ca11e_a8c0_11e9_9781_34de1a2c1766row10_col12\" class=\"data row10 col12\" >0.711</td>\n",
       "                        <td id=\"T_3d5ca11e_a8c0_11e9_9781_34de1a2c1766row10_col13\" class=\"data row10 col13\" >0.521</td>\n",
       "            </tr>\n",
       "            <tr>\n",
       "                        <th id=\"T_3d5ca11e_a8c0_11e9_9781_34de1a2c1766level0_row11\" class=\"row_heading level0 row11\" >11</th>\n",
       "                        <td id=\"T_3d5ca11e_a8c0_11e9_9781_34de1a2c1766row11_col0\" class=\"data row11 col0\" >intervals</td>\n",
       "                        <td id=\"T_3d5ca11e_a8c0_11e9_9781_34de1a2c1766row11_col1\" class=\"data row11 col1\" >350 - 450</td>\n",
       "                        <td id=\"T_3d5ca11e_a8c0_11e9_9781_34de1a2c1766row11_col2\" class=\"data row11 col2\" >550 - 650</td>\n",
       "                        <td id=\"T_3d5ca11e_a8c0_11e9_9781_34de1a2c1766row11_col3\" class=\"data row11 col3\" >True</td>\n",
       "                        <td id=\"T_3d5ca11e_a8c0_11e9_9781_34de1a2c1766row11_col4\" class=\"data row11 col4\" >True</td>\n",
       "                        <td id=\"T_3d5ca11e_a8c0_11e9_9781_34de1a2c1766row11_col5\" class=\"data row11 col5\" >1.871</td>\n",
       "                        <td id=\"T_3d5ca11e_a8c0_11e9_9781_34de1a2c1766row11_col6\" class=\"data row11 col6\" >40</td>\n",
       "                        <td id=\"T_3d5ca11e_a8c0_11e9_9781_34de1a2c1766row11_col7\" class=\"data row11 col7\" >two-sided</td>\n",
       "                        <td id=\"T_3d5ca11e_a8c0_11e9_9781_34de1a2c1766row11_col8\" class=\"data row11 col8\" >0.0686927</td>\n",
       "                        <td id=\"T_3d5ca11e_a8c0_11e9_9781_34de1a2c1766row11_col9\" class=\"data row11 col9\" >1</td>\n",
       "                        <td id=\"T_3d5ca11e_a8c0_11e9_9781_34de1a2c1766row11_col10\" class=\"data row11 col10\" >bonferroni</td>\n",
       "                        <td id=\"T_3d5ca11e_a8c0_11e9_9781_34de1a2c1766row11_col11\" class=\"data row11 col11\" >0.823</td>\n",
       "                        <td id=\"T_3d5ca11e_a8c0_11e9_9781_34de1a2c1766row11_col12\" class=\"data row11 col12\" >0.633</td>\n",
       "                        <td id=\"T_3d5ca11e_a8c0_11e9_9781_34de1a2c1766row11_col13\" class=\"data row11 col13\" >0.398</td>\n",
       "            </tr>\n",
       "            <tr>\n",
       "                        <th id=\"T_3d5ca11e_a8c0_11e9_9781_34de1a2c1766level0_row12\" class=\"row_heading level0 row12\" >12</th>\n",
       "                        <td id=\"T_3d5ca11e_a8c0_11e9_9781_34de1a2c1766row12_col0\" class=\"data row12 col0\" >intervals</td>\n",
       "                        <td id=\"T_3d5ca11e_a8c0_11e9_9781_34de1a2c1766row12_col1\" class=\"data row12 col1\" >450 - 550</td>\n",
       "                        <td id=\"T_3d5ca11e_a8c0_11e9_9781_34de1a2c1766row12_col2\" class=\"data row12 col2\" >50 - 150</td>\n",
       "                        <td id=\"T_3d5ca11e_a8c0_11e9_9781_34de1a2c1766row12_col3\" class=\"data row12 col3\" >True</td>\n",
       "                        <td id=\"T_3d5ca11e_a8c0_11e9_9781_34de1a2c1766row12_col4\" class=\"data row12 col4\" >True</td>\n",
       "                        <td id=\"T_3d5ca11e_a8c0_11e9_9781_34de1a2c1766row12_col5\" class=\"data row12 col5\" >-0.131</td>\n",
       "                        <td id=\"T_3d5ca11e_a8c0_11e9_9781_34de1a2c1766row12_col6\" class=\"data row12 col6\" >40</td>\n",
       "                        <td id=\"T_3d5ca11e_a8c0_11e9_9781_34de1a2c1766row12_col7\" class=\"data row12 col7\" >two-sided</td>\n",
       "                        <td id=\"T_3d5ca11e_a8c0_11e9_9781_34de1a2c1766row12_col8\" class=\"data row12 col8\" >0.896749</td>\n",
       "                        <td id=\"T_3d5ca11e_a8c0_11e9_9781_34de1a2c1766row12_col9\" class=\"data row12 col9\" >1</td>\n",
       "                        <td id=\"T_3d5ca11e_a8c0_11e9_9781_34de1a2c1766row12_col10\" class=\"data row12 col10\" >bonferroni</td>\n",
       "                        <td id=\"T_3d5ca11e_a8c0_11e9_9781_34de1a2c1766row12_col11\" class=\"data row12 col11\" >0.17</td>\n",
       "                        <td id=\"T_3d5ca11e_a8c0_11e9_9781_34de1a2c1766row12_col12\" class=\"data row12 col12\" >0.538</td>\n",
       "                        <td id=\"T_3d5ca11e_a8c0_11e9_9781_34de1a2c1766row12_col13\" class=\"data row12 col13\" >-0.032</td>\n",
       "            </tr>\n",
       "            <tr>\n",
       "                        <th id=\"T_3d5ca11e_a8c0_11e9_9781_34de1a2c1766level0_row13\" class=\"row_heading level0 row13\" >13</th>\n",
       "                        <td id=\"T_3d5ca11e_a8c0_11e9_9781_34de1a2c1766row13_col0\" class=\"data row13 col0\" >intervals</td>\n",
       "                        <td id=\"T_3d5ca11e_a8c0_11e9_9781_34de1a2c1766row13_col1\" class=\"data row13 col1\" >450 - 550</td>\n",
       "                        <td id=\"T_3d5ca11e_a8c0_11e9_9781_34de1a2c1766row13_col2\" class=\"data row13 col2\" >550 - 650</td>\n",
       "                        <td id=\"T_3d5ca11e_a8c0_11e9_9781_34de1a2c1766row13_col3\" class=\"data row13 col3\" >True</td>\n",
       "                        <td id=\"T_3d5ca11e_a8c0_11e9_9781_34de1a2c1766row13_col4\" class=\"data row13 col4\" >True</td>\n",
       "                        <td id=\"T_3d5ca11e_a8c0_11e9_9781_34de1a2c1766row13_col5\" class=\"data row13 col5\" >-1.154</td>\n",
       "                        <td id=\"T_3d5ca11e_a8c0_11e9_9781_34de1a2c1766row13_col6\" class=\"data row13 col6\" >40</td>\n",
       "                        <td id=\"T_3d5ca11e_a8c0_11e9_9781_34de1a2c1766row13_col7\" class=\"data row13 col7\" >two-sided</td>\n",
       "                        <td id=\"T_3d5ca11e_a8c0_11e9_9781_34de1a2c1766row13_col8\" class=\"data row13 col8\" >0.255162</td>\n",
       "                        <td id=\"T_3d5ca11e_a8c0_11e9_9781_34de1a2c1766row13_col9\" class=\"data row13 col9\" >1</td>\n",
       "                        <td id=\"T_3d5ca11e_a8c0_11e9_9781_34de1a2c1766row13_col10\" class=\"data row13 col10\" >bonferroni</td>\n",
       "                        <td id=\"T_3d5ca11e_a8c0_11e9_9781_34de1a2c1766row13_col11\" class=\"data row13 col11\" >0.313</td>\n",
       "                        <td id=\"T_3d5ca11e_a8c0_11e9_9781_34de1a2c1766row13_col12\" class=\"data row13 col12\" >0.552</td>\n",
       "                        <td id=\"T_3d5ca11e_a8c0_11e9_9781_34de1a2c1766row13_col13\" class=\"data row13 col13\" >-0.205</td>\n",
       "            </tr>\n",
       "            <tr>\n",
       "                        <th id=\"T_3d5ca11e_a8c0_11e9_9781_34de1a2c1766level0_row14\" class=\"row_heading level0 row14\" >14</th>\n",
       "                        <td id=\"T_3d5ca11e_a8c0_11e9_9781_34de1a2c1766row14_col0\" class=\"data row14 col0\" >intervals</td>\n",
       "                        <td id=\"T_3d5ca11e_a8c0_11e9_9781_34de1a2c1766row14_col1\" class=\"data row14 col1\" >50 - 150</td>\n",
       "                        <td id=\"T_3d5ca11e_a8c0_11e9_9781_34de1a2c1766row14_col2\" class=\"data row14 col2\" >550 - 650</td>\n",
       "                        <td id=\"T_3d5ca11e_a8c0_11e9_9781_34de1a2c1766row14_col3\" class=\"data row14 col3\" >True</td>\n",
       "                        <td id=\"T_3d5ca11e_a8c0_11e9_9781_34de1a2c1766row14_col4\" class=\"data row14 col4\" >True</td>\n",
       "                        <td id=\"T_3d5ca11e_a8c0_11e9_9781_34de1a2c1766row14_col5\" class=\"data row14 col5\" >-0.577</td>\n",
       "                        <td id=\"T_3d5ca11e_a8c0_11e9_9781_34de1a2c1766row14_col6\" class=\"data row14 col6\" >40</td>\n",
       "                        <td id=\"T_3d5ca11e_a8c0_11e9_9781_34de1a2c1766row14_col7\" class=\"data row14 col7\" >two-sided</td>\n",
       "                        <td id=\"T_3d5ca11e_a8c0_11e9_9781_34de1a2c1766row14_col8\" class=\"data row14 col8\" >0.567366</td>\n",
       "                        <td id=\"T_3d5ca11e_a8c0_11e9_9781_34de1a2c1766row14_col9\" class=\"data row14 col9\" >1</td>\n",
       "                        <td id=\"T_3d5ca11e_a8c0_11e9_9781_34de1a2c1766row14_col10\" class=\"data row14 col10\" >bonferroni</td>\n",
       "                        <td id=\"T_3d5ca11e_a8c0_11e9_9781_34de1a2c1766row14_col11\" class=\"data row14 col11\" >0.197</td>\n",
       "                        <td id=\"T_3d5ca11e_a8c0_11e9_9781_34de1a2c1766row14_col12\" class=\"data row14 col12\" >0.578</td>\n",
       "                        <td id=\"T_3d5ca11e_a8c0_11e9_9781_34de1a2c1766row14_col13\" class=\"data row14 col13\" >-0.139</td>\n",
       "            </tr>\n",
       "    </tbody></table>"
      ],
      "text/plain": [
       "<pandas.io.formats.style.Styler at 0x1cbf5bc8588>"
      ]
     },
     "execution_count": 18,
     "metadata": {},
     "output_type": "execute_result"
    }
   ],
   "source": [
    "# Bonferroni-corrected post hocs with Hedges'g effect size\n",
    "posthoc = pg.pairwise_ttests(data=data, dv='value', within='intervals', subject='subs',\n",
    "                             parametric=True, padjust='bonferroni', effsize='hedges')\n",
    "\n",
    "# Pretty printing of table\n",
    "posthoc.style.applymap(color_significant, subset=['p-corr'])"
   ]
  },
  {
   "cell_type": "code",
   "execution_count": 19,
   "metadata": {},
   "outputs": [
    {
     "data": {
      "text/html": [
       "<style  type=\"text/css\" >\n",
       "    #T_3def3a76_a8c0_11e9_8227_34de1a2c1766row0_col9 {\n",
       "            color:  black;\n",
       "        }    #T_3def3a76_a8c0_11e9_8227_34de1a2c1766row1_col9 {\n",
       "            color:  red;\n",
       "        }    #T_3def3a76_a8c0_11e9_8227_34de1a2c1766row2_col9 {\n",
       "            color:  black;\n",
       "        }</style><table id=\"T_3def3a76_a8c0_11e9_8227_34de1a2c1766\" ><thead>    <tr>        <th class=\"blank level0\" ></th>        <th class=\"col_heading level0 col0\" >Contrast</th>        <th class=\"col_heading level0 col1\" >A</th>        <th class=\"col_heading level0 col2\" >B</th>        <th class=\"col_heading level0 col3\" >Paired</th>        <th class=\"col_heading level0 col4\" >Parametric</th>        <th class=\"col_heading level0 col5\" >T</th>        <th class=\"col_heading level0 col6\" >dof</th>        <th class=\"col_heading level0 col7\" >tail</th>        <th class=\"col_heading level0 col8\" >p-unc</th>        <th class=\"col_heading level0 col9\" >p-corr</th>        <th class=\"col_heading level0 col10\" >p-adjust</th>        <th class=\"col_heading level0 col11\" >BF10</th>        <th class=\"col_heading level0 col12\" >CLES</th>        <th class=\"col_heading level0 col13\" >hedges</th>    </tr></thead><tbody>\n",
       "                <tr>\n",
       "                        <th id=\"T_3def3a76_a8c0_11e9_8227_34de1a2c1766level0_row0\" class=\"row_heading level0 row0\" >0</th>\n",
       "                        <td id=\"T_3def3a76_a8c0_11e9_8227_34de1a2c1766row0_col0\" class=\"data row0 col0\" >category</td>\n",
       "                        <td id=\"T_3def3a76_a8c0_11e9_8227_34de1a2c1766row0_col1\" class=\"data row0 col1\" >ensemble</td>\n",
       "                        <td id=\"T_3def3a76_a8c0_11e9_8227_34de1a2c1766row0_col2\" class=\"data row0 col2\" >words</td>\n",
       "                        <td id=\"T_3def3a76_a8c0_11e9_8227_34de1a2c1766row0_col3\" class=\"data row0 col3\" >False</td>\n",
       "                        <td id=\"T_3def3a76_a8c0_11e9_8227_34de1a2c1766row0_col4\" class=\"data row0 col4\" >True</td>\n",
       "                        <td id=\"T_3def3a76_a8c0_11e9_8227_34de1a2c1766row0_col5\" class=\"data row0 col5\" >1.904</td>\n",
       "                        <td id=\"T_3def3a76_a8c0_11e9_8227_34de1a2c1766row0_col6\" class=\"data row0 col6\" >26</td>\n",
       "                        <td id=\"T_3def3a76_a8c0_11e9_8227_34de1a2c1766row0_col7\" class=\"data row0 col7\" >two-sided</td>\n",
       "                        <td id=\"T_3def3a76_a8c0_11e9_8227_34de1a2c1766row0_col8\" class=\"data row0 col8\" >0.0680717</td>\n",
       "                        <td id=\"T_3def3a76_a8c0_11e9_8227_34de1a2c1766row0_col9\" class=\"data row0 col9\" >0.204215</td>\n",
       "                        <td id=\"T_3def3a76_a8c0_11e9_8227_34de1a2c1766row0_col10\" class=\"data row0 col10\" >bonferroni</td>\n",
       "                        <td id=\"T_3def3a76_a8c0_11e9_8227_34de1a2c1766row0_col11\" class=\"data row0 col11\" >1.311</td>\n",
       "                        <td id=\"T_3def3a76_a8c0_11e9_8227_34de1a2c1766row0_col12\" class=\"data row0 col12\" >0.724</td>\n",
       "                        <td id=\"T_3def3a76_a8c0_11e9_8227_34de1a2c1766row0_col13\" class=\"data row0 col13\" >0.699</td>\n",
       "            </tr>\n",
       "            <tr>\n",
       "                        <th id=\"T_3def3a76_a8c0_11e9_8227_34de1a2c1766level0_row1\" class=\"row_heading level0 row1\" >1</th>\n",
       "                        <td id=\"T_3def3a76_a8c0_11e9_8227_34de1a2c1766row1_col0\" class=\"data row1 col0\" >category</td>\n",
       "                        <td id=\"T_3def3a76_a8c0_11e9_8227_34de1a2c1766row1_col1\" class=\"data row1 col1\" >ensemble</td>\n",
       "                        <td id=\"T_3def3a76_a8c0_11e9_8227_34de1a2c1766row1_col2\" class=\"data row1 col2\" >faces</td>\n",
       "                        <td id=\"T_3def3a76_a8c0_11e9_8227_34de1a2c1766row1_col3\" class=\"data row1 col3\" >False</td>\n",
       "                        <td id=\"T_3def3a76_a8c0_11e9_8227_34de1a2c1766row1_col4\" class=\"data row1 col4\" >True</td>\n",
       "                        <td id=\"T_3def3a76_a8c0_11e9_8227_34de1a2c1766row1_col5\" class=\"data row1 col5\" >3.127</td>\n",
       "                        <td id=\"T_3def3a76_a8c0_11e9_8227_34de1a2c1766row1_col6\" class=\"data row1 col6\" >19.39</td>\n",
       "                        <td id=\"T_3def3a76_a8c0_11e9_8227_34de1a2c1766row1_col7\" class=\"data row1 col7\" >two-sided</td>\n",
       "                        <td id=\"T_3def3a76_a8c0_11e9_8227_34de1a2c1766row1_col8\" class=\"data row1 col8\" >0.00545175</td>\n",
       "                        <td id=\"T_3def3a76_a8c0_11e9_8227_34de1a2c1766row1_col9\" class=\"data row1 col9\" >0.0163553</td>\n",
       "                        <td id=\"T_3def3a76_a8c0_11e9_8227_34de1a2c1766row1_col10\" class=\"data row1 col10\" >bonferroni</td>\n",
       "                        <td id=\"T_3def3a76_a8c0_11e9_8227_34de1a2c1766row1_col11\" class=\"data row1 col11\" >9.472</td>\n",
       "                        <td id=\"T_3def3a76_a8c0_11e9_8227_34de1a2c1766row1_col12\" class=\"data row1 col12\" >0.791</td>\n",
       "                        <td id=\"T_3def3a76_a8c0_11e9_8227_34de1a2c1766row1_col13\" class=\"data row1 col13\" >1.141</td>\n",
       "            </tr>\n",
       "            <tr>\n",
       "                        <th id=\"T_3def3a76_a8c0_11e9_8227_34de1a2c1766level0_row2\" class=\"row_heading level0 row2\" >2</th>\n",
       "                        <td id=\"T_3def3a76_a8c0_11e9_8227_34de1a2c1766row2_col0\" class=\"data row2 col0\" >category</td>\n",
       "                        <td id=\"T_3def3a76_a8c0_11e9_8227_34de1a2c1766row2_col1\" class=\"data row2 col1\" >words</td>\n",
       "                        <td id=\"T_3def3a76_a8c0_11e9_8227_34de1a2c1766row2_col2\" class=\"data row2 col2\" >faces</td>\n",
       "                        <td id=\"T_3def3a76_a8c0_11e9_8227_34de1a2c1766row2_col3\" class=\"data row2 col3\" >False</td>\n",
       "                        <td id=\"T_3def3a76_a8c0_11e9_8227_34de1a2c1766row2_col4\" class=\"data row2 col4\" >True</td>\n",
       "                        <td id=\"T_3def3a76_a8c0_11e9_8227_34de1a2c1766row2_col5\" class=\"data row2 col5\" >0.751</td>\n",
       "                        <td id=\"T_3def3a76_a8c0_11e9_8227_34de1a2c1766row2_col6\" class=\"data row2 col6\" >19.48</td>\n",
       "                        <td id=\"T_3def3a76_a8c0_11e9_8227_34de1a2c1766row2_col7\" class=\"data row2 col7\" >two-sided</td>\n",
       "                        <td id=\"T_3def3a76_a8c0_11e9_8227_34de1a2c1766row2_col8\" class=\"data row2 col8\" >0.461886</td>\n",
       "                        <td id=\"T_3def3a76_a8c0_11e9_8227_34de1a2c1766row2_col9\" class=\"data row2 col9\" >1</td>\n",
       "                        <td id=\"T_3def3a76_a8c0_11e9_8227_34de1a2c1766row2_col10\" class=\"data row2 col10\" >bonferroni</td>\n",
       "                        <td id=\"T_3def3a76_a8c0_11e9_8227_34de1a2c1766row2_col11\" class=\"data row2 col11\" >0.442</td>\n",
       "                        <td id=\"T_3def3a76_a8c0_11e9_8227_34de1a2c1766row2_col12\" class=\"data row2 col12\" >0.533</td>\n",
       "                        <td id=\"T_3def3a76_a8c0_11e9_8227_34de1a2c1766row2_col13\" class=\"data row2 col13\" >0.274</td>\n",
       "            </tr>\n",
       "    </tbody></table>"
      ],
      "text/plain": [
       "<pandas.io.formats.style.Styler at 0x1cbf5ba3ba8>"
      ]
     },
     "execution_count": 19,
     "metadata": {},
     "output_type": "execute_result"
    }
   ],
   "source": [
    "# Bonferroni-corrected post hocs with Hedges'g effect size\n",
    "posthoc = pg.pairwise_ttests(data=data[data.intervals=='50 - 150'], dv='value', between='category', subject='subs',\n",
    "                             parametric=True, padjust='bonferroni', effsize='hedges')\n",
    "\n",
    "# Pretty printing of table\n",
    "posthoc.style.applymap(color_significant, subset=['p-corr'])"
   ]
  },
  {
   "cell_type": "code",
   "execution_count": 20,
   "metadata": {},
   "outputs": [
    {
     "data": {
      "text/html": [
       "<style  type=\"text/css\" >\n",
       "    #T_3e653692_a8c0_11e9_b4b5_34de1a2c1766row0_col9 {\n",
       "            color:  purple;\n",
       "        }    #T_3e653692_a8c0_11e9_b4b5_34de1a2c1766row1_col9 {\n",
       "            color:  red;\n",
       "        }    #T_3e653692_a8c0_11e9_b4b5_34de1a2c1766row2_col9 {\n",
       "            color:  red;\n",
       "        }</style><table id=\"T_3e653692_a8c0_11e9_b4b5_34de1a2c1766\" ><thead>    <tr>        <th class=\"blank level0\" ></th>        <th class=\"col_heading level0 col0\" >Contrast</th>        <th class=\"col_heading level0 col1\" >A</th>        <th class=\"col_heading level0 col2\" >B</th>        <th class=\"col_heading level0 col3\" >Paired</th>        <th class=\"col_heading level0 col4\" >Parametric</th>        <th class=\"col_heading level0 col5\" >T</th>        <th class=\"col_heading level0 col6\" >dof</th>        <th class=\"col_heading level0 col7\" >tail</th>        <th class=\"col_heading level0 col8\" >p-unc</th>        <th class=\"col_heading level0 col9\" >p-corr</th>        <th class=\"col_heading level0 col10\" >p-adjust</th>        <th class=\"col_heading level0 col11\" >BF10</th>        <th class=\"col_heading level0 col12\" >CLES</th>        <th class=\"col_heading level0 col13\" >hedges</th>    </tr></thead><tbody>\n",
       "                <tr>\n",
       "                        <th id=\"T_3e653692_a8c0_11e9_b4b5_34de1a2c1766level0_row0\" class=\"row_heading level0 row0\" >0</th>\n",
       "                        <td id=\"T_3e653692_a8c0_11e9_b4b5_34de1a2c1766row0_col0\" class=\"data row0 col0\" >category</td>\n",
       "                        <td id=\"T_3e653692_a8c0_11e9_b4b5_34de1a2c1766row0_col1\" class=\"data row0 col1\" >ensemble</td>\n",
       "                        <td id=\"T_3e653692_a8c0_11e9_b4b5_34de1a2c1766row0_col2\" class=\"data row0 col2\" >words</td>\n",
       "                        <td id=\"T_3e653692_a8c0_11e9_b4b5_34de1a2c1766row0_col3\" class=\"data row0 col3\" >False</td>\n",
       "                        <td id=\"T_3e653692_a8c0_11e9_b4b5_34de1a2c1766row0_col4\" class=\"data row0 col4\" >True</td>\n",
       "                        <td id=\"T_3e653692_a8c0_11e9_b4b5_34de1a2c1766row0_col5\" class=\"data row0 col5\" >-4.215</td>\n",
       "                        <td id=\"T_3e653692_a8c0_11e9_b4b5_34de1a2c1766row0_col6\" class=\"data row0 col6\" >26</td>\n",
       "                        <td id=\"T_3e653692_a8c0_11e9_b4b5_34de1a2c1766row0_col7\" class=\"data row0 col7\" >two-sided</td>\n",
       "                        <td id=\"T_3e653692_a8c0_11e9_b4b5_34de1a2c1766row0_col8\" class=\"data row0 col8\" >0.000266004</td>\n",
       "                        <td id=\"T_3e653692_a8c0_11e9_b4b5_34de1a2c1766row0_col9\" class=\"data row0 col9\" >0.000798011</td>\n",
       "                        <td id=\"T_3e653692_a8c0_11e9_b4b5_34de1a2c1766row0_col10\" class=\"data row0 col10\" >bonferroni</td>\n",
       "                        <td id=\"T_3e653692_a8c0_11e9_b4b5_34de1a2c1766row0_col11\" class=\"data row0 col11\" >91.283</td>\n",
       "                        <td id=\"T_3e653692_a8c0_11e9_b4b5_34de1a2c1766row0_col12\" class=\"data row0 col12\" >0.888</td>\n",
       "                        <td id=\"T_3e653692_a8c0_11e9_b4b5_34de1a2c1766row0_col13\" class=\"data row0 col13\" >-1.547</td>\n",
       "            </tr>\n",
       "            <tr>\n",
       "                        <th id=\"T_3e653692_a8c0_11e9_b4b5_34de1a2c1766level0_row1\" class=\"row_heading level0 row1\" >1</th>\n",
       "                        <td id=\"T_3e653692_a8c0_11e9_b4b5_34de1a2c1766row1_col0\" class=\"data row1 col0\" >category</td>\n",
       "                        <td id=\"T_3e653692_a8c0_11e9_b4b5_34de1a2c1766row1_col1\" class=\"data row1 col1\" >ensemble</td>\n",
       "                        <td id=\"T_3e653692_a8c0_11e9_b4b5_34de1a2c1766row1_col2\" class=\"data row1 col2\" >faces</td>\n",
       "                        <td id=\"T_3e653692_a8c0_11e9_b4b5_34de1a2c1766row1_col3\" class=\"data row1 col3\" >False</td>\n",
       "                        <td id=\"T_3e653692_a8c0_11e9_b4b5_34de1a2c1766row1_col4\" class=\"data row1 col4\" >True</td>\n",
       "                        <td id=\"T_3e653692_a8c0_11e9_b4b5_34de1a2c1766row1_col5\" class=\"data row1 col5\" >-2.702</td>\n",
       "                        <td id=\"T_3e653692_a8c0_11e9_b4b5_34de1a2c1766row1_col6\" class=\"data row1 col6\" >17.25</td>\n",
       "                        <td id=\"T_3e653692_a8c0_11e9_b4b5_34de1a2c1766row1_col7\" class=\"data row1 col7\" >two-sided</td>\n",
       "                        <td id=\"T_3e653692_a8c0_11e9_b4b5_34de1a2c1766row1_col8\" class=\"data row1 col8\" >0.0149745</td>\n",
       "                        <td id=\"T_3e653692_a8c0_11e9_b4b5_34de1a2c1766row1_col9\" class=\"data row1 col9\" >0.0449234</td>\n",
       "                        <td id=\"T_3e653692_a8c0_11e9_b4b5_34de1a2c1766row1_col10\" class=\"data row1 col10\" >bonferroni</td>\n",
       "                        <td id=\"T_3e653692_a8c0_11e9_b4b5_34de1a2c1766row1_col11\" class=\"data row1 col11\" >4.418</td>\n",
       "                        <td id=\"T_3e653692_a8c0_11e9_b4b5_34de1a2c1766row1_col12\" class=\"data row1 col12\" >0.824</td>\n",
       "                        <td id=\"T_3e653692_a8c0_11e9_b4b5_34de1a2c1766row1_col13\" class=\"data row1 col13\" >-0.981</td>\n",
       "            </tr>\n",
       "            <tr>\n",
       "                        <th id=\"T_3e653692_a8c0_11e9_b4b5_34de1a2c1766level0_row2\" class=\"row_heading level0 row2\" >2</th>\n",
       "                        <td id=\"T_3e653692_a8c0_11e9_b4b5_34de1a2c1766row2_col0\" class=\"data row2 col0\" >category</td>\n",
       "                        <td id=\"T_3e653692_a8c0_11e9_b4b5_34de1a2c1766row2_col1\" class=\"data row2 col1\" >words</td>\n",
       "                        <td id=\"T_3e653692_a8c0_11e9_b4b5_34de1a2c1766row2_col2\" class=\"data row2 col2\" >faces</td>\n",
       "                        <td id=\"T_3e653692_a8c0_11e9_b4b5_34de1a2c1766row2_col3\" class=\"data row2 col3\" >False</td>\n",
       "                        <td id=\"T_3e653692_a8c0_11e9_b4b5_34de1a2c1766row2_col4\" class=\"data row2 col4\" >True</td>\n",
       "                        <td id=\"T_3e653692_a8c0_11e9_b4b5_34de1a2c1766row2_col5\" class=\"data row2 col5\" >2.74</td>\n",
       "                        <td id=\"T_3e653692_a8c0_11e9_b4b5_34de1a2c1766row2_col6\" class=\"data row2 col6\" >22.83</td>\n",
       "                        <td id=\"T_3e653692_a8c0_11e9_b4b5_34de1a2c1766row2_col7\" class=\"data row2 col7\" >two-sided</td>\n",
       "                        <td id=\"T_3e653692_a8c0_11e9_b4b5_34de1a2c1766row2_col8\" class=\"data row2 col8\" >0.0117221</td>\n",
       "                        <td id=\"T_3e653692_a8c0_11e9_b4b5_34de1a2c1766row2_col9\" class=\"data row2 col9\" >0.0351662</td>\n",
       "                        <td id=\"T_3e653692_a8c0_11e9_b4b5_34de1a2c1766row2_col10\" class=\"data row2 col10\" >bonferroni</td>\n",
       "                        <td id=\"T_3e653692_a8c0_11e9_b4b5_34de1a2c1766row2_col11\" class=\"data row2 col11\" >4.713</td>\n",
       "                        <td id=\"T_3e653692_a8c0_11e9_b4b5_34de1a2c1766row2_col12\" class=\"data row2 col12\" >0.753</td>\n",
       "                        <td id=\"T_3e653692_a8c0_11e9_b4b5_34de1a2c1766row2_col13\" class=\"data row2 col13\" >1.008</td>\n",
       "            </tr>\n",
       "    </tbody></table>"
      ],
      "text/plain": [
       "<pandas.io.formats.style.Styler at 0x1cbf5b5bc50>"
      ]
     },
     "execution_count": 20,
     "metadata": {},
     "output_type": "execute_result"
    }
   ],
   "source": [
    "# Bonferroni-corrected post hocs with Hedges'g effect size\n",
    "posthoc = pg.pairwise_ttests(data=data[data.intervals=='150 - 250'], dv='value', between='category', subject='subs',\n",
    "                             parametric=True, padjust='bonferroni', effsize='hedges')\n",
    "\n",
    "# Pretty printing of table\n",
    "posthoc.style.applymap(color_significant, subset=['p-corr'])"
   ]
  },
  {
   "cell_type": "code",
   "execution_count": 21,
   "metadata": {},
   "outputs": [
    {
     "data": {
      "text/html": [
       "<style  type=\"text/css\" >\n",
       "    #T_404774b0_a8c0_11e9_9ad0_34de1a2c1766row0_col9 {\n",
       "            color:  red;\n",
       "        }    #T_404774b0_a8c0_11e9_9ad0_34de1a2c1766row1_col9 {\n",
       "            color:  red;\n",
       "        }    #T_404774b0_a8c0_11e9_9ad0_34de1a2c1766row2_col9 {\n",
       "            color:  black;\n",
       "        }</style><table id=\"T_404774b0_a8c0_11e9_9ad0_34de1a2c1766\" ><thead>    <tr>        <th class=\"blank level0\" ></th>        <th class=\"col_heading level0 col0\" >Contrast</th>        <th class=\"col_heading level0 col1\" >A</th>        <th class=\"col_heading level0 col2\" >B</th>        <th class=\"col_heading level0 col3\" >Paired</th>        <th class=\"col_heading level0 col4\" >Parametric</th>        <th class=\"col_heading level0 col5\" >T</th>        <th class=\"col_heading level0 col6\" >dof</th>        <th class=\"col_heading level0 col7\" >tail</th>        <th class=\"col_heading level0 col8\" >p-unc</th>        <th class=\"col_heading level0 col9\" >p-corr</th>        <th class=\"col_heading level0 col10\" >p-adjust</th>        <th class=\"col_heading level0 col11\" >BF10</th>        <th class=\"col_heading level0 col12\" >CLES</th>        <th class=\"col_heading level0 col13\" >hedges</th>    </tr></thead><tbody>\n",
       "                <tr>\n",
       "                        <th id=\"T_404774b0_a8c0_11e9_9ad0_34de1a2c1766level0_row0\" class=\"row_heading level0 row0\" >0</th>\n",
       "                        <td id=\"T_404774b0_a8c0_11e9_9ad0_34de1a2c1766row0_col0\" class=\"data row0 col0\" >category</td>\n",
       "                        <td id=\"T_404774b0_a8c0_11e9_9ad0_34de1a2c1766row0_col1\" class=\"data row0 col1\" >ensemble</td>\n",
       "                        <td id=\"T_404774b0_a8c0_11e9_9ad0_34de1a2c1766row0_col2\" class=\"data row0 col2\" >words</td>\n",
       "                        <td id=\"T_404774b0_a8c0_11e9_9ad0_34de1a2c1766row0_col3\" class=\"data row0 col3\" >False</td>\n",
       "                        <td id=\"T_404774b0_a8c0_11e9_9ad0_34de1a2c1766row0_col4\" class=\"data row0 col4\" >True</td>\n",
       "                        <td id=\"T_404774b0_a8c0_11e9_9ad0_34de1a2c1766row0_col5\" class=\"data row0 col5\" >-2.985</td>\n",
       "                        <td id=\"T_404774b0_a8c0_11e9_9ad0_34de1a2c1766row0_col6\" class=\"data row0 col6\" >26</td>\n",
       "                        <td id=\"T_404774b0_a8c0_11e9_9ad0_34de1a2c1766row0_col7\" class=\"data row0 col7\" >two-sided</td>\n",
       "                        <td id=\"T_404774b0_a8c0_11e9_9ad0_34de1a2c1766row0_col8\" class=\"data row0 col8\" >0.00609725</td>\n",
       "                        <td id=\"T_404774b0_a8c0_11e9_9ad0_34de1a2c1766row0_col9\" class=\"data row0 col9\" >0.0182917</td>\n",
       "                        <td id=\"T_404774b0_a8c0_11e9_9ad0_34de1a2c1766row0_col10\" class=\"data row0 col10\" >bonferroni</td>\n",
       "                        <td id=\"T_404774b0_a8c0_11e9_9ad0_34de1a2c1766row0_col11\" class=\"data row0 col11\" >7.424</td>\n",
       "                        <td id=\"T_404774b0_a8c0_11e9_9ad0_34de1a2c1766row0_col12\" class=\"data row0 col12\" >0.75</td>\n",
       "                        <td id=\"T_404774b0_a8c0_11e9_9ad0_34de1a2c1766row0_col13\" class=\"data row0 col13\" >-1.096</td>\n",
       "            </tr>\n",
       "            <tr>\n",
       "                        <th id=\"T_404774b0_a8c0_11e9_9ad0_34de1a2c1766level0_row1\" class=\"row_heading level0 row1\" >1</th>\n",
       "                        <td id=\"T_404774b0_a8c0_11e9_9ad0_34de1a2c1766row1_col0\" class=\"data row1 col0\" >category</td>\n",
       "                        <td id=\"T_404774b0_a8c0_11e9_9ad0_34de1a2c1766row1_col1\" class=\"data row1 col1\" >ensemble</td>\n",
       "                        <td id=\"T_404774b0_a8c0_11e9_9ad0_34de1a2c1766row1_col2\" class=\"data row1 col2\" >faces</td>\n",
       "                        <td id=\"T_404774b0_a8c0_11e9_9ad0_34de1a2c1766row1_col3\" class=\"data row1 col3\" >False</td>\n",
       "                        <td id=\"T_404774b0_a8c0_11e9_9ad0_34de1a2c1766row1_col4\" class=\"data row1 col4\" >True</td>\n",
       "                        <td id=\"T_404774b0_a8c0_11e9_9ad0_34de1a2c1766row1_col5\" class=\"data row1 col5\" >-3.265</td>\n",
       "                        <td id=\"T_404774b0_a8c0_11e9_9ad0_34de1a2c1766row1_col6\" class=\"data row1 col6\" >23.98</td>\n",
       "                        <td id=\"T_404774b0_a8c0_11e9_9ad0_34de1a2c1766row1_col7\" class=\"data row1 col7\" >two-sided</td>\n",
       "                        <td id=\"T_404774b0_a8c0_11e9_9ad0_34de1a2c1766row1_col8\" class=\"data row1 col8\" >0.00328545</td>\n",
       "                        <td id=\"T_404774b0_a8c0_11e9_9ad0_34de1a2c1766row1_col9\" class=\"data row1 col9\" >0.00985635</td>\n",
       "                        <td id=\"T_404774b0_a8c0_11e9_9ad0_34de1a2c1766row1_col10\" class=\"data row1 col10\" >bonferroni</td>\n",
       "                        <td id=\"T_404774b0_a8c0_11e9_9ad0_34de1a2c1766row1_col11\" class=\"data row1 col11\" >12.295</td>\n",
       "                        <td id=\"T_404774b0_a8c0_11e9_9ad0_34de1a2c1766row1_col12\" class=\"data row1 col12\" >0.819</td>\n",
       "                        <td id=\"T_404774b0_a8c0_11e9_9ad0_34de1a2c1766row1_col13\" class=\"data row1 col13\" >-1.206</td>\n",
       "            </tr>\n",
       "            <tr>\n",
       "                        <th id=\"T_404774b0_a8c0_11e9_9ad0_34de1a2c1766level0_row2\" class=\"row_heading level0 row2\" >2</th>\n",
       "                        <td id=\"T_404774b0_a8c0_11e9_9ad0_34de1a2c1766row2_col0\" class=\"data row2 col0\" >category</td>\n",
       "                        <td id=\"T_404774b0_a8c0_11e9_9ad0_34de1a2c1766row2_col1\" class=\"data row2 col1\" >words</td>\n",
       "                        <td id=\"T_404774b0_a8c0_11e9_9ad0_34de1a2c1766row2_col2\" class=\"data row2 col2\" >faces</td>\n",
       "                        <td id=\"T_404774b0_a8c0_11e9_9ad0_34de1a2c1766row2_col3\" class=\"data row2 col3\" >False</td>\n",
       "                        <td id=\"T_404774b0_a8c0_11e9_9ad0_34de1a2c1766row2_col4\" class=\"data row2 col4\" >True</td>\n",
       "                        <td id=\"T_404774b0_a8c0_11e9_9ad0_34de1a2c1766row2_col5\" class=\"data row2 col5\" >-0.682</td>\n",
       "                        <td id=\"T_404774b0_a8c0_11e9_9ad0_34de1a2c1766row2_col6\" class=\"data row2 col6\" >22.85</td>\n",
       "                        <td id=\"T_404774b0_a8c0_11e9_9ad0_34de1a2c1766row2_col7\" class=\"data row2 col7\" >two-sided</td>\n",
       "                        <td id=\"T_404774b0_a8c0_11e9_9ad0_34de1a2c1766row2_col8\" class=\"data row2 col8\" >0.501831</td>\n",
       "                        <td id=\"T_404774b0_a8c0_11e9_9ad0_34de1a2c1766row2_col9\" class=\"data row2 col9\" >1</td>\n",
       "                        <td id=\"T_404774b0_a8c0_11e9_9ad0_34de1a2c1766row2_col10\" class=\"data row2 col10\" >bonferroni</td>\n",
       "                        <td id=\"T_404774b0_a8c0_11e9_9ad0_34de1a2c1766row2_col11\" class=\"data row2 col11\" >0.426</td>\n",
       "                        <td id=\"T_404774b0_a8c0_11e9_9ad0_34de1a2c1766row2_col12\" class=\"data row2 col12\" >0.599</td>\n",
       "                        <td id=\"T_404774b0_a8c0_11e9_9ad0_34de1a2c1766row2_col13\" class=\"data row2 col13\" >-0.257</td>\n",
       "            </tr>\n",
       "    </tbody></table>"
      ],
      "text/plain": [
       "<pandas.io.formats.style.Styler at 0x1cbf5a47588>"
      ]
     },
     "execution_count": 21,
     "metadata": {},
     "output_type": "execute_result"
    }
   ],
   "source": [
    "# Bonferroni-corrected post hocs with Hedges'g effect size\n",
    "posthoc = pg.pairwise_ttests(data=data[data.intervals=='250 - 350'], dv='value', between='category', subject='subs',\n",
    "                             parametric=True, padjust='bonferroni', effsize='hedges')\n",
    "\n",
    "# Pretty printing of table\n",
    "posthoc.style.applymap(color_significant, subset=['p-corr'])"
   ]
  },
  {
   "cell_type": "code",
   "execution_count": 22,
   "metadata": {},
   "outputs": [
    {
     "data": {
      "text/html": [
       "<style  type=\"text/css\" >\n",
       "    #T_40db9252_a8c0_11e9_a227_34de1a2c1766row0_col9 {\n",
       "            color:  black;\n",
       "        }    #T_40db9252_a8c0_11e9_a227_34de1a2c1766row1_col9 {\n",
       "            color:  black;\n",
       "        }    #T_40db9252_a8c0_11e9_a227_34de1a2c1766row2_col9 {\n",
       "            color:  black;\n",
       "        }</style><table id=\"T_40db9252_a8c0_11e9_a227_34de1a2c1766\" ><thead>    <tr>        <th class=\"blank level0\" ></th>        <th class=\"col_heading level0 col0\" >Contrast</th>        <th class=\"col_heading level0 col1\" >A</th>        <th class=\"col_heading level0 col2\" >B</th>        <th class=\"col_heading level0 col3\" >Paired</th>        <th class=\"col_heading level0 col4\" >Parametric</th>        <th class=\"col_heading level0 col5\" >T</th>        <th class=\"col_heading level0 col6\" >dof</th>        <th class=\"col_heading level0 col7\" >tail</th>        <th class=\"col_heading level0 col8\" >p-unc</th>        <th class=\"col_heading level0 col9\" >p-corr</th>        <th class=\"col_heading level0 col10\" >p-adjust</th>        <th class=\"col_heading level0 col11\" >BF10</th>        <th class=\"col_heading level0 col12\" >CLES</th>        <th class=\"col_heading level0 col13\" >hedges</th>    </tr></thead><tbody>\n",
       "                <tr>\n",
       "                        <th id=\"T_40db9252_a8c0_11e9_a227_34de1a2c1766level0_row0\" class=\"row_heading level0 row0\" >0</th>\n",
       "                        <td id=\"T_40db9252_a8c0_11e9_a227_34de1a2c1766row0_col0\" class=\"data row0 col0\" >category</td>\n",
       "                        <td id=\"T_40db9252_a8c0_11e9_a227_34de1a2c1766row0_col1\" class=\"data row0 col1\" >ensemble</td>\n",
       "                        <td id=\"T_40db9252_a8c0_11e9_a227_34de1a2c1766row0_col2\" class=\"data row0 col2\" >words</td>\n",
       "                        <td id=\"T_40db9252_a8c0_11e9_a227_34de1a2c1766row0_col3\" class=\"data row0 col3\" >False</td>\n",
       "                        <td id=\"T_40db9252_a8c0_11e9_a227_34de1a2c1766row0_col4\" class=\"data row0 col4\" >True</td>\n",
       "                        <td id=\"T_40db9252_a8c0_11e9_a227_34de1a2c1766row0_col5\" class=\"data row0 col5\" >1.638</td>\n",
       "                        <td id=\"T_40db9252_a8c0_11e9_a227_34de1a2c1766row0_col6\" class=\"data row0 col6\" >26</td>\n",
       "                        <td id=\"T_40db9252_a8c0_11e9_a227_34de1a2c1766row0_col7\" class=\"data row0 col7\" >two-sided</td>\n",
       "                        <td id=\"T_40db9252_a8c0_11e9_a227_34de1a2c1766row0_col8\" class=\"data row0 col8\" >0.11352</td>\n",
       "                        <td id=\"T_40db9252_a8c0_11e9_a227_34de1a2c1766row0_col9\" class=\"data row0 col9\" >0.340559</td>\n",
       "                        <td id=\"T_40db9252_a8c0_11e9_a227_34de1a2c1766row0_col10\" class=\"data row0 col10\" >bonferroni</td>\n",
       "                        <td id=\"T_40db9252_a8c0_11e9_a227_34de1a2c1766row0_col11\" class=\"data row0 col11\" >0.942</td>\n",
       "                        <td id=\"T_40db9252_a8c0_11e9_a227_34de1a2c1766row0_col12\" class=\"data row0 col12\" >0.689</td>\n",
       "                        <td id=\"T_40db9252_a8c0_11e9_a227_34de1a2c1766row0_col13\" class=\"data row0 col13\" >0.601</td>\n",
       "            </tr>\n",
       "            <tr>\n",
       "                        <th id=\"T_40db9252_a8c0_11e9_a227_34de1a2c1766level0_row1\" class=\"row_heading level0 row1\" >1</th>\n",
       "                        <td id=\"T_40db9252_a8c0_11e9_a227_34de1a2c1766row1_col0\" class=\"data row1 col0\" >category</td>\n",
       "                        <td id=\"T_40db9252_a8c0_11e9_a227_34de1a2c1766row1_col1\" class=\"data row1 col1\" >ensemble</td>\n",
       "                        <td id=\"T_40db9252_a8c0_11e9_a227_34de1a2c1766row1_col2\" class=\"data row1 col2\" >faces</td>\n",
       "                        <td id=\"T_40db9252_a8c0_11e9_a227_34de1a2c1766row1_col3\" class=\"data row1 col3\" >False</td>\n",
       "                        <td id=\"T_40db9252_a8c0_11e9_a227_34de1a2c1766row1_col4\" class=\"data row1 col4\" >True</td>\n",
       "                        <td id=\"T_40db9252_a8c0_11e9_a227_34de1a2c1766row1_col5\" class=\"data row1 col5\" >0.632</td>\n",
       "                        <td id=\"T_40db9252_a8c0_11e9_a227_34de1a2c1766row1_col6\" class=\"data row1 col6\" >15.79</td>\n",
       "                        <td id=\"T_40db9252_a8c0_11e9_a227_34de1a2c1766row1_col7\" class=\"data row1 col7\" >two-sided</td>\n",
       "                        <td id=\"T_40db9252_a8c0_11e9_a227_34de1a2c1766row1_col8\" class=\"data row1 col8\" >0.536732</td>\n",
       "                        <td id=\"T_40db9252_a8c0_11e9_a227_34de1a2c1766row1_col9\" class=\"data row1 col9\" >1</td>\n",
       "                        <td id=\"T_40db9252_a8c0_11e9_a227_34de1a2c1766row1_col10\" class=\"data row1 col10\" >bonferroni</td>\n",
       "                        <td id=\"T_40db9252_a8c0_11e9_a227_34de1a2c1766row1_col11\" class=\"data row1 col11\" >0.415</td>\n",
       "                        <td id=\"T_40db9252_a8c0_11e9_a227_34de1a2c1766row1_col12\" class=\"data row1 col12\" >0.599</td>\n",
       "                        <td id=\"T_40db9252_a8c0_11e9_a227_34de1a2c1766row1_col13\" class=\"data row1 col13\" >0.229</td>\n",
       "            </tr>\n",
       "            <tr>\n",
       "                        <th id=\"T_40db9252_a8c0_11e9_a227_34de1a2c1766level0_row2\" class=\"row_heading level0 row2\" >2</th>\n",
       "                        <td id=\"T_40db9252_a8c0_11e9_a227_34de1a2c1766row2_col0\" class=\"data row2 col0\" >category</td>\n",
       "                        <td id=\"T_40db9252_a8c0_11e9_a227_34de1a2c1766row2_col1\" class=\"data row2 col1\" >words</td>\n",
       "                        <td id=\"T_40db9252_a8c0_11e9_a227_34de1a2c1766row2_col2\" class=\"data row2 col2\" >faces</td>\n",
       "                        <td id=\"T_40db9252_a8c0_11e9_a227_34de1a2c1766row2_col3\" class=\"data row2 col3\" >False</td>\n",
       "                        <td id=\"T_40db9252_a8c0_11e9_a227_34de1a2c1766row2_col4\" class=\"data row2 col4\" >True</td>\n",
       "                        <td id=\"T_40db9252_a8c0_11e9_a227_34de1a2c1766row2_col5\" class=\"data row2 col5\" >-1.922</td>\n",
       "                        <td id=\"T_40db9252_a8c0_11e9_a227_34de1a2c1766row2_col6\" class=\"data row2 col6\" >21.85</td>\n",
       "                        <td id=\"T_40db9252_a8c0_11e9_a227_34de1a2c1766row2_col7\" class=\"data row2 col7\" >two-sided</td>\n",
       "                        <td id=\"T_40db9252_a8c0_11e9_a227_34de1a2c1766row2_col8\" class=\"data row2 col8\" >0.0678035</td>\n",
       "                        <td id=\"T_40db9252_a8c0_11e9_a227_34de1a2c1766row2_col9\" class=\"data row2 col9\" >0.203411</td>\n",
       "                        <td id=\"T_40db9252_a8c0_11e9_a227_34de1a2c1766row2_col10\" class=\"data row2 col10\" >bonferroni</td>\n",
       "                        <td id=\"T_40db9252_a8c0_11e9_a227_34de1a2c1766row2_col11\" class=\"data row2 col11\" >1.346</td>\n",
       "                        <td id=\"T_40db9252_a8c0_11e9_a227_34de1a2c1766row2_col12\" class=\"data row2 col12\" >0.659</td>\n",
       "                        <td id=\"T_40db9252_a8c0_11e9_a227_34de1a2c1766row2_col13\" class=\"data row2 col13\" >-0.705</td>\n",
       "            </tr>\n",
       "    </tbody></table>"
      ],
      "text/plain": [
       "<pandas.io.formats.style.Styler at 0x1cbf5bf0cc0>"
      ]
     },
     "execution_count": 22,
     "metadata": {},
     "output_type": "execute_result"
    }
   ],
   "source": [
    "# Bonferroni-corrected post hocs with Hedges'g effect size\n",
    "posthoc = pg.pairwise_ttests(data=data[data.intervals=='350 - 450'], dv='value', between='category', subject='subs',\n",
    "                             parametric=True, padjust='bonferroni', effsize='hedges')\n",
    "\n",
    "# Pretty printing of table\n",
    "posthoc.style.applymap(color_significant, subset=['p-corr'])"
   ]
  },
  {
   "cell_type": "code",
   "execution_count": 23,
   "metadata": {},
   "outputs": [
    {
     "data": {
      "text/html": [
       "<style  type=\"text/css\" >\n",
       "    #T_41544c4a_a8c0_11e9_97eb_34de1a2c1766row0_col9 {\n",
       "            color:  black;\n",
       "        }    #T_41544c4a_a8c0_11e9_97eb_34de1a2c1766row1_col9 {\n",
       "            color:  black;\n",
       "        }    #T_41544c4a_a8c0_11e9_97eb_34de1a2c1766row2_col9 {\n",
       "            color:  black;\n",
       "        }</style><table id=\"T_41544c4a_a8c0_11e9_97eb_34de1a2c1766\" ><thead>    <tr>        <th class=\"blank level0\" ></th>        <th class=\"col_heading level0 col0\" >Contrast</th>        <th class=\"col_heading level0 col1\" >A</th>        <th class=\"col_heading level0 col2\" >B</th>        <th class=\"col_heading level0 col3\" >Paired</th>        <th class=\"col_heading level0 col4\" >Parametric</th>        <th class=\"col_heading level0 col5\" >T</th>        <th class=\"col_heading level0 col6\" >dof</th>        <th class=\"col_heading level0 col7\" >tail</th>        <th class=\"col_heading level0 col8\" >p-unc</th>        <th class=\"col_heading level0 col9\" >p-corr</th>        <th class=\"col_heading level0 col10\" >p-adjust</th>        <th class=\"col_heading level0 col11\" >BF10</th>        <th class=\"col_heading level0 col12\" >CLES</th>        <th class=\"col_heading level0 col13\" >hedges</th>    </tr></thead><tbody>\n",
       "                <tr>\n",
       "                        <th id=\"T_41544c4a_a8c0_11e9_97eb_34de1a2c1766level0_row0\" class=\"row_heading level0 row0\" >0</th>\n",
       "                        <td id=\"T_41544c4a_a8c0_11e9_97eb_34de1a2c1766row0_col0\" class=\"data row0 col0\" >category</td>\n",
       "                        <td id=\"T_41544c4a_a8c0_11e9_97eb_34de1a2c1766row0_col1\" class=\"data row0 col1\" >ensemble</td>\n",
       "                        <td id=\"T_41544c4a_a8c0_11e9_97eb_34de1a2c1766row0_col2\" class=\"data row0 col2\" >words</td>\n",
       "                        <td id=\"T_41544c4a_a8c0_11e9_97eb_34de1a2c1766row0_col3\" class=\"data row0 col3\" >False</td>\n",
       "                        <td id=\"T_41544c4a_a8c0_11e9_97eb_34de1a2c1766row0_col4\" class=\"data row0 col4\" >True</td>\n",
       "                        <td id=\"T_41544c4a_a8c0_11e9_97eb_34de1a2c1766row0_col5\" class=\"data row0 col5\" >1.056</td>\n",
       "                        <td id=\"T_41544c4a_a8c0_11e9_97eb_34de1a2c1766row0_col6\" class=\"data row0 col6\" >26</td>\n",
       "                        <td id=\"T_41544c4a_a8c0_11e9_97eb_34de1a2c1766row0_col7\" class=\"data row0 col7\" >two-sided</td>\n",
       "                        <td id=\"T_41544c4a_a8c0_11e9_97eb_34de1a2c1766row0_col8\" class=\"data row0 col8\" >0.300541</td>\n",
       "                        <td id=\"T_41544c4a_a8c0_11e9_97eb_34de1a2c1766row0_col9\" class=\"data row0 col9\" >0.901622</td>\n",
       "                        <td id=\"T_41544c4a_a8c0_11e9_97eb_34de1a2c1766row0_col10\" class=\"data row0 col10\" >bonferroni</td>\n",
       "                        <td id=\"T_41544c4a_a8c0_11e9_97eb_34de1a2c1766row0_col11\" class=\"data row0 col11\" >0.535</td>\n",
       "                        <td id=\"T_41544c4a_a8c0_11e9_97eb_34de1a2c1766row0_col12\" class=\"data row0 col12\" >0.612</td>\n",
       "                        <td id=\"T_41544c4a_a8c0_11e9_97eb_34de1a2c1766row0_col13\" class=\"data row0 col13\" >0.388</td>\n",
       "            </tr>\n",
       "            <tr>\n",
       "                        <th id=\"T_41544c4a_a8c0_11e9_97eb_34de1a2c1766level0_row1\" class=\"row_heading level0 row1\" >1</th>\n",
       "                        <td id=\"T_41544c4a_a8c0_11e9_97eb_34de1a2c1766row1_col0\" class=\"data row1 col0\" >category</td>\n",
       "                        <td id=\"T_41544c4a_a8c0_11e9_97eb_34de1a2c1766row1_col1\" class=\"data row1 col1\" >ensemble</td>\n",
       "                        <td id=\"T_41544c4a_a8c0_11e9_97eb_34de1a2c1766row1_col2\" class=\"data row1 col2\" >faces</td>\n",
       "                        <td id=\"T_41544c4a_a8c0_11e9_97eb_34de1a2c1766row1_col3\" class=\"data row1 col3\" >False</td>\n",
       "                        <td id=\"T_41544c4a_a8c0_11e9_97eb_34de1a2c1766row1_col4\" class=\"data row1 col4\" >True</td>\n",
       "                        <td id=\"T_41544c4a_a8c0_11e9_97eb_34de1a2c1766row1_col5\" class=\"data row1 col5\" >0.449</td>\n",
       "                        <td id=\"T_41544c4a_a8c0_11e9_97eb_34de1a2c1766row1_col6\" class=\"data row1 col6\" >23.76</td>\n",
       "                        <td id=\"T_41544c4a_a8c0_11e9_97eb_34de1a2c1766row1_col7\" class=\"data row1 col7\" >two-sided</td>\n",
       "                        <td id=\"T_41544c4a_a8c0_11e9_97eb_34de1a2c1766row1_col8\" class=\"data row1 col8\" >0.657464</td>\n",
       "                        <td id=\"T_41544c4a_a8c0_11e9_97eb_34de1a2c1766row1_col9\" class=\"data row1 col9\" >1</td>\n",
       "                        <td id=\"T_41544c4a_a8c0_11e9_97eb_34de1a2c1766row1_col10\" class=\"data row1 col10\" >bonferroni</td>\n",
       "                        <td id=\"T_41544c4a_a8c0_11e9_97eb_34de1a2c1766row1_col11\" class=\"data row1 col11\" >0.386</td>\n",
       "                        <td id=\"T_41544c4a_a8c0_11e9_97eb_34de1a2c1766row1_col12\" class=\"data row1 col12\" >0.571</td>\n",
       "                        <td id=\"T_41544c4a_a8c0_11e9_97eb_34de1a2c1766row1_col13\" class=\"data row1 col13\" >0.166</td>\n",
       "            </tr>\n",
       "            <tr>\n",
       "                        <th id=\"T_41544c4a_a8c0_11e9_97eb_34de1a2c1766level0_row2\" class=\"row_heading level0 row2\" >2</th>\n",
       "                        <td id=\"T_41544c4a_a8c0_11e9_97eb_34de1a2c1766row2_col0\" class=\"data row2 col0\" >category</td>\n",
       "                        <td id=\"T_41544c4a_a8c0_11e9_97eb_34de1a2c1766row2_col1\" class=\"data row2 col1\" >words</td>\n",
       "                        <td id=\"T_41544c4a_a8c0_11e9_97eb_34de1a2c1766row2_col2\" class=\"data row2 col2\" >faces</td>\n",
       "                        <td id=\"T_41544c4a_a8c0_11e9_97eb_34de1a2c1766row2_col3\" class=\"data row2 col3\" >False</td>\n",
       "                        <td id=\"T_41544c4a_a8c0_11e9_97eb_34de1a2c1766row2_col4\" class=\"data row2 col4\" >True</td>\n",
       "                        <td id=\"T_41544c4a_a8c0_11e9_97eb_34de1a2c1766row2_col5\" class=\"data row2 col5\" >-0.701</td>\n",
       "                        <td id=\"T_41544c4a_a8c0_11e9_97eb_34de1a2c1766row2_col6\" class=\"data row2 col6\" >24.54</td>\n",
       "                        <td id=\"T_41544c4a_a8c0_11e9_97eb_34de1a2c1766row2_col7\" class=\"data row2 col7\" >two-sided</td>\n",
       "                        <td id=\"T_41544c4a_a8c0_11e9_97eb_34de1a2c1766row2_col8\" class=\"data row2 col8\" >0.489733</td>\n",
       "                        <td id=\"T_41544c4a_a8c0_11e9_97eb_34de1a2c1766row2_col9\" class=\"data row2 col9\" >1</td>\n",
       "                        <td id=\"T_41544c4a_a8c0_11e9_97eb_34de1a2c1766row2_col10\" class=\"data row2 col10\" >bonferroni</td>\n",
       "                        <td id=\"T_41544c4a_a8c0_11e9_97eb_34de1a2c1766row2_col11\" class=\"data row2 col11\" >0.43</td>\n",
       "                        <td id=\"T_41544c4a_a8c0_11e9_97eb_34de1a2c1766row2_col12\" class=\"data row2 col12\" >0.577</td>\n",
       "                        <td id=\"T_41544c4a_a8c0_11e9_97eb_34de1a2c1766row2_col13\" class=\"data row2 col13\" >-0.263</td>\n",
       "            </tr>\n",
       "    </tbody></table>"
      ],
      "text/plain": [
       "<pandas.io.formats.style.Styler at 0x1cbf5ba3a58>"
      ]
     },
     "execution_count": 23,
     "metadata": {},
     "output_type": "execute_result"
    }
   ],
   "source": [
    "# Bonferroni-corrected post hocs with Hedges'g effect size\n",
    "posthoc = pg.pairwise_ttests(data=data[data.intervals=='450 - 550'], dv='value', between='category', subject='subs',\n",
    "                             parametric=True, padjust='bonferroni', effsize='hedges')\n",
    "\n",
    "# Pretty printing of table\n",
    "posthoc.style.applymap(color_significant, subset=['p-corr'])"
   ]
  },
  {
   "cell_type": "code",
   "execution_count": 24,
   "metadata": {},
   "outputs": [
    {
     "data": {
      "text/html": [
       "<style  type=\"text/css\" >\n",
       "    #T_42afdf4a_a8c0_11e9_9243_34de1a2c1766row0_col9 {\n",
       "            color:  red;\n",
       "        }    #T_42afdf4a_a8c0_11e9_9243_34de1a2c1766row1_col9 {\n",
       "            color:  black;\n",
       "        }    #T_42afdf4a_a8c0_11e9_9243_34de1a2c1766row2_col9 {\n",
       "            color:  black;\n",
       "        }</style><table id=\"T_42afdf4a_a8c0_11e9_9243_34de1a2c1766\" ><thead>    <tr>        <th class=\"blank level0\" ></th>        <th class=\"col_heading level0 col0\" >Contrast</th>        <th class=\"col_heading level0 col1\" >A</th>        <th class=\"col_heading level0 col2\" >B</th>        <th class=\"col_heading level0 col3\" >Paired</th>        <th class=\"col_heading level0 col4\" >Parametric</th>        <th class=\"col_heading level0 col5\" >T</th>        <th class=\"col_heading level0 col6\" >dof</th>        <th class=\"col_heading level0 col7\" >tail</th>        <th class=\"col_heading level0 col8\" >p-unc</th>        <th class=\"col_heading level0 col9\" >p-corr</th>        <th class=\"col_heading level0 col10\" >p-adjust</th>        <th class=\"col_heading level0 col11\" >BF10</th>        <th class=\"col_heading level0 col12\" >CLES</th>        <th class=\"col_heading level0 col13\" >hedges</th>    </tr></thead><tbody>\n",
       "                <tr>\n",
       "                        <th id=\"T_42afdf4a_a8c0_11e9_9243_34de1a2c1766level0_row0\" class=\"row_heading level0 row0\" >0</th>\n",
       "                        <td id=\"T_42afdf4a_a8c0_11e9_9243_34de1a2c1766row0_col0\" class=\"data row0 col0\" >category</td>\n",
       "                        <td id=\"T_42afdf4a_a8c0_11e9_9243_34de1a2c1766row0_col1\" class=\"data row0 col1\" >ensemble</td>\n",
       "                        <td id=\"T_42afdf4a_a8c0_11e9_9243_34de1a2c1766row0_col2\" class=\"data row0 col2\" >words</td>\n",
       "                        <td id=\"T_42afdf4a_a8c0_11e9_9243_34de1a2c1766row0_col3\" class=\"data row0 col3\" >False</td>\n",
       "                        <td id=\"T_42afdf4a_a8c0_11e9_9243_34de1a2c1766row0_col4\" class=\"data row0 col4\" >True</td>\n",
       "                        <td id=\"T_42afdf4a_a8c0_11e9_9243_34de1a2c1766row0_col5\" class=\"data row0 col5\" >2.714</td>\n",
       "                        <td id=\"T_42afdf4a_a8c0_11e9_9243_34de1a2c1766row0_col6\" class=\"data row0 col6\" >26</td>\n",
       "                        <td id=\"T_42afdf4a_a8c0_11e9_9243_34de1a2c1766row0_col7\" class=\"data row0 col7\" >two-sided</td>\n",
       "                        <td id=\"T_42afdf4a_a8c0_11e9_9243_34de1a2c1766row0_col8\" class=\"data row0 col8\" >0.0116538</td>\n",
       "                        <td id=\"T_42afdf4a_a8c0_11e9_9243_34de1a2c1766row0_col9\" class=\"data row0 col9\" >0.0349613</td>\n",
       "                        <td id=\"T_42afdf4a_a8c0_11e9_9243_34de1a2c1766row0_col10\" class=\"data row0 col10\" >bonferroni</td>\n",
       "                        <td id=\"T_42afdf4a_a8c0_11e9_9243_34de1a2c1766row0_col11\" class=\"data row0 col11\" >4.559</td>\n",
       "                        <td id=\"T_42afdf4a_a8c0_11e9_9243_34de1a2c1766row0_col12\" class=\"data row0 col12\" >0.735</td>\n",
       "                        <td id=\"T_42afdf4a_a8c0_11e9_9243_34de1a2c1766row0_col13\" class=\"data row0 col13\" >0.996</td>\n",
       "            </tr>\n",
       "            <tr>\n",
       "                        <th id=\"T_42afdf4a_a8c0_11e9_9243_34de1a2c1766level0_row1\" class=\"row_heading level0 row1\" >1</th>\n",
       "                        <td id=\"T_42afdf4a_a8c0_11e9_9243_34de1a2c1766row1_col0\" class=\"data row1 col0\" >category</td>\n",
       "                        <td id=\"T_42afdf4a_a8c0_11e9_9243_34de1a2c1766row1_col1\" class=\"data row1 col1\" >ensemble</td>\n",
       "                        <td id=\"T_42afdf4a_a8c0_11e9_9243_34de1a2c1766row1_col2\" class=\"data row1 col2\" >faces</td>\n",
       "                        <td id=\"T_42afdf4a_a8c0_11e9_9243_34de1a2c1766row1_col3\" class=\"data row1 col3\" >False</td>\n",
       "                        <td id=\"T_42afdf4a_a8c0_11e9_9243_34de1a2c1766row1_col4\" class=\"data row1 col4\" >True</td>\n",
       "                        <td id=\"T_42afdf4a_a8c0_11e9_9243_34de1a2c1766row1_col5\" class=\"data row1 col5\" >2.316</td>\n",
       "                        <td id=\"T_42afdf4a_a8c0_11e9_9243_34de1a2c1766row1_col6\" class=\"data row1 col6\" >21.11</td>\n",
       "                        <td id=\"T_42afdf4a_a8c0_11e9_9243_34de1a2c1766row1_col7\" class=\"data row1 col7\" >two-sided</td>\n",
       "                        <td id=\"T_42afdf4a_a8c0_11e9_9243_34de1a2c1766row1_col8\" class=\"data row1 col8\" >0.0306833</td>\n",
       "                        <td id=\"T_42afdf4a_a8c0_11e9_9243_34de1a2c1766row1_col9\" class=\"data row1 col9\" >0.0920498</td>\n",
       "                        <td id=\"T_42afdf4a_a8c0_11e9_9243_34de1a2c1766row1_col10\" class=\"data row1 col10\" >bonferroni</td>\n",
       "                        <td id=\"T_42afdf4a_a8c0_11e9_9243_34de1a2c1766row1_col11\" class=\"data row1 col11\" >2.363</td>\n",
       "                        <td id=\"T_42afdf4a_a8c0_11e9_9243_34de1a2c1766row1_col12\" class=\"data row1 col12\" >0.725</td>\n",
       "                        <td id=\"T_42afdf4a_a8c0_11e9_9243_34de1a2c1766row1_col13\" class=\"data row1 col13\" >0.849</td>\n",
       "            </tr>\n",
       "            <tr>\n",
       "                        <th id=\"T_42afdf4a_a8c0_11e9_9243_34de1a2c1766level0_row2\" class=\"row_heading level0 row2\" >2</th>\n",
       "                        <td id=\"T_42afdf4a_a8c0_11e9_9243_34de1a2c1766row2_col0\" class=\"data row2 col0\" >category</td>\n",
       "                        <td id=\"T_42afdf4a_a8c0_11e9_9243_34de1a2c1766row2_col1\" class=\"data row2 col1\" >words</td>\n",
       "                        <td id=\"T_42afdf4a_a8c0_11e9_9243_34de1a2c1766row2_col2\" class=\"data row2 col2\" >faces</td>\n",
       "                        <td id=\"T_42afdf4a_a8c0_11e9_9243_34de1a2c1766row2_col3\" class=\"data row2 col3\" >False</td>\n",
       "                        <td id=\"T_42afdf4a_a8c0_11e9_9243_34de1a2c1766row2_col4\" class=\"data row2 col4\" >True</td>\n",
       "                        <td id=\"T_42afdf4a_a8c0_11e9_9243_34de1a2c1766row2_col5\" class=\"data row2 col5\" >-0.865</td>\n",
       "                        <td id=\"T_42afdf4a_a8c0_11e9_9243_34de1a2c1766row2_col6\" class=\"data row2 col6\" >22.51</td>\n",
       "                        <td id=\"T_42afdf4a_a8c0_11e9_9243_34de1a2c1766row2_col7\" class=\"data row2 col7\" >two-sided</td>\n",
       "                        <td id=\"T_42afdf4a_a8c0_11e9_9243_34de1a2c1766row2_col8\" class=\"data row2 col8\" >0.395979</td>\n",
       "                        <td id=\"T_42afdf4a_a8c0_11e9_9243_34de1a2c1766row2_col9\" class=\"data row2 col9\" >1</td>\n",
       "                        <td id=\"T_42afdf4a_a8c0_11e9_9243_34de1a2c1766row2_col10\" class=\"data row2 col10\" >bonferroni</td>\n",
       "                        <td id=\"T_42afdf4a_a8c0_11e9_9243_34de1a2c1766row2_col11\" class=\"data row2 col11\" >0.473</td>\n",
       "                        <td id=\"T_42afdf4a_a8c0_11e9_9243_34de1a2c1766row2_col12\" class=\"data row2 col12\" >0.544</td>\n",
       "                        <td id=\"T_42afdf4a_a8c0_11e9_9243_34de1a2c1766row2_col13\" class=\"data row2 col13\" >-0.318</td>\n",
       "            </tr>\n",
       "    </tbody></table>"
      ],
      "text/plain": [
       "<pandas.io.formats.style.Styler at 0x1cbf5bf0e10>"
      ]
     },
     "execution_count": 24,
     "metadata": {},
     "output_type": "execute_result"
    }
   ],
   "source": [
    "# Bonferroni-corrected post hocs with Hedges'g effect size\n",
    "posthoc = pg.pairwise_ttests(data=data[data.intervals=='550 - 650'], dv='value', between='category', subject='subs',\n",
    "                             parametric=True, padjust='bonferroni', effsize='hedges')\n",
    "\n",
    "# Pretty printing of table\n",
    "posthoc.style.applymap(color_significant, subset=['p-corr'])"
   ]
  },
  {
   "cell_type": "code",
   "execution_count": 25,
   "metadata": {},
   "outputs": [
    {
     "data": {
      "text/html": [
       "<style  type=\"text/css\" >\n",
       "    #T_4347fe4c_a8c0_11e9_81bd_34de1a2c1766row0_col9 {\n",
       "            color:  black;\n",
       "        }    #T_4347fe4c_a8c0_11e9_81bd_34de1a2c1766row1_col9 {\n",
       "            color:  black;\n",
       "        }    #T_4347fe4c_a8c0_11e9_81bd_34de1a2c1766row2_col9 {\n",
       "            color:  red;\n",
       "        }    #T_4347fe4c_a8c0_11e9_81bd_34de1a2c1766row3_col9 {\n",
       "            color:  red;\n",
       "        }    #T_4347fe4c_a8c0_11e9_81bd_34de1a2c1766row4_col9 {\n",
       "            color:  red;\n",
       "        }    #T_4347fe4c_a8c0_11e9_81bd_34de1a2c1766row5_col9 {\n",
       "            color:  black;\n",
       "        }    #T_4347fe4c_a8c0_11e9_81bd_34de1a2c1766row6_col9 {\n",
       "            color:  black;\n",
       "        }    #T_4347fe4c_a8c0_11e9_81bd_34de1a2c1766row7_col9 {\n",
       "            color:  black;\n",
       "        }    #T_4347fe4c_a8c0_11e9_81bd_34de1a2c1766row8_col9 {\n",
       "            color:  black;\n",
       "        }    #T_4347fe4c_a8c0_11e9_81bd_34de1a2c1766row9_col9 {\n",
       "            color:  black;\n",
       "        }    #T_4347fe4c_a8c0_11e9_81bd_34de1a2c1766row10_col9 {\n",
       "            color:  black;\n",
       "        }    #T_4347fe4c_a8c0_11e9_81bd_34de1a2c1766row11_col9 {\n",
       "            color:  black;\n",
       "        }    #T_4347fe4c_a8c0_11e9_81bd_34de1a2c1766row12_col9 {\n",
       "            color:  black;\n",
       "        }    #T_4347fe4c_a8c0_11e9_81bd_34de1a2c1766row13_col9 {\n",
       "            color:  black;\n",
       "        }    #T_4347fe4c_a8c0_11e9_81bd_34de1a2c1766row14_col9 {\n",
       "            color:  black;\n",
       "        }</style><table id=\"T_4347fe4c_a8c0_11e9_81bd_34de1a2c1766\" ><thead>    <tr>        <th class=\"blank level0\" ></th>        <th class=\"col_heading level0 col0\" >Contrast</th>        <th class=\"col_heading level0 col1\" >A</th>        <th class=\"col_heading level0 col2\" >B</th>        <th class=\"col_heading level0 col3\" >Paired</th>        <th class=\"col_heading level0 col4\" >Parametric</th>        <th class=\"col_heading level0 col5\" >T</th>        <th class=\"col_heading level0 col6\" >dof</th>        <th class=\"col_heading level0 col7\" >tail</th>        <th class=\"col_heading level0 col8\" >p-unc</th>        <th class=\"col_heading level0 col9\" >p-corr</th>        <th class=\"col_heading level0 col10\" >p-adjust</th>        <th class=\"col_heading level0 col11\" >BF10</th>        <th class=\"col_heading level0 col12\" >CLES</th>        <th class=\"col_heading level0 col13\" >hedges</th>    </tr></thead><tbody>\n",
       "                <tr>\n",
       "                        <th id=\"T_4347fe4c_a8c0_11e9_81bd_34de1a2c1766level0_row0\" class=\"row_heading level0 row0\" >0</th>\n",
       "                        <td id=\"T_4347fe4c_a8c0_11e9_81bd_34de1a2c1766row0_col0\" class=\"data row0 col0\" >intervals</td>\n",
       "                        <td id=\"T_4347fe4c_a8c0_11e9_81bd_34de1a2c1766row0_col1\" class=\"data row0 col1\" >150 - 250</td>\n",
       "                        <td id=\"T_4347fe4c_a8c0_11e9_81bd_34de1a2c1766row0_col2\" class=\"data row0 col2\" >250 - 350</td>\n",
       "                        <td id=\"T_4347fe4c_a8c0_11e9_81bd_34de1a2c1766row0_col3\" class=\"data row0 col3\" >True</td>\n",
       "                        <td id=\"T_4347fe4c_a8c0_11e9_81bd_34de1a2c1766row0_col4\" class=\"data row0 col4\" >True</td>\n",
       "                        <td id=\"T_4347fe4c_a8c0_11e9_81bd_34de1a2c1766row0_col5\" class=\"data row0 col5\" >2.957</td>\n",
       "                        <td id=\"T_4347fe4c_a8c0_11e9_81bd_34de1a2c1766row0_col6\" class=\"data row0 col6\" >13</td>\n",
       "                        <td id=\"T_4347fe4c_a8c0_11e9_81bd_34de1a2c1766row0_col7\" class=\"data row0 col7\" >two-sided</td>\n",
       "                        <td id=\"T_4347fe4c_a8c0_11e9_81bd_34de1a2c1766row0_col8\" class=\"data row0 col8\" >0.0111115</td>\n",
       "                        <td id=\"T_4347fe4c_a8c0_11e9_81bd_34de1a2c1766row0_col9\" class=\"data row0 col9\" >0.166673</td>\n",
       "                        <td id=\"T_4347fe4c_a8c0_11e9_81bd_34de1a2c1766row0_col10\" class=\"data row0 col10\" >bonferroni</td>\n",
       "                        <td id=\"T_4347fe4c_a8c0_11e9_81bd_34de1a2c1766row0_col11\" class=\"data row0 col11\" >5.209</td>\n",
       "                        <td id=\"T_4347fe4c_a8c0_11e9_81bd_34de1a2c1766row0_col12\" class=\"data row0 col12\" >0.816</td>\n",
       "                        <td id=\"T_4347fe4c_a8c0_11e9_81bd_34de1a2c1766row0_col13\" class=\"data row0 col13\" >1.261</td>\n",
       "            </tr>\n",
       "            <tr>\n",
       "                        <th id=\"T_4347fe4c_a8c0_11e9_81bd_34de1a2c1766level0_row1\" class=\"row_heading level0 row1\" >1</th>\n",
       "                        <td id=\"T_4347fe4c_a8c0_11e9_81bd_34de1a2c1766row1_col0\" class=\"data row1 col0\" >intervals</td>\n",
       "                        <td id=\"T_4347fe4c_a8c0_11e9_81bd_34de1a2c1766row1_col1\" class=\"data row1 col1\" >150 - 250</td>\n",
       "                        <td id=\"T_4347fe4c_a8c0_11e9_81bd_34de1a2c1766row1_col2\" class=\"data row1 col2\" >350 - 450</td>\n",
       "                        <td id=\"T_4347fe4c_a8c0_11e9_81bd_34de1a2c1766row1_col3\" class=\"data row1 col3\" >True</td>\n",
       "                        <td id=\"T_4347fe4c_a8c0_11e9_81bd_34de1a2c1766row1_col4\" class=\"data row1 col4\" >True</td>\n",
       "                        <td id=\"T_4347fe4c_a8c0_11e9_81bd_34de1a2c1766row1_col5\" class=\"data row1 col5\" >2.8</td>\n",
       "                        <td id=\"T_4347fe4c_a8c0_11e9_81bd_34de1a2c1766row1_col6\" class=\"data row1 col6\" >13</td>\n",
       "                        <td id=\"T_4347fe4c_a8c0_11e9_81bd_34de1a2c1766row1_col7\" class=\"data row1 col7\" >two-sided</td>\n",
       "                        <td id=\"T_4347fe4c_a8c0_11e9_81bd_34de1a2c1766row1_col8\" class=\"data row1 col8\" >0.0150291</td>\n",
       "                        <td id=\"T_4347fe4c_a8c0_11e9_81bd_34de1a2c1766row1_col9\" class=\"data row1 col9\" >0.225437</td>\n",
       "                        <td id=\"T_4347fe4c_a8c0_11e9_81bd_34de1a2c1766row1_col10\" class=\"data row1 col10\" >bonferroni</td>\n",
       "                        <td id=\"T_4347fe4c_a8c0_11e9_81bd_34de1a2c1766row1_col11\" class=\"data row1 col11\" >4.075</td>\n",
       "                        <td id=\"T_4347fe4c_a8c0_11e9_81bd_34de1a2c1766row1_col12\" class=\"data row1 col12\" >0.816</td>\n",
       "                        <td id=\"T_4347fe4c_a8c0_11e9_81bd_34de1a2c1766row1_col13\" class=\"data row1 col13\" >1.299</td>\n",
       "            </tr>\n",
       "            <tr>\n",
       "                        <th id=\"T_4347fe4c_a8c0_11e9_81bd_34de1a2c1766level0_row2\" class=\"row_heading level0 row2\" >2</th>\n",
       "                        <td id=\"T_4347fe4c_a8c0_11e9_81bd_34de1a2c1766row2_col0\" class=\"data row2 col0\" >intervals</td>\n",
       "                        <td id=\"T_4347fe4c_a8c0_11e9_81bd_34de1a2c1766row2_col1\" class=\"data row2 col1\" >150 - 250</td>\n",
       "                        <td id=\"T_4347fe4c_a8c0_11e9_81bd_34de1a2c1766row2_col2\" class=\"data row2 col2\" >450 - 550</td>\n",
       "                        <td id=\"T_4347fe4c_a8c0_11e9_81bd_34de1a2c1766row2_col3\" class=\"data row2 col3\" >True</td>\n",
       "                        <td id=\"T_4347fe4c_a8c0_11e9_81bd_34de1a2c1766row2_col4\" class=\"data row2 col4\" >True</td>\n",
       "                        <td id=\"T_4347fe4c_a8c0_11e9_81bd_34de1a2c1766row2_col5\" class=\"data row2 col5\" >4.028</td>\n",
       "                        <td id=\"T_4347fe4c_a8c0_11e9_81bd_34de1a2c1766row2_col6\" class=\"data row2 col6\" >13</td>\n",
       "                        <td id=\"T_4347fe4c_a8c0_11e9_81bd_34de1a2c1766row2_col7\" class=\"data row2 col7\" >two-sided</td>\n",
       "                        <td id=\"T_4347fe4c_a8c0_11e9_81bd_34de1a2c1766row2_col8\" class=\"data row2 col8\" >0.00143334</td>\n",
       "                        <td id=\"T_4347fe4c_a8c0_11e9_81bd_34de1a2c1766row2_col9\" class=\"data row2 col9\" >0.0215001</td>\n",
       "                        <td id=\"T_4347fe4c_a8c0_11e9_81bd_34de1a2c1766row2_col10\" class=\"data row2 col10\" >bonferroni</td>\n",
       "                        <td id=\"T_4347fe4c_a8c0_11e9_81bd_34de1a2c1766row2_col11\" class=\"data row2 col11\" >28.811</td>\n",
       "                        <td id=\"T_4347fe4c_a8c0_11e9_81bd_34de1a2c1766row2_col12\" class=\"data row2 col12\" >0.908</td>\n",
       "                        <td id=\"T_4347fe4c_a8c0_11e9_81bd_34de1a2c1766row2_col13\" class=\"data row2 col13\" >1.844</td>\n",
       "            </tr>\n",
       "            <tr>\n",
       "                        <th id=\"T_4347fe4c_a8c0_11e9_81bd_34de1a2c1766level0_row3\" class=\"row_heading level0 row3\" >3</th>\n",
       "                        <td id=\"T_4347fe4c_a8c0_11e9_81bd_34de1a2c1766row3_col0\" class=\"data row3 col0\" >intervals</td>\n",
       "                        <td id=\"T_4347fe4c_a8c0_11e9_81bd_34de1a2c1766row3_col1\" class=\"data row3 col1\" >150 - 250</td>\n",
       "                        <td id=\"T_4347fe4c_a8c0_11e9_81bd_34de1a2c1766row3_col2\" class=\"data row3 col2\" >50 - 150</td>\n",
       "                        <td id=\"T_4347fe4c_a8c0_11e9_81bd_34de1a2c1766row3_col3\" class=\"data row3 col3\" >True</td>\n",
       "                        <td id=\"T_4347fe4c_a8c0_11e9_81bd_34de1a2c1766row3_col4\" class=\"data row3 col4\" >True</td>\n",
       "                        <td id=\"T_4347fe4c_a8c0_11e9_81bd_34de1a2c1766row3_col5\" class=\"data row3 col5\" >4.89</td>\n",
       "                        <td id=\"T_4347fe4c_a8c0_11e9_81bd_34de1a2c1766row3_col6\" class=\"data row3 col6\" >13</td>\n",
       "                        <td id=\"T_4347fe4c_a8c0_11e9_81bd_34de1a2c1766row3_col7\" class=\"data row3 col7\" >two-sided</td>\n",
       "                        <td id=\"T_4347fe4c_a8c0_11e9_81bd_34de1a2c1766row3_col8\" class=\"data row3 col8\" >0.000295489</td>\n",
       "                        <td id=\"T_4347fe4c_a8c0_11e9_81bd_34de1a2c1766row3_col9\" class=\"data row3 col9\" >0.00443233</td>\n",
       "                        <td id=\"T_4347fe4c_a8c0_11e9_81bd_34de1a2c1766row3_col10\" class=\"data row3 col10\" >bonferroni</td>\n",
       "                        <td id=\"T_4347fe4c_a8c0_11e9_81bd_34de1a2c1766row3_col11\" class=\"data row3 col11\" >111.888</td>\n",
       "                        <td id=\"T_4347fe4c_a8c0_11e9_81bd_34de1a2c1766row3_col12\" class=\"data row3 col12\" >0.893</td>\n",
       "                        <td id=\"T_4347fe4c_a8c0_11e9_81bd_34de1a2c1766row3_col13\" class=\"data row3 col13\" >1.334</td>\n",
       "            </tr>\n",
       "            <tr>\n",
       "                        <th id=\"T_4347fe4c_a8c0_11e9_81bd_34de1a2c1766level0_row4\" class=\"row_heading level0 row4\" >4</th>\n",
       "                        <td id=\"T_4347fe4c_a8c0_11e9_81bd_34de1a2c1766row4_col0\" class=\"data row4 col0\" >intervals</td>\n",
       "                        <td id=\"T_4347fe4c_a8c0_11e9_81bd_34de1a2c1766row4_col1\" class=\"data row4 col1\" >150 - 250</td>\n",
       "                        <td id=\"T_4347fe4c_a8c0_11e9_81bd_34de1a2c1766row4_col2\" class=\"data row4 col2\" >550 - 650</td>\n",
       "                        <td id=\"T_4347fe4c_a8c0_11e9_81bd_34de1a2c1766row4_col3\" class=\"data row4 col3\" >True</td>\n",
       "                        <td id=\"T_4347fe4c_a8c0_11e9_81bd_34de1a2c1766row4_col4\" class=\"data row4 col4\" >True</td>\n",
       "                        <td id=\"T_4347fe4c_a8c0_11e9_81bd_34de1a2c1766row4_col5\" class=\"data row4 col5\" >3.62</td>\n",
       "                        <td id=\"T_4347fe4c_a8c0_11e9_81bd_34de1a2c1766row4_col6\" class=\"data row4 col6\" >13</td>\n",
       "                        <td id=\"T_4347fe4c_a8c0_11e9_81bd_34de1a2c1766row4_col7\" class=\"data row4 col7\" >two-sided</td>\n",
       "                        <td id=\"T_4347fe4c_a8c0_11e9_81bd_34de1a2c1766row4_col8\" class=\"data row4 col8\" >0.00310873</td>\n",
       "                        <td id=\"T_4347fe4c_a8c0_11e9_81bd_34de1a2c1766row4_col9\" class=\"data row4 col9\" >0.0466309</td>\n",
       "                        <td id=\"T_4347fe4c_a8c0_11e9_81bd_34de1a2c1766row4_col10\" class=\"data row4 col10\" >bonferroni</td>\n",
       "                        <td id=\"T_4347fe4c_a8c0_11e9_81bd_34de1a2c1766row4_col11\" class=\"data row4 col11\" >14.974</td>\n",
       "                        <td id=\"T_4347fe4c_a8c0_11e9_81bd_34de1a2c1766row4_col12\" class=\"data row4 col12\" >0.903</td>\n",
       "                        <td id=\"T_4347fe4c_a8c0_11e9_81bd_34de1a2c1766row4_col13\" class=\"data row4 col13\" >1.603</td>\n",
       "            </tr>\n",
       "            <tr>\n",
       "                        <th id=\"T_4347fe4c_a8c0_11e9_81bd_34de1a2c1766level0_row5\" class=\"row_heading level0 row5\" >5</th>\n",
       "                        <td id=\"T_4347fe4c_a8c0_11e9_81bd_34de1a2c1766row5_col0\" class=\"data row5 col0\" >intervals</td>\n",
       "                        <td id=\"T_4347fe4c_a8c0_11e9_81bd_34de1a2c1766row5_col1\" class=\"data row5 col1\" >250 - 350</td>\n",
       "                        <td id=\"T_4347fe4c_a8c0_11e9_81bd_34de1a2c1766row5_col2\" class=\"data row5 col2\" >350 - 450</td>\n",
       "                        <td id=\"T_4347fe4c_a8c0_11e9_81bd_34de1a2c1766row5_col3\" class=\"data row5 col3\" >True</td>\n",
       "                        <td id=\"T_4347fe4c_a8c0_11e9_81bd_34de1a2c1766row5_col4\" class=\"data row5 col4\" >True</td>\n",
       "                        <td id=\"T_4347fe4c_a8c0_11e9_81bd_34de1a2c1766row5_col5\" class=\"data row5 col5\" >0.195</td>\n",
       "                        <td id=\"T_4347fe4c_a8c0_11e9_81bd_34de1a2c1766row5_col6\" class=\"data row5 col6\" >13</td>\n",
       "                        <td id=\"T_4347fe4c_a8c0_11e9_81bd_34de1a2c1766row5_col7\" class=\"data row5 col7\" >two-sided</td>\n",
       "                        <td id=\"T_4347fe4c_a8c0_11e9_81bd_34de1a2c1766row5_col8\" class=\"data row5 col8\" >0.848493</td>\n",
       "                        <td id=\"T_4347fe4c_a8c0_11e9_81bd_34de1a2c1766row5_col9\" class=\"data row5 col9\" >1</td>\n",
       "                        <td id=\"T_4347fe4c_a8c0_11e9_81bd_34de1a2c1766row5_col10\" class=\"data row5 col10\" >bonferroni</td>\n",
       "                        <td id=\"T_4347fe4c_a8c0_11e9_81bd_34de1a2c1766row5_col11\" class=\"data row5 col11\" >0.275</td>\n",
       "                        <td id=\"T_4347fe4c_a8c0_11e9_81bd_34de1a2c1766row5_col12\" class=\"data row5 col12\" >0.526</td>\n",
       "                        <td id=\"T_4347fe4c_a8c0_11e9_81bd_34de1a2c1766row5_col13\" class=\"data row5 col13\" >0.054</td>\n",
       "            </tr>\n",
       "            <tr>\n",
       "                        <th id=\"T_4347fe4c_a8c0_11e9_81bd_34de1a2c1766level0_row6\" class=\"row_heading level0 row6\" >6</th>\n",
       "                        <td id=\"T_4347fe4c_a8c0_11e9_81bd_34de1a2c1766row6_col0\" class=\"data row6 col0\" >intervals</td>\n",
       "                        <td id=\"T_4347fe4c_a8c0_11e9_81bd_34de1a2c1766row6_col1\" class=\"data row6 col1\" >250 - 350</td>\n",
       "                        <td id=\"T_4347fe4c_a8c0_11e9_81bd_34de1a2c1766row6_col2\" class=\"data row6 col2\" >450 - 550</td>\n",
       "                        <td id=\"T_4347fe4c_a8c0_11e9_81bd_34de1a2c1766row6_col3\" class=\"data row6 col3\" >True</td>\n",
       "                        <td id=\"T_4347fe4c_a8c0_11e9_81bd_34de1a2c1766row6_col4\" class=\"data row6 col4\" >True</td>\n",
       "                        <td id=\"T_4347fe4c_a8c0_11e9_81bd_34de1a2c1766row6_col5\" class=\"data row6 col5\" >1.945</td>\n",
       "                        <td id=\"T_4347fe4c_a8c0_11e9_81bd_34de1a2c1766row6_col6\" class=\"data row6 col6\" >13</td>\n",
       "                        <td id=\"T_4347fe4c_a8c0_11e9_81bd_34de1a2c1766row6_col7\" class=\"data row6 col7\" >two-sided</td>\n",
       "                        <td id=\"T_4347fe4c_a8c0_11e9_81bd_34de1a2c1766row6_col8\" class=\"data row6 col8\" >0.0736886</td>\n",
       "                        <td id=\"T_4347fe4c_a8c0_11e9_81bd_34de1a2c1766row6_col9\" class=\"data row6 col9\" >1</td>\n",
       "                        <td id=\"T_4347fe4c_a8c0_11e9_81bd_34de1a2c1766row6_col10\" class=\"data row6 col10\" >bonferroni</td>\n",
       "                        <td id=\"T_4347fe4c_a8c0_11e9_81bd_34de1a2c1766row6_col11\" class=\"data row6 col11\" >1.172</td>\n",
       "                        <td id=\"T_4347fe4c_a8c0_11e9_81bd_34de1a2c1766row6_col12\" class=\"data row6 col12\" >0.679</td>\n",
       "                        <td id=\"T_4347fe4c_a8c0_11e9_81bd_34de1a2c1766row6_col13\" class=\"data row6 col13\" >0.644</td>\n",
       "            </tr>\n",
       "            <tr>\n",
       "                        <th id=\"T_4347fe4c_a8c0_11e9_81bd_34de1a2c1766level0_row7\" class=\"row_heading level0 row7\" >7</th>\n",
       "                        <td id=\"T_4347fe4c_a8c0_11e9_81bd_34de1a2c1766row7_col0\" class=\"data row7 col0\" >intervals</td>\n",
       "                        <td id=\"T_4347fe4c_a8c0_11e9_81bd_34de1a2c1766row7_col1\" class=\"data row7 col1\" >250 - 350</td>\n",
       "                        <td id=\"T_4347fe4c_a8c0_11e9_81bd_34de1a2c1766row7_col2\" class=\"data row7 col2\" >50 - 150</td>\n",
       "                        <td id=\"T_4347fe4c_a8c0_11e9_81bd_34de1a2c1766row7_col3\" class=\"data row7 col3\" >True</td>\n",
       "                        <td id=\"T_4347fe4c_a8c0_11e9_81bd_34de1a2c1766row7_col4\" class=\"data row7 col4\" >True</td>\n",
       "                        <td id=\"T_4347fe4c_a8c0_11e9_81bd_34de1a2c1766row7_col5\" class=\"data row7 col5\" >1.044</td>\n",
       "                        <td id=\"T_4347fe4c_a8c0_11e9_81bd_34de1a2c1766row7_col6\" class=\"data row7 col6\" >13</td>\n",
       "                        <td id=\"T_4347fe4c_a8c0_11e9_81bd_34de1a2c1766row7_col7\" class=\"data row7 col7\" >two-sided</td>\n",
       "                        <td id=\"T_4347fe4c_a8c0_11e9_81bd_34de1a2c1766row7_col8\" class=\"data row7 col8\" >0.315482</td>\n",
       "                        <td id=\"T_4347fe4c_a8c0_11e9_81bd_34de1a2c1766row7_col9\" class=\"data row7 col9\" >1</td>\n",
       "                        <td id=\"T_4347fe4c_a8c0_11e9_81bd_34de1a2c1766row7_col10\" class=\"data row7 col10\" >bonferroni</td>\n",
       "                        <td id=\"T_4347fe4c_a8c0_11e9_81bd_34de1a2c1766row7_col11\" class=\"data row7 col11\" >0.429</td>\n",
       "                        <td id=\"T_4347fe4c_a8c0_11e9_81bd_34de1a2c1766row7_col12\" class=\"data row7 col12\" >0.704</td>\n",
       "                        <td id=\"T_4347fe4c_a8c0_11e9_81bd_34de1a2c1766row7_col13\" class=\"data row7 col13\" >0.462</td>\n",
       "            </tr>\n",
       "            <tr>\n",
       "                        <th id=\"T_4347fe4c_a8c0_11e9_81bd_34de1a2c1766level0_row8\" class=\"row_heading level0 row8\" >8</th>\n",
       "                        <td id=\"T_4347fe4c_a8c0_11e9_81bd_34de1a2c1766row8_col0\" class=\"data row8 col0\" >intervals</td>\n",
       "                        <td id=\"T_4347fe4c_a8c0_11e9_81bd_34de1a2c1766row8_col1\" class=\"data row8 col1\" >250 - 350</td>\n",
       "                        <td id=\"T_4347fe4c_a8c0_11e9_81bd_34de1a2c1766row8_col2\" class=\"data row8 col2\" >550 - 650</td>\n",
       "                        <td id=\"T_4347fe4c_a8c0_11e9_81bd_34de1a2c1766row8_col3\" class=\"data row8 col3\" >True</td>\n",
       "                        <td id=\"T_4347fe4c_a8c0_11e9_81bd_34de1a2c1766row8_col4\" class=\"data row8 col4\" >True</td>\n",
       "                        <td id=\"T_4347fe4c_a8c0_11e9_81bd_34de1a2c1766row8_col5\" class=\"data row8 col5\" >1.489</td>\n",
       "                        <td id=\"T_4347fe4c_a8c0_11e9_81bd_34de1a2c1766row8_col6\" class=\"data row8 col6\" >13</td>\n",
       "                        <td id=\"T_4347fe4c_a8c0_11e9_81bd_34de1a2c1766row8_col7\" class=\"data row8 col7\" >two-sided</td>\n",
       "                        <td id=\"T_4347fe4c_a8c0_11e9_81bd_34de1a2c1766row8_col8\" class=\"data row8 col8\" >0.160428</td>\n",
       "                        <td id=\"T_4347fe4c_a8c0_11e9_81bd_34de1a2c1766row8_col9\" class=\"data row8 col9\" >1</td>\n",
       "                        <td id=\"T_4347fe4c_a8c0_11e9_81bd_34de1a2c1766row8_col10\" class=\"data row8 col10\" >bonferroni</td>\n",
       "                        <td id=\"T_4347fe4c_a8c0_11e9_81bd_34de1a2c1766row8_col11\" class=\"data row8 col11\" >0.667</td>\n",
       "                        <td id=\"T_4347fe4c_a8c0_11e9_81bd_34de1a2c1766row8_col12\" class=\"data row8 col12\" >0.638</td>\n",
       "                        <td id=\"T_4347fe4c_a8c0_11e9_81bd_34de1a2c1766row8_col13\" class=\"data row8 col13\" >0.632</td>\n",
       "            </tr>\n",
       "            <tr>\n",
       "                        <th id=\"T_4347fe4c_a8c0_11e9_81bd_34de1a2c1766level0_row9\" class=\"row_heading level0 row9\" >9</th>\n",
       "                        <td id=\"T_4347fe4c_a8c0_11e9_81bd_34de1a2c1766row9_col0\" class=\"data row9 col0\" >intervals</td>\n",
       "                        <td id=\"T_4347fe4c_a8c0_11e9_81bd_34de1a2c1766row9_col1\" class=\"data row9 col1\" >350 - 450</td>\n",
       "                        <td id=\"T_4347fe4c_a8c0_11e9_81bd_34de1a2c1766row9_col2\" class=\"data row9 col2\" >450 - 550</td>\n",
       "                        <td id=\"T_4347fe4c_a8c0_11e9_81bd_34de1a2c1766row9_col3\" class=\"data row9 col3\" >True</td>\n",
       "                        <td id=\"T_4347fe4c_a8c0_11e9_81bd_34de1a2c1766row9_col4\" class=\"data row9 col4\" >True</td>\n",
       "                        <td id=\"T_4347fe4c_a8c0_11e9_81bd_34de1a2c1766row9_col5\" class=\"data row9 col5\" >1.742</td>\n",
       "                        <td id=\"T_4347fe4c_a8c0_11e9_81bd_34de1a2c1766row9_col6\" class=\"data row9 col6\" >13</td>\n",
       "                        <td id=\"T_4347fe4c_a8c0_11e9_81bd_34de1a2c1766row9_col7\" class=\"data row9 col7\" >two-sided</td>\n",
       "                        <td id=\"T_4347fe4c_a8c0_11e9_81bd_34de1a2c1766row9_col8\" class=\"data row9 col8\" >0.105133</td>\n",
       "                        <td id=\"T_4347fe4c_a8c0_11e9_81bd_34de1a2c1766row9_col9\" class=\"data row9 col9\" >1</td>\n",
       "                        <td id=\"T_4347fe4c_a8c0_11e9_81bd_34de1a2c1766row9_col10\" class=\"data row9 col10\" >bonferroni</td>\n",
       "                        <td id=\"T_4347fe4c_a8c0_11e9_81bd_34de1a2c1766row9_col11\" class=\"data row9 col11\" >0.901</td>\n",
       "                        <td id=\"T_4347fe4c_a8c0_11e9_81bd_34de1a2c1766row9_col12\" class=\"data row9 col12\" >0.704</td>\n",
       "                        <td id=\"T_4347fe4c_a8c0_11e9_81bd_34de1a2c1766row9_col13\" class=\"data row9 col13\" >0.583</td>\n",
       "            </tr>\n",
       "            <tr>\n",
       "                        <th id=\"T_4347fe4c_a8c0_11e9_81bd_34de1a2c1766level0_row10\" class=\"row_heading level0 row10\" >10</th>\n",
       "                        <td id=\"T_4347fe4c_a8c0_11e9_81bd_34de1a2c1766row10_col0\" class=\"data row10 col0\" >intervals</td>\n",
       "                        <td id=\"T_4347fe4c_a8c0_11e9_81bd_34de1a2c1766row10_col1\" class=\"data row10 col1\" >350 - 450</td>\n",
       "                        <td id=\"T_4347fe4c_a8c0_11e9_81bd_34de1a2c1766row10_col2\" class=\"data row10 col2\" >50 - 150</td>\n",
       "                        <td id=\"T_4347fe4c_a8c0_11e9_81bd_34de1a2c1766row10_col3\" class=\"data row10 col3\" >True</td>\n",
       "                        <td id=\"T_4347fe4c_a8c0_11e9_81bd_34de1a2c1766row10_col4\" class=\"data row10 col4\" >True</td>\n",
       "                        <td id=\"T_4347fe4c_a8c0_11e9_81bd_34de1a2c1766row10_col5\" class=\"data row10 col5\" >0.968</td>\n",
       "                        <td id=\"T_4347fe4c_a8c0_11e9_81bd_34de1a2c1766row10_col6\" class=\"data row10 col6\" >13</td>\n",
       "                        <td id=\"T_4347fe4c_a8c0_11e9_81bd_34de1a2c1766row10_col7\" class=\"data row10 col7\" >two-sided</td>\n",
       "                        <td id=\"T_4347fe4c_a8c0_11e9_81bd_34de1a2c1766row10_col8\" class=\"data row10 col8\" >0.350873</td>\n",
       "                        <td id=\"T_4347fe4c_a8c0_11e9_81bd_34de1a2c1766row10_col9\" class=\"data row10 col9\" >1</td>\n",
       "                        <td id=\"T_4347fe4c_a8c0_11e9_81bd_34de1a2c1766row10_col10\" class=\"data row10 col10\" >bonferroni</td>\n",
       "                        <td id=\"T_4347fe4c_a8c0_11e9_81bd_34de1a2c1766row10_col11\" class=\"data row10 col11\" >0.403</td>\n",
       "                        <td id=\"T_4347fe4c_a8c0_11e9_81bd_34de1a2c1766row10_col12\" class=\"data row10 col12\" >0.699</td>\n",
       "                        <td id=\"T_4347fe4c_a8c0_11e9_81bd_34de1a2c1766row10_col13\" class=\"data row10 col13\" >0.421</td>\n",
       "            </tr>\n",
       "            <tr>\n",
       "                        <th id=\"T_4347fe4c_a8c0_11e9_81bd_34de1a2c1766level0_row11\" class=\"row_heading level0 row11\" >11</th>\n",
       "                        <td id=\"T_4347fe4c_a8c0_11e9_81bd_34de1a2c1766row11_col0\" class=\"data row11 col0\" >intervals</td>\n",
       "                        <td id=\"T_4347fe4c_a8c0_11e9_81bd_34de1a2c1766row11_col1\" class=\"data row11 col1\" >350 - 450</td>\n",
       "                        <td id=\"T_4347fe4c_a8c0_11e9_81bd_34de1a2c1766row11_col2\" class=\"data row11 col2\" >550 - 650</td>\n",
       "                        <td id=\"T_4347fe4c_a8c0_11e9_81bd_34de1a2c1766row11_col3\" class=\"data row11 col3\" >True</td>\n",
       "                        <td id=\"T_4347fe4c_a8c0_11e9_81bd_34de1a2c1766row11_col4\" class=\"data row11 col4\" >True</td>\n",
       "                        <td id=\"T_4347fe4c_a8c0_11e9_81bd_34de1a2c1766row11_col5\" class=\"data row11 col5\" >1.461</td>\n",
       "                        <td id=\"T_4347fe4c_a8c0_11e9_81bd_34de1a2c1766row11_col6\" class=\"data row11 col6\" >13</td>\n",
       "                        <td id=\"T_4347fe4c_a8c0_11e9_81bd_34de1a2c1766row11_col7\" class=\"data row11 col7\" >two-sided</td>\n",
       "                        <td id=\"T_4347fe4c_a8c0_11e9_81bd_34de1a2c1766row11_col8\" class=\"data row11 col8\" >0.16779</td>\n",
       "                        <td id=\"T_4347fe4c_a8c0_11e9_81bd_34de1a2c1766row11_col9\" class=\"data row11 col9\" >1</td>\n",
       "                        <td id=\"T_4347fe4c_a8c0_11e9_81bd_34de1a2c1766row11_col10\" class=\"data row11 col10\" >bonferroni</td>\n",
       "                        <td id=\"T_4347fe4c_a8c0_11e9_81bd_34de1a2c1766row11_col11\" class=\"data row11 col11\" >0.647</td>\n",
       "                        <td id=\"T_4347fe4c_a8c0_11e9_81bd_34de1a2c1766row11_col12\" class=\"data row11 col12\" >0.694</td>\n",
       "                        <td id=\"T_4347fe4c_a8c0_11e9_81bd_34de1a2c1766row11_col13\" class=\"data row11 col13\" >0.584</td>\n",
       "            </tr>\n",
       "            <tr>\n",
       "                        <th id=\"T_4347fe4c_a8c0_11e9_81bd_34de1a2c1766level0_row12\" class=\"row_heading level0 row12\" >12</th>\n",
       "                        <td id=\"T_4347fe4c_a8c0_11e9_81bd_34de1a2c1766row12_col0\" class=\"data row12 col0\" >intervals</td>\n",
       "                        <td id=\"T_4347fe4c_a8c0_11e9_81bd_34de1a2c1766row12_col1\" class=\"data row12 col1\" >450 - 550</td>\n",
       "                        <td id=\"T_4347fe4c_a8c0_11e9_81bd_34de1a2c1766row12_col2\" class=\"data row12 col2\" >50 - 150</td>\n",
       "                        <td id=\"T_4347fe4c_a8c0_11e9_81bd_34de1a2c1766row12_col3\" class=\"data row12 col3\" >True</td>\n",
       "                        <td id=\"T_4347fe4c_a8c0_11e9_81bd_34de1a2c1766row12_col4\" class=\"data row12 col4\" >True</td>\n",
       "                        <td id=\"T_4347fe4c_a8c0_11e9_81bd_34de1a2c1766row12_col5\" class=\"data row12 col5\" >0.035</td>\n",
       "                        <td id=\"T_4347fe4c_a8c0_11e9_81bd_34de1a2c1766row12_col6\" class=\"data row12 col6\" >13</td>\n",
       "                        <td id=\"T_4347fe4c_a8c0_11e9_81bd_34de1a2c1766row12_col7\" class=\"data row12 col7\" >two-sided</td>\n",
       "                        <td id=\"T_4347fe4c_a8c0_11e9_81bd_34de1a2c1766row12_col8\" class=\"data row12 col8\" >0.972834</td>\n",
       "                        <td id=\"T_4347fe4c_a8c0_11e9_81bd_34de1a2c1766row12_col9\" class=\"data row12 col9\" >1</td>\n",
       "                        <td id=\"T_4347fe4c_a8c0_11e9_81bd_34de1a2c1766row12_col10\" class=\"data row12 col10\" >bonferroni</td>\n",
       "                        <td id=\"T_4347fe4c_a8c0_11e9_81bd_34de1a2c1766row12_col11\" class=\"data row12 col11\" >0.27</td>\n",
       "                        <td id=\"T_4347fe4c_a8c0_11e9_81bd_34de1a2c1766row12_col12\" class=\"data row12 col12\" >0.582</td>\n",
       "                        <td id=\"T_4347fe4c_a8c0_11e9_81bd_34de1a2c1766row12_col13\" class=\"data row12 col13\" >0.017</td>\n",
       "            </tr>\n",
       "            <tr>\n",
       "                        <th id=\"T_4347fe4c_a8c0_11e9_81bd_34de1a2c1766level0_row13\" class=\"row_heading level0 row13\" >13</th>\n",
       "                        <td id=\"T_4347fe4c_a8c0_11e9_81bd_34de1a2c1766row13_col0\" class=\"data row13 col0\" >intervals</td>\n",
       "                        <td id=\"T_4347fe4c_a8c0_11e9_81bd_34de1a2c1766row13_col1\" class=\"data row13 col1\" >450 - 550</td>\n",
       "                        <td id=\"T_4347fe4c_a8c0_11e9_81bd_34de1a2c1766row13_col2\" class=\"data row13 col2\" >550 - 650</td>\n",
       "                        <td id=\"T_4347fe4c_a8c0_11e9_81bd_34de1a2c1766row13_col3\" class=\"data row13 col3\" >True</td>\n",
       "                        <td id=\"T_4347fe4c_a8c0_11e9_81bd_34de1a2c1766row13_col4\" class=\"data row13 col4\" >True</td>\n",
       "                        <td id=\"T_4347fe4c_a8c0_11e9_81bd_34de1a2c1766row13_col5\" class=\"data row13 col5\" >0.471</td>\n",
       "                        <td id=\"T_4347fe4c_a8c0_11e9_81bd_34de1a2c1766row13_col6\" class=\"data row13 col6\" >13</td>\n",
       "                        <td id=\"T_4347fe4c_a8c0_11e9_81bd_34de1a2c1766row13_col7\" class=\"data row13 col7\" >two-sided</td>\n",
       "                        <td id=\"T_4347fe4c_a8c0_11e9_81bd_34de1a2c1766row13_col8\" class=\"data row13 col8\" >0.645314</td>\n",
       "                        <td id=\"T_4347fe4c_a8c0_11e9_81bd_34de1a2c1766row13_col9\" class=\"data row13 col9\" >1</td>\n",
       "                        <td id=\"T_4347fe4c_a8c0_11e9_81bd_34de1a2c1766row13_col10\" class=\"data row13 col10\" >bonferroni</td>\n",
       "                        <td id=\"T_4347fe4c_a8c0_11e9_81bd_34de1a2c1766row13_col11\" class=\"data row13 col11\" >0.298</td>\n",
       "                        <td id=\"T_4347fe4c_a8c0_11e9_81bd_34de1a2c1766row13_col12\" class=\"data row13 col12\" >0.51</td>\n",
       "                        <td id=\"T_4347fe4c_a8c0_11e9_81bd_34de1a2c1766row13_col13\" class=\"data row13 col13\" >0.124</td>\n",
       "            </tr>\n",
       "            <tr>\n",
       "                        <th id=\"T_4347fe4c_a8c0_11e9_81bd_34de1a2c1766level0_row14\" class=\"row_heading level0 row14\" >14</th>\n",
       "                        <td id=\"T_4347fe4c_a8c0_11e9_81bd_34de1a2c1766row14_col0\" class=\"data row14 col0\" >intervals</td>\n",
       "                        <td id=\"T_4347fe4c_a8c0_11e9_81bd_34de1a2c1766row14_col1\" class=\"data row14 col1\" >50 - 150</td>\n",
       "                        <td id=\"T_4347fe4c_a8c0_11e9_81bd_34de1a2c1766row14_col2\" class=\"data row14 col2\" >550 - 650</td>\n",
       "                        <td id=\"T_4347fe4c_a8c0_11e9_81bd_34de1a2c1766row14_col3\" class=\"data row14 col3\" >True</td>\n",
       "                        <td id=\"T_4347fe4c_a8c0_11e9_81bd_34de1a2c1766row14_col4\" class=\"data row14 col4\" >True</td>\n",
       "                        <td id=\"T_4347fe4c_a8c0_11e9_81bd_34de1a2c1766row14_col5\" class=\"data row14 col5\" >0.166</td>\n",
       "                        <td id=\"T_4347fe4c_a8c0_11e9_81bd_34de1a2c1766row14_col6\" class=\"data row14 col6\" >13</td>\n",
       "                        <td id=\"T_4347fe4c_a8c0_11e9_81bd_34de1a2c1766row14_col7\" class=\"data row14 col7\" >two-sided</td>\n",
       "                        <td id=\"T_4347fe4c_a8c0_11e9_81bd_34de1a2c1766row14_col8\" class=\"data row14 col8\" >0.870486</td>\n",
       "                        <td id=\"T_4347fe4c_a8c0_11e9_81bd_34de1a2c1766row14_col9\" class=\"data row14 col9\" >1</td>\n",
       "                        <td id=\"T_4347fe4c_a8c0_11e9_81bd_34de1a2c1766row14_col10\" class=\"data row14 col10\" >bonferroni</td>\n",
       "                        <td id=\"T_4347fe4c_a8c0_11e9_81bd_34de1a2c1766row14_col11\" class=\"data row14 col11\" >0.273</td>\n",
       "                        <td id=\"T_4347fe4c_a8c0_11e9_81bd_34de1a2c1766row14_col12\" class=\"data row14 col12\" >0.556</td>\n",
       "                        <td id=\"T_4347fe4c_a8c0_11e9_81bd_34de1a2c1766row14_col13\" class=\"data row14 col13\" >0.077</td>\n",
       "            </tr>\n",
       "    </tbody></table>"
      ],
      "text/plain": [
       "<pandas.io.formats.style.Styler at 0x1cbf5c024e0>"
      ]
     },
     "execution_count": 25,
     "metadata": {},
     "output_type": "execute_result"
    }
   ],
   "source": [
    "# Bonferroni-corrected post hocs with Hedges'g effect size\n",
    "posthoc = pg.pairwise_ttests(data=data.loc[data.category=='words'], dv='value', within='intervals', subject='subs',\n",
    "                             parametric=True, padjust='bonferroni', effsize='hedges')\n",
    "\n",
    "# Pretty printing of table\n",
    "posthoc.style.applymap(color_significant, subset=['p-corr'])"
   ]
  },
  {
   "cell_type": "code",
   "execution_count": 26,
   "metadata": {},
   "outputs": [
    {
     "data": {
      "text/html": [
       "<style  type=\"text/css\" >\n",
       "    #T_45081c64_a8c0_11e9_a74b_34de1a2c1766row0_col9 {\n",
       "            color:  black;\n",
       "        }    #T_45081c64_a8c0_11e9_a74b_34de1a2c1766row1_col9 {\n",
       "            color:  black;\n",
       "        }    #T_45081c64_a8c0_11e9_a74b_34de1a2c1766row2_col9 {\n",
       "            color:  black;\n",
       "        }    #T_45081c64_a8c0_11e9_a74b_34de1a2c1766row3_col9 {\n",
       "            color:  red;\n",
       "        }    #T_45081c64_a8c0_11e9_a74b_34de1a2c1766row4_col9 {\n",
       "            color:  black;\n",
       "        }    #T_45081c64_a8c0_11e9_a74b_34de1a2c1766row5_col9 {\n",
       "            color:  black;\n",
       "        }    #T_45081c64_a8c0_11e9_a74b_34de1a2c1766row6_col9 {\n",
       "            color:  black;\n",
       "        }    #T_45081c64_a8c0_11e9_a74b_34de1a2c1766row7_col9 {\n",
       "            color:  black;\n",
       "        }    #T_45081c64_a8c0_11e9_a74b_34de1a2c1766row8_col9 {\n",
       "            color:  black;\n",
       "        }    #T_45081c64_a8c0_11e9_a74b_34de1a2c1766row9_col9 {\n",
       "            color:  black;\n",
       "        }    #T_45081c64_a8c0_11e9_a74b_34de1a2c1766row10_col9 {\n",
       "            color:  red;\n",
       "        }    #T_45081c64_a8c0_11e9_a74b_34de1a2c1766row11_col9 {\n",
       "            color:  black;\n",
       "        }    #T_45081c64_a8c0_11e9_a74b_34de1a2c1766row12_col9 {\n",
       "            color:  black;\n",
       "        }    #T_45081c64_a8c0_11e9_a74b_34de1a2c1766row13_col9 {\n",
       "            color:  black;\n",
       "        }    #T_45081c64_a8c0_11e9_a74b_34de1a2c1766row14_col9 {\n",
       "            color:  black;\n",
       "        }</style><table id=\"T_45081c64_a8c0_11e9_a74b_34de1a2c1766\" ><thead>    <tr>        <th class=\"blank level0\" ></th>        <th class=\"col_heading level0 col0\" >Contrast</th>        <th class=\"col_heading level0 col1\" >A</th>        <th class=\"col_heading level0 col2\" >B</th>        <th class=\"col_heading level0 col3\" >Paired</th>        <th class=\"col_heading level0 col4\" >Parametric</th>        <th class=\"col_heading level0 col5\" >T</th>        <th class=\"col_heading level0 col6\" >dof</th>        <th class=\"col_heading level0 col7\" >tail</th>        <th class=\"col_heading level0 col8\" >p-unc</th>        <th class=\"col_heading level0 col9\" >p-corr</th>        <th class=\"col_heading level0 col10\" >p-adjust</th>        <th class=\"col_heading level0 col11\" >BF10</th>        <th class=\"col_heading level0 col12\" >CLES</th>        <th class=\"col_heading level0 col13\" >hedges</th>    </tr></thead><tbody>\n",
       "                <tr>\n",
       "                        <th id=\"T_45081c64_a8c0_11e9_a74b_34de1a2c1766level0_row0\" class=\"row_heading level0 row0\" >0</th>\n",
       "                        <td id=\"T_45081c64_a8c0_11e9_a74b_34de1a2c1766row0_col0\" class=\"data row0 col0\" >intervals</td>\n",
       "                        <td id=\"T_45081c64_a8c0_11e9_a74b_34de1a2c1766row0_col1\" class=\"data row0 col1\" >150 - 250</td>\n",
       "                        <td id=\"T_45081c64_a8c0_11e9_a74b_34de1a2c1766row0_col2\" class=\"data row0 col2\" >250 - 350</td>\n",
       "                        <td id=\"T_45081c64_a8c0_11e9_a74b_34de1a2c1766row0_col3\" class=\"data row0 col3\" >True</td>\n",
       "                        <td id=\"T_45081c64_a8c0_11e9_a74b_34de1a2c1766row0_col4\" class=\"data row0 col4\" >True</td>\n",
       "                        <td id=\"T_45081c64_a8c0_11e9_a74b_34de1a2c1766row0_col5\" class=\"data row0 col5\" >0.158</td>\n",
       "                        <td id=\"T_45081c64_a8c0_11e9_a74b_34de1a2c1766row0_col6\" class=\"data row0 col6\" >12</td>\n",
       "                        <td id=\"T_45081c64_a8c0_11e9_a74b_34de1a2c1766row0_col7\" class=\"data row0 col7\" >two-sided</td>\n",
       "                        <td id=\"T_45081c64_a8c0_11e9_a74b_34de1a2c1766row0_col8\" class=\"data row0 col8\" >0.877117</td>\n",
       "                        <td id=\"T_45081c64_a8c0_11e9_a74b_34de1a2c1766row0_col9\" class=\"data row0 col9\" >1</td>\n",
       "                        <td id=\"T_45081c64_a8c0_11e9_a74b_34de1a2c1766row0_col10\" class=\"data row0 col10\" >bonferroni</td>\n",
       "                        <td id=\"T_45081c64_a8c0_11e9_a74b_34de1a2c1766row0_col11\" class=\"data row0 col11\" >0.281</td>\n",
       "                        <td id=\"T_45081c64_a8c0_11e9_a74b_34de1a2c1766row0_col12\" class=\"data row0 col12\" >0.515</td>\n",
       "                        <td id=\"T_45081c64_a8c0_11e9_a74b_34de1a2c1766row0_col13\" class=\"data row0 col13\" >0.044</td>\n",
       "            </tr>\n",
       "            <tr>\n",
       "                        <th id=\"T_45081c64_a8c0_11e9_a74b_34de1a2c1766level0_row1\" class=\"row_heading level0 row1\" >1</th>\n",
       "                        <td id=\"T_45081c64_a8c0_11e9_a74b_34de1a2c1766row1_col0\" class=\"data row1 col0\" >intervals</td>\n",
       "                        <td id=\"T_45081c64_a8c0_11e9_a74b_34de1a2c1766row1_col1\" class=\"data row1 col1\" >150 - 250</td>\n",
       "                        <td id=\"T_45081c64_a8c0_11e9_a74b_34de1a2c1766row1_col2\" class=\"data row1 col2\" >350 - 450</td>\n",
       "                        <td id=\"T_45081c64_a8c0_11e9_a74b_34de1a2c1766row1_col3\" class=\"data row1 col3\" >True</td>\n",
       "                        <td id=\"T_45081c64_a8c0_11e9_a74b_34de1a2c1766row1_col4\" class=\"data row1 col4\" >True</td>\n",
       "                        <td id=\"T_45081c64_a8c0_11e9_a74b_34de1a2c1766row1_col5\" class=\"data row1 col5\" >-0.698</td>\n",
       "                        <td id=\"T_45081c64_a8c0_11e9_a74b_34de1a2c1766row1_col6\" class=\"data row1 col6\" >12</td>\n",
       "                        <td id=\"T_45081c64_a8c0_11e9_a74b_34de1a2c1766row1_col7\" class=\"data row1 col7\" >two-sided</td>\n",
       "                        <td id=\"T_45081c64_a8c0_11e9_a74b_34de1a2c1766row1_col8\" class=\"data row1 col8\" >0.498217</td>\n",
       "                        <td id=\"T_45081c64_a8c0_11e9_a74b_34de1a2c1766row1_col9\" class=\"data row1 col9\" >1</td>\n",
       "                        <td id=\"T_45081c64_a8c0_11e9_a74b_34de1a2c1766row1_col10\" class=\"data row1 col10\" >bonferroni</td>\n",
       "                        <td id=\"T_45081c64_a8c0_11e9_a74b_34de1a2c1766row1_col11\" class=\"data row1 col11\" >0.343</td>\n",
       "                        <td id=\"T_45081c64_a8c0_11e9_a74b_34de1a2c1766row1_col12\" class=\"data row1 col12\" >0.58</td>\n",
       "                        <td id=\"T_45081c64_a8c0_11e9_a74b_34de1a2c1766row1_col13\" class=\"data row1 col13\" >-0.287</td>\n",
       "            </tr>\n",
       "            <tr>\n",
       "                        <th id=\"T_45081c64_a8c0_11e9_a74b_34de1a2c1766level0_row2\" class=\"row_heading level0 row2\" >2</th>\n",
       "                        <td id=\"T_45081c64_a8c0_11e9_a74b_34de1a2c1766row2_col0\" class=\"data row2 col0\" >intervals</td>\n",
       "                        <td id=\"T_45081c64_a8c0_11e9_a74b_34de1a2c1766row2_col1\" class=\"data row2 col1\" >150 - 250</td>\n",
       "                        <td id=\"T_45081c64_a8c0_11e9_a74b_34de1a2c1766row2_col2\" class=\"data row2 col2\" >450 - 550</td>\n",
       "                        <td id=\"T_45081c64_a8c0_11e9_a74b_34de1a2c1766row2_col3\" class=\"data row2 col3\" >True</td>\n",
       "                        <td id=\"T_45081c64_a8c0_11e9_a74b_34de1a2c1766row2_col4\" class=\"data row2 col4\" >True</td>\n",
       "                        <td id=\"T_45081c64_a8c0_11e9_a74b_34de1a2c1766row2_col5\" class=\"data row2 col5\" >1.556</td>\n",
       "                        <td id=\"T_45081c64_a8c0_11e9_a74b_34de1a2c1766row2_col6\" class=\"data row2 col6\" >12</td>\n",
       "                        <td id=\"T_45081c64_a8c0_11e9_a74b_34de1a2c1766row2_col7\" class=\"data row2 col7\" >two-sided</td>\n",
       "                        <td id=\"T_45081c64_a8c0_11e9_a74b_34de1a2c1766row2_col8\" class=\"data row2 col8\" >0.145568</td>\n",
       "                        <td id=\"T_45081c64_a8c0_11e9_a74b_34de1a2c1766row2_col9\" class=\"data row2 col9\" >1</td>\n",
       "                        <td id=\"T_45081c64_a8c0_11e9_a74b_34de1a2c1766row2_col10\" class=\"data row2 col10\" >bonferroni</td>\n",
       "                        <td id=\"T_45081c64_a8c0_11e9_a74b_34de1a2c1766row2_col11\" class=\"data row2 col11\" >0.734</td>\n",
       "                        <td id=\"T_45081c64_a8c0_11e9_a74b_34de1a2c1766row2_col12\" class=\"data row2 col12\" >0.686</td>\n",
       "                        <td id=\"T_45081c64_a8c0_11e9_a74b_34de1a2c1766row2_col13\" class=\"data row2 col13\" >0.755</td>\n",
       "            </tr>\n",
       "            <tr>\n",
       "                        <th id=\"T_45081c64_a8c0_11e9_a74b_34de1a2c1766level0_row3\" class=\"row_heading level0 row3\" >3</th>\n",
       "                        <td id=\"T_45081c64_a8c0_11e9_a74b_34de1a2c1766row3_col0\" class=\"data row3 col0\" >intervals</td>\n",
       "                        <td id=\"T_45081c64_a8c0_11e9_a74b_34de1a2c1766row3_col1\" class=\"data row3 col1\" >150 - 250</td>\n",
       "                        <td id=\"T_45081c64_a8c0_11e9_a74b_34de1a2c1766row3_col2\" class=\"data row3 col2\" >50 - 150</td>\n",
       "                        <td id=\"T_45081c64_a8c0_11e9_a74b_34de1a2c1766row3_col3\" class=\"data row3 col3\" >True</td>\n",
       "                        <td id=\"T_45081c64_a8c0_11e9_a74b_34de1a2c1766row3_col4\" class=\"data row3 col4\" >True</td>\n",
       "                        <td id=\"T_45081c64_a8c0_11e9_a74b_34de1a2c1766row3_col5\" class=\"data row3 col5\" >3.835</td>\n",
       "                        <td id=\"T_45081c64_a8c0_11e9_a74b_34de1a2c1766row3_col6\" class=\"data row3 col6\" >12</td>\n",
       "                        <td id=\"T_45081c64_a8c0_11e9_a74b_34de1a2c1766row3_col7\" class=\"data row3 col7\" >two-sided</td>\n",
       "                        <td id=\"T_45081c64_a8c0_11e9_a74b_34de1a2c1766row3_col8\" class=\"data row3 col8\" >0.00237533</td>\n",
       "                        <td id=\"T_45081c64_a8c0_11e9_a74b_34de1a2c1766row3_col9\" class=\"data row3 col9\" >0.03563</td>\n",
       "                        <td id=\"T_45081c64_a8c0_11e9_a74b_34de1a2c1766row3_col10\" class=\"data row3 col10\" >bonferroni</td>\n",
       "                        <td id=\"T_45081c64_a8c0_11e9_a74b_34de1a2c1766row3_col11\" class=\"data row3 col11\" >19.063</td>\n",
       "                        <td id=\"T_45081c64_a8c0_11e9_a74b_34de1a2c1766row3_col12\" class=\"data row3 col12\" >0.888</td>\n",
       "                        <td id=\"T_45081c64_a8c0_11e9_a74b_34de1a2c1766row3_col13\" class=\"data row3 col13\" >1.589</td>\n",
       "            </tr>\n",
       "            <tr>\n",
       "                        <th id=\"T_45081c64_a8c0_11e9_a74b_34de1a2c1766level0_row4\" class=\"row_heading level0 row4\" >4</th>\n",
       "                        <td id=\"T_45081c64_a8c0_11e9_a74b_34de1a2c1766row4_col0\" class=\"data row4 col0\" >intervals</td>\n",
       "                        <td id=\"T_45081c64_a8c0_11e9_a74b_34de1a2c1766row4_col1\" class=\"data row4 col1\" >150 - 250</td>\n",
       "                        <td id=\"T_45081c64_a8c0_11e9_a74b_34de1a2c1766row4_col2\" class=\"data row4 col2\" >550 - 650</td>\n",
       "                        <td id=\"T_45081c64_a8c0_11e9_a74b_34de1a2c1766row4_col3\" class=\"data row4 col3\" >True</td>\n",
       "                        <td id=\"T_45081c64_a8c0_11e9_a74b_34de1a2c1766row4_col4\" class=\"data row4 col4\" >True</td>\n",
       "                        <td id=\"T_45081c64_a8c0_11e9_a74b_34de1a2c1766row4_col5\" class=\"data row4 col5\" >1.674</td>\n",
       "                        <td id=\"T_45081c64_a8c0_11e9_a74b_34de1a2c1766row4_col6\" class=\"data row4 col6\" >12</td>\n",
       "                        <td id=\"T_45081c64_a8c0_11e9_a74b_34de1a2c1766row4_col7\" class=\"data row4 col7\" >two-sided</td>\n",
       "                        <td id=\"T_45081c64_a8c0_11e9_a74b_34de1a2c1766row4_col8\" class=\"data row4 col8\" >0.119904</td>\n",
       "                        <td id=\"T_45081c64_a8c0_11e9_a74b_34de1a2c1766row4_col9\" class=\"data row4 col9\" >1</td>\n",
       "                        <td id=\"T_45081c64_a8c0_11e9_a74b_34de1a2c1766row4_col10\" class=\"data row4 col10\" >bonferroni</td>\n",
       "                        <td id=\"T_45081c64_a8c0_11e9_a74b_34de1a2c1766row4_col11\" class=\"data row4 col11\" >0.842</td>\n",
       "                        <td id=\"T_45081c64_a8c0_11e9_a74b_34de1a2c1766row4_col12\" class=\"data row4 col12\" >0.692</td>\n",
       "                        <td id=\"T_45081c64_a8c0_11e9_a74b_34de1a2c1766row4_col13\" class=\"data row4 col13\" >0.793</td>\n",
       "            </tr>\n",
       "            <tr>\n",
       "                        <th id=\"T_45081c64_a8c0_11e9_a74b_34de1a2c1766level0_row5\" class=\"row_heading level0 row5\" >5</th>\n",
       "                        <td id=\"T_45081c64_a8c0_11e9_a74b_34de1a2c1766row5_col0\" class=\"data row5 col0\" >intervals</td>\n",
       "                        <td id=\"T_45081c64_a8c0_11e9_a74b_34de1a2c1766row5_col1\" class=\"data row5 col1\" >250 - 350</td>\n",
       "                        <td id=\"T_45081c64_a8c0_11e9_a74b_34de1a2c1766row5_col2\" class=\"data row5 col2\" >350 - 450</td>\n",
       "                        <td id=\"T_45081c64_a8c0_11e9_a74b_34de1a2c1766row5_col3\" class=\"data row5 col3\" >True</td>\n",
       "                        <td id=\"T_45081c64_a8c0_11e9_a74b_34de1a2c1766row5_col4\" class=\"data row5 col4\" >True</td>\n",
       "                        <td id=\"T_45081c64_a8c0_11e9_a74b_34de1a2c1766row5_col5\" class=\"data row5 col5\" >-0.602</td>\n",
       "                        <td id=\"T_45081c64_a8c0_11e9_a74b_34de1a2c1766row5_col6\" class=\"data row5 col6\" >12</td>\n",
       "                        <td id=\"T_45081c64_a8c0_11e9_a74b_34de1a2c1766row5_col7\" class=\"data row5 col7\" >two-sided</td>\n",
       "                        <td id=\"T_45081c64_a8c0_11e9_a74b_34de1a2c1766row5_col8\" class=\"data row5 col8\" >0.558556</td>\n",
       "                        <td id=\"T_45081c64_a8c0_11e9_a74b_34de1a2c1766row5_col9\" class=\"data row5 col9\" >1</td>\n",
       "                        <td id=\"T_45081c64_a8c0_11e9_a74b_34de1a2c1766row5_col10\" class=\"data row5 col10\" >bonferroni</td>\n",
       "                        <td id=\"T_45081c64_a8c0_11e9_a74b_34de1a2c1766row5_col11\" class=\"data row5 col11\" >0.325</td>\n",
       "                        <td id=\"T_45081c64_a8c0_11e9_a74b_34de1a2c1766row5_col12\" class=\"data row5 col12\" >0.527</td>\n",
       "                        <td id=\"T_45081c64_a8c0_11e9_a74b_34de1a2c1766row5_col13\" class=\"data row5 col13\" >-0.27</td>\n",
       "            </tr>\n",
       "            <tr>\n",
       "                        <th id=\"T_45081c64_a8c0_11e9_a74b_34de1a2c1766level0_row6\" class=\"row_heading level0 row6\" >6</th>\n",
       "                        <td id=\"T_45081c64_a8c0_11e9_a74b_34de1a2c1766row6_col0\" class=\"data row6 col0\" >intervals</td>\n",
       "                        <td id=\"T_45081c64_a8c0_11e9_a74b_34de1a2c1766row6_col1\" class=\"data row6 col1\" >250 - 350</td>\n",
       "                        <td id=\"T_45081c64_a8c0_11e9_a74b_34de1a2c1766row6_col2\" class=\"data row6 col2\" >450 - 550</td>\n",
       "                        <td id=\"T_45081c64_a8c0_11e9_a74b_34de1a2c1766row6_col3\" class=\"data row6 col3\" >True</td>\n",
       "                        <td id=\"T_45081c64_a8c0_11e9_a74b_34de1a2c1766row6_col4\" class=\"data row6 col4\" >True</td>\n",
       "                        <td id=\"T_45081c64_a8c0_11e9_a74b_34de1a2c1766row6_col5\" class=\"data row6 col5\" >1.204</td>\n",
       "                        <td id=\"T_45081c64_a8c0_11e9_a74b_34de1a2c1766row6_col6\" class=\"data row6 col6\" >12</td>\n",
       "                        <td id=\"T_45081c64_a8c0_11e9_a74b_34de1a2c1766row6_col7\" class=\"data row6 col7\" >two-sided</td>\n",
       "                        <td id=\"T_45081c64_a8c0_11e9_a74b_34de1a2c1766row6_col8\" class=\"data row6 col8\" >0.251752</td>\n",
       "                        <td id=\"T_45081c64_a8c0_11e9_a74b_34de1a2c1766row6_col9\" class=\"data row6 col9\" >1</td>\n",
       "                        <td id=\"T_45081c64_a8c0_11e9_a74b_34de1a2c1766row6_col10\" class=\"data row6 col10\" >bonferroni</td>\n",
       "                        <td id=\"T_45081c64_a8c0_11e9_a74b_34de1a2c1766row6_col11\" class=\"data row6 col11\" >0.508</td>\n",
       "                        <td id=\"T_45081c64_a8c0_11e9_a74b_34de1a2c1766row6_col12\" class=\"data row6 col12\" >0.663</td>\n",
       "                        <td id=\"T_45081c64_a8c0_11e9_a74b_34de1a2c1766row6_col13\" class=\"data row6 col13\" >0.574</td>\n",
       "            </tr>\n",
       "            <tr>\n",
       "                        <th id=\"T_45081c64_a8c0_11e9_a74b_34de1a2c1766level0_row7\" class=\"row_heading level0 row7\" >7</th>\n",
       "                        <td id=\"T_45081c64_a8c0_11e9_a74b_34de1a2c1766row7_col0\" class=\"data row7 col0\" >intervals</td>\n",
       "                        <td id=\"T_45081c64_a8c0_11e9_a74b_34de1a2c1766row7_col1\" class=\"data row7 col1\" >250 - 350</td>\n",
       "                        <td id=\"T_45081c64_a8c0_11e9_a74b_34de1a2c1766row7_col2\" class=\"data row7 col2\" >50 - 150</td>\n",
       "                        <td id=\"T_45081c64_a8c0_11e9_a74b_34de1a2c1766row7_col3\" class=\"data row7 col3\" >True</td>\n",
       "                        <td id=\"T_45081c64_a8c0_11e9_a74b_34de1a2c1766row7_col4\" class=\"data row7 col4\" >True</td>\n",
       "                        <td id=\"T_45081c64_a8c0_11e9_a74b_34de1a2c1766row7_col5\" class=\"data row7 col5\" >2.804</td>\n",
       "                        <td id=\"T_45081c64_a8c0_11e9_a74b_34de1a2c1766row7_col6\" class=\"data row7 col6\" >12</td>\n",
       "                        <td id=\"T_45081c64_a8c0_11e9_a74b_34de1a2c1766row7_col7\" class=\"data row7 col7\" >two-sided</td>\n",
       "                        <td id=\"T_45081c64_a8c0_11e9_a74b_34de1a2c1766row7_col8\" class=\"data row7 col8\" >0.0159279</td>\n",
       "                        <td id=\"T_45081c64_a8c0_11e9_a74b_34de1a2c1766row7_col9\" class=\"data row7 col9\" >0.238918</td>\n",
       "                        <td id=\"T_45081c64_a8c0_11e9_a74b_34de1a2c1766row7_col10\" class=\"data row7 col10\" >bonferroni</td>\n",
       "                        <td id=\"T_45081c64_a8c0_11e9_a74b_34de1a2c1766row7_col11\" class=\"data row7 col11\" >3.973</td>\n",
       "                        <td id=\"T_45081c64_a8c0_11e9_a74b_34de1a2c1766row7_col12\" class=\"data row7 col12\" >0.805</td>\n",
       "                        <td id=\"T_45081c64_a8c0_11e9_a74b_34de1a2c1766row7_col13\" class=\"data row7 col13\" >1.235</td>\n",
       "            </tr>\n",
       "            <tr>\n",
       "                        <th id=\"T_45081c64_a8c0_11e9_a74b_34de1a2c1766level0_row8\" class=\"row_heading level0 row8\" >8</th>\n",
       "                        <td id=\"T_45081c64_a8c0_11e9_a74b_34de1a2c1766row8_col0\" class=\"data row8 col0\" >intervals</td>\n",
       "                        <td id=\"T_45081c64_a8c0_11e9_a74b_34de1a2c1766row8_col1\" class=\"data row8 col1\" >250 - 350</td>\n",
       "                        <td id=\"T_45081c64_a8c0_11e9_a74b_34de1a2c1766row8_col2\" class=\"data row8 col2\" >550 - 650</td>\n",
       "                        <td id=\"T_45081c64_a8c0_11e9_a74b_34de1a2c1766row8_col3\" class=\"data row8 col3\" >True</td>\n",
       "                        <td id=\"T_45081c64_a8c0_11e9_a74b_34de1a2c1766row8_col4\" class=\"data row8 col4\" >True</td>\n",
       "                        <td id=\"T_45081c64_a8c0_11e9_a74b_34de1a2c1766row8_col5\" class=\"data row8 col5\" >1.243</td>\n",
       "                        <td id=\"T_45081c64_a8c0_11e9_a74b_34de1a2c1766row8_col6\" class=\"data row8 col6\" >12</td>\n",
       "                        <td id=\"T_45081c64_a8c0_11e9_a74b_34de1a2c1766row8_col7\" class=\"data row8 col7\" >two-sided</td>\n",
       "                        <td id=\"T_45081c64_a8c0_11e9_a74b_34de1a2c1766row8_col8\" class=\"data row8 col8\" >0.237598</td>\n",
       "                        <td id=\"T_45081c64_a8c0_11e9_a74b_34de1a2c1766row8_col9\" class=\"data row8 col9\" >1</td>\n",
       "                        <td id=\"T_45081c64_a8c0_11e9_a74b_34de1a2c1766row8_col10\" class=\"data row8 col10\" >bonferroni</td>\n",
       "                        <td id=\"T_45081c64_a8c0_11e9_a74b_34de1a2c1766row8_col11\" class=\"data row8 col11\" >0.527</td>\n",
       "                        <td id=\"T_45081c64_a8c0_11e9_a74b_34de1a2c1766row8_col12\" class=\"data row8 col12\" >0.68</td>\n",
       "                        <td id=\"T_45081c64_a8c0_11e9_a74b_34de1a2c1766row8_col13\" class=\"data row8 col13\" >0.599</td>\n",
       "            </tr>\n",
       "            <tr>\n",
       "                        <th id=\"T_45081c64_a8c0_11e9_a74b_34de1a2c1766level0_row9\" class=\"row_heading level0 row9\" >9</th>\n",
       "                        <td id=\"T_45081c64_a8c0_11e9_a74b_34de1a2c1766row9_col0\" class=\"data row9 col0\" >intervals</td>\n",
       "                        <td id=\"T_45081c64_a8c0_11e9_a74b_34de1a2c1766row9_col1\" class=\"data row9 col1\" >350 - 450</td>\n",
       "                        <td id=\"T_45081c64_a8c0_11e9_a74b_34de1a2c1766row9_col2\" class=\"data row9 col2\" >450 - 550</td>\n",
       "                        <td id=\"T_45081c64_a8c0_11e9_a74b_34de1a2c1766row9_col3\" class=\"data row9 col3\" >True</td>\n",
       "                        <td id=\"T_45081c64_a8c0_11e9_a74b_34de1a2c1766row9_col4\" class=\"data row9 col4\" >True</td>\n",
       "                        <td id=\"T_45081c64_a8c0_11e9_a74b_34de1a2c1766row9_col5\" class=\"data row9 col5\" >2.535</td>\n",
       "                        <td id=\"T_45081c64_a8c0_11e9_a74b_34de1a2c1766row9_col6\" class=\"data row9 col6\" >12</td>\n",
       "                        <td id=\"T_45081c64_a8c0_11e9_a74b_34de1a2c1766row9_col7\" class=\"data row9 col7\" >two-sided</td>\n",
       "                        <td id=\"T_45081c64_a8c0_11e9_a74b_34de1a2c1766row9_col8\" class=\"data row9 col8\" >0.0261889</td>\n",
       "                        <td id=\"T_45081c64_a8c0_11e9_a74b_34de1a2c1766row9_col9\" class=\"data row9 col9\" >0.392833</td>\n",
       "                        <td id=\"T_45081c64_a8c0_11e9_a74b_34de1a2c1766row9_col10\" class=\"data row9 col10\" >bonferroni</td>\n",
       "                        <td id=\"T_45081c64_a8c0_11e9_a74b_34de1a2c1766row9_col11\" class=\"data row9 col11\" >2.672</td>\n",
       "                        <td id=\"T_45081c64_a8c0_11e9_a74b_34de1a2c1766row9_col12\" class=\"data row9 col12\" >0.757</td>\n",
       "                        <td id=\"T_45081c64_a8c0_11e9_a74b_34de1a2c1766row9_col13\" class=\"data row9 col13\" >1.098</td>\n",
       "            </tr>\n",
       "            <tr>\n",
       "                        <th id=\"T_45081c64_a8c0_11e9_a74b_34de1a2c1766level0_row10\" class=\"row_heading level0 row10\" >10</th>\n",
       "                        <td id=\"T_45081c64_a8c0_11e9_a74b_34de1a2c1766row10_col0\" class=\"data row10 col0\" >intervals</td>\n",
       "                        <td id=\"T_45081c64_a8c0_11e9_a74b_34de1a2c1766row10_col1\" class=\"data row10 col1\" >350 - 450</td>\n",
       "                        <td id=\"T_45081c64_a8c0_11e9_a74b_34de1a2c1766row10_col2\" class=\"data row10 col2\" >50 - 150</td>\n",
       "                        <td id=\"T_45081c64_a8c0_11e9_a74b_34de1a2c1766row10_col3\" class=\"data row10 col3\" >True</td>\n",
       "                        <td id=\"T_45081c64_a8c0_11e9_a74b_34de1a2c1766row10_col4\" class=\"data row10 col4\" >True</td>\n",
       "                        <td id=\"T_45081c64_a8c0_11e9_a74b_34de1a2c1766row10_col5\" class=\"data row10 col5\" >5.847</td>\n",
       "                        <td id=\"T_45081c64_a8c0_11e9_a74b_34de1a2c1766row10_col6\" class=\"data row10 col6\" >12</td>\n",
       "                        <td id=\"T_45081c64_a8c0_11e9_a74b_34de1a2c1766row10_col7\" class=\"data row10 col7\" >two-sided</td>\n",
       "                        <td id=\"T_45081c64_a8c0_11e9_a74b_34de1a2c1766row10_col8\" class=\"data row10 col8\" >7.88067e-05</td>\n",
       "                        <td id=\"T_45081c64_a8c0_11e9_a74b_34de1a2c1766row10_col9\" class=\"data row10 col9\" >0.0011821</td>\n",
       "                        <td id=\"T_45081c64_a8c0_11e9_a74b_34de1a2c1766row10_col10\" class=\"data row10 col10\" >bonferroni</td>\n",
       "                        <td id=\"T_45081c64_a8c0_11e9_a74b_34de1a2c1766row10_col11\" class=\"data row10 col11\" >354.93</td>\n",
       "                        <td id=\"T_45081c64_a8c0_11e9_a74b_34de1a2c1766row10_col12\" class=\"data row10 col12\" >0.964</td>\n",
       "                        <td id=\"T_45081c64_a8c0_11e9_a74b_34de1a2c1766row10_col13\" class=\"data row10 col13\" >2.063</td>\n",
       "            </tr>\n",
       "            <tr>\n",
       "                        <th id=\"T_45081c64_a8c0_11e9_a74b_34de1a2c1766level0_row11\" class=\"row_heading level0 row11\" >11</th>\n",
       "                        <td id=\"T_45081c64_a8c0_11e9_a74b_34de1a2c1766row11_col0\" class=\"data row11 col0\" >intervals</td>\n",
       "                        <td id=\"T_45081c64_a8c0_11e9_a74b_34de1a2c1766row11_col1\" class=\"data row11 col1\" >350 - 450</td>\n",
       "                        <td id=\"T_45081c64_a8c0_11e9_a74b_34de1a2c1766row11_col2\" class=\"data row11 col2\" >550 - 650</td>\n",
       "                        <td id=\"T_45081c64_a8c0_11e9_a74b_34de1a2c1766row11_col3\" class=\"data row11 col3\" >True</td>\n",
       "                        <td id=\"T_45081c64_a8c0_11e9_a74b_34de1a2c1766row11_col4\" class=\"data row11 col4\" >True</td>\n",
       "                        <td id=\"T_45081c64_a8c0_11e9_a74b_34de1a2c1766row11_col5\" class=\"data row11 col5\" >2.91</td>\n",
       "                        <td id=\"T_45081c64_a8c0_11e9_a74b_34de1a2c1766row11_col6\" class=\"data row11 col6\" >12</td>\n",
       "                        <td id=\"T_45081c64_a8c0_11e9_a74b_34de1a2c1766row11_col7\" class=\"data row11 col7\" >two-sided</td>\n",
       "                        <td id=\"T_45081c64_a8c0_11e9_a74b_34de1a2c1766row11_col8\" class=\"data row11 col8\" >0.0130769</td>\n",
       "                        <td id=\"T_45081c64_a8c0_11e9_a74b_34de1a2c1766row11_col9\" class=\"data row11 col9\" >0.196153</td>\n",
       "                        <td id=\"T_45081c64_a8c0_11e9_a74b_34de1a2c1766row11_col10\" class=\"data row11 col10\" >bonferroni</td>\n",
       "                        <td id=\"T_45081c64_a8c0_11e9_a74b_34de1a2c1766row11_col11\" class=\"data row11 col11\" >4.659</td>\n",
       "                        <td id=\"T_45081c64_a8c0_11e9_a74b_34de1a2c1766row11_col12\" class=\"data row11 col12\" >0.781</td>\n",
       "                        <td id=\"T_45081c64_a8c0_11e9_a74b_34de1a2c1766row11_col13\" class=\"data row11 col13\" >1.153</td>\n",
       "            </tr>\n",
       "            <tr>\n",
       "                        <th id=\"T_45081c64_a8c0_11e9_a74b_34de1a2c1766level0_row12\" class=\"row_heading level0 row12\" >12</th>\n",
       "                        <td id=\"T_45081c64_a8c0_11e9_a74b_34de1a2c1766row12_col0\" class=\"data row12 col0\" >intervals</td>\n",
       "                        <td id=\"T_45081c64_a8c0_11e9_a74b_34de1a2c1766row12_col1\" class=\"data row12 col1\" >450 - 550</td>\n",
       "                        <td id=\"T_45081c64_a8c0_11e9_a74b_34de1a2c1766row12_col2\" class=\"data row12 col2\" >50 - 150</td>\n",
       "                        <td id=\"T_45081c64_a8c0_11e9_a74b_34de1a2c1766row12_col3\" class=\"data row12 col3\" >True</td>\n",
       "                        <td id=\"T_45081c64_a8c0_11e9_a74b_34de1a2c1766row12_col4\" class=\"data row12 col4\" >True</td>\n",
       "                        <td id=\"T_45081c64_a8c0_11e9_a74b_34de1a2c1766row12_col5\" class=\"data row12 col5\" >1.73</td>\n",
       "                        <td id=\"T_45081c64_a8c0_11e9_a74b_34de1a2c1766row12_col6\" class=\"data row12 col6\" >12</td>\n",
       "                        <td id=\"T_45081c64_a8c0_11e9_a74b_34de1a2c1766row12_col7\" class=\"data row12 col7\" >two-sided</td>\n",
       "                        <td id=\"T_45081c64_a8c0_11e9_a74b_34de1a2c1766row12_col8\" class=\"data row12 col8\" >0.109294</td>\n",
       "                        <td id=\"T_45081c64_a8c0_11e9_a74b_34de1a2c1766row12_col9\" class=\"data row12 col9\" >1</td>\n",
       "                        <td id=\"T_45081c64_a8c0_11e9_a74b_34de1a2c1766row12_col10\" class=\"data row12 col10\" >bonferroni</td>\n",
       "                        <td id=\"T_45081c64_a8c0_11e9_a74b_34de1a2c1766row12_col11\" class=\"data row12 col11\" >0.9</td>\n",
       "                        <td id=\"T_45081c64_a8c0_11e9_a74b_34de1a2c1766row12_col12\" class=\"data row12 col12\" >0.686</td>\n",
       "                        <td id=\"T_45081c64_a8c0_11e9_a74b_34de1a2c1766row12_col13\" class=\"data row12 col13\" >0.705</td>\n",
       "            </tr>\n",
       "            <tr>\n",
       "                        <th id=\"T_45081c64_a8c0_11e9_a74b_34de1a2c1766level0_row13\" class=\"row_heading level0 row13\" >13</th>\n",
       "                        <td id=\"T_45081c64_a8c0_11e9_a74b_34de1a2c1766row13_col0\" class=\"data row13 col0\" >intervals</td>\n",
       "                        <td id=\"T_45081c64_a8c0_11e9_a74b_34de1a2c1766row13_col1\" class=\"data row13 col1\" >450 - 550</td>\n",
       "                        <td id=\"T_45081c64_a8c0_11e9_a74b_34de1a2c1766row13_col2\" class=\"data row13 col2\" >550 - 650</td>\n",
       "                        <td id=\"T_45081c64_a8c0_11e9_a74b_34de1a2c1766row13_col3\" class=\"data row13 col3\" >True</td>\n",
       "                        <td id=\"T_45081c64_a8c0_11e9_a74b_34de1a2c1766row13_col4\" class=\"data row13 col4\" >True</td>\n",
       "                        <td id=\"T_45081c64_a8c0_11e9_a74b_34de1a2c1766row13_col5\" class=\"data row13 col5\" >0.04</td>\n",
       "                        <td id=\"T_45081c64_a8c0_11e9_a74b_34de1a2c1766row13_col6\" class=\"data row13 col6\" >12</td>\n",
       "                        <td id=\"T_45081c64_a8c0_11e9_a74b_34de1a2c1766row13_col7\" class=\"data row13 col7\" >two-sided</td>\n",
       "                        <td id=\"T_45081c64_a8c0_11e9_a74b_34de1a2c1766row13_col8\" class=\"data row13 col8\" >0.968708</td>\n",
       "                        <td id=\"T_45081c64_a8c0_11e9_a74b_34de1a2c1766row13_col9\" class=\"data row13 col9\" >1</td>\n",
       "                        <td id=\"T_45081c64_a8c0_11e9_a74b_34de1a2c1766row13_col10\" class=\"data row13 col10\" >bonferroni</td>\n",
       "                        <td id=\"T_45081c64_a8c0_11e9_a74b_34de1a2c1766row13_col11\" class=\"data row13 col11\" >0.278</td>\n",
       "                        <td id=\"T_45081c64_a8c0_11e9_a74b_34de1a2c1766row13_col12\" class=\"data row13 col12\" >0.509</td>\n",
       "                        <td id=\"T_45081c64_a8c0_11e9_a74b_34de1a2c1766row13_col13\" class=\"data row13 col13\" >0.011</td>\n",
       "            </tr>\n",
       "            <tr>\n",
       "                        <th id=\"T_45081c64_a8c0_11e9_a74b_34de1a2c1766level0_row14\" class=\"row_heading level0 row14\" >14</th>\n",
       "                        <td id=\"T_45081c64_a8c0_11e9_a74b_34de1a2c1766row14_col0\" class=\"data row14 col0\" >intervals</td>\n",
       "                        <td id=\"T_45081c64_a8c0_11e9_a74b_34de1a2c1766row14_col1\" class=\"data row14 col1\" >50 - 150</td>\n",
       "                        <td id=\"T_45081c64_a8c0_11e9_a74b_34de1a2c1766row14_col2\" class=\"data row14 col2\" >550 - 650</td>\n",
       "                        <td id=\"T_45081c64_a8c0_11e9_a74b_34de1a2c1766row14_col3\" class=\"data row14 col3\" >True</td>\n",
       "                        <td id=\"T_45081c64_a8c0_11e9_a74b_34de1a2c1766row14_col4\" class=\"data row14 col4\" >True</td>\n",
       "                        <td id=\"T_45081c64_a8c0_11e9_a74b_34de1a2c1766row14_col5\" class=\"data row14 col5\" >-1.676</td>\n",
       "                        <td id=\"T_45081c64_a8c0_11e9_a74b_34de1a2c1766row14_col6\" class=\"data row14 col6\" >12</td>\n",
       "                        <td id=\"T_45081c64_a8c0_11e9_a74b_34de1a2c1766row14_col7\" class=\"data row14 col7\" >two-sided</td>\n",
       "                        <td id=\"T_45081c64_a8c0_11e9_a74b_34de1a2c1766row14_col8\" class=\"data row14 col8\" >0.119672</td>\n",
       "                        <td id=\"T_45081c64_a8c0_11e9_a74b_34de1a2c1766row14_col9\" class=\"data row14 col9\" >1</td>\n",
       "                        <td id=\"T_45081c64_a8c0_11e9_a74b_34de1a2c1766row14_col10\" class=\"data row14 col10\" >bonferroni</td>\n",
       "                        <td id=\"T_45081c64_a8c0_11e9_a74b_34de1a2c1766row14_col11\" class=\"data row14 col11\" >0.843</td>\n",
       "                        <td id=\"T_45081c64_a8c0_11e9_a74b_34de1a2c1766row14_col12\" class=\"data row14 col12\" >0.692</td>\n",
       "                        <td id=\"T_45081c64_a8c0_11e9_a74b_34de1a2c1766row14_col13\" class=\"data row14 col13\" >-0.715</td>\n",
       "            </tr>\n",
       "    </tbody></table>"
      ],
      "text/plain": [
       "<pandas.io.formats.style.Styler at 0x1cbf5c02f28>"
      ]
     },
     "execution_count": 26,
     "metadata": {},
     "output_type": "execute_result"
    }
   ],
   "source": [
    "# Bonferroni-corrected post hocs with Hedges'g effect size\n",
    "posthoc = pg.pairwise_ttests(data=data.loc[data.category=='faces'], dv='value', within='intervals', subject='subs',\n",
    "                             parametric=True, padjust='bonferroni', effsize='hedges')\n",
    "\n",
    "# Pretty printing of table\n",
    "posthoc.style.applymap(color_significant, subset=['p-corr'])"
   ]
  },
  {
   "cell_type": "code",
   "execution_count": 27,
   "metadata": {},
   "outputs": [
    {
     "data": {
      "text/html": [
       "<style  type=\"text/css\" >\n",
       "    #T_455e00ac_a8c0_11e9_bd57_34de1a2c1766row0_col9 {\n",
       "            color:  black;\n",
       "        }    #T_455e00ac_a8c0_11e9_bd57_34de1a2c1766row1_col9 {\n",
       "            color:  black;\n",
       "        }    #T_455e00ac_a8c0_11e9_bd57_34de1a2c1766row2_col9 {\n",
       "            color:  black;\n",
       "        }    #T_455e00ac_a8c0_11e9_bd57_34de1a2c1766row3_col9 {\n",
       "            color:  red;\n",
       "        }    #T_455e00ac_a8c0_11e9_bd57_34de1a2c1766row4_col9 {\n",
       "            color:  black;\n",
       "        }    #T_455e00ac_a8c0_11e9_bd57_34de1a2c1766row5_col9 {\n",
       "            color:  red;\n",
       "        }    #T_455e00ac_a8c0_11e9_bd57_34de1a2c1766row6_col9 {\n",
       "            color:  black;\n",
       "        }    #T_455e00ac_a8c0_11e9_bd57_34de1a2c1766row7_col9 {\n",
       "            color:  black;\n",
       "        }    #T_455e00ac_a8c0_11e9_bd57_34de1a2c1766row8_col9 {\n",
       "            color:  black;\n",
       "        }    #T_455e00ac_a8c0_11e9_bd57_34de1a2c1766row9_col9 {\n",
       "            color:  black;\n",
       "        }    #T_455e00ac_a8c0_11e9_bd57_34de1a2c1766row10_col9 {\n",
       "            color:  black;\n",
       "        }    #T_455e00ac_a8c0_11e9_bd57_34de1a2c1766row11_col9 {\n",
       "            color:  black;\n",
       "        }    #T_455e00ac_a8c0_11e9_bd57_34de1a2c1766row12_col9 {\n",
       "            color:  black;\n",
       "        }    #T_455e00ac_a8c0_11e9_bd57_34de1a2c1766row13_col9 {\n",
       "            color:  black;\n",
       "        }    #T_455e00ac_a8c0_11e9_bd57_34de1a2c1766row14_col9 {\n",
       "            color:  black;\n",
       "        }</style><table id=\"T_455e00ac_a8c0_11e9_bd57_34de1a2c1766\" ><thead>    <tr>        <th class=\"blank level0\" ></th>        <th class=\"col_heading level0 col0\" >Contrast</th>        <th class=\"col_heading level0 col1\" >A</th>        <th class=\"col_heading level0 col2\" >B</th>        <th class=\"col_heading level0 col3\" >Paired</th>        <th class=\"col_heading level0 col4\" >Parametric</th>        <th class=\"col_heading level0 col5\" >T</th>        <th class=\"col_heading level0 col6\" >dof</th>        <th class=\"col_heading level0 col7\" >tail</th>        <th class=\"col_heading level0 col8\" >p-unc</th>        <th class=\"col_heading level0 col9\" >p-corr</th>        <th class=\"col_heading level0 col10\" >p-adjust</th>        <th class=\"col_heading level0 col11\" >BF10</th>        <th class=\"col_heading level0 col12\" >CLES</th>        <th class=\"col_heading level0 col13\" >hedges</th>    </tr></thead><tbody>\n",
       "                <tr>\n",
       "                        <th id=\"T_455e00ac_a8c0_11e9_bd57_34de1a2c1766level0_row0\" class=\"row_heading level0 row0\" >0</th>\n",
       "                        <td id=\"T_455e00ac_a8c0_11e9_bd57_34de1a2c1766row0_col0\" class=\"data row0 col0\" >intervals</td>\n",
       "                        <td id=\"T_455e00ac_a8c0_11e9_bd57_34de1a2c1766row0_col1\" class=\"data row0 col1\" >150 - 250</td>\n",
       "                        <td id=\"T_455e00ac_a8c0_11e9_bd57_34de1a2c1766row0_col2\" class=\"data row0 col2\" >250 - 350</td>\n",
       "                        <td id=\"T_455e00ac_a8c0_11e9_bd57_34de1a2c1766row0_col3\" class=\"data row0 col3\" >True</td>\n",
       "                        <td id=\"T_455e00ac_a8c0_11e9_bd57_34de1a2c1766row0_col4\" class=\"data row0 col4\" >True</td>\n",
       "                        <td id=\"T_455e00ac_a8c0_11e9_bd57_34de1a2c1766row0_col5\" class=\"data row0 col5\" >0.351</td>\n",
       "                        <td id=\"T_455e00ac_a8c0_11e9_bd57_34de1a2c1766row0_col6\" class=\"data row0 col6\" >13</td>\n",
       "                        <td id=\"T_455e00ac_a8c0_11e9_bd57_34de1a2c1766row0_col7\" class=\"data row0 col7\" >two-sided</td>\n",
       "                        <td id=\"T_455e00ac_a8c0_11e9_bd57_34de1a2c1766row0_col8\" class=\"data row0 col8\" >0.730862</td>\n",
       "                        <td id=\"T_455e00ac_a8c0_11e9_bd57_34de1a2c1766row0_col9\" class=\"data row0 col9\" >1</td>\n",
       "                        <td id=\"T_455e00ac_a8c0_11e9_bd57_34de1a2c1766row0_col10\" class=\"data row0 col10\" >bonferroni</td>\n",
       "                        <td id=\"T_455e00ac_a8c0_11e9_bd57_34de1a2c1766row0_col11\" class=\"data row0 col11\" >0.285</td>\n",
       "                        <td id=\"T_455e00ac_a8c0_11e9_bd57_34de1a2c1766row0_col12\" class=\"data row0 col12\" >0.52</td>\n",
       "                        <td id=\"T_455e00ac_a8c0_11e9_bd57_34de1a2c1766row0_col13\" class=\"data row0 col13\" >0.143</td>\n",
       "            </tr>\n",
       "            <tr>\n",
       "                        <th id=\"T_455e00ac_a8c0_11e9_bd57_34de1a2c1766level0_row1\" class=\"row_heading level0 row1\" >1</th>\n",
       "                        <td id=\"T_455e00ac_a8c0_11e9_bd57_34de1a2c1766row1_col0\" class=\"data row1 col0\" >intervals</td>\n",
       "                        <td id=\"T_455e00ac_a8c0_11e9_bd57_34de1a2c1766row1_col1\" class=\"data row1 col1\" >150 - 250</td>\n",
       "                        <td id=\"T_455e00ac_a8c0_11e9_bd57_34de1a2c1766row1_col2\" class=\"data row1 col2\" >350 - 450</td>\n",
       "                        <td id=\"T_455e00ac_a8c0_11e9_bd57_34de1a2c1766row1_col3\" class=\"data row1 col3\" >True</td>\n",
       "                        <td id=\"T_455e00ac_a8c0_11e9_bd57_34de1a2c1766row1_col4\" class=\"data row1 col4\" >True</td>\n",
       "                        <td id=\"T_455e00ac_a8c0_11e9_bd57_34de1a2c1766row1_col5\" class=\"data row1 col5\" >-2.185</td>\n",
       "                        <td id=\"T_455e00ac_a8c0_11e9_bd57_34de1a2c1766row1_col6\" class=\"data row1 col6\" >13</td>\n",
       "                        <td id=\"T_455e00ac_a8c0_11e9_bd57_34de1a2c1766row1_col7\" class=\"data row1 col7\" >two-sided</td>\n",
       "                        <td id=\"T_455e00ac_a8c0_11e9_bd57_34de1a2c1766row1_col8\" class=\"data row1 col8\" >0.047823</td>\n",
       "                        <td id=\"T_455e00ac_a8c0_11e9_bd57_34de1a2c1766row1_col9\" class=\"data row1 col9\" >0.717345</td>\n",
       "                        <td id=\"T_455e00ac_a8c0_11e9_bd57_34de1a2c1766row1_col10\" class=\"data row1 col10\" >bonferroni</td>\n",
       "                        <td id=\"T_455e00ac_a8c0_11e9_bd57_34de1a2c1766row1_col11\" class=\"data row1 col11\" >1.629</td>\n",
       "                        <td id=\"T_455e00ac_a8c0_11e9_bd57_34de1a2c1766row1_col12\" class=\"data row1 col12\" >0.801</td>\n",
       "                        <td id=\"T_455e00ac_a8c0_11e9_bd57_34de1a2c1766row1_col13\" class=\"data row1 col13\" >-1.052</td>\n",
       "            </tr>\n",
       "            <tr>\n",
       "                        <th id=\"T_455e00ac_a8c0_11e9_bd57_34de1a2c1766level0_row2\" class=\"row_heading level0 row2\" >2</th>\n",
       "                        <td id=\"T_455e00ac_a8c0_11e9_bd57_34de1a2c1766row2_col0\" class=\"data row2 col0\" >intervals</td>\n",
       "                        <td id=\"T_455e00ac_a8c0_11e9_bd57_34de1a2c1766row2_col1\" class=\"data row2 col1\" >150 - 250</td>\n",
       "                        <td id=\"T_455e00ac_a8c0_11e9_bd57_34de1a2c1766row2_col2\" class=\"data row2 col2\" >450 - 550</td>\n",
       "                        <td id=\"T_455e00ac_a8c0_11e9_bd57_34de1a2c1766row2_col3\" class=\"data row2 col3\" >True</td>\n",
       "                        <td id=\"T_455e00ac_a8c0_11e9_bd57_34de1a2c1766row2_col4\" class=\"data row2 col4\" >True</td>\n",
       "                        <td id=\"T_455e00ac_a8c0_11e9_bd57_34de1a2c1766row2_col5\" class=\"data row2 col5\" >-1.323</td>\n",
       "                        <td id=\"T_455e00ac_a8c0_11e9_bd57_34de1a2c1766row2_col6\" class=\"data row2 col6\" >13</td>\n",
       "                        <td id=\"T_455e00ac_a8c0_11e9_bd57_34de1a2c1766row2_col7\" class=\"data row2 col7\" >two-sided</td>\n",
       "                        <td id=\"T_455e00ac_a8c0_11e9_bd57_34de1a2c1766row2_col8\" class=\"data row2 col8\" >0.208531</td>\n",
       "                        <td id=\"T_455e00ac_a8c0_11e9_bd57_34de1a2c1766row2_col9\" class=\"data row2 col9\" >1</td>\n",
       "                        <td id=\"T_455e00ac_a8c0_11e9_bd57_34de1a2c1766row2_col10\" class=\"data row2 col10\" >bonferroni</td>\n",
       "                        <td id=\"T_455e00ac_a8c0_11e9_bd57_34de1a2c1766row2_col11\" class=\"data row2 col11\" >0.558</td>\n",
       "                        <td id=\"T_455e00ac_a8c0_11e9_bd57_34de1a2c1766row2_col12\" class=\"data row2 col12\" >0.684</td>\n",
       "                        <td id=\"T_455e00ac_a8c0_11e9_bd57_34de1a2c1766row2_col13\" class=\"data row2 col13\" >-0.617</td>\n",
       "            </tr>\n",
       "            <tr>\n",
       "                        <th id=\"T_455e00ac_a8c0_11e9_bd57_34de1a2c1766level0_row3\" class=\"row_heading level0 row3\" >3</th>\n",
       "                        <td id=\"T_455e00ac_a8c0_11e9_bd57_34de1a2c1766row3_col0\" class=\"data row3 col0\" >intervals</td>\n",
       "                        <td id=\"T_455e00ac_a8c0_11e9_bd57_34de1a2c1766row3_col1\" class=\"data row3 col1\" >150 - 250</td>\n",
       "                        <td id=\"T_455e00ac_a8c0_11e9_bd57_34de1a2c1766row3_col2\" class=\"data row3 col2\" >50 - 150</td>\n",
       "                        <td id=\"T_455e00ac_a8c0_11e9_bd57_34de1a2c1766row3_col3\" class=\"data row3 col3\" >True</td>\n",
       "                        <td id=\"T_455e00ac_a8c0_11e9_bd57_34de1a2c1766row3_col4\" class=\"data row3 col4\" >True</td>\n",
       "                        <td id=\"T_455e00ac_a8c0_11e9_bd57_34de1a2c1766row3_col5\" class=\"data row3 col5\" >-3.659</td>\n",
       "                        <td id=\"T_455e00ac_a8c0_11e9_bd57_34de1a2c1766row3_col6\" class=\"data row3 col6\" >13</td>\n",
       "                        <td id=\"T_455e00ac_a8c0_11e9_bd57_34de1a2c1766row3_col7\" class=\"data row3 col7\" >two-sided</td>\n",
       "                        <td id=\"T_455e00ac_a8c0_11e9_bd57_34de1a2c1766row3_col8\" class=\"data row3 col8\" >0.00288454</td>\n",
       "                        <td id=\"T_455e00ac_a8c0_11e9_bd57_34de1a2c1766row3_col9\" class=\"data row3 col9\" >0.0432681</td>\n",
       "                        <td id=\"T_455e00ac_a8c0_11e9_bd57_34de1a2c1766row3_col10\" class=\"data row3 col10\" >bonferroni</td>\n",
       "                        <td id=\"T_455e00ac_a8c0_11e9_bd57_34de1a2c1766row3_col11\" class=\"data row3 col11\" >15.946</td>\n",
       "                        <td id=\"T_455e00ac_a8c0_11e9_bd57_34de1a2c1766row3_col12\" class=\"data row3 col12\" >0.791</td>\n",
       "                        <td id=\"T_455e00ac_a8c0_11e9_bd57_34de1a2c1766row3_col13\" class=\"data row3 col13\" >-0.954</td>\n",
       "            </tr>\n",
       "            <tr>\n",
       "                        <th id=\"T_455e00ac_a8c0_11e9_bd57_34de1a2c1766level0_row4\" class=\"row_heading level0 row4\" >4</th>\n",
       "                        <td id=\"T_455e00ac_a8c0_11e9_bd57_34de1a2c1766row4_col0\" class=\"data row4 col0\" >intervals</td>\n",
       "                        <td id=\"T_455e00ac_a8c0_11e9_bd57_34de1a2c1766row4_col1\" class=\"data row4 col1\" >150 - 250</td>\n",
       "                        <td id=\"T_455e00ac_a8c0_11e9_bd57_34de1a2c1766row4_col2\" class=\"data row4 col2\" >550 - 650</td>\n",
       "                        <td id=\"T_455e00ac_a8c0_11e9_bd57_34de1a2c1766row4_col3\" class=\"data row4 col3\" >True</td>\n",
       "                        <td id=\"T_455e00ac_a8c0_11e9_bd57_34de1a2c1766row4_col4\" class=\"data row4 col4\" >True</td>\n",
       "                        <td id=\"T_455e00ac_a8c0_11e9_bd57_34de1a2c1766row4_col5\" class=\"data row4 col5\" >-2.637</td>\n",
       "                        <td id=\"T_455e00ac_a8c0_11e9_bd57_34de1a2c1766row4_col6\" class=\"data row4 col6\" >13</td>\n",
       "                        <td id=\"T_455e00ac_a8c0_11e9_bd57_34de1a2c1766row4_col7\" class=\"data row4 col7\" >two-sided</td>\n",
       "                        <td id=\"T_455e00ac_a8c0_11e9_bd57_34de1a2c1766row4_col8\" class=\"data row4 col8\" >0.0205001</td>\n",
       "                        <td id=\"T_455e00ac_a8c0_11e9_bd57_34de1a2c1766row4_col9\" class=\"data row4 col9\" >0.307502</td>\n",
       "                        <td id=\"T_455e00ac_a8c0_11e9_bd57_34de1a2c1766row4_col10\" class=\"data row4 col10\" >bonferroni</td>\n",
       "                        <td id=\"T_455e00ac_a8c0_11e9_bd57_34de1a2c1766row4_col11\" class=\"data row4 col11\" >3.173</td>\n",
       "                        <td id=\"T_455e00ac_a8c0_11e9_bd57_34de1a2c1766row4_col12\" class=\"data row4 col12\" >0.806</td>\n",
       "                        <td id=\"T_455e00ac_a8c0_11e9_bd57_34de1a2c1766row4_col13\" class=\"data row4 col13\" >-1.085</td>\n",
       "            </tr>\n",
       "            <tr>\n",
       "                        <th id=\"T_455e00ac_a8c0_11e9_bd57_34de1a2c1766level0_row5\" class=\"row_heading level0 row5\" >5</th>\n",
       "                        <td id=\"T_455e00ac_a8c0_11e9_bd57_34de1a2c1766row5_col0\" class=\"data row5 col0\" >intervals</td>\n",
       "                        <td id=\"T_455e00ac_a8c0_11e9_bd57_34de1a2c1766row5_col1\" class=\"data row5 col1\" >250 - 350</td>\n",
       "                        <td id=\"T_455e00ac_a8c0_11e9_bd57_34de1a2c1766row5_col2\" class=\"data row5 col2\" >350 - 450</td>\n",
       "                        <td id=\"T_455e00ac_a8c0_11e9_bd57_34de1a2c1766row5_col3\" class=\"data row5 col3\" >True</td>\n",
       "                        <td id=\"T_455e00ac_a8c0_11e9_bd57_34de1a2c1766row5_col4\" class=\"data row5 col4\" >True</td>\n",
       "                        <td id=\"T_455e00ac_a8c0_11e9_bd57_34de1a2c1766row5_col5\" class=\"data row5 col5\" >-4.2</td>\n",
       "                        <td id=\"T_455e00ac_a8c0_11e9_bd57_34de1a2c1766row5_col6\" class=\"data row5 col6\" >13</td>\n",
       "                        <td id=\"T_455e00ac_a8c0_11e9_bd57_34de1a2c1766row5_col7\" class=\"data row5 col7\" >two-sided</td>\n",
       "                        <td id=\"T_455e00ac_a8c0_11e9_bd57_34de1a2c1766row5_col8\" class=\"data row5 col8\" >0.00104011</td>\n",
       "                        <td id=\"T_455e00ac_a8c0_11e9_bd57_34de1a2c1766row5_col9\" class=\"data row5 col9\" >0.0156016</td>\n",
       "                        <td id=\"T_455e00ac_a8c0_11e9_bd57_34de1a2c1766row5_col10\" class=\"data row5 col10\" >bonferroni</td>\n",
       "                        <td id=\"T_455e00ac_a8c0_11e9_bd57_34de1a2c1766row5_col11\" class=\"data row5 col11\" >37.868</td>\n",
       "                        <td id=\"T_455e00ac_a8c0_11e9_bd57_34de1a2c1766row5_col12\" class=\"data row5 col12\" >0.847</td>\n",
       "                        <td id=\"T_455e00ac_a8c0_11e9_bd57_34de1a2c1766row5_col13\" class=\"data row5 col13\" >-1.316</td>\n",
       "            </tr>\n",
       "            <tr>\n",
       "                        <th id=\"T_455e00ac_a8c0_11e9_bd57_34de1a2c1766level0_row6\" class=\"row_heading level0 row6\" >6</th>\n",
       "                        <td id=\"T_455e00ac_a8c0_11e9_bd57_34de1a2c1766row6_col0\" class=\"data row6 col0\" >intervals</td>\n",
       "                        <td id=\"T_455e00ac_a8c0_11e9_bd57_34de1a2c1766row6_col1\" class=\"data row6 col1\" >250 - 350</td>\n",
       "                        <td id=\"T_455e00ac_a8c0_11e9_bd57_34de1a2c1766row6_col2\" class=\"data row6 col2\" >450 - 550</td>\n",
       "                        <td id=\"T_455e00ac_a8c0_11e9_bd57_34de1a2c1766row6_col3\" class=\"data row6 col3\" >True</td>\n",
       "                        <td id=\"T_455e00ac_a8c0_11e9_bd57_34de1a2c1766row6_col4\" class=\"data row6 col4\" >True</td>\n",
       "                        <td id=\"T_455e00ac_a8c0_11e9_bd57_34de1a2c1766row6_col5\" class=\"data row6 col5\" >-2.118</td>\n",
       "                        <td id=\"T_455e00ac_a8c0_11e9_bd57_34de1a2c1766row6_col6\" class=\"data row6 col6\" >13</td>\n",
       "                        <td id=\"T_455e00ac_a8c0_11e9_bd57_34de1a2c1766row6_col7\" class=\"data row6 col7\" >two-sided</td>\n",
       "                        <td id=\"T_455e00ac_a8c0_11e9_bd57_34de1a2c1766row6_col8\" class=\"data row6 col8\" >0.0540449</td>\n",
       "                        <td id=\"T_455e00ac_a8c0_11e9_bd57_34de1a2c1766row6_col9\" class=\"data row6 col9\" >0.810674</td>\n",
       "                        <td id=\"T_455e00ac_a8c0_11e9_bd57_34de1a2c1766row6_col10\" class=\"data row6 col10\" >bonferroni</td>\n",
       "                        <td id=\"T_455e00ac_a8c0_11e9_bd57_34de1a2c1766row6_col11\" class=\"data row6 col11\" >1.483</td>\n",
       "                        <td id=\"T_455e00ac_a8c0_11e9_bd57_34de1a2c1766row6_col12\" class=\"data row6 col12\" >0.73</td>\n",
       "                        <td id=\"T_455e00ac_a8c0_11e9_bd57_34de1a2c1766row6_col13\" class=\"data row6 col13\" >-0.871</td>\n",
       "            </tr>\n",
       "            <tr>\n",
       "                        <th id=\"T_455e00ac_a8c0_11e9_bd57_34de1a2c1766level0_row7\" class=\"row_heading level0 row7\" >7</th>\n",
       "                        <td id=\"T_455e00ac_a8c0_11e9_bd57_34de1a2c1766row7_col0\" class=\"data row7 col0\" >intervals</td>\n",
       "                        <td id=\"T_455e00ac_a8c0_11e9_bd57_34de1a2c1766row7_col1\" class=\"data row7 col1\" >250 - 350</td>\n",
       "                        <td id=\"T_455e00ac_a8c0_11e9_bd57_34de1a2c1766row7_col2\" class=\"data row7 col2\" >50 - 150</td>\n",
       "                        <td id=\"T_455e00ac_a8c0_11e9_bd57_34de1a2c1766row7_col3\" class=\"data row7 col3\" >True</td>\n",
       "                        <td id=\"T_455e00ac_a8c0_11e9_bd57_34de1a2c1766row7_col4\" class=\"data row7 col4\" >True</td>\n",
       "                        <td id=\"T_455e00ac_a8c0_11e9_bd57_34de1a2c1766row7_col5\" class=\"data row7 col5\" >-2.727</td>\n",
       "                        <td id=\"T_455e00ac_a8c0_11e9_bd57_34de1a2c1766row7_col6\" class=\"data row7 col6\" >13</td>\n",
       "                        <td id=\"T_455e00ac_a8c0_11e9_bd57_34de1a2c1766row7_col7\" class=\"data row7 col7\" >two-sided</td>\n",
       "                        <td id=\"T_455e00ac_a8c0_11e9_bd57_34de1a2c1766row7_col8\" class=\"data row7 col8\" >0.0172839</td>\n",
       "                        <td id=\"T_455e00ac_a8c0_11e9_bd57_34de1a2c1766row7_col9\" class=\"data row7 col9\" >0.259259</td>\n",
       "                        <td id=\"T_455e00ac_a8c0_11e9_bd57_34de1a2c1766row7_col10\" class=\"data row7 col10\" >bonferroni</td>\n",
       "                        <td id=\"T_455e00ac_a8c0_11e9_bd57_34de1a2c1766row7_col11\" class=\"data row7 col11\" >3.64</td>\n",
       "                        <td id=\"T_455e00ac_a8c0_11e9_bd57_34de1a2c1766row7_col12\" class=\"data row7 col12\" >0.801</td>\n",
       "                        <td id=\"T_455e00ac_a8c0_11e9_bd57_34de1a2c1766row7_col13\" class=\"data row7 col13\" >-1.214</td>\n",
       "            </tr>\n",
       "            <tr>\n",
       "                        <th id=\"T_455e00ac_a8c0_11e9_bd57_34de1a2c1766level0_row8\" class=\"row_heading level0 row8\" >8</th>\n",
       "                        <td id=\"T_455e00ac_a8c0_11e9_bd57_34de1a2c1766row8_col0\" class=\"data row8 col0\" >intervals</td>\n",
       "                        <td id=\"T_455e00ac_a8c0_11e9_bd57_34de1a2c1766row8_col1\" class=\"data row8 col1\" >250 - 350</td>\n",
       "                        <td id=\"T_455e00ac_a8c0_11e9_bd57_34de1a2c1766row8_col2\" class=\"data row8 col2\" >550 - 650</td>\n",
       "                        <td id=\"T_455e00ac_a8c0_11e9_bd57_34de1a2c1766row8_col3\" class=\"data row8 col3\" >True</td>\n",
       "                        <td id=\"T_455e00ac_a8c0_11e9_bd57_34de1a2c1766row8_col4\" class=\"data row8 col4\" >True</td>\n",
       "                        <td id=\"T_455e00ac_a8c0_11e9_bd57_34de1a2c1766row8_col5\" class=\"data row8 col5\" >-3.254</td>\n",
       "                        <td id=\"T_455e00ac_a8c0_11e9_bd57_34de1a2c1766row8_col6\" class=\"data row8 col6\" >13</td>\n",
       "                        <td id=\"T_455e00ac_a8c0_11e9_bd57_34de1a2c1766row8_col7\" class=\"data row8 col7\" >two-sided</td>\n",
       "                        <td id=\"T_455e00ac_a8c0_11e9_bd57_34de1a2c1766row8_col8\" class=\"data row8 col8\" >0.00628145</td>\n",
       "                        <td id=\"T_455e00ac_a8c0_11e9_bd57_34de1a2c1766row8_col9\" class=\"data row8 col9\" >0.0942217</td>\n",
       "                        <td id=\"T_455e00ac_a8c0_11e9_bd57_34de1a2c1766row8_col10\" class=\"data row8 col10\" >bonferroni</td>\n",
       "                        <td id=\"T_455e00ac_a8c0_11e9_bd57_34de1a2c1766row8_col11\" class=\"data row8 col11\" >8.327</td>\n",
       "                        <td id=\"T_455e00ac_a8c0_11e9_bd57_34de1a2c1766row8_col12\" class=\"data row8 col12\" >0.821</td>\n",
       "                        <td id=\"T_455e00ac_a8c0_11e9_bd57_34de1a2c1766row8_col13\" class=\"data row8 col13\" >-1.375</td>\n",
       "            </tr>\n",
       "            <tr>\n",
       "                        <th id=\"T_455e00ac_a8c0_11e9_bd57_34de1a2c1766level0_row9\" class=\"row_heading level0 row9\" >9</th>\n",
       "                        <td id=\"T_455e00ac_a8c0_11e9_bd57_34de1a2c1766row9_col0\" class=\"data row9 col0\" >intervals</td>\n",
       "                        <td id=\"T_455e00ac_a8c0_11e9_bd57_34de1a2c1766row9_col1\" class=\"data row9 col1\" >350 - 450</td>\n",
       "                        <td id=\"T_455e00ac_a8c0_11e9_bd57_34de1a2c1766row9_col2\" class=\"data row9 col2\" >450 - 550</td>\n",
       "                        <td id=\"T_455e00ac_a8c0_11e9_bd57_34de1a2c1766row9_col3\" class=\"data row9 col3\" >True</td>\n",
       "                        <td id=\"T_455e00ac_a8c0_11e9_bd57_34de1a2c1766row9_col4\" class=\"data row9 col4\" >True</td>\n",
       "                        <td id=\"T_455e00ac_a8c0_11e9_bd57_34de1a2c1766row9_col5\" class=\"data row9 col5\" >1.803</td>\n",
       "                        <td id=\"T_455e00ac_a8c0_11e9_bd57_34de1a2c1766row9_col6\" class=\"data row9 col6\" >13</td>\n",
       "                        <td id=\"T_455e00ac_a8c0_11e9_bd57_34de1a2c1766row9_col7\" class=\"data row9 col7\" >two-sided</td>\n",
       "                        <td id=\"T_455e00ac_a8c0_11e9_bd57_34de1a2c1766row9_col8\" class=\"data row9 col8\" >0.0946696</td>\n",
       "                        <td id=\"T_455e00ac_a8c0_11e9_bd57_34de1a2c1766row9_col9\" class=\"data row9 col9\" >1</td>\n",
       "                        <td id=\"T_455e00ac_a8c0_11e9_bd57_34de1a2c1766row9_col10\" class=\"data row9 col10\" >bonferroni</td>\n",
       "                        <td id=\"T_455e00ac_a8c0_11e9_bd57_34de1a2c1766row9_col11\" class=\"data row9 col11\" >0.973</td>\n",
       "                        <td id=\"T_455e00ac_a8c0_11e9_bd57_34de1a2c1766row9_col12\" class=\"data row9 col12\" >0.663</td>\n",
       "                        <td id=\"T_455e00ac_a8c0_11e9_bd57_34de1a2c1766row9_col13\" class=\"data row9 col13\" >0.619</td>\n",
       "            </tr>\n",
       "            <tr>\n",
       "                        <th id=\"T_455e00ac_a8c0_11e9_bd57_34de1a2c1766level0_row10\" class=\"row_heading level0 row10\" >10</th>\n",
       "                        <td id=\"T_455e00ac_a8c0_11e9_bd57_34de1a2c1766row10_col0\" class=\"data row10 col0\" >intervals</td>\n",
       "                        <td id=\"T_455e00ac_a8c0_11e9_bd57_34de1a2c1766row10_col1\" class=\"data row10 col1\" >350 - 450</td>\n",
       "                        <td id=\"T_455e00ac_a8c0_11e9_bd57_34de1a2c1766row10_col2\" class=\"data row10 col2\" >50 - 150</td>\n",
       "                        <td id=\"T_455e00ac_a8c0_11e9_bd57_34de1a2c1766row10_col3\" class=\"data row10 col3\" >True</td>\n",
       "                        <td id=\"T_455e00ac_a8c0_11e9_bd57_34de1a2c1766row10_col4\" class=\"data row10 col4\" >True</td>\n",
       "                        <td id=\"T_455e00ac_a8c0_11e9_bd57_34de1a2c1766row10_col5\" class=\"data row10 col5\" >0.269</td>\n",
       "                        <td id=\"T_455e00ac_a8c0_11e9_bd57_34de1a2c1766row10_col6\" class=\"data row10 col6\" >13</td>\n",
       "                        <td id=\"T_455e00ac_a8c0_11e9_bd57_34de1a2c1766row10_col7\" class=\"data row10 col7\" >two-sided</td>\n",
       "                        <td id=\"T_455e00ac_a8c0_11e9_bd57_34de1a2c1766row10_col8\" class=\"data row10 col8\" >0.792213</td>\n",
       "                        <td id=\"T_455e00ac_a8c0_11e9_bd57_34de1a2c1766row10_col9\" class=\"data row10 col9\" >1</td>\n",
       "                        <td id=\"T_455e00ac_a8c0_11e9_bd57_34de1a2c1766row10_col10\" class=\"data row10 col10\" >bonferroni</td>\n",
       "                        <td id=\"T_455e00ac_a8c0_11e9_bd57_34de1a2c1766row10_col11\" class=\"data row10 col11\" >0.279</td>\n",
       "                        <td id=\"T_455e00ac_a8c0_11e9_bd57_34de1a2c1766row10_col12\" class=\"data row10 col12\" >0.587</td>\n",
       "                        <td id=\"T_455e00ac_a8c0_11e9_bd57_34de1a2c1766row10_col13\" class=\"data row10 col13\" >0.123</td>\n",
       "            </tr>\n",
       "            <tr>\n",
       "                        <th id=\"T_455e00ac_a8c0_11e9_bd57_34de1a2c1766level0_row11\" class=\"row_heading level0 row11\" >11</th>\n",
       "                        <td id=\"T_455e00ac_a8c0_11e9_bd57_34de1a2c1766row11_col0\" class=\"data row11 col0\" >intervals</td>\n",
       "                        <td id=\"T_455e00ac_a8c0_11e9_bd57_34de1a2c1766row11_col1\" class=\"data row11 col1\" >350 - 450</td>\n",
       "                        <td id=\"T_455e00ac_a8c0_11e9_bd57_34de1a2c1766row11_col2\" class=\"data row11 col2\" >550 - 650</td>\n",
       "                        <td id=\"T_455e00ac_a8c0_11e9_bd57_34de1a2c1766row11_col3\" class=\"data row11 col3\" >True</td>\n",
       "                        <td id=\"T_455e00ac_a8c0_11e9_bd57_34de1a2c1766row11_col4\" class=\"data row11 col4\" >True</td>\n",
       "                        <td id=\"T_455e00ac_a8c0_11e9_bd57_34de1a2c1766row11_col5\" class=\"data row11 col5\" >0.116</td>\n",
       "                        <td id=\"T_455e00ac_a8c0_11e9_bd57_34de1a2c1766row11_col6\" class=\"data row11 col6\" >13</td>\n",
       "                        <td id=\"T_455e00ac_a8c0_11e9_bd57_34de1a2c1766row11_col7\" class=\"data row11 col7\" >two-sided</td>\n",
       "                        <td id=\"T_455e00ac_a8c0_11e9_bd57_34de1a2c1766row11_col8\" class=\"data row11 col8\" >0.909265</td>\n",
       "                        <td id=\"T_455e00ac_a8c0_11e9_bd57_34de1a2c1766row11_col9\" class=\"data row11 col9\" >1</td>\n",
       "                        <td id=\"T_455e00ac_a8c0_11e9_bd57_34de1a2c1766row11_col10\" class=\"data row11 col10\" >bonferroni</td>\n",
       "                        <td id=\"T_455e00ac_a8c0_11e9_bd57_34de1a2c1766row11_col11\" class=\"data row11 col11\" >0.272</td>\n",
       "                        <td id=\"T_455e00ac_a8c0_11e9_bd57_34de1a2c1766row11_col12\" class=\"data row11 col12\" >0.505</td>\n",
       "                        <td id=\"T_455e00ac_a8c0_11e9_bd57_34de1a2c1766row11_col13\" class=\"data row11 col13\" >0.044</td>\n",
       "            </tr>\n",
       "            <tr>\n",
       "                        <th id=\"T_455e00ac_a8c0_11e9_bd57_34de1a2c1766level0_row12\" class=\"row_heading level0 row12\" >12</th>\n",
       "                        <td id=\"T_455e00ac_a8c0_11e9_bd57_34de1a2c1766row12_col0\" class=\"data row12 col0\" >intervals</td>\n",
       "                        <td id=\"T_455e00ac_a8c0_11e9_bd57_34de1a2c1766row12_col1\" class=\"data row12 col1\" >450 - 550</td>\n",
       "                        <td id=\"T_455e00ac_a8c0_11e9_bd57_34de1a2c1766row12_col2\" class=\"data row12 col2\" >50 - 150</td>\n",
       "                        <td id=\"T_455e00ac_a8c0_11e9_bd57_34de1a2c1766row12_col3\" class=\"data row12 col3\" >True</td>\n",
       "                        <td id=\"T_455e00ac_a8c0_11e9_bd57_34de1a2c1766row12_col4\" class=\"data row12 col4\" >True</td>\n",
       "                        <td id=\"T_455e00ac_a8c0_11e9_bd57_34de1a2c1766row12_col5\" class=\"data row12 col5\" >-1.25</td>\n",
       "                        <td id=\"T_455e00ac_a8c0_11e9_bd57_34de1a2c1766row12_col6\" class=\"data row12 col6\" >13</td>\n",
       "                        <td id=\"T_455e00ac_a8c0_11e9_bd57_34de1a2c1766row12_col7\" class=\"data row12 col7\" >two-sided</td>\n",
       "                        <td id=\"T_455e00ac_a8c0_11e9_bd57_34de1a2c1766row12_col8\" class=\"data row12 col8\" >0.233211</td>\n",
       "                        <td id=\"T_455e00ac_a8c0_11e9_bd57_34de1a2c1766row12_col9\" class=\"data row12 col9\" >1</td>\n",
       "                        <td id=\"T_455e00ac_a8c0_11e9_bd57_34de1a2c1766row12_col10\" class=\"data row12 col10\" >bonferroni</td>\n",
       "                        <td id=\"T_455e00ac_a8c0_11e9_bd57_34de1a2c1766row12_col11\" class=\"data row12 col11\" >0.518</td>\n",
       "                        <td id=\"T_455e00ac_a8c0_11e9_bd57_34de1a2c1766row12_col12\" class=\"data row12 col12\" >0.597</td>\n",
       "                        <td id=\"T_455e00ac_a8c0_11e9_bd57_34de1a2c1766row12_col13\" class=\"data row12 col13\" >-0.491</td>\n",
       "            </tr>\n",
       "            <tr>\n",
       "                        <th id=\"T_455e00ac_a8c0_11e9_bd57_34de1a2c1766level0_row13\" class=\"row_heading level0 row13\" >13</th>\n",
       "                        <td id=\"T_455e00ac_a8c0_11e9_bd57_34de1a2c1766row13_col0\" class=\"data row13 col0\" >intervals</td>\n",
       "                        <td id=\"T_455e00ac_a8c0_11e9_bd57_34de1a2c1766row13_col1\" class=\"data row13 col1\" >450 - 550</td>\n",
       "                        <td id=\"T_455e00ac_a8c0_11e9_bd57_34de1a2c1766row13_col2\" class=\"data row13 col2\" >550 - 650</td>\n",
       "                        <td id=\"T_455e00ac_a8c0_11e9_bd57_34de1a2c1766row13_col3\" class=\"data row13 col3\" >True</td>\n",
       "                        <td id=\"T_455e00ac_a8c0_11e9_bd57_34de1a2c1766row13_col4\" class=\"data row13 col4\" >True</td>\n",
       "                        <td id=\"T_455e00ac_a8c0_11e9_bd57_34de1a2c1766row13_col5\" class=\"data row13 col5\" >-1.845</td>\n",
       "                        <td id=\"T_455e00ac_a8c0_11e9_bd57_34de1a2c1766row13_col6\" class=\"data row13 col6\" >13</td>\n",
       "                        <td id=\"T_455e00ac_a8c0_11e9_bd57_34de1a2c1766row13_col7\" class=\"data row13 col7\" >two-sided</td>\n",
       "                        <td id=\"T_455e00ac_a8c0_11e9_bd57_34de1a2c1766row13_col8\" class=\"data row13 col8\" >0.08801</td>\n",
       "                        <td id=\"T_455e00ac_a8c0_11e9_bd57_34de1a2c1766row13_col9\" class=\"data row13 col9\" >1</td>\n",
       "                        <td id=\"T_455e00ac_a8c0_11e9_bd57_34de1a2c1766row13_col10\" class=\"data row13 col10\" >bonferroni</td>\n",
       "                        <td id=\"T_455e00ac_a8c0_11e9_bd57_34de1a2c1766row13_col11\" class=\"data row13 col11\" >1.027</td>\n",
       "                        <td id=\"T_455e00ac_a8c0_11e9_bd57_34de1a2c1766row13_col12\" class=\"data row13 col12\" >0.658</td>\n",
       "                        <td id=\"T_455e00ac_a8c0_11e9_bd57_34de1a2c1766row13_col13\" class=\"data row13 col13\" >-0.621</td>\n",
       "            </tr>\n",
       "            <tr>\n",
       "                        <th id=\"T_455e00ac_a8c0_11e9_bd57_34de1a2c1766level0_row14\" class=\"row_heading level0 row14\" >14</th>\n",
       "                        <td id=\"T_455e00ac_a8c0_11e9_bd57_34de1a2c1766row14_col0\" class=\"data row14 col0\" >intervals</td>\n",
       "                        <td id=\"T_455e00ac_a8c0_11e9_bd57_34de1a2c1766row14_col1\" class=\"data row14 col1\" >50 - 150</td>\n",
       "                        <td id=\"T_455e00ac_a8c0_11e9_bd57_34de1a2c1766row14_col2\" class=\"data row14 col2\" >550 - 650</td>\n",
       "                        <td id=\"T_455e00ac_a8c0_11e9_bd57_34de1a2c1766row14_col3\" class=\"data row14 col3\" >True</td>\n",
       "                        <td id=\"T_455e00ac_a8c0_11e9_bd57_34de1a2c1766row14_col4\" class=\"data row14 col4\" >True</td>\n",
       "                        <td id=\"T_455e00ac_a8c0_11e9_bd57_34de1a2c1766row14_col5\" class=\"data row14 col5\" >-0.199</td>\n",
       "                        <td id=\"T_455e00ac_a8c0_11e9_bd57_34de1a2c1766row14_col6\" class=\"data row14 col6\" >13</td>\n",
       "                        <td id=\"T_455e00ac_a8c0_11e9_bd57_34de1a2c1766row14_col7\" class=\"data row14 col7\" >two-sided</td>\n",
       "                        <td id=\"T_455e00ac_a8c0_11e9_bd57_34de1a2c1766row14_col8\" class=\"data row14 col8\" >0.845482</td>\n",
       "                        <td id=\"T_455e00ac_a8c0_11e9_bd57_34de1a2c1766row14_col9\" class=\"data row14 col9\" >1</td>\n",
       "                        <td id=\"T_455e00ac_a8c0_11e9_bd57_34de1a2c1766row14_col10\" class=\"data row14 col10\" >bonferroni</td>\n",
       "                        <td id=\"T_455e00ac_a8c0_11e9_bd57_34de1a2c1766row14_col11\" class=\"data row14 col11\" >0.275</td>\n",
       "                        <td id=\"T_455e00ac_a8c0_11e9_bd57_34de1a2c1766row14_col12\" class=\"data row14 col12\" >0.551</td>\n",
       "                        <td id=\"T_455e00ac_a8c0_11e9_bd57_34de1a2c1766row14_col13\" class=\"data row14 col13\" >-0.088</td>\n",
       "            </tr>\n",
       "    </tbody></table>"
      ],
      "text/plain": [
       "<pandas.io.formats.style.Styler at 0x1cbf5c020f0>"
      ]
     },
     "execution_count": 27,
     "metadata": {},
     "output_type": "execute_result"
    }
   ],
   "source": [
    "# Bonferroni-corrected post hocs with Hedges'g effect size\n",
    "posthoc = pg.pairwise_ttests(data=data.loc[data.category=='ensemble'], dv='value', within='intervals', subject='subs',\n",
    "                             parametric=True, padjust='bonferroni', effsize='hedges')\n",
    "\n",
    "# Pretty printing of table\n",
    "posthoc.style.applymap(color_significant, subset=['p-corr'])"
   ]
  },
  {
   "cell_type": "markdown",
   "metadata": {},
   "source": [
    "### Figure "
   ]
  },
  {
   "cell_type": "code",
   "execution_count": 28,
   "metadata": {},
   "outputs": [
    {
     "data": {
      "image/png": "[encoded data removed]",
      "text/plain": [
       "<Figure size 432x288 with 1 Axes>"
      ]
     },
     "metadata": {
      "needs_background": "light"
     },
     "output_type": "display_data"
    }
   ],
   "source": [
    "import matplotlib.pyplot as plt\n",
    "import seaborn as sns\n",
    "%matplotlib inline  \n",
    "sns.pointplot(y='value',x='intervals',hue = 'category', data=data, \n",
    "            order = ['50 - 150','150 - 250','250 - 350','350 - 450','450 - 550','550 - 650'])\n",
    "plt.title('Time')\n",
    "plt.show()\n"
   ]
  },
  {
   "cell_type": "markdown",
   "metadata": {},
   "source": [
    "import numpy as np\n",
    "import pingouin as pg\n",
    "ax = pg.qqplot(data['value'], dist='norm')"
   ]
  },
  {
   "cell_type": "markdown",
   "metadata": {},
   "source": [
    "# Figure "
   ]
  },
  {
   "cell_type": "code",
   "execution_count": 29,
   "metadata": {},
   "outputs": [
    {
     "ename": "NameError",
     "evalue": "name 'ax' is not defined",
     "output_type": "error",
     "traceback": [
      "\u001b[1;31m---------------------------------------------------------------------------\u001b[0m",
      "\u001b[1;31mNameError\u001b[0m                                 Traceback (most recent call last)",
      "\u001b[1;32m<ipython-input-29-74ed9ecb8ff1>\u001b[0m in \u001b[0;36m<module>\u001b[1;34m\u001b[0m\n\u001b[0;32m      6\u001b[0m \u001b[0msns\u001b[0m\u001b[1;33m.\u001b[0m\u001b[0mdespine\u001b[0m\u001b[1;33m(\u001b[0m\u001b[1;33m)\u001b[0m\u001b[1;33m\u001b[0m\u001b[0m\n\u001b[0;32m      7\u001b[0m \u001b[0ma1\u001b[0m\u001b[1;33m.\u001b[0m\u001b[0mset\u001b[0m\u001b[1;33m(\u001b[0m\u001b[0mxlabel\u001b[0m\u001b[1;33m=\u001b[0m\u001b[1;34m'Frequency band'\u001b[0m\u001b[1;33m,\u001b[0m \u001b[0mylabel\u001b[0m\u001b[1;33m=\u001b[0m\u001b[1;34m'Ranking'\u001b[0m\u001b[1;33m)\u001b[0m\u001b[1;33m\u001b[0m\u001b[0m\n\u001b[1;32m----> 8\u001b[1;33m \u001b[0mleg_handles\u001b[0m \u001b[1;33m=\u001b[0m \u001b[0max\u001b[0m\u001b[1;33m.\u001b[0m\u001b[0mget_legend_handles_labels\u001b[0m\u001b[1;33m(\u001b[0m\u001b[1;33m)\u001b[0m\u001b[1;33m[\u001b[0m\u001b[1;36m0\u001b[0m\u001b[1;33m]\u001b[0m\u001b[1;33m\u001b[0m\u001b[0m\n\u001b[0m\u001b[0;32m      9\u001b[0m \u001b[1;31m#ax.legend(leg_handles, ['Blue', 'Orange'])\u001b[0m\u001b[1;33m\u001b[0m\u001b[1;33m\u001b[0m\u001b[0m\n\u001b[0;32m     10\u001b[0m \u001b[0mplt\u001b[0m\u001b[1;33m.\u001b[0m\u001b[0mlegend\u001b[0m\u001b[1;33m(\u001b[0m\u001b[0mframeon\u001b[0m\u001b[1;33m=\u001b[0m\u001b[1;32mFalse\u001b[0m\u001b[1;33m)\u001b[0m\u001b[1;33m\u001b[0m\u001b[0m\n",
      "\u001b[1;31mNameError\u001b[0m: name 'ax' is not defined"
     ]
    },
    {
     "data": {
      "image/png": "[encoded data removed]",
      "text/plain": [
       "<Figure size 1152x432 with 1 Axes>"
      ]
     },
     "metadata": {
      "needs_background": "light"
     },
     "output_type": "display_data"
    }
   ],
   "source": [
    "plt.figure(figsize=(16, 6))\n",
    "a1 = plt.subplot(121) \n",
    "sns.pointplot(y='value',x='bands',hue = 'category', data=data_fq, \n",
    "            order = ['delta','theta','alpha','beta','gamma'],\n",
    "            dodge=True, capsize=0.1)\n",
    "sns.despine()\n",
    "a1.set(xlabel='Frequency band', ylabel='Ranking')\n",
    "leg_handles = ax.get_legend_handles_labels()[0]\n",
    "#ax.legend(leg_handles, ['Blue', 'Orange'])\n",
    "plt.legend(frameon=False)\n",
    "a2 = plt.subplot(122)\n",
    "sns.pointplot(y='value',x='intervals',hue = 'category', data=data_tm, \n",
    "            order = ['50 - 150','150 - 250','250 - 350','350 - 450','450 - 550','550 - 650'],\n",
    "            dodge=True, capsize=0.1)\n",
    "a2.set(xlabel='Interval (ms)', ylabel='Ranking')\n",
    "sns.despine()\n",
    "plt.show()"
   ]
  },
  {
   "cell_type": "code",
   "execution_count": 6,
   "metadata": {},
   "outputs": [
    {
     "data": {
      "image/png": "[encoded data removed]",
      "text/plain": [
       "<Figure size 1152x432 with 2 Axes>"
      ]
     },
     "metadata": {},
     "output_type": "display_data"
    }
   ],
   "source": [
    "%matplotlib qt\n",
    "%matplotlib inline\n",
    "import matplotlib.pyplot as plt\n",
    "import seaborn as sns\n",
    "sns.set_context(\"paper\", font_scale=1.5, rc={\"font.size\":12,\"axes.labelsize\":14})\n",
    "plt.figure(figsize=(16, 6))\n",
    "palette = ['slateblue','mediumseagreen','tomato']\n",
    "\n",
    "a1 = plt.subplot(122) \n",
    "sns.pointplot(y='value',x='bands',hue = 'category', data=data_fq, \n",
    "            order = ['delta','theta','alpha','beta','gamma'],\n",
    "            dodge=True, capsize=0.1, palette = palette)\n",
    "sns.despine()\n",
    "a1.set(xlabel='Frequency band', ylabel='Ranks')\n",
    "\n",
    "handles,labels = a1.get_legend_handles_labels()\n",
    "handles = [handles[1], handles[2], handles[0]]\n",
    "labels = ['words', 'faces', 'ensembles']\n",
    "a1.legend(handles,labels,frameon=False)\n",
    "a1.get_legend().remove()\n",
    "a1.text(-0.2, 45, f'b', fontsize=25)\n",
    "\n",
    "a2 = plt.subplot(121)\n",
    "sns.pointplot(y='value',x='intervals',hue = 'category', data=data_tm, \n",
    "            order = ['50 - 150','150 - 250','250 - 350','350 - 450','450 - 550','550 - 650'],\n",
    "            dodge=True, capsize=0.1, palette = palette)\n",
    "handles,labels = a2.get_legend_handles_labels()\n",
    "handles = [handles[1], handles[2], handles[0]]\n",
    "labels = ['words', 'faces', 'ensembles']\n",
    "a2.legend(handles,labels,frameon=False,loc=(0.9,0.8))\n",
    "a2.set(xlabel='Temporal interval (ms)', ylabel='Ranks')\n",
    "sns.despine()\n",
    "a2.text(-0.2, 36.36, f'a', fontsize=25)\n",
    "#plt.show()\n",
    "plt.savefig('/Users/dannem/Dropbox/RFE/Figures/RFE_figures/freq_time.pdf')\n",
    "#plt.savefig('C:/Users/Dan/Desktop/freq_time.tif')"
   ]
  },
  {
   "cell_type": "markdown",
   "metadata": {},
   "source": [
    "# Correlations"
   ]
  },
  {
   "cell_type": "code",
   "execution_count": 37,
   "metadata": {},
   "outputs": [
    {
     "name": "stdout",
     "output_type": "stream",
     "text": [
      "\n",
      "\n"
     ]
    },
    {
     "data": {
      "text/html": [
       "<div>\n",
       "<style scoped>\n",
       "    .dataframe tbody tr th:only-of-type {\n",
       "        vertical-align: middle;\n",
       "    }\n",
       "\n",
       "    .dataframe tbody tr th {\n",
       "        vertical-align: top;\n",
       "    }\n",
       "\n",
       "    .dataframe thead th {\n",
       "        text-align: right;\n",
       "    }\n",
       "</style>\n",
       "<table border=\"1\" class=\"dataframe\">\n",
       "  <thead>\n",
       "    <tr style=\"text-align: right;\">\n",
       "      <th></th>\n",
       "      <th></th>\n",
       "      <th>N</th>\n",
       "      <th>Mean</th>\n",
       "      <th>SD</th>\n",
       "      <th>SE</th>\n",
       "      <th>95% Conf.</th>\n",
       "      <th>Interval</th>\n",
       "    </tr>\n",
       "    <tr>\n",
       "      <th>Feature</th>\n",
       "      <th>Type</th>\n",
       "      <th></th>\n",
       "      <th></th>\n",
       "      <th></th>\n",
       "      <th></th>\n",
       "      <th></th>\n",
       "      <th></th>\n",
       "    </tr>\n",
       "  </thead>\n",
       "  <tbody>\n",
       "    <tr>\n",
       "      <th rowspan=\"3\" valign=\"top\">fft</th>\n",
       "      <th>Complete</th>\n",
       "      <td>14</td>\n",
       "      <td>0.115396</td>\n",
       "      <td>0.020245</td>\n",
       "      <td>0.005411</td>\n",
       "      <td>0.104790</td>\n",
       "      <td>0.126001</td>\n",
       "    </tr>\n",
       "    <tr>\n",
       "      <th>Split_across</th>\n",
       "      <td>14</td>\n",
       "      <td>0.099090</td>\n",
       "      <td>0.024193</td>\n",
       "      <td>0.006466</td>\n",
       "      <td>0.086417</td>\n",
       "      <td>0.111763</td>\n",
       "    </tr>\n",
       "    <tr>\n",
       "      <th>Split_within</th>\n",
       "      <td>14</td>\n",
       "      <td>0.258793</td>\n",
       "      <td>0.077538</td>\n",
       "      <td>0.020723</td>\n",
       "      <td>0.218176</td>\n",
       "      <td>0.299410</td>\n",
       "    </tr>\n",
       "    <tr>\n",
       "      <th rowspan=\"3\" valign=\"top\">time</th>\n",
       "      <th>Complete</th>\n",
       "      <td>14</td>\n",
       "      <td>0.043373</td>\n",
       "      <td>0.017104</td>\n",
       "      <td>0.004571</td>\n",
       "      <td>0.034413</td>\n",
       "      <td>0.052333</td>\n",
       "    </tr>\n",
       "    <tr>\n",
       "      <th>Split_across</th>\n",
       "      <td>14</td>\n",
       "      <td>0.052512</td>\n",
       "      <td>0.024569</td>\n",
       "      <td>0.006566</td>\n",
       "      <td>0.039642</td>\n",
       "      <td>0.065382</td>\n",
       "    </tr>\n",
       "    <tr>\n",
       "      <th>Split_within</th>\n",
       "      <td>14</td>\n",
       "      <td>0.182516</td>\n",
       "      <td>0.101679</td>\n",
       "      <td>0.027175</td>\n",
       "      <td>0.129253</td>\n",
       "      <td>0.235779</td>\n",
       "    </tr>\n",
       "  </tbody>\n",
       "</table>\n",
       "</div>"
      ],
      "text/plain": [
       "                       N      Mean        SD        SE  95% Conf.  Interval\n",
       "Feature Type                                                               \n",
       "fft     Complete      14  0.115396  0.020245  0.005411   0.104790  0.126001\n",
       "        Split_across  14  0.099090  0.024193  0.006466   0.086417  0.111763\n",
       "        Split_within  14  0.258793  0.077538  0.020723   0.218176  0.299410\n",
       "time    Complete      14  0.043373  0.017104  0.004571   0.034413  0.052333\n",
       "        Split_across  14  0.052512  0.024569  0.006566   0.039642  0.065382\n",
       "        Split_within  14  0.182516  0.101679  0.027175   0.129253  0.235779"
      ]
     },
     "execution_count": 37,
     "metadata": {},
     "output_type": "execute_result"
    }
   ],
   "source": [
    "import numpy as np\n",
    "import pingouin as pg\n",
    "import researchpy as rp\n",
    "data_ens=data[data.Exp=='Ensembles']\n",
    "data_ens.head()\n",
    "sum_df = rp.summary_cont(data_ens.groupby(['Feature', 'Type']))['Value']\n",
    "sum_df"
   ]
  },
  {
   "cell_type": "markdown",
   "metadata": {},
   "source": [
    "# Analysis of optimal feature number"
   ]
  },
  {
   "cell_type": "code",
   "execution_count": 61,
   "metadata": {},
   "outputs": [
    {
     "data": {
      "text/html": [
       "<div>\n",
       "<style scoped>\n",
       "    .dataframe tbody tr th:only-of-type {\n",
       "        vertical-align: middle;\n",
       "    }\n",
       "\n",
       "    .dataframe tbody tr th {\n",
       "        vertical-align: top;\n",
       "    }\n",
       "\n",
       "    .dataframe thead th {\n",
       "        text-align: right;\n",
       "    }\n",
       "</style>\n",
       "<table border=\"1\" class=\"dataframe\">\n",
       "  <thead>\n",
       "    <tr style=\"text-align: right;\">\n",
       "      <th></th>\n",
       "      <th>Batch</th>\n",
       "      <th>Value</th>\n",
       "      <th>Experiment</th>\n",
       "      <th>Feature</th>\n",
       "      <th>Type</th>\n",
       "      <th>Subject</th>\n",
       "      <th>perc_feature</th>\n",
       "    </tr>\n",
       "  </thead>\n",
       "  <tbody>\n",
       "    <tr>\n",
       "      <th>0</th>\n",
       "      <td>7</td>\n",
       "      <td>0.546875</td>\n",
       "      <td>ens</td>\n",
       "      <td>fft</td>\n",
       "      <td>best</td>\n",
       "      <td>1</td>\n",
       "      <td>10.9375</td>\n",
       "    </tr>\n",
       "    <tr>\n",
       "      <th>1</th>\n",
       "      <td>14</td>\n",
       "      <td>0.679688</td>\n",
       "      <td>ens</td>\n",
       "      <td>fft</td>\n",
       "      <td>best</td>\n",
       "      <td>2</td>\n",
       "      <td>21.8750</td>\n",
       "    </tr>\n",
       "    <tr>\n",
       "      <th>2</th>\n",
       "      <td>10</td>\n",
       "      <td>0.578125</td>\n",
       "      <td>ens</td>\n",
       "      <td>fft</td>\n",
       "      <td>best</td>\n",
       "      <td>3</td>\n",
       "      <td>15.6250</td>\n",
       "    </tr>\n",
       "    <tr>\n",
       "      <th>3</th>\n",
       "      <td>13</td>\n",
       "      <td>0.679688</td>\n",
       "      <td>ens</td>\n",
       "      <td>fft</td>\n",
       "      <td>best</td>\n",
       "      <td>4</td>\n",
       "      <td>20.3125</td>\n",
       "    </tr>\n",
       "    <tr>\n",
       "      <th>4</th>\n",
       "      <td>7</td>\n",
       "      <td>0.546875</td>\n",
       "      <td>ens</td>\n",
       "      <td>fft</td>\n",
       "      <td>best</td>\n",
       "      <td>5</td>\n",
       "      <td>10.9375</td>\n",
       "    </tr>\n",
       "  </tbody>\n",
       "</table>\n",
       "</div>"
      ],
      "text/plain": [
       "   Batch     Value Experiment Feature  Type  Subject  perc_feature\n",
       "0      7  0.546875        ens     fft  best        1       10.9375\n",
       "1     14  0.679688        ens     fft  best        2       21.8750\n",
       "2     10  0.578125        ens     fft  best        3       15.6250\n",
       "3     13  0.679688        ens     fft  best        4       20.3125\n",
       "4      7  0.546875        ens     fft  best        5       10.9375"
      ]
     },
     "execution_count": 61,
     "metadata": {},
     "output_type": "execute_result"
    }
   ],
   "source": [
    "import pandas as pd\n",
    "data = pd.read_csv('/Users/dannem/Dropbox/RFE/Analysis/accur.csv')\n",
    "data['perc_feature'] = (data.Batch/64)*100\n",
    "data.head()"
   ]
  },
  {
   "cell_type": "code",
   "execution_count": 73,
   "metadata": {},
   "outputs": [
    {
     "data": {
      "text/plain": [
       "<Figure size 1152x432 with 0 Axes>"
      ]
     },
     "metadata": {},
     "output_type": "display_data"
    },
    {
     "data": {
      "image/png": "[encoded data removed]",
      "text/plain": [
       "<Figure size 443.27x360 with 1 Axes>"
      ]
     },
     "metadata": {
      "needs_background": "light"
     },
     "output_type": "display_data"
    }
   ],
   "source": [
    "%matplotlib qt\n",
    "%matplotlib inline\n",
    "import matplotlib.pyplot as plt\n",
    "import seaborn as sns\n",
    "sns.set_context(\"paper\", font_scale=1.5, rc={\"font.size\":12,\"axes.labelsize\":14})\n",
    "palette = ['slateblue','mediumseagreen','tomato']\n",
    "\n",
    "fig = plt.figure(figsize=(16, 6))\n",
    "g = sns.catplot(x=\"Feature\", y=\"perc_feature\", hue=\"Experiment\", data=data.iloc[:82,:], dodge=True, jitter =0.25);"
   ]
  },
  {
   "cell_type": "code",
   "execution_count": 152,
   "metadata": {},
   "outputs": [
    {
     "data": {
      "image/png": "[encoded data removed]",
      "text/plain": [
       "<Figure size 720x576 with 1 Axes>"
      ]
     },
     "metadata": {
      "needs_background": "light"
     },
     "output_type": "display_data"
    }
   ],
   "source": [
    "data['Experiment'] = data['Experiment'].replace({'ens':'ensembles'})\n",
    "palette = ['mediumseagreen','tomato','slateblue']\n",
    "#plt.figure(figsize=(16, 6))\n",
    "g = sns.catplot(x=\"Feature\", \n",
    "                y=\"perc_feature\", \n",
    "                hue=\"Experiment\", \n",
    "                data=data.iloc[:82,:],\n",
    "                kind='box', \n",
    "                notch=True, \n",
    "                order = ['time','fft'],\n",
    "                hue_order = ['words','faces','ensembles'],\n",
    "                palette=palette,\n",
    "                legend=False)\n",
    "g.set_xticklabels(labels=['time','frequency'],fontsize=16)\n",
    "sns.despine()\n",
    "plt.ylabel('Selected features (%)',fontsize=16)\n",
    "plt.xlabel('')\n",
    "plt.legend(frameon=False,loc=(0.65,0.6),fontsize=16)\n",
    "g.fig.set_size_inches(10, 8)\n",
    "plt.savefig('/Users/dannem/Dropbox/RFE/Figures/RFE_figures/batch_num.tif')\n",
    "plt.show()\n"
   ]
  },
  {
   "cell_type": "markdown",
   "metadata": {},
   "source": [
    "# Movie"
   ]
  },
  {
   "cell_type": "code",
   "execution_count": 3,
   "metadata": {},
   "outputs": [
    {
     "name": "stdout",
     "output_type": "stream",
     "text": [
      "['results_ens_fft', 'results_ens_time', 'results_faces_fft', 'results_faces_time', 'results_words_fft', 'results_words_time']\n"
     ]
    }
   ],
   "source": [
    "import numpy as np\n",
    "import h5py\n",
    "import warnings\n",
    "import pandas as pd\n",
    "warnings.filterwarnings('ignore')\n",
    "mat_name = determine_os()\n",
    "num_features=dict()\n",
    "ranking=dict()\n",
    "with h5py.File(mat_name) as f:\n",
    "    names=list(f.keys())\n",
    "names.pop(0)\n",
    "print(names)"
   ]
  },
  {
   "cell_type": "code",
   "execution_count": 4,
   "metadata": {},
   "outputs": [
    {
     "name": "stdout",
     "output_type": "stream",
     "text": [
      "results_ens_fft\n",
      "[14 13 13 13 13 13 14]\n",
      "[ 7 10  7  8  8  7  8]\n",
      "results_ens_time\n",
      "[64 64 63 63 63 63 62]\n",
      "[50 50 15 49 15 50 21]\n",
      "results_faces_fft\n",
      "[ 1 10  1  8 10  1]\n",
      "[11 11  6 11 11 11 10]\n",
      "results_faces_time\n",
      "[4 6 9 8 4 6]\n",
      "[5 5 5 5 5 5 5]\n",
      "results_words_fft\n",
      "[ 3  3  3  3 14  3  3]\n",
      "[ 9  9  9  6  8  6 22]\n",
      "results_words_time\n",
      "[12  9  5  8 12  9  9]\n",
      "[9 9 9 9 9 9 9]\n",
      "results_ens_fft 8\n",
      "results_ens_time 36\n",
      "results_faces_fft 10\n",
      "results_faces_time 5\n",
      "results_words_fft 10\n",
      "results_words_time 9\n"
     ]
    }
   ],
   "source": [
    "with h5py.File(mat_name) as f:\n",
    "    for i in range(len(names)):\n",
    "        print(names[i])\n",
    "        a=f[names[i]]['batch_summary'].value\n",
    "        print(a[0,1::2].astype('int'))\n",
    "        print(a[0,0::2].astype('int'))\n",
    "        num_features[names[i]]=int(np.round(np.mean(a[0,0::2])))\n",
    "\n",
    "for k, v in num_features.items():\n",
    "    print(k, v)\n"
   ]
  },
  {
   "cell_type": "code",
   "execution_count": 5,
   "metadata": {},
   "outputs": [
    {
     "name": "stdout",
     "output_type": "stream",
     "text": [
      "56\n",
      "28\n",
      "54\n",
      "59\n",
      "54\n",
      "55\n"
     ]
    },
    {
     "data": {
      "text/plain": [
       "(64, 308)"
      ]
     },
     "execution_count": 5,
     "metadata": {},
     "output_type": "execute_result"
    }
   ],
   "source": [
    "with h5py.File(mat_name) as f:\n",
    "    for i in range(len(names)):\n",
    "        a=f[names[i]]['ranking'].value\n",
    "        a=np.squeeze(a[:,1,:])\n",
    "        a=a[1::2]\n",
    "        a=np.squeeze(np.mean(a,axis=0))\n",
    "        a=pd.DataFrame({'features':a})\n",
    "        a['new']=pd.qcut(a.features,64,labels=np.arange(1,65))\n",
    "        a=np.array(a.new)\n",
    "        thresh=64-num_features[names[i]]\n",
    "        print(thresh)\n",
    "        a[np.where(a<thresh)]=0\n",
    "        ranking[names[i]]=np.reshape(a,(64,-1),order='F')\n",
    "ranking[names[i]].shape"
   ]
  },
  {
   "cell_type": "markdown",
   "metadata": {},
   "source": [
    "## Download data"
   ]
  },
  {
   "cell_type": "code",
   "execution_count": 6,
   "metadata": {},
   "outputs": [
    {
     "name": "stdout",
     "output_type": "stream",
     "text": [
      "/Users/dannem/Dropbox/Programming/Python/Work/ANOVA\n"
     ]
    }
   ],
   "source": [
    "import pickle\n",
    "import os\n",
    "cwd = os.getcwd()\n",
    "print(cwd)\n",
    "pickle_in = open(\"/Users/dannem/Dropbox/Programming/Data/info.pcl\",\"rb\")\n",
    "#pickle_in = open(\"C:/Users/Dan/Dropbox/Programming/Data/info.pcl\",\"rb\")\n",
    "info = pickle.load(pickle_in)\n",
    "pickle_in.close()"
   ]
  },
  {
   "cell_type": "markdown",
   "metadata": {},
   "source": [
    "## Frequency"
   ]
  },
  {
   "cell_type": "code",
   "execution_count": 41,
   "metadata": {},
   "outputs": [
    {
     "data": {
      "image/png": "[encoded data removed]",
      "text/plain": [
       "<Figure size 432x288 with 2 Axes>"
      ]
     },
     "metadata": {},
     "output_type": "display_data"
    },
    {
     "data": {
      "image/png": "[encoded data removed]",
      "text/plain": [
       "<Figure size 432x288 with 3 Axes>"
      ]
     },
     "metadata": {},
     "output_type": "display_data"
    },
    {
     "data": {
      "text/plain": [
       "<Figure size 432x288 with 0 Axes>"
      ]
     },
     "metadata": {},
     "output_type": "display_data"
    },
    {
     "data": {
      "text/plain": [
       "<Figure size 432x288 with 0 Axes>"
      ]
     },
     "metadata": {},
     "output_type": "display_data"
    },
    {
     "data": {
      "text/plain": [
       "<Figure size 432x288 with 0 Axes>"
      ]
     },
     "metadata": {},
     "output_type": "display_data"
    },
    {
     "data": {
      "text/plain": [
       "<Figure size 432x288 with 0 Axes>"
      ]
     },
     "metadata": {},
     "output_type": "display_data"
    },
    {
     "data": {
      "text/plain": [
       "<Figure size 432x288 with 0 Axes>"
      ]
     },
     "metadata": {},
     "output_type": "display_data"
    },
    {
     "data": {
      "text/plain": [
       "<Figure size 432x288 with 0 Axes>"
      ]
     },
     "metadata": {},
     "output_type": "display_data"
    },
    {
     "data": {
      "text/plain": [
       "<Figure size 432x288 with 0 Axes>"
      ]
     },
     "metadata": {},
     "output_type": "display_data"
    },
    {
     "data": {
      "text/plain": [
       "<Figure size 432x288 with 0 Axes>"
      ]
     },
     "metadata": {},
     "output_type": "display_data"
    },
    {
     "data": {
      "text/plain": [
       "<Figure size 432x288 with 0 Axes>"
      ]
     },
     "metadata": {},
     "output_type": "display_data"
    },
    {
     "data": {
      "text/plain": [
       "<Figure size 432x288 with 0 Axes>"
      ]
     },
     "metadata": {},
     "output_type": "display_data"
    },
    {
     "data": {
      "text/plain": [
       "<Figure size 432x288 with 0 Axes>"
      ]
     },
     "metadata": {},
     "output_type": "display_data"
    },
    {
     "data": {
      "text/plain": [
       "<Figure size 432x288 with 0 Axes>"
      ]
     },
     "metadata": {},
     "output_type": "display_data"
    },
    {
     "data": {
      "text/plain": [
       "<Figure size 432x288 with 0 Axes>"
      ]
     },
     "metadata": {},
     "output_type": "display_data"
    },
    {
     "data": {
      "text/plain": [
       "<Figure size 432x288 with 0 Axes>"
      ]
     },
     "metadata": {},
     "output_type": "display_data"
    },
    {
     "data": {
      "text/plain": [
       "<Figure size 432x288 with 0 Axes>"
      ]
     },
     "metadata": {},
     "output_type": "display_data"
    },
    {
     "data": {
      "text/plain": [
       "<Figure size 432x288 with 0 Axes>"
      ]
     },
     "metadata": {},
     "output_type": "display_data"
    },
    {
     "data": {
      "text/plain": [
       "<Figure size 432x288 with 0 Axes>"
      ]
     },
     "metadata": {},
     "output_type": "display_data"
    },
    {
     "data": {
      "text/plain": [
       "<Figure size 432x288 with 0 Axes>"
      ]
     },
     "metadata": {},
     "output_type": "display_data"
    },
    {
     "data": {
      "text/plain": [
       "<Figure size 432x288 with 0 Axes>"
      ]
     },
     "metadata": {},
     "output_type": "display_data"
    },
    {
     "data": {
      "text/plain": [
       "<Figure size 432x288 with 0 Axes>"
      ]
     },
     "metadata": {},
     "output_type": "display_data"
    },
    {
     "data": {
      "text/plain": [
       "<Figure size 432x288 with 0 Axes>"
      ]
     },
     "metadata": {},
     "output_type": "display_data"
    },
    {
     "data": {
      "text/plain": [
       "<Figure size 432x288 with 0 Axes>"
      ]
     },
     "metadata": {},
     "output_type": "display_data"
    },
    {
     "data": {
      "text/plain": [
       "<Figure size 432x288 with 0 Axes>"
      ]
     },
     "metadata": {},
     "output_type": "display_data"
    },
    {
     "data": {
      "text/plain": [
       "<Figure size 432x288 with 0 Axes>"
      ]
     },
     "metadata": {},
     "output_type": "display_data"
    },
    {
     "data": {
      "text/plain": [
       "<Figure size 432x288 with 0 Axes>"
      ]
     },
     "metadata": {},
     "output_type": "display_data"
    },
    {
     "data": {
      "text/plain": [
       "<Figure size 432x288 with 0 Axes>"
      ]
     },
     "metadata": {},
     "output_type": "display_data"
    },
    {
     "data": {
      "text/plain": [
       "<Figure size 432x288 with 0 Axes>"
      ]
     },
     "metadata": {},
     "output_type": "display_data"
    },
    {
     "data": {
      "text/plain": [
       "<Figure size 432x288 with 0 Axes>"
      ]
     },
     "metadata": {},
     "output_type": "display_data"
    },
    {
     "data": {
      "text/plain": [
       "<Figure size 432x288 with 0 Axes>"
      ]
     },
     "metadata": {},
     "output_type": "display_data"
    },
    {
     "data": {
      "text/plain": [
       "<Figure size 432x288 with 0 Axes>"
      ]
     },
     "metadata": {},
     "output_type": "display_data"
    },
    {
     "data": {
      "text/plain": [
       "<Figure size 432x288 with 0 Axes>"
      ]
     },
     "metadata": {},
     "output_type": "display_data"
    },
    {
     "data": {
      "text/plain": [
       "<Figure size 432x288 with 0 Axes>"
      ]
     },
     "metadata": {},
     "output_type": "display_data"
    },
    {
     "data": {
      "text/plain": [
       "<Figure size 432x288 with 0 Axes>"
      ]
     },
     "metadata": {},
     "output_type": "display_data"
    },
    {
     "data": {
      "text/plain": [
       "<Figure size 432x288 with 0 Axes>"
      ]
     },
     "metadata": {},
     "output_type": "display_data"
    },
    {
     "data": {
      "text/plain": [
       "<Figure size 432x288 with 0 Axes>"
      ]
     },
     "metadata": {},
     "output_type": "display_data"
    },
    {
     "data": {
      "text/plain": [
       "<Figure size 432x288 with 0 Axes>"
      ]
     },
     "metadata": {},
     "output_type": "display_data"
    },
    {
     "data": {
      "text/plain": [
       "<Figure size 432x288 with 0 Axes>"
      ]
     },
     "metadata": {},
     "output_type": "display_data"
    },
    {
     "data": {
      "text/plain": [
       "<Figure size 432x288 with 0 Axes>"
      ]
     },
     "metadata": {},
     "output_type": "display_data"
    },
    {
     "data": {
      "text/plain": [
       "<Figure size 432x288 with 0 Axes>"
      ]
     },
     "metadata": {},
     "output_type": "display_data"
    },
    {
     "data": {
      "text/plain": [
       "<Figure size 432x288 with 0 Axes>"
      ]
     },
     "metadata": {},
     "output_type": "display_data"
    },
    {
     "data": {
      "text/plain": [
       "<Figure size 432x288 with 0 Axes>"
      ]
     },
     "metadata": {},
     "output_type": "display_data"
    },
    {
     "data": {
      "text/plain": [
       "<Figure size 432x288 with 0 Axes>"
      ]
     },
     "metadata": {},
     "output_type": "display_data"
    },
    {
     "data": {
      "text/plain": [
       "<Figure size 432x288 with 0 Axes>"
      ]
     },
     "metadata": {},
     "output_type": "display_data"
    },
    {
     "data": {
      "text/plain": [
       "<Figure size 432x288 with 0 Axes>"
      ]
     },
     "metadata": {},
     "output_type": "display_data"
    },
    {
     "data": {
      "text/plain": [
       "<Figure size 432x288 with 0 Axes>"
      ]
     },
     "metadata": {},
     "output_type": "display_data"
    },
    {
     "data": {
      "text/plain": [
       "<Figure size 432x288 with 0 Axes>"
      ]
     },
     "metadata": {},
     "output_type": "display_data"
    },
    {
     "data": {
      "text/plain": [
       "<Figure size 432x288 with 0 Axes>"
      ]
     },
     "metadata": {},
     "output_type": "display_data"
    },
    {
     "data": {
      "text/plain": [
       "<Figure size 432x288 with 0 Axes>"
      ]
     },
     "metadata": {},
     "output_type": "display_data"
    },
    {
     "data": {
      "text/plain": [
       "<Figure size 432x288 with 0 Axes>"
      ]
     },
     "metadata": {},
     "output_type": "display_data"
    },
    {
     "data": {
      "text/plain": [
       "<Figure size 432x288 with 0 Axes>"
      ]
     },
     "metadata": {},
     "output_type": "display_data"
    },
    {
     "data": {
      "text/plain": [
       "<Figure size 432x288 with 0 Axes>"
      ]
     },
     "metadata": {},
     "output_type": "display_data"
    },
    {
     "data": {
      "text/plain": [
       "<Figure size 432x288 with 0 Axes>"
      ]
     },
     "metadata": {},
     "output_type": "display_data"
    },
    {
     "data": {
      "text/plain": [
       "<Figure size 432x288 with 0 Axes>"
      ]
     },
     "metadata": {},
     "output_type": "display_data"
    },
    {
     "data": {
      "text/plain": [
       "<Figure size 432x288 with 0 Axes>"
      ]
     },
     "metadata": {},
     "output_type": "display_data"
    },
    {
     "data": {
      "text/plain": [
       "<Figure size 432x288 with 0 Axes>"
      ]
     },
     "metadata": {},
     "output_type": "display_data"
    },
    {
     "data": {
      "text/plain": [
       "<Figure size 432x288 with 0 Axes>"
      ]
     },
     "metadata": {},
     "output_type": "display_data"
    },
    {
     "data": {
      "text/plain": [
       "<Figure size 432x288 with 0 Axes>"
      ]
     },
     "metadata": {},
     "output_type": "display_data"
    },
    {
     "data": {
      "text/plain": [
       "<Figure size 432x288 with 0 Axes>"
      ]
     },
     "metadata": {},
     "output_type": "display_data"
    },
    {
     "data": {
      "text/plain": [
       "<Figure size 432x288 with 0 Axes>"
      ]
     },
     "metadata": {},
     "output_type": "display_data"
    },
    {
     "data": {
      "text/plain": [
       "<Figure size 432x288 with 0 Axes>"
      ]
     },
     "metadata": {},
     "output_type": "display_data"
    },
    {
     "data": {
      "text/plain": [
       "<Figure size 432x288 with 0 Axes>"
      ]
     },
     "metadata": {},
     "output_type": "display_data"
    },
    {
     "data": {
      "text/plain": [
       "<Figure size 432x288 with 0 Axes>"
      ]
     },
     "metadata": {},
     "output_type": "display_data"
    },
    {
     "data": {
      "text/plain": [
       "<Figure size 432x288 with 0 Axes>"
      ]
     },
     "metadata": {},
     "output_type": "display_data"
    },
    {
     "data": {
      "text/plain": [
       "<Figure size 432x288 with 0 Axes>"
      ]
     },
     "metadata": {},
     "output_type": "display_data"
    },
    {
     "data": {
      "text/plain": [
       "<Figure size 432x288 with 0 Axes>"
      ]
     },
     "metadata": {},
     "output_type": "display_data"
    },
    {
     "data": {
      "text/plain": [
       "<Figure size 432x288 with 0 Axes>"
      ]
     },
     "metadata": {},
     "output_type": "display_data"
    },
    {
     "data": {
      "text/plain": [
       "<Figure size 432x288 with 0 Axes>"
      ]
     },
     "metadata": {},
     "output_type": "display_data"
    },
    {
     "data": {
      "text/plain": [
       "<Figure size 432x288 with 0 Axes>"
      ]
     },
     "metadata": {},
     "output_type": "display_data"
    },
    {
     "data": {
      "text/plain": [
       "<Figure size 432x288 with 0 Axes>"
      ]
     },
     "metadata": {},
     "output_type": "display_data"
    },
    {
     "data": {
      "text/plain": [
       "<Figure size 432x288 with 0 Axes>"
      ]
     },
     "metadata": {},
     "output_type": "display_data"
    },
    {
     "data": {
      "text/plain": [
       "<Figure size 432x288 with 0 Axes>"
      ]
     },
     "metadata": {},
     "output_type": "display_data"
    },
    {
     "data": {
      "text/plain": [
       "<Figure size 432x288 with 0 Axes>"
      ]
     },
     "metadata": {},
     "output_type": "display_data"
    },
    {
     "data": {
      "text/plain": [
       "<Figure size 432x288 with 0 Axes>"
      ]
     },
     "metadata": {},
     "output_type": "display_data"
    },
    {
     "data": {
      "text/plain": [
       "<Figure size 432x288 with 0 Axes>"
      ]
     },
     "metadata": {},
     "output_type": "display_data"
    },
    {
     "data": {
      "text/plain": [
       "<Figure size 432x288 with 0 Axes>"
      ]
     },
     "metadata": {},
     "output_type": "display_data"
    },
    {
     "data": {
      "text/plain": [
       "<Figure size 432x288 with 0 Axes>"
      ]
     },
     "metadata": {},
     "output_type": "display_data"
    },
    {
     "data": {
      "text/plain": [
       "<Figure size 432x288 with 0 Axes>"
      ]
     },
     "metadata": {},
     "output_type": "display_data"
    },
    {
     "data": {
      "text/plain": [
       "<Figure size 432x288 with 0 Axes>"
      ]
     },
     "metadata": {},
     "output_type": "display_data"
    },
    {
     "data": {
      "text/plain": [
       "<Figure size 432x288 with 0 Axes>"
      ]
     },
     "metadata": {},
     "output_type": "display_data"
    },
    {
     "data": {
      "text/plain": [
       "<Figure size 432x288 with 0 Axes>"
      ]
     },
     "metadata": {},
     "output_type": "display_data"
    },
    {
     "data": {
      "text/plain": [
       "<Figure size 432x288 with 0 Axes>"
      ]
     },
     "metadata": {},
     "output_type": "display_data"
    },
    {
     "data": {
      "text/plain": [
       "<Figure size 432x288 with 0 Axes>"
      ]
     },
     "metadata": {},
     "output_type": "display_data"
    },
    {
     "data": {
      "text/plain": [
       "<Figure size 432x288 with 0 Axes>"
      ]
     },
     "metadata": {},
     "output_type": "display_data"
    },
    {
     "data": {
      "text/plain": [
       "<Figure size 432x288 with 0 Axes>"
      ]
     },
     "metadata": {},
     "output_type": "display_data"
    },
    {
     "data": {
      "text/plain": [
       "<Figure size 432x288 with 0 Axes>"
      ]
     },
     "metadata": {},
     "output_type": "display_data"
    },
    {
     "data": {
      "text/plain": [
       "<Figure size 432x288 with 0 Axes>"
      ]
     },
     "metadata": {},
     "output_type": "display_data"
    },
    {
     "data": {
      "text/plain": [
       "<Figure size 432x288 with 0 Axes>"
      ]
     },
     "metadata": {},
     "output_type": "display_data"
    },
    {
     "data": {
      "text/plain": [
       "<Figure size 432x288 with 0 Axes>"
      ]
     },
     "metadata": {},
     "output_type": "display_data"
    },
    {
     "data": {
      "text/plain": [
       "<Figure size 432x288 with 0 Axes>"
      ]
     },
     "metadata": {},
     "output_type": "display_data"
    },
    {
     "data": {
      "text/plain": [
       "<Figure size 432x288 with 0 Axes>"
      ]
     },
     "metadata": {},
     "output_type": "display_data"
    },
    {
     "data": {
      "text/plain": [
       "<Figure size 432x288 with 0 Axes>"
      ]
     },
     "metadata": {},
     "output_type": "display_data"
    },
    {
     "data": {
      "text/plain": [
       "<Figure size 432x288 with 0 Axes>"
      ]
     },
     "metadata": {},
     "output_type": "display_data"
    },
    {
     "data": {
      "text/plain": [
       "<Figure size 432x288 with 0 Axes>"
      ]
     },
     "metadata": {},
     "output_type": "display_data"
    },
    {
     "data": {
      "text/plain": [
       "<Figure size 432x288 with 0 Axes>"
      ]
     },
     "metadata": {},
     "output_type": "display_data"
    },
    {
     "data": {
      "text/plain": [
       "<Figure size 432x288 with 0 Axes>"
      ]
     },
     "metadata": {},
     "output_type": "display_data"
    },
    {
     "data": {
      "text/plain": [
       "<Figure size 432x288 with 0 Axes>"
      ]
     },
     "metadata": {},
     "output_type": "display_data"
    },
    {
     "data": {
      "text/plain": [
       "<Figure size 432x288 with 0 Axes>"
      ]
     },
     "metadata": {},
     "output_type": "display_data"
    },
    {
     "data": {
      "text/plain": [
       "<Figure size 432x288 with 0 Axes>"
      ]
     },
     "metadata": {},
     "output_type": "display_data"
    },
    {
     "data": {
      "text/plain": [
       "<Figure size 432x288 with 0 Axes>"
      ]
     },
     "metadata": {},
     "output_type": "display_data"
    },
    {
     "data": {
      "text/plain": [
       "<Figure size 432x288 with 0 Axes>"
      ]
     },
     "metadata": {},
     "output_type": "display_data"
    },
    {
     "data": {
      "text/plain": [
       "<Figure size 432x288 with 0 Axes>"
      ]
     },
     "metadata": {},
     "output_type": "display_data"
    },
    {
     "data": {
      "text/plain": [
       "<Figure size 432x288 with 0 Axes>"
      ]
     },
     "metadata": {},
     "output_type": "display_data"
    },
    {
     "data": {
      "text/plain": [
       "<Figure size 432x288 with 0 Axes>"
      ]
     },
     "metadata": {},
     "output_type": "display_data"
    },
    {
     "data": {
      "text/plain": [
       "<Figure size 432x288 with 0 Axes>"
      ]
     },
     "metadata": {},
     "output_type": "display_data"
    },
    {
     "data": {
      "text/plain": [
       "<Figure size 432x288 with 0 Axes>"
      ]
     },
     "metadata": {},
     "output_type": "display_data"
    },
    {
     "data": {
      "text/plain": [
       "<Figure size 432x288 with 0 Axes>"
      ]
     },
     "metadata": {},
     "output_type": "display_data"
    },
    {
     "data": {
      "text/plain": [
       "<Figure size 432x288 with 0 Axes>"
      ]
     },
     "metadata": {},
     "output_type": "display_data"
    },
    {
     "data": {
      "text/plain": [
       "<Figure size 432x288 with 0 Axes>"
      ]
     },
     "metadata": {},
     "output_type": "display_data"
    },
    {
     "data": {
      "text/plain": [
       "<Figure size 432x288 with 0 Axes>"
      ]
     },
     "metadata": {},
     "output_type": "display_data"
    },
    {
     "data": {
      "text/plain": [
       "<Figure size 432x288 with 0 Axes>"
      ]
     },
     "metadata": {},
     "output_type": "display_data"
    },
    {
     "data": {
      "text/plain": [
       "<Figure size 432x288 with 0 Axes>"
      ]
     },
     "metadata": {},
     "output_type": "display_data"
    },
    {
     "data": {
      "text/plain": [
       "<Figure size 432x288 with 0 Axes>"
      ]
     },
     "metadata": {},
     "output_type": "display_data"
    },
    {
     "data": {
      "text/plain": [
       "<Figure size 432x288 with 0 Axes>"
      ]
     },
     "metadata": {},
     "output_type": "display_data"
    },
    {
     "data": {
      "text/plain": [
       "<Figure size 432x288 with 0 Axes>"
      ]
     },
     "metadata": {},
     "output_type": "display_data"
    },
    {
     "data": {
      "text/plain": [
       "<Figure size 432x288 with 0 Axes>"
      ]
     },
     "metadata": {},
     "output_type": "display_data"
    },
    {
     "data": {
      "text/plain": [
       "<Figure size 432x288 with 0 Axes>"
      ]
     },
     "metadata": {},
     "output_type": "display_data"
    },
    {
     "data": {
      "text/plain": [
       "<Figure size 432x288 with 0 Axes>"
      ]
     },
     "metadata": {},
     "output_type": "display_data"
    },
    {
     "data": {
      "text/plain": [
       "<Figure size 432x288 with 0 Axes>"
      ]
     },
     "metadata": {},
     "output_type": "display_data"
    },
    {
     "data": {
      "text/plain": [
       "<Figure size 432x288 with 0 Axes>"
      ]
     },
     "metadata": {},
     "output_type": "display_data"
    },
    {
     "data": {
      "text/plain": [
       "<Figure size 432x288 with 0 Axes>"
      ]
     },
     "metadata": {},
     "output_type": "display_data"
    },
    {
     "data": {
      "text/plain": [
       "<Figure size 432x288 with 0 Axes>"
      ]
     },
     "metadata": {},
     "output_type": "display_data"
    },
    {
     "data": {
      "text/plain": [
       "<Figure size 432x288 with 0 Axes>"
      ]
     },
     "metadata": {},
     "output_type": "display_data"
    },
    {
     "data": {
      "text/plain": [
       "<Figure size 432x288 with 0 Axes>"
      ]
     },
     "metadata": {},
     "output_type": "display_data"
    }
   ],
   "source": [
    "%matplotlib inline\n",
    "import numpy as np\n",
    "import matplotlib.pyplot as plt\n",
    "from matplotlib.animation import FuncAnimation\n",
    "from mne.viz import plot_topomap\n",
    "from matplotlib import cm\n",
    "from matplotlib.colors import ListedColormap, LinearSegmentedColormap\n",
    "import matplotlib.patches as patches\n",
    "\n",
    "# Preparing new cmap\n",
    "cmap_red = cm.get_cmap('jet', 256)\n",
    "newcolors = cmap_red(np.linspace(0, 1, 256))\n",
    "bck = np.ones((400,3))/2\n",
    "bck = np.hstack((bck,np.ones((400,1))))\n",
    "newcolors = np.vstack((bck,newcolors[128:]))\n",
    "newcmp = ListedColormap(newcolors)\n",
    "\n",
    "\n",
    "\n",
    "def animate(frame):\n",
    "    from mne.viz import plot_topomap\n",
    "    plot_topomap(ranking[names[4]][:,frame],info,contours=0,axes=ax[0],cmap=newcmp)\n",
    "    plot_topomap(ranking[names[2]][:,frame],info,contours=0,axes=ax[1],cmap=newcmp)\n",
    "    plot_topomap(ranking[names[0]][:,frame],info,contours=0,axes=ax[2],cmap=newcmp)\n",
    "    time_text.set_text(f'{frame+1} Hz')\n",
    "    \n",
    "\n",
    "# Now we can do the plotting!\n",
    "fig, ax = plt.subplots(1,3)\n",
    "# Initialise our line\n",
    "im1, _ = plot_topomap(ranking[names[4]][:,0],info,contours=0,axes=ax[0],cmap=newcmp)\n",
    "im2, = ax[1].plot([0], [0])\n",
    "im3, = ax[2].plot([0], [0])\n",
    "ax[0].title.set_text('Words')\n",
    "ax[1].title.set_text('Faces')\n",
    "ax[2].title.set_text('Ensembles')\n",
    "time_text = ax[2].text(-0.3, -1, '', fontsize=15, \n",
    "                       bbox={'pad': 10, 'facecolor': 'none'})\n",
    "rank_title = ax[1].text(-0.85, -0.7, 'Ranks', fontsize=15)\n",
    "time_title = ax[2].text(-0.5, -0.7, 'Frequency', fontsize=15)\n",
    "cax = fig.add_axes([0.08, 0.2, 0.5, 0.05])\n",
    "fig.colorbar(im1, cax=cax, orientation='horizontal')\n",
    "fig.subplots_adjust(left=0.02, bottom=0.25, right=0.95, top=0.94, wspace=0.05)\n",
    "\n",
    "\n",
    "# Make me pretty\n",
    "#fig.tight_layout()\n",
    "animation = FuncAnimation(\n",
    "    # Your Matplotlib Figure object\n",
    "    fig,\n",
    "    # The function that does the updating of the Figure\n",
    "    animate,\n",
    "    # Frame information (here just frame number)\n",
    "    np.arange(40),\n",
    "    # Frame-time in ms; i.e. for a given frame-rate x, 1000/x\n",
    "    interval=200\n",
    ")\n",
    "animation.save(\"freq.mp4\")\n",
    "\n"
   ]
  },
  {
   "cell_type": "code",
   "execution_count": 15,
   "metadata": {},
   "outputs": [],
   "source": [
    "## Time"
   ]
  },
  {
   "cell_type": "code",
   "execution_count": 40,
   "metadata": {},
   "outputs": [
    {
     "data": {
      "image/png": "[encoded data removed]",
      "text/plain": [
       "<Figure size 432x288 with 2 Axes>"
      ]
     },
     "metadata": {},
     "output_type": "display_data"
    },
    {
     "data": {
      "image/png": "[encoded data removed]",
      "text/plain": [
       "<Figure size 432x288 with 3 Axes>"
      ]
     },
     "metadata": {},
     "output_type": "display_data"
    },
    {
     "data": {
      "text/plain": [
       "<Figure size 432x288 with 0 Axes>"
      ]
     },
     "metadata": {},
     "output_type": "display_data"
    },
    {
     "data": {
      "text/plain": [
       "<Figure size 432x288 with 0 Axes>"
      ]
     },
     "metadata": {},
     "output_type": "display_data"
    },
    {
     "data": {
      "text/plain": [
       "<Figure size 432x288 with 0 Axes>"
      ]
     },
     "metadata": {},
     "output_type": "display_data"
    },
    {
     "data": {
      "text/plain": [
       "<Figure size 432x288 with 0 Axes>"
      ]
     },
     "metadata": {},
     "output_type": "display_data"
    },
    {
     "data": {
      "text/plain": [
       "<Figure size 432x288 with 0 Axes>"
      ]
     },
     "metadata": {},
     "output_type": "display_data"
    },
    {
     "data": {
      "text/plain": [
       "<Figure size 432x288 with 0 Axes>"
      ]
     },
     "metadata": {},
     "output_type": "display_data"
    },
    {
     "data": {
      "text/plain": [
       "<Figure size 432x288 with 0 Axes>"
      ]
     },
     "metadata": {},
     "output_type": "display_data"
    },
    {
     "data": {
      "text/plain": [
       "<Figure size 432x288 with 0 Axes>"
      ]
     },
     "metadata": {},
     "output_type": "display_data"
    },
    {
     "data": {
      "text/plain": [
       "<Figure size 432x288 with 0 Axes>"
      ]
     },
     "metadata": {},
     "output_type": "display_data"
    },
    {
     "data": {
      "text/plain": [
       "<Figure size 432x288 with 0 Axes>"
      ]
     },
     "metadata": {},
     "output_type": "display_data"
    },
    {
     "data": {
      "text/plain": [
       "<Figure size 432x288 with 0 Axes>"
      ]
     },
     "metadata": {},
     "output_type": "display_data"
    },
    {
     "data": {
      "text/plain": [
       "<Figure size 432x288 with 0 Axes>"
      ]
     },
     "metadata": {},
     "output_type": "display_data"
    },
    {
     "data": {
      "text/plain": [
       "<Figure size 432x288 with 0 Axes>"
      ]
     },
     "metadata": {},
     "output_type": "display_data"
    },
    {
     "data": {
      "text/plain": [
       "<Figure size 432x288 with 0 Axes>"
      ]
     },
     "metadata": {},
     "output_type": "display_data"
    },
    {
     "data": {
      "text/plain": [
       "<Figure size 432x288 with 0 Axes>"
      ]
     },
     "metadata": {},
     "output_type": "display_data"
    },
    {
     "data": {
      "text/plain": [
       "<Figure size 432x288 with 0 Axes>"
      ]
     },
     "metadata": {},
     "output_type": "display_data"
    },
    {
     "data": {
      "text/plain": [
       "<Figure size 432x288 with 0 Axes>"
      ]
     },
     "metadata": {},
     "output_type": "display_data"
    },
    {
     "data": {
      "text/plain": [
       "<Figure size 432x288 with 0 Axes>"
      ]
     },
     "metadata": {},
     "output_type": "display_data"
    },
    {
     "data": {
      "text/plain": [
       "<Figure size 432x288 with 0 Axes>"
      ]
     },
     "metadata": {},
     "output_type": "display_data"
    },
    {
     "data": {
      "text/plain": [
       "<Figure size 432x288 with 0 Axes>"
      ]
     },
     "metadata": {},
     "output_type": "display_data"
    },
    {
     "data": {
      "text/plain": [
       "<Figure size 432x288 with 0 Axes>"
      ]
     },
     "metadata": {},
     "output_type": "display_data"
    },
    {
     "data": {
      "text/plain": [
       "<Figure size 432x288 with 0 Axes>"
      ]
     },
     "metadata": {},
     "output_type": "display_data"
    },
    {
     "data": {
      "text/plain": [
       "<Figure size 432x288 with 0 Axes>"
      ]
     },
     "metadata": {},
     "output_type": "display_data"
    },
    {
     "data": {
      "text/plain": [
       "<Figure size 432x288 with 0 Axes>"
      ]
     },
     "metadata": {},
     "output_type": "display_data"
    },
    {
     "data": {
      "text/plain": [
       "<Figure size 432x288 with 0 Axes>"
      ]
     },
     "metadata": {},
     "output_type": "display_data"
    },
    {
     "data": {
      "text/plain": [
       "<Figure size 432x288 with 0 Axes>"
      ]
     },
     "metadata": {},
     "output_type": "display_data"
    },
    {
     "data": {
      "text/plain": [
       "<Figure size 432x288 with 0 Axes>"
      ]
     },
     "metadata": {},
     "output_type": "display_data"
    },
    {
     "data": {
      "text/plain": [
       "<Figure size 432x288 with 0 Axes>"
      ]
     },
     "metadata": {},
     "output_type": "display_data"
    },
    {
     "data": {
      "text/plain": [
       "<Figure size 432x288 with 0 Axes>"
      ]
     },
     "metadata": {},
     "output_type": "display_data"
    },
    {
     "data": {
      "text/plain": [
       "<Figure size 432x288 with 0 Axes>"
      ]
     },
     "metadata": {},
     "output_type": "display_data"
    },
    {
     "data": {
      "text/plain": [
       "<Figure size 432x288 with 0 Axes>"
      ]
     },
     "metadata": {},
     "output_type": "display_data"
    },
    {
     "data": {
      "text/plain": [
       "<Figure size 432x288 with 0 Axes>"
      ]
     },
     "metadata": {},
     "output_type": "display_data"
    },
    {
     "data": {
      "text/plain": [
       "<Figure size 432x288 with 0 Axes>"
      ]
     },
     "metadata": {},
     "output_type": "display_data"
    },
    {
     "data": {
      "text/plain": [
       "<Figure size 432x288 with 0 Axes>"
      ]
     },
     "metadata": {},
     "output_type": "display_data"
    },
    {
     "data": {
      "text/plain": [
       "<Figure size 432x288 with 0 Axes>"
      ]
     },
     "metadata": {},
     "output_type": "display_data"
    },
    {
     "data": {
      "text/plain": [
       "<Figure size 432x288 with 0 Axes>"
      ]
     },
     "metadata": {},
     "output_type": "display_data"
    },
    {
     "data": {
      "text/plain": [
       "<Figure size 432x288 with 0 Axes>"
      ]
     },
     "metadata": {},
     "output_type": "display_data"
    },
    {
     "data": {
      "text/plain": [
       "<Figure size 432x288 with 0 Axes>"
      ]
     },
     "metadata": {},
     "output_type": "display_data"
    },
    {
     "data": {
      "text/plain": [
       "<Figure size 432x288 with 0 Axes>"
      ]
     },
     "metadata": {},
     "output_type": "display_data"
    },
    {
     "data": {
      "text/plain": [
       "<Figure size 432x288 with 0 Axes>"
      ]
     },
     "metadata": {},
     "output_type": "display_data"
    },
    {
     "data": {
      "text/plain": [
       "<Figure size 432x288 with 0 Axes>"
      ]
     },
     "metadata": {},
     "output_type": "display_data"
    },
    {
     "data": {
      "text/plain": [
       "<Figure size 432x288 with 0 Axes>"
      ]
     },
     "metadata": {},
     "output_type": "display_data"
    },
    {
     "data": {
      "text/plain": [
       "<Figure size 432x288 with 0 Axes>"
      ]
     },
     "metadata": {},
     "output_type": "display_data"
    },
    {
     "data": {
      "text/plain": [
       "<Figure size 432x288 with 0 Axes>"
      ]
     },
     "metadata": {},
     "output_type": "display_data"
    },
    {
     "data": {
      "text/plain": [
       "<Figure size 432x288 with 0 Axes>"
      ]
     },
     "metadata": {},
     "output_type": "display_data"
    },
    {
     "data": {
      "text/plain": [
       "<Figure size 432x288 with 0 Axes>"
      ]
     },
     "metadata": {},
     "output_type": "display_data"
    },
    {
     "data": {
      "text/plain": [
       "<Figure size 432x288 with 0 Axes>"
      ]
     },
     "metadata": {},
     "output_type": "display_data"
    },
    {
     "data": {
      "text/plain": [
       "<Figure size 432x288 with 0 Axes>"
      ]
     },
     "metadata": {},
     "output_type": "display_data"
    },
    {
     "data": {
      "text/plain": [
       "<Figure size 432x288 with 0 Axes>"
      ]
     },
     "metadata": {},
     "output_type": "display_data"
    },
    {
     "data": {
      "text/plain": [
       "<Figure size 432x288 with 0 Axes>"
      ]
     },
     "metadata": {},
     "output_type": "display_data"
    },
    {
     "data": {
      "text/plain": [
       "<Figure size 432x288 with 0 Axes>"
      ]
     },
     "metadata": {},
     "output_type": "display_data"
    },
    {
     "data": {
      "text/plain": [
       "<Figure size 432x288 with 0 Axes>"
      ]
     },
     "metadata": {},
     "output_type": "display_data"
    },
    {
     "data": {
      "text/plain": [
       "<Figure size 432x288 with 0 Axes>"
      ]
     },
     "metadata": {},
     "output_type": "display_data"
    },
    {
     "data": {
      "text/plain": [
       "<Figure size 432x288 with 0 Axes>"
      ]
     },
     "metadata": {},
     "output_type": "display_data"
    },
    {
     "data": {
      "text/plain": [
       "<Figure size 432x288 with 0 Axes>"
      ]
     },
     "metadata": {},
     "output_type": "display_data"
    },
    {
     "data": {
      "text/plain": [
       "<Figure size 432x288 with 0 Axes>"
      ]
     },
     "metadata": {},
     "output_type": "display_data"
    },
    {
     "data": {
      "text/plain": [
       "<Figure size 432x288 with 0 Axes>"
      ]
     },
     "metadata": {},
     "output_type": "display_data"
    },
    {
     "data": {
      "text/plain": [
       "<Figure size 432x288 with 0 Axes>"
      ]
     },
     "metadata": {},
     "output_type": "display_data"
    },
    {
     "data": {
      "text/plain": [
       "<Figure size 432x288 with 0 Axes>"
      ]
     },
     "metadata": {},
     "output_type": "display_data"
    },
    {
     "data": {
      "text/plain": [
       "<Figure size 432x288 with 0 Axes>"
      ]
     },
     "metadata": {},
     "output_type": "display_data"
    },
    {
     "data": {
      "text/plain": [
       "<Figure size 432x288 with 0 Axes>"
      ]
     },
     "metadata": {},
     "output_type": "display_data"
    },
    {
     "data": {
      "text/plain": [
       "<Figure size 432x288 with 0 Axes>"
      ]
     },
     "metadata": {},
     "output_type": "display_data"
    },
    {
     "data": {
      "text/plain": [
       "<Figure size 432x288 with 0 Axes>"
      ]
     },
     "metadata": {},
     "output_type": "display_data"
    },
    {
     "data": {
      "text/plain": [
       "<Figure size 432x288 with 0 Axes>"
      ]
     },
     "metadata": {},
     "output_type": "display_data"
    },
    {
     "data": {
      "text/plain": [
       "<Figure size 432x288 with 0 Axes>"
      ]
     },
     "metadata": {},
     "output_type": "display_data"
    },
    {
     "data": {
      "text/plain": [
       "<Figure size 432x288 with 0 Axes>"
      ]
     },
     "metadata": {},
     "output_type": "display_data"
    },
    {
     "data": {
      "text/plain": [
       "<Figure size 432x288 with 0 Axes>"
      ]
     },
     "metadata": {},
     "output_type": "display_data"
    },
    {
     "data": {
      "text/plain": [
       "<Figure size 432x288 with 0 Axes>"
      ]
     },
     "metadata": {},
     "output_type": "display_data"
    },
    {
     "data": {
      "text/plain": [
       "<Figure size 432x288 with 0 Axes>"
      ]
     },
     "metadata": {},
     "output_type": "display_data"
    },
    {
     "data": {
      "text/plain": [
       "<Figure size 432x288 with 0 Axes>"
      ]
     },
     "metadata": {},
     "output_type": "display_data"
    },
    {
     "data": {
      "text/plain": [
       "<Figure size 432x288 with 0 Axes>"
      ]
     },
     "metadata": {},
     "output_type": "display_data"
    },
    {
     "data": {
      "text/plain": [
       "<Figure size 432x288 with 0 Axes>"
      ]
     },
     "metadata": {},
     "output_type": "display_data"
    },
    {
     "data": {
      "text/plain": [
       "<Figure size 432x288 with 0 Axes>"
      ]
     },
     "metadata": {},
     "output_type": "display_data"
    },
    {
     "data": {
      "text/plain": [
       "<Figure size 432x288 with 0 Axes>"
      ]
     },
     "metadata": {},
     "output_type": "display_data"
    },
    {
     "data": {
      "text/plain": [
       "<Figure size 432x288 with 0 Axes>"
      ]
     },
     "metadata": {},
     "output_type": "display_data"
    },
    {
     "data": {
      "text/plain": [
       "<Figure size 432x288 with 0 Axes>"
      ]
     },
     "metadata": {},
     "output_type": "display_data"
    },
    {
     "data": {
      "text/plain": [
       "<Figure size 432x288 with 0 Axes>"
      ]
     },
     "metadata": {},
     "output_type": "display_data"
    },
    {
     "data": {
      "text/plain": [
       "<Figure size 432x288 with 0 Axes>"
      ]
     },
     "metadata": {},
     "output_type": "display_data"
    },
    {
     "data": {
      "text/plain": [
       "<Figure size 432x288 with 0 Axes>"
      ]
     },
     "metadata": {},
     "output_type": "display_data"
    },
    {
     "data": {
      "text/plain": [
       "<Figure size 432x288 with 0 Axes>"
      ]
     },
     "metadata": {},
     "output_type": "display_data"
    },
    {
     "data": {
      "text/plain": [
       "<Figure size 432x288 with 0 Axes>"
      ]
     },
     "metadata": {},
     "output_type": "display_data"
    },
    {
     "data": {
      "text/plain": [
       "<Figure size 432x288 with 0 Axes>"
      ]
     },
     "metadata": {},
     "output_type": "display_data"
    },
    {
     "data": {
      "text/plain": [
       "<Figure size 432x288 with 0 Axes>"
      ]
     },
     "metadata": {},
     "output_type": "display_data"
    },
    {
     "data": {
      "text/plain": [
       "<Figure size 432x288 with 0 Axes>"
      ]
     },
     "metadata": {},
     "output_type": "display_data"
    },
    {
     "data": {
      "text/plain": [
       "<Figure size 432x288 with 0 Axes>"
      ]
     },
     "metadata": {},
     "output_type": "display_data"
    },
    {
     "data": {
      "text/plain": [
       "<Figure size 432x288 with 0 Axes>"
      ]
     },
     "metadata": {},
     "output_type": "display_data"
    },
    {
     "data": {
      "text/plain": [
       "<Figure size 432x288 with 0 Axes>"
      ]
     },
     "metadata": {},
     "output_type": "display_data"
    },
    {
     "data": {
      "text/plain": [
       "<Figure size 432x288 with 0 Axes>"
      ]
     },
     "metadata": {},
     "output_type": "display_data"
    },
    {
     "data": {
      "text/plain": [
       "<Figure size 432x288 with 0 Axes>"
      ]
     },
     "metadata": {},
     "output_type": "display_data"
    },
    {
     "data": {
      "text/plain": [
       "<Figure size 432x288 with 0 Axes>"
      ]
     },
     "metadata": {},
     "output_type": "display_data"
    },
    {
     "data": {
      "text/plain": [
       "<Figure size 432x288 with 0 Axes>"
      ]
     },
     "metadata": {},
     "output_type": "display_data"
    },
    {
     "data": {
      "text/plain": [
       "<Figure size 432x288 with 0 Axes>"
      ]
     },
     "metadata": {},
     "output_type": "display_data"
    },
    {
     "data": {
      "text/plain": [
       "<Figure size 432x288 with 0 Axes>"
      ]
     },
     "metadata": {},
     "output_type": "display_data"
    },
    {
     "data": {
      "text/plain": [
       "<Figure size 432x288 with 0 Axes>"
      ]
     },
     "metadata": {},
     "output_type": "display_data"
    },
    {
     "data": {
      "text/plain": [
       "<Figure size 432x288 with 0 Axes>"
      ]
     },
     "metadata": {},
     "output_type": "display_data"
    },
    {
     "data": {
      "text/plain": [
       "<Figure size 432x288 with 0 Axes>"
      ]
     },
     "metadata": {},
     "output_type": "display_data"
    },
    {
     "data": {
      "text/plain": [
       "<Figure size 432x288 with 0 Axes>"
      ]
     },
     "metadata": {},
     "output_type": "display_data"
    },
    {
     "data": {
      "text/plain": [
       "<Figure size 432x288 with 0 Axes>"
      ]
     },
     "metadata": {},
     "output_type": "display_data"
    },
    {
     "data": {
      "text/plain": [
       "<Figure size 432x288 with 0 Axes>"
      ]
     },
     "metadata": {},
     "output_type": "display_data"
    },
    {
     "data": {
      "text/plain": [
       "<Figure size 432x288 with 0 Axes>"
      ]
     },
     "metadata": {},
     "output_type": "display_data"
    },
    {
     "data": {
      "text/plain": [
       "<Figure size 432x288 with 0 Axes>"
      ]
     },
     "metadata": {},
     "output_type": "display_data"
    },
    {
     "data": {
      "text/plain": [
       "<Figure size 432x288 with 0 Axes>"
      ]
     },
     "metadata": {},
     "output_type": "display_data"
    },
    {
     "data": {
      "text/plain": [
       "<Figure size 432x288 with 0 Axes>"
      ]
     },
     "metadata": {},
     "output_type": "display_data"
    },
    {
     "data": {
      "text/plain": [
       "<Figure size 432x288 with 0 Axes>"
      ]
     },
     "metadata": {},
     "output_type": "display_data"
    },
    {
     "data": {
      "text/plain": [
       "<Figure size 432x288 with 0 Axes>"
      ]
     },
     "metadata": {},
     "output_type": "display_data"
    },
    {
     "data": {
      "text/plain": [
       "<Figure size 432x288 with 0 Axes>"
      ]
     },
     "metadata": {},
     "output_type": "display_data"
    },
    {
     "data": {
      "text/plain": [
       "<Figure size 432x288 with 0 Axes>"
      ]
     },
     "metadata": {},
     "output_type": "display_data"
    },
    {
     "data": {
      "text/plain": [
       "<Figure size 432x288 with 0 Axes>"
      ]
     },
     "metadata": {},
     "output_type": "display_data"
    },
    {
     "data": {
      "text/plain": [
       "<Figure size 432x288 with 0 Axes>"
      ]
     },
     "metadata": {},
     "output_type": "display_data"
    },
    {
     "data": {
      "text/plain": [
       "<Figure size 432x288 with 0 Axes>"
      ]
     },
     "metadata": {},
     "output_type": "display_data"
    },
    {
     "data": {
      "text/plain": [
       "<Figure size 432x288 with 0 Axes>"
      ]
     },
     "metadata": {},
     "output_type": "display_data"
    },
    {
     "data": {
      "text/plain": [
       "<Figure size 432x288 with 0 Axes>"
      ]
     },
     "metadata": {},
     "output_type": "display_data"
    },
    {
     "data": {
      "text/plain": [
       "<Figure size 432x288 with 0 Axes>"
      ]
     },
     "metadata": {},
     "output_type": "display_data"
    },
    {
     "data": {
      "text/plain": [
       "<Figure size 432x288 with 0 Axes>"
      ]
     },
     "metadata": {},
     "output_type": "display_data"
    },
    {
     "data": {
      "text/plain": [
       "<Figure size 432x288 with 0 Axes>"
      ]
     },
     "metadata": {},
     "output_type": "display_data"
    },
    {
     "data": {
      "text/plain": [
       "<Figure size 432x288 with 0 Axes>"
      ]
     },
     "metadata": {},
     "output_type": "display_data"
    },
    {
     "data": {
      "text/plain": [
       "<Figure size 432x288 with 0 Axes>"
      ]
     },
     "metadata": {},
     "output_type": "display_data"
    },
    {
     "data": {
      "text/plain": [
       "<Figure size 432x288 with 0 Axes>"
      ]
     },
     "metadata": {},
     "output_type": "display_data"
    },
    {
     "data": {
      "text/plain": [
       "<Figure size 432x288 with 0 Axes>"
      ]
     },
     "metadata": {},
     "output_type": "display_data"
    },
    {
     "data": {
      "text/plain": [
       "<Figure size 432x288 with 0 Axes>"
      ]
     },
     "metadata": {},
     "output_type": "display_data"
    },
    {
     "data": {
      "text/plain": [
       "<Figure size 432x288 with 0 Axes>"
      ]
     },
     "metadata": {},
     "output_type": "display_data"
    },
    {
     "data": {
      "text/plain": [
       "<Figure size 432x288 with 0 Axes>"
      ]
     },
     "metadata": {},
     "output_type": "display_data"
    },
    {
     "data": {
      "text/plain": [
       "<Figure size 432x288 with 0 Axes>"
      ]
     },
     "metadata": {},
     "output_type": "display_data"
    },
    {
     "data": {
      "text/plain": [
       "<Figure size 432x288 with 0 Axes>"
      ]
     },
     "metadata": {},
     "output_type": "display_data"
    },
    {
     "data": {
      "text/plain": [
       "<Figure size 432x288 with 0 Axes>"
      ]
     },
     "metadata": {},
     "output_type": "display_data"
    },
    {
     "data": {
      "text/plain": [
       "<Figure size 432x288 with 0 Axes>"
      ]
     },
     "metadata": {},
     "output_type": "display_data"
    },
    {
     "data": {
      "text/plain": [
       "<Figure size 432x288 with 0 Axes>"
      ]
     },
     "metadata": {},
     "output_type": "display_data"
    },
    {
     "data": {
      "text/plain": [
       "<Figure size 432x288 with 0 Axes>"
      ]
     },
     "metadata": {},
     "output_type": "display_data"
    },
    {
     "data": {
      "text/plain": [
       "<Figure size 432x288 with 0 Axes>"
      ]
     },
     "metadata": {},
     "output_type": "display_data"
    },
    {
     "data": {
      "text/plain": [
       "<Figure size 432x288 with 0 Axes>"
      ]
     },
     "metadata": {},
     "output_type": "display_data"
    },
    {
     "data": {
      "text/plain": [
       "<Figure size 432x288 with 0 Axes>"
      ]
     },
     "metadata": {},
     "output_type": "display_data"
    },
    {
     "data": {
      "text/plain": [
       "<Figure size 432x288 with 0 Axes>"
      ]
     },
     "metadata": {},
     "output_type": "display_data"
    },
    {
     "data": {
      "text/plain": [
       "<Figure size 432x288 with 0 Axes>"
      ]
     },
     "metadata": {},
     "output_type": "display_data"
    },
    {
     "data": {
      "text/plain": [
       "<Figure size 432x288 with 0 Axes>"
      ]
     },
     "metadata": {},
     "output_type": "display_data"
    },
    {
     "data": {
      "text/plain": [
       "<Figure size 432x288 with 0 Axes>"
      ]
     },
     "metadata": {},
     "output_type": "display_data"
    },
    {
     "data": {
      "text/plain": [
       "<Figure size 432x288 with 0 Axes>"
      ]
     },
     "metadata": {},
     "output_type": "display_data"
    },
    {
     "data": {
      "text/plain": [
       "<Figure size 432x288 with 0 Axes>"
      ]
     },
     "metadata": {},
     "output_type": "display_data"
    },
    {
     "data": {
      "text/plain": [
       "<Figure size 432x288 with 0 Axes>"
      ]
     },
     "metadata": {},
     "output_type": "display_data"
    },
    {
     "data": {
      "text/plain": [
       "<Figure size 432x288 with 0 Axes>"
      ]
     },
     "metadata": {},
     "output_type": "display_data"
    },
    {
     "data": {
      "text/plain": [
       "<Figure size 432x288 with 0 Axes>"
      ]
     },
     "metadata": {},
     "output_type": "display_data"
    },
    {
     "data": {
      "text/plain": [
       "<Figure size 432x288 with 0 Axes>"
      ]
     },
     "metadata": {},
     "output_type": "display_data"
    },
    {
     "data": {
      "text/plain": [
       "<Figure size 432x288 with 0 Axes>"
      ]
     },
     "metadata": {},
     "output_type": "display_data"
    },
    {
     "data": {
      "text/plain": [
       "<Figure size 432x288 with 0 Axes>"
      ]
     },
     "metadata": {},
     "output_type": "display_data"
    },
    {
     "data": {
      "text/plain": [
       "<Figure size 432x288 with 0 Axes>"
      ]
     },
     "metadata": {},
     "output_type": "display_data"
    },
    {
     "data": {
      "text/plain": [
       "<Figure size 432x288 with 0 Axes>"
      ]
     },
     "metadata": {},
     "output_type": "display_data"
    },
    {
     "data": {
      "text/plain": [
       "<Figure size 432x288 with 0 Axes>"
      ]
     },
     "metadata": {},
     "output_type": "display_data"
    },
    {
     "data": {
      "text/plain": [
       "<Figure size 432x288 with 0 Axes>"
      ]
     },
     "metadata": {},
     "output_type": "display_data"
    },
    {
     "data": {
      "text/plain": [
       "<Figure size 432x288 with 0 Axes>"
      ]
     },
     "metadata": {},
     "output_type": "display_data"
    },
    {
     "data": {
      "text/plain": [
       "<Figure size 432x288 with 0 Axes>"
      ]
     },
     "metadata": {},
     "output_type": "display_data"
    },
    {
     "data": {
      "text/plain": [
       "<Figure size 432x288 with 0 Axes>"
      ]
     },
     "metadata": {},
     "output_type": "display_data"
    },
    {
     "data": {
      "text/plain": [
       "<Figure size 432x288 with 0 Axes>"
      ]
     },
     "metadata": {},
     "output_type": "display_data"
    },
    {
     "data": {
      "text/plain": [
       "<Figure size 432x288 with 0 Axes>"
      ]
     },
     "metadata": {},
     "output_type": "display_data"
    },
    {
     "data": {
      "text/plain": [
       "<Figure size 432x288 with 0 Axes>"
      ]
     },
     "metadata": {},
     "output_type": "display_data"
    },
    {
     "data": {
      "text/plain": [
       "<Figure size 432x288 with 0 Axes>"
      ]
     },
     "metadata": {},
     "output_type": "display_data"
    },
    {
     "data": {
      "text/plain": [
       "<Figure size 432x288 with 0 Axes>"
      ]
     },
     "metadata": {},
     "output_type": "display_data"
    },
    {
     "data": {
      "text/plain": [
       "<Figure size 432x288 with 0 Axes>"
      ]
     },
     "metadata": {},
     "output_type": "display_data"
    },
    {
     "data": {
      "text/plain": [
       "<Figure size 432x288 with 0 Axes>"
      ]
     },
     "metadata": {},
     "output_type": "display_data"
    },
    {
     "data": {
      "text/plain": [
       "<Figure size 432x288 with 0 Axes>"
      ]
     },
     "metadata": {},
     "output_type": "display_data"
    },
    {
     "data": {
      "text/plain": [
       "<Figure size 432x288 with 0 Axes>"
      ]
     },
     "metadata": {},
     "output_type": "display_data"
    },
    {
     "data": {
      "text/plain": [
       "<Figure size 432x288 with 0 Axes>"
      ]
     },
     "metadata": {},
     "output_type": "display_data"
    },
    {
     "data": {
      "text/plain": [
       "<Figure size 432x288 with 0 Axes>"
      ]
     },
     "metadata": {},
     "output_type": "display_data"
    },
    {
     "data": {
      "text/plain": [
       "<Figure size 432x288 with 0 Axes>"
      ]
     },
     "metadata": {},
     "output_type": "display_data"
    },
    {
     "data": {
      "text/plain": [
       "<Figure size 432x288 with 0 Axes>"
      ]
     },
     "metadata": {},
     "output_type": "display_data"
    },
    {
     "data": {
      "text/plain": [
       "<Figure size 432x288 with 0 Axes>"
      ]
     },
     "metadata": {},
     "output_type": "display_data"
    },
    {
     "data": {
      "text/plain": [
       "<Figure size 432x288 with 0 Axes>"
      ]
     },
     "metadata": {},
     "output_type": "display_data"
    },
    {
     "data": {
      "text/plain": [
       "<Figure size 432x288 with 0 Axes>"
      ]
     },
     "metadata": {},
     "output_type": "display_data"
    },
    {
     "data": {
      "text/plain": [
       "<Figure size 432x288 with 0 Axes>"
      ]
     },
     "metadata": {},
     "output_type": "display_data"
    },
    {
     "data": {
      "text/plain": [
       "<Figure size 432x288 with 0 Axes>"
      ]
     },
     "metadata": {},
     "output_type": "display_data"
    },
    {
     "data": {
      "text/plain": [
       "<Figure size 432x288 with 0 Axes>"
      ]
     },
     "metadata": {},
     "output_type": "display_data"
    },
    {
     "data": {
      "text/plain": [
       "<Figure size 432x288 with 0 Axes>"
      ]
     },
     "metadata": {},
     "output_type": "display_data"
    },
    {
     "data": {
      "text/plain": [
       "<Figure size 432x288 with 0 Axes>"
      ]
     },
     "metadata": {},
     "output_type": "display_data"
    },
    {
     "data": {
      "text/plain": [
       "<Figure size 432x288 with 0 Axes>"
      ]
     },
     "metadata": {},
     "output_type": "display_data"
    },
    {
     "data": {
      "text/plain": [
       "<Figure size 432x288 with 0 Axes>"
      ]
     },
     "metadata": {},
     "output_type": "display_data"
    },
    {
     "data": {
      "text/plain": [
       "<Figure size 432x288 with 0 Axes>"
      ]
     },
     "metadata": {},
     "output_type": "display_data"
    },
    {
     "data": {
      "text/plain": [
       "<Figure size 432x288 with 0 Axes>"
      ]
     },
     "metadata": {},
     "output_type": "display_data"
    },
    {
     "data": {
      "text/plain": [
       "<Figure size 432x288 with 0 Axes>"
      ]
     },
     "metadata": {},
     "output_type": "display_data"
    },
    {
     "data": {
      "text/plain": [
       "<Figure size 432x288 with 0 Axes>"
      ]
     },
     "metadata": {},
     "output_type": "display_data"
    },
    {
     "data": {
      "text/plain": [
       "<Figure size 432x288 with 0 Axes>"
      ]
     },
     "metadata": {},
     "output_type": "display_data"
    },
    {
     "data": {
      "text/plain": [
       "<Figure size 432x288 with 0 Axes>"
      ]
     },
     "metadata": {},
     "output_type": "display_data"
    },
    {
     "data": {
      "text/plain": [
       "<Figure size 432x288 with 0 Axes>"
      ]
     },
     "metadata": {},
     "output_type": "display_data"
    },
    {
     "data": {
      "text/plain": [
       "<Figure size 432x288 with 0 Axes>"
      ]
     },
     "metadata": {},
     "output_type": "display_data"
    },
    {
     "data": {
      "text/plain": [
       "<Figure size 432x288 with 0 Axes>"
      ]
     },
     "metadata": {},
     "output_type": "display_data"
    },
    {
     "data": {
      "text/plain": [
       "<Figure size 432x288 with 0 Axes>"
      ]
     },
     "metadata": {},
     "output_type": "display_data"
    },
    {
     "data": {
      "text/plain": [
       "<Figure size 432x288 with 0 Axes>"
      ]
     },
     "metadata": {},
     "output_type": "display_data"
    },
    {
     "data": {
      "text/plain": [
       "<Figure size 432x288 with 0 Axes>"
      ]
     },
     "metadata": {},
     "output_type": "display_data"
    },
    {
     "data": {
      "text/plain": [
       "<Figure size 432x288 with 0 Axes>"
      ]
     },
     "metadata": {},
     "output_type": "display_data"
    },
    {
     "data": {
      "text/plain": [
       "<Figure size 432x288 with 0 Axes>"
      ]
     },
     "metadata": {},
     "output_type": "display_data"
    },
    {
     "data": {
      "text/plain": [
       "<Figure size 432x288 with 0 Axes>"
      ]
     },
     "metadata": {},
     "output_type": "display_data"
    },
    {
     "data": {
      "text/plain": [
       "<Figure size 432x288 with 0 Axes>"
      ]
     },
     "metadata": {},
     "output_type": "display_data"
    },
    {
     "data": {
      "text/plain": [
       "<Figure size 432x288 with 0 Axes>"
      ]
     },
     "metadata": {},
     "output_type": "display_data"
    },
    {
     "data": {
      "text/plain": [
       "<Figure size 432x288 with 0 Axes>"
      ]
     },
     "metadata": {},
     "output_type": "display_data"
    },
    {
     "data": {
      "text/plain": [
       "<Figure size 432x288 with 0 Axes>"
      ]
     },
     "metadata": {},
     "output_type": "display_data"
    },
    {
     "data": {
      "text/plain": [
       "<Figure size 432x288 with 0 Axes>"
      ]
     },
     "metadata": {},
     "output_type": "display_data"
    },
    {
     "data": {
      "text/plain": [
       "<Figure size 432x288 with 0 Axes>"
      ]
     },
     "metadata": {},
     "output_type": "display_data"
    },
    {
     "data": {
      "text/plain": [
       "<Figure size 432x288 with 0 Axes>"
      ]
     },
     "metadata": {},
     "output_type": "display_data"
    },
    {
     "data": {
      "text/plain": [
       "<Figure size 432x288 with 0 Axes>"
      ]
     },
     "metadata": {},
     "output_type": "display_data"
    },
    {
     "data": {
      "text/plain": [
       "<Figure size 432x288 with 0 Axes>"
      ]
     },
     "metadata": {},
     "output_type": "display_data"
    },
    {
     "data": {
      "text/plain": [
       "<Figure size 432x288 with 0 Axes>"
      ]
     },
     "metadata": {},
     "output_type": "display_data"
    },
    {
     "data": {
      "text/plain": [
       "<Figure size 432x288 with 0 Axes>"
      ]
     },
     "metadata": {},
     "output_type": "display_data"
    },
    {
     "data": {
      "text/plain": [
       "<Figure size 432x288 with 0 Axes>"
      ]
     },
     "metadata": {},
     "output_type": "display_data"
    },
    {
     "data": {
      "text/plain": [
       "<Figure size 432x288 with 0 Axes>"
      ]
     },
     "metadata": {},
     "output_type": "display_data"
    },
    {
     "data": {
      "text/plain": [
       "<Figure size 432x288 with 0 Axes>"
      ]
     },
     "metadata": {},
     "output_type": "display_data"
    },
    {
     "data": {
      "text/plain": [
       "<Figure size 432x288 with 0 Axes>"
      ]
     },
     "metadata": {},
     "output_type": "display_data"
    },
    {
     "data": {
      "text/plain": [
       "<Figure size 432x288 with 0 Axes>"
      ]
     },
     "metadata": {},
     "output_type": "display_data"
    },
    {
     "data": {
      "text/plain": [
       "<Figure size 432x288 with 0 Axes>"
      ]
     },
     "metadata": {},
     "output_type": "display_data"
    },
    {
     "data": {
      "text/plain": [
       "<Figure size 432x288 with 0 Axes>"
      ]
     },
     "metadata": {},
     "output_type": "display_data"
    },
    {
     "data": {
      "text/plain": [
       "<Figure size 432x288 with 0 Axes>"
      ]
     },
     "metadata": {},
     "output_type": "display_data"
    },
    {
     "data": {
      "text/plain": [
       "<Figure size 432x288 with 0 Axes>"
      ]
     },
     "metadata": {},
     "output_type": "display_data"
    },
    {
     "data": {
      "text/plain": [
       "<Figure size 432x288 with 0 Axes>"
      ]
     },
     "metadata": {},
     "output_type": "display_data"
    },
    {
     "data": {
      "text/plain": [
       "<Figure size 432x288 with 0 Axes>"
      ]
     },
     "metadata": {},
     "output_type": "display_data"
    },
    {
     "data": {
      "text/plain": [
       "<Figure size 432x288 with 0 Axes>"
      ]
     },
     "metadata": {},
     "output_type": "display_data"
    },
    {
     "data": {
      "text/plain": [
       "<Figure size 432x288 with 0 Axes>"
      ]
     },
     "metadata": {},
     "output_type": "display_data"
    },
    {
     "data": {
      "text/plain": [
       "<Figure size 432x288 with 0 Axes>"
      ]
     },
     "metadata": {},
     "output_type": "display_data"
    },
    {
     "data": {
      "text/plain": [
       "<Figure size 432x288 with 0 Axes>"
      ]
     },
     "metadata": {},
     "output_type": "display_data"
    },
    {
     "data": {
      "text/plain": [
       "<Figure size 432x288 with 0 Axes>"
      ]
     },
     "metadata": {},
     "output_type": "display_data"
    },
    {
     "data": {
      "text/plain": [
       "<Figure size 432x288 with 0 Axes>"
      ]
     },
     "metadata": {},
     "output_type": "display_data"
    },
    {
     "data": {
      "text/plain": [
       "<Figure size 432x288 with 0 Axes>"
      ]
     },
     "metadata": {},
     "output_type": "display_data"
    },
    {
     "data": {
      "text/plain": [
       "<Figure size 432x288 with 0 Axes>"
      ]
     },
     "metadata": {},
     "output_type": "display_data"
    },
    {
     "data": {
      "text/plain": [
       "<Figure size 432x288 with 0 Axes>"
      ]
     },
     "metadata": {},
     "output_type": "display_data"
    },
    {
     "data": {
      "text/plain": [
       "<Figure size 432x288 with 0 Axes>"
      ]
     },
     "metadata": {},
     "output_type": "display_data"
    },
    {
     "data": {
      "text/plain": [
       "<Figure size 432x288 with 0 Axes>"
      ]
     },
     "metadata": {},
     "output_type": "display_data"
    },
    {
     "data": {
      "text/plain": [
       "<Figure size 432x288 with 0 Axes>"
      ]
     },
     "metadata": {},
     "output_type": "display_data"
    },
    {
     "data": {
      "text/plain": [
       "<Figure size 432x288 with 0 Axes>"
      ]
     },
     "metadata": {},
     "output_type": "display_data"
    },
    {
     "data": {
      "text/plain": [
       "<Figure size 432x288 with 0 Axes>"
      ]
     },
     "metadata": {},
     "output_type": "display_data"
    },
    {
     "data": {
      "text/plain": [
       "<Figure size 432x288 with 0 Axes>"
      ]
     },
     "metadata": {},
     "output_type": "display_data"
    },
    {
     "data": {
      "text/plain": [
       "<Figure size 432x288 with 0 Axes>"
      ]
     },
     "metadata": {},
     "output_type": "display_data"
    },
    {
     "data": {
      "text/plain": [
       "<Figure size 432x288 with 0 Axes>"
      ]
     },
     "metadata": {},
     "output_type": "display_data"
    },
    {
     "data": {
      "text/plain": [
       "<Figure size 432x288 with 0 Axes>"
      ]
     },
     "metadata": {},
     "output_type": "display_data"
    },
    {
     "data": {
      "text/plain": [
       "<Figure size 432x288 with 0 Axes>"
      ]
     },
     "metadata": {},
     "output_type": "display_data"
    },
    {
     "data": {
      "text/plain": [
       "<Figure size 432x288 with 0 Axes>"
      ]
     },
     "metadata": {},
     "output_type": "display_data"
    },
    {
     "data": {
      "text/plain": [
       "<Figure size 432x288 with 0 Axes>"
      ]
     },
     "metadata": {},
     "output_type": "display_data"
    },
    {
     "data": {
      "text/plain": [
       "<Figure size 432x288 with 0 Axes>"
      ]
     },
     "metadata": {},
     "output_type": "display_data"
    },
    {
     "data": {
      "text/plain": [
       "<Figure size 432x288 with 0 Axes>"
      ]
     },
     "metadata": {},
     "output_type": "display_data"
    },
    {
     "data": {
      "text/plain": [
       "<Figure size 432x288 with 0 Axes>"
      ]
     },
     "metadata": {},
     "output_type": "display_data"
    },
    {
     "data": {
      "text/plain": [
       "<Figure size 432x288 with 0 Axes>"
      ]
     },
     "metadata": {},
     "output_type": "display_data"
    },
    {
     "data": {
      "text/plain": [
       "<Figure size 432x288 with 0 Axes>"
      ]
     },
     "metadata": {},
     "output_type": "display_data"
    },
    {
     "data": {
      "text/plain": [
       "<Figure size 432x288 with 0 Axes>"
      ]
     },
     "metadata": {},
     "output_type": "display_data"
    },
    {
     "data": {
      "text/plain": [
       "<Figure size 432x288 with 0 Axes>"
      ]
     },
     "metadata": {},
     "output_type": "display_data"
    },
    {
     "data": {
      "text/plain": [
       "<Figure size 432x288 with 0 Axes>"
      ]
     },
     "metadata": {},
     "output_type": "display_data"
    },
    {
     "data": {
      "text/plain": [
       "<Figure size 432x288 with 0 Axes>"
      ]
     },
     "metadata": {},
     "output_type": "display_data"
    },
    {
     "data": {
      "text/plain": [
       "<Figure size 432x288 with 0 Axes>"
      ]
     },
     "metadata": {},
     "output_type": "display_data"
    },
    {
     "data": {
      "text/plain": [
       "<Figure size 432x288 with 0 Axes>"
      ]
     },
     "metadata": {},
     "output_type": "display_data"
    },
    {
     "data": {
      "text/plain": [
       "<Figure size 432x288 with 0 Axes>"
      ]
     },
     "metadata": {},
     "output_type": "display_data"
    },
    {
     "data": {
      "text/plain": [
       "<Figure size 432x288 with 0 Axes>"
      ]
     },
     "metadata": {},
     "output_type": "display_data"
    },
    {
     "data": {
      "text/plain": [
       "<Figure size 432x288 with 0 Axes>"
      ]
     },
     "metadata": {},
     "output_type": "display_data"
    },
    {
     "data": {
      "text/plain": [
       "<Figure size 432x288 with 0 Axes>"
      ]
     },
     "metadata": {},
     "output_type": "display_data"
    },
    {
     "data": {
      "text/plain": [
       "<Figure size 432x288 with 0 Axes>"
      ]
     },
     "metadata": {},
     "output_type": "display_data"
    },
    {
     "data": {
      "text/plain": [
       "<Figure size 432x288 with 0 Axes>"
      ]
     },
     "metadata": {},
     "output_type": "display_data"
    },
    {
     "data": {
      "text/plain": [
       "<Figure size 432x288 with 0 Axes>"
      ]
     },
     "metadata": {},
     "output_type": "display_data"
    },
    {
     "data": {
      "text/plain": [
       "<Figure size 432x288 with 0 Axes>"
      ]
     },
     "metadata": {},
     "output_type": "display_data"
    },
    {
     "data": {
      "text/plain": [
       "<Figure size 432x288 with 0 Axes>"
      ]
     },
     "metadata": {},
     "output_type": "display_data"
    },
    {
     "data": {
      "text/plain": [
       "<Figure size 432x288 with 0 Axes>"
      ]
     },
     "metadata": {},
     "output_type": "display_data"
    },
    {
     "data": {
      "text/plain": [
       "<Figure size 432x288 with 0 Axes>"
      ]
     },
     "metadata": {},
     "output_type": "display_data"
    },
    {
     "data": {
      "text/plain": [
       "<Figure size 432x288 with 0 Axes>"
      ]
     },
     "metadata": {},
     "output_type": "display_data"
    },
    {
     "data": {
      "text/plain": [
       "<Figure size 432x288 with 0 Axes>"
      ]
     },
     "metadata": {},
     "output_type": "display_data"
    },
    {
     "data": {
      "text/plain": [
       "<Figure size 432x288 with 0 Axes>"
      ]
     },
     "metadata": {},
     "output_type": "display_data"
    },
    {
     "data": {
      "text/plain": [
       "<Figure size 432x288 with 0 Axes>"
      ]
     },
     "metadata": {},
     "output_type": "display_data"
    },
    {
     "data": {
      "text/plain": [
       "<Figure size 432x288 with 0 Axes>"
      ]
     },
     "metadata": {},
     "output_type": "display_data"
    },
    {
     "data": {
      "text/plain": [
       "<Figure size 432x288 with 0 Axes>"
      ]
     },
     "metadata": {},
     "output_type": "display_data"
    },
    {
     "data": {
      "text/plain": [
       "<Figure size 432x288 with 0 Axes>"
      ]
     },
     "metadata": {},
     "output_type": "display_data"
    },
    {
     "data": {
      "text/plain": [
       "<Figure size 432x288 with 0 Axes>"
      ]
     },
     "metadata": {},
     "output_type": "display_data"
    },
    {
     "data": {
      "text/plain": [
       "<Figure size 432x288 with 0 Axes>"
      ]
     },
     "metadata": {},
     "output_type": "display_data"
    },
    {
     "data": {
      "text/plain": [
       "<Figure size 432x288 with 0 Axes>"
      ]
     },
     "metadata": {},
     "output_type": "display_data"
    },
    {
     "data": {
      "text/plain": [
       "<Figure size 432x288 with 0 Axes>"
      ]
     },
     "metadata": {},
     "output_type": "display_data"
    },
    {
     "data": {
      "text/plain": [
       "<Figure size 432x288 with 0 Axes>"
      ]
     },
     "metadata": {},
     "output_type": "display_data"
    },
    {
     "data": {
      "text/plain": [
       "<Figure size 432x288 with 0 Axes>"
      ]
     },
     "metadata": {},
     "output_type": "display_data"
    },
    {
     "data": {
      "text/plain": [
       "<Figure size 432x288 with 0 Axes>"
      ]
     },
     "metadata": {},
     "output_type": "display_data"
    },
    {
     "data": {
      "text/plain": [
       "<Figure size 432x288 with 0 Axes>"
      ]
     },
     "metadata": {},
     "output_type": "display_data"
    },
    {
     "data": {
      "text/plain": [
       "<Figure size 432x288 with 0 Axes>"
      ]
     },
     "metadata": {},
     "output_type": "display_data"
    },
    {
     "data": {
      "text/plain": [
       "<Figure size 432x288 with 0 Axes>"
      ]
     },
     "metadata": {},
     "output_type": "display_data"
    },
    {
     "data": {
      "text/plain": [
       "<Figure size 432x288 with 0 Axes>"
      ]
     },
     "metadata": {},
     "output_type": "display_data"
    },
    {
     "data": {
      "text/plain": [
       "<Figure size 432x288 with 0 Axes>"
      ]
     },
     "metadata": {},
     "output_type": "display_data"
    },
    {
     "data": {
      "text/plain": [
       "<Figure size 432x288 with 0 Axes>"
      ]
     },
     "metadata": {},
     "output_type": "display_data"
    },
    {
     "data": {
      "text/plain": [
       "<Figure size 432x288 with 0 Axes>"
      ]
     },
     "metadata": {},
     "output_type": "display_data"
    },
    {
     "data": {
      "text/plain": [
       "<Figure size 432x288 with 0 Axes>"
      ]
     },
     "metadata": {},
     "output_type": "display_data"
    },
    {
     "data": {
      "text/plain": [
       "<Figure size 432x288 with 0 Axes>"
      ]
     },
     "metadata": {},
     "output_type": "display_data"
    },
    {
     "data": {
      "text/plain": [
       "<Figure size 432x288 with 0 Axes>"
      ]
     },
     "metadata": {},
     "output_type": "display_data"
    },
    {
     "data": {
      "text/plain": [
       "<Figure size 432x288 with 0 Axes>"
      ]
     },
     "metadata": {},
     "output_type": "display_data"
    },
    {
     "data": {
      "text/plain": [
       "<Figure size 432x288 with 0 Axes>"
      ]
     },
     "metadata": {},
     "output_type": "display_data"
    },
    {
     "data": {
      "text/plain": [
       "<Figure size 432x288 with 0 Axes>"
      ]
     },
     "metadata": {},
     "output_type": "display_data"
    },
    {
     "data": {
      "text/plain": [
       "<Figure size 432x288 with 0 Axes>"
      ]
     },
     "metadata": {},
     "output_type": "display_data"
    },
    {
     "data": {
      "text/plain": [
       "<Figure size 432x288 with 0 Axes>"
      ]
     },
     "metadata": {},
     "output_type": "display_data"
    },
    {
     "data": {
      "text/plain": [
       "<Figure size 432x288 with 0 Axes>"
      ]
     },
     "metadata": {},
     "output_type": "display_data"
    },
    {
     "data": {
      "text/plain": [
       "<Figure size 432x288 with 0 Axes>"
      ]
     },
     "metadata": {},
     "output_type": "display_data"
    },
    {
     "data": {
      "text/plain": [
       "<Figure size 432x288 with 0 Axes>"
      ]
     },
     "metadata": {},
     "output_type": "display_data"
    },
    {
     "data": {
      "text/plain": [
       "<Figure size 432x288 with 0 Axes>"
      ]
     },
     "metadata": {},
     "output_type": "display_data"
    },
    {
     "data": {
      "text/plain": [
       "<Figure size 432x288 with 0 Axes>"
      ]
     },
     "metadata": {},
     "output_type": "display_data"
    },
    {
     "data": {
      "text/plain": [
       "<Figure size 432x288 with 0 Axes>"
      ]
     },
     "metadata": {},
     "output_type": "display_data"
    },
    {
     "data": {
      "text/plain": [
       "<Figure size 432x288 with 0 Axes>"
      ]
     },
     "metadata": {},
     "output_type": "display_data"
    },
    {
     "data": {
      "text/plain": [
       "<Figure size 432x288 with 0 Axes>"
      ]
     },
     "metadata": {},
     "output_type": "display_data"
    },
    {
     "data": {
      "text/plain": [
       "<Figure size 432x288 with 0 Axes>"
      ]
     },
     "metadata": {},
     "output_type": "display_data"
    },
    {
     "data": {
      "text/plain": [
       "<Figure size 432x288 with 0 Axes>"
      ]
     },
     "metadata": {},
     "output_type": "display_data"
    },
    {
     "data": {
      "text/plain": [
       "<Figure size 432x288 with 0 Axes>"
      ]
     },
     "metadata": {},
     "output_type": "display_data"
    },
    {
     "data": {
      "text/plain": [
       "<Figure size 432x288 with 0 Axes>"
      ]
     },
     "metadata": {},
     "output_type": "display_data"
    },
    {
     "data": {
      "text/plain": [
       "<Figure size 432x288 with 0 Axes>"
      ]
     },
     "metadata": {},
     "output_type": "display_data"
    },
    {
     "data": {
      "text/plain": [
       "<Figure size 432x288 with 0 Axes>"
      ]
     },
     "metadata": {},
     "output_type": "display_data"
    },
    {
     "data": {
      "text/plain": [
       "<Figure size 432x288 with 0 Axes>"
      ]
     },
     "metadata": {},
     "output_type": "display_data"
    },
    {
     "data": {
      "text/plain": [
       "<Figure size 432x288 with 0 Axes>"
      ]
     },
     "metadata": {},
     "output_type": "display_data"
    },
    {
     "data": {
      "text/plain": [
       "<Figure size 432x288 with 0 Axes>"
      ]
     },
     "metadata": {},
     "output_type": "display_data"
    },
    {
     "data": {
      "text/plain": [
       "<Figure size 432x288 with 0 Axes>"
      ]
     },
     "metadata": {},
     "output_type": "display_data"
    },
    {
     "data": {
      "text/plain": [
       "<Figure size 432x288 with 0 Axes>"
      ]
     },
     "metadata": {},
     "output_type": "display_data"
    },
    {
     "data": {
      "text/plain": [
       "<Figure size 432x288 with 0 Axes>"
      ]
     },
     "metadata": {},
     "output_type": "display_data"
    },
    {
     "data": {
      "text/plain": [
       "<Figure size 432x288 with 0 Axes>"
      ]
     },
     "metadata": {},
     "output_type": "display_data"
    },
    {
     "data": {
      "text/plain": [
       "<Figure size 432x288 with 0 Axes>"
      ]
     },
     "metadata": {},
     "output_type": "display_data"
    },
    {
     "data": {
      "text/plain": [
       "<Figure size 432x288 with 0 Axes>"
      ]
     },
     "metadata": {},
     "output_type": "display_data"
    },
    {
     "data": {
      "text/plain": [
       "<Figure size 432x288 with 0 Axes>"
      ]
     },
     "metadata": {},
     "output_type": "display_data"
    },
    {
     "data": {
      "text/plain": [
       "<Figure size 432x288 with 0 Axes>"
      ]
     },
     "metadata": {},
     "output_type": "display_data"
    },
    {
     "data": {
      "text/plain": [
       "<Figure size 432x288 with 0 Axes>"
      ]
     },
     "metadata": {},
     "output_type": "display_data"
    },
    {
     "data": {
      "text/plain": [
       "<Figure size 432x288 with 0 Axes>"
      ]
     },
     "metadata": {},
     "output_type": "display_data"
    },
    {
     "data": {
      "text/plain": [
       "<Figure size 432x288 with 0 Axes>"
      ]
     },
     "metadata": {},
     "output_type": "display_data"
    },
    {
     "data": {
      "text/plain": [
       "<Figure size 432x288 with 0 Axes>"
      ]
     },
     "metadata": {},
     "output_type": "display_data"
    },
    {
     "data": {
      "text/plain": [
       "<Figure size 432x288 with 0 Axes>"
      ]
     },
     "metadata": {},
     "output_type": "display_data"
    },
    {
     "data": {
      "text/plain": [
       "<Figure size 432x288 with 0 Axes>"
      ]
     },
     "metadata": {},
     "output_type": "display_data"
    },
    {
     "data": {
      "text/plain": [
       "<Figure size 432x288 with 0 Axes>"
      ]
     },
     "metadata": {},
     "output_type": "display_data"
    },
    {
     "data": {
      "text/plain": [
       "<Figure size 432x288 with 0 Axes>"
      ]
     },
     "metadata": {},
     "output_type": "display_data"
    },
    {
     "data": {
      "text/plain": [
       "<Figure size 432x288 with 0 Axes>"
      ]
     },
     "metadata": {},
     "output_type": "display_data"
    },
    {
     "data": {
      "text/plain": [
       "<Figure size 432x288 with 0 Axes>"
      ]
     },
     "metadata": {},
     "output_type": "display_data"
    },
    {
     "data": {
      "text/plain": [
       "<Figure size 432x288 with 0 Axes>"
      ]
     },
     "metadata": {},
     "output_type": "display_data"
    },
    {
     "data": {
      "text/plain": [
       "<Figure size 432x288 with 0 Axes>"
      ]
     },
     "metadata": {},
     "output_type": "display_data"
    },
    {
     "data": {
      "text/plain": [
       "<Figure size 432x288 with 0 Axes>"
      ]
     },
     "metadata": {},
     "output_type": "display_data"
    },
    {
     "data": {
      "text/plain": [
       "<Figure size 432x288 with 0 Axes>"
      ]
     },
     "metadata": {},
     "output_type": "display_data"
    },
    {
     "data": {
      "text/plain": [
       "<Figure size 432x288 with 0 Axes>"
      ]
     },
     "metadata": {},
     "output_type": "display_data"
    },
    {
     "data": {
      "text/plain": [
       "<Figure size 432x288 with 0 Axes>"
      ]
     },
     "metadata": {},
     "output_type": "display_data"
    },
    {
     "data": {
      "text/plain": [
       "<Figure size 432x288 with 0 Axes>"
      ]
     },
     "metadata": {},
     "output_type": "display_data"
    },
    {
     "data": {
      "text/plain": [
       "<Figure size 432x288 with 0 Axes>"
      ]
     },
     "metadata": {},
     "output_type": "display_data"
    },
    {
     "data": {
      "text/plain": [
       "<Figure size 432x288 with 0 Axes>"
      ]
     },
     "metadata": {},
     "output_type": "display_data"
    },
    {
     "data": {
      "text/plain": [
       "<Figure size 432x288 with 0 Axes>"
      ]
     },
     "metadata": {},
     "output_type": "display_data"
    },
    {
     "data": {
      "text/plain": [
       "<Figure size 432x288 with 0 Axes>"
      ]
     },
     "metadata": {},
     "output_type": "display_data"
    },
    {
     "data": {
      "text/plain": [
       "<Figure size 432x288 with 0 Axes>"
      ]
     },
     "metadata": {},
     "output_type": "display_data"
    },
    {
     "data": {
      "text/plain": [
       "<Figure size 432x288 with 0 Axes>"
      ]
     },
     "metadata": {},
     "output_type": "display_data"
    },
    {
     "data": {
      "text/plain": [
       "<Figure size 432x288 with 0 Axes>"
      ]
     },
     "metadata": {},
     "output_type": "display_data"
    },
    {
     "data": {
      "text/plain": [
       "<Figure size 432x288 with 0 Axes>"
      ]
     },
     "metadata": {},
     "output_type": "display_data"
    },
    {
     "data": {
      "text/plain": [
       "<Figure size 432x288 with 0 Axes>"
      ]
     },
     "metadata": {},
     "output_type": "display_data"
    },
    {
     "data": {
      "text/plain": [
       "<Figure size 432x288 with 0 Axes>"
      ]
     },
     "metadata": {},
     "output_type": "display_data"
    },
    {
     "data": {
      "text/plain": [
       "<Figure size 432x288 with 0 Axes>"
      ]
     },
     "metadata": {},
     "output_type": "display_data"
    },
    {
     "data": {
      "text/plain": [
       "<Figure size 432x288 with 0 Axes>"
      ]
     },
     "metadata": {},
     "output_type": "display_data"
    },
    {
     "data": {
      "text/plain": [
       "<Figure size 432x288 with 0 Axes>"
      ]
     },
     "metadata": {},
     "output_type": "display_data"
    },
    {
     "data": {
      "text/plain": [
       "<Figure size 432x288 with 0 Axes>"
      ]
     },
     "metadata": {},
     "output_type": "display_data"
    },
    {
     "data": {
      "text/plain": [
       "<Figure size 432x288 with 0 Axes>"
      ]
     },
     "metadata": {},
     "output_type": "display_data"
    },
    {
     "data": {
      "text/plain": [
       "<Figure size 432x288 with 0 Axes>"
      ]
     },
     "metadata": {},
     "output_type": "display_data"
    },
    {
     "data": {
      "text/plain": [
       "<Figure size 432x288 with 0 Axes>"
      ]
     },
     "metadata": {},
     "output_type": "display_data"
    },
    {
     "data": {
      "text/plain": [
       "<Figure size 432x288 with 0 Axes>"
      ]
     },
     "metadata": {},
     "output_type": "display_data"
    },
    {
     "data": {
      "text/plain": [
       "<Figure size 432x288 with 0 Axes>"
      ]
     },
     "metadata": {},
     "output_type": "display_data"
    },
    {
     "data": {
      "text/plain": [
       "<Figure size 432x288 with 0 Axes>"
      ]
     },
     "metadata": {},
     "output_type": "display_data"
    },
    {
     "data": {
      "text/plain": [
       "<Figure size 432x288 with 0 Axes>"
      ]
     },
     "metadata": {},
     "output_type": "display_data"
    },
    {
     "data": {
      "text/plain": [
       "<Figure size 432x288 with 0 Axes>"
      ]
     },
     "metadata": {},
     "output_type": "display_data"
    },
    {
     "data": {
      "text/plain": [
       "<Figure size 432x288 with 0 Axes>"
      ]
     },
     "metadata": {},
     "output_type": "display_data"
    },
    {
     "data": {
      "text/plain": [
       "<Figure size 432x288 with 0 Axes>"
      ]
     },
     "metadata": {},
     "output_type": "display_data"
    },
    {
     "data": {
      "text/plain": [
       "<Figure size 432x288 with 0 Axes>"
      ]
     },
     "metadata": {},
     "output_type": "display_data"
    },
    {
     "data": {
      "text/plain": [
       "<Figure size 432x288 with 0 Axes>"
      ]
     },
     "metadata": {},
     "output_type": "display_data"
    },
    {
     "data": {
      "text/plain": [
       "<Figure size 432x288 with 0 Axes>"
      ]
     },
     "metadata": {},
     "output_type": "display_data"
    },
    {
     "data": {
      "text/plain": [
       "<Figure size 432x288 with 0 Axes>"
      ]
     },
     "metadata": {},
     "output_type": "display_data"
    },
    {
     "data": {
      "text/plain": [
       "<Figure size 432x288 with 0 Axes>"
      ]
     },
     "metadata": {},
     "output_type": "display_data"
    },
    {
     "data": {
      "text/plain": [
       "<Figure size 432x288 with 0 Axes>"
      ]
     },
     "metadata": {},
     "output_type": "display_data"
    },
    {
     "data": {
      "text/plain": [
       "<Figure size 432x288 with 0 Axes>"
      ]
     },
     "metadata": {},
     "output_type": "display_data"
    },
    {
     "data": {
      "text/plain": [
       "<Figure size 432x288 with 0 Axes>"
      ]
     },
     "metadata": {},
     "output_type": "display_data"
    },
    {
     "data": {
      "text/plain": [
       "<Figure size 432x288 with 0 Axes>"
      ]
     },
     "metadata": {},
     "output_type": "display_data"
    },
    {
     "data": {
      "text/plain": [
       "<Figure size 432x288 with 0 Axes>"
      ]
     },
     "metadata": {},
     "output_type": "display_data"
    },
    {
     "data": {
      "text/plain": [
       "<Figure size 432x288 with 0 Axes>"
      ]
     },
     "metadata": {},
     "output_type": "display_data"
    },
    {
     "data": {
      "text/plain": [
       "<Figure size 432x288 with 0 Axes>"
      ]
     },
     "metadata": {},
     "output_type": "display_data"
    },
    {
     "data": {
      "text/plain": [
       "<Figure size 432x288 with 0 Axes>"
      ]
     },
     "metadata": {},
     "output_type": "display_data"
    },
    {
     "data": {
      "text/plain": [
       "<Figure size 432x288 with 0 Axes>"
      ]
     },
     "metadata": {},
     "output_type": "display_data"
    },
    {
     "data": {
      "text/plain": [
       "<Figure size 432x288 with 0 Axes>"
      ]
     },
     "metadata": {},
     "output_type": "display_data"
    },
    {
     "data": {
      "text/plain": [
       "<Figure size 432x288 with 0 Axes>"
      ]
     },
     "metadata": {},
     "output_type": "display_data"
    },
    {
     "data": {
      "text/plain": [
       "<Figure size 432x288 with 0 Axes>"
      ]
     },
     "metadata": {},
     "output_type": "display_data"
    },
    {
     "data": {
      "text/plain": [
       "<Figure size 432x288 with 0 Axes>"
      ]
     },
     "metadata": {},
     "output_type": "display_data"
    },
    {
     "data": {
      "text/plain": [
       "<Figure size 432x288 with 0 Axes>"
      ]
     },
     "metadata": {},
     "output_type": "display_data"
    },
    {
     "data": {
      "text/plain": [
       "<Figure size 432x288 with 0 Axes>"
      ]
     },
     "metadata": {},
     "output_type": "display_data"
    },
    {
     "data": {
      "text/plain": [
       "<Figure size 432x288 with 0 Axes>"
      ]
     },
     "metadata": {},
     "output_type": "display_data"
    },
    {
     "data": {
      "text/plain": [
       "<Figure size 432x288 with 0 Axes>"
      ]
     },
     "metadata": {},
     "output_type": "display_data"
    },
    {
     "data": {
      "text/plain": [
       "<Figure size 432x288 with 0 Axes>"
      ]
     },
     "metadata": {},
     "output_type": "display_data"
    },
    {
     "data": {
      "text/plain": [
       "<Figure size 432x288 with 0 Axes>"
      ]
     },
     "metadata": {},
     "output_type": "display_data"
    },
    {
     "data": {
      "text/plain": [
       "<Figure size 432x288 with 0 Axes>"
      ]
     },
     "metadata": {},
     "output_type": "display_data"
    },
    {
     "data": {
      "text/plain": [
       "<Figure size 432x288 with 0 Axes>"
      ]
     },
     "metadata": {},
     "output_type": "display_data"
    },
    {
     "data": {
      "text/plain": [
       "<Figure size 432x288 with 0 Axes>"
      ]
     },
     "metadata": {},
     "output_type": "display_data"
    },
    {
     "data": {
      "text/plain": [
       "<Figure size 432x288 with 0 Axes>"
      ]
     },
     "metadata": {},
     "output_type": "display_data"
    },
    {
     "data": {
      "text/plain": [
       "<Figure size 432x288 with 0 Axes>"
      ]
     },
     "metadata": {},
     "output_type": "display_data"
    },
    {
     "data": {
      "text/plain": [
       "<Figure size 432x288 with 0 Axes>"
      ]
     },
     "metadata": {},
     "output_type": "display_data"
    },
    {
     "data": {
      "text/plain": [
       "<Figure size 432x288 with 0 Axes>"
      ]
     },
     "metadata": {},
     "output_type": "display_data"
    },
    {
     "data": {
      "text/plain": [
       "<Figure size 432x288 with 0 Axes>"
      ]
     },
     "metadata": {},
     "output_type": "display_data"
    },
    {
     "data": {
      "text/plain": [
       "<Figure size 432x288 with 0 Axes>"
      ]
     },
     "metadata": {},
     "output_type": "display_data"
    },
    {
     "data": {
      "text/plain": [
       "<Figure size 432x288 with 0 Axes>"
      ]
     },
     "metadata": {},
     "output_type": "display_data"
    },
    {
     "data": {
      "text/plain": [
       "<Figure size 432x288 with 0 Axes>"
      ]
     },
     "metadata": {},
     "output_type": "display_data"
    },
    {
     "data": {
      "text/plain": [
       "<Figure size 432x288 with 0 Axes>"
      ]
     },
     "metadata": {},
     "output_type": "display_data"
    },
    {
     "data": {
      "text/plain": [
       "<Figure size 432x288 with 0 Axes>"
      ]
     },
     "metadata": {},
     "output_type": "display_data"
    },
    {
     "data": {
      "text/plain": [
       "<Figure size 432x288 with 0 Axes>"
      ]
     },
     "metadata": {},
     "output_type": "display_data"
    },
    {
     "data": {
      "text/plain": [
       "<Figure size 432x288 with 0 Axes>"
      ]
     },
     "metadata": {},
     "output_type": "display_data"
    },
    {
     "data": {
      "text/plain": [
       "<Figure size 432x288 with 0 Axes>"
      ]
     },
     "metadata": {},
     "output_type": "display_data"
    },
    {
     "data": {
      "text/plain": [
       "<Figure size 432x288 with 0 Axes>"
      ]
     },
     "metadata": {},
     "output_type": "display_data"
    },
    {
     "data": {
      "text/plain": [
       "<Figure size 432x288 with 0 Axes>"
      ]
     },
     "metadata": {},
     "output_type": "display_data"
    },
    {
     "data": {
      "text/plain": [
       "<Figure size 432x288 with 0 Axes>"
      ]
     },
     "metadata": {},
     "output_type": "display_data"
    },
    {
     "data": {
      "text/plain": [
       "<Figure size 432x288 with 0 Axes>"
      ]
     },
     "metadata": {},
     "output_type": "display_data"
    },
    {
     "data": {
      "text/plain": [
       "<Figure size 432x288 with 0 Axes>"
      ]
     },
     "metadata": {},
     "output_type": "display_data"
    },
    {
     "data": {
      "text/plain": [
       "<Figure size 432x288 with 0 Axes>"
      ]
     },
     "metadata": {},
     "output_type": "display_data"
    },
    {
     "data": {
      "text/plain": [
       "<Figure size 432x288 with 0 Axes>"
      ]
     },
     "metadata": {},
     "output_type": "display_data"
    },
    {
     "data": {
      "text/plain": [
       "<Figure size 432x288 with 0 Axes>"
      ]
     },
     "metadata": {},
     "output_type": "display_data"
    },
    {
     "data": {
      "text/plain": [
       "<Figure size 432x288 with 0 Axes>"
      ]
     },
     "metadata": {},
     "output_type": "display_data"
    },
    {
     "data": {
      "text/plain": [
       "<Figure size 432x288 with 0 Axes>"
      ]
     },
     "metadata": {},
     "output_type": "display_data"
    },
    {
     "data": {
      "text/plain": [
       "<Figure size 432x288 with 0 Axes>"
      ]
     },
     "metadata": {},
     "output_type": "display_data"
    },
    {
     "data": {
      "text/plain": [
       "<Figure size 432x288 with 0 Axes>"
      ]
     },
     "metadata": {},
     "output_type": "display_data"
    },
    {
     "data": {
      "text/plain": [
       "<Figure size 432x288 with 0 Axes>"
      ]
     },
     "metadata": {},
     "output_type": "display_data"
    },
    {
     "data": {
      "text/plain": [
       "<Figure size 432x288 with 0 Axes>"
      ]
     },
     "metadata": {},
     "output_type": "display_data"
    },
    {
     "data": {
      "text/plain": [
       "<Figure size 432x288 with 0 Axes>"
      ]
     },
     "metadata": {},
     "output_type": "display_data"
    },
    {
     "data": {
      "text/plain": [
       "<Figure size 432x288 with 0 Axes>"
      ]
     },
     "metadata": {},
     "output_type": "display_data"
    },
    {
     "data": {
      "text/plain": [
       "<Figure size 432x288 with 0 Axes>"
      ]
     },
     "metadata": {},
     "output_type": "display_data"
    },
    {
     "data": {
      "text/plain": [
       "<Figure size 432x288 with 0 Axes>"
      ]
     },
     "metadata": {},
     "output_type": "display_data"
    },
    {
     "data": {
      "text/plain": [
       "<Figure size 432x288 with 0 Axes>"
      ]
     },
     "metadata": {},
     "output_type": "display_data"
    },
    {
     "data": {
      "text/plain": [
       "<Figure size 432x288 with 0 Axes>"
      ]
     },
     "metadata": {},
     "output_type": "display_data"
    },
    {
     "data": {
      "text/plain": [
       "<Figure size 432x288 with 0 Axes>"
      ]
     },
     "metadata": {},
     "output_type": "display_data"
    },
    {
     "data": {
      "text/plain": [
       "<Figure size 432x288 with 0 Axes>"
      ]
     },
     "metadata": {},
     "output_type": "display_data"
    },
    {
     "data": {
      "text/plain": [
       "<Figure size 432x288 with 0 Axes>"
      ]
     },
     "metadata": {},
     "output_type": "display_data"
    },
    {
     "data": {
      "text/plain": [
       "<Figure size 432x288 with 0 Axes>"
      ]
     },
     "metadata": {},
     "output_type": "display_data"
    },
    {
     "data": {
      "text/plain": [
       "<Figure size 432x288 with 0 Axes>"
      ]
     },
     "metadata": {},
     "output_type": "display_data"
    },
    {
     "data": {
      "text/plain": [
       "<Figure size 432x288 with 0 Axes>"
      ]
     },
     "metadata": {},
     "output_type": "display_data"
    },
    {
     "data": {
      "text/plain": [
       "<Figure size 432x288 with 0 Axes>"
      ]
     },
     "metadata": {},
     "output_type": "display_data"
    },
    {
     "data": {
      "text/plain": [
       "<Figure size 432x288 with 0 Axes>"
      ]
     },
     "metadata": {},
     "output_type": "display_data"
    },
    {
     "data": {
      "text/plain": [
       "<Figure size 432x288 with 0 Axes>"
      ]
     },
     "metadata": {},
     "output_type": "display_data"
    },
    {
     "data": {
      "text/plain": [
       "<Figure size 432x288 with 0 Axes>"
      ]
     },
     "metadata": {},
     "output_type": "display_data"
    },
    {
     "data": {
      "text/plain": [
       "<Figure size 432x288 with 0 Axes>"
      ]
     },
     "metadata": {},
     "output_type": "display_data"
    },
    {
     "data": {
      "text/plain": [
       "<Figure size 432x288 with 0 Axes>"
      ]
     },
     "metadata": {},
     "output_type": "display_data"
    },
    {
     "data": {
      "text/plain": [
       "<Figure size 432x288 with 0 Axes>"
      ]
     },
     "metadata": {},
     "output_type": "display_data"
    },
    {
     "data": {
      "text/plain": [
       "<Figure size 432x288 with 0 Axes>"
      ]
     },
     "metadata": {},
     "output_type": "display_data"
    },
    {
     "data": {
      "text/plain": [
       "<Figure size 432x288 with 0 Axes>"
      ]
     },
     "metadata": {},
     "output_type": "display_data"
    },
    {
     "data": {
      "text/plain": [
       "<Figure size 432x288 with 0 Axes>"
      ]
     },
     "metadata": {},
     "output_type": "display_data"
    },
    {
     "data": {
      "text/plain": [
       "<Figure size 432x288 with 0 Axes>"
      ]
     },
     "metadata": {},
     "output_type": "display_data"
    },
    {
     "data": {
      "text/plain": [
       "<Figure size 432x288 with 0 Axes>"
      ]
     },
     "metadata": {},
     "output_type": "display_data"
    },
    {
     "data": {
      "text/plain": [
       "<Figure size 432x288 with 0 Axes>"
      ]
     },
     "metadata": {},
     "output_type": "display_data"
    },
    {
     "data": {
      "text/plain": [
       "<Figure size 432x288 with 0 Axes>"
      ]
     },
     "metadata": {},
     "output_type": "display_data"
    },
    {
     "data": {
      "text/plain": [
       "<Figure size 432x288 with 0 Axes>"
      ]
     },
     "metadata": {},
     "output_type": "display_data"
    },
    {
     "data": {
      "text/plain": [
       "<Figure size 432x288 with 0 Axes>"
      ]
     },
     "metadata": {},
     "output_type": "display_data"
    },
    {
     "data": {
      "text/plain": [
       "<Figure size 432x288 with 0 Axes>"
      ]
     },
     "metadata": {},
     "output_type": "display_data"
    },
    {
     "data": {
      "text/plain": [
       "<Figure size 432x288 with 0 Axes>"
      ]
     },
     "metadata": {},
     "output_type": "display_data"
    },
    {
     "data": {
      "text/plain": [
       "<Figure size 432x288 with 0 Axes>"
      ]
     },
     "metadata": {},
     "output_type": "display_data"
    },
    {
     "data": {
      "text/plain": [
       "<Figure size 432x288 with 0 Axes>"
      ]
     },
     "metadata": {},
     "output_type": "display_data"
    },
    {
     "data": {
      "text/plain": [
       "<Figure size 432x288 with 0 Axes>"
      ]
     },
     "metadata": {},
     "output_type": "display_data"
    },
    {
     "data": {
      "text/plain": [
       "<Figure size 432x288 with 0 Axes>"
      ]
     },
     "metadata": {},
     "output_type": "display_data"
    },
    {
     "data": {
      "text/plain": [
       "<Figure size 432x288 with 0 Axes>"
      ]
     },
     "metadata": {},
     "output_type": "display_data"
    },
    {
     "data": {
      "text/plain": [
       "<Figure size 432x288 with 0 Axes>"
      ]
     },
     "metadata": {},
     "output_type": "display_data"
    },
    {
     "data": {
      "text/plain": [
       "<Figure size 432x288 with 0 Axes>"
      ]
     },
     "metadata": {},
     "output_type": "display_data"
    },
    {
     "data": {
      "text/plain": [
       "<Figure size 432x288 with 0 Axes>"
      ]
     },
     "metadata": {},
     "output_type": "display_data"
    },
    {
     "data": {
      "text/plain": [
       "<Figure size 432x288 with 0 Axes>"
      ]
     },
     "metadata": {},
     "output_type": "display_data"
    },
    {
     "data": {
      "text/plain": [
       "<Figure size 432x288 with 0 Axes>"
      ]
     },
     "metadata": {},
     "output_type": "display_data"
    },
    {
     "data": {
      "text/plain": [
       "<Figure size 432x288 with 0 Axes>"
      ]
     },
     "metadata": {},
     "output_type": "display_data"
    },
    {
     "data": {
      "text/plain": [
       "<Figure size 432x288 with 0 Axes>"
      ]
     },
     "metadata": {},
     "output_type": "display_data"
    },
    {
     "data": {
      "text/plain": [
       "<Figure size 432x288 with 0 Axes>"
      ]
     },
     "metadata": {},
     "output_type": "display_data"
    },
    {
     "data": {
      "text/plain": [
       "<Figure size 432x288 with 0 Axes>"
      ]
     },
     "metadata": {},
     "output_type": "display_data"
    },
    {
     "data": {
      "text/plain": [
       "<Figure size 432x288 with 0 Axes>"
      ]
     },
     "metadata": {},
     "output_type": "display_data"
    },
    {
     "data": {
      "text/plain": [
       "<Figure size 432x288 with 0 Axes>"
      ]
     },
     "metadata": {},
     "output_type": "display_data"
    },
    {
     "data": {
      "text/plain": [
       "<Figure size 432x288 with 0 Axes>"
      ]
     },
     "metadata": {},
     "output_type": "display_data"
    },
    {
     "data": {
      "text/plain": [
       "<Figure size 432x288 with 0 Axes>"
      ]
     },
     "metadata": {},
     "output_type": "display_data"
    },
    {
     "data": {
      "text/plain": [
       "<Figure size 432x288 with 0 Axes>"
      ]
     },
     "metadata": {},
     "output_type": "display_data"
    },
    {
     "data": {
      "text/plain": [
       "<Figure size 432x288 with 0 Axes>"
      ]
     },
     "metadata": {},
     "output_type": "display_data"
    },
    {
     "data": {
      "text/plain": [
       "<Figure size 432x288 with 0 Axes>"
      ]
     },
     "metadata": {},
     "output_type": "display_data"
    },
    {
     "data": {
      "text/plain": [
       "<Figure size 432x288 with 0 Axes>"
      ]
     },
     "metadata": {},
     "output_type": "display_data"
    },
    {
     "data": {
      "text/plain": [
       "<Figure size 432x288 with 0 Axes>"
      ]
     },
     "metadata": {},
     "output_type": "display_data"
    },
    {
     "data": {
      "text/plain": [
       "<Figure size 432x288 with 0 Axes>"
      ]
     },
     "metadata": {},
     "output_type": "display_data"
    },
    {
     "data": {
      "text/plain": [
       "<Figure size 432x288 with 0 Axes>"
      ]
     },
     "metadata": {},
     "output_type": "display_data"
    },
    {
     "data": {
      "text/plain": [
       "<Figure size 432x288 with 0 Axes>"
      ]
     },
     "metadata": {},
     "output_type": "display_data"
    },
    {
     "data": {
      "text/plain": [
       "<Figure size 432x288 with 0 Axes>"
      ]
     },
     "metadata": {},
     "output_type": "display_data"
    },
    {
     "data": {
      "text/plain": [
       "<Figure size 432x288 with 0 Axes>"
      ]
     },
     "metadata": {},
     "output_type": "display_data"
    },
    {
     "data": {
      "text/plain": [
       "<Figure size 432x288 with 0 Axes>"
      ]
     },
     "metadata": {},
     "output_type": "display_data"
    },
    {
     "data": {
      "text/plain": [
       "<Figure size 432x288 with 0 Axes>"
      ]
     },
     "metadata": {},
     "output_type": "display_data"
    },
    {
     "data": {
      "text/plain": [
       "<Figure size 432x288 with 0 Axes>"
      ]
     },
     "metadata": {},
     "output_type": "display_data"
    },
    {
     "data": {
      "text/plain": [
       "<Figure size 432x288 with 0 Axes>"
      ]
     },
     "metadata": {},
     "output_type": "display_data"
    },
    {
     "data": {
      "text/plain": [
       "<Figure size 432x288 with 0 Axes>"
      ]
     },
     "metadata": {},
     "output_type": "display_data"
    },
    {
     "data": {
      "text/plain": [
       "<Figure size 432x288 with 0 Axes>"
      ]
     },
     "metadata": {},
     "output_type": "display_data"
    },
    {
     "data": {
      "text/plain": [
       "<Figure size 432x288 with 0 Axes>"
      ]
     },
     "metadata": {},
     "output_type": "display_data"
    },
    {
     "data": {
      "text/plain": [
       "<Figure size 432x288 with 0 Axes>"
      ]
     },
     "metadata": {},
     "output_type": "display_data"
    },
    {
     "data": {
      "text/plain": [
       "<Figure size 432x288 with 0 Axes>"
      ]
     },
     "metadata": {},
     "output_type": "display_data"
    },
    {
     "data": {
      "text/plain": [
       "<Figure size 432x288 with 0 Axes>"
      ]
     },
     "metadata": {},
     "output_type": "display_data"
    },
    {
     "data": {
      "text/plain": [
       "<Figure size 432x288 with 0 Axes>"
      ]
     },
     "metadata": {},
     "output_type": "display_data"
    },
    {
     "data": {
      "text/plain": [
       "<Figure size 432x288 with 0 Axes>"
      ]
     },
     "metadata": {},
     "output_type": "display_data"
    },
    {
     "data": {
      "text/plain": [
       "<Figure size 432x288 with 0 Axes>"
      ]
     },
     "metadata": {},
     "output_type": "display_data"
    },
    {
     "data": {
      "text/plain": [
       "<Figure size 432x288 with 0 Axes>"
      ]
     },
     "metadata": {},
     "output_type": "display_data"
    },
    {
     "data": {
      "text/plain": [
       "<Figure size 432x288 with 0 Axes>"
      ]
     },
     "metadata": {},
     "output_type": "display_data"
    },
    {
     "data": {
      "text/plain": [
       "<Figure size 432x288 with 0 Axes>"
      ]
     },
     "metadata": {},
     "output_type": "display_data"
    },
    {
     "data": {
      "text/plain": [
       "<Figure size 432x288 with 0 Axes>"
      ]
     },
     "metadata": {},
     "output_type": "display_data"
    },
    {
     "data": {
      "text/plain": [
       "<Figure size 432x288 with 0 Axes>"
      ]
     },
     "metadata": {},
     "output_type": "display_data"
    },
    {
     "data": {
      "text/plain": [
       "<Figure size 432x288 with 0 Axes>"
      ]
     },
     "metadata": {},
     "output_type": "display_data"
    },
    {
     "data": {
      "text/plain": [
       "<Figure size 432x288 with 0 Axes>"
      ]
     },
     "metadata": {},
     "output_type": "display_data"
    },
    {
     "data": {
      "text/plain": [
       "<Figure size 432x288 with 0 Axes>"
      ]
     },
     "metadata": {},
     "output_type": "display_data"
    },
    {
     "data": {
      "text/plain": [
       "<Figure size 432x288 with 0 Axes>"
      ]
     },
     "metadata": {},
     "output_type": "display_data"
    },
    {
     "data": {
      "text/plain": [
       "<Figure size 432x288 with 0 Axes>"
      ]
     },
     "metadata": {},
     "output_type": "display_data"
    },
    {
     "data": {
      "text/plain": [
       "<Figure size 432x288 with 0 Axes>"
      ]
     },
     "metadata": {},
     "output_type": "display_data"
    },
    {
     "data": {
      "text/plain": [
       "<Figure size 432x288 with 0 Axes>"
      ]
     },
     "metadata": {},
     "output_type": "display_data"
    },
    {
     "data": {
      "text/plain": [
       "<Figure size 432x288 with 0 Axes>"
      ]
     },
     "metadata": {},
     "output_type": "display_data"
    },
    {
     "data": {
      "text/plain": [
       "<Figure size 432x288 with 0 Axes>"
      ]
     },
     "metadata": {},
     "output_type": "display_data"
    },
    {
     "data": {
      "text/plain": [
       "<Figure size 432x288 with 0 Axes>"
      ]
     },
     "metadata": {},
     "output_type": "display_data"
    },
    {
     "data": {
      "text/plain": [
       "<Figure size 432x288 with 0 Axes>"
      ]
     },
     "metadata": {},
     "output_type": "display_data"
    },
    {
     "data": {
      "text/plain": [
       "<Figure size 432x288 with 0 Axes>"
      ]
     },
     "metadata": {},
     "output_type": "display_data"
    },
    {
     "data": {
      "text/plain": [
       "<Figure size 432x288 with 0 Axes>"
      ]
     },
     "metadata": {},
     "output_type": "display_data"
    },
    {
     "data": {
      "text/plain": [
       "<Figure size 432x288 with 0 Axes>"
      ]
     },
     "metadata": {},
     "output_type": "display_data"
    },
    {
     "data": {
      "text/plain": [
       "<Figure size 432x288 with 0 Axes>"
      ]
     },
     "metadata": {},
     "output_type": "display_data"
    },
    {
     "data": {
      "text/plain": [
       "<Figure size 432x288 with 0 Axes>"
      ]
     },
     "metadata": {},
     "output_type": "display_data"
    },
    {
     "data": {
      "text/plain": [
       "<Figure size 432x288 with 0 Axes>"
      ]
     },
     "metadata": {},
     "output_type": "display_data"
    },
    {
     "data": {
      "text/plain": [
       "<Figure size 432x288 with 0 Axes>"
      ]
     },
     "metadata": {},
     "output_type": "display_data"
    },
    {
     "data": {
      "text/plain": [
       "<Figure size 432x288 with 0 Axes>"
      ]
     },
     "metadata": {},
     "output_type": "display_data"
    },
    {
     "data": {
      "text/plain": [
       "<Figure size 432x288 with 0 Axes>"
      ]
     },
     "metadata": {},
     "output_type": "display_data"
    },
    {
     "data": {
      "text/plain": [
       "<Figure size 432x288 with 0 Axes>"
      ]
     },
     "metadata": {},
     "output_type": "display_data"
    },
    {
     "data": {
      "text/plain": [
       "<Figure size 432x288 with 0 Axes>"
      ]
     },
     "metadata": {},
     "output_type": "display_data"
    },
    {
     "data": {
      "text/plain": [
       "<Figure size 432x288 with 0 Axes>"
      ]
     },
     "metadata": {},
     "output_type": "display_data"
    },
    {
     "data": {
      "text/plain": [
       "<Figure size 432x288 with 0 Axes>"
      ]
     },
     "metadata": {},
     "output_type": "display_data"
    },
    {
     "data": {
      "text/plain": [
       "<Figure size 432x288 with 0 Axes>"
      ]
     },
     "metadata": {},
     "output_type": "display_data"
    },
    {
     "data": {
      "text/plain": [
       "<Figure size 432x288 with 0 Axes>"
      ]
     },
     "metadata": {},
     "output_type": "display_data"
    },
    {
     "data": {
      "text/plain": [
       "<Figure size 432x288 with 0 Axes>"
      ]
     },
     "metadata": {},
     "output_type": "display_data"
    },
    {
     "data": {
      "text/plain": [
       "<Figure size 432x288 with 0 Axes>"
      ]
     },
     "metadata": {},
     "output_type": "display_data"
    },
    {
     "data": {
      "text/plain": [
       "<Figure size 432x288 with 0 Axes>"
      ]
     },
     "metadata": {},
     "output_type": "display_data"
    },
    {
     "data": {
      "text/plain": [
       "<Figure size 432x288 with 0 Axes>"
      ]
     },
     "metadata": {},
     "output_type": "display_data"
    },
    {
     "data": {
      "text/plain": [
       "<Figure size 432x288 with 0 Axes>"
      ]
     },
     "metadata": {},
     "output_type": "display_data"
    },
    {
     "data": {
      "text/plain": [
       "<Figure size 432x288 with 0 Axes>"
      ]
     },
     "metadata": {},
     "output_type": "display_data"
    },
    {
     "data": {
      "text/plain": [
       "<Figure size 432x288 with 0 Axes>"
      ]
     },
     "metadata": {},
     "output_type": "display_data"
    },
    {
     "data": {
      "text/plain": [
       "<Figure size 432x288 with 0 Axes>"
      ]
     },
     "metadata": {},
     "output_type": "display_data"
    },
    {
     "data": {
      "text/plain": [
       "<Figure size 432x288 with 0 Axes>"
      ]
     },
     "metadata": {},
     "output_type": "display_data"
    },
    {
     "data": {
      "text/plain": [
       "<Figure size 432x288 with 0 Axes>"
      ]
     },
     "metadata": {},
     "output_type": "display_data"
    },
    {
     "data": {
      "text/plain": [
       "<Figure size 432x288 with 0 Axes>"
      ]
     },
     "metadata": {},
     "output_type": "display_data"
    },
    {
     "data": {
      "text/plain": [
       "<Figure size 432x288 with 0 Axes>"
      ]
     },
     "metadata": {},
     "output_type": "display_data"
    },
    {
     "data": {
      "text/plain": [
       "<Figure size 432x288 with 0 Axes>"
      ]
     },
     "metadata": {},
     "output_type": "display_data"
    },
    {
     "data": {
      "text/plain": [
       "<Figure size 432x288 with 0 Axes>"
      ]
     },
     "metadata": {},
     "output_type": "display_data"
    },
    {
     "data": {
      "text/plain": [
       "<Figure size 432x288 with 0 Axes>"
      ]
     },
     "metadata": {},
     "output_type": "display_data"
    },
    {
     "data": {
      "text/plain": [
       "<Figure size 432x288 with 0 Axes>"
      ]
     },
     "metadata": {},
     "output_type": "display_data"
    },
    {
     "data": {
      "text/plain": [
       "<Figure size 432x288 with 0 Axes>"
      ]
     },
     "metadata": {},
     "output_type": "display_data"
    },
    {
     "data": {
      "text/plain": [
       "<Figure size 432x288 with 0 Axes>"
      ]
     },
     "metadata": {},
     "output_type": "display_data"
    },
    {
     "data": {
      "text/plain": [
       "<Figure size 432x288 with 0 Axes>"
      ]
     },
     "metadata": {},
     "output_type": "display_data"
    },
    {
     "data": {
      "text/plain": [
       "<Figure size 432x288 with 0 Axes>"
      ]
     },
     "metadata": {},
     "output_type": "display_data"
    },
    {
     "data": {
      "text/plain": [
       "<Figure size 432x288 with 0 Axes>"
      ]
     },
     "metadata": {},
     "output_type": "display_data"
    },
    {
     "data": {
      "text/plain": [
       "<Figure size 432x288 with 0 Axes>"
      ]
     },
     "metadata": {},
     "output_type": "display_data"
    },
    {
     "data": {
      "text/plain": [
       "<Figure size 432x288 with 0 Axes>"
      ]
     },
     "metadata": {},
     "output_type": "display_data"
    },
    {
     "data": {
      "text/plain": [
       "<Figure size 432x288 with 0 Axes>"
      ]
     },
     "metadata": {},
     "output_type": "display_data"
    },
    {
     "data": {
      "text/plain": [
       "<Figure size 432x288 with 0 Axes>"
      ]
     },
     "metadata": {},
     "output_type": "display_data"
    },
    {
     "data": {
      "text/plain": [
       "<Figure size 432x288 with 0 Axes>"
      ]
     },
     "metadata": {},
     "output_type": "display_data"
    },
    {
     "data": {
      "text/plain": [
       "<Figure size 432x288 with 0 Axes>"
      ]
     },
     "metadata": {},
     "output_type": "display_data"
    },
    {
     "data": {
      "text/plain": [
       "<Figure size 432x288 with 0 Axes>"
      ]
     },
     "metadata": {},
     "output_type": "display_data"
    },
    {
     "data": {
      "text/plain": [
       "<Figure size 432x288 with 0 Axes>"
      ]
     },
     "metadata": {},
     "output_type": "display_data"
    },
    {
     "data": {
      "text/plain": [
       "<Figure size 432x288 with 0 Axes>"
      ]
     },
     "metadata": {},
     "output_type": "display_data"
    },
    {
     "data": {
      "text/plain": [
       "<Figure size 432x288 with 0 Axes>"
      ]
     },
     "metadata": {},
     "output_type": "display_data"
    },
    {
     "data": {
      "text/plain": [
       "<Figure size 432x288 with 0 Axes>"
      ]
     },
     "metadata": {},
     "output_type": "display_data"
    },
    {
     "data": {
      "text/plain": [
       "<Figure size 432x288 with 0 Axes>"
      ]
     },
     "metadata": {},
     "output_type": "display_data"
    },
    {
     "data": {
      "text/plain": [
       "<Figure size 432x288 with 0 Axes>"
      ]
     },
     "metadata": {},
     "output_type": "display_data"
    },
    {
     "data": {
      "text/plain": [
       "<Figure size 432x288 with 0 Axes>"
      ]
     },
     "metadata": {},
     "output_type": "display_data"
    },
    {
     "data": {
      "text/plain": [
       "<Figure size 432x288 with 0 Axes>"
      ]
     },
     "metadata": {},
     "output_type": "display_data"
    },
    {
     "data": {
      "text/plain": [
       "<Figure size 432x288 with 0 Axes>"
      ]
     },
     "metadata": {},
     "output_type": "display_data"
    },
    {
     "data": {
      "text/plain": [
       "<Figure size 432x288 with 0 Axes>"
      ]
     },
     "metadata": {},
     "output_type": "display_data"
    },
    {
     "data": {
      "text/plain": [
       "<Figure size 432x288 with 0 Axes>"
      ]
     },
     "metadata": {},
     "output_type": "display_data"
    },
    {
     "data": {
      "text/plain": [
       "<Figure size 432x288 with 0 Axes>"
      ]
     },
     "metadata": {},
     "output_type": "display_data"
    },
    {
     "data": {
      "text/plain": [
       "<Figure size 432x288 with 0 Axes>"
      ]
     },
     "metadata": {},
     "output_type": "display_data"
    },
    {
     "data": {
      "text/plain": [
       "<Figure size 432x288 with 0 Axes>"
      ]
     },
     "metadata": {},
     "output_type": "display_data"
    },
    {
     "data": {
      "text/plain": [
       "<Figure size 432x288 with 0 Axes>"
      ]
     },
     "metadata": {},
     "output_type": "display_data"
    },
    {
     "data": {
      "text/plain": [
       "<Figure size 432x288 with 0 Axes>"
      ]
     },
     "metadata": {},
     "output_type": "display_data"
    },
    {
     "data": {
      "text/plain": [
       "<Figure size 432x288 with 0 Axes>"
      ]
     },
     "metadata": {},
     "output_type": "display_data"
    },
    {
     "data": {
      "text/plain": [
       "<Figure size 432x288 with 0 Axes>"
      ]
     },
     "metadata": {},
     "output_type": "display_data"
    },
    {
     "data": {
      "text/plain": [
       "<Figure size 432x288 with 0 Axes>"
      ]
     },
     "metadata": {},
     "output_type": "display_data"
    },
    {
     "data": {
      "text/plain": [
       "<Figure size 432x288 with 0 Axes>"
      ]
     },
     "metadata": {},
     "output_type": "display_data"
    },
    {
     "data": {
      "text/plain": [
       "<Figure size 432x288 with 0 Axes>"
      ]
     },
     "metadata": {},
     "output_type": "display_data"
    },
    {
     "data": {
      "text/plain": [
       "<Figure size 432x288 with 0 Axes>"
      ]
     },
     "metadata": {},
     "output_type": "display_data"
    },
    {
     "data": {
      "text/plain": [
       "<Figure size 432x288 with 0 Axes>"
      ]
     },
     "metadata": {},
     "output_type": "display_data"
    },
    {
     "data": {
      "text/plain": [
       "<Figure size 432x288 with 0 Axes>"
      ]
     },
     "metadata": {},
     "output_type": "display_data"
    },
    {
     "data": {
      "text/plain": [
       "<Figure size 432x288 with 0 Axes>"
      ]
     },
     "metadata": {},
     "output_type": "display_data"
    },
    {
     "data": {
      "text/plain": [
       "<Figure size 432x288 with 0 Axes>"
      ]
     },
     "metadata": {},
     "output_type": "display_data"
    },
    {
     "data": {
      "text/plain": [
       "<Figure size 432x288 with 0 Axes>"
      ]
     },
     "metadata": {},
     "output_type": "display_data"
    },
    {
     "data": {
      "text/plain": [
       "<Figure size 432x288 with 0 Axes>"
      ]
     },
     "metadata": {},
     "output_type": "display_data"
    },
    {
     "data": {
      "text/plain": [
       "<Figure size 432x288 with 0 Axes>"
      ]
     },
     "metadata": {},
     "output_type": "display_data"
    },
    {
     "data": {
      "text/plain": [
       "<Figure size 432x288 with 0 Axes>"
      ]
     },
     "metadata": {},
     "output_type": "display_data"
    },
    {
     "data": {
      "text/plain": [
       "<Figure size 432x288 with 0 Axes>"
      ]
     },
     "metadata": {},
     "output_type": "display_data"
    },
    {
     "data": {
      "text/plain": [
       "<Figure size 432x288 with 0 Axes>"
      ]
     },
     "metadata": {},
     "output_type": "display_data"
    },
    {
     "data": {
      "text/plain": [
       "<Figure size 432x288 with 0 Axes>"
      ]
     },
     "metadata": {},
     "output_type": "display_data"
    },
    {
     "data": {
      "text/plain": [
       "<Figure size 432x288 with 0 Axes>"
      ]
     },
     "metadata": {},
     "output_type": "display_data"
    },
    {
     "data": {
      "text/plain": [
       "<Figure size 432x288 with 0 Axes>"
      ]
     },
     "metadata": {},
     "output_type": "display_data"
    },
    {
     "data": {
      "text/plain": [
       "<Figure size 432x288 with 0 Axes>"
      ]
     },
     "metadata": {},
     "output_type": "display_data"
    },
    {
     "data": {
      "text/plain": [
       "<Figure size 432x288 with 0 Axes>"
      ]
     },
     "metadata": {},
     "output_type": "display_data"
    },
    {
     "data": {
      "text/plain": [
       "<Figure size 432x288 with 0 Axes>"
      ]
     },
     "metadata": {},
     "output_type": "display_data"
    },
    {
     "data": {
      "text/plain": [
       "<Figure size 432x288 with 0 Axes>"
      ]
     },
     "metadata": {},
     "output_type": "display_data"
    },
    {
     "data": {
      "text/plain": [
       "<Figure size 432x288 with 0 Axes>"
      ]
     },
     "metadata": {},
     "output_type": "display_data"
    },
    {
     "data": {
      "text/plain": [
       "<Figure size 432x288 with 0 Axes>"
      ]
     },
     "metadata": {},
     "output_type": "display_data"
    },
    {
     "data": {
      "text/plain": [
       "<Figure size 432x288 with 0 Axes>"
      ]
     },
     "metadata": {},
     "output_type": "display_data"
    },
    {
     "data": {
      "text/plain": [
       "<Figure size 432x288 with 0 Axes>"
      ]
     },
     "metadata": {},
     "output_type": "display_data"
    },
    {
     "data": {
      "text/plain": [
       "<Figure size 432x288 with 0 Axes>"
      ]
     },
     "metadata": {},
     "output_type": "display_data"
    },
    {
     "data": {
      "text/plain": [
       "<Figure size 432x288 with 0 Axes>"
      ]
     },
     "metadata": {},
     "output_type": "display_data"
    },
    {
     "data": {
      "text/plain": [
       "<Figure size 432x288 with 0 Axes>"
      ]
     },
     "metadata": {},
     "output_type": "display_data"
    },
    {
     "data": {
      "text/plain": [
       "<Figure size 432x288 with 0 Axes>"
      ]
     },
     "metadata": {},
     "output_type": "display_data"
    },
    {
     "data": {
      "text/plain": [
       "<Figure size 432x288 with 0 Axes>"
      ]
     },
     "metadata": {},
     "output_type": "display_data"
    },
    {
     "data": {
      "text/plain": [
       "<Figure size 432x288 with 0 Axes>"
      ]
     },
     "metadata": {},
     "output_type": "display_data"
    },
    {
     "data": {
      "text/plain": [
       "<Figure size 432x288 with 0 Axes>"
      ]
     },
     "metadata": {},
     "output_type": "display_data"
    },
    {
     "data": {
      "text/plain": [
       "<Figure size 432x288 with 0 Axes>"
      ]
     },
     "metadata": {},
     "output_type": "display_data"
    },
    {
     "data": {
      "text/plain": [
       "<Figure size 432x288 with 0 Axes>"
      ]
     },
     "metadata": {},
     "output_type": "display_data"
    },
    {
     "data": {
      "text/plain": [
       "<Figure size 432x288 with 0 Axes>"
      ]
     },
     "metadata": {},
     "output_type": "display_data"
    },
    {
     "data": {
      "text/plain": [
       "<Figure size 432x288 with 0 Axes>"
      ]
     },
     "metadata": {},
     "output_type": "display_data"
    },
    {
     "data": {
      "text/plain": [
       "<Figure size 432x288 with 0 Axes>"
      ]
     },
     "metadata": {},
     "output_type": "display_data"
    },
    {
     "data": {
      "text/plain": [
       "<Figure size 432x288 with 0 Axes>"
      ]
     },
     "metadata": {},
     "output_type": "display_data"
    },
    {
     "data": {
      "text/plain": [
       "<Figure size 432x288 with 0 Axes>"
      ]
     },
     "metadata": {},
     "output_type": "display_data"
    },
    {
     "data": {
      "text/plain": [
       "<Figure size 432x288 with 0 Axes>"
      ]
     },
     "metadata": {},
     "output_type": "display_data"
    },
    {
     "data": {
      "text/plain": [
       "<Figure size 432x288 with 0 Axes>"
      ]
     },
     "metadata": {},
     "output_type": "display_data"
    },
    {
     "data": {
      "text/plain": [
       "<Figure size 432x288 with 0 Axes>"
      ]
     },
     "metadata": {},
     "output_type": "display_data"
    },
    {
     "data": {
      "text/plain": [
       "<Figure size 432x288 with 0 Axes>"
      ]
     },
     "metadata": {},
     "output_type": "display_data"
    },
    {
     "data": {
      "text/plain": [
       "<Figure size 432x288 with 0 Axes>"
      ]
     },
     "metadata": {},
     "output_type": "display_data"
    },
    {
     "data": {
      "text/plain": [
       "<Figure size 432x288 with 0 Axes>"
      ]
     },
     "metadata": {},
     "output_type": "display_data"
    },
    {
     "data": {
      "text/plain": [
       "<Figure size 432x288 with 0 Axes>"
      ]
     },
     "metadata": {},
     "output_type": "display_data"
    },
    {
     "data": {
      "text/plain": [
       "<Figure size 432x288 with 0 Axes>"
      ]
     },
     "metadata": {},
     "output_type": "display_data"
    },
    {
     "data": {
      "text/plain": [
       "<Figure size 432x288 with 0 Axes>"
      ]
     },
     "metadata": {},
     "output_type": "display_data"
    },
    {
     "data": {
      "text/plain": [
       "<Figure size 432x288 with 0 Axes>"
      ]
     },
     "metadata": {},
     "output_type": "display_data"
    },
    {
     "data": {
      "text/plain": [
       "<Figure size 432x288 with 0 Axes>"
      ]
     },
     "metadata": {},
     "output_type": "display_data"
    },
    {
     "data": {
      "text/plain": [
       "<Figure size 432x288 with 0 Axes>"
      ]
     },
     "metadata": {},
     "output_type": "display_data"
    },
    {
     "data": {
      "text/plain": [
       "<Figure size 432x288 with 0 Axes>"
      ]
     },
     "metadata": {},
     "output_type": "display_data"
    },
    {
     "data": {
      "text/plain": [
       "<Figure size 432x288 with 0 Axes>"
      ]
     },
     "metadata": {},
     "output_type": "display_data"
    },
    {
     "data": {
      "text/plain": [
       "<Figure size 432x288 with 0 Axes>"
      ]
     },
     "metadata": {},
     "output_type": "display_data"
    },
    {
     "data": {
      "text/plain": [
       "<Figure size 432x288 with 0 Axes>"
      ]
     },
     "metadata": {},
     "output_type": "display_data"
    },
    {
     "data": {
      "text/plain": [
       "<Figure size 432x288 with 0 Axes>"
      ]
     },
     "metadata": {},
     "output_type": "display_data"
    },
    {
     "data": {
      "text/plain": [
       "<Figure size 432x288 with 0 Axes>"
      ]
     },
     "metadata": {},
     "output_type": "display_data"
    },
    {
     "data": {
      "text/plain": [
       "<Figure size 432x288 with 0 Axes>"
      ]
     },
     "metadata": {},
     "output_type": "display_data"
    },
    {
     "data": {
      "text/plain": [
       "<Figure size 432x288 with 0 Axes>"
      ]
     },
     "metadata": {},
     "output_type": "display_data"
    },
    {
     "data": {
      "text/plain": [
       "<Figure size 432x288 with 0 Axes>"
      ]
     },
     "metadata": {},
     "output_type": "display_data"
    },
    {
     "data": {
      "text/plain": [
       "<Figure size 432x288 with 0 Axes>"
      ]
     },
     "metadata": {},
     "output_type": "display_data"
    },
    {
     "data": {
      "text/plain": [
       "<Figure size 432x288 with 0 Axes>"
      ]
     },
     "metadata": {},
     "output_type": "display_data"
    },
    {
     "data": {
      "text/plain": [
       "<Figure size 432x288 with 0 Axes>"
      ]
     },
     "metadata": {},
     "output_type": "display_data"
    },
    {
     "data": {
      "text/plain": [
       "<Figure size 432x288 with 0 Axes>"
      ]
     },
     "metadata": {},
     "output_type": "display_data"
    },
    {
     "data": {
      "text/plain": [
       "<Figure size 432x288 with 0 Axes>"
      ]
     },
     "metadata": {},
     "output_type": "display_data"
    },
    {
     "data": {
      "text/plain": [
       "<Figure size 432x288 with 0 Axes>"
      ]
     },
     "metadata": {},
     "output_type": "display_data"
    },
    {
     "data": {
      "text/plain": [
       "<Figure size 432x288 with 0 Axes>"
      ]
     },
     "metadata": {},
     "output_type": "display_data"
    },
    {
     "data": {
      "text/plain": [
       "<Figure size 432x288 with 0 Axes>"
      ]
     },
     "metadata": {},
     "output_type": "display_data"
    },
    {
     "data": {
      "text/plain": [
       "<Figure size 432x288 with 0 Axes>"
      ]
     },
     "metadata": {},
     "output_type": "display_data"
    },
    {
     "data": {
      "text/plain": [
       "<Figure size 432x288 with 0 Axes>"
      ]
     },
     "metadata": {},
     "output_type": "display_data"
    },
    {
     "data": {
      "text/plain": [
       "<Figure size 432x288 with 0 Axes>"
      ]
     },
     "metadata": {},
     "output_type": "display_data"
    },
    {
     "data": {
      "text/plain": [
       "<Figure size 432x288 with 0 Axes>"
      ]
     },
     "metadata": {},
     "output_type": "display_data"
    },
    {
     "data": {
      "text/plain": [
       "<Figure size 432x288 with 0 Axes>"
      ]
     },
     "metadata": {},
     "output_type": "display_data"
    },
    {
     "data": {
      "text/plain": [
       "<Figure size 432x288 with 0 Axes>"
      ]
     },
     "metadata": {},
     "output_type": "display_data"
    },
    {
     "data": {
      "text/plain": [
       "<Figure size 432x288 with 0 Axes>"
      ]
     },
     "metadata": {},
     "output_type": "display_data"
    },
    {
     "data": {
      "text/plain": [
       "<Figure size 432x288 with 0 Axes>"
      ]
     },
     "metadata": {},
     "output_type": "display_data"
    },
    {
     "data": {
      "text/plain": [
       "<Figure size 432x288 with 0 Axes>"
      ]
     },
     "metadata": {},
     "output_type": "display_data"
    },
    {
     "data": {
      "text/plain": [
       "<Figure size 432x288 with 0 Axes>"
      ]
     },
     "metadata": {},
     "output_type": "display_data"
    },
    {
     "data": {
      "text/plain": [
       "<Figure size 432x288 with 0 Axes>"
      ]
     },
     "metadata": {},
     "output_type": "display_data"
    },
    {
     "data": {
      "text/plain": [
       "<Figure size 432x288 with 0 Axes>"
      ]
     },
     "metadata": {},
     "output_type": "display_data"
    },
    {
     "data": {
      "text/plain": [
       "<Figure size 432x288 with 0 Axes>"
      ]
     },
     "metadata": {},
     "output_type": "display_data"
    },
    {
     "data": {
      "text/plain": [
       "<Figure size 432x288 with 0 Axes>"
      ]
     },
     "metadata": {},
     "output_type": "display_data"
    },
    {
     "data": {
      "text/plain": [
       "<Figure size 432x288 with 0 Axes>"
      ]
     },
     "metadata": {},
     "output_type": "display_data"
    },
    {
     "data": {
      "text/plain": [
       "<Figure size 432x288 with 0 Axes>"
      ]
     },
     "metadata": {},
     "output_type": "display_data"
    },
    {
     "data": {
      "text/plain": [
       "<Figure size 432x288 with 0 Axes>"
      ]
     },
     "metadata": {},
     "output_type": "display_data"
    },
    {
     "data": {
      "text/plain": [
       "<Figure size 432x288 with 0 Axes>"
      ]
     },
     "metadata": {},
     "output_type": "display_data"
    },
    {
     "data": {
      "text/plain": [
       "<Figure size 432x288 with 0 Axes>"
      ]
     },
     "metadata": {},
     "output_type": "display_data"
    },
    {
     "data": {
      "text/plain": [
       "<Figure size 432x288 with 0 Axes>"
      ]
     },
     "metadata": {},
     "output_type": "display_data"
    },
    {
     "data": {
      "text/plain": [
       "<Figure size 432x288 with 0 Axes>"
      ]
     },
     "metadata": {},
     "output_type": "display_data"
    },
    {
     "data": {
      "text/plain": [
       "<Figure size 432x288 with 0 Axes>"
      ]
     },
     "metadata": {},
     "output_type": "display_data"
    },
    {
     "data": {
      "text/plain": [
       "<Figure size 432x288 with 0 Axes>"
      ]
     },
     "metadata": {},
     "output_type": "display_data"
    },
    {
     "data": {
      "text/plain": [
       "<Figure size 432x288 with 0 Axes>"
      ]
     },
     "metadata": {},
     "output_type": "display_data"
    },
    {
     "data": {
      "text/plain": [
       "<Figure size 432x288 with 0 Axes>"
      ]
     },
     "metadata": {},
     "output_type": "display_data"
    },
    {
     "data": {
      "text/plain": [
       "<Figure size 432x288 with 0 Axes>"
      ]
     },
     "metadata": {},
     "output_type": "display_data"
    },
    {
     "data": {
      "text/plain": [
       "<Figure size 432x288 with 0 Axes>"
      ]
     },
     "metadata": {},
     "output_type": "display_data"
    },
    {
     "data": {
      "text/plain": [
       "<Figure size 432x288 with 0 Axes>"
      ]
     },
     "metadata": {},
     "output_type": "display_data"
    },
    {
     "data": {
      "text/plain": [
       "<Figure size 432x288 with 0 Axes>"
      ]
     },
     "metadata": {},
     "output_type": "display_data"
    },
    {
     "data": {
      "text/plain": [
       "<Figure size 432x288 with 0 Axes>"
      ]
     },
     "metadata": {},
     "output_type": "display_data"
    },
    {
     "data": {
      "text/plain": [
       "<Figure size 432x288 with 0 Axes>"
      ]
     },
     "metadata": {},
     "output_type": "display_data"
    },
    {
     "data": {
      "text/plain": [
       "<Figure size 432x288 with 0 Axes>"
      ]
     },
     "metadata": {},
     "output_type": "display_data"
    },
    {
     "data": {
      "text/plain": [
       "<Figure size 432x288 with 0 Axes>"
      ]
     },
     "metadata": {},
     "output_type": "display_data"
    },
    {
     "data": {
      "text/plain": [
       "<Figure size 432x288 with 0 Axes>"
      ]
     },
     "metadata": {},
     "output_type": "display_data"
    },
    {
     "data": {
      "text/plain": [
       "<Figure size 432x288 with 0 Axes>"
      ]
     },
     "metadata": {},
     "output_type": "display_data"
    },
    {
     "data": {
      "text/plain": [
       "<Figure size 432x288 with 0 Axes>"
      ]
     },
     "metadata": {},
     "output_type": "display_data"
    },
    {
     "data": {
      "text/plain": [
       "<Figure size 432x288 with 0 Axes>"
      ]
     },
     "metadata": {},
     "output_type": "display_data"
    },
    {
     "data": {
      "text/plain": [
       "<Figure size 432x288 with 0 Axes>"
      ]
     },
     "metadata": {},
     "output_type": "display_data"
    },
    {
     "data": {
      "text/plain": [
       "<Figure size 432x288 with 0 Axes>"
      ]
     },
     "metadata": {},
     "output_type": "display_data"
    },
    {
     "data": {
      "text/plain": [
       "<Figure size 432x288 with 0 Axes>"
      ]
     },
     "metadata": {},
     "output_type": "display_data"
    },
    {
     "data": {
      "text/plain": [
       "<Figure size 432x288 with 0 Axes>"
      ]
     },
     "metadata": {},
     "output_type": "display_data"
    },
    {
     "data": {
      "text/plain": [
       "<Figure size 432x288 with 0 Axes>"
      ]
     },
     "metadata": {},
     "output_type": "display_data"
    },
    {
     "data": {
      "text/plain": [
       "<Figure size 432x288 with 0 Axes>"
      ]
     },
     "metadata": {},
     "output_type": "display_data"
    },
    {
     "data": {
      "text/plain": [
       "<Figure size 432x288 with 0 Axes>"
      ]
     },
     "metadata": {},
     "output_type": "display_data"
    },
    {
     "data": {
      "text/plain": [
       "<Figure size 432x288 with 0 Axes>"
      ]
     },
     "metadata": {},
     "output_type": "display_data"
    },
    {
     "data": {
      "text/plain": [
       "<Figure size 432x288 with 0 Axes>"
      ]
     },
     "metadata": {},
     "output_type": "display_data"
    },
    {
     "data": {
      "text/plain": [
       "<Figure size 432x288 with 0 Axes>"
      ]
     },
     "metadata": {},
     "output_type": "display_data"
    },
    {
     "data": {
      "text/plain": [
       "<Figure size 432x288 with 0 Axes>"
      ]
     },
     "metadata": {},
     "output_type": "display_data"
    },
    {
     "data": {
      "text/plain": [
       "<Figure size 432x288 with 0 Axes>"
      ]
     },
     "metadata": {},
     "output_type": "display_data"
    },
    {
     "data": {
      "text/plain": [
       "<Figure size 432x288 with 0 Axes>"
      ]
     },
     "metadata": {},
     "output_type": "display_data"
    },
    {
     "data": {
      "text/plain": [
       "<Figure size 432x288 with 0 Axes>"
      ]
     },
     "metadata": {},
     "output_type": "display_data"
    },
    {
     "data": {
      "text/plain": [
       "<Figure size 432x288 with 0 Axes>"
      ]
     },
     "metadata": {},
     "output_type": "display_data"
    },
    {
     "data": {
      "text/plain": [
       "<Figure size 432x288 with 0 Axes>"
      ]
     },
     "metadata": {},
     "output_type": "display_data"
    },
    {
     "data": {
      "text/plain": [
       "<Figure size 432x288 with 0 Axes>"
      ]
     },
     "metadata": {},
     "output_type": "display_data"
    },
    {
     "data": {
      "text/plain": [
       "<Figure size 432x288 with 0 Axes>"
      ]
     },
     "metadata": {},
     "output_type": "display_data"
    },
    {
     "data": {
      "text/plain": [
       "<Figure size 432x288 with 0 Axes>"
      ]
     },
     "metadata": {},
     "output_type": "display_data"
    },
    {
     "data": {
      "text/plain": [
       "<Figure size 432x288 with 0 Axes>"
      ]
     },
     "metadata": {},
     "output_type": "display_data"
    },
    {
     "data": {
      "text/plain": [
       "<Figure size 432x288 with 0 Axes>"
      ]
     },
     "metadata": {},
     "output_type": "display_data"
    },
    {
     "data": {
      "text/plain": [
       "<Figure size 432x288 with 0 Axes>"
      ]
     },
     "metadata": {},
     "output_type": "display_data"
    },
    {
     "data": {
      "text/plain": [
       "<Figure size 432x288 with 0 Axes>"
      ]
     },
     "metadata": {},
     "output_type": "display_data"
    },
    {
     "data": {
      "text/plain": [
       "<Figure size 432x288 with 0 Axes>"
      ]
     },
     "metadata": {},
     "output_type": "display_data"
    },
    {
     "data": {
      "text/plain": [
       "<Figure size 432x288 with 0 Axes>"
      ]
     },
     "metadata": {},
     "output_type": "display_data"
    },
    {
     "data": {
      "text/plain": [
       "<Figure size 432x288 with 0 Axes>"
      ]
     },
     "metadata": {},
     "output_type": "display_data"
    },
    {
     "data": {
      "text/plain": [
       "<Figure size 432x288 with 0 Axes>"
      ]
     },
     "metadata": {},
     "output_type": "display_data"
    },
    {
     "data": {
      "text/plain": [
       "<Figure size 432x288 with 0 Axes>"
      ]
     },
     "metadata": {},
     "output_type": "display_data"
    },
    {
     "data": {
      "text/plain": [
       "<Figure size 432x288 with 0 Axes>"
      ]
     },
     "metadata": {},
     "output_type": "display_data"
    },
    {
     "data": {
      "text/plain": [
       "<Figure size 432x288 with 0 Axes>"
      ]
     },
     "metadata": {},
     "output_type": "display_data"
    },
    {
     "data": {
      "text/plain": [
       "<Figure size 432x288 with 0 Axes>"
      ]
     },
     "metadata": {},
     "output_type": "display_data"
    },
    {
     "data": {
      "text/plain": [
       "<Figure size 432x288 with 0 Axes>"
      ]
     },
     "metadata": {},
     "output_type": "display_data"
    },
    {
     "data": {
      "text/plain": [
       "<Figure size 432x288 with 0 Axes>"
      ]
     },
     "metadata": {},
     "output_type": "display_data"
    },
    {
     "data": {
      "text/plain": [
       "<Figure size 432x288 with 0 Axes>"
      ]
     },
     "metadata": {},
     "output_type": "display_data"
    },
    {
     "data": {
      "text/plain": [
       "<Figure size 432x288 with 0 Axes>"
      ]
     },
     "metadata": {},
     "output_type": "display_data"
    },
    {
     "data": {
      "text/plain": [
       "<Figure size 432x288 with 0 Axes>"
      ]
     },
     "metadata": {},
     "output_type": "display_data"
    },
    {
     "data": {
      "text/plain": [
       "<Figure size 432x288 with 0 Axes>"
      ]
     },
     "metadata": {},
     "output_type": "display_data"
    },
    {
     "data": {
      "text/plain": [
       "<Figure size 432x288 with 0 Axes>"
      ]
     },
     "metadata": {},
     "output_type": "display_data"
    },
    {
     "data": {
      "text/plain": [
       "<Figure size 432x288 with 0 Axes>"
      ]
     },
     "metadata": {},
     "output_type": "display_data"
    },
    {
     "data": {
      "text/plain": [
       "<Figure size 432x288 with 0 Axes>"
      ]
     },
     "metadata": {},
     "output_type": "display_data"
    },
    {
     "data": {
      "text/plain": [
       "<Figure size 432x288 with 0 Axes>"
      ]
     },
     "metadata": {},
     "output_type": "display_data"
    },
    {
     "data": {
      "text/plain": [
       "<Figure size 432x288 with 0 Axes>"
      ]
     },
     "metadata": {},
     "output_type": "display_data"
    },
    {
     "data": {
      "text/plain": [
       "<Figure size 432x288 with 0 Axes>"
      ]
     },
     "metadata": {},
     "output_type": "display_data"
    },
    {
     "data": {
      "text/plain": [
       "<Figure size 432x288 with 0 Axes>"
      ]
     },
     "metadata": {},
     "output_type": "display_data"
    },
    {
     "data": {
      "text/plain": [
       "<Figure size 432x288 with 0 Axes>"
      ]
     },
     "metadata": {},
     "output_type": "display_data"
    },
    {
     "data": {
      "text/plain": [
       "<Figure size 432x288 with 0 Axes>"
      ]
     },
     "metadata": {},
     "output_type": "display_data"
    },
    {
     "data": {
      "text/plain": [
       "<Figure size 432x288 with 0 Axes>"
      ]
     },
     "metadata": {},
     "output_type": "display_data"
    },
    {
     "data": {
      "text/plain": [
       "<Figure size 432x288 with 0 Axes>"
      ]
     },
     "metadata": {},
     "output_type": "display_data"
    },
    {
     "data": {
      "text/plain": [
       "<Figure size 432x288 with 0 Axes>"
      ]
     },
     "metadata": {},
     "output_type": "display_data"
    },
    {
     "data": {
      "text/plain": [
       "<Figure size 432x288 with 0 Axes>"
      ]
     },
     "metadata": {},
     "output_type": "display_data"
    },
    {
     "data": {
      "text/plain": [
       "<Figure size 432x288 with 0 Axes>"
      ]
     },
     "metadata": {},
     "output_type": "display_data"
    },
    {
     "data": {
      "text/plain": [
       "<Figure size 432x288 with 0 Axes>"
      ]
     },
     "metadata": {},
     "output_type": "display_data"
    },
    {
     "data": {
      "text/plain": [
       "<Figure size 432x288 with 0 Axes>"
      ]
     },
     "metadata": {},
     "output_type": "display_data"
    },
    {
     "data": {
      "text/plain": [
       "<Figure size 432x288 with 0 Axes>"
      ]
     },
     "metadata": {},
     "output_type": "display_data"
    },
    {
     "data": {
      "text/plain": [
       "<Figure size 432x288 with 0 Axes>"
      ]
     },
     "metadata": {},
     "output_type": "display_data"
    },
    {
     "data": {
      "text/plain": [
       "<Figure size 432x288 with 0 Axes>"
      ]
     },
     "metadata": {},
     "output_type": "display_data"
    },
    {
     "data": {
      "text/plain": [
       "<Figure size 432x288 with 0 Axes>"
      ]
     },
     "metadata": {},
     "output_type": "display_data"
    },
    {
     "data": {
      "text/plain": [
       "<Figure size 432x288 with 0 Axes>"
      ]
     },
     "metadata": {},
     "output_type": "display_data"
    },
    {
     "data": {
      "text/plain": [
       "<Figure size 432x288 with 0 Axes>"
      ]
     },
     "metadata": {},
     "output_type": "display_data"
    },
    {
     "data": {
      "text/plain": [
       "<Figure size 432x288 with 0 Axes>"
      ]
     },
     "metadata": {},
     "output_type": "display_data"
    },
    {
     "data": {
      "text/plain": [
       "<Figure size 432x288 with 0 Axes>"
      ]
     },
     "metadata": {},
     "output_type": "display_data"
    },
    {
     "data": {
      "text/plain": [
       "<Figure size 432x288 with 0 Axes>"
      ]
     },
     "metadata": {},
     "output_type": "display_data"
    },
    {
     "data": {
      "text/plain": [
       "<Figure size 432x288 with 0 Axes>"
      ]
     },
     "metadata": {},
     "output_type": "display_data"
    },
    {
     "data": {
      "text/plain": [
       "<Figure size 432x288 with 0 Axes>"
      ]
     },
     "metadata": {},
     "output_type": "display_data"
    },
    {
     "data": {
      "text/plain": [
       "<Figure size 432x288 with 0 Axes>"
      ]
     },
     "metadata": {},
     "output_type": "display_data"
    },
    {
     "data": {
      "text/plain": [
       "<Figure size 432x288 with 0 Axes>"
      ]
     },
     "metadata": {},
     "output_type": "display_data"
    },
    {
     "data": {
      "text/plain": [
       "<Figure size 432x288 with 0 Axes>"
      ]
     },
     "metadata": {},
     "output_type": "display_data"
    },
    {
     "data": {
      "text/plain": [
       "<Figure size 432x288 with 0 Axes>"
      ]
     },
     "metadata": {},
     "output_type": "display_data"
    },
    {
     "data": {
      "text/plain": [
       "<Figure size 432x288 with 0 Axes>"
      ]
     },
     "metadata": {},
     "output_type": "display_data"
    },
    {
     "data": {
      "text/plain": [
       "<Figure size 432x288 with 0 Axes>"
      ]
     },
     "metadata": {},
     "output_type": "display_data"
    },
    {
     "data": {
      "text/plain": [
       "<Figure size 432x288 with 0 Axes>"
      ]
     },
     "metadata": {},
     "output_type": "display_data"
    },
    {
     "data": {
      "text/plain": [
       "<Figure size 432x288 with 0 Axes>"
      ]
     },
     "metadata": {},
     "output_type": "display_data"
    },
    {
     "data": {
      "text/plain": [
       "<Figure size 432x288 with 0 Axes>"
      ]
     },
     "metadata": {},
     "output_type": "display_data"
    },
    {
     "data": {
      "text/plain": [
       "<Figure size 432x288 with 0 Axes>"
      ]
     },
     "metadata": {},
     "output_type": "display_data"
    },
    {
     "data": {
      "text/plain": [
       "<Figure size 432x288 with 0 Axes>"
      ]
     },
     "metadata": {},
     "output_type": "display_data"
    },
    {
     "data": {
      "text/plain": [
       "<Figure size 432x288 with 0 Axes>"
      ]
     },
     "metadata": {},
     "output_type": "display_data"
    },
    {
     "data": {
      "text/plain": [
       "<Figure size 432x288 with 0 Axes>"
      ]
     },
     "metadata": {},
     "output_type": "display_data"
    },
    {
     "data": {
      "text/plain": [
       "<Figure size 432x288 with 0 Axes>"
      ]
     },
     "metadata": {},
     "output_type": "display_data"
    },
    {
     "data": {
      "text/plain": [
       "<Figure size 432x288 with 0 Axes>"
      ]
     },
     "metadata": {},
     "output_type": "display_data"
    },
    {
     "data": {
      "text/plain": [
       "<Figure size 432x288 with 0 Axes>"
      ]
     },
     "metadata": {},
     "output_type": "display_data"
    },
    {
     "data": {
      "text/plain": [
       "<Figure size 432x288 with 0 Axes>"
      ]
     },
     "metadata": {},
     "output_type": "display_data"
    },
    {
     "data": {
      "text/plain": [
       "<Figure size 432x288 with 0 Axes>"
      ]
     },
     "metadata": {},
     "output_type": "display_data"
    },
    {
     "data": {
      "text/plain": [
       "<Figure size 432x288 with 0 Axes>"
      ]
     },
     "metadata": {},
     "output_type": "display_data"
    },
    {
     "data": {
      "text/plain": [
       "<Figure size 432x288 with 0 Axes>"
      ]
     },
     "metadata": {},
     "output_type": "display_data"
    },
    {
     "data": {
      "text/plain": [
       "<Figure size 432x288 with 0 Axes>"
      ]
     },
     "metadata": {},
     "output_type": "display_data"
    },
    {
     "data": {
      "text/plain": [
       "<Figure size 432x288 with 0 Axes>"
      ]
     },
     "metadata": {},
     "output_type": "display_data"
    },
    {
     "data": {
      "text/plain": [
       "<Figure size 432x288 with 0 Axes>"
      ]
     },
     "metadata": {},
     "output_type": "display_data"
    },
    {
     "data": {
      "text/plain": [
       "<Figure size 432x288 with 0 Axes>"
      ]
     },
     "metadata": {},
     "output_type": "display_data"
    },
    {
     "data": {
      "text/plain": [
       "<Figure size 432x288 with 0 Axes>"
      ]
     },
     "metadata": {},
     "output_type": "display_data"
    },
    {
     "data": {
      "text/plain": [
       "<Figure size 432x288 with 0 Axes>"
      ]
     },
     "metadata": {},
     "output_type": "display_data"
    },
    {
     "data": {
      "text/plain": [
       "<Figure size 432x288 with 0 Axes>"
      ]
     },
     "metadata": {},
     "output_type": "display_data"
    },
    {
     "data": {
      "text/plain": [
       "<Figure size 432x288 with 0 Axes>"
      ]
     },
     "metadata": {},
     "output_type": "display_data"
    },
    {
     "data": {
      "text/plain": [
       "<Figure size 432x288 with 0 Axes>"
      ]
     },
     "metadata": {},
     "output_type": "display_data"
    },
    {
     "data": {
      "text/plain": [
       "<Figure size 432x288 with 0 Axes>"
      ]
     },
     "metadata": {},
     "output_type": "display_data"
    },
    {
     "data": {
      "text/plain": [
       "<Figure size 432x288 with 0 Axes>"
      ]
     },
     "metadata": {},
     "output_type": "display_data"
    },
    {
     "data": {
      "text/plain": [
       "<Figure size 432x288 with 0 Axes>"
      ]
     },
     "metadata": {},
     "output_type": "display_data"
    },
    {
     "data": {
      "text/plain": [
       "<Figure size 432x288 with 0 Axes>"
      ]
     },
     "metadata": {},
     "output_type": "display_data"
    },
    {
     "data": {
      "text/plain": [
       "<Figure size 432x288 with 0 Axes>"
      ]
     },
     "metadata": {},
     "output_type": "display_data"
    },
    {
     "data": {
      "text/plain": [
       "<Figure size 432x288 with 0 Axes>"
      ]
     },
     "metadata": {},
     "output_type": "display_data"
    },
    {
     "data": {
      "text/plain": [
       "<Figure size 432x288 with 0 Axes>"
      ]
     },
     "metadata": {},
     "output_type": "display_data"
    },
    {
     "data": {
      "text/plain": [
       "<Figure size 432x288 with 0 Axes>"
      ]
     },
     "metadata": {},
     "output_type": "display_data"
    },
    {
     "data": {
      "text/plain": [
       "<Figure size 432x288 with 0 Axes>"
      ]
     },
     "metadata": {},
     "output_type": "display_data"
    },
    {
     "data": {
      "text/plain": [
       "<Figure size 432x288 with 0 Axes>"
      ]
     },
     "metadata": {},
     "output_type": "display_data"
    },
    {
     "data": {
      "text/plain": [
       "<Figure size 432x288 with 0 Axes>"
      ]
     },
     "metadata": {},
     "output_type": "display_data"
    },
    {
     "data": {
      "text/plain": [
       "<Figure size 432x288 with 0 Axes>"
      ]
     },
     "metadata": {},
     "output_type": "display_data"
    },
    {
     "data": {
      "text/plain": [
       "<Figure size 432x288 with 0 Axes>"
      ]
     },
     "metadata": {},
     "output_type": "display_data"
    },
    {
     "data": {
      "text/plain": [
       "<Figure size 432x288 with 0 Axes>"
      ]
     },
     "metadata": {},
     "output_type": "display_data"
    },
    {
     "data": {
      "text/plain": [
       "<Figure size 432x288 with 0 Axes>"
      ]
     },
     "metadata": {},
     "output_type": "display_data"
    },
    {
     "data": {
      "text/plain": [
       "<Figure size 432x288 with 0 Axes>"
      ]
     },
     "metadata": {},
     "output_type": "display_data"
    },
    {
     "data": {
      "text/plain": [
       "<Figure size 432x288 with 0 Axes>"
      ]
     },
     "metadata": {},
     "output_type": "display_data"
    },
    {
     "data": {
      "text/plain": [
       "<Figure size 432x288 with 0 Axes>"
      ]
     },
     "metadata": {},
     "output_type": "display_data"
    },
    {
     "data": {
      "text/plain": [
       "<Figure size 432x288 with 0 Axes>"
      ]
     },
     "metadata": {},
     "output_type": "display_data"
    },
    {
     "data": {
      "text/plain": [
       "<Figure size 432x288 with 0 Axes>"
      ]
     },
     "metadata": {},
     "output_type": "display_data"
    },
    {
     "data": {
      "text/plain": [
       "<Figure size 432x288 with 0 Axes>"
      ]
     },
     "metadata": {},
     "output_type": "display_data"
    },
    {
     "data": {
      "text/plain": [
       "<Figure size 432x288 with 0 Axes>"
      ]
     },
     "metadata": {},
     "output_type": "display_data"
    },
    {
     "data": {
      "text/plain": [
       "<Figure size 432x288 with 0 Axes>"
      ]
     },
     "metadata": {},
     "output_type": "display_data"
    },
    {
     "data": {
      "text/plain": [
       "<Figure size 432x288 with 0 Axes>"
      ]
     },
     "metadata": {},
     "output_type": "display_data"
    },
    {
     "data": {
      "text/plain": [
       "<Figure size 432x288 with 0 Axes>"
      ]
     },
     "metadata": {},
     "output_type": "display_data"
    },
    {
     "data": {
      "text/plain": [
       "<Figure size 432x288 with 0 Axes>"
      ]
     },
     "metadata": {},
     "output_type": "display_data"
    },
    {
     "data": {
      "text/plain": [
       "<Figure size 432x288 with 0 Axes>"
      ]
     },
     "metadata": {},
     "output_type": "display_data"
    },
    {
     "data": {
      "text/plain": [
       "<Figure size 432x288 with 0 Axes>"
      ]
     },
     "metadata": {},
     "output_type": "display_data"
    },
    {
     "data": {
      "text/plain": [
       "<Figure size 432x288 with 0 Axes>"
      ]
     },
     "metadata": {},
     "output_type": "display_data"
    },
    {
     "data": {
      "text/plain": [
       "<Figure size 432x288 with 0 Axes>"
      ]
     },
     "metadata": {},
     "output_type": "display_data"
    },
    {
     "data": {
      "text/plain": [
       "<Figure size 432x288 with 0 Axes>"
      ]
     },
     "metadata": {},
     "output_type": "display_data"
    },
    {
     "data": {
      "text/plain": [
       "<Figure size 432x288 with 0 Axes>"
      ]
     },
     "metadata": {},
     "output_type": "display_data"
    },
    {
     "data": {
      "text/plain": [
       "<Figure size 432x288 with 0 Axes>"
      ]
     },
     "metadata": {},
     "output_type": "display_data"
    },
    {
     "data": {
      "text/plain": [
       "<Figure size 432x288 with 0 Axes>"
      ]
     },
     "metadata": {},
     "output_type": "display_data"
    },
    {
     "data": {
      "text/plain": [
       "<Figure size 432x288 with 0 Axes>"
      ]
     },
     "metadata": {},
     "output_type": "display_data"
    },
    {
     "data": {
      "text/plain": [
       "<Figure size 432x288 with 0 Axes>"
      ]
     },
     "metadata": {},
     "output_type": "display_data"
    },
    {
     "data": {
      "text/plain": [
       "<Figure size 432x288 with 0 Axes>"
      ]
     },
     "metadata": {},
     "output_type": "display_data"
    },
    {
     "data": {
      "text/plain": [
       "<Figure size 432x288 with 0 Axes>"
      ]
     },
     "metadata": {},
     "output_type": "display_data"
    },
    {
     "data": {
      "text/plain": [
       "<Figure size 432x288 with 0 Axes>"
      ]
     },
     "metadata": {},
     "output_type": "display_data"
    },
    {
     "data": {
      "text/plain": [
       "<Figure size 432x288 with 0 Axes>"
      ]
     },
     "metadata": {},
     "output_type": "display_data"
    },
    {
     "data": {
      "text/plain": [
       "<Figure size 432x288 with 0 Axes>"
      ]
     },
     "metadata": {},
     "output_type": "display_data"
    },
    {
     "data": {
      "text/plain": [
       "<Figure size 432x288 with 0 Axes>"
      ]
     },
     "metadata": {},
     "output_type": "display_data"
    },
    {
     "data": {
      "text/plain": [
       "<Figure size 432x288 with 0 Axes>"
      ]
     },
     "metadata": {},
     "output_type": "display_data"
    },
    {
     "data": {
      "text/plain": [
       "<Figure size 432x288 with 0 Axes>"
      ]
     },
     "metadata": {},
     "output_type": "display_data"
    },
    {
     "data": {
      "text/plain": [
       "<Figure size 432x288 with 0 Axes>"
      ]
     },
     "metadata": {},
     "output_type": "display_data"
    },
    {
     "data": {
      "text/plain": [
       "<Figure size 432x288 with 0 Axes>"
      ]
     },
     "metadata": {},
     "output_type": "display_data"
    },
    {
     "data": {
      "text/plain": [
       "<Figure size 432x288 with 0 Axes>"
      ]
     },
     "metadata": {},
     "output_type": "display_data"
    },
    {
     "data": {
      "text/plain": [
       "<Figure size 432x288 with 0 Axes>"
      ]
     },
     "metadata": {},
     "output_type": "display_data"
    },
    {
     "data": {
      "text/plain": [
       "<Figure size 432x288 with 0 Axes>"
      ]
     },
     "metadata": {},
     "output_type": "display_data"
    },
    {
     "data": {
      "text/plain": [
       "<Figure size 432x288 with 0 Axes>"
      ]
     },
     "metadata": {},
     "output_type": "display_data"
    },
    {
     "data": {
      "text/plain": [
       "<Figure size 432x288 with 0 Axes>"
      ]
     },
     "metadata": {},
     "output_type": "display_data"
    },
    {
     "data": {
      "text/plain": [
       "<Figure size 432x288 with 0 Axes>"
      ]
     },
     "metadata": {},
     "output_type": "display_data"
    },
    {
     "data": {
      "text/plain": [
       "<Figure size 432x288 with 0 Axes>"
      ]
     },
     "metadata": {},
     "output_type": "display_data"
    },
    {
     "data": {
      "text/plain": [
       "<Figure size 432x288 with 0 Axes>"
      ]
     },
     "metadata": {},
     "output_type": "display_data"
    },
    {
     "data": {
      "text/plain": [
       "<Figure size 432x288 with 0 Axes>"
      ]
     },
     "metadata": {},
     "output_type": "display_data"
    },
    {
     "data": {
      "text/plain": [
       "<Figure size 432x288 with 0 Axes>"
      ]
     },
     "metadata": {},
     "output_type": "display_data"
    },
    {
     "data": {
      "text/plain": [
       "<Figure size 432x288 with 0 Axes>"
      ]
     },
     "metadata": {},
     "output_type": "display_data"
    },
    {
     "data": {
      "text/plain": [
       "<Figure size 432x288 with 0 Axes>"
      ]
     },
     "metadata": {},
     "output_type": "display_data"
    },
    {
     "data": {
      "text/plain": [
       "<Figure size 432x288 with 0 Axes>"
      ]
     },
     "metadata": {},
     "output_type": "display_data"
    },
    {
     "data": {
      "text/plain": [
       "<Figure size 432x288 with 0 Axes>"
      ]
     },
     "metadata": {},
     "output_type": "display_data"
    },
    {
     "data": {
      "text/plain": [
       "<Figure size 432x288 with 0 Axes>"
      ]
     },
     "metadata": {},
     "output_type": "display_data"
    },
    {
     "data": {
      "text/plain": [
       "<Figure size 432x288 with 0 Axes>"
      ]
     },
     "metadata": {},
     "output_type": "display_data"
    },
    {
     "data": {
      "text/plain": [
       "<Figure size 432x288 with 0 Axes>"
      ]
     },
     "metadata": {},
     "output_type": "display_data"
    },
    {
     "data": {
      "text/plain": [
       "<Figure size 432x288 with 0 Axes>"
      ]
     },
     "metadata": {},
     "output_type": "display_data"
    },
    {
     "data": {
      "text/plain": [
       "<Figure size 432x288 with 0 Axes>"
      ]
     },
     "metadata": {},
     "output_type": "display_data"
    },
    {
     "data": {
      "text/plain": [
       "<Figure size 432x288 with 0 Axes>"
      ]
     },
     "metadata": {},
     "output_type": "display_data"
    },
    {
     "data": {
      "text/plain": [
       "<Figure size 432x288 with 0 Axes>"
      ]
     },
     "metadata": {},
     "output_type": "display_data"
    },
    {
     "data": {
      "text/plain": [
       "<Figure size 432x288 with 0 Axes>"
      ]
     },
     "metadata": {},
     "output_type": "display_data"
    },
    {
     "data": {
      "text/plain": [
       "<Figure size 432x288 with 0 Axes>"
      ]
     },
     "metadata": {},
     "output_type": "display_data"
    },
    {
     "data": {
      "text/plain": [
       "<Figure size 432x288 with 0 Axes>"
      ]
     },
     "metadata": {},
     "output_type": "display_data"
    },
    {
     "data": {
      "text/plain": [
       "<Figure size 432x288 with 0 Axes>"
      ]
     },
     "metadata": {},
     "output_type": "display_data"
    },
    {
     "data": {
      "text/plain": [
       "<Figure size 432x288 with 0 Axes>"
      ]
     },
     "metadata": {},
     "output_type": "display_data"
    },
    {
     "data": {
      "text/plain": [
       "<Figure size 432x288 with 0 Axes>"
      ]
     },
     "metadata": {},
     "output_type": "display_data"
    },
    {
     "data": {
      "text/plain": [
       "<Figure size 432x288 with 0 Axes>"
      ]
     },
     "metadata": {},
     "output_type": "display_data"
    },
    {
     "data": {
      "text/plain": [
       "<Figure size 432x288 with 0 Axes>"
      ]
     },
     "metadata": {},
     "output_type": "display_data"
    },
    {
     "data": {
      "text/plain": [
       "<Figure size 432x288 with 0 Axes>"
      ]
     },
     "metadata": {},
     "output_type": "display_data"
    },
    {
     "data": {
      "text/plain": [
       "<Figure size 432x288 with 0 Axes>"
      ]
     },
     "metadata": {},
     "output_type": "display_data"
    },
    {
     "data": {
      "text/plain": [
       "<Figure size 432x288 with 0 Axes>"
      ]
     },
     "metadata": {},
     "output_type": "display_data"
    },
    {
     "data": {
      "text/plain": [
       "<Figure size 432x288 with 0 Axes>"
      ]
     },
     "metadata": {},
     "output_type": "display_data"
    },
    {
     "data": {
      "text/plain": [
       "<Figure size 432x288 with 0 Axes>"
      ]
     },
     "metadata": {},
     "output_type": "display_data"
    },
    {
     "data": {
      "text/plain": [
       "<Figure size 432x288 with 0 Axes>"
      ]
     },
     "metadata": {},
     "output_type": "display_data"
    },
    {
     "data": {
      "text/plain": [
       "<Figure size 432x288 with 0 Axes>"
      ]
     },
     "metadata": {},
     "output_type": "display_data"
    },
    {
     "data": {
      "text/plain": [
       "<Figure size 432x288 with 0 Axes>"
      ]
     },
     "metadata": {},
     "output_type": "display_data"
    },
    {
     "data": {
      "text/plain": [
       "<Figure size 432x288 with 0 Axes>"
      ]
     },
     "metadata": {},
     "output_type": "display_data"
    },
    {
     "data": {
      "text/plain": [
       "<Figure size 432x288 with 0 Axes>"
      ]
     },
     "metadata": {},
     "output_type": "display_data"
    },
    {
     "data": {
      "text/plain": [
       "<Figure size 432x288 with 0 Axes>"
      ]
     },
     "metadata": {},
     "output_type": "display_data"
    },
    {
     "data": {
      "text/plain": [
       "<Figure size 432x288 with 0 Axes>"
      ]
     },
     "metadata": {},
     "output_type": "display_data"
    },
    {
     "data": {
      "text/plain": [
       "<Figure size 432x288 with 0 Axes>"
      ]
     },
     "metadata": {},
     "output_type": "display_data"
    },
    {
     "data": {
      "text/plain": [
       "<Figure size 432x288 with 0 Axes>"
      ]
     },
     "metadata": {},
     "output_type": "display_data"
    },
    {
     "data": {
      "text/plain": [
       "<Figure size 432x288 with 0 Axes>"
      ]
     },
     "metadata": {},
     "output_type": "display_data"
    },
    {
     "data": {
      "text/plain": [
       "<Figure size 432x288 with 0 Axes>"
      ]
     },
     "metadata": {},
     "output_type": "display_data"
    },
    {
     "data": {
      "text/plain": [
       "<Figure size 432x288 with 0 Axes>"
      ]
     },
     "metadata": {},
     "output_type": "display_data"
    },
    {
     "data": {
      "text/plain": [
       "<Figure size 432x288 with 0 Axes>"
      ]
     },
     "metadata": {},
     "output_type": "display_data"
    },
    {
     "data": {
      "text/plain": [
       "<Figure size 432x288 with 0 Axes>"
      ]
     },
     "metadata": {},
     "output_type": "display_data"
    },
    {
     "data": {
      "text/plain": [
       "<Figure size 432x288 with 0 Axes>"
      ]
     },
     "metadata": {},
     "output_type": "display_data"
    },
    {
     "data": {
      "text/plain": [
       "<Figure size 432x288 with 0 Axes>"
      ]
     },
     "metadata": {},
     "output_type": "display_data"
    },
    {
     "data": {
      "text/plain": [
       "<Figure size 432x288 with 0 Axes>"
      ]
     },
     "metadata": {},
     "output_type": "display_data"
    },
    {
     "data": {
      "text/plain": [
       "<Figure size 432x288 with 0 Axes>"
      ]
     },
     "metadata": {},
     "output_type": "display_data"
    },
    {
     "data": {
      "text/plain": [
       "<Figure size 432x288 with 0 Axes>"
      ]
     },
     "metadata": {},
     "output_type": "display_data"
    },
    {
     "data": {
      "text/plain": [
       "<Figure size 432x288 with 0 Axes>"
      ]
     },
     "metadata": {},
     "output_type": "display_data"
    },
    {
     "data": {
      "text/plain": [
       "<Figure size 432x288 with 0 Axes>"
      ]
     },
     "metadata": {},
     "output_type": "display_data"
    },
    {
     "data": {
      "text/plain": [
       "<Figure size 432x288 with 0 Axes>"
      ]
     },
     "metadata": {},
     "output_type": "display_data"
    },
    {
     "data": {
      "text/plain": [
       "<Figure size 432x288 with 0 Axes>"
      ]
     },
     "metadata": {},
     "output_type": "display_data"
    },
    {
     "data": {
      "text/plain": [
       "<Figure size 432x288 with 0 Axes>"
      ]
     },
     "metadata": {},
     "output_type": "display_data"
    },
    {
     "data": {
      "text/plain": [
       "<Figure size 432x288 with 0 Axes>"
      ]
     },
     "metadata": {},
     "output_type": "display_data"
    },
    {
     "data": {
      "text/plain": [
       "<Figure size 432x288 with 0 Axes>"
      ]
     },
     "metadata": {},
     "output_type": "display_data"
    },
    {
     "data": {
      "text/plain": [
       "<Figure size 432x288 with 0 Axes>"
      ]
     },
     "metadata": {},
     "output_type": "display_data"
    },
    {
     "data": {
      "text/plain": [
       "<Figure size 432x288 with 0 Axes>"
      ]
     },
     "metadata": {},
     "output_type": "display_data"
    },
    {
     "data": {
      "text/plain": [
       "<Figure size 432x288 with 0 Axes>"
      ]
     },
     "metadata": {},
     "output_type": "display_data"
    },
    {
     "data": {
      "text/plain": [
       "<Figure size 432x288 with 0 Axes>"
      ]
     },
     "metadata": {},
     "output_type": "display_data"
    },
    {
     "data": {
      "text/plain": [
       "<Figure size 432x288 with 0 Axes>"
      ]
     },
     "metadata": {},
     "output_type": "display_data"
    },
    {
     "data": {
      "text/plain": [
       "<Figure size 432x288 with 0 Axes>"
      ]
     },
     "metadata": {},
     "output_type": "display_data"
    },
    {
     "data": {
      "text/plain": [
       "<Figure size 432x288 with 0 Axes>"
      ]
     },
     "metadata": {},
     "output_type": "display_data"
    },
    {
     "data": {
      "text/plain": [
       "<Figure size 432x288 with 0 Axes>"
      ]
     },
     "metadata": {},
     "output_type": "display_data"
    },
    {
     "data": {
      "text/plain": [
       "<Figure size 432x288 with 0 Axes>"
      ]
     },
     "metadata": {},
     "output_type": "display_data"
    },
    {
     "data": {
      "text/plain": [
       "<Figure size 432x288 with 0 Axes>"
      ]
     },
     "metadata": {},
     "output_type": "display_data"
    },
    {
     "data": {
      "text/plain": [
       "<Figure size 432x288 with 0 Axes>"
      ]
     },
     "metadata": {},
     "output_type": "display_data"
    },
    {
     "data": {
      "text/plain": [
       "<Figure size 432x288 with 0 Axes>"
      ]
     },
     "metadata": {},
     "output_type": "display_data"
    },
    {
     "data": {
      "text/plain": [
       "<Figure size 432x288 with 0 Axes>"
      ]
     },
     "metadata": {},
     "output_type": "display_data"
    },
    {
     "data": {
      "text/plain": [
       "<Figure size 432x288 with 0 Axes>"
      ]
     },
     "metadata": {},
     "output_type": "display_data"
    },
    {
     "data": {
      "text/plain": [
       "<Figure size 432x288 with 0 Axes>"
      ]
     },
     "metadata": {},
     "output_type": "display_data"
    },
    {
     "data": {
      "text/plain": [
       "<Figure size 432x288 with 0 Axes>"
      ]
     },
     "metadata": {},
     "output_type": "display_data"
    },
    {
     "data": {
      "text/plain": [
       "<Figure size 432x288 with 0 Axes>"
      ]
     },
     "metadata": {},
     "output_type": "display_data"
    },
    {
     "data": {
      "text/plain": [
       "<Figure size 432x288 with 0 Axes>"
      ]
     },
     "metadata": {},
     "output_type": "display_data"
    },
    {
     "data": {
      "text/plain": [
       "<Figure size 432x288 with 0 Axes>"
      ]
     },
     "metadata": {},
     "output_type": "display_data"
    },
    {
     "data": {
      "text/plain": [
       "<Figure size 432x288 with 0 Axes>"
      ]
     },
     "metadata": {},
     "output_type": "display_data"
    },
    {
     "data": {
      "text/plain": [
       "<Figure size 432x288 with 0 Axes>"
      ]
     },
     "metadata": {},
     "output_type": "display_data"
    },
    {
     "data": {
      "text/plain": [
       "<Figure size 432x288 with 0 Axes>"
      ]
     },
     "metadata": {},
     "output_type": "display_data"
    },
    {
     "data": {
      "text/plain": [
       "<Figure size 432x288 with 0 Axes>"
      ]
     },
     "metadata": {},
     "output_type": "display_data"
    },
    {
     "data": {
      "text/plain": [
       "<Figure size 432x288 with 0 Axes>"
      ]
     },
     "metadata": {},
     "output_type": "display_data"
    },
    {
     "data": {
      "text/plain": [
       "<Figure size 432x288 with 0 Axes>"
      ]
     },
     "metadata": {},
     "output_type": "display_data"
    },
    {
     "data": {
      "text/plain": [
       "<Figure size 432x288 with 0 Axes>"
      ]
     },
     "metadata": {},
     "output_type": "display_data"
    },
    {
     "data": {
      "text/plain": [
       "<Figure size 432x288 with 0 Axes>"
      ]
     },
     "metadata": {},
     "output_type": "display_data"
    },
    {
     "data": {
      "text/plain": [
       "<Figure size 432x288 with 0 Axes>"
      ]
     },
     "metadata": {},
     "output_type": "display_data"
    },
    {
     "data": {
      "text/plain": [
       "<Figure size 432x288 with 0 Axes>"
      ]
     },
     "metadata": {},
     "output_type": "display_data"
    },
    {
     "data": {
      "text/plain": [
       "<Figure size 432x288 with 0 Axes>"
      ]
     },
     "metadata": {},
     "output_type": "display_data"
    },
    {
     "data": {
      "text/plain": [
       "<Figure size 432x288 with 0 Axes>"
      ]
     },
     "metadata": {},
     "output_type": "display_data"
    },
    {
     "data": {
      "text/plain": [
       "<Figure size 432x288 with 0 Axes>"
      ]
     },
     "metadata": {},
     "output_type": "display_data"
    },
    {
     "data": {
      "text/plain": [
       "<Figure size 432x288 with 0 Axes>"
      ]
     },
     "metadata": {},
     "output_type": "display_data"
    },
    {
     "data": {
      "text/plain": [
       "<Figure size 432x288 with 0 Axes>"
      ]
     },
     "metadata": {},
     "output_type": "display_data"
    },
    {
     "data": {
      "text/plain": [
       "<Figure size 432x288 with 0 Axes>"
      ]
     },
     "metadata": {},
     "output_type": "display_data"
    },
    {
     "data": {
      "text/plain": [
       "<Figure size 432x288 with 0 Axes>"
      ]
     },
     "metadata": {},
     "output_type": "display_data"
    },
    {
     "data": {
      "text/plain": [
       "<Figure size 432x288 with 0 Axes>"
      ]
     },
     "metadata": {},
     "output_type": "display_data"
    },
    {
     "data": {
      "text/plain": [
       "<Figure size 432x288 with 0 Axes>"
      ]
     },
     "metadata": {},
     "output_type": "display_data"
    },
    {
     "data": {
      "text/plain": [
       "<Figure size 432x288 with 0 Axes>"
      ]
     },
     "metadata": {},
     "output_type": "display_data"
    },
    {
     "data": {
      "text/plain": [
       "<Figure size 432x288 with 0 Axes>"
      ]
     },
     "metadata": {},
     "output_type": "display_data"
    },
    {
     "data": {
      "text/plain": [
       "<Figure size 432x288 with 0 Axes>"
      ]
     },
     "metadata": {},
     "output_type": "display_data"
    },
    {
     "data": {
      "text/plain": [
       "<Figure size 432x288 with 0 Axes>"
      ]
     },
     "metadata": {},
     "output_type": "display_data"
    },
    {
     "data": {
      "text/plain": [
       "<Figure size 432x288 with 0 Axes>"
      ]
     },
     "metadata": {},
     "output_type": "display_data"
    },
    {
     "data": {
      "text/plain": [
       "<Figure size 432x288 with 0 Axes>"
      ]
     },
     "metadata": {},
     "output_type": "display_data"
    },
    {
     "data": {
      "text/plain": [
       "<Figure size 432x288 with 0 Axes>"
      ]
     },
     "metadata": {},
     "output_type": "display_data"
    },
    {
     "data": {
      "text/plain": [
       "<Figure size 432x288 with 0 Axes>"
      ]
     },
     "metadata": {},
     "output_type": "display_data"
    },
    {
     "data": {
      "text/plain": [
       "<Figure size 432x288 with 0 Axes>"
      ]
     },
     "metadata": {},
     "output_type": "display_data"
    },
    {
     "data": {
      "text/plain": [
       "<Figure size 432x288 with 0 Axes>"
      ]
     },
     "metadata": {},
     "output_type": "display_data"
    },
    {
     "data": {
      "text/plain": [
       "<Figure size 432x288 with 0 Axes>"
      ]
     },
     "metadata": {},
     "output_type": "display_data"
    },
    {
     "data": {
      "text/plain": [
       "<Figure size 432x288 with 0 Axes>"
      ]
     },
     "metadata": {},
     "output_type": "display_data"
    },
    {
     "data": {
      "text/plain": [
       "<Figure size 432x288 with 0 Axes>"
      ]
     },
     "metadata": {},
     "output_type": "display_data"
    },
    {
     "data": {
      "text/plain": [
       "<Figure size 432x288 with 0 Axes>"
      ]
     },
     "metadata": {},
     "output_type": "display_data"
    },
    {
     "data": {
      "text/plain": [
       "<Figure size 432x288 with 0 Axes>"
      ]
     },
     "metadata": {},
     "output_type": "display_data"
    },
    {
     "data": {
      "text/plain": [
       "<Figure size 432x288 with 0 Axes>"
      ]
     },
     "metadata": {},
     "output_type": "display_data"
    },
    {
     "data": {
      "text/plain": [
       "<Figure size 432x288 with 0 Axes>"
      ]
     },
     "metadata": {},
     "output_type": "display_data"
    },
    {
     "data": {
      "text/plain": [
       "<Figure size 432x288 with 0 Axes>"
      ]
     },
     "metadata": {},
     "output_type": "display_data"
    },
    {
     "data": {
      "text/plain": [
       "<Figure size 432x288 with 0 Axes>"
      ]
     },
     "metadata": {},
     "output_type": "display_data"
    },
    {
     "data": {
      "text/plain": [
       "<Figure size 432x288 with 0 Axes>"
      ]
     },
     "metadata": {},
     "output_type": "display_data"
    },
    {
     "data": {
      "text/plain": [
       "<Figure size 432x288 with 0 Axes>"
      ]
     },
     "metadata": {},
     "output_type": "display_data"
    },
    {
     "data": {
      "text/plain": [
       "<Figure size 432x288 with 0 Axes>"
      ]
     },
     "metadata": {},
     "output_type": "display_data"
    },
    {
     "data": {
      "text/plain": [
       "<Figure size 432x288 with 0 Axes>"
      ]
     },
     "metadata": {},
     "output_type": "display_data"
    },
    {
     "data": {
      "text/plain": [
       "<Figure size 432x288 with 0 Axes>"
      ]
     },
     "metadata": {},
     "output_type": "display_data"
    },
    {
     "data": {
      "text/plain": [
       "<Figure size 432x288 with 0 Axes>"
      ]
     },
     "metadata": {},
     "output_type": "display_data"
    },
    {
     "data": {
      "text/plain": [
       "<Figure size 432x288 with 0 Axes>"
      ]
     },
     "metadata": {},
     "output_type": "display_data"
    },
    {
     "data": {
      "text/plain": [
       "<Figure size 432x288 with 0 Axes>"
      ]
     },
     "metadata": {},
     "output_type": "display_data"
    },
    {
     "data": {
      "text/plain": [
       "<Figure size 432x288 with 0 Axes>"
      ]
     },
     "metadata": {},
     "output_type": "display_data"
    },
    {
     "data": {
      "text/plain": [
       "<Figure size 432x288 with 0 Axes>"
      ]
     },
     "metadata": {},
     "output_type": "display_data"
    },
    {
     "data": {
      "text/plain": [
       "<Figure size 432x288 with 0 Axes>"
      ]
     },
     "metadata": {},
     "output_type": "display_data"
    },
    {
     "data": {
      "text/plain": [
       "<Figure size 432x288 with 0 Axes>"
      ]
     },
     "metadata": {},
     "output_type": "display_data"
    },
    {
     "data": {
      "text/plain": [
       "<Figure size 432x288 with 0 Axes>"
      ]
     },
     "metadata": {},
     "output_type": "display_data"
    },
    {
     "data": {
      "text/plain": [
       "<Figure size 432x288 with 0 Axes>"
      ]
     },
     "metadata": {},
     "output_type": "display_data"
    },
    {
     "data": {
      "text/plain": [
       "<Figure size 432x288 with 0 Axes>"
      ]
     },
     "metadata": {},
     "output_type": "display_data"
    },
    {
     "data": {
      "text/plain": [
       "<Figure size 432x288 with 0 Axes>"
      ]
     },
     "metadata": {},
     "output_type": "display_data"
    }
   ],
   "source": [
    "%matplotlib inline\n",
    "import numpy as np\n",
    "import matplotlib.pyplot as plt\n",
    "from matplotlib.animation import FuncAnimation\n",
    "from mne.viz import plot_topomap\n",
    "from matplotlib import cm\n",
    "from matplotlib.colors import ListedColormap, LinearSegmentedColormap\n",
    "import matplotlib.patches as patches\n",
    "\n",
    "# Preparing new cmap\n",
    "cmap_red = cm.get_cmap('jet', 256)\n",
    "newcolors = cmap_red(np.linspace(0, 1, 256))\n",
    "bck = np.ones((400,3))/2\n",
    "bck = np.hstack((bck,np.ones((400,1))))\n",
    "newcolors = np.vstack((bck,newcolors[128:]))\n",
    "newcmp = ListedColormap(newcolors)\n",
    "\n",
    "\n",
    "def animate(frame):\n",
    "    from mne.viz import plot_topomap\n",
    "    plot_topomap(ranking[names[5]][:,frame],info,contours=0,axes=ax[0],cmap=newcmp)\n",
    "    plot_topomap(ranking[names[3]][:,frame],info,contours=0,axes=ax[1],cmap=newcmp)\n",
    "    plot_topomap(ranking[names[1]][:,frame],info,contours=0,axes=ax[2],cmap=newcmp)\n",
    "    t_now=int((frame+1)*(1000/512)+50)\n",
    "    time_text.set_text(f'{t_now-1} ms')\n",
    "    \n",
    "\n",
    "# Now we can do the plotting!\n",
    "fig, ax = plt.subplots(1,3)\n",
    "# Initialise our line\n",
    "im1, _ = plot_topomap(ranking[names[5]][:,0],info,contours=0,axes=ax[0],cmap=newcmp)\n",
    "im2, = ax[1].plot([0], [0])\n",
    "im3, = ax[2].plot([0], [0])\n",
    "ax[0].title.set_text('Words')\n",
    "ax[1].title.set_text('Faces')\n",
    "ax[2].title.set_text('Ensembles')\n",
    "time_text = ax[2].text(-0.3, -1, '', fontsize=15, \n",
    "                       bbox={'pad': 10, 'facecolor': 'none'})\n",
    "rank_title = ax[1].text(-0.85, -0.7, 'Ranks', fontsize=15)\n",
    "time_title = ax[2].text(-0.57, -0.7, 'Time after onset', fontsize=15)\n",
    "cax = fig.add_axes([0.08, 0.2, 0.5, 0.05])\n",
    "fig.colorbar(im1, cax=cax, orientation='horizontal')\n",
    "fig.subplots_adjust(left=0.02, bottom=0.25, right=0.95, top=0.94, wspace=0.05)\n",
    "\n",
    "\n",
    "# Make me pretty\n",
    "#fig.tight_layout()\n",
    "animation = FuncAnimation(\n",
    "    # Your Matplotlib Figure object\n",
    "    fig,\n",
    "    # The function that does the updating of the Figure\n",
    "    animate,\n",
    "    # Frame information (here just frame number)\n",
    "    np.arange(308),\n",
    "    # Frame-time in ms; i.e. for a given frame-rate x, 1000/x\n",
    "    interval=70\n",
    ")\n",
    "animation.save(\"time.mp4\")"
   ]
  },
  {
   "cell_type": "code",
   "execution_count": null,
   "metadata": {},
   "outputs": [],
   "source": []
  }
 ],
 "metadata": {
  "kernelspec": {
   "display_name": "Python 3",
   "language": "python",
   "name": "python3"
  },
  "language_info": {
   "codemirror_mode": {
    "name": "ipython",
    "version": 3
   },
   "file_extension": ".py",
   "mimetype": "text/x-python",
   "name": "python",
   "nbconvert_exporter": "python",
   "pygments_lexer": "ipython3",
   "version": "3.6.8"
  }
 },
 "nbformat": 4,
 "nbformat_minor": 4
}
