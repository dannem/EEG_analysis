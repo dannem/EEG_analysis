{
 "cells": [
  {
   "cell_type": "code",
   "execution_count": null,
   "metadata": {},
   "outputs": [],
   "source": [
    "def epochs_to_stft_features(fname,step,times,pick_ch = []):\n",
    "    import mne\n",
    "    import numpy as np\n",
    "    %run EEG_auxiliary_module.ipynb\n",
    "    data = mne.read_epochs(fname)\n",
    "    X, Y = convert_epochs_to_3D_array(data, times=times, pick_ch=pick_ch)\n",
    "    el_num = X.shape[1]\n",
    "    X = np.reshape(X,(X.shape[0]*X.shape[1],X.shape[2]), order = 'fortran')\n",
    "    X = np.abs(mne.time_frequency.stft(X,step*2,step))\n",
    "    X = np.reshape(X,(X.shape[0],X.shape[1]*X.shape[2]))\n",
    "    X = np.reshape(X, (-1,el_num,X.shape[1]),order = 'fortran')\n",
    "    X = np.reshape(X,(X.shape[0],X.shape[1]*X.shape[2]),order = 'fortran')\n",
    "    return (X,Y)"
   ]
  },
  {
   "cell_type": "code",
   "execution_count": null,
   "metadata": {},
   "outputs": [],
   "source": [
    "def epochs_to_morlet_features(fname,times,pick_ch = []):\n",
    "    import mne\n",
    "    import numpy as np\n",
    "    %run EEG_auxiliary_module.ipynb\n",
    "    data = mne.read_epochs(fname)\n",
    "    X, Y = convert_epochs_to_3D_array(data, times=times, pick_ch=pick_ch)\n",
    "    el_num = X.shape[1]\n",
    "    X = mne.time_frequency.tfr_array_morlet(X,sfreq = 512, freqs = np.arange(10., 40.), n_cycles = 5,\n",
    "                                           output = 'power')\n",
    "    X = np.reshape(X,(X.shape[0],X.shape[1]*X.shape[2]*X.shape[3]))\n",
    "    return (X,Y)"
   ]
  },
  {
   "cell_type": "code",
   "execution_count": null,
   "metadata": {},
   "outputs": [],
   "source": [
    "def epochs_to_stft_features(folder,fname,window,times,pick_ch = []):\n",
    "    import mne\n",
    "    import numpy as np\n",
    "    %run EEG_auxiliary_module.ipynb\n",
    "    data = mne.read_epochs(fname)\n",
    "    X, Y = convert_epochs_to_3D_array(data, times=times, pick_ch=pick_ch)\n",
    "    el_num = X.shape[1]\n",
    "    X = np.reshape(X,(X.shape[0]*X.shape[1],X.shape[2]), order = 'fortran')\n",
    "    mat = []\n",
    "    for i in range(X.shape[0]):\n",
    "        temp = X[i,:]\n",
    "        \n",
    "    X = np.reshape(X,(X.shape[0],X.shape[1]*X.shape[2]))\n",
    "    X = np.reshape(X, (-1,el_num,X.shape[1]),order = 'fortran')\n",
    "    X = np.reshape(X,(X.shape[0],X.shape[1]*X.shape[2]),order = 'fortran')\n",
    "    return (X,Y)"
   ]
  }
 ],
 "metadata": {
  "kernelspec": {
   "display_name": "Python 3",
   "language": "python",
   "name": "python3"
  },
  "language_info": {
   "codemirror_mode": {
    "name": "ipython",
    "version": 3
   },
   "file_extension": ".py",
   "mimetype": "text/x-python",
   "name": "python",
   "nbconvert_exporter": "python",
   "pygments_lexer": "ipython3",
   "version": "3.7.5"
  }
 },
 "nbformat": 4,
 "nbformat_minor": 2
}
