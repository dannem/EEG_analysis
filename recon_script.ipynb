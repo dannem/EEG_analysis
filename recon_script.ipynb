{
 "cells": [
  {
   "cell_type": "markdown",
   "metadata": {},
   "source": [
    "# Grand average perception reconstruciton"
   ]
  },
  {
   "cell_type": "markdown",
   "metadata": {},
   "source": [
    "## from Euclidean no cross validation"
   ]
  },
  {
   "cell_type": "code",
   "execution_count": 1,
   "metadata": {},
   "outputs": [
    {
     "name": "stderr",
     "output_type": "stream",
     "text": [
      "C:\\Users\\danne\\Anaconda3\\envs\\eeg_analysis\\lib\\site-packages\\ipykernel_launcher.py:18: RuntimeWarning: Mean of empty slice\n",
      "C:\\Users\\danne\\Anaconda3\\envs\\eeg_analysis\\lib\\site-packages\\skimage\\color\\colorconv.py:1068: UserWarning: Color data out of range: Z < 0 in 3 pixels\n",
      "  return xyz2rgb(lab2xyz(lab, illuminant, observer))\n",
      "C:\\Users\\danne\\Anaconda3\\envs\\eeg_analysis\\lib\\site-packages\\skimage\\color\\colorconv.py:1068: UserWarning: Color data out of range: Z < 0 in 4 pixels\n",
      "  return xyz2rgb(lab2xyz(lab, illuminant, observer))\n",
      "C:\\Users\\danne\\Anaconda3\\envs\\eeg_analysis\\lib\\site-packages\\skimage\\color\\colorconv.py:1068: UserWarning: Color data out of range: Z < 0 in 2 pixels\n",
      "  return xyz2rgb(lab2xyz(lab, illuminant, observer))\n",
      "C:\\Users\\danne\\Anaconda3\\envs\\eeg_analysis\\lib\\site-packages\\skimage\\color\\colorconv.py:1068: UserWarning: Color data out of range: Z < 0 in 1 pixels\n",
      "  return xyz2rgb(lab2xyz(lab, illuminant, observer))\n",
      "C:\\Users\\danne\\Anaconda3\\envs\\eeg_analysis\\lib\\site-packages\\skimage\\color\\colorconv.py:1068: UserWarning: Color data out of range: Z < 0 in 5 pixels\n",
      "  return xyz2rgb(lab2xyz(lab, illuminant, observer))\n",
      "C:\\Users\\danne\\Anaconda3\\envs\\eeg_analysis\\lib\\site-packages\\skimage\\color\\colorconv.py:1068: UserWarning: Color data out of range: Z < 0 in 6 pixels\n",
      "  return xyz2rgb(lab2xyz(lab, illuminant, observer))\n"
     ]
    },
    {
     "name": "stdout",
     "output_type": "stream",
     "text": [
      "The overall accuracy is 41.80%\n"
     ]
    },
    {
     "data": {
      "text/plain": [
       "<Figure size 2000x1000 with 2 Axes>"
      ]
     },
     "metadata": {},
     "output_type": "display_data"
    }
   ],
   "source": [
    "import mne\n",
    "import numpy as np\n",
    "import pandas as pd\n",
    "from scipy.spatial import procrustes\n",
    "from IPython.core.debugger import set_trace\n",
    "import matplotlib.pyplot as plt\n",
    "from scipy.spatial.distance import pdist\n",
    "from scipy.spatial.distance import squareform\n",
    "%run Recon_class.ipynb\n",
    "%run general_tools.ipynb\n",
    "%run EEG_auxiliary_module.ipynb\n",
    "stims = pd.read_csv('C:\\\\Users\\\\danne\\\\Dropbox\\\\Ilya_study\\\\Stimuli\\\\stims.csv')\n",
    "descr = pd.read_csv('C:\\\\Users\\\\danne\\\\Dropbox\\\\Ilya_study\\\\Analysis\\\\description.csv', index_col = 'Nums') # loading origin desription\n",
    "ims_names, prc_names, _ = import_names()\n",
    "infolder, outfolder = find_folder()\n",
    "loaded = np.load('C:\\\\Users\\\\danne\\\\Documents\\\\UofT\\\\Discrimination\\\\euclidean_no_cv.npz')\n",
    "temp = loaded['results']\n",
    "temp = np.nanmean(temp, axis=(0,1))\n",
    "data = np.squeeze(squareform(squareform(temp, checks=False)))\n",
    "conf_prc_df = pd.DataFrame(data[:50,:50], index=prc_names, columns=prc_names)\n",
    "\n",
    "\n",
    "\n",
    "recon_prc = Reconstruction(rc_conf_df=conf_prc_df, tr_conf_df=conf_prc_df, ims_df=stims, dims_n=20, image_size=(98,75,3))\n",
    "recon_prc.project_face_space(kind = 'custom').ims2lab().face_reconst(blow='both').lab2ims().distance_test()\n",
    "recon_prc.add_column_to_summary(descr, 'names')\n",
    "recon_prc.show_face_space(dims=(0,1))\n",
    "#result_prc.sort_values(by = 'origin').to_clipboard()"
   ]
  },
  {
   "cell_type": "markdown",
   "metadata": {},
   "source": [
    "## from Pearson no cross-validation"
   ]
  },
  {
   "cell_type": "code",
   "execution_count": 1,
   "metadata": {},
   "outputs": [
    {
     "name": "stderr",
     "output_type": "stream",
     "text": [
      "C:\\Users\\danne\\Anaconda3\\envs\\eeg_analysis\\lib\\site-packages\\ipykernel_launcher.py:18: RuntimeWarning: Mean of empty slice\n",
      "C:\\Users\\danne\\Anaconda3\\envs\\eeg_analysis\\lib\\site-packages\\skimage\\color\\colorconv.py:1068: UserWarning: Color data out of range: Z < 0 in 4 pixels\n",
      "  return xyz2rgb(lab2xyz(lab, illuminant, observer))\n",
      "C:\\Users\\danne\\Anaconda3\\envs\\eeg_analysis\\lib\\site-packages\\skimage\\color\\colorconv.py:1068: UserWarning: Color data out of range: Z < 0 in 7 pixels\n",
      "  return xyz2rgb(lab2xyz(lab, illuminant, observer))\n",
      "C:\\Users\\danne\\Anaconda3\\envs\\eeg_analysis\\lib\\site-packages\\skimage\\color\\colorconv.py:1068: UserWarning: Color data out of range: Z < 0 in 1 pixels\n",
      "  return xyz2rgb(lab2xyz(lab, illuminant, observer))\n",
      "C:\\Users\\danne\\Anaconda3\\envs\\eeg_analysis\\lib\\site-packages\\skimage\\color\\colorconv.py:1068: UserWarning: Color data out of range: Z < 0 in 2 pixels\n",
      "  return xyz2rgb(lab2xyz(lab, illuminant, observer))\n",
      "C:\\Users\\danne\\Anaconda3\\envs\\eeg_analysis\\lib\\site-packages\\skimage\\color\\colorconv.py:1068: UserWarning: Color data out of range: Z < 0 in 6 pixels\n",
      "  return xyz2rgb(lab2xyz(lab, illuminant, observer))\n",
      "C:\\Users\\danne\\Anaconda3\\envs\\eeg_analysis\\lib\\site-packages\\skimage\\color\\colorconv.py:1068: UserWarning: Color data out of range: Z < 0 in 3 pixels\n",
      "  return xyz2rgb(lab2xyz(lab, illuminant, observer))\n",
      "C:\\Users\\danne\\Anaconda3\\envs\\eeg_analysis\\lib\\site-packages\\skimage\\color\\colorconv.py:1068: UserWarning: Color data out of range: Z < 0 in 10 pixels\n",
      "  return xyz2rgb(lab2xyz(lab, illuminant, observer))\n",
      "C:\\Users\\danne\\Anaconda3\\envs\\eeg_analysis\\lib\\site-packages\\skimage\\color\\colorconv.py:1068: UserWarning: Color data out of range: Z < 0 in 5 pixels\n",
      "  return xyz2rgb(lab2xyz(lab, illuminant, observer))\n"
     ]
    },
    {
     "name": "stdout",
     "output_type": "stream",
     "text": [
      "The overall accuracy is 43.14%\n"
     ]
    },
    {
     "data": {
      "text/plain": [
       "<Figure size 2000x1000 with 2 Axes>"
      ]
     },
     "metadata": {},
     "output_type": "display_data"
    }
   ],
   "source": [
    "import mne\n",
    "import numpy as np\n",
    "import pandas as pd\n",
    "from scipy.spatial import procrustes\n",
    "from IPython.core.debugger import set_trace\n",
    "import matplotlib.pyplot as plt\n",
    "from scipy.spatial.distance import pdist\n",
    "from scipy.spatial.distance import squareform\n",
    "%run Recon_class.ipynb\n",
    "%run general_tools.ipynb\n",
    "%run EEG_auxiliary_module.ipynb\n",
    "stims = pd.read_csv('C:\\\\Users\\\\danne\\\\Dropbox\\\\Ilya_study\\\\Stimuli\\\\stims.csv')\n",
    "descr = pd.read_csv('C:\\\\Users\\\\danne\\\\Dropbox\\\\Ilya_study\\\\Analysis\\\\description.csv', index_col = 'Nums') # loading origin desription\n",
    "ims_names, prc_names, _ = import_names()\n",
    "infolder, outfolder = find_folder()\n",
    "loaded = np.load('C:\\\\Users\\\\danne\\\\Documents\\\\UofT\\\\Discrimination\\\\pearson_no_cv.npz')\n",
    "temp = loaded['results']\n",
    "temp = np.nanmean(temp, axis=(0,1))\n",
    "data = np.squeeze(squareform(squareform(temp, checks=False)))\n",
    "conf_prc_df = pd.DataFrame(data[:50,:50], index=prc_names, columns=prc_names)\n",
    "\n",
    "\n",
    "\n",
    "recon_prc = Reconstruction(rc_conf_df=conf_prc_df, tr_conf_df=conf_prc_df, ims_df=stims, dims_n=20, image_size=(98,75,3))\n",
    "recon_prc.project_face_space(kind = 'custom').ims2lab().face_reconst(blow='both').lab2ims().distance_test()\n",
    "recon_prc.add_column_to_summary(descr, 'names')\n",
    "recon_prc.show_face_space(dims=(0,1))\n",
    "#result_prc.sort_values(by = 'origin').to_clipboard()"
   ]
  },
  {
   "cell_type": "markdown",
   "metadata": {},
   "source": [
    "## from Euclidean with cross-validation"
   ]
  },
  {
   "cell_type": "code",
   "execution_count": 3,
   "metadata": {},
   "outputs": [
    {
     "name": "stderr",
     "output_type": "stream",
     "text": [
      "C:\\Users\\danne\\Anaconda3\\envs\\eeg_analysis\\lib\\site-packages\\ipykernel_launcher.py:18: RuntimeWarning: Mean of empty slice\n",
      "C:\\Users\\danne\\Anaconda3\\envs\\eeg_analysis\\lib\\site-packages\\skimage\\color\\colorconv.py:1068: UserWarning: Color data out of range: Z < 0 in 1 pixels\n",
      "  return xyz2rgb(lab2xyz(lab, illuminant, observer))\n",
      "C:\\Users\\danne\\Anaconda3\\envs\\eeg_analysis\\lib\\site-packages\\skimage\\color\\colorconv.py:1068: UserWarning: Color data out of range: Z < 0 in 2 pixels\n",
      "  return xyz2rgb(lab2xyz(lab, illuminant, observer))\n",
      "C:\\Users\\danne\\Anaconda3\\envs\\eeg_analysis\\lib\\site-packages\\skimage\\color\\colorconv.py:1068: UserWarning: Color data out of range: Z < 0 in 3 pixels\n",
      "  return xyz2rgb(lab2xyz(lab, illuminant, observer))\n",
      "C:\\Users\\danne\\Anaconda3\\envs\\eeg_analysis\\lib\\site-packages\\skimage\\color\\colorconv.py:1068: UserWarning: Color data out of range: Z < 0 in 7 pixels\n",
      "  return xyz2rgb(lab2xyz(lab, illuminant, observer))\n",
      "C:\\Users\\danne\\Anaconda3\\envs\\eeg_analysis\\lib\\site-packages\\skimage\\color\\colorconv.py:1068: UserWarning: Color data out of range: Z < 0 in 4 pixels\n",
      "  return xyz2rgb(lab2xyz(lab, illuminant, observer))\n",
      "C:\\Users\\danne\\Anaconda3\\envs\\eeg_analysis\\lib\\site-packages\\skimage\\color\\colorconv.py:1068: UserWarning: Color data out of range: Z < 0 in 6 pixels\n",
      "  return xyz2rgb(lab2xyz(lab, illuminant, observer))\n",
      "C:\\Users\\danne\\Anaconda3\\envs\\eeg_analysis\\lib\\site-packages\\skimage\\color\\colorconv.py:1068: UserWarning: Color data out of range: Z < 0 in 10 pixels\n",
      "  return xyz2rgb(lab2xyz(lab, illuminant, observer))\n"
     ]
    },
    {
     "name": "stdout",
     "output_type": "stream",
     "text": [
      "The overall accuracy is 42.41%\n"
     ]
    },
    {
     "data": {
      "text/plain": [
       "<__main__.Reconstruction at 0x128dae82d08>"
      ]
     },
     "execution_count": 3,
     "metadata": {},
     "output_type": "execute_result"
    }
   ],
   "source": [
    "import mne\n",
    "import numpy as np\n",
    "import pandas as pd\n",
    "from scipy.spatial import procrustes\n",
    "from IPython.core.debugger import set_trace\n",
    "import matplotlib.pyplot as plt\n",
    "from scipy.spatial.distance import pdist\n",
    "from scipy.spatial.distance import squareform\n",
    "%run Recon_class.ipynb\n",
    "%run general_tools.ipynb\n",
    "%run EEG_auxiliary_module.ipynb\n",
    "stims = pd.read_csv('C:\\\\Users\\\\danne\\\\Dropbox\\\\Ilya_study\\\\Stimuli\\\\stims.csv')\n",
    "descr = pd.read_csv('C:\\\\Users\\\\danne\\\\Dropbox\\\\Ilya_study\\\\Analysis\\\\description.csv', index_col = 'Nums') # loading origin desription\n",
    "ims_names, prc_names, _ = import_names()\n",
    "infolder, outfolder = find_folder()\n",
    "loaded = np.load('C:\\\\Users\\\\danne\\\\Documents\\\\UofT\\\\Discrimination\\\\distance_with_cv.npz')\n",
    "temp = loaded['result_ec']\n",
    "temp = np.nanmean(temp, axis=(0,1))\n",
    "data = np.squeeze(squareform(squareform(temp, checks=False)))\n",
    "conf_prc_df = pd.DataFrame(data[:50,:50], index=prc_names, columns=prc_names)\n",
    "\n",
    "\n",
    "\n",
    "recon_prc = Reconstruction(rc_conf_df=conf_prc_df, tr_conf_df=conf_prc_df, ims_df=stims, dims_n=20, image_size=(98,75,3))\n",
    "recon_prc.project_face_space(kind = 'custom').ims2lab().face_reconst(blow='both').lab2ims().distance_test()\n",
    "recon_prc.add_column_to_summary(descr, 'names')\n",
    "#recon_prc.show_face_space(dims=(0,1))\n",
    "#result_prc.sort_values(by = 'origin').to_clipboard()"
   ]
  },
  {
   "cell_type": "code",
   "execution_count": 2,
   "metadata": {},
   "outputs": [],
   "source": [
    "import numpy as np\n",
    "loaded = np.load('C:\\\\Users\\\\danne\\\\Documents\\\\UofT\\\\Discrimination\\\\distance_with_cv.npz')"
   ]
  },
  {
   "cell_type": "markdown",
   "metadata": {},
   "source": [
    "## from Pearson with cross-validation"
   ]
  },
  {
   "cell_type": "code",
   "execution_count": 4,
   "metadata": {},
   "outputs": [
    {
     "name": "stderr",
     "output_type": "stream",
     "text": [
      "C:\\Users\\danne\\Anaconda3\\envs\\eeg_analysis\\lib\\site-packages\\ipykernel_launcher.py:18: RuntimeWarning: Mean of empty slice\n",
      "C:\\Users\\danne\\Anaconda3\\envs\\eeg_analysis\\lib\\site-packages\\skimage\\color\\colorconv.py:1068: UserWarning: Color data out of range: Z < 0 in 5 pixels\n",
      "  return xyz2rgb(lab2xyz(lab, illuminant, observer))\n"
     ]
    },
    {
     "name": "stdout",
     "output_type": "stream",
     "text": [
      "The overall accuracy is 44.45%\n"
     ]
    },
    {
     "data": {
      "text/plain": [
       "<__main__.Reconstruction at 0x128d99fae08>"
      ]
     },
     "execution_count": 4,
     "metadata": {},
     "output_type": "execute_result"
    }
   ],
   "source": [
    "import mne\n",
    "import numpy as np\n",
    "import pandas as pd\n",
    "from scipy.spatial import procrustes\n",
    "from IPython.core.debugger import set_trace\n",
    "import matplotlib.pyplot as plt\n",
    "from scipy.spatial.distance import pdist\n",
    "from scipy.spatial.distance import squareform\n",
    "%run Recon_class.ipynb\n",
    "%run general_tools.ipynb\n",
    "%run EEG_auxiliary_module.ipynb\n",
    "stims = pd.read_csv('C:\\\\Users\\\\danne\\\\Dropbox\\\\Ilya_study\\\\Stimuli\\\\stims.csv')\n",
    "descr = pd.read_csv('C:\\\\Users\\\\danne\\\\Dropbox\\\\Ilya_study\\\\Analysis\\\\description.csv', index_col = 'Nums') # loading origin desription\n",
    "ims_names, prc_names, _ = import_names()\n",
    "infolder, outfolder = find_folder()\n",
    "loaded = np.load('C:\\\\Users\\\\danne\\\\Documents\\\\UofT\\\\Discrimination\\\\distance_with_cv.npz')\n",
    "temp = loaded['result_pc']\n",
    "temp = np.nanmean(temp, axis=(0,1))\n",
    "data = np.squeeze(squareform(squareform(temp, checks=False)))\n",
    "conf_prc_df = pd.DataFrame(data[:50,:50], index=prc_names, columns=prc_names)\n",
    "\n",
    "\n",
    "\n",
    "recon_prc = Reconstruction(rc_conf_df=conf_prc_df, tr_conf_df=conf_prc_df, ims_df=stims, dims_n=20, image_size=(98,75,3))\n",
    "recon_prc.project_face_space(kind = 'custom').ims2lab().face_reconst(blow='both').lab2ims().distance_test()\n",
    "recon_prc.add_column_to_summary(descr, 'names')"
   ]
  },
  {
   "cell_type": "markdown",
   "metadata": {},
   "source": [
    "# Theoretical observer"
   ]
  },
  {
   "cell_type": "code",
   "execution_count": 12,
   "metadata": {},
   "outputs": [
    {
     "name": "stderr",
     "output_type": "stream",
     "text": [
      "C:\\Users\\danne\\Anaconda3\\lib\\site-packages\\skimage\\color\\colorconv.py:988: UserWarning: Color data out of range: Z < 0 in 18 pixels\n",
      "  warn('Color data out of range: Z < 0 in %s pixels' % invalid[0].size)\n"
     ]
    },
    {
     "name": "stdout",
     "output_type": "stream",
     "text": [
      "The overall accuracy is 96.86%\n"
     ]
    },
    {
     "data": {
      "image/png": "[encoded data removed]",
      "text/plain": [
       "<Figure size 1440x720 with 2 Axes>"
      ]
     },
     "metadata": {
      "needs_background": "light"
     },
     "output_type": "display_data"
    },
    {
     "data": {
      "text/html": [
       "<div>\n",
       "<style scoped>\n",
       "    .dataframe tbody tr th:only-of-type {\n",
       "        vertical-align: middle;\n",
       "    }\n",
       "\n",
       "    .dataframe tbody tr th {\n",
       "        vertical-align: top;\n",
       "    }\n",
       "\n",
       "    .dataframe thead th {\n",
       "        text-align: right;\n",
       "    }\n",
       "</style>\n",
       "<table border=\"1\" class=\"dataframe\">\n",
       "  <thead>\n",
       "    <tr style=\"text-align: right;\">\n",
       "      <th></th>\n",
       "      <th>values</th>\n",
       "      <th>names</th>\n",
       "      <th>acc</th>\n",
       "      <th>origin</th>\n",
       "    </tr>\n",
       "  </thead>\n",
       "  <tbody>\n",
       "    <tr>\n",
       "      <td>0</td>\n",
       "      <td>0.897959</td>\n",
       "      <td>adi</td>\n",
       "      <td>5185.869282</td>\n",
       "      <td>east</td>\n",
       "    </tr>\n",
       "    <tr>\n",
       "      <td>1</td>\n",
       "      <td>0.979592</td>\n",
       "      <td>ago</td>\n",
       "      <td>5009.591525</td>\n",
       "      <td>east</td>\n",
       "    </tr>\n",
       "    <tr>\n",
       "      <td>2</td>\n",
       "      <td>0.959184</td>\n",
       "      <td>aha</td>\n",
       "      <td>5223.563763</td>\n",
       "      <td>west</td>\n",
       "    </tr>\n",
       "    <tr>\n",
       "      <td>3</td>\n",
       "      <td>0.979592</td>\n",
       "      <td>ake</td>\n",
       "      <td>4995.217117</td>\n",
       "      <td>west</td>\n",
       "    </tr>\n",
       "    <tr>\n",
       "      <td>4</td>\n",
       "      <td>1.000000</td>\n",
       "      <td>ama</td>\n",
       "      <td>4490.384285</td>\n",
       "      <td>east</td>\n",
       "    </tr>\n",
       "  </tbody>\n",
       "</table>\n",
       "</div>"
      ],
      "text/plain": [
       "     values names          acc origin\n",
       "0  0.897959   adi  5185.869282   east\n",
       "1  0.979592   ago  5009.591525   east\n",
       "2  0.959184   aha  5223.563763   west\n",
       "3  0.979592   ake  4995.217117   west\n",
       "4  1.000000   ama  4490.384285   east"
      ]
     },
     "execution_count": 12,
     "metadata": {},
     "output_type": "execute_result"
    }
   ],
   "source": [
    "import mne\n",
    "import numpy as np\n",
    "import pandas as pd\n",
    "from scipy.spatial import procrustes\n",
    "from IPython.core.debugger import set_trace\n",
    "import matplotlib.pyplot as plt\n",
    "from scipy.spatial.distance import pdist\n",
    "from scipy.spatial.distance import squareform\n",
    "%run Recon_class.ipynb\n",
    "%run general_tools.ipynb\n",
    "%run EEG_auxiliary_module.ipynb\n",
    "stims = pd.read_csv('C:\\\\Users\\\\danne\\\\Dropbox\\\\Ilya_study\\\\Stimuli\\\\stims.csv')\n",
    "descr = pd.read_csv('C:\\\\Users\\\\danne\\\\Dropbox\\\\Ilya_study\\\\Analysis\\\\description.csv', index_col = 'Nums') # loading origin desription\n",
    "dist = pd.DataFrame(squareform(pdist(stims.T)),columns=stims.columns,index=stims.columns)\n",
    "ims_names, prc_names, _ = import_names()\n",
    "infolder, outfolder = find_folder()\n",
    "recon_io = Reconstruction(rc_conf_df=dist, tr_conf_df=dist, ims_df=stims, dims_n=20, image_size=(98,75,3))\n",
    "recon_io.project_face_space(kind = 'custom').ims2lab().face_reconst(blow='both').lab2ims().distance_test(kind = 'other').add_column_to_summary(descr, 'names')\n",
    "recon_io.show_face_space(dims=(0,1))\n",
    "result_io = recon_io.present_summary()\n",
    "result_io.head()\n",
    "#result_io.sort_values(by = 'origin').to_clipboard()"
   ]
  },
  {
   "cell_type": "markdown",
   "metadata": {},
   "source": [
    "# Perception reconstruction"
   ]
  },
  {
   "cell_type": "code",
   "execution_count": 8,
   "metadata": {},
   "outputs": [
    {
     "name": "stderr",
     "output_type": "stream",
     "text": [
      "C:\\Users\\danne\\Anaconda3\\lib\\site-packages\\skimage\\color\\colorconv.py:988: UserWarning: Color data out of range: Z < 0 in 13 pixels\n",
      "  warn('Color data out of range: Z < 0 in %s pixels' % invalid[0].size)\n",
      "C:\\Users\\danne\\Anaconda3\\lib\\site-packages\\skimage\\color\\colorconv.py:988: UserWarning: Color data out of range: Z < 0 in 8 pixels\n",
      "  warn('Color data out of range: Z < 0 in %s pixels' % invalid[0].size)\n",
      "C:\\Users\\danne\\Anaconda3\\lib\\site-packages\\skimage\\color\\colorconv.py:988: UserWarning: Color data out of range: Z < 0 in 11 pixels\n",
      "  warn('Color data out of range: Z < 0 in %s pixels' % invalid[0].size)\n",
      "C:\\Users\\danne\\Anaconda3\\lib\\site-packages\\skimage\\color\\colorconv.py:988: UserWarning: Color data out of range: Z < 0 in 12 pixels\n",
      "  warn('Color data out of range: Z < 0 in %s pixels' % invalid[0].size)\n"
     ]
    },
    {
     "name": "stdout",
     "output_type": "stream",
     "text": [
      "The overall accuracy is 52.57%\n"
     ]
    },
    {
     "data": {
      "image/png": "[encoded data removed]",
      "text/plain": [
       "<Figure size 1440x720 with 2 Axes>"
      ]
     },
     "metadata": {
      "needs_background": "light"
     },
     "output_type": "display_data"
    }
   ],
   "source": [
    "import mne\n",
    "import numpy as np\n",
    "import pandas as pd\n",
    "from scipy.spatial import procrustes\n",
    "from IPython.core.debugger import set_trace\n",
    "import matplotlib.pyplot as plt\n",
    "from scipy.spatial.distance import pdist\n",
    "from scipy.spatial.distance import squareform\n",
    "%run Recon_class.ipynb\n",
    "%run general_tools.ipynb\n",
    "%run EEG_auxiliary_module.ipynb\n",
    "stims = pd.read_csv('C:\\\\Users\\\\danne\\\\Dropbox\\\\Ilya_study\\\\Stimuli\\\\stims.csv')\n",
    "descr = pd.read_csv('C:\\\\Users\\\\danne\\\\Dropbox\\\\Ilya_study\\\\Analysis\\\\description.csv', index_col = 'Nums') # loading origin desription\n",
    "ims_names, prc_names, _ = import_names()\n",
    "infolder, outfolder = find_folder()\n",
    "data = load_pkl(outfolder, 'svm_prc_accuracy.pkl')\n",
    "data = np.array(data)\n",
    "conf_prc_df = pd.DataFrame(data[:,:50,:50].mean(axis=0), index=prc_names, columns=prc_names)\n",
    "\n",
    "\n",
    "\n",
    "recon_prc = Reconstruction(rc_conf_df=conf_prc_df, tr_conf_df=conf_prc_df, ims_df=stims, dims_n=20, image_size=(98,75,3))\n",
    "recon_prc.project_face_space(kind = 'custom').ims2lab().face_reconst(blow='both').lab2ims().distance_test()\n",
    "recon_prc.add_column_to_summary(descr, 'names')\n",
    "recon_prc.show_face_space(dims=(0,1))\n",
    "#result_prc.sort_values(by = 'origin').to_clipboard()"
   ]
  },
  {
   "cell_type": "code",
   "execution_count": 18,
   "metadata": {},
   "outputs": [
    {
     "name": "stderr",
     "output_type": "stream",
     "text": [
      "C:\\Users\\danne\\Anaconda3\\lib\\site-packages\\ipykernel_launcher.py:18: RuntimeWarning: Mean of empty slice\n"
     ]
    },
    {
     "name": "stdout",
     "output_type": "stream",
     "text": [
      "The overall accuracy is 40.29%\n"
     ]
    },
    {
     "data": {
      "image/png": "[encoded data removed]",
      "text/plain": [
       "<Figure size 1440x720 with 2 Axes>"
      ]
     },
     "metadata": {
      "needs_background": "light"
     },
     "output_type": "display_data"
    }
   ],
   "source": [
    "import mne\n",
    "import numpy as np\n",
    "import pandas as pd\n",
    "from scipy.spatial import procrustes\n",
    "from IPython.core.debugger import set_trace\n",
    "import matplotlib.pyplot as plt\n",
    "from scipy.spatial.distance import pdist\n",
    "from scipy.spatial.distance import squareform\n",
    "%run Recon_class.ipynb\n",
    "%run general_tools.ipynb\n",
    "%run EEG_auxiliary_module.ipynb\n",
    "stims = pd.read_csv('C:\\\\Users\\\\danne\\\\Dropbox\\\\Ilya_study\\\\Stimuli\\\\stims.csv')\n",
    "descr = pd.read_csv('C:\\\\Users\\\\danne\\\\Dropbox\\\\Ilya_study\\\\Analysis\\\\description.csv', index_col = 'Nums') # loading origin desription\n",
    "ims_names, prc_names, _ = import_names()\n",
    "infolder, outfolder = find_folder()\n",
    "loaded = np.load('E:\\\\Ilya_study\\\\Confusion matrices\\\\combined.npz')\n",
    "temp = loaded['results']\n",
    "temp = np.nanmean(temp, axis=(0,1))\n",
    "data = np.squeeze(squareform(squareform(temp, checks=False)))\n",
    "conf_prc_df = pd.DataFrame(data[:50,:50], index=prc_names, columns=prc_names)\n",
    "\n",
    "\n",
    "\n",
    "recon_prc = Reconstruction(rc_conf_df=conf_prc_df, tr_conf_df=conf_prc_df, ims_df=stims, dims_n=20, image_size=(98,75,3))\n",
    "recon_prc.project_face_space(kind = 'custom').ims2lab().face_reconst(blow='both').lab2ims().distance_test()\n",
    "recon_prc.add_column_to_summary(descr, 'names')\n",
    "recon_prc.show_face_space(dims=(0,1))\n",
    "#result_prc.sort_values(by = 'origin').to_clipboard()"
   ]
  },
  {
   "cell_type": "code",
   "execution_count": 24,
   "metadata": {},
   "outputs": [
    {
     "name": "stderr",
     "output_type": "stream",
     "text": [
      "C:\\Users\\danne\\Anaconda3\\lib\\site-packages\\ipykernel_launcher.py:3: RuntimeWarning: Mean of empty slice\n",
      "  This is separate from the ipykernel package so we can avoid doing imports until\n"
     ]
    }
   ],
   "source": [
    "loaded = np.load('E:\\\\Ilya_study\\\\Confusion matrices\\\\combined.npz')\n",
    "temp = loaded['results']\n",
    "temp = np.nanmean(temp, axis=(1))\n",
    "b = list()\n",
    "for i in range(temp.shape[0]):\n",
    "    a = squareform(temp[i,:,:], checks=False)\n",
    "    b.append(squareform(a))\n",
    "data = np.array(b)\n",
    "\n",
    "#data = np.squeeze(squareform(squareform(temp, checks=False)))"
   ]
  },
  {
   "cell_type": "markdown",
   "metadata": {},
   "source": [
    "# Imagery reconstruction"
   ]
  },
  {
   "cell_type": "code",
   "execution_count": 7,
   "metadata": {},
   "outputs": [
    {
     "name": "stdout",
     "output_type": "stream",
     "text": [
      "The overall accuracy is 39.18%\n"
     ]
    }
   ],
   "source": [
    "import mne\n",
    "import numpy as np\n",
    "import pandas as pd\n",
    "from scipy.spatial import procrustes\n",
    "from IPython.core.debugger import set_trace\n",
    "import matplotlib.pyplot as plt\n",
    "from scipy.spatial.distance import pdist\n",
    "from scipy.spatial.distance import squareform\n",
    "%run Recon_class.ipynb\n",
    "%run general_tools.ipynb\n",
    "%run EEG_auxiliary_module.ipynb\n",
    "stims = pd.read_csv('C:\\\\Users\\\\danne\\\\Dropbox\\\\Ilya_study\\\\Stimuli\\\\stims.csv')\n",
    "\n",
    "ims_names, prc_names, _ = import_names()\n",
    "infolder, outfolder = find_folder()\n",
    "data = load_pkl(outfolder, 'svm_img_accuracy.pkl')\n",
    "data = np.array(data)\n",
    "conf_img_df = pd.DataFrame(data[5,:,:,:].mean(axis=0), index=ims_names, columns=ims_names)\n",
    "data = load_pkl(outfolder, 'svm_prc_accuracy.pkl')\n",
    "data = np.array(data)\n",
    "conf_prc_df = pd.DataFrame(data[:,:50,:50].mean(axis=0), index=prc_names, columns=prc_names)\n",
    "\n",
    "\n",
    "recon_img = Reconstruction(rc_conf_df=conf_img_df, tr_conf_df=conf_prc_df, ims_df=stims, dims_n=3, image_size=(98,75,3))\n",
    "recon_img.project_face_space(kind = 'custom').ims2lab().face_reconst(blow='both').lab2ims().distance_test()\n",
    "result_img = recon_img.present_summary()\n",
    "result_img.to_clipboard()"
   ]
  },
  {
   "cell_type": "markdown",
   "metadata": {},
   "source": [
    "# Running by subject"
   ]
  },
  {
   "cell_type": "code",
   "execution_count": 25,
   "metadata": {},
   "outputs": [
    {
     "name": "stdout",
     "output_type": "stream",
     "text": [
      "The overall accuracy is 54.41%\n"
     ]
    },
    {
     "name": "stderr",
     "output_type": "stream",
     "text": [
      "C:\\Users\\danne\\Anaconda3\\lib\\site-packages\\skimage\\color\\colorconv.py:988: UserWarning: Color data out of range: Z < 0 in 22 pixels\n",
      "  warn('Color data out of range: Z < 0 in %s pixels' % invalid[0].size)\n",
      "C:\\Users\\danne\\Anaconda3\\lib\\site-packages\\skimage\\color\\colorconv.py:988: UserWarning: Color data out of range: Z < 0 in 7 pixels\n",
      "  warn('Color data out of range: Z < 0 in %s pixels' % invalid[0].size)\n",
      "C:\\Users\\danne\\Anaconda3\\lib\\site-packages\\skimage\\color\\colorconv.py:988: UserWarning: Color data out of range: Z < 0 in 9 pixels\n",
      "  warn('Color data out of range: Z < 0 in %s pixels' % invalid[0].size)\n",
      "C:\\Users\\danne\\Anaconda3\\lib\\site-packages\\skimage\\color\\colorconv.py:988: UserWarning: Color data out of range: Z < 0 in 14 pixels\n",
      "  warn('Color data out of range: Z < 0 in %s pixels' % invalid[0].size)\n"
     ]
    },
    {
     "name": "stdout",
     "output_type": "stream",
     "text": [
      "The overall accuracy is 57.84%\n"
     ]
    },
    {
     "name": "stderr",
     "output_type": "stream",
     "text": [
      "C:\\Users\\danne\\Anaconda3\\lib\\site-packages\\skimage\\color\\colorconv.py:988: UserWarning: Color data out of range: Z < 0 in 15 pixels\n",
      "  warn('Color data out of range: Z < 0 in %s pixels' % invalid[0].size)\n",
      "C:\\Users\\danne\\Anaconda3\\lib\\site-packages\\skimage\\color\\colorconv.py:988: UserWarning: Color data out of range: Z < 0 in 17 pixels\n",
      "  warn('Color data out of range: Z < 0 in %s pixels' % invalid[0].size)\n"
     ]
    },
    {
     "name": "stdout",
     "output_type": "stream",
     "text": [
      "The overall accuracy is 37.35%\n",
      "The overall accuracy is 40.94%\n"
     ]
    },
    {
     "name": "stderr",
     "output_type": "stream",
     "text": [
      "C:\\Users\\danne\\Anaconda3\\lib\\site-packages\\skimage\\color\\colorconv.py:988: UserWarning: Color data out of range: Z < 0 in 20 pixels\n",
      "  warn('Color data out of range: Z < 0 in %s pixels' % invalid[0].size)\n"
     ]
    },
    {
     "name": "stdout",
     "output_type": "stream",
     "text": [
      "The overall accuracy is 41.43%\n",
      "The overall accuracy is 45.14%\n",
      "The overall accuracy is 48.49%\n"
     ]
    },
    {
     "name": "stderr",
     "output_type": "stream",
     "text": [
      "C:\\Users\\danne\\Anaconda3\\lib\\site-packages\\skimage\\color\\colorconv.py:988: UserWarning: Color data out of range: Z < 0 in 16 pixels\n",
      "  warn('Color data out of range: Z < 0 in %s pixels' % invalid[0].size)\n"
     ]
    },
    {
     "name": "stdout",
     "output_type": "stream",
     "text": [
      "The overall accuracy is 51.06%\n"
     ]
    },
    {
     "name": "stderr",
     "output_type": "stream",
     "text": [
      "C:\\Users\\danne\\Anaconda3\\lib\\site-packages\\skimage\\color\\colorconv.py:988: UserWarning: Color data out of range: Z < 0 in 19 pixels\n",
      "  warn('Color data out of range: Z < 0 in %s pixels' % invalid[0].size)\n"
     ]
    },
    {
     "name": "stdout",
     "output_type": "stream",
     "text": [
      "The overall accuracy is 39.14%\n",
      "The overall accuracy is 52.98%\n"
     ]
    },
    {
     "name": "stderr",
     "output_type": "stream",
     "text": [
      "C:\\Users\\danne\\Anaconda3\\lib\\site-packages\\skimage\\color\\colorconv.py:988: UserWarning: Color data out of range: Z < 0 in 21 pixels\n",
      "  warn('Color data out of range: Z < 0 in %s pixels' % invalid[0].size)\n"
     ]
    },
    {
     "name": "stdout",
     "output_type": "stream",
     "text": [
      "The overall accuracy is 44.16%\n",
      "The overall accuracy is 43.39%\n",
      "The overall accuracy is 43.63%\n",
      "The overall accuracy is 42.65%\n",
      "The overall accuracy is 36.04%\n",
      "The overall accuracy is 47.14%\n"
     ]
    },
    {
     "name": "stderr",
     "output_type": "stream",
     "text": [
      "C:\\Users\\danne\\Anaconda3\\lib\\site-packages\\skimage\\color\\colorconv.py:988: UserWarning: Color data out of range: Z < 0 in 24 pixels\n",
      "  warn('Color data out of range: Z < 0 in %s pixels' % invalid[0].size)\n"
     ]
    },
    {
     "name": "stdout",
     "output_type": "stream",
     "text": [
      "The overall accuracy is 43.92%\n"
     ]
    }
   ],
   "source": [
    "import mne\n",
    "import numpy as np\n",
    "import pandas as pd\n",
    "from scipy.spatial import procrustes\n",
    "from IPython.core.debugger import set_trace\n",
    "import matplotlib.pyplot as plt\n",
    "from scipy.spatial.distance import pdist\n",
    "from scipy.spatial.distance import squareform\n",
    "%run Recon_class.ipynb\n",
    "%run general_tools.ipynb\n",
    "%run EEG_auxiliary_module.ipynb\n",
    "stims = pd.read_csv('C:\\\\Users\\\\danne\\\\Dropbox\\\\Ilya_study\\\\Stimuli\\\\stims.csv')\n",
    "descr = pd.read_csv('C:\\\\Users\\\\danne\\\\Dropbox\\\\Ilya_study\\\\Analysis\\\\description.csv', index_col = 'Nums') # loading origin desription\n",
    "ims_names, prc_names, _ = import_names()\n",
    "infolder, outfolder = find_folder()\n",
    "#data = load_pkl(outfolder, 'svm_prc_accuracy.pkl')\n",
    "data = np.array(data)\n",
    "results = []\n",
    "for i in range(data.shape[0]):\n",
    "    conf_prc_df = pd.DataFrame(data[i,:50,:50], index=prc_names, columns=prc_names)\n",
    "    recon_prc = Reconstruction(rc_conf_df=conf_prc_df, tr_conf_df=conf_prc_df, ims_df=stims, dims_n=20, image_size=(98,75,3))\n",
    "    recon_prc.project_face_space(kind = 'custom').ims2lab().face_reconst(blow='both').lab2ims().distance_test().add_column_to_summary(descr, 'names')\n",
    "    result = recon_prc.present_summary()\n",
    "    result['subject'] = i+2\n",
    "    result['type'] = 'perception'\n",
    "    result['invterval'] = np.nan\n",
    "    result['dims'] = 20\n",
    "    results.append(result)\n"
   ]
  },
  {
   "cell_type": "code",
   "execution_count": null,
   "metadata": {},
   "outputs": [],
   "source": [
    "data_img = load_pkl(outfolder, 'svm_img_accuracy.pkl')\n",
    "data_img = np.array(data_img)\n",
    "for j in range(data_img.shape[0]):\n",
    "    for i in range(data.shape[0]):\n",
    "        conf_prc_df = pd.DataFrame(data[i,:50,:50], index=prc_names, columns=prc_names)\n",
    "        conf_img_df = pd.DataFrame(data_img[j,i,:,:], index=ims_names, columns=ims_names)\n",
    "        recon = Reconstruction(rc_conf_df=conf_img_df, tr_conf_df=conf_prc_df, ims_df=stims, dims_n=3, image_size=(98,75,3))\n",
    "        recon.project_face_space(kind = 'custom').ims2lab().face_reconst(blow='both').lab2ims().distance_test().add_column_to_summary(descr, 'names')\n",
    "        result = recon.present_summary()\n",
    "        result['subject'] = i+2\n",
    "        result['type'] = 'imagery'\n",
    "        result['invterval'] = j+1\n",
    "        result['dims'] = 3\n",
    "        results.append(result)\n",
    "\n",
    "results = pd.concat(results)"
   ]
  },
  {
   "cell_type": "code",
   "execution_count": 25,
   "metadata": {},
   "outputs": [],
   "source": [
    "results.to_clipboard()"
   ]
  },
  {
   "cell_type": "code",
   "execution_count": 26,
   "metadata": {},
   "outputs": [
    {
     "data": {
      "text/html": [
       "<div>\n",
       "<style scoped>\n",
       "    .dataframe tbody tr th:only-of-type {\n",
       "        vertical-align: middle;\n",
       "    }\n",
       "\n",
       "    .dataframe tbody tr th {\n",
       "        vertical-align: top;\n",
       "    }\n",
       "\n",
       "    .dataframe thead th {\n",
       "        text-align: right;\n",
       "    }\n",
       "</style>\n",
       "<table border=\"1\" class=\"dataframe\">\n",
       "  <thead>\n",
       "    <tr style=\"text-align: right;\">\n",
       "      <th></th>\n",
       "      <th></th>\n",
       "      <th>values</th>\n",
       "      <th>acc</th>\n",
       "      <th>subject</th>\n",
       "      <th>invterval</th>\n",
       "      <th>dims</th>\n",
       "    </tr>\n",
       "    <tr>\n",
       "      <th>origin</th>\n",
       "      <th>type</th>\n",
       "      <th></th>\n",
       "      <th></th>\n",
       "      <th></th>\n",
       "      <th></th>\n",
       "      <th></th>\n",
       "    </tr>\n",
       "  </thead>\n",
       "  <tbody>\n",
       "    <tr>\n",
       "      <th rowspan=\"2\" valign=\"top\">east</th>\n",
       "      <th>imagery</th>\n",
       "      <td>NaN</td>\n",
       "      <td>NaN</td>\n",
       "      <td>10</td>\n",
       "      <td>3.5</td>\n",
       "      <td>3</td>\n",
       "    </tr>\n",
       "    <tr>\n",
       "      <th>perception</th>\n",
       "      <td>0.499736</td>\n",
       "      <td>0.562732</td>\n",
       "      <td>10</td>\n",
       "      <td>NaN</td>\n",
       "      <td>20</td>\n",
       "    </tr>\n",
       "    <tr>\n",
       "      <th rowspan=\"2\" valign=\"top\">west</th>\n",
       "      <th>imagery</th>\n",
       "      <td>0.451741</td>\n",
       "      <td>0.547835</td>\n",
       "      <td>10</td>\n",
       "      <td>3.5</td>\n",
       "      <td>3</td>\n",
       "    </tr>\n",
       "    <tr>\n",
       "      <th>perception</th>\n",
       "      <td>0.539352</td>\n",
       "      <td>0.551480</td>\n",
       "      <td>10</td>\n",
       "      <td>NaN</td>\n",
       "      <td>20</td>\n",
       "    </tr>\n",
       "  </tbody>\n",
       "</table>\n",
       "</div>"
      ],
      "text/plain": [
       "                     values       acc  subject  invterval  dims\n",
       "origin type                                                    \n",
       "east   imagery          NaN       NaN       10        3.5     3\n",
       "       perception  0.499736  0.562732       10        NaN    20\n",
       "west   imagery     0.451741  0.547835       10        3.5     3\n",
       "       perception  0.539352  0.551480       10        NaN    20"
      ]
     },
     "execution_count": 26,
     "metadata": {},
     "output_type": "execute_result"
    }
   ],
   "source": [
    "results.groupby(['origin','type']).mean()"
   ]
  },
  {
   "cell_type": "markdown",
   "metadata": {},
   "source": [
    "## Subject 02"
   ]
  },
  {
   "cell_type": "code",
   "execution_count": 9,
   "metadata": {},
   "outputs": [
    {
     "name": "stdout",
     "output_type": "stream",
     "text": [
      "The overall accuracy is 52.57%\n"
     ]
    }
   ],
   "source": [
    "stims = pd.read_csv('C:\\\\Users\\\\danne\\\\Dropbox\\\\Ilya_study\\\\Stimuli\\\\stims.csv')\n",
    "descr = pd.read_csv('C:\\\\Users\\\\danne\\\\Dropbox\\\\Ilya_study\\\\Analysis\\\\description.csv', index_col = 'Nums') # loading origin desription\n",
    "ims_names, prc_names, _ = import_names()\n",
    "infolder, outfolder = find_folder()\n",
    "data = load_pkl(outfolder, 'svm_prc_accuracy.pkl')\n",
    "data = np.array(data)\n",
    "conf_prc_df = pd.DataFrame(data[0,:50,:50], index=prc_names, columns=prc_names)\n",
    "\n",
    "\n",
    "\n",
    "recon_prc = Reconstruction(rc_conf_df=conf_prc_df, tr_conf_df=conf_prc_df, ims_df=stims, dims_n=20, image_size=(98,75,3))\n",
    "recon_prc.project_face_space(kind = 'custom').ims2lab().face_reconst(blow='both').lab2ims().distance_test()\n",
    "out = recon_prc.add_column_to_summary(descr, 'names')\n"
   ]
  },
  {
   "cell_type": "markdown",
   "metadata": {},
   "source": [
    "# Subject 03"
   ]
  },
  {
   "cell_type": "code",
   "execution_count": 10,
   "metadata": {},
   "outputs": [
    {
     "name": "stdout",
     "output_type": "stream",
     "text": [
      "The overall accuracy is 54.49%\n"
     ]
    }
   ],
   "source": [
    "stims = pd.read_csv('C:\\\\Users\\\\danne\\\\Dropbox\\\\Ilya_study\\\\Stimuli\\\\stims.csv')\n",
    "descr = pd.read_csv('C:\\\\Users\\\\danne\\\\Dropbox\\\\Ilya_study\\\\Analysis\\\\description.csv', index_col = 'Nums') # loading origin desription\n",
    "ims_names, prc_names, _ = import_names()\n",
    "infolder, outfolder = find_folder()\n",
    "data = load_pkl(outfolder, 'svm_prc_accuracy.pkl')\n",
    "data = np.array(data)\n",
    "conf_prc_df = pd.DataFrame(data[1,:50,:50], index=prc_names, columns=prc_names)\n",
    "\n",
    "\n",
    "\n",
    "recon_prc = Reconstruction(rc_conf_df=conf_prc_df, tr_conf_df=conf_prc_df, ims_df=stims, dims_n=20, image_size=(98,75,3))\n",
    "recon_prc.project_face_space(kind = 'custom').ims2lab().face_reconst(blow='both').lab2ims().distance_test()\n",
    "out = recon_prc.add_column_to_summary(descr, 'names')"
   ]
  },
  {
   "cell_type": "markdown",
   "metadata": {},
   "source": [
    "# Subject 04"
   ]
  },
  {
   "cell_type": "code",
   "execution_count": 11,
   "metadata": {},
   "outputs": [
    {
     "name": "stderr",
     "output_type": "stream",
     "text": [
      "C:\\Users\\danne\\Anaconda3\\envs\\eeg_analysis\\lib\\site-packages\\skimage\\color\\colorconv.py:1068: UserWarning: Color data out of range: Z < 0 in 16 pixels\n",
      "  return xyz2rgb(lab2xyz(lab, illuminant, observer))\n",
      "C:\\Users\\danne\\Anaconda3\\envs\\eeg_analysis\\lib\\site-packages\\skimage\\color\\colorconv.py:1068: UserWarning: Color data out of range: Z < 0 in 22 pixels\n",
      "  return xyz2rgb(lab2xyz(lab, illuminant, observer))\n",
      "C:\\Users\\danne\\Anaconda3\\envs\\eeg_analysis\\lib\\site-packages\\skimage\\color\\colorconv.py:1068: UserWarning: Color data out of range: Z < 0 in 14 pixels\n",
      "  return xyz2rgb(lab2xyz(lab, illuminant, observer))\n",
      "C:\\Users\\danne\\Anaconda3\\envs\\eeg_analysis\\lib\\site-packages\\skimage\\color\\colorconv.py:1068: UserWarning: Color data out of range: Z < 0 in 19 pixels\n",
      "  return xyz2rgb(lab2xyz(lab, illuminant, observer))\n",
      "C:\\Users\\danne\\Anaconda3\\envs\\eeg_analysis\\lib\\site-packages\\skimage\\color\\colorconv.py:1068: UserWarning: Color data out of range: Z < 0 in 10 pixels\n",
      "  return xyz2rgb(lab2xyz(lab, illuminant, observer))\n",
      "C:\\Users\\danne\\Anaconda3\\envs\\eeg_analysis\\lib\\site-packages\\skimage\\color\\colorconv.py:1068: UserWarning: Color data out of range: Z < 0 in 24 pixels\n",
      "  return xyz2rgb(lab2xyz(lab, illuminant, observer))\n"
     ]
    },
    {
     "name": "stdout",
     "output_type": "stream",
     "text": [
      "The overall accuracy is 53.63%\n"
     ]
    }
   ],
   "source": [
    "stims = pd.read_csv('C:\\\\Users\\\\danne\\\\Dropbox\\\\Ilya_study\\\\Stimuli\\\\stims.csv')\n",
    "descr = pd.read_csv('C:\\\\Users\\\\danne\\\\Dropbox\\\\Ilya_study\\\\Analysis\\\\description.csv', index_col = 'Nums') # loading origin desription\n",
    "ims_names, prc_names, _ = import_names()\n",
    "infolder, outfolder = find_folder()\n",
    "data = load_pkl(outfolder, 'svm_prc_accuracy.pkl')\n",
    "data = np.array(data)\n",
    "conf_prc_df = pd.DataFrame(data[2,:50,:50], index=prc_names, columns=prc_names)\n",
    "\n",
    "\n",
    "\n",
    "recon_prc = Reconstruction(rc_conf_df=conf_prc_df, tr_conf_df=conf_prc_df, ims_df=stims, dims_n=20, image_size=(98,75,3))\n",
    "recon_prc.project_face_space(kind = 'custom').ims2lab().face_reconst(blow='both').lab2ims().distance_test()\n",
    "out = recon_prc.add_column_to_summary(descr, 'names')"
   ]
  },
  {
   "cell_type": "markdown",
   "metadata": {},
   "source": [
    "# Subject 05"
   ]
  },
  {
   "cell_type": "code",
   "execution_count": 12,
   "metadata": {},
   "outputs": [
    {
     "name": "stdout",
     "output_type": "stream",
     "text": [
      "The overall accuracy is 51.18%\n"
     ]
    }
   ],
   "source": [
    "stims = pd.read_csv('C:\\\\Users\\\\danne\\\\Dropbox\\\\Ilya_study\\\\Stimuli\\\\stims.csv')\n",
    "descr = pd.read_csv('C:\\\\Users\\\\danne\\\\Dropbox\\\\Ilya_study\\\\Analysis\\\\description.csv', index_col = 'Nums') # loading origin desription\n",
    "ims_names, prc_names, _ = import_names()\n",
    "infolder, outfolder = find_folder()\n",
    "data = load_pkl(outfolder, 'svm_prc_accuracy.pkl')\n",
    "data = np.array(data)\n",
    "conf_prc_df = pd.DataFrame(data[3,:50,:50], index=prc_names, columns=prc_names)\n",
    "\n",
    "\n",
    "\n",
    "recon_prc = Reconstruction(rc_conf_df=conf_prc_df, tr_conf_df=conf_prc_df, ims_df=stims, dims_n=20, image_size=(98,75,3))\n",
    "recon_prc.project_face_space(kind = 'custom').ims2lab().face_reconst(blow='both').lab2ims().distance_test()\n",
    "out = recon_prc.add_column_to_summary(descr, 'names')"
   ]
  },
  {
   "cell_type": "markdown",
   "metadata": {},
   "source": [
    "# Subject 06"
   ]
  },
  {
   "cell_type": "code",
   "execution_count": 13,
   "metadata": {},
   "outputs": [
    {
     "name": "stdout",
     "output_type": "stream",
     "text": [
      "The overall accuracy is 44.41%\n"
     ]
    }
   ],
   "source": [
    "stims = pd.read_csv('C:\\\\Users\\\\danne\\\\Dropbox\\\\Ilya_study\\\\Stimuli\\\\stims.csv')\n",
    "descr = pd.read_csv('C:\\\\Users\\\\danne\\\\Dropbox\\\\Ilya_study\\\\Analysis\\\\description.csv', index_col = 'Nums') # loading origin desription\n",
    "ims_names, prc_names, _ = import_names()\n",
    "infolder, outfolder = find_folder()\n",
    "data = load_pkl(outfolder, 'svm_prc_accuracy.pkl')\n",
    "data = np.array(data)\n",
    "conf_prc_df = pd.DataFrame(data[4,:50,:50], index=prc_names, columns=prc_names)\n",
    "\n",
    "\n",
    "\n",
    "recon_prc = Reconstruction(rc_conf_df=conf_prc_df, tr_conf_df=conf_prc_df, ims_df=stims, dims_n=20, image_size=(98,75,3))\n",
    "recon_prc.project_face_space(kind = 'custom').ims2lab().face_reconst(blow='both').lab2ims().distance_test()\n",
    "out = recon_prc.add_column_to_summary(descr, 'names')"
   ]
  },
  {
   "cell_type": "markdown",
   "metadata": {},
   "source": [
    "# Subject 07"
   ]
  },
  {
   "cell_type": "code",
   "execution_count": 14,
   "metadata": {},
   "outputs": [
    {
     "name": "stderr",
     "output_type": "stream",
     "text": [
      "C:\\Users\\danne\\Anaconda3\\envs\\eeg_analysis\\lib\\site-packages\\skimage\\color\\colorconv.py:1068: UserWarning: Color data out of range: Z < 0 in 21 pixels\n",
      "  return xyz2rgb(lab2xyz(lab, illuminant, observer))\n"
     ]
    },
    {
     "name": "stdout",
     "output_type": "stream",
     "text": [
      "The overall accuracy is 52.53%\n"
     ]
    }
   ],
   "source": [
    "stims = pd.read_csv('C:\\\\Users\\\\danne\\\\Dropbox\\\\Ilya_study\\\\Stimuli\\\\stims.csv')\n",
    "descr = pd.read_csv('C:\\\\Users\\\\danne\\\\Dropbox\\\\Ilya_study\\\\Analysis\\\\description.csv', index_col = 'Nums') # loading origin desription\n",
    "ims_names, prc_names, _ = import_names()\n",
    "infolder, outfolder = find_folder()\n",
    "data = load_pkl(outfolder, 'svm_prc_accuracy.pkl')\n",
    "data = np.array(data)\n",
    "conf_prc_df = pd.DataFrame(data[5,:50,:50], index=prc_names, columns=prc_names)\n",
    "\n",
    "\n",
    "\n",
    "recon_prc = Reconstruction(rc_conf_df=conf_prc_df, tr_conf_df=conf_prc_df, ims_df=stims, dims_n=20, image_size=(98,75,3))\n",
    "recon_prc.project_face_space(kind = 'custom').ims2lab().face_reconst(blow='both').lab2ims().distance_test()\n",
    "out = recon_prc.add_column_to_summary(descr, 'names')"
   ]
  },
  {
   "cell_type": "markdown",
   "metadata": {},
   "source": [
    "# Subject 08"
   ]
  },
  {
   "cell_type": "code",
   "execution_count": 15,
   "metadata": {},
   "outputs": [
    {
     "name": "stdout",
     "output_type": "stream",
     "text": [
      "The overall accuracy is 56.73%\n"
     ]
    }
   ],
   "source": [
    "stims = pd.read_csv('C:\\\\Users\\\\danne\\\\Dropbox\\\\Ilya_study\\\\Stimuli\\\\stims.csv')\n",
    "descr = pd.read_csv('C:\\\\Users\\\\danne\\\\Dropbox\\\\Ilya_study\\\\Analysis\\\\description.csv', index_col = 'Nums') # loading origin desription\n",
    "ims_names, prc_names, _ = import_names()\n",
    "infolder, outfolder = find_folder()\n",
    "data = load_pkl(outfolder, 'svm_prc_accuracy.pkl')\n",
    "data = np.array(data)\n",
    "conf_prc_df = pd.DataFrame(data[6,:50,:50], index=prc_names, columns=prc_names)\n",
    "\n",
    "\n",
    "\n",
    "recon_prc = Reconstruction(rc_conf_df=conf_prc_df, tr_conf_df=conf_prc_df, ims_df=stims, dims_n=20, image_size=(98,75,3))\n",
    "recon_prc.project_face_space(kind = 'custom').ims2lab().face_reconst(blow='both').lab2ims().distance_test()\n",
    "out = recon_prc.add_column_to_summary(descr, 'names')"
   ]
  },
  {
   "cell_type": "markdown",
   "metadata": {},
   "source": [
    "# Subject 09"
   ]
  },
  {
   "cell_type": "code",
   "execution_count": 16,
   "metadata": {},
   "outputs": [
    {
     "name": "stderr",
     "output_type": "stream",
     "text": [
      "C:\\Users\\danne\\Anaconda3\\envs\\eeg_analysis\\lib\\site-packages\\skimage\\color\\colorconv.py:1068: UserWarning: Color data out of range: Z < 0 in 39 pixels\n",
      "  return xyz2rgb(lab2xyz(lab, illuminant, observer))\n"
     ]
    },
    {
     "name": "stdout",
     "output_type": "stream",
     "text": [
      "The overall accuracy is 55.92%\n"
     ]
    }
   ],
   "source": [
    "stims = pd.read_csv('C:\\\\Users\\\\danne\\\\Dropbox\\\\Ilya_study\\\\Stimuli\\\\stims.csv')\n",
    "descr = pd.read_csv('C:\\\\Users\\\\danne\\\\Dropbox\\\\Ilya_study\\\\Analysis\\\\description.csv', index_col = 'Nums') # loading origin desription\n",
    "ims_names, prc_names, _ = import_names()\n",
    "infolder, outfolder = find_folder()\n",
    "data = load_pkl(outfolder, 'svm_prc_accuracy.pkl')\n",
    "data = np.array(data)\n",
    "conf_prc_df = pd.DataFrame(data[7,:50,:50], index=prc_names, columns=prc_names)\n",
    "\n",
    "\n",
    "\n",
    "recon_prc = Reconstruction(rc_conf_df=conf_prc_df, tr_conf_df=conf_prc_df, ims_df=stims, dims_n=20, image_size=(98,75,3))\n",
    "recon_prc.project_face_space(kind = 'custom').ims2lab().face_reconst(blow='both').lab2ims().distance_test()\n",
    "out = recon_prc.add_column_to_summary(descr, 'names')"
   ]
  },
  {
   "cell_type": "markdown",
   "metadata": {},
   "source": [
    "# Subject 10"
   ]
  },
  {
   "cell_type": "code",
   "execution_count": 17,
   "metadata": {},
   "outputs": [
    {
     "name": "stdout",
     "output_type": "stream",
     "text": [
      "The overall accuracy is 48.12%\n"
     ]
    }
   ],
   "source": [
    "stims = pd.read_csv('C:\\\\Users\\\\danne\\\\Dropbox\\\\Ilya_study\\\\Stimuli\\\\stims.csv')\n",
    "descr = pd.read_csv('C:\\\\Users\\\\danne\\\\Dropbox\\\\Ilya_study\\\\Analysis\\\\description.csv', index_col = 'Nums') # loading origin desription\n",
    "ims_names, prc_names, _ = import_names()\n",
    "infolder, outfolder = find_folder()\n",
    "data = load_pkl(outfolder, 'svm_prc_accuracy.pkl')\n",
    "data = np.array(data)\n",
    "conf_prc_df = pd.DataFrame(data[8,:50,:50], index=prc_names, columns=prc_names)\n",
    "\n",
    "\n",
    "\n",
    "recon_prc = Reconstruction(rc_conf_df=conf_prc_df, tr_conf_df=conf_prc_df, ims_df=stims, dims_n=20, image_size=(98,75,3))\n",
    "recon_prc.project_face_space(kind = 'custom').ims2lab().face_reconst(blow='both').lab2ims().distance_test()\n",
    "out = recon_prc.add_column_to_summary(descr, 'names')"
   ]
  },
  {
   "cell_type": "markdown",
   "metadata": {},
   "source": [
    "# Subject 11"
   ]
  },
  {
   "cell_type": "code",
   "execution_count": 18,
   "metadata": {},
   "outputs": [
    {
     "name": "stderr",
     "output_type": "stream",
     "text": [
      "C:\\Users\\danne\\Anaconda3\\envs\\eeg_analysis\\lib\\site-packages\\skimage\\color\\colorconv.py:1068: UserWarning: Color data out of range: Z < 0 in 32 pixels\n",
      "  return xyz2rgb(lab2xyz(lab, illuminant, observer))\n"
     ]
    },
    {
     "name": "stdout",
     "output_type": "stream",
     "text": [
      "The overall accuracy is 50.73%\n"
     ]
    }
   ],
   "source": [
    "stims = pd.read_csv('C:\\\\Users\\\\danne\\\\Dropbox\\\\Ilya_study\\\\Stimuli\\\\stims.csv')\n",
    "descr = pd.read_csv('C:\\\\Users\\\\danne\\\\Dropbox\\\\Ilya_study\\\\Analysis\\\\description.csv', index_col = 'Nums') # loading origin desription\n",
    "ims_names, prc_names, _ = import_names()\n",
    "infolder, outfolder = find_folder()\n",
    "data = load_pkl(outfolder, 'svm_prc_accuracy.pkl')\n",
    "data = np.array(data)\n",
    "conf_prc_df = pd.DataFrame(data[9,:50,:50], index=prc_names, columns=prc_names)\n",
    "\n",
    "\n",
    "\n",
    "recon_prc = Reconstruction(rc_conf_df=conf_prc_df, tr_conf_df=conf_prc_df, ims_df=stims, dims_n=20, image_size=(98,75,3))\n",
    "recon_prc.project_face_space(kind = 'custom').ims2lab().face_reconst(blow='both').lab2ims().distance_test()\n",
    "out = recon_prc.add_column_to_summary(descr, 'names')"
   ]
  },
  {
   "cell_type": "markdown",
   "metadata": {},
   "source": [
    "# Subject 12"
   ]
  },
  {
   "cell_type": "code",
   "execution_count": 19,
   "metadata": {},
   "outputs": [
    {
     "name": "stdout",
     "output_type": "stream",
     "text": [
      "The overall accuracy is 48.41%\n"
     ]
    }
   ],
   "source": [
    "stims = pd.read_csv('C:\\\\Users\\\\danne\\\\Dropbox\\\\Ilya_study\\\\Stimuli\\\\stims.csv')\n",
    "descr = pd.read_csv('C:\\\\Users\\\\danne\\\\Dropbox\\\\Ilya_study\\\\Analysis\\\\description.csv', index_col = 'Nums') # loading origin desription\n",
    "ims_names, prc_names, _ = import_names()\n",
    "infolder, outfolder = find_folder()\n",
    "data = load_pkl(outfolder, 'svm_prc_accuracy.pkl')\n",
    "data = np.array(data)\n",
    "conf_prc_df = pd.DataFrame(data[10,:50,:50], index=prc_names, columns=prc_names)\n",
    "\n",
    "\n",
    "\n",
    "recon_prc = Reconstruction(rc_conf_df=conf_prc_df, tr_conf_df=conf_prc_df, ims_df=stims, dims_n=20, image_size=(98,75,3))\n",
    "recon_prc.project_face_space(kind = 'custom').ims2lab().face_reconst(blow='both').lab2ims().distance_test()\n",
    "out = recon_prc.add_column_to_summary(descr, 'names')"
   ]
  },
  {
   "cell_type": "markdown",
   "metadata": {},
   "source": [
    "# Subject 13"
   ]
  },
  {
   "cell_type": "code",
   "execution_count": 20,
   "metadata": {},
   "outputs": [
    {
     "name": "stdout",
     "output_type": "stream",
     "text": [
      "The overall accuracy is 46.86%\n"
     ]
    }
   ],
   "source": [
    "stims = pd.read_csv('C:\\\\Users\\\\danne\\\\Dropbox\\\\Ilya_study\\\\Stimuli\\\\stims.csv')\n",
    "descr = pd.read_csv('C:\\\\Users\\\\danne\\\\Dropbox\\\\Ilya_study\\\\Analysis\\\\description.csv', index_col = 'Nums') # loading origin desription\n",
    "ims_names, prc_names, _ = import_names()\n",
    "infolder, outfolder = find_folder()\n",
    "data = load_pkl(outfolder, 'svm_prc_accuracy.pkl')\n",
    "data = np.array(data)\n",
    "conf_prc_df = pd.DataFrame(data[11,:50,:50], index=prc_names, columns=prc_names)\n",
    "\n",
    "\n",
    "\n",
    "recon_prc = Reconstruction(rc_conf_df=conf_prc_df, tr_conf_df=conf_prc_df, ims_df=stims, dims_n=20, image_size=(98,75,3))\n",
    "recon_prc.project_face_space(kind = 'custom').ims2lab().face_reconst(blow='both').lab2ims().distance_test()\n",
    "out = recon_prc.add_column_to_summary(descr, 'names')"
   ]
  },
  {
   "cell_type": "markdown",
   "metadata": {},
   "source": [
    "# Subject 14"
   ]
  },
  {
   "cell_type": "code",
   "execution_count": 21,
   "metadata": {},
   "outputs": [
    {
     "name": "stderr",
     "output_type": "stream",
     "text": [
      "C:\\Users\\danne\\Anaconda3\\envs\\eeg_analysis\\lib\\site-packages\\skimage\\color\\colorconv.py:1068: UserWarning: Color data out of range: Z < 0 in 23 pixels\n",
      "  return xyz2rgb(lab2xyz(lab, illuminant, observer))\n",
      "C:\\Users\\danne\\Anaconda3\\envs\\eeg_analysis\\lib\\site-packages\\skimage\\color\\colorconv.py:1068: UserWarning: Color data out of range: Z < 0 in 20 pixels\n",
      "  return xyz2rgb(lab2xyz(lab, illuminant, observer))\n"
     ]
    },
    {
     "name": "stdout",
     "output_type": "stream",
     "text": [
      "The overall accuracy is 47.31%\n"
     ]
    }
   ],
   "source": [
    "stims = pd.read_csv('C:\\\\Users\\\\danne\\\\Dropbox\\\\Ilya_study\\\\Stimuli\\\\stims.csv')\n",
    "descr = pd.read_csv('C:\\\\Users\\\\danne\\\\Dropbox\\\\Ilya_study\\\\Analysis\\\\description.csv', index_col = 'Nums') # loading origin desription\n",
    "ims_names, prc_names, _ = import_names()\n",
    "infolder, outfolder = find_folder()\n",
    "data = load_pkl(outfolder, 'svm_prc_accuracy.pkl')\n",
    "data = np.array(data)\n",
    "conf_prc_df = pd.DataFrame(data[12,:50,:50], index=prc_names, columns=prc_names)\n",
    "\n",
    "\n",
    "\n",
    "recon_prc = Reconstruction(rc_conf_df=conf_prc_df, tr_conf_df=conf_prc_df, ims_df=stims, dims_n=20, image_size=(98,75,3))\n",
    "recon_prc.project_face_space(kind = 'custom').ims2lab().face_reconst(blow='both').lab2ims().distance_test()\n",
    "out = recon_prc.add_column_to_summary(descr, 'names')"
   ]
  },
  {
   "cell_type": "markdown",
   "metadata": {},
   "source": [
    "# Subject 15"
   ]
  },
  {
   "cell_type": "code",
   "execution_count": 22,
   "metadata": {},
   "outputs": [
    {
     "name": "stdout",
     "output_type": "stream",
     "text": [
      "The overall accuracy is 57.71%\n"
     ]
    }
   ],
   "source": [
    "stims = pd.read_csv('C:\\\\Users\\\\danne\\\\Dropbox\\\\Ilya_study\\\\Stimuli\\\\stims.csv')\n",
    "descr = pd.read_csv('C:\\\\Users\\\\danne\\\\Dropbox\\\\Ilya_study\\\\Analysis\\\\description.csv', index_col = 'Nums') # loading origin desription\n",
    "ims_names, prc_names, _ = import_names()\n",
    "infolder, outfolder = find_folder()\n",
    "data = load_pkl(outfolder, 'svm_prc_accuracy.pkl')\n",
    "data = np.array(data)\n",
    "conf_prc_df = pd.DataFrame(data[13,:50,:50], index=prc_names, columns=prc_names)\n",
    "\n",
    "\n",
    "\n",
    "recon_prc = Reconstruction(rc_conf_df=conf_prc_df, tr_conf_df=conf_prc_df, ims_df=stims, dims_n=20, image_size=(98,75,3))\n",
    "recon_prc.project_face_space(kind = 'custom').ims2lab().face_reconst(blow='both').lab2ims().distance_test()\n",
    "out = recon_prc.add_column_to_summary(descr, 'names')"
   ]
  },
  {
   "cell_type": "markdown",
   "metadata": {},
   "source": [
    "# Subject 16"
   ]
  },
  {
   "cell_type": "code",
   "execution_count": 23,
   "metadata": {},
   "outputs": [
    {
     "name": "stderr",
     "output_type": "stream",
     "text": [
      "C:\\Users\\danne\\Anaconda3\\envs\\eeg_analysis\\lib\\site-packages\\skimage\\color\\colorconv.py:1068: UserWarning: Color data out of range: Z < 0 in 15 pixels\n",
      "  return xyz2rgb(lab2xyz(lab, illuminant, observer))\n"
     ]
    },
    {
     "name": "stdout",
     "output_type": "stream",
     "text": [
      "The overall accuracy is 48.98%\n"
     ]
    }
   ],
   "source": [
    "stims = pd.read_csv('C:\\\\Users\\\\danne\\\\Dropbox\\\\Ilya_study\\\\Stimuli\\\\stims.csv')\n",
    "descr = pd.read_csv('C:\\\\Users\\\\danne\\\\Dropbox\\\\Ilya_study\\\\Analysis\\\\description.csv', index_col = 'Nums') # loading origin desription\n",
    "ims_names, prc_names, _ = import_names()\n",
    "infolder, outfolder = find_folder()\n",
    "data = load_pkl(outfolder, 'svm_prc_accuracy.pkl')\n",
    "data = np.array(data)\n",
    "conf_prc_df = pd.DataFrame(data[14,:50,:50], index=prc_names, columns=prc_names)\n",
    "\n",
    "\n",
    "\n",
    "recon_prc = Reconstruction(rc_conf_df=conf_prc_df, tr_conf_df=conf_prc_df, ims_df=stims, dims_n=20, image_size=(98,75,3))\n",
    "recon_prc.project_face_space(kind = 'custom').ims2lab().face_reconst(blow='both').lab2ims().distance_test()\n",
    "out = recon_prc.add_column_to_summary(descr, 'names')"
   ]
  },
  {
   "cell_type": "markdown",
   "metadata": {},
   "source": [
    "# Subject 17"
   ]
  },
  {
   "cell_type": "code",
   "execution_count": 24,
   "metadata": {},
   "outputs": [
    {
     "name": "stderr",
     "output_type": "stream",
     "text": [
      "C:\\Users\\danne\\Anaconda3\\envs\\eeg_analysis\\lib\\site-packages\\skimage\\color\\colorconv.py:1068: UserWarning: Color data out of range: Z < 0 in 34 pixels\n",
      "  return xyz2rgb(lab2xyz(lab, illuminant, observer))\n",
      "C:\\Users\\danne\\Anaconda3\\envs\\eeg_analysis\\lib\\site-packages\\skimage\\color\\colorconv.py:1068: UserWarning: Color data out of range: Z < 0 in 17 pixels\n",
      "  return xyz2rgb(lab2xyz(lab, illuminant, observer))\n"
     ]
    },
    {
     "name": "stdout",
     "output_type": "stream",
     "text": [
      "The overall accuracy is 63.71%\n"
     ]
    }
   ],
   "source": [
    "stims = pd.read_csv('C:\\\\Users\\\\danne\\\\Dropbox\\\\Ilya_study\\\\Stimuli\\\\stims.csv')\n",
    "descr = pd.read_csv('C:\\\\Users\\\\danne\\\\Dropbox\\\\Ilya_study\\\\Analysis\\\\description.csv', index_col = 'Nums') # loading origin desription\n",
    "ims_names, prc_names, _ = import_names()\n",
    "infolder, outfolder = find_folder()\n",
    "data = load_pkl(outfolder, 'svm_prc_accuracy.pkl')\n",
    "data = np.array(data)\n",
    "conf_prc_df = pd.DataFrame(data[15,:50,:50], index=prc_names, columns=prc_names)\n",
    "\n",
    "\n",
    "\n",
    "recon_prc = Reconstruction(rc_conf_df=conf_prc_df, tr_conf_df=conf_prc_df, ims_df=stims, dims_n=20, image_size=(98,75,3))\n",
    "recon_prc.project_face_space(kind = 'custom').ims2lab().face_reconst(blow='both').lab2ims().distance_test()\n",
    "out = recon_prc.add_column_to_summary(descr, 'names')"
   ]
  },
  {
   "cell_type": "markdown",
   "metadata": {},
   "source": [
    "# Subject 18"
   ]
  },
  {
   "cell_type": "code",
   "execution_count": 25,
   "metadata": {},
   "outputs": [
    {
     "name": "stdout",
     "output_type": "stream",
     "text": [
      "The overall accuracy is 49.92%\n"
     ]
    }
   ],
   "source": [
    "stims = pd.read_csv('C:\\\\Users\\\\danne\\\\Dropbox\\\\Ilya_study\\\\Stimuli\\\\stims.csv')\n",
    "descr = pd.read_csv('C:\\\\Users\\\\danne\\\\Dropbox\\\\Ilya_study\\\\Analysis\\\\description.csv', index_col = 'Nums') # loading origin desription\n",
    "ims_names, prc_names, _ = import_names()\n",
    "infolder, outfolder = find_folder()\n",
    "data = load_pkl(outfolder, 'svm_prc_accuracy.pkl')\n",
    "data = np.array(data)\n",
    "conf_prc_df = pd.DataFrame(data[16,:50,:50], index=prc_names, columns=prc_names)\n",
    "\n",
    "\n",
    "\n",
    "recon_prc = Reconstruction(rc_conf_df=conf_prc_df, tr_conf_df=conf_prc_df, ims_df=stims, dims_n=20, image_size=(98,75,3))\n",
    "recon_prc.project_face_space(kind = 'custom').ims2lab().face_reconst(blow='both').lab2ims().distance_test()\n",
    "out = recon_prc.add_column_to_summary(descr, 'names')"
   ]
  },
  {
   "cell_type": "code",
   "execution_count": null,
   "metadata": {},
   "outputs": [],
   "source": []
  }
 ],
 "metadata": {
  "kernelspec": {
   "display_name": "Python 3",
   "language": "python",
   "name": "python3"
  },
  "language_info": {
   "codemirror_mode": {
    "name": "ipython",
    "version": 3
   },
   "file_extension": ".py",
   "mimetype": "text/x-python",
   "name": "python",
   "nbconvert_exporter": "python",
   "pygments_lexer": "ipython3",
   "version": "3.7.5"
  }
 },
 "nbformat": 4,
 "nbformat_minor": 4
}
