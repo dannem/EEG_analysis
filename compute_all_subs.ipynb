{
 "cells": [
  {
   "cell_type": "code",
   "execution_count": 1,
   "metadata": {},
   "outputs": [],
   "source": [
    "%reset -f\n",
    "\n",
    "import sys\n",
    "import mne\n",
    "import matplotlib.pyplot as plt\n",
    "import numpy as np\n",
    "import os.path as op\n",
    "import os\n",
    "import warnings\n",
    "warnings.filterwarnings('ignore')\n",
    "import pandas as pd\n",
    "from pathlib import Path, PurePath\n",
    "\n",
    "pick_ch=['P9','P7','P5','P3','PO7','PO3','O1','P10','P8','P6','P4','PO8','PO4','O2','POz','Pz']\n",
    "\n",
    "%run EEG_auxiliary_module.ipynb\n",
    "%run general_tools.ipynb\n",
    "mne.__version__\n",
    "mne.set_log_level(\"WARNING\")\n",
    "\n",
    "infolder, outfolder = find_folder()\n",
    "#outfolder = 'D:\\\\Ilya_study\\\\Analysis'\n",
    "subs = [3,4,5,6,7,8,9,10,11,12,13,14,15,16,17,18]\n",
    "subs = ['03','04','05','06','07','08','09','10','11','12','13','14','15','16','17','18']"
   ]
  },
  {
   "cell_type": "markdown",
   "metadata": {},
   "source": [
    "# Preprocessing"
   ]
  },
  {
   "cell_type": "markdown",
   "metadata": {},
   "source": [
    "### Running imagery preprocessing on all files"
   ]
  },
  {
   "cell_type": "code",
   "execution_count": null,
   "metadata": {},
   "outputs": [],
   "source": [
    "%run EEG_auxiliary_module.ipynb\n",
    "%run general_tools.ipynb\n",
    "subs = [3,4,5,6,7,8,9,10,11,12,13,14,15,16,17,18] #1 is absent, 2 has to be processed separately \n",
    "for i,sub in enumerate(subs):\n",
    "    update_progress(i/len(subs))\n",
    "    preprocess_all_imag(sub=sub, filt=(0.1,50), resample=256, im_times=(-0.1,5.6), \n",
    "                        dims=3, trials = 8, blocks = 12)\n",
    "    "
   ]
  },
  {
   "cell_type": "markdown",
   "metadata": {},
   "source": [
    "### Running perception preprocessing on all files"
   ]
  },
  {
   "cell_type": "code",
   "execution_count": 2,
   "metadata": {},
   "outputs": [
    {
     "name": "stdout",
     "output_type": "stream",
     "text": [
      "Progress: [###################-] 93.8%\n",
      "(4800, 64, 564)\n",
      "Overwriting existing file.\n",
      "Starting averaging\n",
      "No zscoring performed\n",
      "Overwriting existing file.\n"
     ]
    }
   ],
   "source": [
    "%run EEG_auxiliary_module.ipynb\n",
    "%run general_tools.ipynb\n",
    "subs = [3,4,5,6,7,8,9,10,11,12,13,14,15,16,17,18] #1 is absent, 2 has to be processed separately \n",
    "for i,sub in enumerate(subs):\n",
    "    update_progress(i/len(subs))\n",
    "    preprocess_all_perc(sub=sub, filt=(0.1,50), resample=256, im_times=(-0.1,1), \n",
    "                        dims=[1,2], trials = 4, blocks = 12)"
   ]
  },
  {
   "cell_type": "markdown",
   "metadata": {},
   "source": [
    "# Computing discrimination"
   ]
  },
  {
   "cell_type": "markdown",
   "metadata": {},
   "source": [
    "### Computing svm discrimination accuracy for perception"
   ]
  },
  {
   "cell_type": "code",
   "execution_count": 3,
   "metadata": {},
   "outputs": [
    {
     "name": "stdout",
     "output_type": "stream",
     "text": [
      "Progress: [#-------------------] 5.9%\n",
      "No PCA\n",
      "No fft\n"
     ]
    },
    {
     "ename": "KeyboardInterrupt",
     "evalue": "",
     "output_type": "error",
     "traceback": [
      "\u001b[1;31m---------------------------------------------------------------------------\u001b[0m",
      "\u001b[1;31mKeyboardInterrupt\u001b[0m                         Traceback (most recent call last)",
      "\u001b[1;32m<ipython-input-3-d32a7998fdb5>\u001b[0m in \u001b[0;36m<module>\u001b[1;34m\u001b[0m\n\u001b[0;32m     19\u001b[0m     \u001b[1;31m#X,Y = epochs_to_stft_features(outfolder, fname, step = 76, times = prc_time, pick_ch = pick_ch)\u001b[0m\u001b[1;33m\u001b[0m\u001b[1;33m\u001b[0m\u001b[1;33m\u001b[0m\u001b[0m\n\u001b[0;32m     20\u001b[0m     \u001b[1;31m#X,Y = epochs_to_morlet_features(fname,times = prc_time,pick_ch = pick_ch)\u001b[0m\u001b[1;33m\u001b[0m\u001b[1;33m\u001b[0m\u001b[1;33m\u001b[0m\u001b[0m\n\u001b[1;32m---> 21\u001b[1;33m     \u001b[0mconfusion\u001b[0m\u001b[1;33m,\u001b[0m \u001b[0mduration\u001b[0m \u001b[1;33m=\u001b[0m \u001b[0mrun_eeg_svm\u001b[0m\u001b[1;33m(\u001b[0m\u001b[0mX\u001b[0m\u001b[1;33m,\u001b[0m \u001b[0mY\u001b[0m\u001b[1;33m,\u001b[0m \u001b[0mcv\u001b[0m\u001b[1;33m)\u001b[0m\u001b[1;33m\u001b[0m\u001b[1;33m\u001b[0m\u001b[0m\n\u001b[0m\u001b[0;32m     22\u001b[0m     \u001b[0mresults\u001b[0m\u001b[1;33m.\u001b[0m\u001b[0mappend\u001b[0m\u001b[1;33m(\u001b[0m\u001b[0mconfusion\u001b[0m\u001b[1;33m)\u001b[0m\u001b[1;33m\u001b[0m\u001b[1;33m\u001b[0m\u001b[0m\n\u001b[0;32m     23\u001b[0m     \u001b[0mdurs\u001b[0m\u001b[1;33m.\u001b[0m\u001b[0mappend\u001b[0m\u001b[1;33m(\u001b[0m\u001b[0mduration\u001b[0m\u001b[1;33m)\u001b[0m\u001b[1;33m\u001b[0m\u001b[1;33m\u001b[0m\u001b[0m\n",
      "\u001b[1;32m<ipython-input-3-fd59e70de201>\u001b[0m in \u001b[0;36mrun_eeg_svm\u001b[1;34m(X, Y, cv, aver_n_trials, n_pca, fft)\u001b[0m\n\u001b[0;32m     50\u001b[0m         \u001b[1;32mif\u001b[0m \u001b[0maver_n_trials\u001b[0m\u001b[1;33m:\u001b[0m\u001b[1;33m\u001b[0m\u001b[1;33m\u001b[0m\u001b[0m\n\u001b[0;32m     51\u001b[0m             \u001b[0mX\u001b[0m\u001b[1;33m,\u001b[0m\u001b[0mY\u001b[0m\u001b[1;33m=\u001b[0m\u001b[0maver_trials_2D_mat\u001b[0m\u001b[1;33m(\u001b[0m\u001b[0mX\u001b[0m\u001b[1;33m,\u001b[0m\u001b[0mY\u001b[0m\u001b[1;33m,\u001b[0m\u001b[0maver_n_trials\u001b[0m\u001b[1;33m)\u001b[0m\u001b[1;33m\u001b[0m\u001b[1;33m\u001b[0m\u001b[0m\n\u001b[1;32m---> 52\u001b[1;33m         \u001b[0mscores\u001b[0m \u001b[1;33m=\u001b[0m \u001b[0mcross_val_score\u001b[0m\u001b[1;33m(\u001b[0m\u001b[0mclf\u001b[0m\u001b[1;33m,\u001b[0m \u001b[0mX\u001b[0m\u001b[1;33m,\u001b[0m \u001b[0mY\u001b[0m\u001b[1;33m,\u001b[0m \u001b[0mcv\u001b[0m\u001b[1;33m=\u001b[0m\u001b[0mcv\u001b[0m\u001b[1;33m,\u001b[0m \u001b[0mscoring\u001b[0m\u001b[1;33m=\u001b[0m\u001b[1;34m'accuracy'\u001b[0m\u001b[1;33m)\u001b[0m\u001b[1;33m\u001b[0m\u001b[1;33m\u001b[0m\u001b[0m\n\u001b[0m\u001b[0;32m     53\u001b[0m         \u001b[0mresults\u001b[0m\u001b[1;33m.\u001b[0m\u001b[0mappend\u001b[0m\u001b[1;33m(\u001b[0m\u001b[0mscores\u001b[0m\u001b[1;33m.\u001b[0m\u001b[0mmean\u001b[0m\u001b[1;33m(\u001b[0m\u001b[1;33m)\u001b[0m\u001b[1;33m)\u001b[0m\u001b[1;33m\u001b[0m\u001b[1;33m\u001b[0m\u001b[0m\n\u001b[0;32m     54\u001b[0m         \u001b[1;31m#update_progress(idx / nums)\u001b[0m\u001b[1;33m\u001b[0m\u001b[1;33m\u001b[0m\u001b[1;33m\u001b[0m\u001b[0m\n",
      "\u001b[1;32m~\\Anaconda3\\envs\\eeg_analysis\\lib\\site-packages\\sklearn\\model_selection\\_validation.py\u001b[0m in \u001b[0;36mcross_val_score\u001b[1;34m(estimator, X, y, groups, scoring, cv, n_jobs, verbose, fit_params, pre_dispatch, error_score)\u001b[0m\n\u001b[0;32m    389\u001b[0m                                 \u001b[0mfit_params\u001b[0m\u001b[1;33m=\u001b[0m\u001b[0mfit_params\u001b[0m\u001b[1;33m,\u001b[0m\u001b[1;33m\u001b[0m\u001b[1;33m\u001b[0m\u001b[0m\n\u001b[0;32m    390\u001b[0m                                 \u001b[0mpre_dispatch\u001b[0m\u001b[1;33m=\u001b[0m\u001b[0mpre_dispatch\u001b[0m\u001b[1;33m,\u001b[0m\u001b[1;33m\u001b[0m\u001b[1;33m\u001b[0m\u001b[0m\n\u001b[1;32m--> 391\u001b[1;33m                                 error_score=error_score)\n\u001b[0m\u001b[0;32m    392\u001b[0m     \u001b[1;32mreturn\u001b[0m \u001b[0mcv_results\u001b[0m\u001b[1;33m[\u001b[0m\u001b[1;34m'test_score'\u001b[0m\u001b[1;33m]\u001b[0m\u001b[1;33m\u001b[0m\u001b[1;33m\u001b[0m\u001b[0m\n\u001b[0;32m    393\u001b[0m \u001b[1;33m\u001b[0m\u001b[0m\n",
      "\u001b[1;32m~\\Anaconda3\\envs\\eeg_analysis\\lib\\site-packages\\sklearn\\model_selection\\_validation.py\u001b[0m in \u001b[0;36mcross_validate\u001b[1;34m(estimator, X, y, groups, scoring, cv, n_jobs, verbose, fit_params, pre_dispatch, return_train_score, return_estimator, error_score)\u001b[0m\n\u001b[0;32m    230\u001b[0m             \u001b[0mreturn_times\u001b[0m\u001b[1;33m=\u001b[0m\u001b[1;32mTrue\u001b[0m\u001b[1;33m,\u001b[0m \u001b[0mreturn_estimator\u001b[0m\u001b[1;33m=\u001b[0m\u001b[0mreturn_estimator\u001b[0m\u001b[1;33m,\u001b[0m\u001b[1;33m\u001b[0m\u001b[1;33m\u001b[0m\u001b[0m\n\u001b[0;32m    231\u001b[0m             error_score=error_score)\n\u001b[1;32m--> 232\u001b[1;33m         for train, test in cv.split(X, y, groups))\n\u001b[0m\u001b[0;32m    233\u001b[0m \u001b[1;33m\u001b[0m\u001b[0m\n\u001b[0;32m    234\u001b[0m     \u001b[0mzipped_scores\u001b[0m \u001b[1;33m=\u001b[0m \u001b[0mlist\u001b[0m\u001b[1;33m(\u001b[0m\u001b[0mzip\u001b[0m\u001b[1;33m(\u001b[0m\u001b[1;33m*\u001b[0m\u001b[0mscores\u001b[0m\u001b[1;33m)\u001b[0m\u001b[1;33m)\u001b[0m\u001b[1;33m\u001b[0m\u001b[1;33m\u001b[0m\u001b[0m\n",
      "\u001b[1;32m~\\Anaconda3\\envs\\eeg_analysis\\lib\\site-packages\\joblib\\parallel.py\u001b[0m in \u001b[0;36m__call__\u001b[1;34m(self, iterable)\u001b[0m\n\u001b[0;32m   1004\u001b[0m                 \u001b[0mself\u001b[0m\u001b[1;33m.\u001b[0m\u001b[0m_iterating\u001b[0m \u001b[1;33m=\u001b[0m \u001b[0mself\u001b[0m\u001b[1;33m.\u001b[0m\u001b[0m_original_iterator\u001b[0m \u001b[1;32mis\u001b[0m \u001b[1;32mnot\u001b[0m \u001b[1;32mNone\u001b[0m\u001b[1;33m\u001b[0m\u001b[1;33m\u001b[0m\u001b[0m\n\u001b[0;32m   1005\u001b[0m \u001b[1;33m\u001b[0m\u001b[0m\n\u001b[1;32m-> 1006\u001b[1;33m             \u001b[1;32mwhile\u001b[0m \u001b[0mself\u001b[0m\u001b[1;33m.\u001b[0m\u001b[0mdispatch_one_batch\u001b[0m\u001b[1;33m(\u001b[0m\u001b[0miterator\u001b[0m\u001b[1;33m)\u001b[0m\u001b[1;33m:\u001b[0m\u001b[1;33m\u001b[0m\u001b[1;33m\u001b[0m\u001b[0m\n\u001b[0m\u001b[0;32m   1007\u001b[0m                 \u001b[1;32mpass\u001b[0m\u001b[1;33m\u001b[0m\u001b[1;33m\u001b[0m\u001b[0m\n\u001b[0;32m   1008\u001b[0m \u001b[1;33m\u001b[0m\u001b[0m\n",
      "\u001b[1;32m~\\Anaconda3\\envs\\eeg_analysis\\lib\\site-packages\\joblib\\parallel.py\u001b[0m in \u001b[0;36mdispatch_one_batch\u001b[1;34m(self, iterator)\u001b[0m\n\u001b[0;32m    832\u001b[0m                 \u001b[1;32mreturn\u001b[0m \u001b[1;32mFalse\u001b[0m\u001b[1;33m\u001b[0m\u001b[1;33m\u001b[0m\u001b[0m\n\u001b[0;32m    833\u001b[0m             \u001b[1;32melse\u001b[0m\u001b[1;33m:\u001b[0m\u001b[1;33m\u001b[0m\u001b[1;33m\u001b[0m\u001b[0m\n\u001b[1;32m--> 834\u001b[1;33m                 \u001b[0mself\u001b[0m\u001b[1;33m.\u001b[0m\u001b[0m_dispatch\u001b[0m\u001b[1;33m(\u001b[0m\u001b[0mtasks\u001b[0m\u001b[1;33m)\u001b[0m\u001b[1;33m\u001b[0m\u001b[1;33m\u001b[0m\u001b[0m\n\u001b[0m\u001b[0;32m    835\u001b[0m                 \u001b[1;32mreturn\u001b[0m \u001b[1;32mTrue\u001b[0m\u001b[1;33m\u001b[0m\u001b[1;33m\u001b[0m\u001b[0m\n\u001b[0;32m    836\u001b[0m \u001b[1;33m\u001b[0m\u001b[0m\n",
      "\u001b[1;32m~\\Anaconda3\\envs\\eeg_analysis\\lib\\site-packages\\joblib\\parallel.py\u001b[0m in \u001b[0;36m_dispatch\u001b[1;34m(self, batch)\u001b[0m\n\u001b[0;32m    751\u001b[0m         \u001b[1;32mwith\u001b[0m \u001b[0mself\u001b[0m\u001b[1;33m.\u001b[0m\u001b[0m_lock\u001b[0m\u001b[1;33m:\u001b[0m\u001b[1;33m\u001b[0m\u001b[1;33m\u001b[0m\u001b[0m\n\u001b[0;32m    752\u001b[0m             \u001b[0mjob_idx\u001b[0m \u001b[1;33m=\u001b[0m \u001b[0mlen\u001b[0m\u001b[1;33m(\u001b[0m\u001b[0mself\u001b[0m\u001b[1;33m.\u001b[0m\u001b[0m_jobs\u001b[0m\u001b[1;33m)\u001b[0m\u001b[1;33m\u001b[0m\u001b[1;33m\u001b[0m\u001b[0m\n\u001b[1;32m--> 753\u001b[1;33m             \u001b[0mjob\u001b[0m \u001b[1;33m=\u001b[0m \u001b[0mself\u001b[0m\u001b[1;33m.\u001b[0m\u001b[0m_backend\u001b[0m\u001b[1;33m.\u001b[0m\u001b[0mapply_async\u001b[0m\u001b[1;33m(\u001b[0m\u001b[0mbatch\u001b[0m\u001b[1;33m,\u001b[0m \u001b[0mcallback\u001b[0m\u001b[1;33m=\u001b[0m\u001b[0mcb\u001b[0m\u001b[1;33m)\u001b[0m\u001b[1;33m\u001b[0m\u001b[1;33m\u001b[0m\u001b[0m\n\u001b[0m\u001b[0;32m    754\u001b[0m             \u001b[1;31m# A job can complete so quickly than its callback is\u001b[0m\u001b[1;33m\u001b[0m\u001b[1;33m\u001b[0m\u001b[1;33m\u001b[0m\u001b[0m\n\u001b[0;32m    755\u001b[0m             \u001b[1;31m# called before we get here, causing self._jobs to\u001b[0m\u001b[1;33m\u001b[0m\u001b[1;33m\u001b[0m\u001b[1;33m\u001b[0m\u001b[0m\n",
      "\u001b[1;32m~\\Anaconda3\\envs\\eeg_analysis\\lib\\site-packages\\joblib\\_parallel_backends.py\u001b[0m in \u001b[0;36mapply_async\u001b[1;34m(self, func, callback)\u001b[0m\n\u001b[0;32m    199\u001b[0m     \u001b[1;32mdef\u001b[0m \u001b[0mapply_async\u001b[0m\u001b[1;33m(\u001b[0m\u001b[0mself\u001b[0m\u001b[1;33m,\u001b[0m \u001b[0mfunc\u001b[0m\u001b[1;33m,\u001b[0m \u001b[0mcallback\u001b[0m\u001b[1;33m=\u001b[0m\u001b[1;32mNone\u001b[0m\u001b[1;33m)\u001b[0m\u001b[1;33m:\u001b[0m\u001b[1;33m\u001b[0m\u001b[1;33m\u001b[0m\u001b[0m\n\u001b[0;32m    200\u001b[0m         \u001b[1;34m\"\"\"Schedule a func to be run\"\"\"\u001b[0m\u001b[1;33m\u001b[0m\u001b[1;33m\u001b[0m\u001b[0m\n\u001b[1;32m--> 201\u001b[1;33m         \u001b[0mresult\u001b[0m \u001b[1;33m=\u001b[0m \u001b[0mImmediateResult\u001b[0m\u001b[1;33m(\u001b[0m\u001b[0mfunc\u001b[0m\u001b[1;33m)\u001b[0m\u001b[1;33m\u001b[0m\u001b[1;33m\u001b[0m\u001b[0m\n\u001b[0m\u001b[0;32m    202\u001b[0m         \u001b[1;32mif\u001b[0m \u001b[0mcallback\u001b[0m\u001b[1;33m:\u001b[0m\u001b[1;33m\u001b[0m\u001b[1;33m\u001b[0m\u001b[0m\n\u001b[0;32m    203\u001b[0m             \u001b[0mcallback\u001b[0m\u001b[1;33m(\u001b[0m\u001b[0mresult\u001b[0m\u001b[1;33m)\u001b[0m\u001b[1;33m\u001b[0m\u001b[1;33m\u001b[0m\u001b[0m\n",
      "\u001b[1;32m~\\Anaconda3\\envs\\eeg_analysis\\lib\\site-packages\\joblib\\_parallel_backends.py\u001b[0m in \u001b[0;36m__init__\u001b[1;34m(self, batch)\u001b[0m\n\u001b[0;32m    580\u001b[0m         \u001b[1;31m# Don't delay the application, to avoid keeping the input\u001b[0m\u001b[1;33m\u001b[0m\u001b[1;33m\u001b[0m\u001b[1;33m\u001b[0m\u001b[0m\n\u001b[0;32m    581\u001b[0m         \u001b[1;31m# arguments in memory\u001b[0m\u001b[1;33m\u001b[0m\u001b[1;33m\u001b[0m\u001b[1;33m\u001b[0m\u001b[0m\n\u001b[1;32m--> 582\u001b[1;33m         \u001b[0mself\u001b[0m\u001b[1;33m.\u001b[0m\u001b[0mresults\u001b[0m \u001b[1;33m=\u001b[0m \u001b[0mbatch\u001b[0m\u001b[1;33m(\u001b[0m\u001b[1;33m)\u001b[0m\u001b[1;33m\u001b[0m\u001b[1;33m\u001b[0m\u001b[0m\n\u001b[0m\u001b[0;32m    583\u001b[0m \u001b[1;33m\u001b[0m\u001b[0m\n\u001b[0;32m    584\u001b[0m     \u001b[1;32mdef\u001b[0m \u001b[0mget\u001b[0m\u001b[1;33m(\u001b[0m\u001b[0mself\u001b[0m\u001b[1;33m)\u001b[0m\u001b[1;33m:\u001b[0m\u001b[1;33m\u001b[0m\u001b[1;33m\u001b[0m\u001b[0m\n",
      "\u001b[1;32m~\\Anaconda3\\envs\\eeg_analysis\\lib\\site-packages\\joblib\\parallel.py\u001b[0m in \u001b[0;36m__call__\u001b[1;34m(self)\u001b[0m\n\u001b[0;32m    254\u001b[0m         \u001b[1;32mwith\u001b[0m \u001b[0mparallel_backend\u001b[0m\u001b[1;33m(\u001b[0m\u001b[0mself\u001b[0m\u001b[1;33m.\u001b[0m\u001b[0m_backend\u001b[0m\u001b[1;33m,\u001b[0m \u001b[0mn_jobs\u001b[0m\u001b[1;33m=\u001b[0m\u001b[0mself\u001b[0m\u001b[1;33m.\u001b[0m\u001b[0m_n_jobs\u001b[0m\u001b[1;33m)\u001b[0m\u001b[1;33m:\u001b[0m\u001b[1;33m\u001b[0m\u001b[1;33m\u001b[0m\u001b[0m\n\u001b[0;32m    255\u001b[0m             return [func(*args, **kwargs)\n\u001b[1;32m--> 256\u001b[1;33m                     for func, args, kwargs in self.items]\n\u001b[0m\u001b[0;32m    257\u001b[0m \u001b[1;33m\u001b[0m\u001b[0m\n\u001b[0;32m    258\u001b[0m     \u001b[1;32mdef\u001b[0m \u001b[0m__len__\u001b[0m\u001b[1;33m(\u001b[0m\u001b[0mself\u001b[0m\u001b[1;33m)\u001b[0m\u001b[1;33m:\u001b[0m\u001b[1;33m\u001b[0m\u001b[1;33m\u001b[0m\u001b[0m\n",
      "\u001b[1;32m~\\Anaconda3\\envs\\eeg_analysis\\lib\\site-packages\\joblib\\parallel.py\u001b[0m in \u001b[0;36m<listcomp>\u001b[1;34m(.0)\u001b[0m\n\u001b[0;32m    254\u001b[0m         \u001b[1;32mwith\u001b[0m \u001b[0mparallel_backend\u001b[0m\u001b[1;33m(\u001b[0m\u001b[0mself\u001b[0m\u001b[1;33m.\u001b[0m\u001b[0m_backend\u001b[0m\u001b[1;33m,\u001b[0m \u001b[0mn_jobs\u001b[0m\u001b[1;33m=\u001b[0m\u001b[0mself\u001b[0m\u001b[1;33m.\u001b[0m\u001b[0m_n_jobs\u001b[0m\u001b[1;33m)\u001b[0m\u001b[1;33m:\u001b[0m\u001b[1;33m\u001b[0m\u001b[1;33m\u001b[0m\u001b[0m\n\u001b[0;32m    255\u001b[0m             return [func(*args, **kwargs)\n\u001b[1;32m--> 256\u001b[1;33m                     for func, args, kwargs in self.items]\n\u001b[0m\u001b[0;32m    257\u001b[0m \u001b[1;33m\u001b[0m\u001b[0m\n\u001b[0;32m    258\u001b[0m     \u001b[1;32mdef\u001b[0m \u001b[0m__len__\u001b[0m\u001b[1;33m(\u001b[0m\u001b[0mself\u001b[0m\u001b[1;33m)\u001b[0m\u001b[1;33m:\u001b[0m\u001b[1;33m\u001b[0m\u001b[1;33m\u001b[0m\u001b[0m\n",
      "\u001b[1;32m~\\Anaconda3\\envs\\eeg_analysis\\lib\\site-packages\\sklearn\\model_selection\\_validation.py\u001b[0m in \u001b[0;36m_fit_and_score\u001b[1;34m(estimator, X, y, scorer, train, test, verbose, parameters, fit_params, return_train_score, return_parameters, return_n_test_samples, return_times, return_estimator, error_score)\u001b[0m\n\u001b[0;32m    514\u001b[0m             \u001b[0mestimator\u001b[0m\u001b[1;33m.\u001b[0m\u001b[0mfit\u001b[0m\u001b[1;33m(\u001b[0m\u001b[0mX_train\u001b[0m\u001b[1;33m,\u001b[0m \u001b[1;33m**\u001b[0m\u001b[0mfit_params\u001b[0m\u001b[1;33m)\u001b[0m\u001b[1;33m\u001b[0m\u001b[1;33m\u001b[0m\u001b[0m\n\u001b[0;32m    515\u001b[0m         \u001b[1;32melse\u001b[0m\u001b[1;33m:\u001b[0m\u001b[1;33m\u001b[0m\u001b[1;33m\u001b[0m\u001b[0m\n\u001b[1;32m--> 516\u001b[1;33m             \u001b[0mestimator\u001b[0m\u001b[1;33m.\u001b[0m\u001b[0mfit\u001b[0m\u001b[1;33m(\u001b[0m\u001b[0mX_train\u001b[0m\u001b[1;33m,\u001b[0m \u001b[0my_train\u001b[0m\u001b[1;33m,\u001b[0m \u001b[1;33m**\u001b[0m\u001b[0mfit_params\u001b[0m\u001b[1;33m)\u001b[0m\u001b[1;33m\u001b[0m\u001b[1;33m\u001b[0m\u001b[0m\n\u001b[0m\u001b[0;32m    517\u001b[0m \u001b[1;33m\u001b[0m\u001b[0m\n\u001b[0;32m    518\u001b[0m     \u001b[1;32mexcept\u001b[0m \u001b[0mException\u001b[0m \u001b[1;32mas\u001b[0m \u001b[0me\u001b[0m\u001b[1;33m:\u001b[0m\u001b[1;33m\u001b[0m\u001b[1;33m\u001b[0m\u001b[0m\n",
      "\u001b[1;32m~\\Anaconda3\\envs\\eeg_analysis\\lib\\site-packages\\sklearn\\svm\\base.py\u001b[0m in \u001b[0;36mfit\u001b[1;34m(self, X, y, sample_weight)\u001b[0m\n\u001b[0;32m    144\u001b[0m         X, y = check_X_y(X, y, dtype=np.float64,\n\u001b[0;32m    145\u001b[0m                          \u001b[0morder\u001b[0m\u001b[1;33m=\u001b[0m\u001b[1;34m'C'\u001b[0m\u001b[1;33m,\u001b[0m \u001b[0maccept_sparse\u001b[0m\u001b[1;33m=\u001b[0m\u001b[1;34m'csr'\u001b[0m\u001b[1;33m,\u001b[0m\u001b[1;33m\u001b[0m\u001b[1;33m\u001b[0m\u001b[0m\n\u001b[1;32m--> 146\u001b[1;33m                          accept_large_sparse=False)\n\u001b[0m\u001b[0;32m    147\u001b[0m         \u001b[0my\u001b[0m \u001b[1;33m=\u001b[0m \u001b[0mself\u001b[0m\u001b[1;33m.\u001b[0m\u001b[0m_validate_targets\u001b[0m\u001b[1;33m(\u001b[0m\u001b[0my\u001b[0m\u001b[1;33m)\u001b[0m\u001b[1;33m\u001b[0m\u001b[1;33m\u001b[0m\u001b[0m\n\u001b[0;32m    148\u001b[0m \u001b[1;33m\u001b[0m\u001b[0m\n",
      "\u001b[1;32m~\\Anaconda3\\envs\\eeg_analysis\\lib\\site-packages\\sklearn\\utils\\validation.py\u001b[0m in \u001b[0;36mcheck_X_y\u001b[1;34m(X, y, accept_sparse, accept_large_sparse, dtype, order, copy, force_all_finite, ensure_2d, allow_nd, multi_output, ensure_min_samples, ensure_min_features, y_numeric, warn_on_dtype, estimator)\u001b[0m\n\u001b[0;32m    717\u001b[0m                     \u001b[0mensure_min_features\u001b[0m\u001b[1;33m=\u001b[0m\u001b[0mensure_min_features\u001b[0m\u001b[1;33m,\u001b[0m\u001b[1;33m\u001b[0m\u001b[1;33m\u001b[0m\u001b[0m\n\u001b[0;32m    718\u001b[0m                     \u001b[0mwarn_on_dtype\u001b[0m\u001b[1;33m=\u001b[0m\u001b[0mwarn_on_dtype\u001b[0m\u001b[1;33m,\u001b[0m\u001b[1;33m\u001b[0m\u001b[1;33m\u001b[0m\u001b[0m\n\u001b[1;32m--> 719\u001b[1;33m                     estimator=estimator)\n\u001b[0m\u001b[0;32m    720\u001b[0m     \u001b[1;32mif\u001b[0m \u001b[0mmulti_output\u001b[0m\u001b[1;33m:\u001b[0m\u001b[1;33m\u001b[0m\u001b[1;33m\u001b[0m\u001b[0m\n\u001b[0;32m    721\u001b[0m         y = check_array(y, 'csr', force_all_finite=True, ensure_2d=False,\n",
      "\u001b[1;32m~\\Anaconda3\\envs\\eeg_analysis\\lib\\site-packages\\sklearn\\utils\\validation.py\u001b[0m in \u001b[0;36mcheck_array\u001b[1;34m(array, accept_sparse, accept_large_sparse, dtype, order, copy, force_all_finite, ensure_2d, allow_nd, ensure_min_samples, ensure_min_features, warn_on_dtype, estimator)\u001b[0m\n\u001b[0;32m    540\u001b[0m         \u001b[1;32mif\u001b[0m \u001b[0mforce_all_finite\u001b[0m\u001b[1;33m:\u001b[0m\u001b[1;33m\u001b[0m\u001b[1;33m\u001b[0m\u001b[0m\n\u001b[0;32m    541\u001b[0m             _assert_all_finite(array,\n\u001b[1;32m--> 542\u001b[1;33m                                allow_nan=force_all_finite == 'allow-nan')\n\u001b[0m\u001b[0;32m    543\u001b[0m \u001b[1;33m\u001b[0m\u001b[0m\n\u001b[0;32m    544\u001b[0m     \u001b[1;32mif\u001b[0m \u001b[0mensure_min_samples\u001b[0m \u001b[1;33m>\u001b[0m \u001b[1;36m0\u001b[0m\u001b[1;33m:\u001b[0m\u001b[1;33m\u001b[0m\u001b[1;33m\u001b[0m\u001b[0m\n",
      "\u001b[1;32m~\\Anaconda3\\envs\\eeg_analysis\\lib\\site-packages\\sklearn\\utils\\validation.py\u001b[0m in \u001b[0;36m_assert_all_finite\u001b[1;34m(X, allow_nan)\u001b[0m\n\u001b[0;32m     47\u001b[0m     \u001b[1;31m# safely to reduce dtype induced overflows.\u001b[0m\u001b[1;33m\u001b[0m\u001b[1;33m\u001b[0m\u001b[1;33m\u001b[0m\u001b[0m\n\u001b[0;32m     48\u001b[0m     \u001b[0mis_float\u001b[0m \u001b[1;33m=\u001b[0m \u001b[0mX\u001b[0m\u001b[1;33m.\u001b[0m\u001b[0mdtype\u001b[0m\u001b[1;33m.\u001b[0m\u001b[0mkind\u001b[0m \u001b[1;32min\u001b[0m \u001b[1;34m'fc'\u001b[0m\u001b[1;33m\u001b[0m\u001b[1;33m\u001b[0m\u001b[0m\n\u001b[1;32m---> 49\u001b[1;33m     \u001b[1;32mif\u001b[0m \u001b[0mis_float\u001b[0m \u001b[1;32mand\u001b[0m \u001b[1;33m(\u001b[0m\u001b[0mnp\u001b[0m\u001b[1;33m.\u001b[0m\u001b[0misfinite\u001b[0m\u001b[1;33m(\u001b[0m\u001b[0m_safe_accumulator_op\u001b[0m\u001b[1;33m(\u001b[0m\u001b[0mnp\u001b[0m\u001b[1;33m.\u001b[0m\u001b[0msum\u001b[0m\u001b[1;33m,\u001b[0m \u001b[0mX\u001b[0m\u001b[1;33m)\u001b[0m\u001b[1;33m)\u001b[0m\u001b[1;33m)\u001b[0m\u001b[1;33m:\u001b[0m\u001b[1;33m\u001b[0m\u001b[1;33m\u001b[0m\u001b[0m\n\u001b[0m\u001b[0;32m     50\u001b[0m         \u001b[1;32mpass\u001b[0m\u001b[1;33m\u001b[0m\u001b[1;33m\u001b[0m\u001b[0m\n\u001b[0;32m     51\u001b[0m     \u001b[1;32melif\u001b[0m \u001b[0mis_float\u001b[0m\u001b[1;33m:\u001b[0m\u001b[1;33m\u001b[0m\u001b[1;33m\u001b[0m\u001b[0m\n",
      "\u001b[1;32m~\\Anaconda3\\envs\\eeg_analysis\\lib\\site-packages\\sklearn\\utils\\extmath.py\u001b[0m in \u001b[0;36m_safe_accumulator_op\u001b[1;34m(op, x, *args, **kwargs)\u001b[0m\n\u001b[0;32m    686\u001b[0m         \u001b[0mresult\u001b[0m \u001b[1;33m=\u001b[0m \u001b[0mop\u001b[0m\u001b[1;33m(\u001b[0m\u001b[0mx\u001b[0m\u001b[1;33m,\u001b[0m \u001b[1;33m*\u001b[0m\u001b[0margs\u001b[0m\u001b[1;33m,\u001b[0m \u001b[1;33m**\u001b[0m\u001b[0mkwargs\u001b[0m\u001b[1;33m,\u001b[0m \u001b[0mdtype\u001b[0m\u001b[1;33m=\u001b[0m\u001b[0mnp\u001b[0m\u001b[1;33m.\u001b[0m\u001b[0mfloat64\u001b[0m\u001b[1;33m)\u001b[0m\u001b[1;33m\u001b[0m\u001b[1;33m\u001b[0m\u001b[0m\n\u001b[0;32m    687\u001b[0m     \u001b[1;32melse\u001b[0m\u001b[1;33m:\u001b[0m\u001b[1;33m\u001b[0m\u001b[1;33m\u001b[0m\u001b[0m\n\u001b[1;32m--> 688\u001b[1;33m         \u001b[0mresult\u001b[0m \u001b[1;33m=\u001b[0m \u001b[0mop\u001b[0m\u001b[1;33m(\u001b[0m\u001b[0mx\u001b[0m\u001b[1;33m,\u001b[0m \u001b[1;33m*\u001b[0m\u001b[0margs\u001b[0m\u001b[1;33m,\u001b[0m \u001b[1;33m**\u001b[0m\u001b[0mkwargs\u001b[0m\u001b[1;33m)\u001b[0m\u001b[1;33m\u001b[0m\u001b[1;33m\u001b[0m\u001b[0m\n\u001b[0m\u001b[0;32m    689\u001b[0m     \u001b[1;32mreturn\u001b[0m \u001b[0mresult\u001b[0m\u001b[1;33m\u001b[0m\u001b[1;33m\u001b[0m\u001b[0m\n\u001b[0;32m    690\u001b[0m \u001b[1;33m\u001b[0m\u001b[0m\n",
      "\u001b[1;32m<__array_function__ internals>\u001b[0m in \u001b[0;36msum\u001b[1;34m(*args, **kwargs)\u001b[0m\n",
      "\u001b[1;32m~\\Anaconda3\\envs\\eeg_analysis\\lib\\site-packages\\numpy\\core\\fromnumeric.py\u001b[0m in \u001b[0;36msum\u001b[1;34m(a, axis, dtype, out, keepdims, initial, where)\u001b[0m\n\u001b[0;32m   2180\u001b[0m \u001b[1;33m\u001b[0m\u001b[0m\n\u001b[0;32m   2181\u001b[0m     return _wrapreduction(a, np.add, 'sum', axis, dtype, out, keepdims=keepdims,\n\u001b[1;32m-> 2182\u001b[1;33m                           initial=initial, where=where)\n\u001b[0m\u001b[0;32m   2183\u001b[0m \u001b[1;33m\u001b[0m\u001b[0m\n\u001b[0;32m   2184\u001b[0m \u001b[1;33m\u001b[0m\u001b[0m\n",
      "\u001b[1;32m~\\Anaconda3\\envs\\eeg_analysis\\lib\\site-packages\\numpy\\core\\fromnumeric.py\u001b[0m in \u001b[0;36m_wrapreduction\u001b[1;34m(obj, ufunc, method, axis, dtype, out, **kwargs)\u001b[0m\n\u001b[0;32m     88\u001b[0m                 \u001b[1;32mreturn\u001b[0m \u001b[0mreduction\u001b[0m\u001b[1;33m(\u001b[0m\u001b[0maxis\u001b[0m\u001b[1;33m=\u001b[0m\u001b[0maxis\u001b[0m\u001b[1;33m,\u001b[0m \u001b[0mout\u001b[0m\u001b[1;33m=\u001b[0m\u001b[0mout\u001b[0m\u001b[1;33m,\u001b[0m \u001b[1;33m**\u001b[0m\u001b[0mpasskwargs\u001b[0m\u001b[1;33m)\u001b[0m\u001b[1;33m\u001b[0m\u001b[1;33m\u001b[0m\u001b[0m\n\u001b[0;32m     89\u001b[0m \u001b[1;33m\u001b[0m\u001b[0m\n\u001b[1;32m---> 90\u001b[1;33m     \u001b[1;32mreturn\u001b[0m \u001b[0mufunc\u001b[0m\u001b[1;33m.\u001b[0m\u001b[0mreduce\u001b[0m\u001b[1;33m(\u001b[0m\u001b[0mobj\u001b[0m\u001b[1;33m,\u001b[0m \u001b[0maxis\u001b[0m\u001b[1;33m,\u001b[0m \u001b[0mdtype\u001b[0m\u001b[1;33m,\u001b[0m \u001b[0mout\u001b[0m\u001b[1;33m,\u001b[0m \u001b[1;33m**\u001b[0m\u001b[0mpasskwargs\u001b[0m\u001b[1;33m)\u001b[0m\u001b[1;33m\u001b[0m\u001b[1;33m\u001b[0m\u001b[0m\n\u001b[0m\u001b[0;32m     91\u001b[0m \u001b[1;33m\u001b[0m\u001b[0m\n\u001b[0;32m     92\u001b[0m \u001b[1;33m\u001b[0m\u001b[0m\n",
      "\u001b[1;31mKeyboardInterrupt\u001b[0m: "
     ]
    }
   ],
   "source": [
    "%run general_tools.ipynb\n",
    "%run EEG_auxiliary_module.ipynb\n",
    "%run make_features.ipynb\n",
    "import numpy as np\n",
    "subs = [2,3,4,5,6,7,8,9,10,11,12,13,14,15,16,17,18]\n",
    "prc_time = (0.05,0.65)\n",
    "data=list()\n",
    "labels = list()\n",
    "results=[]# Loading first S02 session\n",
    "durs=[]\n",
    "dictr = {\"svm_prc_accuracy.pkl\":results, \n",
    "        \"svm_prc_duration.pkl\":durs}\n",
    "for i,j in enumerate(subs):\n",
    "    update_progress(i/len(subs))\n",
    "    fname = PurePath(outfolder,'S'+str(j).zfill(2)+'_perc_aver-epo.fif')\n",
    "    epochs = mne.read_epochs(fname)\n",
    "    cv=len(epochs['101'])\n",
    "    X, Y = convert_epochs_to_2D_array(epochs, times = prc_time, pick_ch=pick_ch)\n",
    "    #X,Y = epochs_to_stft_features(outfolder, fname, step = 76, times = prc_time, pick_ch = pick_ch)\n",
    "    #X,Y = epochs_to_morlet_features(fname,times = prc_time,pick_ch = pick_ch)\n",
    "    confusion, duration = run_eeg_svm(X, Y, cv)\n",
    "    results.append(confusion)\n",
    "    durs.append(duration)\n",
    "    save_all_pickle(outfolder,dictr = dictr)\n",
    "    fname = op.join(outfolder,'conf_mat_perc_'+str(j).zfill(2)+'.csv')\n",
    "    np.savetxt(fname, confusion, delimiter=',')\n"
   ]
  },
  {
   "cell_type": "markdown",
   "metadata": {},
   "source": [
    "### Computing svm discrimination accuracy for imagery"
   ]
  },
  {
   "cell_type": "code",
   "execution_count": 2,
   "metadata": {},
   "outputs": [
    {
     "name": "stdout",
     "output_type": "stream",
     "text": [
      "Progress: [####################] 99.0%\n",
      "No PCA\n",
      "No fft\n",
      "The overall accuracy is 59.6 and the duration is 0.2 minutes\n"
     ]
    },
    {
     "data": {
      "text/plain": [
       "1"
      ]
     },
     "execution_count": 2,
     "metadata": {},
     "output_type": "execute_result"
    }
   ],
   "source": [
    "%run general_tools.ipynb\n",
    "%run EEG_auxiliary_module.ipynb\n",
    "outfolder = 'D:\\\\Ilya_study\\\\Analysis'\n",
    "subs = [2,3,4,5,6,7,8,9,10,11,12,13,14,15,16,17,18]\n",
    "times = [(0.6,1.6),(1.6,2.6),(2.6,3.6),(3.6,4.6),(4.6,5.6),(0.6,5.6)]\n",
    "data=list()\n",
    "labels = list()\n",
    "results=[]\n",
    "durs=[]\n",
    "dictr = {op.join(outfolder,\"svm_img_accuracy.pkl\"):results, op.join(outfolder,\"svm_img_duration.pkl\"):durs}\n",
    "for k,time in enumerate(times):\n",
    "    res = []\n",
    "    dur = []\n",
    "    for i,j in enumerate(subs):\n",
    "        update_progress((k*len(subs)+i)/(len(subs)*len(times)))\n",
    "        fname = op.join(outfolder,'S'+str(j).zfill(2)+'_imag_aver-epo.fif')\n",
    "        epochs = mne.read_epochs(fname)\n",
    "        cv=len(epochs['31'])\n",
    "        X, Y = convert_epochs_to_2D_array(epochs, times = time)\n",
    "        confusion, duration = run_eeg_svm(X, Y, cv)\n",
    "        res.append(confusion)\n",
    "        dur.append(duration)  \n",
    "    results.append(res)\n",
    "    durs.append(dur)\n",
    "    save_all_pickle(dictr = dictr)\n",
    "    #fname = op.join(outfolder,'conf_mat_imag_'+str(j).zfill(2)+'.csv')\n",
    "    #np.savetxt(fname, confusion, delimiter=',')\n",
    "os.system('say \"your program has finished\"')"
   ]
  },
  {
   "cell_type": "markdown",
   "metadata": {},
   "source": [
    "# Preparing summary table"
   ]
  },
  {
   "cell_type": "markdown",
   "metadata": {},
   "source": [
    "### Perception discrimination"
   ]
  },
  {
   "cell_type": "code",
   "execution_count": 5,
   "metadata": {},
   "outputs": [
    {
     "data": {
      "text/plain": [
       "up-unf     0.571499\n",
       "up-fam     0.546133\n",
       "inv-unf    0.597040\n",
       "inv-fam    0.568196\n",
       "up         0.560729\n",
       "inv        0.583559\n",
       "up-5       0.555348\n",
       "inv-5      0.578186\n",
       "dtype: float64"
      ]
     },
     "execution_count": 5,
     "metadata": {},
     "output_type": "execute_result"
    }
   ],
   "source": [
    "# loading pickle file\n",
    "import pickle\n",
    "import os.path as op\n",
    "from scipy.spatial.distance import squareform\n",
    "import numpy as np\n",
    "import pandas as pd\n",
    "%run general_tools.ipynb\n",
    "infolder, outfolder = find_folder()\n",
    "outfolder = 'D:\\\\Ilya_study\\\\Analysis'\n",
    "subs = [2,3,4,5,6,7,8,9,10,11,12,13,14,15,16,17,18]\n",
    "%run EEG_auxiliary_module.ipynb\n",
    "# fname = op.join(outfolder,'svm_prc_accuracy.pkl')\n",
    "# infile = open(fname,'rb')\n",
    "# data = pickle.load(infile)\n",
    "# infile.close()\n",
    "data = results\n",
    "data = np.array(data)\n",
    "lbls = ['up-unf','up-fam','inv-unf','inv-fam','up','inv','up-5','inv-5']\n",
    "select_up = []\n",
    "select_in = []\n",
    "mat = []\n",
    "for i in range(data.shape[0]):\n",
    "    line = []\n",
    "    line.append(np.mean(squareform(data[i,:25,:25])))\n",
    "    line.append(np.mean(squareform(data[i,25:50,25:50])))\n",
    "    line.append(np.mean(squareform(data[i,50:75,50:75])))\n",
    "    line.append(np.mean(squareform(data[i,75:100,75:100])))\n",
    "    line.append(np.mean(squareform(data[i,:50,:50])))\n",
    "    line.append(np.mean(squareform(data[i,50:100,50:100])))\n",
    "    select_up.append(squareform(isolate_perc_5(data[i,:50,:50])))\n",
    "    select_in.append(squareform(isolate_perc_5(data[i,50:,50:])))\n",
    "    line.append(np.mean(squareform(isolate_perc_5(data[i,:50,:50]))))\n",
    "    line.append(np.mean(squareform(isolate_perc_5(data[i,50:,50:]))))\n",
    "    mat.append(line)\n",
    "mat = np.array(mat)\n",
    "mat = pd.DataFrame(mat, columns=lbls)\n",
    "select = pd.DataFrame(np.vstack((np.array(select_up),np.array(select_in))))\n",
    "select = select.assign(kind = ['up']*len(subs)+['in']*len(subs), subs = subs*2) \n",
    "#select.to_csv(op.join(outfolder,'selected_perc.csv'))\n",
    "mat.to_clipboard()\n",
    "mat.mean()"
   ]
  },
  {
   "cell_type": "markdown",
   "metadata": {},
   "source": [
    "### Imagery discrimination"
   ]
  },
  {
   "cell_type": "code",
   "execution_count": 61,
   "metadata": {},
   "outputs": [],
   "source": [
    "# loading pickle file\n",
    "from scipy.spatial.distance import squareform\n",
    "import numpy as np\n",
    "import pandas as pd\n",
    "from scipy.spatial.distance import squareform\n",
    "\n",
    "labels = ['1','2','3','4','5','all']\n",
    "mat = img_data.copy()\n",
    "subs = [2,3,4,5,6,7,8,9,10,11,12,13,14,15,16,17,18]\n",
    "\n",
    "def make_data_frame(labels,mat,subs):\n",
    "    import pandas as  pd\n",
    "    mat = mat.reshape((mat.shape[0]*mat.shape[1],mat.shape[2]))\n",
    "    mat = pd.DataFrame(mat)\n",
    "    mat = mat.assign(kind = [item for item in labels for i in range(data.shape[1])],\n",
    "                    subs = subs*len(labels))\n",
    "    return mat\n",
    "\n",
    "%run general_tools.ipynb\n",
    "infolder, outfolder = find_folder()\n",
    "\n",
    "data = load_pkl(outfolder,'svm_img_accuracy.pkl')\n",
    "data = np.array(data)\n",
    "out = [];\n",
    "for i in range(data.shape[0]):\n",
    "    temp = []\n",
    "    for j in range(data.shape[1]):\n",
    "        temp.append(squareform(data[i,j,:,:]))\n",
    "    out.append(temp)\n",
    "out = np.array(out)\n",
    "df_imag = make_data_frame(labels,out,subs)\n",
    "df_imag.to_csv(outfolder+'\\\\selected_img.csv')\n",
    "out = np.mean(out,2).transpose()\n",
    "out = pd.DataFrame(out, columns=labels)\n",
    "out.to_clipboard()"
   ]
  },
  {
   "cell_type": "markdown",
   "metadata": {},
   "source": [
    "# Pairwise data analysis"
   ]
  },
  {
   "cell_type": "markdown",
   "metadata": {},
   "source": [
    "### Preparing data frame with all the pairwise accuracies"
   ]
  },
  {
   "cell_type": "code",
   "execution_count": 53,
   "metadata": {},
   "outputs": [
    {
     "data": {
      "text/html": [
       "<div>\n",
       "<style scoped>\n",
       "    .dataframe tbody tr th:only-of-type {\n",
       "        vertical-align: middle;\n",
       "    }\n",
       "\n",
       "    .dataframe tbody tr th {\n",
       "        vertical-align: top;\n",
       "    }\n",
       "\n",
       "    .dataframe thead th {\n",
       "        text-align: right;\n",
       "    }\n",
       "</style>\n",
       "<table border=\"1\" class=\"dataframe\">\n",
       "  <thead>\n",
       "    <tr style=\"text-align: right;\">\n",
       "      <th></th>\n",
       "      <th>up_S02</th>\n",
       "      <th>up_S03</th>\n",
       "      <th>up_S04</th>\n",
       "      <th>up_S05</th>\n",
       "      <th>up_S06</th>\n",
       "      <th>up_S07</th>\n",
       "      <th>up_S08</th>\n",
       "      <th>up_S09</th>\n",
       "      <th>up_S10</th>\n",
       "      <th>up_S11</th>\n",
       "      <th>...</th>\n",
       "      <th>inv_S11</th>\n",
       "      <th>inv_S12</th>\n",
       "      <th>inv_S13</th>\n",
       "      <th>inv_S14</th>\n",
       "      <th>inv_S15</th>\n",
       "      <th>inv_S16</th>\n",
       "      <th>inv_S17</th>\n",
       "      <th>inv_S18</th>\n",
       "      <th>familiarity</th>\n",
       "      <th>TO</th>\n",
       "    </tr>\n",
       "  </thead>\n",
       "  <tbody>\n",
       "    <tr>\n",
       "      <th>0</th>\n",
       "      <td>0.318182</td>\n",
       "      <td>0.541667</td>\n",
       "      <td>0.500000</td>\n",
       "      <td>0.375000</td>\n",
       "      <td>0.416667</td>\n",
       "      <td>0.583333</td>\n",
       "      <td>0.541667</td>\n",
       "      <td>0.416667</td>\n",
       "      <td>0.458333</td>\n",
       "      <td>0.500000</td>\n",
       "      <td>...</td>\n",
       "      <td>0.541667</td>\n",
       "      <td>0.500000</td>\n",
       "      <td>0.416667</td>\n",
       "      <td>0.666667</td>\n",
       "      <td>0.416667</td>\n",
       "      <td>0.375000</td>\n",
       "      <td>0.708333</td>\n",
       "      <td>0.583333</td>\n",
       "      <td>unf</td>\n",
       "      <td>5041.518918</td>\n",
       "    </tr>\n",
       "    <tr>\n",
       "      <th>1</th>\n",
       "      <td>0.500000</td>\n",
       "      <td>0.333333</td>\n",
       "      <td>0.625000</td>\n",
       "      <td>0.583333</td>\n",
       "      <td>0.541667</td>\n",
       "      <td>0.500000</td>\n",
       "      <td>0.541667</td>\n",
       "      <td>0.375000</td>\n",
       "      <td>0.458333</td>\n",
       "      <td>0.583333</td>\n",
       "      <td>...</td>\n",
       "      <td>0.291667</td>\n",
       "      <td>0.416667</td>\n",
       "      <td>0.625000</td>\n",
       "      <td>0.541667</td>\n",
       "      <td>0.625000</td>\n",
       "      <td>0.541667</td>\n",
       "      <td>0.583333</td>\n",
       "      <td>0.541667</td>\n",
       "      <td>unf</td>\n",
       "      <td>5759.484439</td>\n",
       "    </tr>\n",
       "    <tr>\n",
       "      <th>2</th>\n",
       "      <td>0.318182</td>\n",
       "      <td>0.666667</td>\n",
       "      <td>0.666667</td>\n",
       "      <td>0.708333</td>\n",
       "      <td>0.375000</td>\n",
       "      <td>0.458333</td>\n",
       "      <td>0.500000</td>\n",
       "      <td>0.583333</td>\n",
       "      <td>0.541667</td>\n",
       "      <td>0.333333</td>\n",
       "      <td>...</td>\n",
       "      <td>0.333333</td>\n",
       "      <td>0.541667</td>\n",
       "      <td>0.500000</td>\n",
       "      <td>0.583333</td>\n",
       "      <td>0.458333</td>\n",
       "      <td>0.500000</td>\n",
       "      <td>0.583333</td>\n",
       "      <td>0.458333</td>\n",
       "      <td>unf</td>\n",
       "      <td>5575.778421</td>\n",
       "    </tr>\n",
       "    <tr>\n",
       "      <th>3</th>\n",
       "      <td>0.409091</td>\n",
       "      <td>0.458333</td>\n",
       "      <td>0.583333</td>\n",
       "      <td>0.583333</td>\n",
       "      <td>0.708333</td>\n",
       "      <td>0.458333</td>\n",
       "      <td>0.375000</td>\n",
       "      <td>0.583333</td>\n",
       "      <td>0.625000</td>\n",
       "      <td>0.708333</td>\n",
       "      <td>...</td>\n",
       "      <td>0.375000</td>\n",
       "      <td>0.458333</td>\n",
       "      <td>0.541667</td>\n",
       "      <td>0.583333</td>\n",
       "      <td>0.541667</td>\n",
       "      <td>0.541667</td>\n",
       "      <td>0.666667</td>\n",
       "      <td>0.708333</td>\n",
       "      <td>unf</td>\n",
       "      <td>4906.270580</td>\n",
       "    </tr>\n",
       "    <tr>\n",
       "      <th>4</th>\n",
       "      <td>0.454545</td>\n",
       "      <td>0.458333</td>\n",
       "      <td>0.375000</td>\n",
       "      <td>0.541667</td>\n",
       "      <td>0.458333</td>\n",
       "      <td>0.375000</td>\n",
       "      <td>0.541667</td>\n",
       "      <td>0.625000</td>\n",
       "      <td>0.416667</td>\n",
       "      <td>0.750000</td>\n",
       "      <td>...</td>\n",
       "      <td>0.416667</td>\n",
       "      <td>0.291667</td>\n",
       "      <td>0.541667</td>\n",
       "      <td>0.500000</td>\n",
       "      <td>0.500000</td>\n",
       "      <td>0.583333</td>\n",
       "      <td>0.500000</td>\n",
       "      <td>0.666667</td>\n",
       "      <td>unf</td>\n",
       "      <td>4949.899090</td>\n",
       "    </tr>\n",
       "  </tbody>\n",
       "</table>\n",
       "<p>5 rows × 36 columns</p>\n",
       "</div>"
      ],
      "text/plain": [
       "     up_S02    up_S03    up_S04    up_S05    up_S06    up_S07    up_S08  \\\n",
       "0  0.318182  0.541667  0.500000  0.375000  0.416667  0.583333  0.541667   \n",
       "1  0.500000  0.333333  0.625000  0.583333  0.541667  0.500000  0.541667   \n",
       "2  0.318182  0.666667  0.666667  0.708333  0.375000  0.458333  0.500000   \n",
       "3  0.409091  0.458333  0.583333  0.583333  0.708333  0.458333  0.375000   \n",
       "4  0.454545  0.458333  0.375000  0.541667  0.458333  0.375000  0.541667   \n",
       "\n",
       "     up_S09    up_S10    up_S11  ...   inv_S11   inv_S12   inv_S13   inv_S14  \\\n",
       "0  0.416667  0.458333  0.500000  ...  0.541667  0.500000  0.416667  0.666667   \n",
       "1  0.375000  0.458333  0.583333  ...  0.291667  0.416667  0.625000  0.541667   \n",
       "2  0.583333  0.541667  0.333333  ...  0.333333  0.541667  0.500000  0.583333   \n",
       "3  0.583333  0.625000  0.708333  ...  0.375000  0.458333  0.541667  0.583333   \n",
       "4  0.625000  0.416667  0.750000  ...  0.416667  0.291667  0.541667  0.500000   \n",
       "\n",
       "    inv_S15   inv_S16   inv_S17   inv_S18  familiarity           TO  \n",
       "0  0.416667  0.375000  0.708333  0.583333          unf  5041.518918  \n",
       "1  0.625000  0.541667  0.583333  0.541667          unf  5759.484439  \n",
       "2  0.458333  0.500000  0.583333  0.458333          unf  5575.778421  \n",
       "3  0.541667  0.541667  0.666667  0.708333          unf  4906.270580  \n",
       "4  0.500000  0.583333  0.500000  0.666667          unf  4949.899090  \n",
       "\n",
       "[5 rows x 36 columns]"
      ]
     },
     "execution_count": 53,
     "metadata": {},
     "output_type": "execute_result"
    }
   ],
   "source": [
    "# loading discrimination matrices\n",
    "import os.path as op\n",
    "%run general_tools.ipynb\n",
    "infolder, outfolder = find_folder()\n",
    "import pickle\n",
    "import numpy as np\n",
    "from scipy.spatial.distance import pdist, squareform\n",
    "import pandas as pd\n",
    "\n",
    "subs = [2,3,4,5,6,7,8,9,10,11,12,13,14,15,16,17,18]\n",
    "fname = op.join(outfolder,'svm_prc_accuracy.pkl')\n",
    "infile = open(fname,'rb')\n",
    "data = pickle.load(infile)\n",
    "infile.close()\n",
    "data = np.array(data)\n",
    "up = []\n",
    "inv = []\n",
    "for i in range(data.shape[0]):\n",
    "    up.append(squareform(data[i,:50,:50]))\n",
    "    inv.append(squareform(data[i,50:,50:]))\n",
    "up = np.array(up).transpose()\n",
    "inv = np.array(inv).transpose()\n",
    "columns = ['up_S'+str(j).zfill(2) for j in subs]\n",
    "columns = [*columns, *['inv_S'+str(j).zfill(2) for j in subs]]\n",
    "disc = pd.DataFrame(np.hstack((up,inv)),columns = columns)\n",
    "\n",
    "# adding the familiarity index\n",
    "import itertools\n",
    "%run EEG_auxiliary_module.ipynb\n",
    "c = list(itertools.combinations(np.arange(50),2))\n",
    "b = find_index_combs(np.arange(25),c)\n",
    "d = find_index_combs(np.arange(25,50),c)    \n",
    "vec = np.zeros(len(c)) \n",
    "vec[b] = 1\n",
    "vec[d] = 2\n",
    "disc = disc.assign(familiarity = vec)\n",
    "disc[\"familiarity\"].replace({0: \"mixed\", 1:'unf',2:'fam'}, inplace=True)\n",
    "\n",
    "# adding theoretical observer\n",
    "data = load_pkl('C:\\\\Users\\\\nemrodov\\\\Dropbox\\\\Ilya_study\\\\Stimuli','stims.pkl')\n",
    "im_list = [x.flatten() for x in data]\n",
    "im_list = np.array(im_list)\n",
    "disc = disc.assign(TO = pdist(im_list, 'euclidean'))\n",
    "\n",
    "# averaging upright and inverted excluding S16\n",
    "subs = [2,3,4,5,6,7,8,9,10,11,12,13,14,15,17,18] # no S16\n",
    "disc['upright'] = disc[['up_S'+str(j).zfill(2) for j in subs]].mean(1)\n",
    "disc['inverted'] = disc[['inv_S'+str(j).zfill(2) for j in subs]].mean(1)\n",
    "\n",
    "disc.head()"
   ]
  },
  {
   "cell_type": "markdown",
   "metadata": {},
   "source": [
    "### Correlations "
   ]
  },
  {
   "cell_type": "markdown",
   "metadata": {},
   "source": [
    "#### Overall"
   ]
  },
  {
   "cell_type": "code",
   "execution_count": 88,
   "metadata": {},
   "outputs": [
    {
     "name": "stdout",
     "output_type": "stream",
     "text": [
      "           upright  inverted        TO\n",
      "upright   1.000000  0.440904 -0.013724\n",
      "inverted  0.440904  1.000000  0.018451\n",
      "TO       -0.013724  0.018451  1.000000\n",
      "               upright      inverted        TO\n",
      "upright   1.000000e+00  2.021173e-59  0.631324\n",
      "inverted  2.021173e-59  1.000000e+00  0.518810\n",
      "TO        6.313240e-01  5.188101e-01  1.000000\n"
     ]
    }
   ],
   "source": [
    "%run general_tools.ipynb\n",
    "\n",
    "print(disc[['upright','inverted','TO']].corr())\n",
    "print(disc[['upright','inverted','TO']].corr(method=pearsonr_pval))"
   ]
  },
  {
   "cell_type": "markdown",
   "metadata": {},
   "source": [
    "#### Separately for unfamiliar and famous"
   ]
  },
  {
   "cell_type": "code",
   "execution_count": 89,
   "metadata": {},
   "outputs": [
    {
     "name": "stdout",
     "output_type": "stream",
     "text": [
      "                       upright  inverted        TO\n",
      "familiarity                                       \n",
      "fam         upright   1.000000  0.199819  0.144360\n",
      "            inverted  0.199819  1.000000  0.019077\n",
      "            TO        0.144360  0.019077  1.000000\n",
      "unf         upright   1.000000  0.510832 -0.155017\n",
      "            inverted  0.510832  1.000000  0.029028\n",
      "            TO       -0.155017  0.029028  1.000000\n",
      "                           upright      inverted        TO\n",
      "familiarity                                               \n",
      "fam         upright   1.000000e+00  4.982405e-04  0.012312\n",
      "            inverted  4.982405e-04  1.000000e+00  0.742097\n",
      "            TO        1.231225e-02  7.420965e-01  1.000000\n",
      "unf         upright   1.000000e+00  2.424532e-21  0.007144\n",
      "            inverted  2.424532e-21  1.000000e+00  0.616521\n",
      "            TO        7.144122e-03  6.165211e-01  1.000000\n"
     ]
    }
   ],
   "source": [
    "%run general_tools.ipynb\n",
    "\n",
    "print(disc[disc.apply(lambda x: x['familiarity']!='mixed',axis=1)]\n",
    "      .groupby('familiarity')[['upright','inverted','TO']].corr())\n",
    "\n",
    "print(disc[disc.apply(lambda x: x['familiarity']!='mixed',axis=1)]\n",
    "      .groupby('familiarity')[['upright','inverted','TO']].corr(method=pearsonr_pval))"
   ]
  },
  {
   "cell_type": "markdown",
   "metadata": {},
   "source": [
    "#### Between imagery and perception"
   ]
  },
  {
   "cell_type": "code",
   "execution_count": 13,
   "metadata": {},
   "outputs": [
    {
     "data": {
      "text/html": [
       "<div>\n",
       "<style scoped>\n",
       "    .dataframe tbody tr th:only-of-type {\n",
       "        vertical-align: middle;\n",
       "    }\n",
       "\n",
       "    .dataframe tbody tr th {\n",
       "        vertical-align: top;\n",
       "    }\n",
       "\n",
       "    .dataframe thead th {\n",
       "        text-align: right;\n",
       "    }\n",
       "</style>\n",
       "<table border=\"1\" class=\"dataframe\">\n",
       "  <thead>\n",
       "    <tr style=\"text-align: right;\">\n",
       "      <th>kind</th>\n",
       "      <th>1</th>\n",
       "      <th>2</th>\n",
       "      <th>3</th>\n",
       "      <th>4</th>\n",
       "      <th>5</th>\n",
       "      <th>all</th>\n",
       "      <th>in</th>\n",
       "      <th>up</th>\n",
       "    </tr>\n",
       "    <tr>\n",
       "      <th>kind</th>\n",
       "      <th></th>\n",
       "      <th></th>\n",
       "      <th></th>\n",
       "      <th></th>\n",
       "      <th></th>\n",
       "      <th></th>\n",
       "      <th></th>\n",
       "      <th></th>\n",
       "    </tr>\n",
       "  </thead>\n",
       "  <tbody>\n",
       "    <tr>\n",
       "      <th>1</th>\n",
       "      <td>1.000000</td>\n",
       "      <td>0.083683</td>\n",
       "      <td>0.116383</td>\n",
       "      <td>0.445641</td>\n",
       "      <td>-0.026559</td>\n",
       "      <td>0.552261</td>\n",
       "      <td>-0.195125</td>\n",
       "      <td>0.313028</td>\n",
       "    </tr>\n",
       "    <tr>\n",
       "      <th>2</th>\n",
       "      <td>0.083683</td>\n",
       "      <td>1.000000</td>\n",
       "      <td>0.302968</td>\n",
       "      <td>0.193406</td>\n",
       "      <td>-0.082884</td>\n",
       "      <td>0.660586</td>\n",
       "      <td>0.021401</td>\n",
       "      <td>0.219215</td>\n",
       "    </tr>\n",
       "    <tr>\n",
       "      <th>3</th>\n",
       "      <td>0.116383</td>\n",
       "      <td>0.302968</td>\n",
       "      <td>1.000000</td>\n",
       "      <td>0.419765</td>\n",
       "      <td>0.527223</td>\n",
       "      <td>0.534245</td>\n",
       "      <td>0.201323</td>\n",
       "      <td>0.105404</td>\n",
       "    </tr>\n",
       "    <tr>\n",
       "      <th>4</th>\n",
       "      <td>0.445641</td>\n",
       "      <td>0.193406</td>\n",
       "      <td>0.419765</td>\n",
       "      <td>1.000000</td>\n",
       "      <td>0.160614</td>\n",
       "      <td>0.125128</td>\n",
       "      <td>-0.027649</td>\n",
       "      <td>-0.222326</td>\n",
       "    </tr>\n",
       "    <tr>\n",
       "      <th>5</th>\n",
       "      <td>-0.026559</td>\n",
       "      <td>-0.082884</td>\n",
       "      <td>0.527223</td>\n",
       "      <td>0.160614</td>\n",
       "      <td>1.000000</td>\n",
       "      <td>0.275001</td>\n",
       "      <td>0.700152</td>\n",
       "      <td>0.254823</td>\n",
       "    </tr>\n",
       "    <tr>\n",
       "      <th>all</th>\n",
       "      <td>0.552261</td>\n",
       "      <td>0.660586</td>\n",
       "      <td>0.534245</td>\n",
       "      <td>0.125128</td>\n",
       "      <td>0.275001</td>\n",
       "      <td>1.000000</td>\n",
       "      <td>0.162011</td>\n",
       "      <td>0.609489</td>\n",
       "    </tr>\n",
       "    <tr>\n",
       "      <th>in</th>\n",
       "      <td>-0.195125</td>\n",
       "      <td>0.021401</td>\n",
       "      <td>0.201323</td>\n",
       "      <td>-0.027649</td>\n",
       "      <td>0.700152</td>\n",
       "      <td>0.162011</td>\n",
       "      <td>1.000000</td>\n",
       "      <td>0.209071</td>\n",
       "    </tr>\n",
       "    <tr>\n",
       "      <th>up</th>\n",
       "      <td>0.313028</td>\n",
       "      <td>0.219215</td>\n",
       "      <td>0.105404</td>\n",
       "      <td>-0.222326</td>\n",
       "      <td>0.254823</td>\n",
       "      <td>0.609489</td>\n",
       "      <td>0.209071</td>\n",
       "      <td>1.000000</td>\n",
       "    </tr>\n",
       "  </tbody>\n",
       "</table>\n",
       "</div>"
      ],
      "text/plain": [
       "kind         1         2         3         4         5       all        in  \\\n",
       "kind                                                                         \n",
       "1     1.000000  0.083683  0.116383  0.445641 -0.026559  0.552261 -0.195125   \n",
       "2     0.083683  1.000000  0.302968  0.193406 -0.082884  0.660586  0.021401   \n",
       "3     0.116383  0.302968  1.000000  0.419765  0.527223  0.534245  0.201323   \n",
       "4     0.445641  0.193406  0.419765  1.000000  0.160614  0.125128 -0.027649   \n",
       "5    -0.026559 -0.082884  0.527223  0.160614  1.000000  0.275001  0.700152   \n",
       "all   0.552261  0.660586  0.534245  0.125128  0.275001  1.000000  0.162011   \n",
       "in   -0.195125  0.021401  0.201323 -0.027649  0.700152  0.162011  1.000000   \n",
       "up    0.313028  0.219215  0.105404 -0.222326  0.254823  0.609489  0.209071   \n",
       "\n",
       "kind        up  \n",
       "kind            \n",
       "1     0.313028  \n",
       "2     0.219215  \n",
       "3     0.105404  \n",
       "4    -0.222326  \n",
       "5     0.254823  \n",
       "all   0.609489  \n",
       "in    0.209071  \n",
       "up    1.000000  "
      ]
     },
     "execution_count": 13,
     "metadata": {},
     "output_type": "execute_result"
    }
   ],
   "source": [
    "import pandas as pd\n",
    "%run general_tools.ipynb\n",
    "import os.path as op\n",
    "\n",
    "infolder, outfolder = find_folder()\n",
    "outfolder = 'D:\\\\Ilya_study\\\\Analysis'\n",
    "data = pd.concat([pd.read_csv(op.join(outfolder,'selected_perc.csv'), index_col = 0),\n",
    "                             pd.read_csv(op.join(outfolder,'selected_img.csv'),index_col=0)], ignore_index = True)\n",
    "data['combined'] = data['kind'].str.cat(data[[\"subs\"]].astype(str), sep=\"_\")\n",
    "data = data.groupby('kind').mean()\n",
    "#specific = data[data['subs']==3]\n",
    "specific = data.copy()\n",
    "header = specific.index\n",
    "#header = specific['combined'].values\n",
    "specific = specific[[str(i) for i in range(10)]].transpose()\n",
    "specific.columns = header\n",
    "specific.corr()\n",
    "#specific.corr(method =  pearsonr_pval)\n"
   ]
  },
  {
   "cell_type": "code",
   "execution_count": 8,
   "metadata": {},
   "outputs": [
    {
     "data": {
      "text/html": [
       "<div>\n",
       "<style scoped>\n",
       "    .dataframe tbody tr th:only-of-type {\n",
       "        vertical-align: middle;\n",
       "    }\n",
       "\n",
       "    .dataframe tbody tr th {\n",
       "        vertical-align: top;\n",
       "    }\n",
       "\n",
       "    .dataframe thead th {\n",
       "        text-align: right;\n",
       "    }\n",
       "</style>\n",
       "<table border=\"1\" class=\"dataframe\">\n",
       "  <thead>\n",
       "    <tr style=\"text-align: right;\">\n",
       "      <th></th>\n",
       "      <th>0</th>\n",
       "      <th>1</th>\n",
       "      <th>2</th>\n",
       "      <th>3</th>\n",
       "      <th>4</th>\n",
       "      <th>5</th>\n",
       "      <th>6</th>\n",
       "      <th>7</th>\n",
       "      <th>8</th>\n",
       "      <th>9</th>\n",
       "      <th>subs</th>\n",
       "    </tr>\n",
       "    <tr>\n",
       "      <th>kind</th>\n",
       "      <th></th>\n",
       "      <th></th>\n",
       "      <th></th>\n",
       "      <th></th>\n",
       "      <th></th>\n",
       "      <th></th>\n",
       "      <th></th>\n",
       "      <th></th>\n",
       "      <th></th>\n",
       "      <th></th>\n",
       "      <th></th>\n",
       "    </tr>\n",
       "  </thead>\n",
       "  <tbody>\n",
       "    <tr>\n",
       "      <th>1</th>\n",
       "      <td>0.531863</td>\n",
       "      <td>0.683824</td>\n",
       "      <td>0.585784</td>\n",
       "      <td>0.610294</td>\n",
       "      <td>0.607843</td>\n",
       "      <td>0.649510</td>\n",
       "      <td>0.661765</td>\n",
       "      <td>0.642157</td>\n",
       "      <td>0.703431</td>\n",
       "      <td>0.666667</td>\n",
       "      <td>10</td>\n",
       "    </tr>\n",
       "    <tr>\n",
       "      <th>2</th>\n",
       "      <td>0.534314</td>\n",
       "      <td>0.502451</td>\n",
       "      <td>0.583333</td>\n",
       "      <td>0.507353</td>\n",
       "      <td>0.566176</td>\n",
       "      <td>0.539216</td>\n",
       "      <td>0.514706</td>\n",
       "      <td>0.531863</td>\n",
       "      <td>0.607843</td>\n",
       "      <td>0.561275</td>\n",
       "      <td>10</td>\n",
       "    </tr>\n",
       "    <tr>\n",
       "      <th>3</th>\n",
       "      <td>0.514706</td>\n",
       "      <td>0.534314</td>\n",
       "      <td>0.566176</td>\n",
       "      <td>0.512255</td>\n",
       "      <td>0.468137</td>\n",
       "      <td>0.512255</td>\n",
       "      <td>0.495098</td>\n",
       "      <td>0.534314</td>\n",
       "      <td>0.546569</td>\n",
       "      <td>0.512255</td>\n",
       "      <td>10</td>\n",
       "    </tr>\n",
       "    <tr>\n",
       "      <th>4</th>\n",
       "      <td>0.485294</td>\n",
       "      <td>0.502451</td>\n",
       "      <td>0.519608</td>\n",
       "      <td>0.500000</td>\n",
       "      <td>0.468137</td>\n",
       "      <td>0.522059</td>\n",
       "      <td>0.531863</td>\n",
       "      <td>0.477941</td>\n",
       "      <td>0.534314</td>\n",
       "      <td>0.492647</td>\n",
       "      <td>10</td>\n",
       "    </tr>\n",
       "    <tr>\n",
       "      <th>5</th>\n",
       "      <td>0.519608</td>\n",
       "      <td>0.517157</td>\n",
       "      <td>0.536765</td>\n",
       "      <td>0.497549</td>\n",
       "      <td>0.492647</td>\n",
       "      <td>0.507353</td>\n",
       "      <td>0.534314</td>\n",
       "      <td>0.551471</td>\n",
       "      <td>0.512255</td>\n",
       "      <td>0.504902</td>\n",
       "      <td>10</td>\n",
       "    </tr>\n",
       "    <tr>\n",
       "      <th>all</th>\n",
       "      <td>0.522059</td>\n",
       "      <td>0.568627</td>\n",
       "      <td>0.588235</td>\n",
       "      <td>0.529412</td>\n",
       "      <td>0.558824</td>\n",
       "      <td>0.534314</td>\n",
       "      <td>0.541667</td>\n",
       "      <td>0.602941</td>\n",
       "      <td>0.629902</td>\n",
       "      <td>0.598039</td>\n",
       "      <td>10</td>\n",
       "    </tr>\n",
       "    <tr>\n",
       "      <th>in</th>\n",
       "      <td>0.614750</td>\n",
       "      <td>0.568182</td>\n",
       "      <td>0.605615</td>\n",
       "      <td>0.487522</td>\n",
       "      <td>0.536765</td>\n",
       "      <td>0.515597</td>\n",
       "      <td>0.619875</td>\n",
       "      <td>0.596034</td>\n",
       "      <td>0.539216</td>\n",
       "      <td>0.595365</td>\n",
       "      <td>10</td>\n",
       "    </tr>\n",
       "    <tr>\n",
       "      <th>up</th>\n",
       "      <td>0.547906</td>\n",
       "      <td>0.585784</td>\n",
       "      <td>0.564171</td>\n",
       "      <td>0.548574</td>\n",
       "      <td>0.588681</td>\n",
       "      <td>0.517602</td>\n",
       "      <td>0.567068</td>\n",
       "      <td>0.588681</td>\n",
       "      <td>0.588681</td>\n",
       "      <td>0.554367</td>\n",
       "      <td>10</td>\n",
       "    </tr>\n",
       "  </tbody>\n",
       "</table>\n",
       "</div>"
      ],
      "text/plain": [
       "             0         1         2         3         4         5         6  \\\n",
       "kind                                                                         \n",
       "1     0.531863  0.683824  0.585784  0.610294  0.607843  0.649510  0.661765   \n",
       "2     0.534314  0.502451  0.583333  0.507353  0.566176  0.539216  0.514706   \n",
       "3     0.514706  0.534314  0.566176  0.512255  0.468137  0.512255  0.495098   \n",
       "4     0.485294  0.502451  0.519608  0.500000  0.468137  0.522059  0.531863   \n",
       "5     0.519608  0.517157  0.536765  0.497549  0.492647  0.507353  0.534314   \n",
       "all   0.522059  0.568627  0.588235  0.529412  0.558824  0.534314  0.541667   \n",
       "in    0.614750  0.568182  0.605615  0.487522  0.536765  0.515597  0.619875   \n",
       "up    0.547906  0.585784  0.564171  0.548574  0.588681  0.517602  0.567068   \n",
       "\n",
       "             7         8         9  subs  \n",
       "kind                                      \n",
       "1     0.642157  0.703431  0.666667    10  \n",
       "2     0.531863  0.607843  0.561275    10  \n",
       "3     0.534314  0.546569  0.512255    10  \n",
       "4     0.477941  0.534314  0.492647    10  \n",
       "5     0.551471  0.512255  0.504902    10  \n",
       "all   0.602941  0.629902  0.598039    10  \n",
       "in    0.596034  0.539216  0.595365    10  \n",
       "up    0.588681  0.588681  0.554367    10  "
      ]
     },
     "execution_count": 8,
     "metadata": {},
     "output_type": "execute_result"
    }
   ],
   "source": [
    "import pandas as pd\n",
    "%run general_tools.ipynb\n",
    "import os.path as op\n",
    "\n",
    "infolder, outfolder = find_folder()\n",
    "outfolder = 'D:\\\\Ilya_study\\\\Analysis'\n",
    "data = pd.concat([pd.read_csv(op.join(outfolder,'selected_perc.csv'), index_col = 0),\n",
    "                             pd.read_csv(op.join(outfolder,'selected_img.csv'),index_col=0)], ignore_index = True)\n",
    "data['combined'] = data['kind'].str.cat(data[[\"subs\"]].astype(str), sep=\"_\")\n",
    "data = data.groupby('kind').mean()\n",
    "data.head(n=20)"
   ]
  },
  {
   "cell_type": "markdown",
   "metadata": {},
   "source": [
    "# Computing imagery coeficients' maps"
   ]
  },
  {
   "cell_type": "code",
   "execution_count": 5,
   "metadata": {},
   "outputs": [
    {
     "name": "stdout",
     "output_type": "stream",
     "text": [
      "Progress: [###################-] 93.8%\n"
     ]
    },
    {
     "ename": "TypeError",
     "evalue": "save_all_pickle() missing 1 required positional argument: 'folder'",
     "output_type": "error",
     "traceback": [
      "\u001b[1;31m---------------------------------------------------------------------------\u001b[0m",
      "\u001b[1;31mTypeError\u001b[0m                                 Traceback (most recent call last)",
      "\u001b[1;32m<ipython-input-5-008cb5ab44dc>\u001b[0m in \u001b[0;36m<module>\u001b[1;34m\u001b[0m\n\u001b[0;32m     20\u001b[0m         \u001b[0mupdate_progress\u001b[0m\u001b[1;33m(\u001b[0m\u001b[0mi\u001b[0m\u001b[1;33m/\u001b[0m\u001b[0mlen\u001b[0m\u001b[1;33m(\u001b[0m\u001b[0msubs\u001b[0m\u001b[1;33m)\u001b[0m\u001b[1;33m)\u001b[0m\u001b[1;33m\u001b[0m\u001b[1;33m\u001b[0m\u001b[0m\n\u001b[0;32m     21\u001b[0m     \u001b[0mresults\u001b[0m\u001b[1;33m.\u001b[0m\u001b[0mappend\u001b[0m\u001b[1;33m(\u001b[0m\u001b[0mresult\u001b[0m\u001b[1;33m)\u001b[0m\u001b[1;33m\u001b[0m\u001b[1;33m\u001b[0m\u001b[0m\n\u001b[1;32m---> 22\u001b[1;33m     \u001b[0msave_all_pickle\u001b[0m\u001b[1;33m(\u001b[0m\u001b[0mdictr\u001b[0m \u001b[1;33m=\u001b[0m \u001b[0mdictr\u001b[0m\u001b[1;33m)\u001b[0m\u001b[1;33m\u001b[0m\u001b[1;33m\u001b[0m\u001b[0m\n\u001b[0m\u001b[0;32m     23\u001b[0m \u001b[0mos\u001b[0m\u001b[1;33m.\u001b[0m\u001b[0msystem\u001b[0m\u001b[1;33m(\u001b[0m\u001b[1;34m'say \"your program has finished\"'\u001b[0m\u001b[1;33m)\u001b[0m\u001b[1;33m\u001b[0m\u001b[1;33m\u001b[0m\u001b[0m\n",
      "\u001b[1;31mTypeError\u001b[0m: save_all_pickle() missing 1 required positional argument: 'folder'"
     ]
    }
   ],
   "source": [
    "%run general_tools.ipynb\n",
    "%run EEG_auxiliary_module.ipynb\n",
    "data=list()\n",
    "labels = list()\n",
    "trials=4\n",
    "results=[]# Loading first S02 session\n",
    "durs=[]\n",
    "dictr = {\"svm_imag_coefs.pkl\":results, \"svm_imag_duration.pkl\":durs}\n",
    "times = [(0.6,1.6),(1.6,2.6),(2.6,3.6),(3.6,4.6),(4.6,5.6)]\n",
    "for time in times:\n",
    "    result=[]\n",
    "    for i,j in enumerate(subs):\n",
    "        fname = op.join(outfolder,'S'+j+'_imag_aver-epo.fif')\n",
    "        epochs = mne.read_epochs(fname)\n",
    "        cv=len(epochs['31'])\n",
    "        X, Y = convert_epochs_to_2D_array(epochs, times = time)\n",
    "        confusion, duration = run_svm_coef(X, Y)\n",
    "        result.append(confusion)\n",
    "        durs.append(duration)\n",
    "        update_progress(i/len(subs))\n",
    "    results.append(result)\n",
    "    save_all_pickle(dictr = dictr)\n",
    "os.system('say \"your program has finished\"')"
   ]
  },
  {
   "cell_type": "markdown",
   "metadata": {},
   "source": [
    "# Computing perception coeficients' maps"
   ]
  },
  {
   "cell_type": "code",
   "execution_count": null,
   "metadata": {},
   "outputs": [],
   "source": [
    "%run general_tools.ipynb\n",
    "%run EEG_auxiliary_module.ipynb\n",
    "data=list()\n",
    "labels = list()\n",
    "trials=4\n",
    "results=[]\n",
    "durs=[]\n",
    "dictr = {\"svm_perc_coefs.pkl\":results, \"svm_perc_duration.pkl\":durs}\n",
    "for time in prc_time:\n",
    "    result=[]\n",
    "    for i,j in enumerate(subs):\n",
    "        fname = op.join(outfolder,'S'+j+'_perc_aver-epo.fif')\n",
    "        epochs = mne.read_epochs(fname)\n",
    "        cv=len(epochs['101'])\n",
    "        X, Y = convert_epochs_to_2D_array(epochs, times = time)\n",
    "        confusion, duration = run_svm_coef(X, Y)\n",
    "        result.append(confusion)\n",
    "        durs.append(duration)\n",
    "        update_progress(i/len(subs))\n",
    "    results.append(result)\n",
    "    save_all_pickle(dictr = dictr)\n",
    "os.system('say \"your program has finished\"')"
   ]
  },
  {
   "cell_type": "code",
   "execution_count": null,
   "metadata": {},
   "outputs": [],
   "source": [
    "import pickle\n",
    "results = pickle.load( open( \"svm_prc_accuracy.pkl\", \"rb\" ) )"
   ]
  },
  {
   "cell_type": "code",
   "execution_count": null,
   "metadata": {},
   "outputs": [],
   "source": [
    "isolate_perc_5(df_perc)"
   ]
  },
  {
   "cell_type": "code",
   "execution_count": null,
   "metadata": {},
   "outputs": [],
   "source": [
    "from scipy.spatial.distance import pdist, squareform\n",
    "import numpy as np\n",
    "confusion = results[14]\n",
    "print(f'Accuracy of the upright stimuli is {np.mean(squareform(confusion[0:50,0:50]))*100:.4f}%')\n",
    "print(f'Accuracy of the upright unfamiliary stimuli is {np.mean(squareform(confusion[0:25,0:25]))*100:.4f}%')\n",
    "print(f'Accuracy of the upright famous stimuli is {np.mean(squareform(confusion[25:50,25:50]))*100:.4f}%')\n",
    "print(f'Accuracy of the inverted stimuli is {np.mean(squareform(confusion[50:,50:]))*100:.4f}%')\n",
    "print(f'Accuracy of the inverted unfamiliar stimuli is {np.mean(squareform(confusion[50:75,50:75]))*100:.4f}%')\n",
    "print(f'Accuracy of the inverted famous stimuli is {np.mean(squareform(confusion[75:,75:]))*100:.4f}%')\n",
    "print(f'Accuracy of the entire set is {np.mean(squareform(confusion))*100:.4f}%')"
   ]
  },
  {
   "cell_type": "markdown",
   "metadata": {},
   "source": [
    "# Running face space analysis"
   ]
  },
  {
   "cell_type": "markdown",
   "metadata": {},
   "source": [
    "### Computing permutations"
   ]
  },
  {
   "cell_type": "code",
   "execution_count": 52,
   "metadata": {},
   "outputs": [
    {
     "name": "stdout",
     "output_type": "stream",
     "text": [
      "Progress: [#################---] 83.3%\n"
     ]
    }
   ],
   "source": [
    "import pickle\n",
    "import numpy as np\n",
    "from sklearn import manifold\n",
    "from scipy.spatial import procrustes\n",
    "%run EEG_auxiliary_module.ipynb\n",
    "%run general_tools.ipynb\n",
    "\n",
    "infolder, outfolder = find_folder()\n",
    "\n",
    "data_prc = load_pkl(outfolder,'svm_prc_accuracy.pkl')\n",
    "data_img = load_pkl(outfolder,'svm_img_accuracy.pkl')\n",
    "\n",
    "data_prc.pop(-3)\n",
    "data_prc = np.array(data_prc)\n",
    "data_prc = np.mean(data_prc[:,25:50,25:50],axis = 0)\n",
    "data_prc.shape #25 X 25\n",
    "\n",
    "data_img = np.array(data_img)\n",
    "data_img = np.delete(data_img,-3,1)\n",
    "data_img = np.mean(data_img,axis=1)\n",
    "data_img.shape # 6 X 5 X 5\n",
    "space_img = [cmdscale(data_img[i,:,:])[0] for i in range(data_img.shape[0])]\n",
    "\n",
    "out = []\n",
    "for i in range(len(space_img)):\n",
    "    update_progress(i/len(space_img))\n",
    "    outt = []\n",
    "    for j in range(10000):\n",
    "        idx = np.random.permutation(data_prc.shape[0])[:5]\n",
    "        temp = data_prc[np.ix_(idx,idx)]\n",
    "        temp = cmdscale(temp)[0]\n",
    "        _,_,d = procrustes(temp[:5,:4],space_img[i][:5,:4])\n",
    "        outt.append(d)\n",
    "    out.append(outt)\n",
    "dictr = {\"face_space_perms.pkl\":out}\n",
    "save_all_pickle(outfolder,dictr = dictr)"
   ]
  },
  {
   "cell_type": "code",
   "execution_count": 16,
   "metadata": {},
   "outputs": [],
   "source": [
    "import pickle\n",
    "import numpy as np\n",
    "from sklearn import manifold\n",
    "from scipy.spatial import procrustes as procr\n",
    "import pandas as pd\n",
    "from scipy.spatial.distance import squareform, pdist\n",
    "%run EEG_auxiliary_module.ipynb\n",
    "%run general_tools.ipynb\n",
    "\n",
    "infolder, outfolder = find_folder()\n",
    "\n",
    "data_prc = load_pkl(outfolder,'svm_prc_accuracy.pkl')\n",
    "\n",
    "data_prc.pop(-3)\n",
    "data_prc = np.array(data_prc)\n",
    "data_prc = np.mean(data_prc[:,25:50,25:50],axis = 0)\n",
    "data_prc.shape #25 X 25\n",
    "\n",
    "stims = pd.read_csv('C:\\\\Users\\\\danne\\\\Dropbox\\\\Ilya_study\\\\Stimuli\\\\stims.csv')\n",
    "dist = pd.DataFrame(squareform(pdist(stims.T)),columns=stims.columns,index=stims.columns)\n",
    "ims_names, prc_names, _ = import_names()\n",
    "dist_imag = dist.loc[ims_names,ims_names]\n",
    "dist_imag = cmdscale(dist_imag)[0]\n",
    "\n",
    "\n",
    "out = []\n",
    "for j in range(10000):\n",
    "    idx = np.random.permutation(data_prc.shape[0])[:5]\n",
    "    temp = data_prc[np.ix_(idx,idx)]\n",
    "    temp = cmdscale(temp)[0]\n",
    "    _,_,d = procr(temp[:5,:4],dist_imag[:5,:4])\n",
    "    out.append(d)\n",
    "dictr = {\"TO_face_space_perms.pkl\":out}\n",
    "save_all_pickle(outfolder,dictr = dictr)"
   ]
  },
  {
   "cell_type": "code",
   "execution_count": 22,
   "metadata": {},
   "outputs": [
    {
     "data": {
      "text/plain": [
       "{'rotation': array([[ 0.21446691,  0.34061697, -0.88088977,  0.24903262],\n",
       "        [ 0.60014587, -0.34176884, -0.18377916, -0.69945995],\n",
       "        [ 0.1287567 , -0.81824739, -0.1310518 ,  0.5447186 ],\n",
       "        [ 0.7597701 ,  0.31248258,  0.41603349,  0.38989765]]),\n",
       " 'scale': 0.00010095297014829635,\n",
       " 'translation': array([-6.69327155e-17, -2.27411107e-17, -1.02584338e-17, -8.81229335e-18])}"
      ]
     },
     "execution_count": 22,
     "metadata": {},
     "output_type": "execute_result"
    }
   ],
   "source": [
    "a = np.array(out)\n",
    "d"
   ]
  },
  {
   "cell_type": "code",
   "execution_count": 24,
   "metadata": {},
   "outputs": [
    {
     "data": {
      "text/plain": [
       "99.52"
      ]
     },
     "execution_count": 24,
     "metadata": {},
     "output_type": "execute_result"
    }
   ],
   "source": [
    "from scipy.stats import percentileofscore\n",
    "data_prc = load_pkl(outfolder,'svm_prc_accuracy.pkl')\n",
    "data_prc = np.array(data_prc)\n",
    "data_prc = np.mean(data_prc[:,:50,:50],axis = 0)\n",
    "data_prc_5 = isolate_perc_5(data_prc)\n",
    "_,_,d = procr(data_prc_5[:5,:4],dist_imag[:5,:4])\n",
    "percentileofscore(a,d)"
   ]
  },
  {
   "cell_type": "markdown",
   "metadata": {},
   "source": [
    "### Computing probabilities"
   ]
  },
  {
   "cell_type": "code",
   "execution_count": 53,
   "metadata": {},
   "outputs": [
    {
     "name": "stdout",
     "output_type": "stream",
     "text": [
      "[[0.         0.55089962 0.59375    0.56557765 0.56202652]\n",
      " [0.55089962 0.         0.60724432 0.51609848 0.5764678 ]\n",
      " [0.59375    0.60724432 0.         0.59422348 0.59422348]\n",
      " [0.56557765 0.51609848 0.59422348 0.         0.55255682]\n",
      " [0.56202652 0.5764678  0.59422348 0.55255682 0.        ]]\n",
      "(5, 4)\n",
      "(5, 5)\n"
     ]
    },
    {
     "data": {
      "text/plain": [
       "[32.49, 21.32, 37.17, 46.52, 15.06, 3.17]"
      ]
     },
     "execution_count": 53,
     "metadata": {},
     "output_type": "execute_result"
    }
   ],
   "source": [
    "from scipy.stats import percentileofscore\n",
    "import numpy as np\n",
    "from sklearn import manifold\n",
    "from scipy.spatial import procrustes\n",
    "%run general_tools.ipynb\n",
    "%run EEG_auxiliary_module.ipynb\n",
    "\n",
    "infolder, outfolder = find_folder()\n",
    "data_prc = load_pkl(outfolder,'svm_prc_accuracy.pkl')\n",
    "data_img = load_pkl(outfolder,'svm_img_accuracy.pkl')\n",
    "out = load_pkl(outfolder,'face_space_perms.pkl')\n",
    "\n",
    "data_prc.pop(-3)\n",
    "data_prc = np.array(data_prc)\n",
    "data_prc = np.mean(data_prc[:,:50,:50],axis = 0)\n",
    "data_prc_5 = isolate_perc_5(data_prc)\n",
    "print(data_prc_5)\n",
    "data_prc_5 = cmdscale(data_prc_5)[0]\n",
    "print(data_prc_5.shape)\n",
    "\n",
    "data_img = np.array(data_img)\n",
    "data_img = np.delete(data_img,-3,1)\n",
    "data_img = np.mean(data_img,axis=1)\n",
    "space_img = [cmdscale(data_img[i,:,:])[0] for i in range(data_img.shape[0])]\n",
    "print(space_img[0].shape)\n",
    "prcg = []\n",
    "for i in range(6):\n",
    "    _,_,d = procrustes(data_prc_5[:5,:4],space_img[i][:5,:4])\n",
    "    prcg.append(percentileofscore(np.array(out[i]),d))\n",
    "prcg\n"
   ]
  },
  {
   "cell_type": "markdown",
   "metadata": {},
   "source": [
    "### Computing upright vs inverted"
   ]
  },
  {
   "cell_type": "code",
   "execution_count": 20,
   "metadata": {},
   "outputs": [
    {
     "name": "stdout",
     "output_type": "stream",
     "text": [
      "Progress: [####################] 100.0%\n",
      "0.51\n",
      "5.77\n"
     ]
    }
   ],
   "source": [
    "from scipy.stats import percentileofscore\n",
    "import numpy as np\n",
    "from sklearn import manifold\n",
    "from scipy.spatial import procrustes\n",
    "%run general_tools.ipynb\n",
    "%run EEG_auxiliary_module.ipynb\n",
    "\n",
    "def perm_mat(mat):\n",
    "    idx = np.random.permutation(mat.shape[0])\n",
    "    mat = mat[np.ix_(idx,idx)]\n",
    "    mat = cmdscale(mat)\n",
    "    return mat[0]\n",
    "\n",
    "n_perms = 10000\n",
    "infolder, outfolder = find_folder()\n",
    "data_prc = load_pkl(outfolder,'svm_prc_accuracy.pkl')\n",
    "out = load_pkl(outfolder,'face_space_perms.pkl')\n",
    "data_prc.pop(-3)\n",
    "data_prc = np.array(data_prc)\n",
    "up_unf = np.mean(data_prc[:,:25,:25],axis = 0)\n",
    "up_fam = np.mean(data_prc[:,25:50,25:50],axis = 0)\n",
    "in_unf = np.mean(data_prc[:,50:75,50:75],axis = 0)\n",
    "in_fam = np.mean(data_prc[:,75:,75:],axis = 0)\n",
    "\n",
    "up_unf_space = cmdscale(up_unf)[0]\n",
    "up_fam_space = cmdscale(up_fam)[0]\n",
    "in_unf_space = cmdscale(in_unf)[0]\n",
    "in_fam_space = cmdscale(in_fam)[0]\n",
    "\n",
    "unf_d = []\n",
    "fam_d = []\n",
    "for i in range(n_perms):\n",
    "    update_progress(i/n_perms)\n",
    "    _,_,d = procrustes(up_unf_space[:25,:20],perm_mat(in_unf)[:25,:20])\n",
    "    unf_d.append(d)\n",
    "    _,_,d = procrustes(up_fam_space[:25,:20],perm_mat(in_fam)[:25,:20])\n",
    "    fam_d.append(d)\n",
    "\n",
    "_,_,d = procrustes(up_unf_space[:25,:20],in_unf_space[:25,:20])\n",
    "print(percentileofscore(np.array(unf_d),d))\n",
    "_,_,d = procrustes(up_fam_space[:25,:20],in_fam_space[:25,:20])\n",
    "print(percentileofscore(np.array(fam_d),d))"
   ]
  },
  {
   "cell_type": "code",
   "execution_count": 3,
   "metadata": {},
   "outputs": [
    {
     "data": {
      "text/plain": [
       "(50, 50)"
      ]
     },
     "execution_count": 3,
     "metadata": {},
     "output_type": "execute_result"
    }
   ],
   "source": [
    "data_prc.shape"
   ]
  },
  {
   "cell_type": "code",
   "execution_count": 12,
   "metadata": {},
   "outputs": [],
   "source": [
    "%run general_tools.ipynb\n",
    "import numpy as np\n",
    "from pathlib import Path, PurePath\n",
    "\n",
    "infolder, outfolder = find_folder()\n",
    "data = load_pkl(outfolder,'svm_img_accuracy.pkl')\n",
    "data = data[5]\n",
    "temp = [np.savetxt(PurePath(outfolder,\"conf_imag_\"+str(i+2).zfill(2)+'.csv'), \n",
    "            data[i], delimiter=\",\") for i in range(len(data))]\n"
   ]
  },
  {
   "cell_type": "code",
   "execution_count": 7,
   "metadata": {},
   "outputs": [
    {
     "data": {
      "text/plain": [
       "17"
      ]
     },
     "execution_count": 7,
     "metadata": {},
     "output_type": "execute_result"
    }
   ],
   "source": [
    "len(data)"
   ]
  },
  {
   "cell_type": "code",
   "execution_count": 1,
   "metadata": {},
   "outputs": [],
   "source": [
    "%run EEG_auxiliary_module.ipynb\n",
    "%run general_tools.ipynb\n",
    "infolder, outfolder = find_folder()\n",
    "data_prc = load_pkl(outfolder,'svm_prc_accuracy.pkl')"
   ]
  },
  {
   "cell_type": "code",
   "execution_count": 2,
   "metadata": {},
   "outputs": [
    {
     "data": {
      "text/plain": [
       "17"
      ]
     },
     "execution_count": 2,
     "metadata": {},
     "output_type": "execute_result"
    }
   ],
   "source": [
    "len(data_prc)"
   ]
  },
  {
   "cell_type": "code",
   "execution_count": null,
   "metadata": {},
   "outputs": [],
   "source": []
  }
 ],
 "metadata": {
  "kernelspec": {
   "display_name": "Python 3",
   "language": "python",
   "name": "python3"
  },
  "language_info": {
   "codemirror_mode": {
    "name": "ipython",
    "version": 3
   },
   "file_extension": ".py",
   "mimetype": "text/x-python",
   "name": "python",
   "nbconvert_exporter": "python",
   "pygments_lexer": "ipython3",
   "version": "3.7.5"
  }
 },
 "nbformat": 4,
 "nbformat_minor": 4
}
