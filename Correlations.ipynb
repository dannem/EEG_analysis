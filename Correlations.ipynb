{
 "cells": [
  {
   "cell_type": "code",
   "execution_count": 1,
   "metadata": {},
   "outputs": [],
   "source": [
    "%run EEG_auxiliary_module.ipynb\n",
    "%run general_tools.ipynb\n",
    "\n",
    "folder = 'C:\\\\Users\\\\nemrodov\\\\Documents\\\\Ilya_study\\\\Analysis'\n",
    "import numpy as np\n",
    "import pandas as pd\n",
    "perc_ind=['02','03','04','05','06','07','08','09','10','11','12','13','14','15','17']\n",
    "imag_ind=['02','03','04','05','06','07','08','09','10','11','12','13','14','15','17']\n",
    "perc_file=[folder+'/conf_mat_perc_'+ i +'.csv' for i in perc_ind]\n",
    "imag_file=[folder+'/conf_IR_'+ i +'_imag.csv' for i in perc_ind]\n",
    "data = load_multiple_conf_mats(folder, perc_file, imag_file)\n",
    "perc_list = data[0]\n",
    "imag_list = data[1]"
   ]
  },
  {
   "cell_type": "code",
   "execution_count": 2,
   "metadata": {},
   "outputs": [],
   "source": [
    "subject = 13\n",
    "mat = isolate_perc_as_imag(perc_list[subject], imag_list[subject])"
   ]
  },
  {
   "cell_type": "code",
   "execution_count": 5,
   "metadata": {},
   "outputs": [
    {
     "data": {
      "text/html": [
       "<div>\n",
       "<style scoped>\n",
       "    .dataframe tbody tr th:only-of-type {\n",
       "        vertical-align: middle;\n",
       "    }\n",
       "\n",
       "    .dataframe tbody tr th {\n",
       "        vertical-align: top;\n",
       "    }\n",
       "\n",
       "    .dataframe thead th {\n",
       "        text-align: right;\n",
       "    }\n",
       "</style>\n",
       "<table border=\"1\" class=\"dataframe\">\n",
       "  <thead>\n",
       "    <tr style=\"text-align: right;\">\n",
       "      <th></th>\n",
       "      <th>est</th>\n",
       "      <th>mcy</th>\n",
       "      <th>sjo</th>\n",
       "      <th>sgo</th>\n",
       "      <th>tsw</th>\n",
       "    </tr>\n",
       "  </thead>\n",
       "  <tbody>\n",
       "    <tr>\n",
       "      <th>est</th>\n",
       "      <td>0.000000</td>\n",
       "      <td>0.625000</td>\n",
       "      <td>0.666667</td>\n",
       "      <td>0.625000</td>\n",
       "      <td>0.666667</td>\n",
       "    </tr>\n",
       "    <tr>\n",
       "      <th>mcy</th>\n",
       "      <td>0.625000</td>\n",
       "      <td>0.000000</td>\n",
       "      <td>0.666667</td>\n",
       "      <td>0.541667</td>\n",
       "      <td>0.458333</td>\n",
       "    </tr>\n",
       "    <tr>\n",
       "      <th>sjo</th>\n",
       "      <td>0.666667</td>\n",
       "      <td>0.666667</td>\n",
       "      <td>0.000000</td>\n",
       "      <td>0.708333</td>\n",
       "      <td>0.875000</td>\n",
       "    </tr>\n",
       "    <tr>\n",
       "      <th>sgo</th>\n",
       "      <td>0.625000</td>\n",
       "      <td>0.541667</td>\n",
       "      <td>0.708333</td>\n",
       "      <td>0.000000</td>\n",
       "      <td>0.583333</td>\n",
       "    </tr>\n",
       "    <tr>\n",
       "      <th>tsw</th>\n",
       "      <td>0.666667</td>\n",
       "      <td>0.458333</td>\n",
       "      <td>0.875000</td>\n",
       "      <td>0.583333</td>\n",
       "      <td>0.000000</td>\n",
       "    </tr>\n",
       "  </tbody>\n",
       "</table>\n",
       "</div>"
      ],
      "text/plain": [
       "          est       mcy       sjo       sgo       tsw\n",
       "est  0.000000  0.625000  0.666667  0.625000  0.666667\n",
       "mcy  0.625000  0.000000  0.666667  0.541667  0.458333\n",
       "sjo  0.666667  0.666667  0.000000  0.708333  0.875000\n",
       "sgo  0.625000  0.541667  0.708333  0.000000  0.583333\n",
       "tsw  0.666667  0.458333  0.875000  0.583333  0.000000"
      ]
     },
     "execution_count": 5,
     "metadata": {},
     "output_type": "execute_result"
    }
   ],
   "source": [
    "mat[1]"
   ]
  },
  {
   "cell_type": "code",
   "execution_count": null,
   "metadata": {},
   "outputs": [],
   "source": [
    "from scipy.spatial.distance import pdist, squareform\n",
    "import numpy as np\n",
    "acc_perc=[]\n",
    "acc_imag=[]\n",
    "for i in range(len(perc_list)):\n",
    "    out = inter_sub_corr(perc_list[i], imag_list[i])\n",
    "    mat = out[0]\n",
    "    acc_perc.append(np.mean(squareform(mat.iloc[:5,:5])))\n",
    "    mat = out[1]\n",
    "    acc_imag.append(np.mean(squareform(mat)))\n",
    "acc_perc = np.array(acc_perc)\n",
    "acc_imag = np.array(acc_imag)"
   ]
  },
  {
   "cell_type": "code",
   "execution_count": null,
   "metadata": {},
   "outputs": [],
   "source": [
    "mat"
   ]
  },
  {
   "cell_type": "code",
   "execution_count": null,
   "metadata": {},
   "outputs": [],
   "source": [
    "from scipy.spatial.distance import squareform\n",
    "perc_up_arr =  np.array([squareform(i.values[:50,:50]) for i in perc_list])\n",
    "perc_in_arr =  np.array([squareform(i.values[50:,50:]) for i in perc_list])\n",
    "perc_up_fam_arr =  np.array([squareform(i.values[25:50,25:50]) for i in perc_list])\n",
    "perc_up_unf_arr =  np.array([squareform(i.values[:25,:25]) for i in perc_list])\n",
    "perc_in_fam_arr =  np.array([squareform(i.values[75:,75:]) for i in perc_list])\n",
    "perc_in_unf_arr =  np.array([squareform(i.values[50:75,50:75]) for i in perc_list])\n",
    "imag_arr =  np.array([squareform(i.values) for i in imag_list])"
   ]
  },
  {
   "cell_type": "code",
   "execution_count": null,
   "metadata": {},
   "outputs": [],
   "source": [
    "perc_up_corr = pd.DataFrame(np.corrcoef(perc_up_arr))\n",
    "perc_in_corr = pd.DataFrame(np.corrcoef(perc_in_arr))\n",
    "perc_up_unf_corr = pd.DataFrame(np.corrcoef(perc_up_unf_arr))\n",
    "perc_up_fam_corr = pd.DataFrame(np.corrcoef(perc_up_fam_arr))\n",
    "perc_in_unf_corr = pd.DataFrame(np.corrcoef(perc_in_unf_arr ))\n",
    "perc_in_fam_corr = pd.DataFrame(np.corrcoef(perc_in_fam_arr))\n",
    "imag_corr = pd.DataFrame(np.corrcoef(imag_arr))"
   ]
  },
  {
   "cell_type": "code",
   "execution_count": null,
   "metadata": {},
   "outputs": [],
   "source": [
    "perc_up_corr"
   ]
  },
  {
   "cell_type": "code",
   "execution_count": null,
   "metadata": {},
   "outputs": [],
   "source": [
    "perc_in_corr"
   ]
  },
  {
   "cell_type": "code",
   "execution_count": null,
   "metadata": {},
   "outputs": [],
   "source": [
    "imag_corr"
   ]
  },
  {
   "cell_type": "code",
   "execution_count": null,
   "metadata": {},
   "outputs": [],
   "source": [
    "perc_up_unf_corr"
   ]
  },
  {
   "cell_type": "code",
   "execution_count": null,
   "metadata": {},
   "outputs": [],
   "source": [
    "perc_up_fam_corr"
   ]
  },
  {
   "cell_type": "code",
   "execution_count": null,
   "metadata": {},
   "outputs": [],
   "source": [
    "perc_in_unf_corr"
   ]
  },
  {
   "cell_type": "code",
   "execution_count": null,
   "metadata": {},
   "outputs": [],
   "source": [
    "perc_in_fam_corr"
   ]
  },
  {
   "cell_type": "code",
   "execution_count": null,
   "metadata": {},
   "outputs": [],
   "source": [
    "len(perc_list)"
   ]
  },
  {
   "cell_type": "code",
   "execution_count": null,
   "metadata": {},
   "outputs": [],
   "source": [
    "len(imag_list)"
   ]
  },
  {
   "cell_type": "code",
   "execution_count": null,
   "metadata": {},
   "outputs": [],
   "source": [
    "print(perc_list[0])"
   ]
  },
  {
   "cell_type": "markdown",
   "metadata": {},
   "source": [
    "# Figures"
   ]
  },
  {
   "cell_type": "code",
   "execution_count": null,
   "metadata": {},
   "outputs": [],
   "source": [
    "import matplotlib.pyplot as plt\n",
    "import seaborn as sns\n",
    "from matplotlib.pyplot import cm\n",
    "color=cm.rainbow(np.linspace(0,1,14))\n",
    "fig, ax = plt.subplots(1,1,figsize=(8,6), dpi= 80)\n",
    "x = np.arange(2)\n",
    "ax = sns.barplot(x=x, y=[np.mean(acc_perc),np.mean(acc_imag)], linewidth=2.5,edgecolor=['grey','grey'],\n",
    "                 facecolor=(0.5, 0.5, 0.5, 0.5))\n",
    "#plt.bar(x, [np.mean(acc_perc),np.mean(acc_imag)])\n",
    "both = list(zip(acc_perc,acc_imag))\n",
    "for i in range(len(both)):\n",
    "    sns.pointplot(x=x, y=both[i],kind=\"point\",dodge=False,ax=ax,linestyles = '--',color=color[i])\n",
    "plt.ylim((0.45, 0.8))\n",
    "plt.xticks(x, ('perception', 'imagery'),fontsize=20)\n",
    "plt.axhline(y=0.5, color='black', linestyle='-')\n",
    "plt.ylabel('Accuracy [%]', fontsize=20)\n",
    "fig.savefig('slope.png', dpi=300)"
   ]
  },
  {
   "cell_type": "code",
   "execution_count": null,
   "metadata": {},
   "outputs": [],
   "source": [
    "from scipy.spatial.distance import pdist, squareform\n",
    "import numpy as np\n",
    "from sklearn.manifold import MDS\n",
    "from scipy.spatial import procrustes\n",
    "aver_perc=[]\n",
    "aver_imag=[]\n",
    "for i in range(len(perc_list)):\n",
    "    out = inter_sub_corr(perc_list[i], imag_list[i])\n",
    "    mat=out[0]\n",
    "    aver_perc.append(mat.iloc[:5,:5].values)\n",
    "    mat = out[1]\n",
    "    aver_imag.append(mat.values)\n",
    "aver_perc = np.array(aver_perc)\n",
    "aver_imag = np.array(aver_imag)\n",
    "aver_perc = np.mean(aver_perc,axis=0)\n",
    "aver_imag = np.mean(aver_imag,axis=0)\n",
    "embedding = MDS(n_components=2)\n",
    "transf_perc = embedding.fit_transform(aver_perc)\n",
    "transf_imag = embedding.fit_transform(aver_imag)\n",
    "transf_perc, transf_imag, disparity = procrustes(transf_perc, transf_imag)"
   ]
  },
  {
   "cell_type": "code",
   "execution_count": null,
   "metadata": {},
   "outputs": [],
   "source": [
    "transf_perc.shape"
   ]
  },
  {
   "cell_type": "code",
   "execution_count": null,
   "metadata": {},
   "outputs": [],
   "source": [
    "import matplotlib.pyplot as plt\n",
    "import seaborn as sns\n",
    "from matplotlib.pyplot import cm\n",
    "fig, ax = plt.subplots(1,1,figsize=(8,8), dpi= 80)\n",
    "sns.scatterplot(x=transf_perc[:,0], y=transf_perc[:,1],color='red')\n",
    "sns.scatterplot(x=transf_imag[:,0], y=transf_imag[:,1],color='blue')\n",
    "ax.legend(['perception', 'imagery'], fontsize=18, frameon = False)\n",
    "ax.set_xlabel('Dimension 1', fontsize = 20)\n",
    "ax.set_ylabel('Dimension 2', fontsize = 20)\n",
    "for i in range(transf_imag.shape[0]):\n",
    "    sns.lineplot(x=[transf_perc[i,0],transf_imag[i,0]],y=[transf_perc[i,1],transf_imag[i,1]],color='grey')\n",
    "fig.savefig('spaces.png', dpi=300)"
   ]
  },
  {
   "cell_type": "code",
   "execution_count": null,
   "metadata": {},
   "outputs": [],
   "source": [
    "transf_perc"
   ]
  },
  {
   "cell_type": "code",
   "execution_count": null,
   "metadata": {},
   "outputs": [],
   "source": [
    "disparity\n"
   ]
  },
  {
   "cell_type": "code",
   "execution_count": null,
   "metadata": {},
   "outputs": [],
   "source": [
    "from scipy import stats\n",
    "print(acc_perc.shape)\n",
    "stats.pearsonr(acc_perc, acc_imag)"
   ]
  },
  {
   "cell_type": "code",
   "execution_count": null,
   "metadata": {},
   "outputs": [],
   "source": [
    "from scipy import stats\n",
    "print(squareform(aver_perc).shape)\n",
    "stats.pearsonr(squareform(aver_perc),squareform(aver_imag))"
   ]
  },
  {
   "cell_type": "code",
   "execution_count": null,
   "metadata": {},
   "outputs": [],
   "source": [
    "acc_perc.shape"
   ]
  },
  {
   "cell_type": "markdown",
   "metadata": {},
   "source": [
    "## Accuracy for perceptual corresponding to imagery and imagery faces"
   ]
  },
  {
   "cell_type": "code",
   "execution_count": 18,
   "metadata": {},
   "outputs": [],
   "source": [
    "%run EEG_auxiliary_module.ipynb\n",
    "%run general_tools.ipynb\n",
    "from scipy.spatial.distance import pdist, squareform\n",
    "import numpy as np\n",
    "import pandas as pd\n",
    "\n",
    "\n",
    "folder = 'C:\\\\Users\\\\nemrodov\\\\Documents\\\\Ilya_study\\\\Analysis'\n",
    "\n",
    "perc_ind=['02','03','04','05','06','07','08','09','10','11','12','13','14','15','17']\n",
    "imag_ind=['02','03','04','05','06','07','08','09','10','11','12','13','14','15','17']\n",
    "perc_file=[folder+'/conf_mat_perc_'+ i +'.csv' for i in perc_ind]\n",
    "imag_file=[folder+'/conf_IR_'+ i +'_imag.csv' for i in perc_ind]\n",
    "data = load_multiple_conf_mats(folder, perc_file, imag_file)\n",
    "perc_list = data[0]\n",
    "imag_list = data[1]\n",
    "perc_up_acc = []\n",
    "perc_in_acc = []\n",
    "imag_acc = []\n",
    "for i in range(len(perc_ind)):\n",
    "    mat = isolate_perc_as_imag(perc_list[i], imag_list[i])\n",
    "    imag_acc.append(np.mean(squareform(mat[1])))\n",
    "    perc_up_acc.append(np.mean(squareform(mat[0].iloc[:5,:5])))\n",
    "    perc_in_acc.append(np.mean(squareform(mat[0].iloc[-5:,-5:])))"
   ]
  },
  {
   "cell_type": "code",
   "execution_count": 19,
   "metadata": {},
   "outputs": [
    {
     "data": {
      "text/plain": [
       "[0.459090909090909,\n",
       " 0.5083333333333333,\n",
       " 0.5541666666666666,\n",
       " 0.4624999999999999,\n",
       " 0.575,\n",
       " 0.5791666666666666,\n",
       " 0.5875,\n",
       " 0.5458333333333333,\n",
       " 0.4999999999999999,\n",
       " 0.6916666666666665,\n",
       " 0.5666666666666667,\n",
       " 0.5333333333333333,\n",
       " 0.5708333333333333,\n",
       " 0.7,\n",
       " 0.675]"
      ]
     },
     "execution_count": 19,
     "metadata": {},
     "output_type": "execute_result"
    }
   ],
   "source": [
    "perc_in_acc"
   ]
  },
  {
   "cell_type": "code",
   "execution_count": null,
   "metadata": {},
   "outputs": [],
   "source": []
  }
 ],
 "metadata": {
  "kernelspec": {
   "display_name": "Python 3",
   "language": "python",
   "name": "python3"
  },
  "language_info": {
   "codemirror_mode": {
    "name": "ipython",
    "version": 3
   },
   "file_extension": ".py",
   "mimetype": "text/x-python",
   "name": "python",
   "nbconvert_exporter": "python",
   "pygments_lexer": "ipython3",
   "version": "3.7.5"
  }
 },
 "nbformat": 4,
 "nbformat_minor": 2
}
